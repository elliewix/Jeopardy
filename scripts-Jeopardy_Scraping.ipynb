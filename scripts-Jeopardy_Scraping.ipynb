{
 "metadata": {
  "name": "",
  "signature": "sha256:bc29eb4460fc8cbb2f1a2817b58e632088179778ba7976222abefc386309d102"
 },
 "nbformat": 3,
 "nbformat_minor": 0,
 "worksheets": [
  {
   "cells": [
    {
     "cell_type": "code",
     "collapsed": false,
     "input": [
      "import urllib2\n",
      "\n",
      "for i in range(4367,9115):\n",
      "    code = i\n",
      "    url = \"http://www.j-archive.com/showplayerstats.php?player_id=\" + str(code)\n",
      "    #filename = \"DropBox/python/JArchiveScrape/Player\" + str(code) + \".txt\"\n",
      "    filename = \"player\" + str(code) + \".txt\"\n",
      "    try:\n",
      "        file( \"players2/\" +filename, \"wb\").write(urllib2.urlopen(url).read())\n",
      "    except:\n",
      "        print \"player\",i,\"failed\""
     ],
     "language": "python",
     "metadata": {},
     "outputs": [],
     "prompt_number": 1
    },
    {
     "cell_type": "code",
     "collapsed": false,
     "input": [
      "print \"foo\""
     ],
     "language": "python",
     "metadata": {},
     "outputs": [
      {
       "output_type": "stream",
       "stream": "stdout",
       "text": [
        "foo\n"
       ]
      }
     ],
     "prompt_number": 5
    },
    {
     "cell_type": "code",
     "collapsed": false,
     "input": [
      "|"
     ],
     "language": "python",
     "metadata": {},
     "outputs": []
    }
   ],
   "metadata": {}
  }
 ]
}