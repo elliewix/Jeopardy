{
 "metadata": {
  "name": "",
  "signature": "sha256:0e5b6e33a5b8c3ec0c787a096b5d500e3531bacf838f30a21b75fa4e7158f66e"
 },
 "nbformat": 3,
 "nbformat_minor": 0,
 "worksheets": [
  {
   "cells": [
    {
     "cell_type": "code",
     "collapsed": false,
     "input": [
      "#various imports, etc.\n",
      "import re\n",
      "import csv\n",
      "from os import listdir\n",
      "from os.path import isfile, join"
     ],
     "language": "python",
     "metadata": {},
     "outputs": [],
     "prompt_number": 1
    },
    {
     "cell_type": "code",
     "collapsed": false,
     "input": [
      "# dump all text into one bigass string for quick checking\n",
      "with open('scripts-soccodes.csv','rU') as f:\n",
      "    soctext = f.read()\n"
     ],
     "language": "python",
     "metadata": {},
     "outputs": [],
     "prompt_number": 2
    },
    {
     "cell_type": "code",
     "collapsed": false,
     "input": [
      "#Opens the soccodes csv file and processes the rows into a list\n",
      "#Removes the last element of each row (not used for this project)\n",
      "soccodes = []\n",
      "with open('scripts-soccodes.csv','rU') as f:\n",
      "    f_csv = csv.reader(f)\n",
      "    headers = next(f_csv)\n",
      "    for row in f_csv:\n",
      "    \tsoccodes.append(row[:-1]) # killing off the last element in rows"
     ],
     "language": "python",
     "metadata": {},
     "outputs": [],
     "prompt_number": 3
    },
    {
     "cell_type": "code",
     "collapsed": false,
     "input": [
      "# Defining helper functions\n",
      "\n",
      "# pretty print a dictionary\n",
      "def printdict(dict):\n",
      "    for key, value in dict.iteritems():\n",
      "        print key, value\n",
      "        \n",
      "# function to find unique occupations\n",
      "# should update to require occ element position\n",
      "def finduniqueoccs(dict):\n",
      "    uniques= {}\n",
      "    for key,value in dict.iteritems():\n",
      "        if value[0] in uniques:\n",
      "            uniques[value[0]] +=1\n",
      "        else:\n",
      "            uniques[value[0]] = 1\n",
      "    return uniques\n",
      "\n",
      "# Filters through player dict and returns a dictionary with only\n",
      "# players with matching soccode results\n",
      "def filterdict(dict):\n",
      "    \"\"\"returns only players with occupation matches\"\"\"\n",
      "    clean = {}\n",
      "    for key, value in dict.iteritems():\n",
      "        if value[2] != False:\n",
      "            clean[key] = value\n",
      "    return clean\n",
      "\n",
      "# function to process the tallied list of occupations and return\n",
      "# a dictionary with occupations having num or more occurances\n",
      "def findmorethan(dict,num):\n",
      "    newdict = {}\n",
      "    for key, value in dict.iteritems():\n",
      "        if value >= num:\n",
      "            newdict[key] = value\n",
      "        else:\n",
      "            continue\n",
      "    return newdict\n",
      "\n",
      "# function to process playerdict and prepare it for csv output\n",
      "# format needs to be a list of dictionaries, key=header and value=value\n",
      "# [{head:value, head:value}]\n",
      "def prettyprintdict(dict,headers):\n",
      "    list = []\n",
      "    for key, value in dict.iteritems():\n",
      "        tempdict = {}\n",
      "        tempdict[headers[0]] = key\n",
      "        tempdict[headers[1]] = value[0]\n",
      "        tempdict[headers[2]] = value[1]\n",
      "        if value[2] == False:\n",
      "            tempdict[headers[3]] = False\n",
      "        else:\n",
      "            tempdict[headers[3]] = value[2][0]\n",
      "            tempdict[headers[4]] = value[2][1]\n",
      "            tempdict[headers[5]] = value[2][2]\n",
      "        list.append(tempdict)\n",
      "    return list\n",
      "\n",
      "def countFalses(dict):\n",
      "    falsesum = 0\n",
      "    seen = 0\n",
      "    for key,value in dict.iteritems():\n",
      "        if value[2] == False:\n",
      "            falsesum += 1\n",
      "        seen += 1\n",
      "    print \"falses seen\",falsesum,\"out of\",seen,\"yielding\",str(int((float(falsesum)/float(seen))*100))+\"%\", \"failure\"\n",
      "    \n",
      "def listfailures(dict):\n",
      "    countdict= {}\n",
      "    for key, value in dict.iteritems():\n",
      "        if value[2] != False: \n",
      "            continue\n",
      "        if value[0] in countdict:\n",
      "            countdict[value[0]] +=1\n",
      "        else:\n",
      "            countdict[value[0]] = 1\n",
      "    return countdict"
     ],
     "language": "python",
     "metadata": {},
     "outputs": [],
     "prompt_number": 4
    },
    {
     "cell_type": "code",
     "collapsed": false,
     "input": [
      "# Part 1: Construct player dictionary\n",
      "\n",
      "# read through the files, find the phrases, add them to a dictionary\n",
      "\n",
      "#find all the file names\n",
      "mypath = 'players2/'\n",
      "players = [ f for f in listdir(mypath) if isfile(join(mypath,f)) and f[0] != '.' ]\n",
      "\n",
      "#compile name and occ regex patterns\n",
      "occupation = re.compile(r'<p class=\"player_occupation_and_origin\">(?:an? *)?(.+?)(?:originally\\s*)?from.+?</p>',re.IGNORECASE)\n",
      "occupationfailed = re.compile(r'<p class=\"player_occupation_and_origin\">(.+?)</p>',re.IGNORECASE)\n",
      "name = re.compile(r'<p class=\"player_full_name\">(.+?)</p>',re.IGNORECASE)\n",
      "\n",
      "#create empty dictionary\n",
      "playerdict = {}\n",
      "\n",
      "#loop through the list of files\n",
      "for each in players:\n",
      "    #find the player number in the file name\n",
      "    playernum = re.findall(r'[0-9]+',each)[0]\n",
      "    #read through the file\n",
      "    with open(\"players2/\" + each,'rb') as player:\n",
      "        player = player.readlines()\n",
      "        # read through the lines\n",
      "        for each in player:\n",
      "            if 'player_occupation_and_origin' in each:\n",
      "                # create empty player record in the dictionary\n",
      "                playerdict[playernum] = []\n",
      "                try:\n",
      "                    try:\n",
      "                        # if the elegant regex doesn't snag anything\n",
      "                        playerdict[playernum].append(re.findall(occupation,each)[0].strip())\n",
      "                    except:\n",
      "                        # just snag all the things\n",
      "                        playerdict[playernum].append(re.findall(occupationfailed,each)[0].strip())\n",
      "                    # name just snags all the things\n",
      "                    playerdict[playernum].append(re.findall(name,each)[0].strip())\n",
      "                except:\n",
      "                    # if either occupation occupationfailed fail, mark as failed\n",
      "                    playerdict[playernum].append('FAILED')"
     ],
     "language": "python",
     "metadata": {},
     "outputs": [],
     "prompt_number": 5
    },
    {
     "cell_type": "code",
     "collapsed": false,
     "input": [
      "print len(soccodes)\n",
      "print len(playerdict)\n",
      "print len(playerdict['100'])\n",
      "\n",
      "for row in soccodes:\n",
      "    if row[0] == 'MiscTeacher':\n",
      "        print soccodes.index(row)\n",
      "        \n",
      "soccodes[6593]"
     ],
     "language": "python",
     "metadata": {},
     "outputs": [
      {
       "output_type": "stream",
       "stream": "stdout",
       "text": [
        "6597\n",
        "9112\n",
        "2\n",
        "6596\n"
       ]
      },
      {
       "metadata": {},
       "output_type": "pyout",
       "prompt_number": 9,
       "text": [
        "['GradStu', 'Graduate student', 'Graduate student']"
       ]
      }
     ],
     "prompt_number": 9
    },
    {
     "cell_type": "code",
     "collapsed": false,
     "input": [
      "\n",
      "\n",
      "# Part 2: Join Soccode information to the players\n",
      "\n",
      "# processing the players and soccodes together\n",
      "# will append the matching soc phrase to the player entry\n",
      "# if not found, will append False\n",
      "\n",
      "#looping through dictionary\n",
      "count = 0\n",
      "for key, value in playerdict.iteritems():\n",
      "    if len(value) > 2:\n",
      "        print \"Remake the playerdict\" #because this is using append, needs to not already have stuff\n",
      "        break\n",
      "    #boolean to see if a soccode has been found\n",
      "    found = False\n",
      "    #process through the soccode rows\n",
      "    count = 0\n",
      "    #if value[0] in soctext:\n",
      "    for row in soccodes:\n",
      "        # value[0] is the occ string for the human\n",
      "        # row[2] is the specific occ string in the soccodes\n",
      "        # lowercases both and checks for equality\n",
      "        if value[0].lower() == row[2].lower():\n",
      "            # if equal, add the soccode row to the player's record\n",
      "            playerdict[key].append(row)\n",
      "            # mark that is has been found\n",
      "            found = True\n",
      "            break\n",
      "        elif 'graduate student' in value[0].lower():\n",
      "            playerdict[key].append(soccodes[6593])\n",
      "            found = True\n",
      "            break\n",
      "        elif 'teacher' in value[0].lower():\n",
      "            playerdict[key].append(soccodes[6596])\n",
      "            found = True\n",
      "            break\n",
      "    if found == False:\n",
      "        # if finished looping through soccodes and not found, mark as false\n",
      "        playerdict[key].append(False)\n",
      "    print key, value\n",
      "#from pprint import pprint       \n",
      "#pprint(playerdict)\n",
      "\n",
      "countFalses(playerdict)"
     ],
     "language": "python",
     "metadata": {},
     "outputs": [
      {
       "output_type": "stream",
       "stream": "stdout",
       "text": [
        "5988 ['state fair coordinator', 'Peter Latouf', False]\n",
        "5989 ['park ranger', 'Evelyn Chester', False]\n",
        "5982 ['homemaker and volunteer', 'Sue Romberg', False]\n",
        "5983 ['lawyer', 'Alex Hooper', ['23-1011', 'Lawyers', 'Lawyer']]\n",
        "5980"
       ]
      },
      {
       "output_type": "stream",
       "stream": "stdout",
       "text": [
        " ['law student', 'Anthony Resnick', False]\n",
        "5981 ['software project manager', 'Stefanie Tomko', False]\n",
        "5986 ['graduate student', 'Daniel Wilkinson', ['GradStu', 'Graduate student', 'Graduate student']]\n",
        "5987 ['foreign service officer', 'Liz Murphy', False]\n",
        "5984"
       ]
      },
      {
       "output_type": "stream",
       "stream": "stdout",
       "text": [
        " ['tea salesman', 'Wright Polak', False]\n",
        "5985 ['United Methodist pastor', 'Melanie Baker-Streevy', False]\n",
        "6796 ['attorney', 'Elizabeth Richards', ['23-1011', 'Lawyers', 'Attorney']]\n",
        "6797 ['telecommunications consultant', 'Ken Starnes', False]\n",
        "6794"
       ]
      },
      {
       "output_type": "stream",
       "stream": "stdout",
       "text": [
        " ['fashion designer and TV personality', 'Isaac Mizrahi', False]\n",
        "6795 ['actress', 'Jane Curtin', ['27-2011', 'Actors', 'Actress']]\n",
        "6792 ['actor', 'Neil Patrick Harris', False]\n",
        "6793 ['actress', 'CCH Pounder', ['27-2011', 'Actors', 'Actress']]\n",
        "6790 ['author and actor', 'Hill Harper', False]\n",
        "6791"
       ]
      },
      {
       "output_type": "stream",
       "stream": "stdout",
       "text": [
        " [\"future Women's Basketball Hall of Famer and ESPN analyst\", 'Rebecca Lobo', False]\n",
        "6798 ['electrical engineer', 'Rick Reed', ['17-2071', 'Electrical Engineers', 'Electrical Engineer']]\n",
        "6799 [\"creative writing and women's studies student\", 'Amy Wilson', False]\n",
        "270 ['student', 'Joanne Chan', False]\n",
        "271 ['student', 'Robert Fielding', False]\n",
        "272"
       ]
      },
      {
       "output_type": "stream",
       "stream": "stdout",
       "text": [
        " ['office automation specialist', 'Robert Slaven', False]\n",
        "273 ['retired attorney', 'Richard Kaplan', False]\n",
        "274 ['retired military Air Force officer', 'John Kelly', False]\n",
        "275 ['copywriter', 'Pat Gmeiner', ['27-3043', 'Writers and Authors', 'Copywriter']]\n",
        "276 ['freelance photographer', 'David Burnett', False]\n",
        "277"
       ]
      },
      {
       "output_type": "stream",
       "stream": "stdout",
       "text": [
        " ['actuary', 'Bob Blake', False]\n",
        "278 ['college student', 'Brad Rutter', False]\n",
        "279 ['customer service representative', 'Regina Sutton', False]\n",
        "2143 ['computer consultant and trainer', 'Linda Lin', False]\n",
        "2142"
       ]
      },
      {
       "output_type": "stream",
       "stream": "stdout",
       "text": [
        " ['lexicographer', 'James Kossuth', False]\n",
        "3519 ['actor', 'Derek Doran-Wood', False]\n",
        "3518 ['music teacher and mom', 'Peggy Pancella', ['MiscTeacher', 'Teacher', 'Teacher']]\n",
        "3513 ['stay-at-home mom', 'Umiko Post', False]\n",
        "3512 ['graduate student', 'Aaron Yeater', ['GradStu', 'Graduate student', 'Graduate student']]\n",
        "3511 ['musician and graduate student', 'Shasa Dobrow', ['GradStu', 'Graduate student', 'Graduate student']]\n",
        "3510 ['law student', 'Andy Seff', False]\n",
        "3517 ['finish carpenter', 'Erik Rockom', ['47-2031', 'Carpenters', 'Finish Carpenter']]\n",
        "3516"
       ]
      },
      {
       "output_type": "stream",
       "stream": "stdout",
       "text": [
        " ['technical representative', 'Judy Taisch', False]\n",
        "3515 ['benefits consultant', 'Lori Wright', False]\n",
        "3514 ['technical writer', 'Lynda Del Genis', ['27-3042', 'Technical Writers', 'Technical Writer']]\n",
        "2688 ['financial secretary and bartender', 'Connie Toohey', False]\n",
        "2689"
       ]
      },
      {
       "output_type": "stream",
       "stream": "stdout",
       "text": [
        " ['purchasing manager', 'Jim Spilman', False]\n",
        "2684 ['teen novelist', 'Gillian Chan', False]\n",
        "2685 ['social worker', 'Susan Turi', False]\n",
        "2686 ['junior high school teacher', 'Monica Sousa', ['MiscTeacher', 'Teacher', 'Teacher']]\n",
        "2687 ['graduate student', 'Michael Green', ['GradStu', 'Graduate student', 'Graduate student']]\n",
        "2680 ['sales executive', 'Jack Campion', False]\n",
        "2681"
       ]
      },
      {
       "output_type": "stream",
       "stream": "stdout",
       "text": [
        " ['assistant professor', 'Chris Mazurek', False]\n",
        "2682 ['substitute teacher', 'Jason Stuart', ['MiscTeacher', 'Teacher', 'Teacher']]\n",
        "2683 ['youth minister', 'Joan Nelson', False]\n",
        "99 ['sophomore at St. John\\x92s University', 'Vicky Manos', False]\n",
        "98"
       ]
      },
      {
       "output_type": "stream",
       "stream": "stdout",
       "text": [
        " ['junior at Carnegie Mellon University', 'Kermin Fleming', False]\n",
        "91 ['graduate student', 'Ryan Cook', ['GradStu', 'Graduate student', 'Graduate student']]\n",
        "90 ['college student', 'Leo Wolpert', False]\n",
        "93 ['animator', 'Robert Kirkpatrick', ['27-1014', 'Multimedia Artists and Animators', 'Animator']]\n",
        "92 ['newspaper editor', 'Jennifer Peebles', False]\n",
        "95 ['graduate student', 'Jeff Hoppes', ['GradStu', 'Graduate student', 'Graduate student']]\n",
        "94 ['graduate student', 'Dave Oosterhuis', ['GradStu', 'Graduate student', 'Graduate student']]\n",
        "97 ['freshman at Davidson College', 'Amory Jendrek', False]\n",
        "96"
       ]
      },
      {
       "output_type": "stream",
       "stream": "stdout",
       "text": [
        " ['sophomore at the University of Maryland', 'Casey Retterer', False]\n",
        "1177 ['psychologist', 'Joel Silbert', False]\n",
        "1176 ['writer', 'Stuart Nadler', False]\n",
        "1175 ['office assistant', 'Paul Tavianini', ['43-9061', 'Office Clerks, General', 'Office Assistant']]\n",
        "1174 ['elementary school principal', 'Barbara Walker', ['11-9032', 'Education Administrators, Elementary and Secondary School', 'Elementary School Principal']]\n",
        "1173 ['attorney', 'Glenn Jessee', ['23-1011', 'Lawyers', 'Attorney']]\n",
        "1172 ['training specialist', 'Susan Goldsamt', ['13-1151', 'Training and Development Specialists', 'Training Specialist']]\n",
        "1171"
       ]
      },
      {
       "output_type": "stream",
       "stream": "stdout",
       "text": [
        " ['from Irvine, California...', 'Aman Birk', False]\n",
        "1170 ['from Roselle, Illinois...', 'Veronica Fazio', False]\n",
        "1179 ['private tutor', 'Kim Strassburger', False]\n",
        "1178 ['health care consultant', 'Luis Gutierrez', False]\n",
        "7188 ['language arts middle school teacher', 'Marty Christy', ['MiscTeacher', 'Teacher', 'Teacher']]\n",
        "7189"
       ]
      },
      {
       "output_type": "stream",
       "stream": "stdout",
       "text": [
        " ['stay at home mother', 'Mai Do-Burrous', False]\n",
        "877 ['structural engineer', 'Kate Morrical', ['17-2051', 'Civil Engineers', 'Structural Engineer']]\n",
        "7180 ['pizza maker', 'Johnny Marigliano', False]\n",
        "7181 ['college chemistry instructor', 'Jean Dupon', False]\n",
        "7182 ['poker impresario', 'Ron Roberts', False]\n",
        "7183"
       ]
      },
      {
       "output_type": "stream",
       "stream": "stdout",
       "text": [
        " ['night court clerk', 'Molly Rosenbusch', False]\n",
        "7184 ['medical student', 'Mike Huijon', False]\n",
        "7185 ['copy editor', 'Fred Cofone', ['27-3041', 'Editors', 'Copy Editor']]\n",
        "7186 ['proposal writer', 'Kristi Springer', False]\n",
        "7187 ['high school social studies teacher', 'Roger Mueller-Kim', ['MiscTeacher', 'Teacher', 'Teacher']]\n",
        "623 ['assistant editor', 'Fred Ramen', False]\n",
        "875 ['attorney', 'Jim Henderson', ['23-1011', 'Lawyers', 'Attorney']]\n",
        "622"
       ]
      },
      {
       "output_type": "stream",
       "stream": "stdout",
       "text": [
        " ['TV quiz show host', 'Brad Rutter', False]\n",
        "872 ['attorney', 'Jamie Ball', ['23-1011', 'Lawyers', 'Attorney']]\n",
        "621 ['Teen Tournament winner', 'Matt Zielenski', False]\n",
        "873 ['retired police sergeant', \"Jim O'Malley\", False]\n",
        "620 ['part-time teacher', 'Jim Vercolen', ['MiscTeacher', 'Teacher', 'Teacher']]\n",
        "8549 ['script reader', 'Tory Metzger', False]\n",
        "8548"
       ]
      },
      {
       "output_type": "stream",
       "stream": "stdout",
       "text": [
        " ['public librarian', 'Stacie Larson', False]\n",
        "8019 ['camp counselor and law student', 'John Matthews', False]\n",
        "8018 ['administrative assistant', 'Matt Bibb', False]\n",
        "8017 ['bookstore manager', 'Jennifer Hughs', False]\n",
        "627"
       ]
      },
      {
       "output_type": "stream",
       "stream": "stdout",
       "text": [
        " ['industrial training director', 'Bob Devlin', False]\n",
        "8015 ['assistant principal', 'Craig Chern', False]\n",
        "8014 ['opera singer and voice teacher', 'Martha Warren', ['MiscTeacher', 'Teacher', 'Teacher']]\n",
        "8013 ['graduate student of library science', 'Amanda Burton', ['GradStu', 'Graduate student', 'Graduate student']]\n",
        "8012 ['history professor', 'Stephanie Jass', False]\n",
        "8011 ['attorney', 'Clint Stiffler', ['23-1011', 'Lawyers', 'Attorney']]\n",
        "626 ['advertising copywriter', 'Claudia Wolfe', ['27-3043', 'Writers and Authors', 'Advertising Copywriter']]\n",
        "7456 ['lawyer', 'Andrew Bach', ['23-1011', 'Lawyers', 'Lawyer']]\n",
        "4592"
       ]
      },
      {
       "output_type": "stream",
       "stream": "stdout",
       "text": [
        " ['film student', 'Chad Belyeu', False]\n",
        "7454 ['university development writer', 'Maggie Diamond', False]\n",
        "7455 ['educator', 'Edgar Mihelic', False]\n",
        "7452 ['graduate student of meteorology', 'Tim Wagner', ['GradStu', 'Graduate student', 'Graduate student']]\n",
        "625 ['law firm purchasing agent', 'Ren\\xe9 Garcia', False]\n",
        "7450 ['attorney', 'Susan Gliner', ['23-1011', 'Lawyers', 'Attorney']]\n",
        "2036"
       ]
      },
      {
       "output_type": "stream",
       "stream": "stdout",
       "text": [
        " ['consultant', 'Amy Rosier', False]\n",
        "624 ['consultant', 'Brian Weikle', False]\n",
        "4590 ['solar energy lobbyist and grad student', 'Noah Kaye', False]\n",
        "7458 ['graduate student in mathematics education', 'Ryan Fox', ['GradStu', 'Graduate student', 'Graduate student']]\n",
        "7459 ['geographic information systems analyst', 'Amy George', False]\n",
        "4591"
       ]
      },
      {
       "output_type": "stream",
       "stream": "stdout",
       "text": [
        " ['homemaker and former attorney', 'Susan Forman', False]\n",
        "2745 ['law librarian', 'Bruce Naegeli', ['25-4021', 'Librarians', 'Law Librarian']]\n",
        "4849 ['pilot', 'Eddie Gillan', False]\n",
        "4594 ['homemaker and freelance editor', 'Christa Franklin Ishino', False]\n",
        "4595 ['law student', 'Emily Ullman', False]\n",
        "2749"
       ]
      },
      {
       "output_type": "stream",
       "stream": "stdout",
       "text": [
        " ['part-time newsstand clerk', 'Lionel Goldbart', False]\n",
        "4845 ['assistant district attorney', 'Kitty Estopinal', False]\n",
        "4598 ['schoolteacher', 'Buffy Thoms', ['MiscTeacher', 'Teacher', 'Teacher']]\n",
        "8291 ['meterologist and graduate student', 'Ryan Truchelut', ['GradStu', 'Graduate student', 'Graduate student']]\n",
        "4599 ['financial manager', 'Michael Guard', False]\n",
        "4734"
       ]
      },
      {
       "output_type": "stream",
       "stream": "stdout",
       "text": [
        " ['university administrator and event planner', 'Jake Marini', False]\n",
        "8290 ['managing editor', 'Anne Ellis', False]\n",
        "4735 ['U.S. Air Force pilot', 'Tim Bobinski', False]\n",
        "8293 ['office supply sales assistant', 'Rebecca Rider', False]\n",
        "8292"
       ]
      },
      {
       "output_type": "stream",
       "stream": "stdout",
       "text": [
        " ['court officer lieutenant', 'Tom Carroll', False]\n",
        "2039 ['attorney', 'Ben Martin', ['23-1011', 'Lawyers', 'Attorney']]\n",
        "8295 ['graduate student', 'Cindy Cullen', ['GradStu', 'Graduate student', 'Graduate student']]\n",
        "2038 ['immigration counselor', 'Tanya Knight', False]\n",
        "4738 ['freelance editor and graphic designer', 'Mandy Loy', False]\n",
        "8294"
       ]
      },
      {
       "output_type": "stream",
       "stream": "stdout",
       "text": [
        " ['Congressional attorney', 'Brian Daner', False]\n",
        "4739 ['Ph.D. student in French studies', 'Chris Flood', False]\n",
        "8297 ['independent filmmaker', 'Michael Carvaines', False]\n",
        "1987"
       ]
      },
      {
       "output_type": "stream",
       "stream": "stdout",
       "text": [
        " ['interactive project manager', 'Tricia Barreiro', False]\n",
        "8296 ['advertising executive', 'Jim Weinstein', ['11-2011', 'Advertising and Promotions Managers', 'Advertising Executive']]\n",
        "393 ['executive secretary', 'Ann Taliaferro Curtaz', False]\n",
        "392 ['research attorney', 'Rick Blumenfeld', False]\n",
        "391 ['school librarian', 'Ron Jin', ['25-4021', 'Librarians', 'School Librarian']]\n",
        "390 ['attorney', 'Michael Dup\\xe9e', ['23-1011', 'Lawyers', 'Attorney']]\n",
        "397 ['civil servant', 'Barbara-Anne Eddy', False]\n",
        "396"
       ]
      },
      {
       "output_type": "stream",
       "stream": "stdout",
       "text": [
        " ['plumbing contractor', 'Lindsay Peet', False]\n",
        "395 ['customer service representative', 'Christian De Jong', False]\n",
        "394 ['college instructor', 'Michael Rooney', False]\n",
        "399"
       ]
      },
      {
       "output_type": "stream",
       "stream": "stdout",
       "text": [
        " ['retired Air Force officer', 'John Kelly', False]\n",
        "398 ['writer', 'Ryan Holznagel', False]\n",
        "2309 ['professor', 'Jeff Kohlberg', False]\n",
        "2308 ['editor', 'Julie Dock', False]\n",
        "4729"
       ]
      },
      {
       "output_type": "stream",
       "stream": "stdout",
       "text": [
        " ['software developer', 'Robin Woods', False]\n",
        "4728 ['freelance magazine writer', 'Gretchen Wahl', False]\n",
        "2301 ['software quality analyst', 'Bob Bearse', False]\n",
        "2300 ['composer and graduate student', 'Jonathan Santore', ['GradStu', 'Graduate student', 'Graduate student']]\n",
        "2303 ['graphic designer', 'Peter Gay', ['27-1024', 'Graphic Designers', 'Graphic Designer']]\n",
        "2302"
       ]
      },
      {
       "output_type": "stream",
       "stream": "stdout",
       "text": [
        " ['political science student', 'Matt Giers', False]\n",
        "2305 ['computer consultant', 'Mark Wasley', False]\n",
        "2304 ['director of banquets', 'Steven McKenna', False]\n",
        "2307 ['programmer analyst', 'Fred Andrus', ['15-1121', 'Computer Systems Analysts', 'Programmer Analyst']]\n",
        "2306 ['public relations consultant', 'Maggie Walker', False]\n",
        "5847"
       ]
      },
      {
       "output_type": "stream",
       "stream": "stdout",
       "text": [
        " ['homemaker', 'Jennifer Pasche', False]\n",
        "5846 ['student', 'Ayesha Black', False]\n",
        "5845 ['production assistant', 'Andrew Woolsey', False]\n",
        "5844 ['journalist', 'James Pethokoukis', False]\n",
        "5843"
       ]
      },
      {
       "output_type": "stream",
       "stream": "stdout",
       "text": [
        " ['software engineer', 'Amanda Waterman', False]\n",
        "5842 ['attorney', 'Todd Hellman', ['23-1011', 'Lawyers', 'Attorney']]\n",
        "5841 ['architect', 'Richard Wiggs', False]\n",
        "5840 ['medical editor', 'Sarah Smee', False]\n",
        "5849 ['associate professor', 'Laura Dickinson', False]\n",
        "5848"
       ]
      },
      {
       "output_type": "stream",
       "stream": "stdout",
       "text": [
        " ['account manager', 'Thom Morrissey', False]\n",
        "3748 ['government representative', 'Anthony DiMarco', False]\n",
        "3749 ['systems developer', 'Nicole Stouder', False]\n",
        "3746 ['lawyer', 'Lenore Garon', ['23-1011', 'Lawyers', 'Lawyer']]\n",
        "3747 ['communications director', 'Beth White', False]\n",
        "3744"
       ]
      },
      {
       "output_type": "stream",
       "stream": "stdout",
       "text": [
        " ['retail manager', \"Sharon O'Quinn\", False]\n",
        "3745 ['marriage educator', 'Jamil Muhammad', False]\n",
        "3742 ['business manager', 'Bill Wilson', False]\n",
        "3743 ['legal technology manager', 'Carol Gerber', False]\n",
        "3740"
       ]
      },
      {
       "output_type": "stream",
       "stream": "stdout",
       "text": [
        " ['librarian', 'Rebecca Fisher', False]\n",
        "3741 ['high school teacher', 'Ken Boulton', ['MiscTeacher', 'Teacher', 'Teacher']]\n",
        "4620 ['software engineer', 'Eugene Hung', False]\n",
        "4621 ['historic preservationist', 'Andrew Sprouse', False]\n",
        "4622 ['law student', 'Arianna Kelly', False]\n",
        "4623"
       ]
      },
      {
       "output_type": "stream",
       "stream": "stdout",
       "text": [
        " ['culinary student', 'Brandon Jones', False]\n",
        "4624 ['science teacher', 'Stephen Fineman', ['MiscTeacher', 'Teacher', 'Teacher']]\n",
        "4625 ['sales associate', 'Chris Dixon', False]\n",
        "4626 ['public affairs specialist', 'Jennah Durant', False]\n",
        "4627"
       ]
      },
      {
       "output_type": "stream",
       "stream": "stdout",
       "text": [
        " ['Sunday school director', 'Lisa Fritsche', False]\n",
        "4628 ['student', 'Dave Hampton', False]\n",
        "4629 ['upper-school history teacher', 'Laura Bowen', ['MiscTeacher', 'Teacher', 'Teacher']]\n",
        "179 ['bartender', 'Paul Boyer', ['35-3011', 'Bartenders', 'Bartender']]\n",
        "178 ['index editor', 'Pat Healy', ['27-3041', 'Editors', 'Index Editor']]\n",
        "177 ['system manager', 'Stephen McNamara', False]\n",
        "176"
       ]
      },
      {
       "output_type": "stream",
       "stream": "stdout",
       "text": [
        " ['pollution control board member', 'Kathleen Hennessey', False]\n",
        "175 ['recent law school graduate', 'Catherine Ewen', False]\n",
        "174 ['visual merchandiser', 'Bill Unterborn', ['27-1026', 'Merchandise Displayers and Window Trimmers', 'Visual Merchandiser']]\n",
        "173 ['data coordinator', 'Eric Swanson', False]\n",
        "172 ['sixth grade teacher', 'Cathy Shambaugh', ['MiscTeacher', 'Teacher', 'Teacher']]\n",
        "171 ['lawyer', 'Zeke Sevilla, Jr.', ['23-1011', 'Lawyers', 'Lawyer']]\n",
        "170 ['attorney', 'Keith Walker', ['23-1011', 'Lawyers', 'Attorney']]\n",
        "7218 ['sophomore', 'Lindsey Thiesfeld', False]\n",
        "7219"
       ]
      },
      {
       "output_type": "stream",
       "stream": "stdout",
       "text": [
        " ['junior', 'Idrees Kahloon', False]\n",
        "7210 ['junior', 'Kate Wadman', False]\n",
        "7211 ['senior', 'Christian Ie', False]\n",
        "7212 ['sophomore', 'Kailyn LaPorte', False]\n",
        "7213 ['junior', 'Steven Ho', False]\n",
        "7214 ['sophomore', 'Raphie Cantor', False]\n",
        "7215"
       ]
      },
      {
       "output_type": "stream",
       "stream": "stdout",
       "text": [
        " ['junior', 'Andrew Van Duyn', False]\n",
        "7216 ['junior', 'Raya Elias-Pushett', False]\n",
        "7217 ['junior', 'Nikhil Desai', False]\n",
        "6217 ['actor', 'Ashton Kutcher', False]\n",
        "6216 ['actress', 'Julie Bowen', ['27-2011', 'Actors', 'Actress']]\n",
        "6215 ['comedian and actor', 'Hal Sparks', False]\n",
        "6214"
       ]
      },
      {
       "output_type": "stream",
       "stream": "stdout",
       "text": [
        " ['host and actress', 'Paige Davis', False]\n",
        "6213 ['musician', 'Henok Kebede', ['27-2042', 'Musicians and Singers', 'Musician']]\n",
        "6212 ['editorial assistant', \"Clare O'Keeffe\", ['43-9081', 'Proofreaders and Copy Markers', 'Editorial Assistant']]\n",
        "6211 ['gift card production designer', 'Alyssa McRae', False]\n",
        "6210 ['actor', 'John Hashop', False]\n",
        "6219"
       ]
      },
      {
       "output_type": "stream",
       "stream": "stdout",
       "text": [
        " ['actor, comedian and singer', 'Wayne Brady', False]\n",
        "6218 ['actress', 'Vivica A. Fox', ['27-2011', 'Actors', 'Actress']]\n",
        "6819 ['operations engineer', 'Buddy Wright', False]\n",
        "6818 ['art history graduate student', 'Alexandra Helprin', ['GradStu', 'Graduate student', 'Graduate student']]\n",
        "6811 ['enologist', 'Randall Johnson', ['19-1012', 'Food Scientists and Technologists', 'Enologist']]\n",
        "6810 ['software consultant', 'Kevin Porter', False]\n",
        "6813 ['office manager', 'Brett Garner', False]\n",
        "6812"
       ]
      },
      {
       "output_type": "stream",
       "stream": "stdout",
       "text": [
        " ['content coordinator', 'Gabe Hernandez', False]\n",
        "6815 ['freelance story analyst', 'Francis Hambidge', False]\n",
        "6814 ['pre-med student', 'Megan Kardine', False]\n",
        "6817 ['stamp dealer', 'Marvin Shinkman', False]\n",
        "6816"
       ]
      },
      {
       "output_type": "stream",
       "stream": "stdout",
       "text": [
        " ['student', 'Robert Wargo', False]\n",
        "1115 ['medical communications consultant', 'Thaddeus Grimes-Gruczka', False]\n",
        "8913 ['academic director for a test preparation company', 'Bob Verini', False]\n",
        "8848"
       ]
      },
      {
       "output_type": "stream",
       "stream": "stdout",
       "text": [
        " ['merchandising manager', 'Lee May', False]\n",
        "8849 ['attorney', 'Ilissa Gold', ['23-1011', 'Lawyers', 'Attorney']]\n",
        "8840 ['academic tutor and performer', 'Rachel Samberg', False]\n",
        "8841 ['project coordinator', 'Sarah Olson', False]\n",
        "8842"
       ]
      },
      {
       "output_type": "stream",
       "stream": "stdout",
       "text": [
        " ['documentary-film editor', 'Mary Manhardt', False]\n",
        "8843 ['teacher and author', 'Eric Brach', ['MiscTeacher', 'Teacher', 'Teacher']]\n",
        "8844 ['antiquarian bookseller', 'Andrew Nelson', False]\n",
        "8845 ['workforce development manager', 'Carolyn Gawlik', False]\n",
        "8846"
       ]
      },
      {
       "output_type": "stream",
       "stream": "stdout",
       "text": [
        " ['vice president of production', 'Julia Dye', False]\n",
        "8847 ['postdoctoral fellow and university lecturer', 'Dinu Nesan', False]\n",
        "8915 ['attorney', 'Tom Cubbage', ['23-1011', 'Lawyers', 'Attorney']]\n",
        "7669 ['university librarian', 'Emily Kelly', ['25-4021', 'Librarians', 'University Librarian']]\n",
        "7668 ['business news writer', 'Bruce Vale', False]\n",
        "7661"
       ]
      },
      {
       "output_type": "stream",
       "stream": "stdout",
       "text": [
        " ['poker dealer', 'Kirby Burnett', ['39-3011', 'Gaming Dealers', 'Poker Dealer']]\n",
        "7660 ['writer and trivia hostess', 'Molly Newman', False]\n",
        "7663 ['attorney', \"Sean O'Connor\", ['23-1011', 'Lawyers', 'Attorney']]\n",
        "7662 ['graduate student in museum studies', 'Elizabeth Edwards', ['GradStu', 'Graduate student', 'Graduate student']]\n",
        "7665 ['financial analyst', 'Taylor Cope', False]\n",
        "7664"
       ]
      },
      {
       "output_type": "stream",
       "stream": "stdout",
       "text": [
        " ['social enterprise lawyer', 'Christen Lee', False]\n",
        "7667 ['former video store owner', 'Rhonda Hammons', False]\n",
        "7666 ['soldier and a physician', 'Brendan Graham', False]\n",
        "1768 ['legal assistant', \"Maura O'Keefe\", ['23-2011', 'Paralegals and Legal Assistants', 'Legal Assistant']]\n",
        "1769 ['electrical engineer', 'Nemanja Dundjerovic', ['17-2071', 'Electrical Engineers', 'Electrical Engineer']]\n",
        "1762 ['lawyer', 'Sharon Doodian', ['23-1011', 'Lawyers', 'Lawyer']]\n",
        "1763 ['mathematics teacher', 'Allen Upchurch', ['MiscTeacher', 'Teacher', 'Teacher']]\n",
        "1760"
       ]
      },
      {
       "output_type": "stream",
       "stream": "stdout",
       "text": [
        " ['graduate teaching assistant', 'Piper Huguley', False]\n",
        "1761 ['medical student', 'Sinan Turnacioglu', False]\n",
        "1766 ['college professor', 'Patty Leginus', False]\n",
        "1767 ['security officer', 'Phillip Steele', ['33-9032', 'Security Guards', 'Security Officer']]\n",
        "1764 ['executive assistant', 'Jessica Ginsburg', ['43-6011', 'Executive Secretaries and Executive Administrative Assistants', 'Executive Assistant']]\n",
        "1765 ['attorney', 'Mark Sheehan', ['23-1011', 'Lawyers', 'Attorney']]\n",
        "1546 ['teacher', 'Tawney Pearson', ['MiscTeacher', 'Teacher', 'Teacher']]\n",
        "1547 ['accountant', 'Brick Barrientos', ['13-2011', 'Accountants and Auditors', 'Accountant']]\n",
        "1544"
       ]
      },
      {
       "output_type": "stream",
       "stream": "stdout",
       "text": [
        " ['video buyer', 'David Achar', False]\n",
        "1545 ['housewife', 'Susan Lee', False]\n",
        "1542 ['attorney', 'Joanna Stromberg', ['23-1011', 'Lawyers', 'Attorney']]\n",
        "1543 ['travel marketer', 'Dave Halliday', False]\n",
        "1540 ['law student', 'Gerard Magliocca', False]\n",
        "1541 ['systems analyst', 'Linda Desmond', False]\n",
        "698"
       ]
      },
      {
       "output_type": "stream",
       "stream": "stdout",
       "text": [
        " ['grocery store cashier', 'Sara Maikowski', False]\n",
        "699 ['industrial sculptor', 'Leland Kennedy', False]\n",
        "1548 ['attorney', 'Ken Rosenau', ['23-1011', 'Lawyers', 'Attorney']]\n",
        "1549 ['consultant', 'Jared Poppel', False]\n",
        "8710 ['writer', 'Fidelito Cortes', False]\n",
        "8711 ['accountant', 'Elisabeth Houlik', ['13-2011', 'Accountants and Auditors', 'Accountant']]\n",
        "8712 ['attorney', 'Rich Hansen', ['23-1011', 'Lawyers', 'Attorney']]\n",
        "8713 ['graduate student in media studies', 'A. C. Hawley', ['GradStu', 'Graduate student', 'Graduate student']]\n",
        "8714 ['college librarian', 'Cori Wilhelm', ['25-4021', 'Librarians', 'College Librarian']]\n",
        "8715"
       ]
      },
      {
       "output_type": "stream",
       "stream": "stdout",
       "text": [
        " ['architect', 'Damian Henri', False]\n",
        "8716 ['web producer', 'Jason Idalski', False]\n",
        "8717 ['preschool teacher', 'Erin Hoesly', ['MiscTeacher', 'Teacher', 'Teacher']]\n",
        "8718 ['anthropologist', 'Mary Murrell', ['19-3091', 'Anthropologists and Archeologists', 'Anthropologist']]\n",
        "8719 ['restaurant manager', 'Kathy Johnson', False]\n",
        "1982 ['software engineer', 'Michael Cryer', False]\n",
        "5618"
       ]
      },
      {
       "output_type": "stream",
       "stream": "stdout",
       "text": [
        " ['retirement representative', 'Kari Caven', False]\n",
        "5619 ['appraiser', 'Charlotte Renshaw', False]\n",
        "5612 ['lab instructor', 'Erin Haramoto', False]\n",
        "5613 ['recent grad', 'Durant Gipson', False]\n",
        "5610 ['management analyst', 'Ty Walker', ['13-1111', 'Management Analysts', 'Management Analyst']]\n",
        "5611"
       ]
      },
      {
       "output_type": "stream",
       "stream": "stdout",
       "text": [
        " ['U.S. Navy flight officer', 'Carl Brady', False]\n",
        "5616 ['writer and actor', 'Jeff Fowler', False]\n",
        "5617 ['Boys & Girls Club director', 'Joe Ingoglia', False]\n",
        "5614 ['graduate student', 'Rich Reddick', ['GradStu', 'Graduate student', 'Graduate student']]\n",
        "5615 ['lawyer', 'Susan Jensen', ['23-1011', 'Lawyers', 'Lawyer']]\n",
        "7116"
       ]
      },
      {
       "output_type": "stream",
       "stream": "stdout",
       "text": [
        " ['search engine optimization writer', 'Teresa Lane', False]\n",
        "4668 ['freshman', 'Melissa Luttmann', False]\n",
        "7118 ['eco-tour guide', 'Bob Fulmer', False]\n",
        "6778 ['student and volunteer', 'Conor Collins', False]\n",
        "6779"
       ]
      },
      {
       "output_type": "stream",
       "stream": "stdout",
       "text": [
        " ['administrative assistant', 'Karla Ruksys', False]\n",
        "6774 ['high school guidance counselor', 'Nancy West', False]\n",
        "6775 ['mechanical engineer', 'Brandon Hathaway', ['17-2141', 'Mechanical Engineers', 'Mechanical Engineer']]\n",
        "6776 ['elementary school science teacher', 'Emily Bryk', ['MiscTeacher', 'Teacher', 'Teacher']]\n",
        "6777 ['guybrarian', 'David Hoskins', False]\n",
        "6770 ['graduate student and swim coach', 'Jessica Trudeau', ['GradStu', 'Graduate student', 'Graduate student']]\n",
        "6771 ['real estate appraiser', 'Ken Burke', ['13-2021', 'Appraisers and Assessors of Real Estate', 'Real Estate Appraiser']]\n",
        "6772 ['refinery planning manager', 'Gary Gambino', False]\n",
        "6773"
       ]
      },
      {
       "output_type": "stream",
       "stream": "stdout",
       "text": [
        " ['mom', 'Laura Hughes', False]\n",
        "4664 ['stay-at-home mom', 'Aileen Hawkins', False]\n",
        "3580 ['attorney', 'Michael Bandiera', ['23-1011', 'Lawyers', 'Attorney']]\n",
        "258 ['senior', 'Chlo\\xe9 White', False]\n",
        "259 ['senior', 'Peter Severson', False]\n",
        "252 ['materials scientist', 'Leszek Pawlowicz', ['19-2032', 'Materials Scientists', 'Materials Scientist']]\n",
        "253 ['writer', 'Jerome Vered', False]\n",
        "250"
       ]
      },
      {
       "output_type": "stream",
       "stream": "stdout",
       "text": [
        " ['sophomore', 'Caitlin Cook', False]\n",
        "251 ['graduate student', 'Bruce Simmons', ['GradStu', 'Graduate student', 'Graduate student']]\n",
        "256 ['lawyer', 'Rich Lerner', ['23-1011', 'Lawyers', 'Lawyer']]\n",
        "257 ['junior', 'Orlando Zambrano', False]\n",
        "254 ['computer operations analyst', 'Bruce Cox', False]\n",
        "255"
       ]
      },
      {
       "output_type": "stream",
       "stream": "stdout",
       "text": [
        " [\"student and winner of last year's Teen Tournament\", 'Eric Newhouse', False]\n",
        "4665 ['junior', 'Nick Philip', False]\n",
        "3689 ['junior', 'Alice Luo', False]\n",
        "3688 ['junior', 'Dean Malec', False]\n",
        "3683 ['from Columbus, Ohio...', 'Sue Wright', False]\n",
        "3682"
       ]
      },
      {
       "output_type": "stream",
       "stream": "stdout",
       "text": [
        " ['from Alabama...', 'George Keller', False]\n",
        "3681 ['attorney', 'Peter Dunne', ['23-1011', 'Lawyers', 'Attorney']]\n",
        "3680 ['construction estimator', 'Tom Sims', ['13-1051', 'Cost Estimators', 'Construction Estimator']]\n",
        "3687 ['junior', 'Haritha Sudanagunta', False]\n",
        "3686 ['international trade analyst', 'Dana Mermelstein', False]\n",
        "3685 ['freelance writer', 'Barbara James', False]\n",
        "3684"
       ]
      },
      {
       "output_type": "stream",
       "stream": "stdout",
       "text": [
        " ['project manager', 'Andrew Garen', False]\n",
        "2518 ['mother of twins', 'Lindley Henson', False]\n",
        "2519 ['production assistant', 'Jay Marx', False]\n",
        "2514 ['physics research intern', 'Robert Gomma', False]\n",
        "2515"
       ]
      },
      {
       "output_type": "stream",
       "stream": "stdout",
       "text": [
        " ['writer', 'Lou Bayard', False]\n",
        "2516 ['English teacher', 'Jennifer Czechowski', ['MiscTeacher', 'Teacher', 'Teacher']]\n",
        "2517 ['advertising manager', 'Peter Scott', ['11-2011', 'Advertising and Promotions Managers', 'Advertising Manager']]\n",
        "2510 ['program director', 'Timothy Benston', False]\n",
        "2511 ['structural engineer', 'Matt Thomas', ['17-2051', 'Civil Engineers', 'Structural Engineer']]\n",
        "2512 ['publishing data manager', 'Meighan Larbi', False]\n",
        "2513 ['librarian', 'Mary Plews', False]\n",
        "3531 ['physical therapist', 'Rod Bain', ['29-1123', 'Physical Therapists', 'Physical Therapist']]\n",
        "3530"
       ]
      },
      {
       "output_type": "stream",
       "stream": "stdout",
       "text": [
        " ['mortgage loan analyst', 'Jason Sass', False]\n",
        "3533 ['teacher assistant', 'Heidi Wakeman', ['MiscTeacher', 'Teacher', 'Teacher']]\n",
        "3532 ['software tester', 'Nathan Chan', False]\n",
        "3535 ['writer', 'Vicki Aken', False]\n",
        "3534 ['German teacher', 'Lisa Kerwin', ['MiscTeacher', 'Teacher', 'Teacher']]\n",
        "3537 ['practice support coordinator', 'Jonathan Cole', False]\n",
        "3536"
       ]
      },
      {
       "output_type": "stream",
       "stream": "stdout",
       "text": [
        " ['freelance tutor', 'Ellen Green', False]\n",
        "5054 ['author and pirate', 'John Baur', False]\n",
        "3538 ['production coordinator', 'Christina Kim', False]\n",
        "5056"
       ]
      },
      {
       "output_type": "stream",
       "stream": "stdout",
       "text": [
        " ['junior at Barton College', 'Grace Lansangan', False]\n",
        "5057 ['sophomore at MIT', 'Alex Weathers', False]\n",
        "5050 ['researcher', 'Dorothy Farrell', False]\n",
        "5051 ['real estate developer', 'Tom Koch', False]\n",
        "5052 ['graduate student', 'Darrin Gershman', ['GradStu', 'Graduate student', 'Graduate student']]\n",
        "5053"
       ]
      },
      {
       "output_type": "stream",
       "stream": "stdout",
       "text": [
        " ['business information analyst', 'Kathleen Ryan', False]\n",
        "1159 ['from West Chester, Pennsylvania...', 'Charlotte Darby', False]\n",
        "1158 ['from Williamsville, New York...', 'Jon Er', False]\n",
        "1155 ['attorney', 'Betty Fernandez', ['23-1011', 'Lawyers', 'Attorney']]\n",
        "1154"
       ]
      },
      {
       "output_type": "stream",
       "stream": "stdout",
       "text": [
        " ['instructional designer', 'Robin Carroll', False]\n",
        "1157 ['from Escondido, California...', 'Matt Tick', False]\n",
        "1156 ['training specialist', 'Al Brokos', ['13-1151', 'Training and Development Specialists', 'Training Specialist']]\n",
        "1151 ['from Montgomery, Texas...', 'Madison Ball', False]\n",
        "1150 ['from Derwood, Maryland...', 'Brady Newell', False]\n",
        "1153"
       ]
      },
      {
       "output_type": "stream",
       "stream": "stdout",
       "text": [
        " ['actor and copy editor', 'India Cooper', False]\n",
        "1152 ['history professor at Prairie View A&M University', 'Babu Srinivasan', False]\n",
        "8035 ['attorney', 'Deepa Zavatsky', ['23-1011', 'Lawyers', 'Attorney']]\n",
        "8034 ['e-commerce consultant', 'Susan Petracco', False]\n",
        "8037"
       ]
      },
      {
       "output_type": "stream",
       "stream": "stdout",
       "text": [
        " ['bakery owner and caterer', 'Sarah Hayden Williams', False]\n",
        "8036 ['research chemist', 'Keith Whitener', False]\n",
        "8031 ['volunteer storyteller', 'Betsy Chisolm', False]\n",
        "8030 [\"teacher's aide and tutor\", \"Abby O'Reilly\", ['MiscTeacher', 'Teacher', 'Teacher']]\n",
        "8033 ['chemical engineer', 'Martin Powell', False]\n",
        "8032 ['manufacturing engineer', 'Tim Callo', ['17-2112', 'Industrial Engineers', 'Manufacturing Engineer']]\n",
        "8039"
       ]
      },
      {
       "output_type": "stream",
       "stream": "stdout",
       "text": [
        " ['grocery merchandiser', 'Meredith Bateman', False]\n",
        "8038 ['medical magazine editor', 'Erik Greb', False]\n",
        "8529 ['college administrator', 'Justin Culkowski', False]\n",
        "8528 ['sales representative', 'Sheila Halko', False]\n",
        "8523"
       ]
      },
      {
       "output_type": "stream",
       "stream": "stdout",
       "text": [
        " ['attorney', 'Ray Agran', ['23-1011', 'Lawyers', 'Attorney']]\n",
        "8522 ['I.T. consultant', 'Ben Ingram', False]\n",
        "8521 ['administrative assistant', 'Jacob Laux', False]\n",
        "8520 ['legislative assistant', 'Jonathan Fellows', False]\n",
        "8527"
       ]
      },
      {
       "output_type": "stream",
       "stream": "stdout",
       "text": [
        " ['legislative aide', 'Dan Weber', False]\n",
        "8526 ['homemaker', 'Sandra Ferkol', False]\n",
        "8525 ['political analyst', 'Rick Grimes', False]\n",
        "8524 ['financial analyst', 'Leif Torkelsen', False]\n",
        "8536"
       ]
      },
      {
       "output_type": "stream",
       "stream": "stdout",
       "text": [
        " ['orthopedic nurse', 'Alice Kelly', False]\n",
        "4299 ['account planning manager', 'Kelly Sherer', False]\n",
        "4298 ['junior at Ithaca College', 'Peter Breeze', False]\n",
        "4295"
       ]
      },
      {
       "output_type": "stream",
       "stream": "stdout",
       "text": [
        " ['senior at Brandeis University', 'Julia Becker', False]\n",
        "4294 ['freshman at Cooper Union', 'Milo Dochow', False]\n",
        "4297 ['junior at UCLA', 'Anita Brkic', False]\n",
        "4296 ['sophomore at Albion College', 'Kurt Medland', False]\n",
        "4291"
       ]
      },
      {
       "output_type": "stream",
       "stream": "stdout",
       "text": [
        " ['senior at Florida A&M', 'Natalie Tindall', False]\n",
        "4290 ['sophomore at Eastern Michigan', 'Michael LaMasse', False]\n",
        "4293"
       ]
      },
      {
       "output_type": "stream",
       "stream": "stdout",
       "text": [
        " ['sophomore at the University of Illinois', 'Gina Bronsberg', False]\n",
        "4292 ['senior at Georgetown University', 'Adam Center', False]\n",
        "4749 ['attorney', 'Glen Segal', ['23-1011', 'Lawyers', 'Attorney']]\n",
        "4748 ['college student', 'Kristina Caffrey', False]\n",
        "1324 ['aerospace systems engineer', 'Leo Jones', False]\n",
        "4743 ['actor and teacher', 'Will McLaughlin', ['MiscTeacher', 'Teacher', 'Teacher']]\n",
        "4742"
       ]
      },
      {
       "output_type": "stream",
       "stream": "stdout",
       "text": [
        " ['salesperson', 'Hillary Wootton', False]\n",
        "4741 ['insurance specialist', 'Jason Kaczor', False]\n",
        "4740 ['physician', 'Phil Hornbostel', False]\n",
        "4747 ['homeschool mom', 'Ren\\xe9e Mathis', False]\n",
        "4746 ['real estate broker', 'Grant Garrigan', ['41-9021', 'Real Estate Brokers', 'Real Estate Broker']]\n",
        "4745 ['substitute teacher and farmer', 'Ellen Eden', ['MiscTeacher', 'Teacher', 'Teacher']]\n",
        "4744"
       ]
      },
      {
       "output_type": "stream",
       "stream": "stdout",
       "text": [
        " ['law student', 'Trevor Burrus', False]\n",
        "5869 ['senior', 'Jonathan Gillerman', False]\n",
        "5868 ['senior', 'Ben Swartz', False]\n",
        "5865 ['senior', 'Tara Karr', False]\n",
        "5864 ['freshman', 'Joel Knight', False]\n",
        "5867 ['junior', 'Shuyu Wang', False]\n",
        "5866"
       ]
      },
      {
       "output_type": "stream",
       "stream": "stdout",
       "text": [
        " ['junior', 'Russell Berris', False]\n",
        "5861 ['junior', 'John Zhang', False]\n",
        "5860 ['senior', 'Tyler Allard', False]\n",
        "5863 ['senior', 'Susan Bellenot', False]\n",
        "5862 ['junior', 'Brittany McCants', False]\n",
        "9006"
       ]
      },
      {
       "output_type": "stream",
       "stream": "stdout",
       "text": [
        " ['research chemist', 'Keith Whitener', False]\n",
        "8537 ['graphic designer and computer salesperson', 'Carlos Hernandez Fisher', False]\n",
        "2183 ['national park ranger', \"Bill O'Donnell\", False]\n",
        "2182 ['mortgage banker', 'Brian Scheetz', False]\n",
        "2181 ['business analyst', 'Mittie Boyer', ['13-1111', 'Management Analysts', 'Business Analyst']]\n",
        "2180"
       ]
      },
      {
       "output_type": "stream",
       "stream": "stdout",
       "text": [
        " ['stay-at-home dad', 'Luke Fontano', False]\n",
        "2187 ['veterinarian', 'Sidney Tison', False]\n",
        "2186 ['managing editor', 'Lisa McAdam', False]\n",
        "2185 ['teacher', 'Matt Sullivan', ['MiscTeacher', 'Teacher', 'Teacher']]\n",
        "2184 ['user service consultant', 'Jaclyn Whitehorn', False]\n",
        "4606"
       ]
      },
      {
       "output_type": "stream",
       "stream": "stdout",
       "text": [
        " ['freshman at the University of Delaware', 'Erin Milligan', False]\n",
        "4607 ['junior at the University of Illinois', 'Carl Gilbertsen', False]\n",
        "2189 ['homemaker', 'Patti Compton', False]\n",
        "2188 ['editor', 'Cait Murphy', False]\n",
        "4602"
       ]
      },
      {
       "output_type": "stream",
       "stream": "stdout",
       "text": [
        " ['senior at the University of Texas', 'Suzanne Rivoire', False]\n",
        "4603 ['freshman at Dartmouth College', 'Jordan Kovnot', False]\n",
        "4600 ['sophomore at Luther College', 'Lisa Thimjon', False]\n",
        "4601 ['senior at Wisconsin-Madison', 'Dave Sabath', False]\n",
        "6907"
       ]
      },
      {
       "output_type": "stream",
       "stream": "stdout",
       "text": [
        " ['TV director and producer', 'Dave Streit', False]\n",
        "6906 ['freelance copy editor', 'Irene Dennis', False]\n",
        "6905 ['eleven-year-old', 'John Farley', False]\n",
        "6904 ['ten-year-old', 'Surabhi Iyer', False]\n",
        "6903"
       ]
      },
      {
       "output_type": "stream",
       "stream": "stdout",
       "text": [
        " ['eleven-year-old', 'Kyle Ziemnick', False]\n",
        "6902 ['planning and evaluation manager', 'Aaron Wicks', False]\n",
        "151 ['student', 'David Camp', False]\n",
        "150 ['professor', 'Dale Masel', False]\n",
        "153 ['lawyer', 'Andrew Locke', ['23-1011', 'Lawyers', 'Lawyer']]\n",
        "152 ['engineer', 'Hugh Price', False]\n",
        "155"
       ]
      },
      {
       "output_type": "stream",
       "stream": "stdout",
       "text": [
        " ['homemaker', 'Janine Menhennet', False]\n",
        "154 ['public relations executive', 'Elaine Lang', False]\n",
        "157 ['fashion editor', 'Brent Winter', False]\n",
        "156 ['homemaker', 'Nancy Moeller', False]\n",
        "159"
       ]
      },
      {
       "output_type": "stream",
       "stream": "stdout",
       "text": [
        " ['journalist', 'Eric Berman', False]\n",
        "158 ['tutor', 'Jessica Ayers', ['25-3099', 'Teachers and Instructors, All Other', 'Tutor']]\n",
        "6900 ['law student', 'Kristina Glithero', False]\n",
        "8134 ['publicist', 'Alison Shapiro', ['27-3031', 'Public Relations Specialists', 'Publicist']]\n",
        "8135 ['research assistant', 'Michele Myers Beuerlein', False]\n",
        "8688 ['radiologist', 'John Ling', ['29-1069', 'Physicians and Surgeons, All Other', 'Radiologist']]\n",
        "8689 ['English professor', 'James Mardock', False]\n",
        "6187"
       ]
      },
      {
       "output_type": "stream",
       "stream": "stdout",
       "text": [
        " ['eleven-year-old', 'Sam Daub', False]\n",
        "6186 ['twelve-year-old', 'Tory Gilliam', False]\n",
        "6185 ['eleven-year-old', 'Nicole Savin', False]\n",
        "6184 ['ten-year-old', 'Maxwell Baldi', False]\n",
        "6183 ['ten-year-old', 'Anissa Chitour', False]\n",
        "6182"
       ]
      },
      {
       "output_type": "stream",
       "stream": "stdout",
       "text": [
        " ['ten-year-old', 'Neal Freyman', False]\n",
        "6181 ['eleven-year-old', 'Elena Botella', False]\n",
        "6180 ['eleven-year-old', 'Billy Hackenson', False]\n",
        "6954 ['college teacher', 'Lew Barlow', ['MiscTeacher', 'Teacher', 'Teacher']]\n",
        "8133 ['underwriter', 'Ashok Poozhikunnel', False]\n",
        "6189 [\"children's book author\", 'Tui Sutherland', False]\n",
        "6188 ['prosecutor', 'Bryan Porter', ['23-1011', 'Lawyers', 'Prosecutor']]\n",
        "2727"
       ]
      },
      {
       "output_type": "stream",
       "stream": "stdout",
       "text": [
        " ['seller of antique prints and maps', 'Jane Toczek', False]\n",
        "2726 ['writer and editor', 'Eileen Oshinsky', False]\n",
        "2725 ['forensic accountant', 'Bob Peck', False]\n",
        "2724 ['attorney', 'Yaier Lehrer', ['23-1011', 'Lawyers', 'Attorney']]\n",
        "2723 ['teacher', 'Donna DiMesa', ['MiscTeacher', 'Teacher', 'Teacher']]\n",
        "2722 ['homemaker', 'Maureen Girr', False]\n",
        "2721 ['proofreader', 'Bob Hansen', ['43-9081', 'Proofreaders and Copy Markers', 'Proofreader']]\n",
        "2720"
       ]
      },
      {
       "output_type": "stream",
       "stream": "stdout",
       "text": [
        " ['former bank manager', 'Marian Evans Melnick', False]\n",
        "2729 ['twelve-year-old', 'William Tarpeh', False]\n",
        "2728 ['professor of landscape architecture', 'Cobra Becerra', False]\n",
        "7236 ['computer programmer', 'Harley Savage', ['15-1131', 'Computer Programmers', 'Computer Programmer']]\n",
        "7237 ['electrical engineer', 'Evan Bastian', ['17-2071', 'Electrical Engineers', 'Electrical Engineer']]\n",
        "7234 ['bookkeeper', 'Dawn Hart', ['43-3031', 'Bookkeeping, Accounting, and Auditing Clerks', 'Bookkeeper']]\n",
        "7235 ['inventory control manager', 'Quinn McDonald', False]\n",
        "7232"
       ]
      },
      {
       "output_type": "stream",
       "stream": "stdout",
       "text": [
        " ['mutual funds analyst', 'Joe Mastroeni', False]\n",
        "7233 ['mechanical engineer', 'Mike Nelson', ['17-2141', 'Mechanical Engineers', 'Mechanical Engineer']]\n",
        "6955 ['research associate', 'Bill Gellert', False]\n",
        "7231 ['high school biology and religion teacher', 'Meg Khavari', ['MiscTeacher', 'Teacher', 'Teacher']]\n",
        "7948 ['nursing student', 'Lisa Farricker', False]\n",
        "7949 ['high school librarian', 'Prudence Plunkett', ['25-4021', 'Librarians', 'High School Librarian']]\n",
        "7238 ['Army ammunition inspector', 'Tim Maas', False]\n",
        "7239"
       ]
      },
      {
       "output_type": "stream",
       "stream": "stdout",
       "text": [
        " ['media coordinator', 'Kevin Dunn', False]\n",
        "692 ['film distribution consultant', 'Ben Camack', False]\n",
        "6239 ['12-year-old', 'Rachel Mills', False]\n",
        "6238 ['10-year-old', 'Zachary Baumgartner', False]\n",
        "6235"
       ]
      },
      {
       "output_type": "stream",
       "stream": "stdout",
       "text": [
        " ['12-year-old', 'Scotty Ballard', False]\n",
        "6234 ['11-year-old', 'Jimmy Miotto', False]\n",
        "6237 ['11-year-old', 'Jacob Joyner', False]\n",
        "6236 ['11-year-old', 'Sophia Marianiello', False]\n",
        "6231 ['junior', 'Brian Johnson', False]\n",
        "6230 ['senior', 'John Sweeney', False]\n",
        "6233"
       ]
      },
      {
       "output_type": "stream",
       "stream": "stdout",
       "text": [
        " ['12-year-old', 'Savannah Morgan', False]\n",
        "6232 ['junior', 'Brooke Gallagher', False]\n",
        "693 ['college professor', 'Deborah Kelly', False]\n",
        "7815 ['anchor and reporter', 'David Faber', False]\n",
        "7932 ['fundraiser', 'Carol Ann Hilton', False]\n",
        "8866"
       ]
      },
      {
       "output_type": "stream",
       "stream": "stdout",
       "text": [
        " ['records management consultant', 'Priscilla Emery', False]\n",
        "8867 ['software-development manager', 'Jon McGuire', False]\n",
        "8864 ['computer science teacher', 'Jen Aprahamian', ['MiscTeacher', 'Teacher', 'Teacher']]\n",
        "690 ['network administrator', 'Brad Rutter', False]\n",
        "8862 ['law clerk', 'Gudrun Juffer', False]\n",
        "8863 ['public radio host', 'Geoff Norcross', False]\n",
        "8860 ['attorney', 'Emily Goodlander', ['23-1011', 'Lawyers', 'Attorney']]\n",
        "8861 ['graduate student of education', 'Stacy Meyers', ['GradStu', 'Graduate student', 'Graduate student']]\n",
        "8868"
       ]
      },
      {
       "output_type": "stream",
       "stream": "stdout",
       "text": [
        " ['environmental scientist', 'Blake Perkins', ['19-2041', 'Environmental Scientists and Specialists, Including Health', 'Environmental Scientist']]\n",
        "8869 ['musician', 'David Hall', ['27-2042', 'Musicians and Singers', 'Musician']]\n",
        "818 ['university teacher', 'Ulf Jensen', ['MiscTeacher', 'Teacher', 'Teacher']]\n",
        "819 ['writer', 'Ryan Holznagel', False]\n",
        "810 ['newspaper copy editor', 'Donna Brutkoski', False]\n",
        "811 ['computer programmer', 'Jan Mertens', ['15-1131', 'Computer Programmers', 'Computer Programmer']]\n",
        "812 ['senior medical officer', 'Steinar Madsen', False]\n",
        "813 ['assistant lecturer', 'Elena Kislenkova', False]\n",
        "814"
       ]
      },
      {
       "output_type": "stream",
       "stream": "stdout",
       "text": [
        " ['creative director', 'Soren Wedderkopp', False]\n",
        "815 ['translator', 'Tom Kinne', ['27-3091', 'Interpreters and Translators', 'Translator']]\n",
        "816 ['pharmaceutical dispenser', 'Mandi Hale', False]\n",
        "817 ['banker', 'Hasib Yildirim', False]\n",
        "7819 ['Washington, D.C. anchor', 'Katty Kay', False]\n",
        "1700"
       ]
      },
      {
       "output_type": "stream",
       "stream": "stdout",
       "text": [
        " ['secretary', 'Judy Squires', False]\n",
        "1701 ['head cashier', 'Lucretia Manning', False]\n",
        "5265 ['home schooling mother of two', 'Laura Pierce', False]\n",
        "1703 ['musician', 'John Ward', ['27-2042', 'Musicians and Singers', 'Musician']]\n",
        "1704 ['graduate student', 'Erynn Masi de Casanova', ['GradStu', 'Graduate student', 'Graduate student']]\n",
        "1705 ['chairman and CEO of an investment firm', 'David Glickman', False]\n",
        "1706"
       ]
      },
      {
       "output_type": "stream",
       "stream": "stdout",
       "text": [
        " ['travel consultant', 'Diane Green', ['41-3041', 'Travel Agents', 'Travel Consultant']]\n",
        "1707 ['digital librarian', 'Elizabeth Bellas', False]\n",
        "1708 ['technical writer', 'Walter Hanig', ['27-3042', 'Technical Writers', 'Technical Writer']]\n",
        "1709 ['student', 'Nick Ruiz', False]\n",
        "2097 ['junior at Syracuse University', 'Sara Dean', False]\n",
        "5269 ['university administrator', 'Steve Campbell', ['11-9033', 'Education Administrators, Postsecondary', 'University Administrator']]\n",
        "5268 ['theatre teacher', 'Rebecca Goldman', ['MiscTeacher', 'Teacher', 'Teacher']]\n",
        "2096"
       ]
      },
      {
       "output_type": "stream",
       "stream": "stdout",
       "text": [
        " ['sophomore at Marquette University', 'Susan Haarman', False]\n",
        "4574 ['campaign administrator', 'Mike Emerman', False]\n",
        "4575 ['research specialist', 'Brad Schinstock', False]\n",
        "2093"
       ]
      },
      {
       "output_type": "stream",
       "stream": "stdout",
       "text": [
        " ['junior at Miami University of Ohio', 'Erin Bogart', False]\n",
        "4577 ['graduate student', 'Tricia Wilson', ['GradStu', 'Graduate student', 'Graduate student']]\n",
        "3959 ['musician and teacher', 'Maya Ginsberg', ['MiscTeacher', 'Teacher', 'Teacher']]\n",
        "8112 ['real estate agent', 'Mike Wallace', False]\n",
        "7936 ['stay-at-home mom', 'Julie Bratvold Ghanbari', False]\n",
        "3029 ['attorney', 'Jocelyn Beer', ['23-1011', 'Lawyers', 'Attorney']]\n",
        "3028 ['media planner', 'Kimberley Nash', False]\n",
        "3027 ['stay-at-home dad', 'Jeremy Golden', False]\n",
        "3026"
       ]
      },
      {
       "output_type": "stream",
       "stream": "stdout",
       "text": [
        " ['college counselor', 'Kate Goodyear', False]\n",
        "3025 ['journalist', 'Geoff Boucher', False]\n",
        "3024 ['computer consultant', 'Larry Cloud', False]\n",
        "3023 ['medical librarian', 'Janet Crum', ['25-4021', 'Librarians', 'Medical Librarian']]\n",
        "3022 ['housewife', 'Donna Rosen', False]\n",
        "3021 ['lawyer', 'Matt Bromund', ['23-1011', 'Lawyers', 'Lawyer']]\n",
        "3020 ['sales manager', 'Mark Bordley', False]\n",
        "8738"
       ]
      },
      {
       "output_type": "stream",
       "stream": "stdout",
       "text": [
        " ['marketing executive', 'Bill Tolany', False]\n",
        "8739 ['retired teacher and writer', 'Sharon Warner', ['MiscTeacher', 'Teacher', 'Teacher']]\n",
        "8736 ['student and writer', 'Samantha Nataro', False]\n",
        "695 ['energy conservation manager', 'Karen Olson', False]\n",
        "8734 ['opera singer', 'Korin Kormick', ['27-2042', 'Musicians and Singers', 'Opera Singer']]\n",
        "8735 ['graduate student of financial engineering', 'John Emery', ['GradStu', 'Graduate student', 'Graduate student']]\n",
        "8732 ['lecturer and academic advisor', 'Jane Wanninger', False]\n",
        "8733"
       ]
      },
      {
       "output_type": "stream",
       "stream": "stdout",
       "text": [
        " ['law student', 'Mat Ahn', False]\n",
        "8730 ['State Department press advisor', 'Emily Horne', False]\n",
        "8731 ['psychiatrist', 'Kate Kwiatkowski', ['29-1066', 'Psychiatrists', 'Psychiatrist']]\n",
        "4198 ['foreign affairs officer', 'Richard Johnson', False]\n",
        "4199 ['writer', 'Lateefah Torrence', False]\n",
        "4196"
       ]
      },
      {
       "output_type": "stream",
       "stream": "stdout",
       "text": [
        " ['CPA and stay-at-home mom', 'Ann Kupitz', False]\n",
        "4197 ['emergency room physician', 'Kevin Martin', False]\n",
        "4194 ['aspiring screenwriter', 'Vernon Martin', False]\n",
        "4195 ['software developer', 'Greg Dwyer', False]\n",
        "4192"
       ]
      },
      {
       "output_type": "stream",
       "stream": "stdout",
       "text": [
        " ['customer service representative', 'Darren Millam', False]\n",
        "4193 ['internet copywriter', 'Kate Lowe', False]\n",
        "4190 ['third grade teacher', 'Kirk Jordan', ['MiscTeacher', 'Teacher', 'Teacher']]\n",
        "4191 ['high school teacher', 'Joe Bellas', ['MiscTeacher', 'Teacher', 'Teacher']]\n",
        "5670 ['tax lawyer', 'Nicole Welch', False]\n",
        "5671 ['chocolatier', 'Stevie Benson', False]\n",
        "5672 ['high school librarian', 'Milt Hathaway', ['25-4021', 'Librarians', 'High School Librarian']]\n",
        "5673"
       ]
      },
      {
       "output_type": "stream",
       "stream": "stdout",
       "text": [
        " ['Montessori teaching assistant', 'Carrie Hotchkiss', False]\n",
        "5674 ['director of human resources', 'Rhonda Sherman', False]\n",
        "5675 ['attorney', 'Lew Insler', ['23-1011', 'Lawyers', 'Attorney']]\n",
        "5676 ['software engineer', 'Travis Troyer', False]\n",
        "5677 ['grant specialist', 'Collette Ryder-Consugar', False]\n",
        "5678 ['management consultant', 'Andy Anagnos', ['13-1111', 'Management Analysts', 'Management Consultant']]\n",
        "5679"
       ]
      },
      {
       "output_type": "stream",
       "stream": "stdout",
       "text": [
        " ['research consultant', 'Alex Gershman', False]\n",
        "6437 ['statistician', 'Nancy Floyd', ['15-2041', 'Statisticians', 'Statistician']]\n",
        "6436 ['emergency physician', 'Don Kraft', False]\n",
        "6435 ['accountant', 'Dave Stern', ['13-2011', 'Accountants and Auditors', 'Accountant']]\n",
        "6434 ['technical information specialist', 'Teresa McGervey', False]\n",
        "6433 ['stay-at-home mom', 'Debra Grehn', False]\n",
        "6432 ['graphic artist', 'Dave Castanien', ['27-1024', 'Graphic Designers', 'Graphic Artist']]\n",
        "6431"
       ]
      },
      {
       "output_type": "stream",
       "stream": "stdout",
       "text": [
        " ['Peace Corps recruiter', 'Jen McFann', False]\n",
        "6430 ['attorney', 'George Long', ['23-1011', 'Lawyers', 'Attorney']]\n",
        "8198 ['book publishing editor', 'Tracy Bernstein', False]\n",
        "8199 ['reference librarian', 'Ed Gardner', ['25-4021', 'Librarians', 'Reference Librarian']]\n",
        "6439 ['medical student', 'Randie Kim', False]\n",
        "6438 ['attorney', 'Jennifer Morgan', ['23-1011', 'Lawyers', 'Attorney']]\n",
        "6758 ['attorney', 'Derek Honor\\xe9', ['23-1011', 'Lawyers', 'Attorney']]\n",
        "6759 ['graphic designer', 'Tatiana Walton', ['27-1024', 'Graphic Designers', 'Graphic Designer']]\n",
        "6752 ['computer engineer', 'Kristian Zoerhoff', False]\n",
        "6753"
       ]
      },
      {
       "output_type": "stream",
       "stream": "stdout",
       "text": [
        " ['radiology resident', 'Sarah Bright', False]\n",
        "6750 ['actress, comedian, author and reality-show host', 'Aisha Tyler', False]\n",
        "6751 ['anchor', 'Anderson Cooper', False]\n",
        "6756 ['law student', 'Colin McLain', False]\n",
        "6757 ['arts teacher', 'Regina Robbins', ['MiscTeacher', 'Teacher', 'Teacher']]\n",
        "6754"
       ]
      },
      {
       "output_type": "stream",
       "stream": "stdout",
       "text": [
        " ['social media editor', 'Lisa Horowitz', False]\n",
        "6755 ['writer and bookstore owner', 'Jonathan Sanchez', False]\n",
        "238 ['attorney', 'Mike Dup\\xe9e', ['23-1011', 'Lawyers', 'Attorney']]\n",
        "239 ['senior', 'Jimmy Li', False]\n",
        "234 ['reference librarian', 'Leila Dooley', ['25-4021', 'Librarians', 'Reference Librarian']]\n",
        "235 ['attorney', 'Bob Shore', ['23-1011', 'Lawyers', 'Attorney']]\n",
        "236 ['college student', 'Shane Whitlock', False]\n",
        "237"
       ]
      },
      {
       "output_type": "stream",
       "stream": "stdout",
       "text": [
        " ['podiatrist', 'Beverly Spurs', False]\n",
        "230 ['lawyer', 'Nancy Smith', ['23-1011', 'Lawyers', 'Lawyer']]\n",
        "231 ['financial analyst', 'Steve Willis', False]\n",
        "232 ['executive assistant', 'Katie Heim', ['43-6011', 'Executive Secretaries and Executive Administrative Assistants', 'Executive Assistant']]\n",
        "233 ['graduate student', 'Tom McFarland', ['GradStu', 'Graduate student', 'Graduate student']]\n",
        "8740 ['information management coordinator', 'Rose Adams', False]\n",
        "2538 ['lawyer', 'David Morgenstern', ['23-1011', 'Lawyers', 'Lawyer']]\n",
        "2539"
       ]
      },
      {
       "output_type": "stream",
       "stream": "stdout",
       "text": [
        " ['video and film editor', 'Shelley Smith', False]\n",
        "2532 ['civil engineer', 'Jimmy Crain', ['17-2051', 'Civil Engineers', 'Civil Engineer']]\n",
        "2533 ['computer graphic designer', 'Chris Hackett', False]\n",
        "2530 ['third grade teacher', 'Rich Greene', ['MiscTeacher', 'Teacher', 'Teacher']]\n",
        "2531 ['political consultant', 'Laura Hansen', ['19-3094', 'Political Scientists', 'Political Consultant']]\n",
        "2536 ['writer and editor', 'Sandra Ulbrich', False]\n",
        "2537 ['reservations agent', 'Barbara Von Pagel', False]\n",
        "2534"
       ]
      },
      {
       "output_type": "stream",
       "stream": "stdout",
       "text": [
        " ['homemaker', 'Eileen Heckel', False]\n",
        "2535 ['reporter', 'Steve Norton', False]\n",
        "5078 ['admissions director', 'Elaine Cooper', False]\n",
        "5079 ['physician', 'Garry Weischedel', False]\n",
        "5072 ['teller supervisor', 'Jean Whitcomb', ['43-1011', 'First-Line Supervisors of Office and Administrative Support Workers', 'Teller Supervisor']]\n",
        "5073 ['letter carrier', 'John Goodreau', ['43-5052', 'Postal Service Mail Carriers', 'Letter Carrier']]\n",
        "5070"
       ]
      },
      {
       "output_type": "stream",
       "stream": "stdout",
       "text": [
        " ['junior at the University of Alabama', 'Shane Underwood', False]\n",
        "5071 ['economics teacher', 'Michael Arjona', ['MiscTeacher', 'Teacher', 'Teacher']]\n",
        "5076 ['proposal writer', 'Darryl Tahirali', False]\n",
        "5077 ['advertising executive', 'Matt Fels', ['11-2011', 'Advertising and Promotions Managers', 'Advertising Executive']]\n",
        "5074 ['English teacher', 'T.J. Gillespie', ['MiscTeacher', 'Teacher', 'Teacher']]\n",
        "5075 ['housewife', 'Karen Wegenke', False]\n",
        "939 ['12-year-old', 'Alex Stambaugh', False]\n",
        "938 ['12-year-old', 'Brian Cunningham', False]\n",
        "933"
       ]
      },
      {
       "output_type": "stream",
       "stream": "stdout",
       "text": [
        " ['defense analyst', 'Kim Marshall', False]\n",
        "932 ['financial consultant', 'Paul Barry', False]\n",
        "931 ['restaurant manager', 'Aaron Schnier', False]\n",
        "930 ['dance/movement therapist', 'Britney Harris', False]\n",
        "937 ['10-year-old', 'Sara Jansson', False]\n",
        "936"
       ]
      },
      {
       "output_type": "stream",
       "stream": "stdout",
       "text": [
        " ['11-year-old', 'Ivan Kleinfeld', False]\n",
        "935 ['technical support manager', 'Dan Tick', False]\n",
        "934 ['attorney', 'Maya Kobersy', ['23-1011', 'Lawyers', 'Attorney']]\n",
        "5380 ['veterinarian', 'Cathy Weber', False]\n",
        "5381"
       ]
      },
      {
       "output_type": "stream",
       "stream": "stdout",
       "text": [
        " ['executive coach and author', 'Miriam Bamberger', False]\n",
        "5382 ['history lecturer', 'Bryan Givens', False]\n",
        "5383 ['musician', 'Michael Cudahy', ['27-2042', 'Musicians and Singers', 'Musician']]\n",
        "5384 ['project manager', 'Chris Edwards', False]\n",
        "5385 ['junior', 'David Hudson', False]\n",
        "5386"
       ]
      },
      {
       "output_type": "stream",
       "stream": "stdout",
       "text": [
        " ['recent graduate', 'Cassie Hill', False]\n",
        "5387 ['senior', 'Robert Arshonsky', False]\n",
        "5388 ['junior', 'Dmitry Spivak', False]\n",
        "5389 ['senior', 'Zach Safford', False]\n",
        "797 ['musician', 'Jim Tompkins-MacLaine', ['27-2042', 'Musicians and Singers', 'Musician']]\n",
        "2411 ['assistant security manager', 'Steve Mandella', False]\n",
        "795"
       ]
      },
      {
       "output_type": "stream",
       "stream": "stdout",
       "text": [
        " ['director of planning & building', 'Joe Roberts', False]\n",
        "794 ['computer programmer and analyst', 'Bill Nyden', False]\n",
        "793 ['psychologist', 'Fran Pipp', False]\n",
        "792 ['teacher and a speech coach', 'Missy Carlson', ['MiscTeacher', 'Teacher', 'Teacher']]\n",
        "791 ['freelance writer', 'John Smith', False]\n",
        "2410 ['optician', 'Krista Cain', ['29-2081', 'Opticians, Dispensing', 'Optician']]\n",
        "2145"
       ]
      },
      {
       "output_type": "stream",
       "stream": "stdout",
       "text": [
        " ['freelance writer and personal shopper', 'Betsy Archbold', False]\n",
        "799 ['mother of three', \"Christen O'Connor\", False]\n",
        "798 ['freelance writer', 'Mark McDermott', False]\n",
        "2144 ['actor', 'Jake Storms', False]\n",
        "2415 ['freelance proofreader', 'Amasa Wainwright', False]\n",
        "2414 ['copywriter', 'John Beck', ['27-3043', 'Writers and Authors', 'Copywriter']]\n",
        "1139 ['Spanish teacher', 'Leslie Frates', ['MiscTeacher', 'Teacher', 'Teacher']]\n",
        "1138"
       ]
      },
      {
       "output_type": "stream",
       "stream": "stdout",
       "text": [
        " ['director of technical assistance', 'Eric Newhouse', False]\n",
        "2141 [\"worker's compensation consultant\", 'Jacqui Sukie', False]\n",
        "1133 ['lawyer with an international law firm', 'Rachael Schwartz', False]\n",
        "1132"
       ]
      },
      {
       "output_type": "stream",
       "stream": "stdout",
       "text": [
        " ['lieutenant in the New York Police Department', 'Frank Spangenberg', False]\n",
        "1131 ['history professor', 'Beth Andreasen', False]\n",
        "1130 ['reporter and writer', 'Brad Williams', False]\n",
        "1137 ['librarian', 'Jo Ellen Eppink', False]\n",
        "1136 ['graduate student', 'Steve Wang', ['GradStu', 'Graduate student', 'Graduate student']]\n",
        "1135 ['lawyer & financial analyst', 'Dan McBride', False]\n",
        "1134"
       ]
      },
      {
       "output_type": "stream",
       "stream": "stdout",
       "text": [
        " ['author, comedian, and radio commentator', 'Bob Harris', False]\n",
        "2419 ['speechwriter', 'Arthur Phillips', False]\n",
        "2418 ['computer trainer', 'Pam Mifflin', False]\n",
        "7148 ['freelance copywriter', \"Sally O'Rourke\", False]\n",
        "7149 ['grocery store clerk', 'Justin Braganza', False]\n",
        "7144"
       ]
      },
      {
       "output_type": "stream",
       "stream": "stdout",
       "text": [
        " ['family law and immigration lawyer', 'Maureen Abell', False]\n",
        "7145 ['graduate student of physics', 'Gabe Perez-Giz', ['GradStu', 'Graduate student', 'Graduate student']]\n",
        "7146 ['marketing manager', 'Dana Gresko', False]\n",
        "7147 ['restaurant manager', 'Dan Jensen', False]\n",
        "7140 ['freelance artist', 'Steve Gratz', False]\n",
        "7141"
       ]
      },
      {
       "output_type": "stream",
       "stream": "stdout",
       "text": [
        " ['recent college graduate', 'Alex Marchyshyn', False]\n",
        "7142 ['legislative aide', 'Melissa Nilles', False]\n",
        "7143 ['mail room clerk', 'Erik Lang', False]\n",
        "2149 ['computer technician and musician', 'Mark Whittinghill', False]\n",
        "2148"
       ]
      },
      {
       "output_type": "stream",
       "stream": "stdout",
       "text": [
        " ['administrator & outreach officer', 'Laura McShane', False]\n",
        "8053 ['creative director and branding consultant', 'Colin Bodels', False]\n",
        "8052 ['law student', 'Shari Dwoskin', False]\n",
        "8051 ['retired paralegal', 'Bobbi Hiltibidal', False]\n",
        "8050 ['graduate student of literature', 'Ariane Helou', ['GradStu', 'Graduate student', 'Graduate student']]\n",
        "8057 ['high school world history teacher', 'Colby Burnett', ['MiscTeacher', 'Teacher', 'Teacher']]\n",
        "8056 ['high school chemistry teacher', 'Michael Farabaugh', ['MiscTeacher', 'Teacher', 'Teacher']]\n",
        "8055 ['first grade teacher', 'Diana North', ['MiscTeacher', 'Teacher', 'Teacher']]\n",
        "8054"
       ]
      },
      {
       "output_type": "stream",
       "stream": "stdout",
       "text": [
        " ['immigration attorney', 'Jessica Lee', False]\n",
        "8509 ['administrative assistant', 'Deedie Gustavson', False]\n",
        "8508 ['fundraiser', 'Joe Carroll', False]\n",
        "8059 ['high school history teacher', 'Chris Pae', ['MiscTeacher', 'Teacher', 'Teacher']]\n",
        "8058 ['high school science and history teacher', 'Marion Penning', ['MiscTeacher', 'Teacher', 'Teacher']]\n",
        "2882 ['senior', 'George Nelson', False]\n",
        "2883 ['junior', 'Seveen Kannankara', False]\n",
        "2880"
       ]
      },
      {
       "output_type": "stream",
       "stream": "stdout",
       "text": [
        " ['registered nurse and Ph.D candidate', 'Walt Senterfitt', False]\n",
        "2881 ['business communications representative', 'Leslie Miller', False]\n",
        "2886 ['sophomore', 'Evan Stewart', False]\n",
        "2887 ['junior', 'Heidi Greimann', False]\n",
        "2884"
       ]
      },
      {
       "output_type": "stream",
       "stream": "stdout",
       "text": [
        " ['senior', 'Seth Disner', False]\n",
        "2885 ['junior', 'Liana Walters', False]\n",
        "7492 ['tutor and substitute teacher', 'Elaine Ricci', ['MiscTeacher', 'Teacher', 'Teacher']]\n",
        "1072 ['librarian', 'Liz Barnea', False]\n",
        "2888 ['sophomore', 'Allie Pape', False]\n",
        "2889 ['freshman', 'Andy Kravis', False]\n",
        "7496 ['teacher', 'Bernard Welt', ['MiscTeacher', 'Teacher', 'Teacher']]\n",
        "7497"
       ]
      },
      {
       "output_type": "stream",
       "stream": "stdout",
       "text": [
        " ['engineer', 'Bob Smith', False]\n",
        "7494 ['staffer for a political organization', 'Katie Baker', False]\n",
        "7495 ['interpreter', 'Lynn Evans', False]\n",
        "2 ['editor and writer', 'J.D. Smith', False]\n",
        "3276"
       ]
      },
      {
       "output_type": "stream",
       "stream": "stdout",
       "text": [
        " ['freelance writer and editor', 'Ellen Cook', False]\n",
        "3277 ['newspaper publisher', 'Bret Bradigan', False]\n",
        "1922 ['pediatric cardiologist', 'Susan desJardins', False]\n",
        "1923 ['firefighter', 'Myron West', False]\n",
        "1924 ['loan officer', 'Jackie Bruno', ['13-2072', 'Loan Officers', 'Loan Officer']]\n",
        "3273 ['family practice physician', 'Alancia Wynn', ['29-1062', 'Family and General Practitioners', 'Family Practice Physician']]\n",
        "1926 ['copywriter', 'Nathan Thornton', ['27-3043', 'Writers and Authors', 'Copywriter']]\n",
        "1927 ['graduate student', 'Matt Garbett', ['GradStu', 'Graduate student', 'Graduate student']]\n",
        "4761 ['graduate student', 'Abigail Rosenthal', ['GradStu', 'Graduate student', 'Graduate student']]\n",
        "4760"
       ]
      },
      {
       "output_type": "stream",
       "stream": "stdout",
       "text": [
        " ['Internet marketing copy writer', 'Andy Catsimanes', False]\n",
        "4763 ['proofreader', 'Debbie Howell', ['43-9081', 'Proofreaders and Copy Markers', 'Proofreader']]\n",
        "4762 ['Internet search editor', 'Dave Sikula', False]\n",
        "4765 ['junior at the University of Chicago', 'Carolyn Cracraft', False]\n",
        "4764"
       ]
      },
      {
       "output_type": "stream",
       "stream": "stdout",
       "text": [
        " ['senior at the University of Pennsylvania', 'Josh Levy', False]\n",
        "4767 ['rare bookseller', 'Ann Drourr', False]\n",
        "4766 ['freshman at Reed College', 'Butch Malec', False]\n",
        "4769 ['junior at Rowan University', 'Aaron Johnson', False]\n",
        "4768"
       ]
      },
      {
       "output_type": "stream",
       "stream": "stdout",
       "text": [
        " ['public relations professional', 'Matt Stull', False]\n",
        "8767 ['burn and wound surgeon', 'Vimal Murthy', False]\n",
        "5809 ['graduate student', 'Becky Cary', ['GradStu', 'Graduate student', 'Graduate student']]\n",
        "5808 ['technology salesman', 'Steve Frost', False]\n",
        "5803 ['freelance editor', 'Noah Tarnow', False]\n",
        "5802 ['high school chemistry teacher', 'Valerie Reyna', ['MiscTeacher', 'Teacher', 'Teacher']]\n",
        "5801 ['library science graduate student', 'Jennifer Stolarski', ['GradStu', 'Graduate student', 'Graduate student']]\n",
        "5800"
       ]
      },
      {
       "output_type": "stream",
       "stream": "stdout",
       "text": [
        " ['recent law school graduate', 'Dave Hiersekorn', False]\n",
        "5807 ['graduate student', 'Brian Lee', ['GradStu', 'Graduate student', 'Graduate student']]\n",
        "5806 ['journalist', 'Cynthia Astle', False]\n",
        "5805 ['medical editor', 'Linda Tomsho', False]\n",
        "5804 ['freelance writer', 'Jack Feerick', False]\n",
        "685 ['tennis coach', 'Dan Fuller', ['27-2022', 'Coaches and Scouts', 'Tennis Coach']]\n",
        "684 ['elementary school teacher', 'Eric Grove', ['MiscTeacher', 'Teacher', 'Teacher']]\n",
        "687 ['student', 'Ed Osawa', False]\n",
        "686"
       ]
      },
      {
       "output_type": "stream",
       "stream": "stdout",
       "text": [
        " ['public relations coordinator', 'Mary Bowers', False]\n",
        "681 ['technical editor', 'Lynn Strather', ['27-3041', 'Editors', 'Technical Editor']]\n",
        "680 ['history teacher', 'Craig Hendricks', ['MiscTeacher', 'Teacher', 'Teacher']]\n",
        "683 ['credit manager', 'Clare Delaman', ['11-3031', 'Financial Managers', 'Credit Manager']]\n",
        "682 ['newspaper reporter', 'Richard Willing', False]\n",
        "8023 ['medical research technician', 'Meredith Lowmaster', False]\n",
        "4888 ['design center manager', 'Brad Golstein', False]\n",
        "4889"
       ]
      },
      {
       "output_type": "stream",
       "stream": "stdout",
       "text": [
        " ['communications consultant and homemaker', 'Karen Skochinski', False]\n",
        "2709 ['writer', 'Max Jacobson', False]\n",
        "2708 ['administrative assistant', 'Pat Posner', False]\n",
        "4880 ['distinguished actor and TV host', 'LeVar Burton', False]\n",
        "4881"
       ]
      },
      {
       "output_type": "stream",
       "stream": "stdout",
       "text": [
        " ['college professor', 'Tim Wilson', False]\n",
        "2707 ['analyst', 'Robert Manuel', False]\n",
        "2706 ['restaurant owner', \"Ned O'Rourke\", False]\n",
        "4884 ['schoolteacher', 'Cathy Rosenberg', ['MiscTeacher', 'Teacher', 'Teacher']]\n",
        "2700 ['attorney', 'Sandy Lowe', ['23-1011', 'Lawyers', 'Attorney']]\n",
        "2703 ['new home sales assistant', 'Martin Smith', False]\n",
        "4887 ['system analyst', 'Jim Austgen', False]\n",
        "7962"
       ]
      },
      {
       "output_type": "stream",
       "stream": "stdout",
       "text": [
        " ['12-year-old', 'Matthew Cline', False]\n",
        "7963 ['10-year-old', 'Anna Cambron', False]\n",
        "7960 ['public interest lawyer', 'Jenny Healey', False]\n",
        "7961 ['psychiatrist', 'Leo Lopez', ['29-1066', 'Psychiatrists', 'Psychiatrist']]\n",
        "7966 ['12-year-old', 'Injee Hong', False]\n",
        "7967"
       ]
      },
      {
       "output_type": "stream",
       "stream": "stdout",
       "text": [
        " ['11-year-old', 'Ryan Griffin', False]\n",
        "7964 ['11-year-old', 'Mandy Berry', False]\n",
        "7965 ['12-year-old', 'Arjun Malhotra', False]\n",
        "7968 ['11-year-old', 'Partha Purushotham', False]\n",
        "7969 ['11-year-old', 'Julia Martinez', False]\n",
        "6259"
       ]
      },
      {
       "output_type": "stream",
       "stream": "stdout",
       "text": [
        " ['12-year-old', 'Michael Bergen', False]\n",
        "6258 ['12-year-old', 'Emily Moin', False]\n",
        "6253 ['10-year-old', 'Akshai Raj', False]\n",
        "6252 ['10-year-old', 'Heather Peden', False]\n",
        "6251 ['11-year-old', 'Matthew Silski', False]\n",
        "6250"
       ]
      },
      {
       "output_type": "stream",
       "stream": "stdout",
       "text": [
        " ['12-year-old', 'Jacob Hambalek', False]\n",
        "6257 ['12-year-old', 'Andrew Bryson', False]\n",
        "6256 ['12-year-old', 'Cate Heine', False]\n",
        "6255 ['12-year-old', 'Thulasi Seshan', False]\n",
        "6254 ['12-year-old', 'Kevin Yokum', False]\n",
        "8545"
       ]
      },
      {
       "output_type": "stream",
       "stream": "stdout",
       "text": [
        " ['secretary', 'Melinda Brownfield', False]\n",
        "8016 ['administrative coordinator', 'Felicia McGowan', False]\n",
        "8547 ['marketing consultant', 'Beth Morgan', ['13-1161', 'Market Research Analysts and Marketing Specialists', 'Marketing Consultant']]\n",
        "3474 ['graduate student', 'Heather Schaffer', ['GradStu', 'Graduate student', 'Graduate student']]\n",
        "3475 ['corporate tax attorney', 'Mont McNeil', False]\n",
        "3476 ['grants coordinator', 'Claire Williams', False]\n",
        "3477"
       ]
      },
      {
       "output_type": "stream",
       "stream": "stdout",
       "text": [
        " ['stay-at-home mom', 'Mary Mansfield', False]\n",
        "3470 ['human resources manager', 'Ramon Flores', False]\n",
        "3471 ['graphic artist', 'Juliet Cesarini', ['27-1024', 'Graphic Designers', 'Graphic Artist']]\n",
        "3472 ['teacher', 'Lori Biddle', ['MiscTeacher', 'Teacher', 'Teacher']]\n",
        "3473 ['research analyst', 'Hanley Baxter', False]\n",
        "8884 ['scientific program administrator', 'Cesar Perez-Gonzalez', False]\n",
        "8541 ['teacher', 'Mike Williams', ['MiscTeacher', 'Teacher', 'Teacher']]\n",
        "838"
       ]
      },
      {
       "output_type": "stream",
       "stream": "stdout",
       "text": [
        " ['mathematics educator', 'Morgan Chase', False]\n",
        "839 ['training manager', 'Steve Clark', False]\n",
        "3478 ['high school English teacher', 'Linda Flammer', ['MiscTeacher', 'Teacher', 'Teacher']]\n",
        "3479 ['sales and marketing manager', 'Gordon Heady', False]\n",
        "8882 ['former teacher', 'Emalie Brooks', ['MiscTeacher', 'Teacher', 'Teacher']]\n",
        "8540 ['logistician', 'JoFrannye Reichert', ['13-1081', 'Logisticians', 'Logistician']]\n",
        "8543 ['medieval historian', 'Jonathan Couser', False]\n",
        "8010"
       ]
      },
      {
       "output_type": "stream",
       "stream": "stdout",
       "text": [
        " ['federal investigator', 'Mike Lonesky', False]\n",
        "7457 ['computer engineer', 'Graig Zethner', False]\n",
        "8687 ['waiter', 'David Epperson', False]\n",
        "7453 ['retired emergency room physician', 'Linda Percy', False]\n",
        "9007 ['teacher', 'Maria Wenglinsky', ['MiscTeacher', 'Teacher', 'Teacher']]\n",
        "5249 ['foreign service officer', 'Heather Townsend', False]\n",
        "5248"
       ]
      },
      {
       "output_type": "stream",
       "stream": "stdout",
       "text": [
        " ['bartender and recent college graduate', 'Rob Kobman', False]\n",
        "1728 ['software engineer', 'Eric Heaton', False]\n",
        "1729 ['special education teacher', 'Nancy Di Marino', ['MiscTeacher', 'Teacher', 'Teacher']]\n",
        "1726 ['graduate student', 'Jennifer Young', ['GradStu', 'Graduate student', 'Graduate student']]\n",
        "1727 ['human resources assistant', 'Kate Miller', False]\n",
        "1724 ['actor and director', 'Patrick Mahoney', False]\n",
        "1725"
       ]
      },
      {
       "output_type": "stream",
       "stream": "stdout",
       "text": [
        " ['customer service representative', 'Jamie Phillippe', False]\n",
        "5241 ['romance novelist and travel writer', 'Laura Paquet', False]\n",
        "1723 ['graduate student', 'Judith Danovitch', ['GradStu', 'Graduate student', 'Graduate student']]\n",
        "1720 ['computer consultant', 'Greg Sanders', False]\n",
        "1721 ['registered massage therapist', 'Ellen Yancey', False]\n",
        "9004"
       ]
      },
      {
       "output_type": "stream",
       "stream": "stdout",
       "text": [
        " ['editor for academic competitions', 'Larissa Kelly', False]\n",
        "9003 ['university professor', 'Russ Schumacher', False]\n",
        "9002 ['AP world history teacher', 'Colby Burnett', ['MiscTeacher', 'Teacher', 'Teacher']]\n",
        "7931 ['accountant', 'John Cassidy', ['13-2011', 'Accountants and Auditors', 'Accountant']]\n",
        "9001 ['manager of corporate and foundation relations at a music school', 'Celeste DiNucci', False]\n",
        "7930 ['music critic', 'Lisa Grean', False]\n",
        "9000"
       ]
      },
      {
       "output_type": "stream",
       "stream": "stdout",
       "text": [
        " ['writer', 'Tom Nissley', False]\n",
        "7933 ['writer', 'Carolyn Kennedy', False]\n",
        "3005 ['administrative assistant', 'Betty Cohn', False]\n",
        "3004 ['home inspector and minister', 'Glenn Woertz', False]\n",
        "3007 ['newspaper copy editor', 'Bob Fleenor', False]\n",
        "3006"
       ]
      },
      {
       "output_type": "stream",
       "stream": "stdout",
       "text": [
        " ['telecommunications manager', 'Sean Burton', False]\n",
        "3001 ['attorney', 'Jennifer Gottschalk', ['23-1011', 'Lawyers', 'Attorney']]\n",
        "3000 ['elementary school principal', 'Richard Shildt', ['11-9032', 'Education Administrators, Elementary and Secondary School', 'Elementary School Principal']]\n",
        "3003 ['marketing manager', 'David Mayer', False]\n",
        "3310 ['writer', 'Jason Avant', False]\n",
        "7935 ['director of development', 'Sister Carol Cimino', False]\n",
        "3009"
       ]
      },
      {
       "output_type": "stream",
       "stream": "stdout",
       "text": [
        " ['biology student', 'Cathy Vrentas', False]\n",
        "3313 ['woodworker', 'Jim Eddy', False]\n",
        "7934 ['attorney', 'Rocky Schmidt', ['23-1011', 'Lawyers', 'Attorney']]\n",
        "1588 ['law student', 'Greg Chernack', False]\n",
        "3312 ['senior website producer', 'Al Cadena', False]\n",
        "7937"
       ]
      },
      {
       "output_type": "stream",
       "stream": "stdout",
       "text": [
        " ['mental health therapist', 'Elisa Leigan', False]\n",
        "1582 ['waiter', 'Jeff Pilgreen', False]\n",
        "3315 ['archaeology student', 'Katy Tripodi Griffith', False]\n",
        "1580 ['sophomore', 'Papa Chakravarthy', False]\n",
        "1581 ['cooking writer', 'Steve Muni', False]\n",
        "1586"
       ]
      },
      {
       "output_type": "stream",
       "stream": "stdout",
       "text": [
        " ['medical writer and editor', 'Nancy Baron', False]\n",
        "1587 ['attorney', 'Peter Fiske', ['23-1011', 'Lawyers', 'Attorney']]\n",
        "1584 ['senior', 'David Hoffelmeyer', False]\n",
        "3314 ['art historian', 'Linda Schildkraut', False]\n",
        "9106 ['senior', 'Eric Reid', False]\n",
        "5481"
       ]
      },
      {
       "output_type": "stream",
       "stream": "stdout",
       "text": [
        " ['adjunct professor', 'Art Borgemenke', False]\n",
        "9107 ['sophomore', 'Delaine Foss', False]\n",
        "8633 ['12-year-old seventh grader', 'Skyler Hornback', False]\n",
        "3316 ['law student', 'Rebecca Grayson', False]\n",
        "9104 ['violin and viola teacher', 'Maggie Davis', ['MiscTeacher', 'Teacher', 'Teacher']]\n",
        "9105 ['legal assistant', 'Manuel Berm\\xfadez', ['23-2011', 'Paralegals and Legal Assistants', 'Legal Assistant']]\n",
        "5658"
       ]
      },
      {
       "output_type": "stream",
       "stream": "stdout",
       "text": [
        " ['recording specialist', 'Rich Smreker', False]\n",
        "5659 ['Latin teacher', 'Lydia Haile Fassett', ['MiscTeacher', 'Teacher', 'Teacher']]\n",
        "5656 ['pharmacist', 'Kathy Sahlmann', False]\n",
        "5657 ['screenwriter', 'Geoff Moore', False]\n",
        "5654 ['volunteer', 'Michele Frankl', False]\n",
        "2416 ['bookkeeper', 'Tara Gallagher', ['43-3031', 'Bookkeeping, Accounting, and Auditing Clerks', 'Bookkeeper']]\n",
        "5652"
       ]
      },
      {
       "output_type": "stream",
       "stream": "stdout",
       "text": [
        " ['Foreign Service officer', 'Greg Morrison', False]\n",
        "5653 ['student', 'Lauren Robb', False]\n",
        "5650 ['college English professor', 'Zac Showers', False]\n",
        "5651 ['college counselor', 'Josie Dickson', False]\n",
        "6419"
       ]
      },
      {
       "output_type": "stream",
       "stream": "stdout",
       "text": [
        " ['Basketball Hall of Famer and all-time leading scorer', 'Kareem Abdul-Jabbar', False]\n",
        "6418 ['anchor and special correspondent', \"Soledad O'Brien\", False]\n",
        "6415 ['musician and computer programmer', 'James Rogers', False]\n",
        "6414 ['quotation specialist', 'Carin House', False]\n",
        "6417"
       ]
      },
      {
       "output_type": "stream",
       "stream": "stdout",
       "text": [
        " ['Grammy winner, Oscar nominee and multi-talented performer', 'Michael McKean', False]\n",
        "6416 ['gift shop manager', 'Susan Durham', False]\n",
        "6411 ['managing editor', 'Wendy Ruopp', False]\n",
        "6410 ['casino worker', 'Nancy Fink', False]\n",
        "6413 ['medical student', 'Joey Johnson', False]\n",
        "6412"
       ]
      },
      {
       "output_type": "stream",
       "stream": "stdout",
       "text": [
        " ['writer', 'Tom Baker', False]\n",
        "7777 ['copy editor', 'Dan Adkison', ['27-3041', 'Editors', 'Copy Editor']]\n",
        "7776 ['knitting store owner', 'Mary Harris', False]\n",
        "7775 ['contract attorney', 'Evan Nolan', False]\n",
        "7774 ['law librarian', 'Michelle LaLonde', ['25-4021', 'Librarians', 'Law Librarian']]\n",
        "7773 ['academic advisor', 'Trevor Bryan', False]\n",
        "7772 ['lawyer', 'Lucien Schmit', ['23-1011', 'Lawyers', 'Lawyer']]\n",
        "7771"
       ]
      },
      {
       "output_type": "stream",
       "stream": "stdout",
       "text": [
        " ['environmental consultant', 'Doug Zang', False]\n",
        "7770 ['dental assistant', 'Laurie Suter', ['31-9091', 'Dental Assistants', 'Dental Assistant']]\n",
        "7779 ['graphic artist', 'John Baker', ['27-1024', 'Graphic Designers', 'Graphic Artist']]\n",
        "7778 ['former teacher and stay-at-home mom', 'Eileen McQuiggan', ['MiscTeacher', 'Teacher', 'Teacher']]\n",
        "3917 ['state trooper', 'Joe Mecca', ['33-3051', \"Police and Sheriff's Patrol Officers\", 'State Trooper']]\n",
        "3916 ['internet project manager', 'Dan Emberley', False]\n",
        "3915 ['professor of history', 'Pam Tyler', False]\n",
        "3914"
       ]
      },
      {
       "output_type": "stream",
       "stream": "stdout",
       "text": [
        " ['golf course manager', 'John Chapman', False]\n",
        "3913 ['foreign service officer', 'Chuck Forrest', False]\n",
        "3912 ['attorney', 'Ron Black', ['23-1011', 'Lawyers', 'Attorney']]\n",
        "3911 ['programmer and analyst', 'Yael Sofaer', False]\n",
        "3910 ['community college professor', 'Keith Kashiwada', False]\n",
        "3919"
       ]
      },
      {
       "output_type": "stream",
       "stream": "stdout",
       "text": [
        " ['sales representative', 'Roger Brown', False]\n",
        "3918 ['middle school English teacher', 'Christi Gowen Roberts', ['MiscTeacher', 'Teacher', 'Teacher']]\n",
        "6730 ['library page', 'Karen Hoffman', False]\n",
        "6731 ['foreign service officer', 'Kirby Nelson', False]\n",
        "6732 ['editor and writer', 'Shelby Sadler', False]\n",
        "6733 ['science and math teacher', 'Becki Norris', ['MiscTeacher', 'Teacher', 'Teacher']]\n",
        "6734 ['host at SeaWorld and substitute teacher', 'Kyle Mathews', ['MiscTeacher', 'Teacher', 'Teacher']]\n",
        "6735 ['customer care representative', 'Cyd Musni', False]\n",
        "6736"
       ]
      },
      {
       "output_type": "stream",
       "stream": "stdout",
       "text": [
        " ['college student', 'Ryan Stander', False]\n",
        "6737 ['web developer', 'Leslie Sommer', ['15-1134', 'Web Developers', 'Web Developer']]\n",
        "6738 ['clinical research coordinator', 'Sarah Rubin', False]\n",
        "6739 ['patent agent', 'Robert Knecht Schmidt', False]\n",
        "8318 ['study hall supervisor and retail manager', 'Ryan McLaughlin', False]\n",
        "8319"
       ]
      },
      {
       "output_type": "stream",
       "stream": "stdout",
       "text": [
        " ['commercial photographer', 'Lee Karjala', False]\n",
        "3287 ['bartender', 'Paul McGonagle', ['35-3011', 'Bartenders', 'Bartender']]\n",
        "216 ['finance administrator', 'Patricia Perlowski', False]\n",
        "217 ['graduate student and research assistant', 'Suzanne Reeve', ['GradStu', 'Graduate student', 'Graduate student']]\n",
        "214 ['marketing consultant', \"Leslie Burns-Dell'Acqua\", ['13-1161', 'Market Research Analysts and Marketing Specialists', 'Marketing Consultant']]\n",
        "215 ['divinity student', 'Kevin Montgomery', False]\n",
        "212 ['marketing communication coordinator', 'Alex Rubington', False]\n",
        "213 ['teacher', 'Tim Russell', ['MiscTeacher', 'Teacher', 'Teacher']]\n",
        "210 ['teacher', 'Rick Pernod', ['MiscTeacher', 'Teacher', 'Teacher']]\n",
        "211"
       ]
      },
      {
       "output_type": "stream",
       "stream": "stdout",
       "text": [
        " ['researcher', 'Jonathan Henke', False]\n",
        "218 ['editor', 'Bud Humphrey', False]\n",
        "219 ['software analyst', 'Barrett Hildreth', False]\n",
        "6088 ['graduate student', 'Ana Catalina Posada', ['GradStu', 'Graduate student', 'Graduate student']]\n",
        "6089 ['family physician', 'Harris Cohen', ['29-1062', 'Family and General Practitioners', 'Family Physician']]\n",
        "6086 ['actress', 'Camryn Manheim', ['27-2011', 'Actors', 'Actress']]\n",
        "6087 ['actor and comic', 'Michael McKean', False]\n",
        "6084 ['actress', 'Holly Robinson Peete', ['27-2011', 'Actors', 'Actress']]\n",
        "6085 ['actor', 'Richard Kind', False]\n",
        "6082"
       ]
      },
      {
       "output_type": "stream",
       "stream": "stdout",
       "text": [
        " ['actress', 'Catherine Bell', ['27-2011', 'Actors', 'Actress']]\n",
        "6083 ['tight end', 'Shannon Sharpe', False]\n",
        "6080 ['attorney', 'Sara Doran', ['23-1011', 'Lawyers', 'Attorney']]\n",
        "6081 [\"children's librarian\", 'Steven Engelfried', ['25-4021', 'Librarians', \"Children's Librarian\"]]\n",
        "3649 ['business analyst', 'Fran Balin', ['13-1111', 'Management Analysts', 'Business Analyst']]\n",
        "3648 ['editor', 'Mark Staloff', False]\n",
        "3647 ['medical document courier', 'Patrick Burns', False]\n",
        "3646"
       ]
      },
      {
       "output_type": "stream",
       "stream": "stdout",
       "text": [
        " ['stockbroker', 'Carol Vincent', False]\n",
        "3645 ['doctoral student', 'Bridget Grimes', False]\n",
        "3644 ['MBA student', 'Alex Vulic', False]\n",
        "3643 ['accountant', 'Vanessa Fischer', ['13-2011', 'Accountants and Auditors', 'Accountant']]\n",
        "3642 ['lawyer', 'Michel Phillips', ['23-1011', 'Lawyers', 'Lawyer']]\n",
        "3641 ['college teaching assistant', 'Laura Wimberley', False]\n",
        "3640"
       ]
      },
      {
       "output_type": "stream",
       "stream": "stdout",
       "text": [
        " ['revenue agent', 'Sandy Yates', False]\n",
        "2550 ['paralegal', 'Nick Calton', ['23-2011', 'Paralegals and Legal Assistants', 'Paralegal']]\n",
        "2551 ['college freshman', 'Alexandra Petri', False]\n",
        "2552 ['actor', 'Cathleen Charleson', False]\n",
        "2553 ['software developer', 'Charlton Wilbur', False]\n",
        "2554"
       ]
      },
      {
       "output_type": "stream",
       "stream": "stdout",
       "text": [
        " ['freelance producer', 'Donna Deans', False]\n",
        "2555 ['educational researcher', 'Eric Barela', False]\n",
        "2556 ['naval officer', 'Janet Marnane', False]\n",
        "2557 ['traffic director', 'Brenda Buchanan', False]\n",
        "2558 ['attorney', 'Brett Hart', ['23-1011', 'Lawyers', 'Attorney']]\n",
        "2559"
       ]
      },
      {
       "output_type": "stream",
       "stream": "stdout",
       "text": [
        " ['11-year-old', 'David Hudson, Jr.', False]\n",
        "5010 ['middle school teacher', 'John Brown', ['MiscTeacher', 'Teacher', 'Teacher']]\n",
        "5011 ['surgeon', 'Bret DeLone', False]\n",
        "5012 ['graduate student and Latin teacher', 'Jim Hunt', ['GradStu', 'Graduate student', 'Graduate student']]\n",
        "5013 ['stay-at-home mom', 'Brielle Maynor', False]\n",
        "5014 ['executive editor', 'Traci Turnbaugh Siegel', False]\n",
        "5015 ['naval officer', 'Danny Whitehurst', False]\n",
        "5016 ['English teacher in France', 'Emily Ochoa', ['MiscTeacher', 'Teacher', 'Teacher']]\n",
        "5017"
       ]
      },
      {
       "output_type": "stream",
       "stream": "stdout",
       "text": [
        " ['grad student', 'Dino Buenviaje', False]\n",
        "5018 ['administrative assistant', 'Debbie Barnes', False]\n",
        "5019 ['writer', 'Lowell Goodman', False]\n",
        "69 ['11-year-old sixth grader', 'Patrick Zakem', False]\n",
        "4419"
       ]
      },
      {
       "output_type": "stream",
       "stream": "stdout",
       "text": [
        " ['assistant professor of clinical psychology', 'Penny Asay', False]\n",
        "4418 ['TV writer', 'Lisa Klink', False]\n",
        "4417 ['freelance writer and surtitlist', 'Jenna Wallis', False]\n",
        "4416 ['dog walker', 'Andy Wyke', False]\n",
        "4415 ['videographer', 'Cy Gardner', False]\n",
        "4414 ['math teacher', 'Ellen Goodman', ['MiscTeacher', 'Teacher', 'Teacher']]\n",
        "4413 ['publicist', 'Frances Yasprica', ['27-3031', 'Public Relations Specialists', 'Publicist']]\n",
        "4412"
       ]
      },
      {
       "output_type": "stream",
       "stream": "stdout",
       "text": [
        " ['foreign service officer', 'Steve Giegerich', False]\n",
        "4411 ['homemaker', 'Barbara Delisle', False]\n",
        "4410 ['attorney', 'Tim McGann', ['23-1011', 'Lawyers', 'Attorney']]\n",
        "919 ['writer and editor', 'Laurie Parker', False]\n",
        "918 ['ATM repairman', 'Jeff Slike', False]\n",
        "915 ['11-year-old', 'Whitney Dearden', False]\n",
        "914"
       ]
      },
      {
       "output_type": "stream",
       "stream": "stdout",
       "text": [
        " ['11-year-old', 'Aki Terasaki', False]\n",
        "917 ['systems consultant', 'Candy Martinez', False]\n",
        "916 ['engineer and consultant', 'Sam Longoria', False]\n",
        "911 ['11-year-old', 'William Marengo', False]\n",
        "910 ['12-year-old', 'Nicole Tantoco', False]\n",
        "913"
       ]
      },
      {
       "output_type": "stream",
       "stream": "stdout",
       "text": [
        " ['12-year-old', 'Eric Webb', False]\n",
        "912 ['10-year-old', 'Katie Baxter', False]\n",
        "796 ['medical student', 'Peggi Malys', False]\n",
        "7168 ['virtual assistant', 'Amanda Sonmor', False]\n",
        "7169"
       ]
      },
      {
       "output_type": "stream",
       "stream": "stdout",
       "text": [
        " ['college instructor of anthropology', 'Sandy Hollimon', False]\n",
        "7162 ['TV lighting technician', 'Carrie Oken', False]\n",
        "7163 ['author and hypnotherapist', 'Ali Binazir', False]\n",
        "7160 ['library assistant', 'Gerard Coletta', ['43-4121', 'Library Assistants, Clerical', 'Library Assistant']]\n",
        "7161"
       ]
      },
      {
       "output_type": "stream",
       "stream": "stdout",
       "text": [
        " ['high school English tutor', 'Claudia Kasvin', False]\n",
        "7166 ['videographer  and elementary school librarian', 'Scott Harris', False]\n",
        "7167 ['systems engineer', 'Julie Wolfson', False]\n",
        "7164 ['accountant', 'Jeff Gorham', ['13-2011', 'Accountants and Auditors', 'Accountant']]\n",
        "7165 ['research librarian', 'Margaret Metcalf', ['25-4021', 'Librarians', 'Research Librarian']]\n",
        "3701"
       ]
      },
      {
       "output_type": "stream",
       "stream": "stdout",
       "text": [
        " ['call center manager', 'Shawn Freeman', False]\n",
        "8079 ['bartender', 'John Fausz', ['35-3011', 'Bartenders', 'Bartender']]\n",
        "630 ['newspaper copy editor', 'Bob Fleenor', False]\n",
        "631 ['marketing manager', 'Doug Lach', False]\n",
        "8071 ['economics research analyst', 'Morgan Kruse', False]\n",
        "8070"
       ]
      },
      {
       "output_type": "stream",
       "stream": "stdout",
       "text": [
        " ['case manager', 'Dan Sims', False]\n",
        "8073 ['retired school library media specialist', 'Mona Hatfield', False]\n",
        "8072 ['graduate student of early American poetry', 'Joshua Bartlett', ['GradStu', 'Graduate student', 'Graduate student']]\n",
        "8075 ['law student', 'Jake Ayres', False]\n",
        "632 ['student and an actress', 'Linda Alznauer', False]\n",
        "8077"
       ]
      },
      {
       "output_type": "stream",
       "stream": "stdout",
       "text": [
        " ['swim coach', 'Beth Youngers', False]\n",
        "8076 ['actor', 'Lucas Peterson', False]\n",
        "633 ['office automation manager', 'Susan McGowan', False]\n",
        "634 ['college instructor', 'Michael Rooney', False]\n",
        "3706 ['sophomore', 'Sarah Nothnagel', False]\n",
        "635"
       ]
      },
      {
       "output_type": "stream",
       "stream": "stdout",
       "text": [
        " ['computer programmer', 'Lee Lassiter', ['15-1131', 'Computer Programmers', 'Computer Programmer']]\n",
        "8888 ['senior', 'Dave Piatt', False]\n",
        "636 ['research assistant', 'Robin Carroll', False]\n",
        "8637 ['12-year-old seventh grader', 'Xan Vessels', False]\n",
        "637"
       ]
      },
      {
       "output_type": "stream",
       "stream": "stdout",
       "text": [
        " ['director of academics for a national test preparation company', 'Bob Verini', False]\n",
        "1447 ['writer', 'Kathy Petras', False]\n",
        "1446 ['art director', 'Robert Van Newkirk', ['27-1011', 'Art Directors', 'Art Director']]\n",
        "1113 ['graduate student', 'Chris Capozzola', ['GradStu', 'Graduate student', 'Graduate student']]\n",
        "1112 ['public policy coordinator', 'Eric Newhouse', False]\n",
        "1443 ['substitute teacher', 'Deb Abbey', ['MiscTeacher', 'Teacher', 'Teacher']]\n",
        "1442 ['pharmacist', 'Marty Miller', False]\n",
        "1117"
       ]
      },
      {
       "output_type": "stream",
       "stream": "stdout",
       "text": [
        " ['taxpayer service representative', 'Richard Neale', False]\n",
        "1440 ['accountant', 'Lisa Doak', ['13-2011', 'Accountants and Auditors', 'Accountant']]\n",
        "1119 ['landscaper', 'Justin Porter', False]\n",
        "1118 ['real estate manager', 'Elaine Lavine', ['11-9141', 'Property, Real Estate, and Community Association Managers', 'Real Estate Manager']]\n",
        "3707 ['anthropologist', 'Walter Hartwig', ['19-3091', 'Anthropologists and Archeologists', 'Anthropologist']]\n",
        "1449 ['waitress', 'Mary Keefe', False]\n",
        "1448 ['accounts receivable manager', 'Bryan Adams', False]\n",
        "8889"
       ]
      },
      {
       "output_type": "stream",
       "stream": "stdout",
       "text": [
        " ['freshman', 'Betty Hsu', False]\n",
        "4859 ['business student', 'Corey Leahy', False]\n",
        "8636 [\"manufacturer's representative\", 'Rich Kenney', False]\n",
        "6780 ['research associate', 'Morgan Saxby', False]\n",
        "2005 ['teacher', 'Ken Hinton', ['MiscTeacher', 'Teacher', 'Teacher']]\n",
        "4857"
       ]
      },
      {
       "output_type": "stream",
       "stream": "stdout",
       "text": [
        " ['asphalt plant operator', 'Norman Rogers', ['51-8099', 'Plant and System Operators, All Other', 'Asphalt Plant Operator']]\n",
        "4584 ['photographer & desktop publisher', 'Naomi Barell Urbaitel', False]\n",
        "2008 ['teacher and theater professional', 'Marc Singer', ['MiscTeacher', 'Teacher', 'Teacher']]\n",
        "2009 ['software developer', 'Nathan Meyers', False]\n",
        "8635"
       ]
      },
      {
       "output_type": "stream",
       "stream": "stdout",
       "text": [
        " ['professional snake handler', 'Ken Freedman', False]\n",
        "4581 ['library assistant', 'Lawrence Hidaka', ['43-4121', 'Library Assistants, Clerical', 'Library Assistant']]\n",
        "790 ['student', 'Patrice Escalle', False]\n",
        "4852 ['editor', 'Laurie Utterback', False]\n",
        "4725 ['university professor', 'Gwynne Ash', False]\n",
        "4583 ['attorney', 'Matt Waddell', ['23-1011', 'Lawyers', 'Attorney']]\n",
        "4724 ['research librarian', 'Carolyn Sosnowski', ['25-4021', 'Librarians', 'Research Librarian']]\n",
        "8268 ['high school history teacher', 'Jonathan Shulman', ['MiscTeacher', 'Teacher', 'Teacher']]\n",
        "4582 ['graduate student', 'Aaron Kilmer', ['GradStu', 'Graduate student', 'Graduate student']]\n",
        "4727"
       ]
      },
      {
       "output_type": "stream",
       "stream": "stdout",
       "text": [
        " ['law student', 'Ashok Rau', False]\n",
        "6524 ['freelance business writer', 'Kim McShane', False]\n",
        "5199 ['actor', 'Scott Hermes', False]\n",
        "8634 ['vice president and project director', 'Delores Teus', False]\n",
        "4726"
       ]
      },
      {
       "output_type": "stream",
       "stream": "stdout",
       "text": [
        " ['student', 'Reynard Regenstreif-Harms', False]\n",
        "6914 ['twelve-year-old', 'Thomas Horn', False]\n",
        "4721 ['associate director', 'Justin Scupine', False]\n",
        "4720 ['director of judicial affairs', 'Scott Lewis', False]\n",
        "8264 ['junior', 'Shane Whitlock', False]\n",
        "4723 ['attorney', 'Jason Dizon', ['23-1011', 'Lawyers', 'Attorney']]\n",
        "4789"
       ]
      },
      {
       "output_type": "stream",
       "stream": "stdout",
       "text": [
        " ['English professor', 'Rich House', False]\n",
        "4788 ['adjunct English professor', 'Jean Oswald', False]\n",
        "4787 ['national security consultant', 'Bill Moore', False]\n",
        "4786 ['attorney', 'Jason Molnar', ['23-1011', 'Lawyers', 'Attorney']]\n",
        "4785 ['marketing executive', 'Gil Bauer', False]\n",
        "4784"
       ]
      },
      {
       "output_type": "stream",
       "stream": "stdout",
       "text": [
        " ['writer', 'Denise Powers', False]\n",
        "4783 ['Navy officer', 'Jeff McCollum', False]\n",
        "4782 ['senior at Northwestern University', 'Whitney Owens', False]\n",
        "4781 ['junior at Oklahoma State University', 'Cameron Blakemore', False]\n",
        "4780"
       ]
      },
      {
       "output_type": "stream",
       "stream": "stdout",
       "text": [
        " ['senior at the University of Washington', 'Tara Crabtree', False]\n",
        "5821 ['county government employee', 'Brandon Grace', False]\n",
        "5820 ['homemaker', 'Nancy Hoy', False]\n",
        "5823 ['middle school teacher', 'Jeff Lovingood', ['MiscTeacher', 'Teacher', 'Teacher']]\n",
        "5822 ['Ph.D. student and graduate instructor', 'Desi Hopkins', False]\n",
        "5825 ['fifth grade teacher', 'Alex Prinstein', ['MiscTeacher', 'Teacher', 'Teacher']]\n",
        "5824 ['attorney', 'Lori Duff', ['23-1011', 'Lawyers', 'Attorney']]\n",
        "5827"
       ]
      },
      {
       "output_type": "stream",
       "stream": "stdout",
       "text": [
        " ['graduate business student', 'Satish Pillalamarri', False]\n",
        "5826 ['internet editor', 'Robert Niles', False]\n",
        "5829 ['history teacher', 'Gail Flemmons', ['MiscTeacher', 'Teacher', 'Teacher']]\n",
        "5828 ['chemistry professor', 'David Burkey', ['25-1052', 'Chemistry Teachers, Postsecondary', 'Chemistry Professor']]\n",
        "8885 ['compliance analyst and voiceover artist', 'Arthur Chu', False]\n",
        "8632 ['12-year-old seventh grader', 'Thomas Hurley', False]\n",
        "6916"
       ]
      },
      {
       "output_type": "stream",
       "stream": "stdout",
       "text": [
        " ['twelve-year-old', 'Jessica Anderson', False]\n",
        "8631 ['12-year-old seventh grader', 'Shuli Jones', False]\n",
        "1182 ['college instructor', 'Bill Dickenson', False]\n",
        "8630 ['artist', 'David Whitehorse', False]\n",
        "199 ['apherisis recruiter and graduate student', 'Mia Hasouris', ['GradStu', 'Graduate student', 'Graduate student']]\n",
        "198 ['marketing analyst', 'Kerry Breitenbach', ['13-1161', 'Market Research Analysts and Marketing Specialists', 'Marketing Analyst']]\n",
        "195 ['technology manager', 'Maura Gatowski', False]\n",
        "194"
       ]
      },
      {
       "output_type": "stream",
       "stream": "stdout",
       "text": [
        " ['bookseller', 'Eric Schwendeman', False]\n",
        "197 ['mathematical statistician', 'Michael Starsinic', ['15-2041', 'Statisticians', 'Mathematical Statistician']]\n",
        "196 ['engineer', 'Doug Esker', False]\n",
        "191 ['writer', 'Doug Molitor', False]\n",
        "190 ['teacher', 'Roger Storm', ['MiscTeacher', 'Teacher', 'Teacher']]\n",
        "193 ['retired teacher', 'Larry Haney', ['MiscTeacher', 'Teacher', 'Teacher']]\n",
        "192 ['economist', 'John Ryan', ['19-3011', 'Economists', 'Economist']]\n",
        "6912 ['eleven-year-old', 'Joli Millner', False]\n",
        "2769 ['college student', 'Eric Floyd', False]\n",
        "2768"
       ]
      },
      {
       "output_type": "stream",
       "stream": "stdout",
       "text": [
        " ['playwright and director', 'Alan Bailey', False]\n",
        "2763 ['software engineer', 'Travis Troyer', False]\n",
        "2762 ['sales manager', 'Mark Lee', False]\n",
        "2761 ['personal success coach', 'Max Levaren', False]\n",
        "2760 ['management analyst', 'Trevor Norris', ['13-1111', 'Management Analysts', 'Management Analyst']]\n",
        "2767 ['college student', 'Kyle Hale', False]\n",
        "2766"
       ]
      },
      {
       "output_type": "stream",
       "stream": "stdout",
       "text": [
        " ['actor', 'Jason McCune', False]\n",
        "2765 ['administrative assistant and father', 'Mark Brown', False]\n",
        "2764 ['surgeon', 'Jackie Harrison', False]\n",
        "7908 ['homemaker and missionary', 'Sophia Schwarz', False]\n",
        "7909"
       ]
      },
      {
       "output_type": "stream",
       "stream": "stdout",
       "text": [
        " ['computer game designer', 'Scott Pearson', False]\n",
        "7900 ['analyst', 'Stephanie Fontaine', False]\n",
        "7901 ['land protection specialist', 'Chris Sullivan', False]\n",
        "6913 ['twelve-year-old', 'Molly Gier', False]\n",
        "7903 ['retired public defender', 'Henry Doering', False]\n",
        "7904"
       ]
      },
      {
       "output_type": "stream",
       "stream": "stdout",
       "text": [
        " ['research editor', 'Janet DeLand', False]\n",
        "7905 ['journalist', 'Bob Menaker', False]\n",
        "7906 ['editorial director', 'Kelly Regan', False]\n",
        "7907 ['family medicine physician', 'Christy Gibson', ['29-1062', 'Family and General Practitioners', 'Family Medicine Physician']]\n",
        "6271 ['property manager', 'Marty Moran', ['11-9141', 'Property, Real Estate, and Community Association Managers', 'Property Manager']]\n",
        "6270 ['paralegal', 'Nina Sudhakar', ['23-2011', 'Paralegals and Legal Assistants', 'Paralegal']]\n",
        "6273 ['Congressional aide', 'Zach Goldberg', False]\n",
        "6272"
       ]
      },
      {
       "output_type": "stream",
       "stream": "stdout",
       "text": [
        " ['travel agent and travel writer', 'Rosanne Coloccia', False]\n",
        "6275 ['self-proclaimed gadabout', 'John Munson', False]\n",
        "6274 ['history and East Asian studies student', 'Emily Bruemmer', False]\n",
        "6277 ['13-year-old', 'Alycia Kennedy', False]\n",
        "6276"
       ]
      },
      {
       "output_type": "stream",
       "stream": "stdout",
       "text": [
        " ['12-year-old', 'Mike Kim', False]\n",
        "6279 ['12-year-old', 'Matthew Cohn', False]\n",
        "420 ['marketing executive', 'Sharon Paterson', False]\n",
        "8883 ['marketing consultant', 'Al Lewis', ['13-1161', 'Market Research Analysts and Marketing Specialists', 'Marketing Consultant']]\n",
        "1183 ['attorney', 'Katie Miltich', ['23-1011', 'Lawyers', 'Attorney']]\n",
        "3452 ['attorney', 'David Stuart', ['23-1011', 'Lawyers', 'Attorney']]\n",
        "3453 ['school librarian', 'Mike Long', ['25-4021', 'Librarians', 'School Librarian']]\n",
        "3450 ['morning show radio producer', 'Spencer Kane', False]\n",
        "3451"
       ]
      },
      {
       "output_type": "stream",
       "stream": "stdout",
       "text": [
        " ['college professor', 'Michele Mohr', False]\n",
        "3456 ['homemaker', 'Pam Byers', False]\n",
        "3457 ['computer materials manager', 'Lyle Hertzig', False]\n",
        "3454 ['personal assistant', 'Hilary Waddles', False]\n",
        "3455"
       ]
      },
      {
       "output_type": "stream",
       "stream": "stdout",
       "text": [
        " ['airline and cruise scheduler', 'Steve Fried', False]\n",
        "3458 ['student', 'Jarma Jacobs', False]\n",
        "3459 ['railroad chef', 'Sam Varnado', False]\n",
        "858 ['customer relations specialist', 'Teresa Grasso', False]\n",
        "859 ['medical secretary', 'Jeff Corrigan', False]\n",
        "6"
       ]
      },
      {
       "output_type": "stream",
       "stream": "stdout",
       "text": [
        " ['information manager', 'Laura Gustafson', False]\n",
        "8905 ['shovel bum', 'Leszek Pawlowicz', False]\n",
        "5229 ['moderator', 'Tim Russert', False]\n",
        "5228 ['former governor', 'Christie Whitman', False]\n",
        "8409 ['senior', 'Mit Robertson', False]\n",
        "5223"
       ]
      },
      {
       "output_type": "stream",
       "stream": "stdout",
       "text": [
        " ['author and radio talk show host', 'Al Franken', False]\n",
        "5222 ['journalist', 'Gretchen Carlson', False]\n",
        "5221 ['news anchor', 'Keith Olbermann', ['27-3021', 'Broadcast News Analysts', 'News Anchor']]\n",
        "5220 ['computer support technician', 'Richard Adams', False]\n",
        "5227 ['talk show host', 'Tavis Smiley', ['27-3011', 'Radio and Television Announcers', 'Talk Show Host']]\n",
        "5226 ['network administrator', 'Cindy Reilly', False]\n",
        "5225"
       ]
      },
      {
       "output_type": "stream",
       "stream": "stdout",
       "text": [
        " ['writer and editor', 'Tanya Tyler', False]\n",
        "5224 ['electronic publishing consultant', 'Doug Yasso', False]\n",
        "616 ['College Tournament winner', 'Craig Barker', False]\n",
        "3063 ['attorney', 'Gregg Luchs', ['23-1011', 'Lawyers', 'Attorney']]\n",
        "3062 ['scientist', 'Kathryn Wildt', False]\n",
        "3061"
       ]
      },
      {
       "output_type": "stream",
       "stream": "stdout",
       "text": [
        " ['collections account manager', 'Rob Core', False]\n",
        "3060 ['attorney', 'Michelle St. James', ['23-1011', 'Lawyers', 'Attorney']]\n",
        "3067 ['high school teacher', 'Jack Breschard', ['MiscTeacher', 'Teacher', 'Teacher']]\n",
        "3066 ['geology student', 'Matthew Wiehr', False]\n",
        "3065 ['lieutenant commander in the U.S. Navy', 'Ernest Fagan', False]\n",
        "3064 ['freelance writer', 'Abigail Strubel', False]\n",
        "3069"
       ]
      },
      {
       "output_type": "stream",
       "stream": "stdout",
       "text": [
        " ['economic consultant', 'Alex Kania', False]\n",
        "3068 ['golf greenskeeper', 'Armando Martinez', False]\n",
        "7466 ['urologist', 'Justin Sausville', ['29-1069', 'Physicians and Surgeons, All Other', 'Urologist']]\n",
        "4817 ['technical writer', 'Jack Winters', ['27-3042', 'Technical Writers', 'Technical Writer']]\n",
        "4816 ['registered nurse', 'Warren Barber Kertland', ['29-1141', 'Registered Nurses', 'Registered Nurse']]\n",
        "3260 ['writer', 'David Steinhardt', False]\n",
        "1304 ['physician', 'Alan Kwaselow', False]\n",
        "1305 ['library assistant', 'Kathy Eckenroth', ['43-4121', 'Library Assistants, Clerical', 'Library Assistant']]\n",
        "1306"
       ]
      },
      {
       "output_type": "stream",
       "stream": "stdout",
       "text": [
        " ['medical student', 'Vik Vaz', False]\n",
        "1307 ['homemaker', 'Beth Doner', False]\n",
        "1300 ['civil servant', 'Jack Patton', False]\n",
        "1301 ['director of information services', 'Doug Morrison', False]\n",
        "1302"
       ]
      },
      {
       "output_type": "stream",
       "stream": "stdout",
       "text": [
        " ['college student', 'David Charlton, Jr.', False]\n",
        "1303 ['book editor', 'Steve Dhuey', ['27-3041', 'Editors', 'Book Editor']]\n",
        "1308 ['attorney', 'Scott Miskimon', ['23-1011', 'Lawyers', 'Attorney']]\n",
        "1309 ['product developer & designer', 'Marlene Reiss', False]\n",
        "498 ['metal artist and fabricator', 'Steve Northey', False]\n",
        "499 ['law student', 'Jamie Weiss', False]\n",
        "494 ['legal assistant and undergraduate student', 'Jenny Smoyer', ['GradStu', 'Graduate student', 'Graduate student']]\n",
        "495"
       ]
      },
      {
       "output_type": "stream",
       "stream": "stdout",
       "text": [
        " ['newspaper editor', 'Ken Costa', False]\n",
        "496 ['office manager', 'Lisa Van Every', False]\n",
        "497 ['office manager', 'Denise Berger', False]\n",
        "490 ['graduate student', 'Rokshana Thanadar', ['GradStu', 'Graduate student', 'Graduate student']]\n",
        "491 ['actor', 'Bradley Goodwill', False]\n",
        "492 ['program manager', 'Kim Lynn', False]\n",
        "493"
       ]
      },
      {
       "output_type": "stream",
       "stream": "stdout",
       "text": [
        " ['screenwriter', 'Paul McCudden', False]\n",
        "6479 ['homemaker', 'Regina Fitzsimmons', False]\n",
        "6478 ['student and teacher', 'Asad Jaleel', ['MiscTeacher', 'Teacher', 'Teacher']]\n",
        "6473 ['sophomore', 'Aidan Mehigan', False]\n",
        "6472 ['senior', 'Rachel Rothenberg', False]\n",
        "6471 ['newspaper reporter', 'Clay Wilson', False]\n",
        "6470"
       ]
      },
      {
       "output_type": "stream",
       "stream": "stdout",
       "text": [
        " ['clinical support specialist', 'Carolyn Zsoldos', False]\n",
        "6477 ['senior', 'Hema Karunakaram', False]\n",
        "6476 ['senior', 'Gabe Orlet', False]\n",
        "6475 ['senior', 'Stephanie Radke', False]\n",
        "6474 ['freshman', 'Solomon Howard', False]\n",
        "6915 ['twelve-year-old', 'Caroline Evans', False]\n",
        "7758"
       ]
      },
      {
       "output_type": "stream",
       "stream": "stdout",
       "text": [
        " ['social media consultant', 'Lisa Lyons', False]\n",
        "7755 ['after-school program coach', 'Jesse Tow', False]\n",
        "7754 ['contract specialist', 'Michael Tvaruzka', False]\n",
        "7757 ['civil liberties lawyer', 'Emily Garber', False]\n",
        "7756 ['writer', 'John Sellers', False]\n",
        "7751"
       ]
      },
      {
       "output_type": "stream",
       "stream": "stdout",
       "text": [
        " ['copy editor', 'Elisabeth Carrel', ['27-3041', 'Editors', 'Copy Editor']]\n",
        "7750 ['poet and professor', 'Randy Cauthen', False]\n",
        "7753 ['assistant professor of biology', 'Tamara Tatum-Broughton', False]\n",
        "7752 ['writer', 'Joey Falco', False]\n",
        "3939 ['copywriter', 'Joshua Brown', ['27-3043', 'Writers and Authors', 'Copywriter']]\n",
        "3938"
       ]
      },
      {
       "output_type": "stream",
       "stream": "stdout",
       "text": [
        " ['digital librarian', 'Karim Khan', False]\n",
        "3935 ['lawyer and homemaker', 'Kathleen Hale', False]\n",
        "3934 ['hospice chaplain', 'Tom Traylor', False]\n",
        "3937 ['real estate broker', 'Marjorie Fradin', ['41-9021', 'Real Estate Brokers', 'Real Estate Broker']]\n",
        "3936 ['attorney', 'John Bunnell', ['23-1011', 'Lawyers', 'Attorney']]\n",
        "3931 ['communications director', 'Josh Kamensky', False]\n",
        "3930"
       ]
      },
      {
       "output_type": "stream",
       "stream": "stdout",
       "text": [
        " ['journalist', 'Rachael King', False]\n",
        "3933 ['teacher', 'Monica Lenhard', ['MiscTeacher', 'Teacher', 'Teacher']]\n",
        "3932 ['graduate student', 'Helen Freeman', ['GradStu', 'Graduate student', 'Graduate student']]\n",
        "8332 ['lawyer', 'Brad Plovan', ['23-1011', 'Lawyers', 'Lawyer']]\n",
        "8333 ['investment analyst', 'Tim Kleiman', False]\n",
        "8330 ['engineer', 'Michael McRee', False]\n",
        "8331 ['associate editor', 'Shana Aborn', False]\n",
        "3265"
       ]
      },
      {
       "output_type": "stream",
       "stream": "stdout",
       "text": [
        " ['senior account executive', 'Steve DiGiulio', False]\n",
        "8337 ['defense consultant', 'Gary Roberts', False]\n",
        "6718 ['box office manager', 'Anne Damon', False]\n",
        "6719 ['architect', 'Julia Brown', False]\n",
        "6716 ['comedian and actor', 'Cheech Marin', False]\n",
        "6717"
       ]
      },
      {
       "output_type": "stream",
       "stream": "stdout",
       "text": [
        " ['Ph.D. student in chemical biology', 'Amy Tyszkiewicz', False]\n",
        "6714 ['actor', 'Alan Rachins', False]\n",
        "6715 ['actor', 'Steven Weber', False]\n",
        "6712 ['high school history teacher', 'Kori Tyler', ['MiscTeacher', 'Teacher', 'Teacher']]\n",
        "6713 ['college student', 'Ashok Bhaskar', False]\n",
        "6710 ['law clerk', 'Ben Auer', False]\n",
        "6711 ['arts administrator', 'Rhonda Scarborough', False]\n",
        "876"
       ]
      },
      {
       "output_type": "stream",
       "stream": "stdout",
       "text": [
        " ['reporter', 'Matt Barakat', False]\n",
        "3264 ['stay-at-home mom', 'Deirdre Basile', False]\n",
        "3267 ['graduate student', 'Susan Ferrari', ['GradStu', 'Graduate student', 'Graduate student']]\n",
        "874 ['homemaker', 'Judy Zellers', False]\n",
        "4044 ['study abroad program coordinator', 'Marc Hirsh', False]\n",
        "4045 ['quality control manager', 'Tom Bartanen', False]\n",
        "4046"
       ]
      },
      {
       "output_type": "stream",
       "stream": "stdout",
       "text": [
        " ['legal staffing specialist', 'Mike Monday', False]\n",
        "4047 ['actor', 'Jimmy Vollman', False]\n",
        "4040 ['Ph.D. candidate and part-time bank teller', 'Jeannie Sanke', False]\n",
        "4041 ['speech pathologist', 'Molly Secrest', ['29-1127', 'Speech-Language Pathologists', 'Speech Pathologist']]\n",
        "4042 ['chef and hotel manager', 'Arrington Widemire', False]\n",
        "4043"
       ]
      },
      {
       "output_type": "stream",
       "stream": "stdout",
       "text": [
        " ['library assistant', 'Holly Bright', ['43-4121', 'Library Assistants, Clerical', 'Library Assistant']]\n",
        "4048 ['artist', 'Jeff Robinson', False]\n",
        "4049 ['educator', 'Justin T. Bradford, Jr.', False]\n",
        "3266 ['teacher', 'Alan Husby', ['MiscTeacher', 'Teacher', 'Teacher']]\n",
        "3665 ['registered nurse', 'Brian Marshall', ['29-1141', 'Registered Nurses', 'Registered Nurse']]\n",
        "3664 ['city planner', 'Juli Hinds', ['19-3051', 'Urban and Regional Planners', 'City Planner']]\n",
        "3667 ['director of photography', 'Eric Trageser', False]\n",
        "3666 ['executive', 'Laura Ewing-Moore', False]\n",
        "3661"
       ]
      },
      {
       "output_type": "stream",
       "stream": "stdout",
       "text": [
        " ['executive assistant', 'Michelle Clum', ['43-6011', 'Executive Secretaries and Executive Administrative Assistants', 'Executive Assistant']]\n",
        "3660 ['writer and producer', 'Lee Ritchey', False]\n",
        "3663 ['tax attorney', 'Karen Sommers', ['23-1011', 'Lawyers', 'Tax Attorney']]\n",
        "3662 ['technical editor', 'Brian Adams', ['27-3041', 'Editors', 'Technical Editor']]\n",
        "3669 ['director of communications', 'Michael Caro', False]\n",
        "3668 ['playwright and teacher', 'Thad Davis', ['MiscTeacher', 'Teacher', 'Teacher']]\n",
        "2578 ['senior', 'Bea Vo', False]\n",
        "2579 ['senior', 'James Sumner', False]\n",
        "2576"
       ]
      },
      {
       "output_type": "stream",
       "stream": "stdout",
       "text": [
        " ['junior', 'Enos Williams', False]\n",
        "2577 ['junior', 'Jennifer Rehmann', False]\n",
        "2574 ['college student', 'Ray Sun', False]\n",
        "2575 ['senior', 'Kathy Thompson', False]\n",
        "2572 ['catering coordinator', 'Lauren High', False]\n",
        "2573 ['milliner', 'Suzette Mariotti', False]\n",
        "2570"
       ]
      },
      {
       "output_type": "stream",
       "stream": "stdout",
       "text": [
        " ['senior', 'Sahir Islam', False]\n",
        "2571 ['pediatrician', 'Ken Davis', False]\n",
        "3593 ['professor', 'Paul Horwitz', False]\n",
        "3592 ['accountant', 'Ruth Merriam', ['13-2011', 'Accountants and Auditors', 'Accountant']]\n",
        "3591 ['chemical and materials engineer', 'Steve Snyder', False]\n",
        "3590 ['legislative aide', 'Debbie Harris', False]\n",
        "3597 ['freelance music teacher', 'Connie Walters', ['MiscTeacher', 'Teacher', 'Teacher']]\n",
        "3596"
       ]
      },
      {
       "output_type": "stream",
       "stream": "stdout",
       "text": [
        " ['administrator', 'Alison Fowler', False]\n",
        "5038 ['from <i>Seinfeld</i>...', 'Jason Alexander', False]\n",
        "3594 ['elementary school librarian', 'Leigh King', False]\n",
        "5036 [\"from <i>Veronica's Closet</i>...\", 'Dan Cortese', False]\n",
        "5037"
       ]
      },
      {
       "output_type": "stream",
       "stream": "stdout",
       "text": [
        " ['from <i>The Carol Burnett Show</i>...', 'Carol Burnett', False]\n",
        "5034 ['exhibit developer', 'Matt Phillips', False]\n",
        "5035 ['costume shop supervisor', 'Doris Nash', False]\n",
        "5032 ['science writer', 'Kara Gavin', False]\n",
        "5033 ['psychiatrist', 'Kew Lee', ['29-1066', 'Psychiatrists', 'Psychiatrist']]\n",
        "5030"
       ]
      },
      {
       "output_type": "stream",
       "stream": "stdout",
       "text": [
        " ['investment manager', 'Jules Staniewicz', False]\n",
        "5031 ['retired educator', 'Lucy Anne McKosky', False]\n",
        "4435 ['landscape designer', 'Brian Baggett', ['17-1012', 'Landscape Architects', 'Landscape Designer']]\n",
        "4434 ['environmental analyst', 'Al Davis', ['19-2041', 'Environmental Scientists and Specialists, Including Health', 'Environmental Analyst']]\n",
        "4437 ['bartender', 'Scott Reed', ['35-3011', 'Bartenders', 'Bartender']]\n",
        "4436 ['business analyst', 'Heather Mathewson Rainville', ['13-1111', 'Management Analysts', 'Business Analyst']]\n",
        "4431 ['actor', 'Paul Rouffa', False]\n",
        "4430 ['lawyer', 'Jamie Capwell', ['23-1011', 'Lawyers', 'Lawyer']]\n",
        "4433 ['health policy analyst', 'Craig Schneider', False]\n",
        "4432"
       ]
      },
      {
       "output_type": "stream",
       "stream": "stdout",
       "text": [
        " ['United States Marine Corps major', 'Garth Sturdevant', False]\n",
        "4439 ['magazine editor', 'Scott Rogers', False]\n",
        "4438 ['attorney', 'Jackie Kaufman', ['23-1011', 'Lawyers', 'Attorney']]\n",
        "977 ['law student', 'Mike Yanochik', False]\n",
        "976 ['letter carrier', 'Dan Bowman', ['43-5052', 'Postal Service Mail Carriers', 'Letter Carrier']]\n",
        "975 ['senior personnel specialist', 'Sue Agos', False]\n",
        "974"
       ]
      },
      {
       "output_type": "stream",
       "stream": "stdout",
       "text": [
        " ['technical specialist', 'Bronwyn Noble', False]\n",
        "973 ['physician', 'Ira Schwartz', False]\n",
        "972 ['history teacher', 'Bev Schwartzberg', ['MiscTeacher', 'Teacher', 'Teacher']]\n",
        "971 ['financial analyst', 'Adam Green', False]\n",
        "970 ['private school teacher', 'Andrew Connally', ['MiscTeacher', 'Teacher', 'Teacher']]\n",
        "979 ['certified public accountant', 'Jonathan Lowenberg', ['13-2011', 'Accountants and Auditors', 'Certified Public Accountant']]\n",
        "978 ['customer service representative', 'Kim Wells', False]\n",
        "871"
       ]
      },
      {
       "output_type": "stream",
       "stream": "stdout",
       "text": [
        " ['flight attendant', 'Marielsa Ruiz', False]\n",
        "7952 ['Spanish instructor', 'Priscilla Byerly', False]\n",
        "1243 ['junior at Washington University in St. Louis', 'Jayanth Iyengar', False]\n",
        "8756 ['administrative assistant', 'Rhea Hantelman', False]\n",
        "8757"
       ]
      },
      {
       "output_type": "stream",
       "stream": "stdout",
       "text": [
        " ['clinical social worker', 'Andrea Massar', False]\n",
        "8927 ['senior at Harvard University', 'Julia Clark', False]\n",
        "8926 ['junior', 'Tucker Pope', False]\n",
        "8925 ['senior', 'Eric Turner', False]\n",
        "8924 ['senior', 'Kenesha Bennett', False]\n",
        "8923"
       ]
      },
      {
       "output_type": "stream",
       "stream": "stdout",
       "text": [
        " ['sophomore at Princeton University', \"Terry O'Shea\", False]\n",
        "8922 ['junior', 'Kevin Shen', False]\n",
        "8921 ['sophomore', 'Laurie Beckoff', False]\n",
        "8920 ['senior at UCLA', 'Ben Juster', False]\n",
        "8929 ['sophomore', 'Erika Sloan', False]\n",
        "8928"
       ]
      },
      {
       "output_type": "stream",
       "stream": "stdout",
       "text": [
        " ['senior at Ball State University', 'Alex Sventeckis', False]\n",
        "3386 ['travel agent', 'Susan Stowe', ['41-3041', 'Travel Agents', 'Travel Agent']]\n",
        "3387 ['writer', 'Robert Windeler', False]\n",
        "3384 ['assistant director', \"Thompson O'Sullivan\", False]\n",
        "7100 ['museum education coordinator', \"Jamie O'Hagin\", False]\n",
        "7101"
       ]
      },
      {
       "output_type": "stream",
       "stream": "stdout",
       "text": [
        " ['emergency police dispatcher', 'Rich Zayatz', False]\n",
        "7102 ['middle school librarian', 'Kate Palladino', False]\n",
        "3385 ['engineer', 'Doug Schwartz', False]\n",
        "7104 ['environmental engineer', 'Steve Meer', ['17-2081', 'Environmental Engineers', 'Environmental Engineer']]\n",
        "7105 ['English professor and mom', 'Liz Maziarz', False]\n",
        "7106"
       ]
      },
      {
       "output_type": "stream",
       "stream": "stdout",
       "text": [
        " ['retail assistant manager', 'Eugene Henderson', False]\n",
        "7107 ['granny nanny', 'Sandra McClellan', False]\n",
        "7108 ['social worker', 'Keri McConaghy', False]\n",
        "5410 ['music store manager', 'Judy MacLeod Reardon', False]\n",
        "5411 ['bookseller', 'Nick Aretakis', False]\n",
        "3380 ['teacher and writer', 'Judi Birnberg', ['MiscTeacher', 'Teacher', 'Teacher']]\n",
        "5413"
       ]
      },
      {
       "output_type": "stream",
       "stream": "stdout",
       "text": [
        " ['financial planner', 'Wes Pierce', False]\n",
        "1681 ['internet technical support advisor', 'Jordan Lees', False]\n",
        "1680 ['customer service representative', 'Lawrence Brown', False]\n",
        "1683 ['law student', 'Erin Glover', False]\n",
        "1682 ['high school English teacher', 'Randy Logan', ['MiscTeacher', 'Teacher', 'Teacher']]\n",
        "1685"
       ]
      },
      {
       "output_type": "stream",
       "stream": "stdout",
       "text": [
        " ['stand-up comedian', 'Reed Rankin', False]\n",
        "1684 ['writer', 'Heather Bell', False]\n",
        "1687 ['high school administrator and teacher', 'Denise Hay', ['MiscTeacher', 'Teacher', 'Teacher']]\n",
        "1686 ['library technician', 'Mary Danieli', False]\n",
        "1689 ['foreign language teacher', 'Linda Zusman', ['MiscTeacher', 'Teacher', 'Teacher']]\n",
        "1688 ['graduate student', 'Chuck Moul', ['GradStu', 'Graduate student', 'Graduate student']]\n",
        "653 ['senior', 'Stephanie Leveene', False]\n",
        "1408 ['registered nurse', 'Robert Bethard', ['29-1141', 'Registered Nurses', 'Registered Nurse']]\n",
        "1469 ['foreign service officer', 'Abby Aronson', False]\n",
        "1468"
       ]
      },
      {
       "output_type": "stream",
       "stream": "stdout",
       "text": [
        " ['police officer', 'Frank Spangenberg', False]\n",
        "1465 ['freelance communications business consultant', 'David Grant', False]\n",
        "1464 ['stay-at-home mom', 'Michelle Hickman', False]\n",
        "1467 ['film executive', 'Steve Berman', False]\n",
        "1466"
       ]
      },
      {
       "output_type": "stream",
       "stream": "stdout",
       "text": [
        " ['writer', 'Andrew Bernknopf', False]\n",
        "1461 [\"taxpayers' service representative\", 'Richard Neale', False]\n",
        "1460 ['graduate student', 'Erik Larsen', ['GradStu', 'Graduate student', 'Graduate student']]\n",
        "1463 ['newspaper district manager', 'Phil Turnbull', False]\n",
        "1462 ['government worker', 'Roxanne Smith', False]\n",
        "4239 ['technical writer', 'Steven Silver', ['27-3042', 'Technical Writers', 'Technical Writer']]\n",
        "4238"
       ]
      },
      {
       "output_type": "stream",
       "stream": "stdout",
       "text": [
        " ['banker', 'Kari Elias', False]\n",
        "4237 ['12-year-old', 'Kizzle Cote', False]\n",
        "4236 ['10-year-old', 'Harry Haghanegi', False]\n",
        "4235 ['11-year-old', 'Nicole Karrow', False]\n",
        "4234 ['bank trust officer', 'Camille Brovold', False]\n",
        "4233"
       ]
      },
      {
       "output_type": "stream",
       "stream": "stdout",
       "text": [
        " ['technical service manager', 'Ted Miller', False]\n",
        "4232 ['pharmacist', 'Cindy Nobles', False]\n",
        "4231 ['cook', 'Mark Chapman', False]\n",
        "4230 ['student', 'Paul Barndt', False]\n",
        "5591 ['software engineer', 'John Eskew', False]\n",
        "5590"
       ]
      },
      {
       "output_type": "stream",
       "stream": "stdout",
       "text": [
        " ['professional musician', 'Donna Lee DePrille', False]\n",
        "5593 ['director of operations', 'Andy Vandiver', False]\n",
        "5592 ['college history professor', 'Sally Hadden', False]\n",
        "5595 ['sales representative', \"Kerri O'Neill\", False]\n",
        "5594"
       ]
      },
      {
       "output_type": "stream",
       "stream": "stdout",
       "text": [
        " ['market researcher', 'Marilyn Mitchell', False]\n",
        "5597 ['attorney', 'Dave Tawney', ['23-1011', 'Lawyers', 'Attorney']]\n",
        "5596 ['college student', 'Pete Kane', False]\n",
        "5599 ['writer and editor', 'Alison Stern-Dunyan', False]\n",
        "5598 ['computer systems analyst', 'Sarah Gaymon', ['15-1121', 'Computer Systems Analysts', 'Computer Systems Analyst']]\n",
        "319 ['investment analyst', 'Sahir Islam', False]\n",
        "318 ['writer and editor', 'Michael Arnone', False]\n",
        "313"
       ]
      },
      {
       "output_type": "stream",
       "stream": "stdout",
       "text": [
        " ['transit cop', 'Frank Spangenberg', False]\n",
        "312 ['newsstand clerk', 'Lionel Goldbart', False]\n",
        "311 ['police officer', 'Frank Epstein', False]\n",
        "310 ['writer', 'Bob Harris', False]\n",
        "317 ['writer and internet specialist', 'David Sampugnaro', False]\n",
        "316"
       ]
      },
      {
       "output_type": "stream",
       "stream": "stdout",
       "text": [
        " ['consultant', 'Vinita Kailasanath', False]\n",
        "315 ['writer and producer', 'Steve Robin', False]\n",
        "314 ['research officer', 'Robert Slaven', False]\n",
        "1335 ['trademark consultant', 'Marianna Johnson', False]\n",
        "1334 ['graduate student & college English teacher', 'Tim Rosendale', ['GradStu', 'Graduate student', 'Graduate student']]\n",
        "1337 ['chemistry teacher', 'Pat Ostenburg', ['MiscTeacher', 'Teacher', 'Teacher']]\n",
        "1336"
       ]
      },
      {
       "output_type": "stream",
       "stream": "stdout",
       "text": [
        " ['poker player and dog walker', 'Charles Bagot', False]\n",
        "1331 ['school psychologist', 'Vicky Stanton', ['19-3031', 'Clinical, Counseling, and School Psychologists', 'School Psychologist']]\n",
        "1330 ['homemaker', 'Jennifer Wadsack', False]\n",
        "1333 ['law enforcement analyst', 'Nina Ostrovitz', False]\n",
        "1332 ['program manager', 'Todd Roshak', False]\n",
        "8699"
       ]
      },
      {
       "output_type": "stream",
       "stream": "stdout",
       "text": [
        " ['recycling operations specialist', 'Stephanie Femrite Stevens', False]\n",
        "8698 ['medical student', 'Parth Sheth', False]\n",
        "2299 ['public affairs director', 'Jake Edelman', ['11-2031', 'Public Relations and Fundraising Managers', 'Public Affairs Director']]\n",
        "2298 ['civil engineer', 'Robert Pantel', ['17-2051', 'Civil Engineers', 'Civil Engineer']]\n",
        "8129 ['refugee affairs officer', 'Allen Park', False]\n",
        "2293 ['video game merchandiser', 'Eric Allen', False]\n",
        "2292 ['pediatrician', 'Rebecca Pinchoff', False]\n",
        "2291"
       ]
      },
      {
       "output_type": "stream",
       "stream": "stdout",
       "text": [
        " ['11-year-old', 'Rachel Beckman', False]\n",
        "2290 ['11-year-old', 'Bobby Bretz', False]\n",
        "2297 ['medical student', 'Dan Cordas', False]\n",
        "2296 ['freelance puzzle editor', 'Karen L. Jones', False]\n",
        "2295"
       ]
      },
      {
       "output_type": "stream",
       "stream": "stdout",
       "text": [
        " ['social worker and notary public', 'Lisa Llanes-Simpson', False]\n",
        "2294 ['research scientist', 'Bruce Lin', False]\n",
        "8695 ['financial analyst', 'Matt Volk', False]\n",
        "8694 ['administrative services manager', 'Todd Martin', ['11-3011', 'Administrative Services Managers', 'Administrative Services Manager']]\n",
        "8125 ['freelance writer', 'Sarah Shemkus', False]\n",
        "8124 ['college registrar', 'Nichole Mancone', False]\n",
        "8691 ['graduate student in education', 'Tova Meyer', ['GradStu', 'Graduate student', 'Graduate student']]\n",
        "8690 ['archaeologist', 'Angela Murock Hussein', ['19-3091', 'Anthropologists and Archeologists', 'Archaeologist']]\n",
        "8693"
       ]
      },
      {
       "output_type": "stream",
       "stream": "stdout",
       "text": [
        " ['latent print examiner', 'Jen Yoak', False]\n",
        "8139 ['actuary', 'Matt Ruprecht', False]\n",
        "8692 ['lawyer', 'Melissa Jurgens', ['23-1011', 'Lawyers', 'Lawyer']]\n",
        "7290 ['interactive developer', 'Daniel Cohen', False]\n",
        "7291 ['movie editor', 'Stephanie Munroe', ['27-4032', 'Film and Video Editors', 'Movie Editor']]\n",
        "7292 ['housewife', 'Sara Heard', False]\n",
        "7293 ['localization editor', 'Michelle Franklin', False]\n",
        "7294"
       ]
      },
      {
       "output_type": "stream",
       "stream": "stdout",
       "text": [
        " ['intellectual property attorney', 'Miguel Ruiz', False]\n",
        "7295 ['museum educator', 'Annie Douglass', False]\n",
        "7296 ['community college professor of literature', 'Amy Fulton Stout', False]\n",
        "7297 ['chemical engineer', 'Jim Fenton', False]\n",
        "7298"
       ]
      },
      {
       "output_type": "stream",
       "stream": "stdout",
       "text": [
        " ['operations specialist', 'John Paul Manuel', ['55-3015', 'Command and Control Center Specialists', 'Operations Specialist']]\n",
        "7299 ['special education teacher', 'Andrew Fuller', ['MiscTeacher', 'Teacher', 'Teacher']]\n",
        "7704 ['political consultant', 'Michael McCall', ['19-3094', 'Political Scientists', 'Political Consultant']]\n",
        "7928 ['college librarian', 'Kimberley Stephenson', ['25-4021', 'Librarians', 'College Librarian']]\n",
        "7929 ['high school theology teacher', 'Dan Burke', ['MiscTeacher', 'Teacher', 'Teacher']]\n",
        "7705 ['attorney', 'Sarah Edwards', ['23-1011', 'Lawyers', 'Attorney']]\n",
        "6299 ['artist and administrative assistant', 'Gina Ash', False]\n",
        "6298 ['film industry analyst', 'Woods Gleason', False]\n",
        "6297 ['graphics design student', 'Jonathan Vaughan', False]\n",
        "6296"
       ]
      },
      {
       "output_type": "stream",
       "stream": "stdout",
       "text": [
        " ['from Van Nuys, California...', 'Joel Lewin', False]\n",
        "6295 ['accountant', 'David Roussel', ['13-2011', 'Accountants and Auditors', 'Accountant']]\n",
        "6294 ['lawyer', 'Carol Childs', ['23-1011', 'Lawyers', 'Lawyer']]\n",
        "6293 ['sportscaster', 'Greg Gumbel', False]\n",
        "6292 ['sportscaster', 'Jim Lampley', False]\n",
        "6291 ['sportscaster', 'Al Michaels', False]\n",
        "6290 ['retail specialist', 'Chris Miller', False]\n",
        "37 ['paralegal', 'Beth Salkind', ['23-2011', 'Paralegals and Legal Assistants', 'Paralegal']]\n",
        "4672"
       ]
      },
      {
       "output_type": "stream",
       "stream": "stdout",
       "text": [
        " ['senior', 'Will Casper', False]\n",
        "7708 ['classical violist', 'Andrew Knebel', False]\n",
        "7709 ['writer and communications strategist', 'Susannah Rosenblatt', False]\n",
        "8511 ['data analyst', 'Darryl Campbell', False]\n",
        "3438 ['senior', 'Naomi Hinchen', False]\n",
        "3439"
       ]
      },
      {
       "output_type": "stream",
       "stream": "stdout",
       "text": [
        " ['junior', 'Frank Firke', False]\n",
        "4936 ['sophomore', 'Jonathan Hawley', False]\n",
        "878 ['law student', 'Brendie Vance', False]\n",
        "879 ['international program administrator', 'Steve Kohl', False]\n",
        "3430"
       ]
      },
      {
       "output_type": "stream",
       "stream": "stdout",
       "text": [
        " ['bookseller', 'Jennifer Read', False]\n",
        "3431 ['sophomore', 'Eliza Urban', False]\n",
        "3432 ['freshman', 'Jeffrey Gerlomes', False]\n",
        "3433 ['sophomore', 'Stephen Fritz', False]\n",
        "3434 ['senior', 'Myles Jeffrey', False]\n",
        "3435"
       ]
      },
      {
       "output_type": "stream",
       "stream": "stdout",
       "text": [
        " ['junior', 'Allison Dziuba', False]\n",
        "3436 ['senior', 'Caroline Bartman', False]\n",
        "3437 ['junior', 'Ben Schenkel', False]\n",
        "2741 ['archivist', 'Michelle Lellouche', ['25-4011', 'Archivists', 'Archivist']]\n",
        "2740 ['teacher', 'Debbie May', ['MiscTeacher', 'Teacher', 'Teacher']]\n",
        "2743 ['teacher', 'Ouida Rellstab', ['MiscTeacher', 'Teacher', 'Teacher']]\n",
        "2742 ['writer', 'Steve Morris', False]\n",
        "4848 ['college librarian', 'Val Ontell', ['25-4021', 'Librarians', 'College Librarian']]\n",
        "2744 ['operations manager', 'Steve Rogitz', ['11-1021', 'General and Operations Managers', 'Operations Manager']]\n",
        "2747 ['journalist', 'Richard Perez-Pe\\xf1a', False]\n",
        "2746 ['opera singer', 'Gary Giardina', ['27-2042', 'Musicians and Singers', 'Opera Singer']]\n",
        "4844 ['graduate student', 'Adil Karim', ['GradStu', 'Graduate student', 'Graduate student']]\n",
        "2748 ['lawyer', 'Elise Beraru', ['23-1011', 'Lawyers', 'Lawyer']]\n",
        "4846"
       ]
      },
      {
       "output_type": "stream",
       "stream": "stdout",
       "text": [
        " ['systems analyst', 'Terry Currin', False]\n",
        "4847 ['computer training consultant', 'Sarah Simson', False]\n",
        "4840 ['science teacher', 'Tim Lynch', ['MiscTeacher', 'Teacher', 'Teacher']]\n",
        "4841 ['secretary and bookkeeper', 'Wendi Harrell', False]\n",
        "4842 ['systems engineer', 'Tammy King', False]\n",
        "4843"
       ]
      },
      {
       "output_type": "stream",
       "stream": "stdout",
       "text": [
        " ['international freight forwarder', 'Joe Padavic', False]\n",
        "4937 ['senior', 'Tara Franey', False]\n",
        "5201 ['meteorologist', 'Teresa Peachey', ['19-2021', 'Atmospheric and Space Scientists', 'Meteorologist']]\n",
        "5200 ['environmental policy analyst', 'Tom Kerr', False]\n",
        "5203 ['administrative assistant', 'Nancy Jasinski', False]\n",
        "5202"
       ]
      },
      {
       "output_type": "stream",
       "stream": "stdout",
       "text": [
        " ['administrative assistant and father', 'Mark Brown', False]\n",
        "5205 ['writer', 'Rikardo Ayala', False]\n",
        "5204 ['librarian', 'Cathy Royal', False]\n",
        "5207 ['Army officer', 'Steve Dalzell', False]\n",
        "5206 ['graduate student', 'Kris Markman', ['GradStu', 'Graduate student', 'Graduate student']]\n",
        "5209 ['contributing editor', 'Peggy Noonan', False]\n",
        "5208"
       ]
      },
      {
       "output_type": "stream",
       "stream": "stdout",
       "text": [
        " ['author and co-host', 'Tucker Carlson', False]\n",
        "4939 ['junior', 'Marcia Hensley', False]\n",
        "3049 ['bus driver', 'Bob Moore', False]\n",
        "3048 ['lawyer', 'Courtney Phillips', ['23-1011', 'Lawyers', 'Lawyer']]\n",
        "3041 ['retired teacher', 'Peg Pruitt', ['MiscTeacher', 'Teacher', 'Teacher']]\n",
        "3040 ['legislative director', 'Paul Kalomiris', False]\n",
        "3043 ['think tank director', 'Dave Mills', False]\n",
        "3042"
       ]
      },
      {
       "output_type": "stream",
       "stream": "stdout",
       "text": [
        " ['professor and tutor', 'Jeff Schwartz', False]\n",
        "3045 ['production assistant', 'Pamela Meneley', False]\n",
        "3044 ['technology specialist', 'Julie Dunlevy', False]\n",
        "3047 ['musician', 'Rick Knutsen', ['27-2042', 'Musicians and Singers', 'Musician']]\n",
        "3046 ['physician', 'Cecil Chang', False]\n",
        "7522 ['business manager', 'Lanny Timan', False]\n",
        "1094"
       ]
      },
      {
       "output_type": "stream",
       "stream": "stdout",
       "text": [
        " ['assistant professor and artist', 'Anne Connell', False]\n",
        "1095 ['finance supervisor', 'Kate Weiss', False]\n",
        "1096 ['medical student', 'Guy Pugh', False]\n",
        "1097 ['bookkeeper', 'Paula Massengale', ['43-3031', 'Bookkeeping, Accounting, and Auditing Clerks', 'Bookkeeper']]\n",
        "1090 ['graduate student', 'Carol Chaffee', ['GradStu', 'Graduate student', 'Graduate student']]\n",
        "1091 ['real estate lawyer', 'Tom Streit', False]\n",
        "1092 ['student', 'Jeanie Kyle', False]\n",
        "1093"
       ]
      },
      {
       "output_type": "stream",
       "stream": "stdout",
       "text": [
        " ['attorney and writer', 'Gary Klein', False]\n",
        "1912 ['rabbi', 'Lisa Izes', ['21-2011', 'Clergy', 'Rabbi']]\n",
        "1098 ['labor and delivery registered nurse', 'Alison Beightol', False]\n",
        "1099 ['assistant teacher', 'Mark Barrett', ['MiscTeacher', 'Teacher', 'Teacher']]\n",
        "7523 ['graduate student in economics', 'Liz Greenwood', ['GradStu', 'Graduate student', 'Graduate student']]\n",
        "1915 ['communications consultant', 'Cathy Boggs', False]\n",
        "8349 ['graduate student', 'Richard Hansen', ['GradStu', 'Graduate student', 'Graduate student']]\n",
        "1322 ['office assistant', 'Bruce Bullock', ['43-9061', 'Office Clerks, General', 'Office Assistant']]\n",
        "1323"
       ]
      },
      {
       "output_type": "stream",
       "stream": "stdout",
       "text": [
        " ['editor', 'Pam Wilson', False]\n",
        "1320 ['graduate student', 'Adam Weinstein', ['GradStu', 'Graduate student', 'Graduate student']]\n",
        "1321 ['proposal writer', 'Jenn Carlson', False]\n",
        "1326 ['research analyst', 'Breck Jeffery', False]\n",
        "1327 ['payroll specialist', 'Glenda Niemiec', False]\n",
        "1914 ['attorney', 'Keith Walker', ['23-1011', 'Lawyers', 'Attorney']]\n",
        "1325 ['law student', 'Kevin Jack', False]\n",
        "1328 ['attorney', 'Michael Levitin', ['23-1011', 'Lawyers', 'Attorney']]\n",
        "1329"
       ]
      },
      {
       "output_type": "stream",
       "stream": "stdout",
       "text": [
        " ['attorney and doctoral candidate', 'Pat Pauken', False]\n",
        "6451 ['engineering manager', 'Imran Arif Maskatia', False]\n",
        "6450 ['photographer and attorney', 'Christine Valada', False]\n",
        "6453 ['gaming management student', 'Jennifer Cutshall', False]\n",
        "6452 ['high school librarian', 'Jamison Hedin', ['25-4021', 'Librarians', 'High School Librarian']]\n",
        "6455 ['graduate student', 'Sara Kniffen', ['GradStu', 'Graduate student', 'Graduate student']]\n",
        "6454"
       ]
      },
      {
       "output_type": "stream",
       "stream": "stdout",
       "text": [
        " ['overnight grocery stocker', 'William English', False]\n",
        "6457 ['personal banking representative', 'Chris Rodrigues', False]\n",
        "6456 ['tutor', 'Ed Perez-Giz', ['25-3099', 'Teachers and Instructors, All Other', 'Tutor']]\n",
        "6459 ['junior', 'Emily Lever', False]\n",
        "6458 ['public health professional', 'Roopa Kalyanaraman Marcello', False]\n",
        "8136"
       ]
      },
      {
       "output_type": "stream",
       "stream": "stdout",
       "text": [
        " ['international education specialist', 'Steve Money', False]\n",
        "8137 ['project specialist', 'Wendy Hayes', False]\n",
        "8130 ['medical transcriptionist', 'Julie Reynolds', ['31-9094', 'Medical Transcriptionists', 'Medical Transcriptionist']]\n",
        "8131 ['law student', 'Joey Gutmann', False]\n",
        "6909 ['twelve-year-old', 'Ethan Waldman', False]\n",
        "6908 ['twelve-year-old', 'Will Walters', False]\n",
        "7739"
       ]
      },
      {
       "output_type": "stream",
       "stream": "stdout",
       "text": [
        " ['welder', 'Dennis Wright', False]\n",
        "7738 ['student of economics', \"Eileen O'Toole\", False]\n",
        "7733 ['caterer', 'Melanie Spratford', False]\n",
        "7732 ['actor', 'Vince Gatton', False]\n",
        "7731 ['university administrator', 'Alex Wright', ['11-9033', 'Education Administrators, Postsecondary', 'University Administrator']]\n",
        "7730 ['compliance analyst', 'Kyle Roll', False]\n",
        "7737"
       ]
      },
      {
       "output_type": "stream",
       "stream": "stdout",
       "text": [
        " ['newspaper insert writer and designer', 'Nick Bulum', False]\n",
        "7736 ['lawyer and aspiring grant writer', 'Nancy Nakayama', False]\n",
        "7735 ['copy editor', 'Cathy Guiles', ['27-3041', 'Editors', 'Copy Editor']]\n",
        "7734 ['law clerk', 'Greg Bentley', False]\n",
        "1916 ['actor', 'Paul Rouffa', False]\n",
        "3958 ['copy editor', 'William Toren', ['27-3041', 'Editors', 'Copy Editor']]\n",
        "3953"
       ]
      },
      {
       "output_type": "stream",
       "stream": "stdout",
       "text": [
        " ['residence hall director', 'Lore Guilmartin', False]\n",
        "3952 ['Ph.D. candidate', 'Jeremy Anderson', False]\n",
        "3951 ['law student', 'Graham Blake', False]\n",
        "3950 ['freelance writer', \"Julie O'Keefe\", False]\n",
        "3957 ['high school physics teacher', 'Mike Kelley', ['MiscTeacher', 'Teacher', 'Teacher']]\n",
        "3956 ['computer trainer', 'Marguerite Hester', False]\n",
        "3955"
       ]
      },
      {
       "output_type": "stream",
       "stream": "stdout",
       "text": [
        " ['art center director', 'Mark Fields', False]\n",
        "3954 ['graduate student', 'Roxanne Crocco', ['GradStu', 'Graduate student', 'Graduate student']]\n",
        "8358 ['claims processor', 'Christina Rodriguez', False]\n",
        "8359 ['website producer', 'Andy Hermann', False]\n",
        "8350 ['law clerk for a federal judge', 'Michael Ellis', False]\n",
        "8351"
       ]
      },
      {
       "output_type": "stream",
       "stream": "stdout",
       "text": [
        " ['hotel concierge', 'Bill Hawkins', ['39-6012', 'Concierges', 'Hotel Concierge']]\n",
        "8352 ['physical scientist', 'Laurel Schultz', ['19-2099', 'Physical Scientists, All Other', 'Physical Scientist']]\n",
        "8353 ['homemaker', 'Colleen Yarnell', False]\n",
        "8354 ['actor', 'Sherman Allen', False]\n",
        "8355 ['writer and game designer', 'Brad Geagley', False]\n",
        "8356 ['student', 'Dave Maney', False]\n",
        "8357"
       ]
      },
      {
       "output_type": "stream",
       "stream": "stdout",
       "text": [
        " ['homemaker', 'Nancy Zende', False]\n",
        "4062 ['doctoral candidate', 'Wes Borucki', False]\n",
        "4063 ['logistics manager', 'Jeff Melcher', ['11-3071', 'Transportation, Storage, and Distribution Managers', 'Logistics Manager']]\n",
        "4060 ['software support analyst', 'Dawn Alexander', False]\n",
        "4061 ['Internet content editor', 'Kara McDermott', False]\n",
        "4066"
       ]
      },
      {
       "output_type": "stream",
       "stream": "stdout",
       "text": [
        " ['stay-at-home mom', 'Lynn Walters', False]\n",
        "4067 ['international educator', 'Jim Laden', False]\n",
        "4064 ['financial consultant', 'Debbie Mamber', False]\n",
        "4065 ['TV engineer', 'Brian Carlson', False]\n",
        "4068 ['graduate student', 'Kathryn Wymer', ['GradStu', 'Graduate student', 'Graduate student']]\n",
        "4069 ['implementation specialist', 'David Jay', False]\n",
        "5784"
       ]
      },
      {
       "output_type": "stream",
       "stream": "stdout",
       "text": [
        " ['marketing executive', 'Laura Sturaitis', False]\n",
        "5785 ['technology consultant', 'Marlon Shows', False]\n",
        "5786 ['director of finance and administration', 'Rebecca Wilkinson', False]\n",
        "5787 ['legal assistant', 'Jerry Pyzansky', ['23-2011', 'Paralegals and Legal Assistants', 'Legal Assistant']]\n",
        "5780 ['market researcher', 'Kali Klena', False]\n",
        "5781"
       ]
      },
      {
       "output_type": "stream",
       "stream": "stdout",
       "text": [
        " ['litigation attorney', 'Murray Levin', False]\n",
        "5782 ['copywriter', 'Molly Woods', ['27-3043', 'Writers and Authors', 'Copywriter']]\n",
        "5783 ['caterer at fairs', 'Patrick Morris', False]\n",
        "5788 ['grant proposal writer', 'Lynne McKenna Frazier', False]\n",
        "5789 ['software developer', 'Trevor Janes', False]\n",
        "3603"
       ]
      },
      {
       "output_type": "stream",
       "stream": "stdout",
       "text": [
        " ['engineer and student', 'Brendan Pimper', False]\n",
        "3602 ['student', 'Samantha Ross', False]\n",
        "3601 ['stock trader', 'Khoa Le', ['41-3031', 'Securities, Commodities, and Financial Services Sales Agents', 'Stock Trader']]\n",
        "3600 ['retired art teacher', 'Betsy Bangs', ['MiscTeacher', 'Teacher', 'Teacher']]\n",
        "3607 ['writer', 'Ross Brown', False]\n",
        "3606 ['member of the U.S. Army Field Band', 'Bill Gabbard', False]\n",
        "3605"
       ]
      },
      {
       "output_type": "stream",
       "stream": "stdout",
       "text": [
        " ['grant writer', 'Arlynda Boyer', False]\n",
        "3604 ['bartender and actor', 'Steven Price', False]\n",
        "3609 ['graduate student', 'David Mann', ['GradStu', 'Graduate student', 'Graduate student']]\n",
        "3608 ['credit risk analyst', 'Lenore Muller', ['13-2041', 'Credit Analysts', 'Credit Risk Analyst']]\n",
        "4593 ['student and caterer', 'Nick Rolader', False]\n",
        "7529 ['auditor', 'Heather Anstaett', ['13-2011', 'Accountants and Auditors', 'Auditor']]\n",
        "4453 ['attorney', 'Steve Edwards', ['23-1011', 'Lawyers', 'Attorney']]\n",
        "4452 ['crisis intervention counselor', 'Manx Foster-Audlin', False]\n",
        "4451"
       ]
      },
      {
       "output_type": "stream",
       "stream": "stdout",
       "text": [
        " ['writer', 'Kurt Fried', False]\n",
        "4450 ['systems administrator', 'Arch Mott', False]\n",
        "4457 ['bartender', 'Cason Butterworth', ['35-3011', 'Bartenders', 'Bartender']]\n",
        "4456 ['seventh grade teacher', 'Gino Scalo', ['MiscTeacher', 'Teacher', 'Teacher']]\n",
        "4455 ['graduate student', 'Wendy Cornaby', ['GradStu', 'Graduate student', 'Graduate student']]\n",
        "4454 ['legal assistant', 'Christine Detz', ['23-2011', 'Paralegals and Legal Assistants', 'Legal Assistant']]\n",
        "4459 ['bond trader', 'Bruce Pickett', False]\n",
        "4458 ['flight attendant', 'Heidi Daniels', False]\n",
        "959 ['model', 'Donna Grant', ['41-9012', 'Models', 'Model']]\n",
        "958"
       ]
      },
      {
       "output_type": "stream",
       "stream": "stdout",
       "text": [
        " ['retired stagehand', 'Barry Molitch', False]\n",
        "951 ['writer', 'Richard Boyce', False]\n",
        "950 ['physician', 'Avrom Simon', False]\n",
        "953 ['lawyer', 'Jeff Bandman', ['23-1011', 'Lawyers', 'Lawyer']]\n",
        "952 ['telemarketing manager', 'Mary Barry', ['41-1012', 'First-Line Supervisors of Non-Retail Sales Workers', 'Telemarketing Manager']]\n",
        "955 ['lawyer', 'Anne Reynolds', ['23-1011', 'Lawyers', 'Lawyer']]\n",
        "954 ['elementary school teacher', 'Hardy Watts', ['MiscTeacher', 'Teacher', 'Teacher']]\n",
        "957 ['high school history and government teacher', 'Carrie Pfeiffer', ['MiscTeacher', 'Teacher', 'Teacher']]\n",
        "956 ['sales director', 'Roland Lange', ['11-2022', 'Sales Managers', 'Sales Director']]\n",
        "6334 ['Army wife', 'Melanie Leon', False]\n",
        "6335"
       ]
      },
      {
       "output_type": "stream",
       "stream": "stdout",
       "text": [
        " ['newspaper ad salesman', 'Dave Sutherland', False]\n",
        "6336 ['stay-at-home wife', 'Judy Nakamura', False]\n",
        "6337 ['account manager', 'Michael Schlitzer', False]\n",
        "6330 ['firefighter', 'Chris Serb', False]\n",
        "6331 ['museum publicist', 'Elisabeth Flynn', False]\n",
        "6332"
       ]
      },
      {
       "output_type": "stream",
       "stream": "stdout",
       "text": [
        " ['oil filtration business developer', 'Enrique Machado', False]\n",
        "6333 ['attorney', 'Luis Corchado', ['23-1011', 'Lawyers', 'Attorney']]\n",
        "6338 ['retired teacher', 'Belinda Reid', ['MiscTeacher', 'Teacher', 'Teacher']]\n",
        "6339 ['Air Force officer and helicopter pilot', 'Marcus Jackson', False]\n",
        "8909 ['head of the Consumer Financial Protection Bureau', 'Richard Cordray', False]\n",
        "8908"
       ]
      },
      {
       "output_type": "stream",
       "stream": "stdout",
       "text": [
        " ['aerospace consultant', 'Tom Nosek', False]\n",
        "717 ['psychology student', 'Mary Mason', False]\n",
        "8904 ['sports business writer', 'Andrew Westney', False]\n",
        "8907 ['strategic market analyst', 'Leslie Shannon', False]\n",
        "8906 ['retired Spanish teacher', 'Leslie Frates', ['MiscTeacher', 'Teacher', 'Teacher']]\n",
        "8901 ['attorney', 'Jim Scott', ['23-1011', 'Lawyers', 'Attorney']]\n",
        "8900"
       ]
      },
      {
       "output_type": "stream",
       "stream": "stdout",
       "text": [
        " ['food-bank coordinator', 'Tarn Allen', False]\n",
        "8903 ['copy editor', 'India Cooper', ['27-3041', 'Editors', 'Copy Editor']]\n",
        "8902 ['attorney for the UN IFAD', 'Chuck Forrest', False]\n",
        "4969 ['from <i>ER</i>...', 'Noah Wyle', False]\n",
        "4968"
       ]
      },
      {
       "output_type": "stream",
       "stream": "stdout",
       "text": [
        " ['from the Broadway revue <i>Putting It Together</i>...', 'Carol Burnett', False]\n",
        "7128 ['video game reviewer', 'Ryan Vogt', False]\n",
        "7129 ['stay-at-home mom', 'Andrea Barnes', False]\n",
        "7126 ['attorney', 'Chris Quin', ['23-1011', 'Lawyers', 'Attorney']]\n",
        "7127 ['web developer', 'Marissa Goldsmith', ['15-1134', 'Web Developers', 'Web Developer']]\n",
        "7124 ['account manager', 'Samantha Barry', False]\n",
        "7125 ['accountant', 'Corey York', ['13-2011', 'Accountants and Auditors', 'Accountant']]\n",
        "7122 ['tutor', 'Dennis Loo', ['25-3099', 'Teachers and Instructors, All Other', 'Tutor']]\n",
        "4965"
       ]
      },
      {
       "output_type": "stream",
       "stream": "stdout",
       "text": [
        " ['freelance writer', 'Deborah Gronich Tate', False]\n",
        "7120 ['corporate attorney', 'Andrew Sullivan', ['23-1011', 'Lawyers', 'Corporate Attorney']]\n",
        "7121 ['sales marketing consultant', 'Danni Steiner', False]\n",
        "4964 ['librarian', 'Judith Koveleskie', False]\n",
        "6841 ['comic book artist', 'Gordon Purcell', ['27-1013', 'Fine Artists, Including Painters, Sculptors, and Illustrators', 'Comic Book Artist']]\n",
        "1669 ['image consultant', 'Jenny Winslow', False]\n",
        "1668 ['social studies teacher', 'Dan Mathews', ['MiscTeacher', 'Teacher', 'Teacher']]\n",
        "1667"
       ]
      },
      {
       "output_type": "stream",
       "stream": "stdout",
       "text": [
        " ['from Dallas, Texas...', 'Amber Key-Murphy', False]\n",
        "1666 ['seventh-grader', 'Chad Mosher', False]\n",
        "1665 ['twelve-year-old', 'Madeleine Schwartz', False]\n",
        "1664 ['physician', 'Marianne Vahey', False]\n",
        "1663 ['writer and entrepreneur', 'Deborah Melman-Clement', False]\n",
        "1662"
       ]
      },
      {
       "output_type": "stream",
       "stream": "stdout",
       "text": [
        " ['PC technician', 'Kim Clemmer', False]\n",
        "1661 ['twelve-year-old seventh-grader', 'Jacob Collins', False]\n",
        "1660 ['twelve-year-old seventh grader', 'Nina Garcia', False]\n",
        "591 ['researcher', 'Robin Carroll', False]\n",
        "590"
       ]
      },
      {
       "output_type": "stream",
       "stream": "stdout",
       "text": [
        " ['medical student', 'Wes Ulm', False]\n",
        "593 ['developer', 'Charles Hubert', False]\n",
        "592 ['journalist', 'Ted Kissell', False]\n",
        "595 ['research biologist', 'Cecile Myers', False]\n",
        "594 ['writer', 'Tom Walsh', False]\n",
        "597"
       ]
      },
      {
       "output_type": "stream",
       "stream": "stdout",
       "text": [
        " ['refugee resettlement coordinator', 'Aaron Gershowitz', False]\n",
        "596 ['U.S. Customs manager', 'Henry Zanetti', False]\n",
        "599 ['nursing assistant', 'Monica Nishida', False]\n",
        "598 ['teacher', 'Barbara Pixley', ['MiscTeacher', 'Teacher', 'Teacher']]\n",
        "2828 ['attorney', 'Jill Futch', ['23-1011', 'Lawyers', 'Attorney']]\n",
        "2829"
       ]
      },
      {
       "output_type": "stream",
       "stream": "stdout",
       "text": [
        " ['human resources executive', 'Walter Grubbs', False]\n",
        "2824 ['U.S. Secretary of Education', 'Hon. Margaret Spellings', False]\n",
        "2825 ['actor, writer, and director', 'Michael McKean', False]\n",
        "2826 ['graduate student', 'Steve Sanders', ['GradStu', 'Graduate student', 'Graduate student']]\n",
        "2827 ['training manager', 'Sharon Golembeski', False]\n",
        "2820"
       ]
      },
      {
       "output_type": "stream",
       "stream": "stdout",
       "text": [
        " ['bestselling novelist and practicing attorney', 'Scott Turow', False]\n",
        "2821 ['composer and musical director', 'Paul Shaffer', False]\n",
        "2822 ['actress', 'Susan Lucci', ['27-2011', 'Actors', 'Actress']]\n",
        "2823 ['actor', 'Hill Harper', False]\n",
        "5414 ['Episcopal priest', 'Kit Carlson', False]\n",
        "5415"
       ]
      },
      {
       "output_type": "stream",
       "stream": "stdout",
       "text": [
        " ['legislative assistant', 'Jenny Miller', False]\n",
        "5416 ['lawyer', 'Tom Aquino', ['23-1011', 'Lawyers', 'Lawyer']]\n",
        "5417 ['graduate student', 'Vanessa Osborne', ['GradStu', 'Graduate student', 'Graduate student']]\n",
        "3382 ['sales representative', 'Lynn Parana', False]\n",
        "3383 ['graduate student', 'Tom Baldridge', ['GradStu', 'Graduate student', 'Graduate student']]\n",
        "5412 ['housewife and writer', 'Lucinda Sabino', False]\n",
        "3381 ['freelance copywriter', 'Otis Maxwell', False]\n",
        "5418 ['information security analyst', 'Michael Vance', ['15-1122', 'Information Security Analysts', 'Information Security Analyst']]\n",
        "5419"
       ]
      },
      {
       "output_type": "stream",
       "stream": "stdout",
       "text": [
        " ['nonprofit executive', 'Tova Perlmutter', False]\n",
        "3388 ['Spanish teacher', 'Ben Kroll', ['MiscTeacher', 'Teacher', 'Teacher']]\n",
        "3389 ['federal attorney', 'Robin Parry', False]\n",
        "1409 ['downsize accountant', \"Martha O'Malley\", False]\n",
        "3965 ['computer programmer', 'Zach Baker', ['15-1131', 'Computer Programmers', 'Computer Programmer']]\n",
        "1403 ['graduate student instructor', 'Amit Ray', ['GradStu', 'Graduate student', 'Graduate student']]\n",
        "1402 ['educational director', 'Leslie Hickey', False]\n",
        "1401"
       ]
      },
      {
       "output_type": "stream",
       "stream": "stdout",
       "text": [
        " ['training and educational design specialist', 'Kevin Gomes', False]\n",
        "1400 ['stamp dealer', 'Tina Carlson', False]\n",
        "1407 ['marketing manager and grad student', 'Lauren Dean', False]\n",
        "1406 ['writer', 'Tom Kavanaugh', False]\n",
        "1405 ['political consultant', 'Keara Depenbrock', ['19-3094', 'Political Scientists', 'Political Consultant']]\n",
        "1404"
       ]
      },
      {
       "output_type": "stream",
       "stream": "stdout",
       "text": [
        " ['homemaker', 'Nancy Splane', False]\n",
        "4215 ['systems analyst', 'Rob Lewis', False]\n",
        "4214 ['in-house security and web designer', 'Jen Maloney', False]\n",
        "4217 ['IT consultant', 'Rita Byrd', False]\n",
        "4216"
       ]
      },
      {
       "output_type": "stream",
       "stream": "stdout",
       "text": [
        " ['college instructor', 'Rick Magee', False]\n",
        "4211 ['actor', 'Kevin Glaccum', False]\n",
        "4210 ['stay-at-home dad', 'Brett Chandler', False]\n",
        "4213 ['fourth grade teacher', 'Todd Butler', ['MiscTeacher', 'Teacher', 'Teacher']]\n",
        "4212 ['construction accountant', 'Lise Stephenson', False]\n",
        "5790 ['file clerk', 'Quinn Conway', ['43-4071', 'File Clerks', 'File Clerk']]\n",
        "4219 ['lawyer', 'David Bleich', ['23-1011', 'Lawyers', 'Lawyer']]\n",
        "4218"
       ]
      },
      {
       "output_type": "stream",
       "stream": "stdout",
       "text": [
        " ['Ph.D. student', 'Britt Terry', False]\n",
        "691 ['sports copy editor', 'Claudia Perry', False]\n",
        "696 ['high school English teacher', 'Matt Whitney', ['MiscTeacher', 'Teacher', 'Teacher']]\n",
        "697 ['library assistant', 'Lisa Voss', ['43-4121', 'Library Assistants, Clerical', 'Library Assistant']]\n",
        "3261 ['administrative assistant', 'Karen Gasperino', False]\n",
        "694 ['attorney', 'Larry Kaplan', ['23-1011', 'Lawyers', 'Attorney']]\n",
        "5579 ['marketing research manager', 'Freya Wolke', False]\n",
        "5578"
       ]
      },
      {
       "output_type": "stream",
       "stream": "stdout",
       "text": [
        " ['college theater manager', 'Sara Glidden', False]\n",
        "5577 ['office manager', 'Donna Corbett', False]\n",
        "5576 ['technical writer', 'Shawn Wilson', ['27-3042', 'Technical Writers', 'Technical Writer']]\n",
        "5575 ['senior', 'Charlie Carbery', False]\n",
        "5574 ['senior', 'Ben Chuchla', False]\n",
        "5573 ['senior', 'Shelby Malone', False]\n",
        "5572 ['junior', 'Audrey Hosford', False]\n",
        "5571"
       ]
      },
      {
       "output_type": "stream",
       "stream": "stdout",
       "text": [
        " ['senior', 'Drew Scheeler', False]\n",
        "5570 ['senior', 'Karan Takhar', False]\n",
        "3262 ['attorney', 'Josh Thorpe', ['23-1011', 'Lawyers', 'Attorney']]\n",
        "3968 ['retired programmer', 'Sheila Runyon', False]\n",
        "1937 ['playwright, actor, and director', 'Bob Verini', False]\n",
        "5798 ['economist', 'Marc Goldenberg', ['19-3011', 'Economists', 'Economist']]\n",
        "1936 ['writer', 'Eugene Finerman', False]\n",
        "339"
       ]
      },
      {
       "output_type": "stream",
       "stream": "stdout",
       "text": [
        " ['attorney', 'Jeff Richmond', ['23-1011', 'Lawyers', 'Attorney']]\n",
        "338 ['attorney', 'Michael Dup\\xe9e', ['23-1011', 'Lawyers', 'Attorney']]\n",
        "335 ['junior at Carnegie Mellon University', 'Kermin Fleming', False]\n",
        "334 ['entrepreneur', 'Mark Eckard', False]\n",
        "337 ['corporate researcher', 'Sandra Gore', False]\n",
        "336"
       ]
      },
      {
       "output_type": "stream",
       "stream": "stdout",
       "text": [
        " ['actor and writer', 'Jack Archey', False]\n",
        "331 ['freelance researcher', 'Barbara-Anne Eddy', False]\n",
        "330 ['physician', 'Stephen Lebowitz', False]\n",
        "333 ['model aircraft engine technician', 'Lance Johnson', False]\n",
        "332 ['radiologist', 'Roy Holliday', ['29-1069', 'Physicians and Surgeons, All Other', 'Radiologist']]\n",
        "3269"
       ]
      },
      {
       "output_type": "stream",
       "stream": "stdout",
       "text": [
        " ['systems analyst', 'Jeanne Davis', False]\n",
        "5125 ['College Championship winner', 'Ben Lyon', False]\n",
        "5126 ['teacher', 'Gordon Wean', ['MiscTeacher', 'Teacher', 'Teacher']]\n",
        "5127 ['metrologist', 'Bruce Borchardt', False]\n",
        "5002 ['from <i>The View</i>...', 'Meredith Vieira', False]\n",
        "3195 ['university administrator', 'Bonnie Zaben', ['11-9033', 'Education Administrators, Postsecondary', 'University Administrator']]\n",
        "3200 ['art dealer', 'Reagan Upshaw', False]\n",
        "6109"
       ]
      },
      {
       "output_type": "stream",
       "stream": "stdout",
       "text": [
        " ['Olympic figure skater', 'Scott Hamilton', False]\n",
        "6108 ['journalist and co-anchor', 'Jodi Applegate', False]\n",
        "6107 ['actor', 'Greg Germann', False]\n",
        "6106 ['bilingual language development specialist', 'Baltazar Pinedo', False]\n",
        "6105"
       ]
      },
      {
       "output_type": "stream",
       "stream": "stdout",
       "text": [
        " ['underwriter', 'Cindy Wassouf', False]\n",
        "6104 ['cable news producer', 'Nikki Egan', False]\n",
        "6103 ['independent filmmaker', 'Andrew Schwartz', False]\n",
        "6102 ['contract writer and retired educator', 'Bonnie Fish', False]\n",
        "6101 ['geophysicist', 'Roy Ha', ['19-2042', 'Geoscientists, Except Hydrologists and Geographers', 'Geophysicist']]\n",
        "6100"
       ]
      },
      {
       "output_type": "stream",
       "stream": "stdout",
       "text": [
        " ['actor and political satirist', 'Al Franken', False]\n",
        "9111 ['university librarian', 'Wendy Hardenberg', ['25-4021', 'Librarians', 'University Librarian']]\n",
        "9110 ['logistics coordinator', 'Matt Weldy', ['13-1081', 'Logisticians', 'Logistics Coordinator']]\n",
        "9112 ['professor of art history', 'Sami Siegelbaum', False]\n",
        "3336 ['attorney and mediator', 'Jim Bush', False]\n",
        "8029 ['manager of bear foundations', 'Matt Oldani', False]\n",
        "3416"
       ]
      },
      {
       "output_type": "stream",
       "stream": "stdout",
       "text": [
        " ['editor and writer', 'David Harris', False]\n",
        "3417 ['writer', 'Lynn Kendall', False]\n",
        "3414 ['senior', 'Heidi Liu', False]\n",
        "3415 ['senior', 'Kristin Briggs', False]\n",
        "3412"
       ]
      },
      {
       "output_type": "stream",
       "stream": "stdout",
       "text": [
        " ['freshman', 'Eryn Brown', False]\n",
        "3413 ['senior', 'Hank Robinson', False]\n",
        "3410 ['senior', \"Sue O' Connor\", False]\n",
        "3411 ['junior', 'David Honea', False]\n",
        "8532 ['7th grade teacher', 'LeeAnn Plona', ['MiscTeacher', 'Teacher', 'Teacher']]\n",
        "3418 ['disc jockey', 'Jim Maher', False]\n",
        "3419"
       ]
      },
      {
       "output_type": "stream",
       "stream": "stdout",
       "text": [
        " ['administrator', 'Rebecca Jacobs', False]\n",
        "8533 ['camera operator', 'Hunter Sandison', False]\n",
        "8534 ['website manager', \"Karen O'Donnell\", False]\n",
        "8535 ['marketing manager', 'Irwin Moskowitz', False]\n",
        "4868 ['bank manager', 'Rosalind Jaffe', False]\n",
        "4869"
       ]
      },
      {
       "output_type": "stream",
       "stream": "stdout",
       "text": [
        " ['production assistant', 'Terry Anderson', False]\n",
        "2019 ['physics and astronomy instructor', 'Mike Nassir', False]\n",
        "2018 ['master control operator', 'Rod Sanders', False]\n",
        "2015 ['early child-development specialist', 'Melinda Wittenburg', False]\n",
        "2014"
       ]
      },
      {
       "output_type": "stream",
       "stream": "stdout",
       "text": [
        " ['analyst for the Secret Service', 'Damian Kokinda', False]\n",
        "2017 ['stage manager', 'Kathryn Masters', ['27-2012', 'Producers and Directors', 'Stage Manager']]\n",
        "2016 ['publication editor', 'Jeff Rhodes', False]\n",
        "2011 ['software developer', 'Steve Wang', False]\n",
        "2010 ['writer', 'Steve Friedman', False]\n",
        "4864 ['lawyer', 'Paul Risner', ['23-1011', 'Lawyers', 'Lawyer']]\n",
        "4865 ['marketing specialist', 'Carrie Wright', ['13-1161', 'Market Research Analysts and Marketing Specialists', 'Marketing Specialist']]\n",
        "7444"
       ]
      },
      {
       "output_type": "stream",
       "stream": "stdout",
       "text": [
        " ['freelance writer and editor', 'Christine Janson', False]\n",
        "9034 ['foreign-service officer', 'Fr\\xe9d\\xe9rique Delapr\\xe9e', False]\n",
        "9035 ['higher-education administrator', 'Kristin McAuliffe', False]\n",
        "9038 ['criminal defense attorney', 'Donna Innes', False]\n",
        "9039"
       ]
      },
      {
       "output_type": "stream",
       "stream": "stdout",
       "text": [
        " ['data scientist', 'Dilip Rajagopalan', False]\n",
        "7013 ['bartender', 'Mike Hodel', ['35-3011', 'Bartenders', 'Bartender']]\n",
        "4890 ['student', 'Franklin Leonard', False]\n",
        "458 ['customer service representative', 'Paul Showalter', False]\n",
        "459 ['federal civil servant', 'Bridget Boyd', False]\n",
        "450"
       ]
      },
      {
       "output_type": "stream",
       "stream": "stdout",
       "text": [
        " ['housewife', 'Merle Milder', False]\n",
        "451 ['senior programmer analyst', 'Janice Bosley', False]\n",
        "452 ['waiter', 'Steve Hettinger', False]\n",
        "453 ['attorney', 'Eric Prosser', ['23-1011', 'Lawyers', 'Attorney']]\n",
        "454 ['computer expert', 'Bob Ryffel', False]\n",
        "455 ['salesperson', 'Jennifer Abbots', False]\n",
        "456"
       ]
      },
      {
       "output_type": "stream",
       "stream": "stdout",
       "text": [
        " ['data conversion operator', 'Billy Mason-Dennis', False]\n",
        "457 ['attorney', 'Andrew Hoenig', ['23-1011', 'Lawyers', 'Attorney']]\n",
        "8118 ['actor and photographer', 'Tom McGrath', False]\n",
        "8119 ['software consultant', 'Beth Copenhaver', False]\n",
        "6929 ['chemist', 'Bryn Reinecke', False]\n",
        "6928 ['substitute Spanish teacher', 'Victoria Rduch', ['MiscTeacher', 'Teacher', 'Teacher']]\n",
        "6925 ['sales support manager', 'Barbara Jackson', False]\n",
        "6924"
       ]
      },
      {
       "output_type": "stream",
       "stream": "stdout",
       "text": [
        " ['pharmacy student', 'J.C. Turner', False]\n",
        "6927 ['minister', 'Chris Dungan', ['21-2011', 'Clergy', 'Minister']]\n",
        "6926 ['copy editor', 'David Shear', ['27-3041', 'Editors', 'Copy Editor']]\n",
        "6921 ['credit underwriter', 'Barbara Gayle', False]\n",
        "6920 ['nanotechnology scientist', 'Saad Hasan', False]\n",
        "6923 ['public health physician', 'Anne Anglim', False]\n",
        "6922"
       ]
      },
      {
       "output_type": "stream",
       "stream": "stdout",
       "text": [
        " ['ATM support technician', 'Van Lane', False]\n",
        "7711 ['specialist for the national center on tribal childcare', 'Nina Stanton', False]\n",
        "7710 ['purchasing distributor', 'Tony Grey', False]\n",
        "7713 ['retired high school English teacher', 'Laura Whittle', ['MiscTeacher', 'Teacher', 'Teacher']]\n",
        "7712 ['apple farmer', 'Ben Parks-Stamm', False]\n",
        "7715"
       ]
      },
      {
       "output_type": "stream",
       "stream": "stdout",
       "text": [
        " ['musician', 'Stephen Shaw', ['27-2042', 'Musicians and Singers', 'Musician']]\n",
        "7714 ['communications coordinator', 'Annie Lyon', False]\n",
        "7717 ['project manager in health care', 'Galen Benshoof', False]\n",
        "7716 ['human resources evaluator', 'Marion Baumgarten', False]\n",
        "7719 ['attorney', 'Vijay Iyer', ['23-1011', 'Lawyers', 'Attorney']]\n",
        "7718 ['graduate student in creative writing', 'Jessamine Price', ['GradStu', 'Graduate student', 'Graduate student']]\n",
        "832 ['attorney', 'Marlene Lein', ['23-1011', 'Lawyers', 'Attorney']]\n",
        "8376"
       ]
      },
      {
       "output_type": "stream",
       "stream": "stdout",
       "text": [
        " ['lawyer', 'Nancy Ferro', ['23-1011', 'Lawyers', 'Lawyer']]\n",
        "8377 ['hospital librarian', \"Diane O'Keefe\", False]\n",
        "8374 ['registered nurse', 'Debby Arnold', ['29-1141', 'Registered Nurses', 'Registered Nurse']]\n",
        "8375 ['Ph.D. candidate', 'Brent Noel', False]\n",
        "8372 ['office manager', 'Denise Shames', False]\n",
        "8373"
       ]
      },
      {
       "output_type": "stream",
       "stream": "stdout",
       "text": [
        " ['computer progammer', 'Dave Ewing', False]\n",
        "8370 ['test prep teacher and tutor', 'Kinu Panda', ['MiscTeacher', 'Teacher', 'Teacher']]\n",
        "8371 ['baseball card proofreader', 'David Enslee', False]\n",
        "833 ['graduate student', 'Eric Margelefsky', ['GradStu', 'Graduate student', 'Graduate student']]\n",
        "8378 ['sales representative', 'Joe Menduni', False]\n",
        "8379 ['postdoctoral researcher', 'John Anneken', False]\n",
        "8074"
       ]
      },
      {
       "output_type": "stream",
       "stream": "stdout",
       "text": [
        " ['blogger', 'Amanda Lanyon-Lesage', False]\n",
        "752 ['lawyer', 'Tom Walker', ['23-1011', 'Lawyers', 'Lawyer']]\n",
        "4008 ['comedian and a writer', 'Kurt Weldon', False]\n",
        "4009 ['social worker', 'Lois Rothman', False]\n",
        "4000 ['junior', 'Rachel Gottesman', False]\n",
        "4001 ['senior', 'Jeffrey Baer', False]\n",
        "4002"
       ]
      },
      {
       "output_type": "stream",
       "stream": "stdout",
       "text": [
        " ['senior', 'Lisa Ackerman', False]\n",
        "4003 ['bookbuyer', 'John LeDonne', False]\n",
        "4004 ['lawyer and Seniors Tournament winner', 'Lou Pryor', False]\n",
        "4005 ['Spanish teacher', 'Leslie Frates', ['MiscTeacher', 'Teacher', 'Teacher']]\n",
        "4006 ['schoolteacher', 'Susan Sanchez', ['MiscTeacher', 'Teacher', 'Teacher']]\n",
        "4007 ['editorial analyst', 'Randy Amasia', False]\n",
        "3971"
       ]
      },
      {
       "output_type": "stream",
       "stream": "stdout",
       "text": [
        " ['minister and sales representative', 'Michael Rankins', False]\n",
        "3970 ['research analyst', 'Keith Bell', False]\n",
        "3973 ['senior', 'Greg Peterson', False]\n",
        "3972 ['actuary', 'Bob Blake', False]\n",
        "3975 ['senior', 'Meryl Federman', False]\n",
        "3974 ['senior', 'Andy Hutchins', False]\n",
        "3977"
       ]
      },
      {
       "output_type": "stream",
       "stream": "stdout",
       "text": [
        " ['sophomore', 'Ben Noe', False]\n",
        "3976 ['freshman', 'Aiden Pink', False]\n",
        "3979 ['senior', 'Amy Varallo', False]\n",
        "3978 ['freshman', 'Amy Levine', False]\n",
        "3629 ['grad student', 'Jen Benedict', False]\n",
        "3628 ['screenwriter', 'Chris Dellicarpini', False]\n",
        "3621 ['teacher', 'William Thill', ['MiscTeacher', 'Teacher', 'Teacher']]\n",
        "3620 ['science teacher', 'Susan Herder', ['MiscTeacher', 'Teacher', 'Teacher']]\n",
        "3623"
       ]
      },
      {
       "output_type": "stream",
       "stream": "stdout",
       "text": [
        " ['prosecutor', 'Kate Zimmermann', ['23-1011', 'Lawyers', 'Prosecutor']]\n",
        "3622 ['freelance writer', 'David Haglund', False]\n",
        "3625 ['state court judge', 'Diana Wheatley', False]\n",
        "3624 ['human resources executive', 'Fred Bauer', False]\n",
        "3627"
       ]
      },
      {
       "output_type": "stream",
       "stream": "stdout",
       "text": [
        " ['private investigator', 'Karen Anderson', ['33-9021', 'Private Detectives and Investigators', 'Private Investigator']]\n",
        "3626 ['teacher', 'Tim Woodward', ['MiscTeacher', 'Teacher', 'Teacher']]\n",
        "4479 ['technical support specialist', 'Chris McCarthy', False]\n",
        "4478 ['law student', 'Sean Smith', False]\n",
        "4471 ['physician', 'Jenn Cannon', False]\n",
        "4470 ['radio producer', 'Andy Kingsbury', ['27-2012', 'Producers and Directors', 'Radio Producer']]\n",
        "4473"
       ]
      },
      {
       "output_type": "stream",
       "stream": "stdout",
       "text": [
        " ['household and commercial mover', 'Marc Rusconi', False]\n",
        "4472 ['engineer', 'Jason Ross', False]\n",
        "4475 ['professional organizer', 'Leslie Rochlen', False]\n",
        "4474 ['chemistry teacher', 'Kate Sundeen', ['MiscTeacher', 'Teacher', 'Teacher']]\n",
        "4477 ['retired stockbroker', 'Martha Rothman', False]\n",
        "4476 ['finance manager', 'Mike Donilon', False]\n",
        "2953"
       ]
      },
      {
       "output_type": "stream",
       "stream": "stdout",
       "text": [
        " ['education evaluator', 'Marc Beebe', False]\n",
        "2464 ['regional financial officer', 'Lorin Burte', False]\n",
        "1025 ['graduate student', 'Brannon Denning', ['GradStu', 'Graduate student', 'Graduate student']]\n",
        "2466 ['banking vice president', 'Pat Watson', False]\n",
        "2467 ['software support specialist', 'Jack Rowley', False]\n",
        "2460 ['attorney', 'Lawrence Taylor', ['23-1011', 'Lawyers', 'Attorney']]\n",
        "2461"
       ]
      },
      {
       "output_type": "stream",
       "stream": "stdout",
       "text": [
        " ['career center manager', 'Holly Kurzman', False]\n",
        "2462 ['administrative assistant', 'Lo Bonfadini', False]\n",
        "5345 ['attorney', 'Ramar Wright', ['23-1011', 'Lawyers', 'Attorney']]\n",
        "2468 ['lieutenant colonel', 'Adele Odegard', False]\n",
        "1027 ['writer', 'Sarah Stegall', False]\n",
        "5347 ['environmental manager', 'Donna Duessel', False]\n",
        "1021"
       ]
      },
      {
       "output_type": "stream",
       "stream": "stdout",
       "text": [
        " ['physician', 'Elaine Zollner', False]\n",
        "1020 ['programmer and analyst', 'Keith Pickering', False]\n",
        "1023 ['advertising copywriter', 'Martin Gostanian', ['27-3043', 'Writers and Authors', 'Advertising Copywriter']]\n",
        "5343 ['educational assistant', 'Karen Madigan', False]\n",
        "6312"
       ]
      },
      {
       "output_type": "stream",
       "stream": "stdout",
       "text": [
        " ['freshman at Middlebury College', 'Keith Williams', False]\n",
        "6313 ['museum exhibit designer', 'Kevin Lamp', False]\n",
        "6310 ['junior at the University of Southern California', 'Ken Basin', False]\n",
        "6311"
       ]
      },
      {
       "output_type": "stream",
       "stream": "stdout",
       "text": [
        " ['senior at Wake Forest University', 'Jim Fitzpatrick', False]\n",
        "6316 ['real estate appraiser', 'David Burgoyne', ['13-2021', 'Appraisers and Assessors of Real Estate', 'Real Estate Appraiser']]\n",
        "6317 ['physical therapist', 'Cathy Strybel', ['29-1123', 'Physical Therapists', 'Physical Therapist']]\n",
        "6314 ['high school English teacher', 'Lynne Bruschetti', ['MiscTeacher', 'Teacher', 'Teacher']]\n",
        "6315 ['props master', 'Parker Morrison', False]\n",
        "8530 ['product manager', 'Lance Lawson', False]\n",
        "6318 ['travel accountant', 'Jeremy Harmon', False]\n",
        "6319 ['aspiring chef', 'Linda Simplicio', False]\n",
        "5348 ['graduate student', 'Guy Jordan', ['GradStu', 'Graduate student', 'Graduate student']]\n",
        "1028"
       ]
      },
      {
       "output_type": "stream",
       "stream": "stdout",
       "text": [
        " ['naval officer', 'Ken Mitchell', False]\n",
        "8531 ['human resources professional', 'Linda Vestrand', False]\n",
        "7684 ['senior at Duke University', 'Greer Mackebee', False]\n",
        "8969 ['billing manager', 'Jen Cosgrove', False]\n",
        "8968"
       ]
      },
      {
       "output_type": "stream",
       "stream": "stdout",
       "text": [
        " ['recent anthropology graduate', 'Gordon Graham', False]\n",
        "8963 ['middle school librarian', 'Julie Hornick', False]\n",
        "8962 ['graduate student of law and social work', 'Diana Peloquin', ['GradStu', 'Graduate student', 'Graduate student']]\n",
        "8961 ['jeweler', 'Kirsten Albair', False]\n",
        "8960 ['engineering manager', 'Tony Knechtges', False]\n",
        "8967 ['door person', 'Thad McCollum', False]\n",
        "8966 ['university administrator', 'Cameron Yahr', ['11-9033', 'Education Administrators, Postsecondary', 'University Administrator']]\n",
        "8965 ['high-school history teacher', 'Matt Kish', ['MiscTeacher', 'Teacher', 'Teacher']]\n",
        "8964"
       ]
      },
      {
       "output_type": "stream",
       "stream": "stdout",
       "text": [
        " ['contract attorney and stay-at-home mom', 'Jessica Rebel', False]\n",
        "1645 ['voice talent', 'Julie Seitter', False]\n",
        "1644 ['journalist', 'Jimmy Orsag', False]\n",
        "1647 ['journalist', 'Emily Krucoff', False]\n",
        "1646 ['procurement analyst', 'John Brett', False]\n",
        "1641"
       ]
      },
      {
       "output_type": "stream",
       "stream": "stdout",
       "text": [
        " ['manuscript cataloguer', 'Catherine Williamson', False]\n",
        "1640 ['professor of English', 'Fred Moten', False]\n",
        "1643 ['assistant dean', 'Jessica Epstein', False]\n",
        "1642 ['bartender', 'Tim Logue', ['35-3011', 'Bartenders', 'Bartender']]\n",
        "1649 ['college history professor', 'Melanie Perreault', False]\n",
        "1648 ['attorney', 'Amit Bose', ['23-1011', 'Lawyers', 'Attorney']]\n",
        "579"
       ]
      },
      {
       "output_type": "stream",
       "stream": "stdout",
       "text": [
        " ['college administrator', 'Dan Milliman', False]\n",
        "578 ['researcher', 'Bill McCulla', False]\n",
        "573 ['budget analyst', 'Trevor Norris', ['13-2031', 'Budget Analysts', 'Budget Analyst']]\n",
        "572 ['legal assistant', 'Phil Yellman', ['23-2011', 'Paralegals and Legal Assistants', 'Legal Assistant']]\n",
        "571 ['bartender', 'Kim Mihalick', ['35-3011', 'Bartenders', 'Bartender']]\n",
        "570 ['homemaker and writer', 'Victoria Esser', False]\n",
        "577 ['senior', 'Scott Gillispie', False]\n",
        "576 ['senior', 'Kimberly Bartlett', False]\n",
        "575"
       ]
      },
      {
       "output_type": "stream",
       "stream": "stdout",
       "text": [
        " ['senior', 'Franco Recchia', False]\n",
        "574 ['actuarial technician', 'Josh DenHartog', False]\n",
        "2808 ['actor/writer/producer', 'Harry Shearer', False]\n",
        "2809 ['fashion designer', 'Isaac Mizrahi', ['27-1022', 'Fashion Designers', 'Fashion Designer']]\n",
        "4956 ['grad student', 'Larissa Kelly', False]\n",
        "2802 ['mathematician', 'David Forman', ['15-2021', 'Mathematicians', 'Mathematician']]\n",
        "2803"
       ]
      },
      {
       "output_type": "stream",
       "stream": "stdout",
       "text": [
        " ['medical student', 'Tom Ayala', False]\n",
        "2800 ['homemaker', 'Rachel Berson', False]\n",
        "2801 ['product manager', 'John Foster', False]\n",
        "2806 ['actress', 'Bebe Neuwirth', ['27-2011', 'Actors', 'Actress']]\n",
        "2807 ['actor', 'James Denton', False]\n",
        "2804 ['ragtime piano player', 'Sue Keller', False]\n",
        "2805"
       ]
      },
      {
       "output_type": "stream",
       "stream": "stdout",
       "text": [
        " ['actor', 'Neil Patrick Harris', False]\n",
        "5432 ['systems manager', 'Mengmeng Zhang', False]\n",
        "5433 ['game designer', 'Maureen Wasley', False]\n",
        "5430 ['graduate student', 'Erik Nelson', ['GradStu', 'Graduate student', 'Graduate student']]\n",
        "5431 ['attorney', 'Melissa Noble', ['23-1011', 'Lawyers', 'Attorney']]\n",
        "5436 ['corporate trainer', 'Sean Doyle', ['13-1151', 'Training and Development Specialists', 'Corporate Trainer']]\n",
        "5437 ['nurse', \"Kitty O'Rourke\", False]\n",
        "5434 ['word processor', 'David Ivanov', ['43-9022', 'Word Processors and Typists', 'Word Processor']]\n",
        "5435"
       ]
      },
      {
       "output_type": "stream",
       "stream": "stdout",
       "text": [
        " ['remittance processing clerk', 'Laura Wallace', False]\n",
        "3364 ['bookseller', 'Lynn Honda', False]\n",
        "3365 ['roboticist', 'Richard Mason', False]\n",
        "5438 ['web application developer', 'Darren Munk', False]\n",
        "5439 ['writer and teacher', \"Peter O'Malley\", ['MiscTeacher', 'Teacher', 'Teacher']]\n",
        "3360 ['mother and home educator', 'Carol Stettheimer', False]\n",
        "3361 ['substitute teacher and graduate student', 'Sean Scarry', ['GradStu', 'Graduate student', 'Graduate student']]\n",
        "3362"
       ]
      },
      {
       "output_type": "stream",
       "stream": "stdout",
       "text": [
        " ['international relations specialist', 'Emilie Bruchon', False]\n",
        "3363 ['actor', 'Jeremy Proctor', False]\n",
        "4273 ['12-year-old', 'Jackson Ruzzo', False]\n",
        "4272 ['11-year-old', 'Michelle Cinguina', False]\n",
        "4271 ['11-year-old', 'Shay Collins', False]\n",
        "4270"
       ]
      },
      {
       "output_type": "stream",
       "stream": "stdout",
       "text": [
        " ['12-year-old', 'Elijah Granet', False]\n",
        "4277 ['registered nurse', 'Pamela Chin', ['29-1141', 'Registered Nurses', 'Registered Nurse']]\n",
        "4276 ['non-profit development director', 'Trip Robertson', False]\n",
        "4275 ['12-year-old', 'William Garrett', False]\n",
        "4274 ['12-year-old', 'Bethlehem Lema', False]\n",
        "609"
       ]
      },
      {
       "output_type": "stream",
       "stream": "stdout",
       "text": [
        " ['freelance writer and stand-up comedian', 'Kim Worth', False]\n",
        "4279 ['U.S. Navy flight officer', 'Chris Jason', False]\n",
        "4278 ['stagehand', 'Susan Kelleher', False]\n",
        "608 ['director of technical assistance', 'Eric Newhouse', False]\n",
        "5555"
       ]
      },
      {
       "output_type": "stream",
       "stream": "stdout",
       "text": [
        " ['university course administrator', 'Pim Lustig', False]\n",
        "5554 ['senior law enforcement support technician', 'Pat Crawley', False]\n",
        "5557 ['university professor', 'Robin Alvares', False]\n",
        "5556 ['senior program associate', 'Sarah Conrad', False]\n",
        "5551"
       ]
      },
      {
       "output_type": "stream",
       "stream": "stdout",
       "text": [
        " ['writer', 'Gerry Waggett', False]\n",
        "5550 ['territory manager', 'Mark McCague', False]\n",
        "5553 ['attorney', 'Jonathan Feuerman', ['23-1011', 'Lawyers', 'Attorney']]\n",
        "5552 ['gardener', 'Connie Campbell', False]\n",
        "5559 ['freelance illustrator', 'Amy Flynn', False]\n",
        "5558"
       ]
      },
      {
       "output_type": "stream",
       "stream": "stdout",
       "text": [
        " ['director of market research', 'Matt Caruso', False]\n",
        "4861 ['research scientist', 'Clay Brown', False]\n",
        "4866 ['researcher', 'Gabriel Schechter', False]\n",
        "4867 ['naval officer', 'Brett Kirwan', False]\n",
        "8589 ['preloader', 'Patrick Geary', False]\n",
        "8588"
       ]
      },
      {
       "output_type": "stream",
       "stream": "stdout",
       "text": [
        " ['stay-at-home mom', 'Mary Nadal', False]\n",
        "2013 ['direct marketing consultant', 'Janna Marshall', False]\n",
        "8581 ['nurse', 'Debbie Sherry', False]\n",
        "8580 ['engineering reports clerk', 'Linda Williams', False]\n",
        "8583"
       ]
      },
      {
       "output_type": "stream",
       "stream": "stdout",
       "text": [
        " ['sales manager', 'Steven Goldstein', False]\n",
        "2012 ['stay-at-home mom', 'Deborah Van Ness', False]\n",
        "8585 ['software developer and consultant', 'Alan Baltis', False]\n",
        "8584 ['lawyer', 'Cal Mason', ['23-1011', 'Lawyers', 'Lawyer']]\n",
        "8587 ['law professor', 'Michael deHaven Newsom', False]\n",
        "8586 ['management consultant', 'David Church', ['13-1111', 'Management Analysts', 'Management Consultant']]\n",
        "5883 ['novelist', 'Karin Hofland', ['27-3043', 'Writers and Authors', 'Novelist']]\n",
        "5882"
       ]
      },
      {
       "output_type": "stream",
       "stream": "stdout",
       "text": [
        " ['stay-at-home mom', 'Jessie Hopper', False]\n",
        "5881 ['pastor', 'Gavin Dluehosh', ['21-2011', 'Clergy', 'Pastor']]\n",
        "5880 ['retired librarian', 'Jeanie Welch', False]\n",
        "5887 ['graduate student', 'Jerome Socolof', ['GradStu', 'Graduate student', 'Graduate student']]\n",
        "5886 ['newspaper editor', 'Kenneth Burns', False]\n",
        "5885 ['teacher', 'Roger Storm', ['MiscTeacher', 'Teacher', 'Teacher']]\n",
        "5884 ['systems analyst', 'Marc Wade', False]\n",
        "5889 ['actuary', 'Kelly Rabin', False]\n",
        "5888"
       ]
      },
      {
       "output_type": "stream",
       "stream": "stdout",
       "text": [
        " ['contamination control technician', 'Jorge Rivero', False]\n",
        "6554 ['college professor', 'Jeff Trumbower', False]\n",
        "6555 ['online marketing executive', 'Kevin Cuddeback', False]\n",
        "6556 ['nanny', 'Bridget Lynch', ['39-9011', 'Childcare Workers', 'Nanny']]\n",
        "6557 ['jazz radio station development director', 'Jennifer Montgomery', False]\n",
        "6550"
       ]
      },
      {
       "output_type": "stream",
       "stream": "stdout",
       "text": [
        " ['systems administrator', 'Siobhan McKenney', False]\n",
        "6551 ['software engineer', 'Patrick Macaraeg', False]\n",
        "6552 ['primary teacher', 'Beverly Beardsley', ['MiscTeacher', 'Teacher', 'Teacher']]\n",
        "5873 ['student', 'Dan Smith', False]\n",
        "6558 ['TV actor and creator/producer', 'Joshua Malina', False]\n",
        "6559"
       ]
      },
      {
       "output_type": "stream",
       "stream": "stdout",
       "text": [
        " ['humorist, Spinal Tap bassist, and voice', 'Harry Shearer', False]\n",
        "8270 ['attorney', 'Mitch Paluszek', ['23-1011', 'Lawyers', 'Attorney']]\n",
        "5875 ['software development director', 'Lane Galloway', False]\n",
        "357 ['student', 'Ron Trigueiro', False]\n",
        "356 ['computer consultant', 'Leszek Pawlowicz', False]\n",
        "355 ['attorney', 'Tad Carithers', ['23-1011', 'Lawyers', 'Attorney']]\n",
        "354"
       ]
      },
      {
       "output_type": "stream",
       "stream": "stdout",
       "text": [
        " ['law professor', 'Al Lin', False]\n",
        "353 ['writer', 'Bruce Seymour', False]\n",
        "352 ['researcher', 'Sandra Gore', False]\n",
        "351 ['student and winner of the 1988 Teen Tournament', 'Michael Block', False]\n",
        "350"
       ]
      },
      {
       "output_type": "stream",
       "stream": "stdout",
       "text": [
        " ['creative director', 'John Beck', False]\n",
        "7508 ['documentary researcher', 'Dave Story', False]\n",
        "7509 ['vending route driver', 'Jared Balkman', False]\n",
        "359 ['architect', 'Leah Greenwald', False]\n",
        "358"
       ]
      },
      {
       "output_type": "stream",
       "stream": "stdout",
       "text": [
        " ['State Department employee', 'Mark Lowenthal', False]\n",
        "6125 ['fifth grade teacher', 'Deb Ronning', ['MiscTeacher', 'Teacher', 'Teacher']]\n",
        "4855 ['high school teacher', 'Kevin Fielder', ['MiscTeacher', 'Teacher', 'Teacher']]\n",
        "6127 ['musician and actor', 'Harry Connick, Jr.', False]\n",
        "6126 ['radio show production intern', 'A.J. Schumacher', False]\n",
        "6121 ['writer', 'Peter Sagal', False]\n",
        "6120 ['industrial designer', 'Joe Weidinger', False]\n",
        "6123"
       ]
      },
      {
       "output_type": "stream",
       "stream": "stdout",
       "text": [
        " ['recreational coordinator', 'Kyle Abello', False]\n",
        "6122 ['professor of African-American literature', 'Beth Ford', False]\n",
        "6129 ['actress, director and producer', 'Jodie Foster', False]\n",
        "6128 ['actor', 'Nathan Lane', False]\n",
        "4854"
       ]
      },
      {
       "output_type": "stream",
       "stream": "stdout",
       "text": [
        " ['HIV research scientist', 'Karin Travers', False]\n",
        "8677 ['software developer', 'Roy Jimenez', False]\n",
        "2190 ['property specialist', 'Karl Wallig', False]\n",
        "3225 ['advertising sales representative', 'Kent Coker', False]\n",
        "4632 ['musician', 'Greg Sabin', ['27-2042', 'Musicians and Singers', 'Musician']]\n",
        "2192 ['archaeologist', 'John Hooper', ['19-3091', 'Anthropologists and Archeologists', 'Archaeologist']]\n",
        "4630 ['attorney', 'Randy Boudreaux', ['23-1011', 'Lawyers', 'Attorney']]\n",
        "2259"
       ]
      },
      {
       "output_type": "stream",
       "stream": "stdout",
       "text": [
        " ['college champion', 'Andrew Hutchings', False]\n",
        "2258 ['receptionist', 'Jo Davidson', False]\n",
        "2257 ['IT programmer', 'Rich Small', False]\n",
        "4637 ['history teacher', 'Erin Weller', ['MiscTeacher', 'Teacher', 'Teacher']]\n",
        "2255 ['art dealer', 'Erin Weiss', False]\n",
        "2254 ['hotel concierge', 'James Arey', ['39-6012', 'Concierges', 'Hotel Concierge']]\n",
        "2253"
       ]
      },
      {
       "output_type": "stream",
       "stream": "stdout",
       "text": [
        " ['artist', 'Dan Girard', False]\n",
        "2252 ['stay-at-home mom', 'Melizza Zygmunt', False]\n",
        "2251 ['from <i>Dharma & Greg</i>...', 'Thomas Gibson', False]\n",
        "4636 ['language teacher', 'Dana Watrud', ['MiscTeacher', 'Teacher', 'Teacher']]\n",
        "3224"
       ]
      },
      {
       "output_type": "stream",
       "stream": "stdout",
       "text": [
        " ['web design manager', 'Brooke Scarpa', False]\n",
        "4635 ['publications editor', 'Kathleen Kinney', ['27-3041', 'Editors', 'Publications Editor']]\n",
        "4634 ['3-D animator', 'Steve Latourette', False]\n",
        "4800 ['from California...', 'Pat Frank', False]\n",
        "3227 ['attorney', 'Mary Beth Jones', ['23-1011', 'Lawyers', 'Attorney']]\n",
        "4802"
       ]
      },
      {
       "output_type": "stream",
       "stream": "stdout",
       "text": [
        " ['stay-at-home dad', 'Chris Culver', False]\n",
        "4803 ['college instructor', 'Susan Tull', False]\n",
        "4804 ['law student', 'Seale Pylate', False]\n",
        "4805 ['English teacher', 'Dave Martin', ['MiscTeacher', 'Teacher', 'Teacher']]\n",
        "4806 ['actor', 'Preston Spickler', False]\n",
        "4807 ['bartender', 'Marina Rimer', ['35-3011', 'Bartenders', 'Bartender']]\n",
        "4808 ['attorney', 'Kathy Grogman', ['23-1011', 'Lawyers', 'Attorney']]\n",
        "4809 ['English teacher', 'Heather Rhodes', ['MiscTeacher', 'Teacher', 'Teacher']]\n",
        "2789 ['lawyer', 'Romaine White', ['23-1011', 'Lawyers', 'Lawyer']]\n",
        "2788"
       ]
      },
      {
       "output_type": "stream",
       "stream": "stdout",
       "text": [
        " ['musician', 'Barry Koron', ['27-2042', 'Musicians and Singers', 'Musician']]\n",
        "2079 ['paramedic', 'Craig Westphal', ['29-2041', 'Emergency Medical Technicians and Paramedics', 'Paramedic']]\n",
        "2078 ['writer', 'Bruce Seymour', False]\n",
        "2073 ['marketing coordinator', 'Roberta Ellington', False]\n",
        "2072 ['filmmaker', 'Quinn Saunders', False]\n",
        "2071 ['dermatologist', 'Cindy Olson', ['29-1069', 'Physicians and Surgeons, All Other', 'Dermatologist']]\n",
        "2070"
       ]
      },
      {
       "output_type": "stream",
       "stream": "stdout",
       "text": [
        " ['project manager', 'Bill Wilcox', False]\n",
        "2077 ['high school administrator', 'Dave Traini', False]\n",
        "2076 ['graduate student', 'Jessica Tanner', ['GradStu', 'Graduate student', 'Graduate student']]\n",
        "2075 ['secretary', 'Kerry Rucidlo', False]\n",
        "2074 ['lawyer', 'Ron Landers', ['23-1011', 'Lawyers', 'Lawyer']]\n",
        "3221 ['associate professor', 'Laszlo Mero', False]\n",
        "8790"
       ]
      },
      {
       "output_type": "stream",
       "stream": "stdout",
       "text": [
        " ['writer and stay-at-home dad', 'Steven Durham', False]\n",
        "3220 ['instructional designer', 'Robin Carroll', False]\n",
        "8791 ['public health program coordinator', 'Whitney Magendie', False]\n",
        "3223 ['senior tax consultant', 'Gosia Czepek', False]\n",
        "8410"
       ]
      },
      {
       "output_type": "stream",
       "stream": "stdout",
       "text": [
        " ['senior', 'Fraser Woodford', False]\n",
        "8415 ['senior', 'Michael Block', False]\n",
        "3222 ['language teacher and scholar', 'Fredrik Gildea', ['MiscTeacher', 'Teacher', 'Teacher']]\n",
        "7081 ['associate director of policy', 'Stephanie Gumble', False]\n",
        "7080 ['homemaker', 'Diane Shafer', False]\n",
        "7083 ['chemist', 'Ellen Conlon', False]\n",
        "7082"
       ]
      },
      {
       "output_type": "stream",
       "stream": "stdout",
       "text": [
        " ['writer', \"Rebecca O'Brien\", False]\n",
        "7085 ['dental student and sports blogger', 'Kemi James', False]\n",
        "7084 ['retired middle school history teacher', 'Judy Shewmake', ['MiscTeacher', 'Teacher', 'Teacher']]\n",
        "7087 ['computer engineer', 'Matthew Warren', False]\n",
        "7086 ['editor and proofreader', 'Laura Button', False]\n",
        "7089"
       ]
      },
      {
       "output_type": "stream",
       "stream": "stdout",
       "text": [
        " ['director of communications', 'Kristin Anderson', False]\n",
        "7088 ['assistant professor of law', 'Charlie Penrod', False]\n",
        "6495 ['wife and mother', 'Lili Williams', False]\n",
        "6494 ['firefighter', 'Rich Quigley', False]\n",
        "6497 ['homemaker', 'Drusha Mussmann', False]\n",
        "6496 ['musician', 'Jarret Izzo', ['27-2042', 'Musicians and Singers', 'Musician']]\n",
        "6491"
       ]
      },
      {
       "output_type": "stream",
       "stream": "stdout",
       "text": [
        " ['doctor', 'Neil Silverman', False]\n",
        "6490 ['marketing executive', 'Todd Wilson', False]\n",
        "6493 ['custodial facilitator', 'R\\xf8b Severson', False]\n",
        "6492 ['writer/teacher/editor', 'Magdalen Powers', ['MiscTeacher', 'Teacher', 'Teacher']]\n",
        "8178 ['senior', 'Emily Greenberg', False]\n",
        "8179 ['senior', 'Barrett Block', False]\n",
        "6499 ['mathematics professor', 'Rob Poodiack', ['25-1022', 'Mathematical Science Teachers, Postsecondary', 'Mathematics Professor']]\n",
        "6498"
       ]
      },
      {
       "output_type": "stream",
       "stream": "stdout",
       "text": [
        " ['academic services coordinator', 'Elizabeth Fricker', False]\n",
        "6949 ['IT administrator', 'Markus Iturriaga', False]\n",
        "6948 ['high school Latin teacher', 'Meg Miller', ['MiscTeacher', 'Teacher', 'Teacher']]\n",
        "6943 ['newspaper copy editor and blogger', 'Pamela Nelson', False]\n",
        "6942 ['anthropology and botany student', 'Joe Gallagher', False]\n",
        "6941"
       ]
      },
      {
       "output_type": "stream",
       "stream": "stdout",
       "text": [
        " ['game designer and writer', 'Rich Baker', False]\n",
        "6940 ['legal assistant', 'Dan Highlands', ['23-2011', 'Paralegals and Legal Assistants', 'Legal Assistant']]\n",
        "6947 ['records manager', 'Jen Fick', False]\n",
        "6946 ['bookseller', 'Vince Femenella', False]\n",
        "6945 ['English professor', 'Nora Corrigan', False]\n",
        "6944 ['research editor', 'John Cunningham', False]\n",
        "870"
       ]
      },
      {
       "output_type": "stream",
       "stream": "stdout",
       "text": [
        " ['business manager', 'Mark Dawson', False]\n",
        "8998 ['data scientist', 'Roger Craig', False]\n",
        "8398 ['sophomore', 'Paige Radtke', False]\n",
        "8399 ['sophomore at Azusa Pacific University', 'Jack Houston', False]\n",
        "8394"
       ]
      },
      {
       "output_type": "stream",
       "stream": "stdout",
       "text": [
        " ['research scientist', 'Brian Donahue', False]\n",
        "8395 ['flea merchant', 'Jeff Lesemann', False]\n",
        "8396 ['sophomore at MIT', 'Trevor Walker', False]\n",
        "8397 ['junior at Baylor University', 'Taylor Roth', False]\n",
        "8390 ['sophomore', 'Jim Coury', False]\n",
        "8391 ['attorney', 'Anthony Keating', ['23-1011', 'Lawyers', 'Attorney']]\n",
        "8392"
       ]
      },
      {
       "output_type": "stream",
       "stream": "stdout",
       "text": [
        " ['network administrator', 'Rick Korbeck', False]\n",
        "8393 ['writer', 'Tim Paine', False]\n",
        "4398 ['attorney', 'Linda Dorney', ['23-1011', 'Lawyers', 'Attorney']]\n",
        "4399 ['teacher', 'Jason Benton', ['MiscTeacher', 'Teacher', 'Teacher']]\n",
        "4390 ['golf magazine publisher', 'Yancy Naughton', False]\n",
        "4391 ['part-time bookkeeper', 'Susan Kahn', False]\n",
        "4392"
       ]
      },
      {
       "output_type": "stream",
       "stream": "stdout",
       "text": [
        " ['public radio news reporter', 'Mitch Teich', False]\n",
        "4393 ['student', 'Sarah Bagby', False]\n",
        "4394 ['public relations and political consultant', 'Matt Cunningham', False]\n",
        "4395 ['corporate affairs manager', 'Debbie Ream', False]\n",
        "4396 ['advertising executive', 'Eli Cotham', ['11-2011', 'Advertising and Promotions Managers', 'Advertising Executive']]\n",
        "4397"
       ]
      },
      {
       "output_type": "stream",
       "stream": "stdout",
       "text": [
        " ['writer and editor', 'Rick Mulrooney', False]\n",
        "472 ['remedial English teacher', 'Joyce Sturgill', ['MiscTeacher', 'Teacher', 'Teacher']]\n",
        "473 ['astronomer', 'Brian Moore', ['19-2011', 'Astronomers', 'Astronomer']]\n",
        "470 ['librarian', 'Grace Veach', False]\n",
        "471 ['systems administrator', 'Steve McManus', False]\n",
        "476 ['film technician and audio editor', 'Boris Levit', False]\n",
        "3192 ['actor', 'Paul McCrane', False]\n",
        "474 ['lawyer', 'Dan Katz', ['23-1011', 'Lawyers', 'Lawyer']]\n",
        "475"
       ]
      },
      {
       "output_type": "stream",
       "stream": "stdout",
       "text": [
        " ['freshman at MIT', 'John Zhang', False]\n",
        "478 ['accountant', 'Michael Daunt', ['13-2011', 'Accountants and Auditors', 'Accountant']]\n",
        "479 ['fundraiser', 'Julia Lazarus', False]\n",
        "3199 ['radio programmer', 'Carol Arlia', False]\n",
        "3198 ['business consultant & writer', 'Jeremy Dann', False]\n",
        "4026"
       ]
      },
      {
       "output_type": "stream",
       "stream": "stdout",
       "text": [
        " ['business school administrator', 'Grace Kim', False]\n",
        "4027 ['rental car agent', 'Morris Morgentaler', False]\n",
        "4024 ['legal assistant', 'Jim Scott', ['23-2011', 'Paralegals and Legal Assistants', 'Legal Assistant']]\n",
        "4025 ['marketing consultant', 'Steve Robin', ['13-1161', 'Market Research Analysts and Marketing Specialists', 'Marketing Consultant']]\n",
        "4022 ['second grade teacher', 'Sara Cox', ['MiscTeacher', 'Teacher', 'Teacher']]\n",
        "4023 ['researcher and writer', 'Tom Halpern', False]\n",
        "4020"
       ]
      },
      {
       "output_type": "stream",
       "stream": "stdout",
       "text": [
        " ['college professor', 'Bruce Ikawa', False]\n",
        "4021 ['graduate student and College Tournament winner', 'Scott Gillispie', ['GradStu', 'Graduate student', 'Graduate student']]\n",
        "4028 ['college professor', 'Hal Barron', False]\n",
        "4029 ['writer and bookseller', 'Judith Martin Straw', False]\n",
        "8506"
       ]
      },
      {
       "output_type": "stream",
       "stream": "stdout",
       "text": [
        " ['homemaker', 'Maggie Millikan', False]\n",
        "3999 ['corporate consultant', 'Sandy Gore', False]\n",
        "3998 ['law student', 'Jeff Richmond', False]\n",
        "3997 ['administrator and professor', 'Bruce Fauman', False]\n",
        "3996 ['lawyer', 'Zeke Sevilla Jr.', ['23-1011', 'Lawyers', 'Lawyer']]\n",
        "3995"
       ]
      },
      {
       "output_type": "stream",
       "stream": "stdout",
       "text": [
        " ['junior', 'Kristiana Henderson', False]\n",
        "3994 ['junior', 'Tommy Maranges', False]\n",
        "3993 ['senior', 'Kyle Neblett', False]\n",
        "3992 ['engineer', 'Stephen Cutts', False]\n",
        "3991"
       ]
      },
      {
       "output_type": "stream",
       "stream": "stdout",
       "text": [
        " ['author and business owner', 'Mary Ryan', False]\n",
        "3990 ['graduate law clerk', 'Jim Wrightson', False]\n",
        "8165 ['environmental resource manager', 'Heather Montanye', False]\n",
        "8999"
       ]
      },
      {
       "output_type": "stream",
       "stream": "stdout",
       "text": [
        " ['chemical engineer consulting in renewable energy', 'Vijay Balse', False]\n",
        "1653 ['college professor', 'Hans Krimm', False]\n",
        "8697 ['employee communication specialist', 'Hillary Kwiatek', False]\n",
        "8164 ['attorney', 'Kristin Durianski', ['23-1011', 'Lawyers', 'Attorney']]\n",
        "298 ['author', 'Arthur Phillips', ['27-3043', 'Writers and Authors', 'Author']]\n",
        "299 ['sweater manufacturer', 'Laurence Levy', False]\n",
        "296"
       ]
      },
      {
       "output_type": "stream",
       "stream": "stdout",
       "text": [
        " ['law student', 'Melissa Seal', False]\n",
        "297 ['history professor', 'Babu Srinivasan', False]\n",
        "294 ['family physician', 'Ron Labuguen', ['29-1062', 'Family and General Practitioners', 'Family Physician']]\n",
        "295 ['education coordinator', 'Tracey Marcus', False]\n",
        "292 ['lawyer', 'Rachael Schwartz', ['23-1011', 'Lawyers', 'Lawyer']]\n",
        "293 ['minister and writer', 'Michael Rankins', False]\n",
        "290"
       ]
      },
      {
       "output_type": "stream",
       "stream": "stdout",
       "text": [
        " ['historic interpreter', 'Elizabeth Salinas', False]\n",
        "291 ['teacher', 'John Genova', ['MiscTeacher', 'Teacher', 'Teacher']]\n",
        "587 ['industrial scaleman', 'Ben Lyon', False]\n",
        "5487 ['attorney', 'Steven Jones', ['23-1011', 'Lawyers', 'Attorney']]\n",
        "2442 ['graduate student', 'Matthew Carlton', ['GradStu', 'Graduate student', 'Graduate student']]\n",
        "2443 ['marketing coordinator', 'Donna Landry', False]\n",
        "2440 ['web page designer', 'Robert Campbell', False]\n",
        "2441 ['undergraduate student', 'Bill Aquino', ['GradStu', 'Graduate student', 'Graduate student']]\n",
        "2446 ['actress', 'Jane Curtin', ['27-2011', 'Actors', 'Actress']]\n",
        "2447"
       ]
      },
      {
       "output_type": "stream",
       "stream": "stdout",
       "text": [
        " ['registered dietician', 'Karen Burke', False]\n",
        "2444 ['actress', 'Teri Garr', ['27-2011', 'Actors', 'Actress']]\n",
        "2445 ['singer', 'Naomi Judd', False]\n",
        "2448 ['family doctor', 'Mark Quigg', False]\n",
        "2449 ['editor and writer', 'Trudy Ring', False]\n",
        "7867 ['attorney', 'Neil Ashar', ['23-1011', 'Lawyers', 'Attorney']]\n",
        "7866 ['singer/songwriter', 'Stu Weaver', False]\n",
        "7865"
       ]
      },
      {
       "output_type": "stream",
       "stream": "stdout",
       "text": [
        " ['law student', 'David Menchaca', False]\n",
        "7864 ['education instructor', 'Sally Greene', False]\n",
        "7863 ['Ph.D. student in accounting', 'Jim Stekelberg', False]\n",
        "7862 ['third grade teacher', 'Steve Van Noord', ['MiscTeacher', 'Teacher', 'Teacher']]\n",
        "7861 ['graduate student of history', 'Colleen McCormick', ['GradStu', 'Graduate student', 'Graduate student']]\n",
        "7860 ['web developer', 'Eddie Nwabuoku', ['15-1134', 'Web Developers', 'Web Developer']]\n",
        "7869 ['freelance writer', 'Victoria Steinberg', False]\n",
        "7868"
       ]
      },
      {
       "output_type": "stream",
       "stream": "stdout",
       "text": [
        " [\"physician's assistant\", 'Karen Griffin', False]\n",
        "8829 ['legal secretary', 'Bonita Dominguez', False]\n",
        "6378 ['infectious disease epidemiologist', 'Cheryl Williams', False]\n",
        "6379 ['newspaper copy editor', 'Lynn Swanbom', False]\n",
        "6370"
       ]
      },
      {
       "output_type": "stream",
       "stream": "stdout",
       "text": [
        " ['office manager and record producer', 'Jenny Taylor', False]\n",
        "6371 ['law student', 'Stan Chiueh', False]\n",
        "6372 ['logistics analyst', 'Jose Trevi\\xf1o', ['13-1081', 'Logisticians', 'Logistics Analyst']]\n",
        "6373 ['admissions counselor', 'Jonathan Turer', False]\n",
        "6374 ['paralegal and classical singer', 'Joy Schauer', False]\n",
        "6375"
       ]
      },
      {
       "output_type": "stream",
       "stream": "stdout",
       "text": [
        " ['writer and producer', 'Diana Wynne', False]\n",
        "6376 ['software engineer', 'Glenn Howes', False]\n",
        "6377 ['teacher assistant', 'Jenifer Thomas', ['MiscTeacher', 'Teacher', 'Teacher']]\n",
        "8941 ['controller', 'Dawn Volmert', False]\n",
        "8940 ['paralegal', 'Claire Tuley', ['23-2011', 'Paralegals and Legal Assistants', 'Paralegal']]\n",
        "8943 ['sports writer', 'Eddie Timanus', False]\n",
        "8942 ['MDA student', 'Semret Lemma', False]\n",
        "8945"
       ]
      },
      {
       "output_type": "stream",
       "stream": "stdout",
       "text": [
        " ['bioscience Ph.D. program applicant', 'Rachael Schwartz', False]\n",
        "8944 ['history professor', 'Babu Srinivasan', False]\n",
        "8947 ['retired professor', 'Dan Melia', False]\n",
        "8946 ['graduate student in psychology', 'Pam Mueller', ['GradStu', 'Graduate student', 'Graduate student']]\n",
        "8949 ['radiologist', 'Shane Whitlock', ['29-1069', 'Physicians and Surgeons, All Other', 'Radiologist']]\n",
        "8948 ['writer', 'Fritz Holznagel', False]\n",
        "5407 ['electrical engineer', 'Chris Mason', ['17-2071', 'Electrical Engineers', 'Electrical Engineer']]\n",
        "5406 ['graduate student', 'Ryan McClarren', ['GradStu', 'Graduate student', 'Graduate student']]\n",
        "5405 ['certified public accountant', 'Sue Richman', ['13-2011', 'Accountants and Auditors', 'Certified Public Accountant']]\n",
        "1435 ['substitute teacher', 'Pablo del Real', ['MiscTeacher', 'Teacher', 'Teacher']]\n",
        "5403 ['journalist', 'Laura Leslie', False]\n",
        "5402"
       ]
      },
      {
       "output_type": "stream",
       "stream": "stdout",
       "text": [
        " ['writer and editor', 'Pam Winters', False]\n",
        "1991 ['teacher', 'Karla Sortland', ['MiscTeacher', 'Teacher', 'Teacher']]\n",
        "1622 ['theater teacher', 'Paul Murray', ['MiscTeacher', 'Teacher', 'Teacher']]\n",
        "1621 ['M.D. and Ph.D student', 'Marc Slutzky', False]\n",
        "1620 ['chiropractor', 'Julie Schmitt', ['29-1011', 'Chiropractors', 'Chiropractor']]\n",
        "1627 ['U.S. Army captain', 'Jeff Jacobberger', False]\n",
        "1994 ['attorney', 'David Becker', ['23-1011', 'Lawyers', 'Attorney']]\n",
        "1625 ['attorney', 'Bonnie Clair', ['23-1011', 'Lawyers', 'Attorney']]\n",
        "1624"
       ]
      },
      {
       "output_type": "stream",
       "stream": "stdout",
       "text": [
        " [\"historian and professor of women's studies\", 'Carolyn Eichner', False]\n",
        "1999 ['greeting card manufacturer', 'Kraig Norris', False]\n",
        "1998 ['writer', 'Keith Suta', False]\n",
        "1629 ['theater technician and actor', 'Hank Widmayer', False]\n",
        "1628"
       ]
      },
      {
       "output_type": "stream",
       "stream": "stdout",
       "text": [
        " ['travel video producer', 'Devon Ericson', False]\n",
        "3209 ['interlibrary loan assistant', 'Melissa Abrahams', False]\n",
        "3208 ['middle school science teacher', 'Downey Meyer', ['MiscTeacher', 'Teacher', 'Teacher']]\n",
        "3398 ['junior', 'Bobbie Diamond', False]\n",
        "5058 ['senior at the University of California-Berkeley', 'Cathy Landers', False]\n",
        "5059"
       ]
      },
      {
       "output_type": "stream",
       "stream": "stdout",
       "text": [
        " ['junior at Mary Washington College', 'Kristen Page', False]\n",
        "2860 ['high school teacher', 'Eva Holmberg', ['MiscTeacher', 'Teacher', 'Teacher']]\n",
        "2861 ['scientific associate', 'Anatoly Belkine', False]\n",
        "2862 ['procurement manager', 'Gay Mollette', ['11-3061', 'Purchasing Managers', 'Procurement Manager']]\n",
        "2863 ['computer consultant', 'Ehren Schwiebert', False]\n",
        "2864 ['homemaker', 'Suzanne Ennis', False]\n",
        "2865"
       ]
      },
      {
       "output_type": "stream",
       "stream": "stdout",
       "text": [
        " ['factory worker', 'Mary Voigt', False]\n",
        "2866 ['GIS planner', 'Ryan Friedman', False]\n",
        "2867 ['singer', 'Alexia Henke', False]\n",
        "2868 ['coffee shop manager', 'David Maynard', False]\n",
        "2869"
       ]
      },
      {
       "output_type": "stream",
       "stream": "stdout",
       "text": [
        " ['features editor', 'Lynne Sherwin', False]\n",
        "557 ['school librarian', 'Beth Reardon', ['25-4021', 'Librarians', 'School Librarian']]\n",
        "556 ['management consultant', 'Wayne Weil', ['13-1111', 'Management Analysts', 'Management Consultant']]\n",
        "551 ['undergraduate student', 'Atish Choudhury', ['GradStu', 'Graduate student', 'Graduate student']]\n",
        "550 ['international trade reporter', 'Janet vanGrasstek', False]\n",
        "553"
       ]
      },
      {
       "output_type": "stream",
       "stream": "stdout",
       "text": [
        " ['bookkeeper and computer consultant', 'Larry Cloud', False]\n",
        "552 ['history teacher', 'Karen Rhodes', ['MiscTeacher', 'Teacher', 'Teacher']]\n",
        "3539 ['e-mail administrator', 'Elizabeth Mouzon', False]\n",
        "1438 [\"children's librarian\", 'Margaret Walsh', ['25-4021', 'Librarians', \"Children's Librarian\"]]\n",
        "5055 ['substitute teacher', 'Toni Case', ['MiscTeacher', 'Teacher', 'Teacher']]\n",
        "1439 ['international security consultant', 'John Carroll', False]\n",
        "1199 ['attorney', 'John Kelly', ['23-1011', 'Lawyers', 'Attorney']]\n",
        "1198"
       ]
      },
      {
       "output_type": "stream",
       "stream": "stdout",
       "text": [
        " ['administrative assistant', \"Claire O'Brien\", False]\n",
        "3348 ['attorney', 'John Mollenkamp', ['23-1011', 'Lawyers', 'Attorney']]\n",
        "3349 ['journalist', 'Emily Seftel', False]\n",
        "1191 ['law student', 'Amanda Traphagan', False]\n",
        "1190 ['urban planning lawyer', 'Sandy Shapiro', False]\n",
        "1193"
       ]
      },
      {
       "output_type": "stream",
       "stream": "stdout",
       "text": [
        " ['computer services administrator', 'Peter Williams', False]\n",
        "1192 ['writer', 'Paulette Beete', False]\n",
        "1195 ['psychiatrist', 'John Thiel', ['29-1066', 'Psychiatrists', 'Psychiatrist']]\n",
        "1194 ['sales clerk', 'Mary Lou Rodgers', False]\n",
        "1197"
       ]
      },
      {
       "output_type": "stream",
       "stream": "stdout",
       "text": [
        " ['athletic director', 'Murph Honea', False]\n",
        "1196 ['math teacher', 'Mary Margaret Purvis', ['MiscTeacher', 'Teacher', 'Teacher']]\n",
        "2406 ['college professor and antique dealer', 'Tammie Taylor', False]\n",
        "7942 ['agricultural chemical salesman', 'Scott Johnson', False]\n",
        "4259"
       ]
      },
      {
       "output_type": "stream",
       "stream": "stdout",
       "text": [
        " ['vintage clothing store owner', 'Cindy Wolfson Ciullo', False]\n",
        "4258 ['funeral director', 'Carl Goldman', ['39-4031', 'Morticians, Undertakers, and Funeral Directors', 'Funeral Director']]\n",
        "4251 ['paralegal', 'Gregg Fanselau', ['23-2011', 'Paralegals and Legal Assistants', 'Paralegal']]\n",
        "4250 ['contract administrator', 'John Edkins', ['11-3061', 'Purchasing Managers', 'Contract Administrator']]\n",
        "4253 ['physician', 'Bobby Reddy', False]\n",
        "4252 ['author', 'Gavin Edwards', ['27-3043', 'Writers and Authors', 'Author']]\n",
        "4255 ['assistant professor', 'Mimi Collins', False]\n",
        "4254"
       ]
      },
      {
       "output_type": "stream",
       "stream": "stdout",
       "text": [
        " ['assistant principal', 'Glen Stevens', False]\n",
        "4257 ['actor', 'David Mersault', False]\n",
        "4256 ['software engineer', 'Michele Harvey', False]\n",
        "5533 ['legislative assistant', 'Anders Reynolds', False]\n",
        "5532 ['research scientist', 'Edith Kealy', False]\n",
        "5531"
       ]
      },
      {
       "output_type": "stream",
       "stream": "stdout",
       "text": [
        " ['office assistant', 'Jen Weaver', ['43-9061', 'Office Clerks, General', 'Office Assistant']]\n",
        "5530 ['engineer', 'Phil Fernandez', False]\n",
        "5537 ['graduate student', 'Matt Hackler', ['GradStu', 'Graduate student', 'Graduate student']]\n",
        "5536 ['Spanish teacher', 'Mary Beam', ['MiscTeacher', 'Teacher', 'Teacher']]\n",
        "5535 ['research scientist', 'David Skaar', False]\n",
        "5534 ['graduate student', 'Catherine Muldoon', ['GradStu', 'Graduate student', 'Graduate student']]\n",
        "5539 ['administrative assistant', 'Shelly Mills', False]\n",
        "5538 ['biomedical engineer', 'Karthik Balasubramanian', ['17-2031', 'Biomedical Engineers', 'Biomedical Engineer']]\n",
        "1348 [\"teacher's aide\", 'Davia Worthen', ['MiscTeacher', 'Teacher', 'Teacher']]\n",
        "1349"
       ]
      },
      {
       "output_type": "stream",
       "stream": "stdout",
       "text": [
        " ['Ph.D. student', 'Randy Cohen', False]\n",
        "4263 ['office manager', 'Marci Schwartz', False]\n",
        "7204 ['family doctor', 'Kate Rowland', False]\n",
        "6572 ['law student', 'Sarah Boyette', False]\n",
        "6573 ['paraeducator', 'Stephen Weingarten', ['25-9041', 'Teacher Assistants', 'Paraeducator']]\n",
        "6570 ['business system analyst', 'Dan Troha', False]\n",
        "6571"
       ]
      },
      {
       "output_type": "stream",
       "stream": "stdout",
       "text": [
        " ['law student', 'Allison Brown', False]\n",
        "6576 ['ESL high school teacher', 'Susan Holmes-Garrity', ['MiscTeacher', 'Teacher', 'Teacher']]\n",
        "6577 ['research analyst', 'Michael Boucher', False]\n",
        "6574 ['systems engineer', 'Matt Green', False]\n",
        "6575 ['news researcher', 'Abby Collins', False]\n",
        "6578 ['attorney', 'Marisa Goldstein', ['23-1011', 'Lawyers', 'Attorney']]\n",
        "6579 ['graduate student', 'John Davies', ['GradStu', 'Graduate student', 'Graduate student']]\n",
        "5100"
       ]
      },
      {
       "output_type": "stream",
       "stream": "stdout",
       "text": [
        " ['trial attorney and Emmy Award-winning journalist', 'Jack Ford', False]\n",
        "7694 ['fourth and fifth grade reading and religion teacher', 'Lisa Johnston', ['MiscTeacher', 'Teacher', 'Teacher']]\n",
        "1340 ['investigator', 'Bob Combs', False]\n",
        "7696 ['junior high school social studies teacher', 'Steven Evenhouse', ['MiscTeacher', 'Teacher', 'Teacher']]\n",
        "7697 ['third grade Spanish bilingual teacher', \"Jessica Dell'Era\", ['MiscTeacher', 'Teacher', 'Teacher']]\n",
        "7690 ['high school biology and anatomy & physiology teacher', 'Elissa Hoffman', ['MiscTeacher', 'Teacher', 'Teacher']]\n",
        "7691 ['high school history and English teacher', 'John Botti', ['MiscTeacher', 'Teacher', 'Teacher']]\n",
        "7692 ['high school history teacher', 'Catherine Whitten', ['MiscTeacher', 'Teacher', 'Teacher']]\n",
        "1341 ['tax auditor', 'Mauricio Rivero', False]\n",
        "7698 ['high school social studies teacher', 'Kathryn Wendling', ['MiscTeacher', 'Teacher', 'Teacher']]\n",
        "1342 ['sportswriter', 'James Quintong', False]\n",
        "3834 ['homemaker and writer', 'Heather Williams', False]\n",
        "3835 ['graduate student', 'James Fesalbon', ['GradStu', 'Graduate student', 'Graduate student']]\n",
        "3836"
       ]
      },
      {
       "output_type": "stream",
       "stream": "stdout",
       "text": [
        " ['educational facilitator', 'Patrick Ryan', False]\n",
        "3837 ['attorney', 'Angel Gomez', ['23-1011', 'Lawyers', 'Attorney']]\n",
        "3830 ['middle school science teacher', 'Debbie Lander', ['MiscTeacher', 'Teacher', 'Teacher']]\n",
        "3831 ['private equity analyst', 'Jared Cohen', False]\n",
        "3832 ['realtor', 'Amber Hodges', False]\n",
        "3833 ['publishing marketer', 'Ronni Stolzenberg', False]\n",
        "1344"
       ]
      },
      {
       "output_type": "stream",
       "stream": "stdout",
       "text": [
        " ['freelance editor and writer', 'Amy Loerch Strumolo', False]\n",
        "3838 ['graduate student', 'Alex Hovan', ['GradStu', 'Graduate student', 'Graduate student']]\n",
        "3839 ['airline pilot', 'Chris Marker', ['53-2011', 'Airline Pilots, Copilots, and Flight Engineers', 'Airline Pilot']]\n",
        "1345 ['real estate broker', 'Fred Walker', ['41-9021', 'Real Estate Brokers', 'Real Estate Broker']]\n",
        "1346 ['communications coach', 'LeeAundra Temescu', False]\n",
        "1347 ['law student', 'Michael Salerno', False]\n",
        "379 ['househusband', 'Howard Wilson', False]\n",
        "378"
       ]
      },
      {
       "output_type": "stream",
       "stream": "stdout",
       "text": [
        " ['middle school vice-principal', 'Larry Silverman', False]\n",
        "7520 ['museum registrar', 'Megan Benitz', False]\n",
        "7521 ['online editor', 'Jeff Dufour', False]\n",
        "7526 ['English professor', 'Jay Peterson', False]\n",
        "7527 ['librarian', 'Jessie Christensen', False]\n",
        "7524 ['graduate student of Victorian literature', 'Ray Crosby', ['GradStu', 'Graduate student', 'Graduate student']]\n",
        "7525"
       ]
      },
      {
       "output_type": "stream",
       "stream": "stdout",
       "text": [
        " ['office manager', 'Lloyd Caesar', False]\n",
        "371 ['data modeler', 'Lee Lassiter', False]\n",
        "370 ['educational consultant and writer', 'Diane Siegel', False]\n",
        "373"
       ]
      },
      {
       "output_type": "stream",
       "stream": "stdout",
       "text": [
        " ['database developer and writer', 'Fred Ramen', False]\n",
        "372 ['high school junior', 'Jennifer Wu', False]\n",
        "375 ['stockbroker', 'Nancy Teri', False]\n",
        "374 ['police officer', 'Michael Ellington, Jr.', False]\n",
        "377 ['literary agent', 'Denise Stewart', ['13-1011', 'Agents and Business Managers of Artists, Performers, and Athletes', 'Literary Agent']]\n",
        "376"
       ]
      },
      {
       "output_type": "stream",
       "stream": "stdout",
       "text": [
        " ['construction manager', 'Gunther Murley', False]\n",
        "6143 ['housewife', 'Linda Marshall', False]\n",
        "6142 ['writer and TV personality', 'Francois Dominic Laram\\xe9e', False]\n",
        "6141"
       ]
      },
      {
       "output_type": "stream",
       "stream": "stdout",
       "text": [
        " ['call center supervisor', 'Jocelyn Certner', False]\n",
        "6140 ['generating station operator', 'Liz Caccese', False]\n",
        "6147 ['actress', 'Dana Delany', ['27-2011', 'Actors', 'Actress']]\n",
        "6146 ['actor and comedian', 'Eric Idle', False]\n",
        "6145"
       ]
      },
      {
       "output_type": "stream",
       "stream": "stdout",
       "text": [
        " ['playwright and actor', 'Bob Verini', False]\n",
        "6144 ['part-time pizza maker', 'J.J. Fowell', False]\n",
        "6149 ['hospice medical director', 'Ellen Brown', False]\n",
        "6148"
       ]
      },
      {
       "output_type": "stream",
       "stream": "stdout",
       "text": [
        " ['actor and comedian', 'Wayne Brady', False]\n",
        "8110 ['insurance office manager', 'Jeannie Blanke', False]\n",
        "8111 ['financial manager', 'Justin Kowal', False]\n",
        "5104"
       ]
      },
      {
       "output_type": "stream",
       "stream": "stdout",
       "text": [
        " ['comedian and author', 'Bill Maher', False]\n",
        "8116 ['web designer', 'Gina Armstrong', ['15-1134', 'Web Developers', 'Web Designer']]\n",
        "8117 ['computer technician', 'Kris Hamilton', False]\n",
        "8114 ['recent college graduate', 'Jessica Young', False]\n",
        "8115 ['bookseller', 'Chrisanne Eastwood', False]\n",
        "6500"
       ]
      },
      {
       "output_type": "stream",
       "stream": "stdout",
       "text": [
        " ['administrative assistant', 'Caroline Cross', False]\n",
        "2275 ['lawyer', 'Tom Waskom', ['23-1011', 'Lawyers', 'Lawyer']]\n",
        "2274 ['foreign service officer', 'Chris Ward', False]\n",
        "2277 ['12-year-old', 'Allyson Lieberman', False]\n",
        "2276 ['legal secretary', 'Susan Matejko', False]\n",
        "2271"
       ]
      },
      {
       "output_type": "stream",
       "stream": "stdout",
       "text": [
        " ['underwriter', 'Dena Martin', False]\n",
        "2270 ['university fundraiser', 'Louis Rice', False]\n",
        "2273 ['attorney and real estate appraiser', 'John Skelton', False]\n",
        "2272 ['warehouse associate', 'Lance Johnson', False]\n",
        "2279"
       ]
      },
      {
       "output_type": "stream",
       "stream": "stdout",
       "text": [
        " ['11-year-old', 'Nick Dnistrian', False]\n",
        "2278 ['11-year-old', 'Lauren Kutner', False]\n",
        "3201 ['production artist', 'Raymon Colbert', False]\n",
        "2051 ['history professor', 'Babu Srinivasan', False]\n",
        "2050 ['tutoring coordinator', 'Jason Berner', False]\n",
        "2053"
       ]
      },
      {
       "output_type": "stream",
       "stream": "stdout",
       "text": [
        " ['project manager', 'Andrew Garen', False]\n",
        "2052 ['college student', 'Pam Mueller', False]\n",
        "2055 ['executive assistant', 'Michelle Clum', ['43-6011', 'Executive Secretaries and Executive Administrative Assistants', 'Executive Assistant']]\n",
        "2054 ['partner in a start-up company', 'Ryan Moore', False]\n",
        "2057 ['operations manager', 'Kevin Keach', ['11-1021', 'General and Operations Managers', 'Operations Manager']]\n",
        "2056 ['reporter', 'Michael Arnone', False]\n",
        "2059"
       ]
      },
      {
       "output_type": "stream",
       "stream": "stdout",
       "text": [
        " ['freight courier', 'Irwin Shires', False]\n",
        "2058 ['business analyst', 'Lan Djang', ['13-1111', 'Management Analysts', 'Business Analyst']]\n",
        "4824 ['Ph.D. student', 'Stephen Wilson', False]\n",
        "4537 ['lieutenant in the United States Navy', 'Vaughan Williams', False]\n",
        "4822 ['organic farmer', 'Mike Scott', False]\n",
        "4823 ['graduate student', 'Shannan Cvitanovic', ['GradStu', 'Graduate student', 'Graduate student']]\n",
        "4532"
       ]
      },
      {
       "output_type": "stream",
       "stream": "stdout",
       "text": [
        " ['artist', 'Justin Dawes', False]\n",
        "4821 ['business consultant', 'Chuck Lee', ['13-1111', 'Management Analysts', 'Business Consultant']]\n",
        "7980 ['teacher', 'Nancy Neff', ['MiscTeacher', 'Teacher', 'Teacher']]\n",
        "7981 ['marketing director', 'Vamsi Adusumilli', ['11-2021', 'Marketing Managers', 'Marketing Director']]\n",
        "7982 ['ballroom dance instructor', 'Diane Samuelson', False]\n",
        "7983 ['English language tutor', 'Penny Citrola', False]\n",
        "7984 ['letter carrier', 'Paul Camp', ['43-5052', 'Postal Service Mail Carriers', 'Letter Carrier']]\n",
        "7985 ['graduate student of nuclear and plasma engineering', 'Dan Elg', ['GradStu', 'Graduate student', 'Graduate student']]\n",
        "7986"
       ]
      },
      {
       "output_type": "stream",
       "stream": "stdout",
       "text": [
        " ['policy and research analyst', 'Veronica Mance', False]\n",
        "7987 ['conservation journalist and pet-sitter', 'Erin Zwiener', False]\n",
        "7988 ['project manager', 'Jim Walke', False]\n",
        "7989 ['marketing manager', 'Natalie Knowles', False]\n",
        "8595 ['banker', 'Jeanne Boucher', False]\n",
        "2405 ['graduate student', 'Nanette Wargo', ['GradStu', 'Graduate student', 'Graduate student']]\n",
        "7324 ['eighth grade history and technology teacher', 'Charley Tinkham', ['MiscTeacher', 'Teacher', 'Teacher']]\n",
        "7325 ['high school English and literacy teacher', 'Viki Radden', ['MiscTeacher', 'Teacher', 'Teacher']]\n",
        "7326 ['kindergarten teacher', 'Caitlin Millat', ['MiscTeacher', 'Teacher', 'Teacher']]\n",
        "7327 ['high school English teacher', 'Elisabeth Raab', ['MiscTeacher', 'Teacher', 'Teacher']]\n",
        "7320"
       ]
      },
      {
       "output_type": "stream",
       "stream": "stdout",
       "text": [
        " ['medical assistant', 'Maya Zwerdling', False]\n",
        "7321 ['third and fourth grade teacher', 'John Shoe', ['MiscTeacher', 'Teacher', 'Teacher']]\n",
        "7322 ['middle school history teacher', 'Dan Crosby', ['MiscTeacher', 'Teacher', 'Teacher']]\n",
        "7323 ['high school English teacher', 'Kathy Casavant', ['MiscTeacher', 'Teacher', 'Teacher']]\n",
        "7328 ['high school U.S. government teacher', 'Matt Polazzo', ['MiscTeacher', 'Teacher', 'Teacher']]\n",
        "7329 ['high school Latin teacher', 'Lori Kissell', ['MiscTeacher', 'Teacher', 'Teacher']]\n",
        "8858 ['educational travel coordinator', 'Linda Lyle', False]\n",
        "8853 ['graduate student of biology', 'Marika Kuspa', ['GradStu', 'Graduate student', 'Graduate student']]\n",
        "8852 ['statistician', 'Seth Tribble', ['15-2041', 'Statisticians', 'Statistician']]\n",
        "8851 ['navy helicopter pilot', 'Michelle DeGrothy', False]\n",
        "8850 ['healthcare consultant', 'Adrian Ho', False]\n",
        "7069"
       ]
      },
      {
       "output_type": "stream",
       "stream": "stdout",
       "text": [
        " ['senior', 'Marshall Flores', False]\n",
        "7068 ['sophomore', 'Steph Gagelin', False]\n",
        "7067 ['senior', 'Tim Relihan', False]\n",
        "7066 ['salesperson', 'Ian Barondess', False]\n",
        "7065 ['journalist', 'Paul Schindler Jr.', False]\n",
        "7064 ['senior', 'Folake Dosu', False]\n",
        "7063"
       ]
      },
      {
       "output_type": "stream",
       "stream": "stdout",
       "text": [
        " ['junior', 'Ellen Eichner', False]\n",
        "7062 ['senior', 'Kyle Kahan', False]\n",
        "7061 ['sophomore', 'Erin McLean', False]\n",
        "7060 ['junior', 'Lea Tottle', False]\n",
        "8855 ['study abroad adviser', 'Sarah McNitt', False]\n",
        "8854 ['graduate student of history', 'Osei Boakye', ['GradStu', 'Graduate student', 'Graduate student']]\n",
        "3786 ['technical editor', 'Lilly Ridge', ['27-3041', 'Editors', 'Technical Editor']]\n",
        "6961"
       ]
      },
      {
       "output_type": "stream",
       "stream": "stdout",
       "text": [
        " ['computer operator', 'Michael Goldwitz', False]\n",
        "6960 ['academic counselor', 'Peter Bedrossian', False]\n",
        "6963 ['actress', 'Stefanie Powers', ['27-2011', 'Actors', 'Actress']]\n",
        "6962 ['actor', 'Tony Randall', False]\n",
        "6965 ['carpenter', 'Brian Barrett', False]\n",
        "6964 ['retired general', 'General H. Norman Schwarzkopf', False]\n",
        "6967 ['teacher', 'Dave Traini', ['MiscTeacher', 'Teacher', 'Teacher']]\n",
        "6966"
       ]
      },
      {
       "output_type": "stream",
       "stream": "stdout",
       "text": [
        " ['water engineer', 'Elizabeth Charland', False]\n",
        "6969 ['product manager', 'Larry Brown', False]\n",
        "6968 ['teacher', 'Fran Strykowski', ['MiscTeacher', 'Teacher', 'Teacher']]\n",
        "8154 ['elementary school art teacher', 'John Morgan', ['MiscTeacher', 'Teacher', 'Teacher']]\n",
        "8155 ['attorney and law clerk to a judge', 'Barbara Sheridan', False]\n",
        "8152 ['actor', 'Eric Reiberg', False]\n",
        "8153 ['high school math teacher', 'Patrick Mooney', ['MiscTeacher', 'Teacher', 'Teacher']]\n",
        "8150 ['law student', 'Diva Bole', False]\n",
        "8151"
       ]
      },
      {
       "output_type": "stream",
       "stream": "stdout",
       "text": [
        " ['actor', 'Helen Juvonen', False]\n",
        "8228 ['criminal lawyer', 'Zeke Sevilla, Jr.', False]\n",
        "8229 ['mathematics professor', 'Ilene Morgan', ['25-1022', 'Mathematical Science Teachers, Postsecondary', 'Mathematics Professor']]\n",
        "6465 ['sophomore', 'Samantha Reback', False]\n",
        "414"
       ]
      },
      {
       "output_type": "stream",
       "stream": "stdout",
       "text": [
        " ['advertising creative director', 'Isaac Segal', False]\n",
        "415 ['software writer', 'Ryan Holznagel', False]\n",
        "416 ['paralegal', 'David Siegel', ['23-2011', 'Paralegals and Legal Assistants', 'Paralegal']]\n",
        "417 ['college professor', 'Michael Rooney', False]\n",
        "1388"
       ]
      },
      {
       "output_type": "stream",
       "stream": "stdout",
       "text": [
        " ['student & writer', 'Erik Cansler', False]\n",
        "1389 ['writer & editor', 'Julie Connery', False]\n",
        "412 ['advertising advisor', 'John Fedoryn', False]\n",
        "413 ['attorney', 'Stephanie Thomas', ['23-1011', 'Lawyers', 'Attorney']]\n",
        "1384"
       ]
      },
      {
       "output_type": "stream",
       "stream": "stdout",
       "text": [
        " ['investigator and lawyer', 'Lisa Loiselle', False]\n",
        "1385 ['student', 'Josh Yost', False]\n",
        "1386 ['journalist', 'Peter Rubin', False]\n",
        "1387 ['police officer', 'Barbara Noyes', False]\n",
        "1380"
       ]
      },
      {
       "output_type": "stream",
       "stream": "stdout",
       "text": [
        " ['chemist', 'Rob Klepadlo', False]\n",
        "1381 ['high school guidance counselor', 'Debbie Chuba', False]\n",
        "1382 ['limousine driver', 'Jeff Lawrence', ['53-3041', 'Taxi Drivers and Chauffeurs', 'Limousine Driver']]\n",
        "1383 ['high school teacher', 'Karen Spinale', ['MiscTeacher', 'Teacher', 'Teacher']]\n",
        "5461"
       ]
      },
      {
       "output_type": "stream",
       "stream": "stdout",
       "text": [
        " ['enrolled agent', 'Irene Lawrence', False]\n",
        "8107 ['attorney', 'Kevin Moser', ['23-1011', 'Lawyers', 'Attorney']]\n",
        "1775 ['former pro basketball player and actor', 'Kareem Abdul-Jabbar', False]\n",
        "1774 ['retired marine biologist', 'Ben Goggins', False]\n",
        "1777"
       ]
      },
      {
       "output_type": "stream",
       "stream": "stdout",
       "text": [
        " ['former pro baseball player', 'Reggie Jackson', False]\n",
        "5277 ['homemaker', 'Laura Johnson', False]\n",
        "5270 ['home educator', 'Erin Drew', False]\n",
        "1770 ['teacher', 'Trisha Murai', ['MiscTeacher', 'Teacher', 'Teacher']]\n",
        "1773"
       ]
      },
      {
       "output_type": "stream",
       "stream": "stdout",
       "text": [
        " ['front services manager', 'Amanda Mapel', False]\n",
        "5273 ['leasing consultant', 'Leslie Elmore', False]\n",
        "5278 ['voiceover artist and actor', 'John Savage', False]\n",
        "5279 ['public relations representative', 'Katie Francisco', ['27-3031', 'Public Relations Specialists', 'Public Relations Representative']]\n",
        "5465 ['teacher', 'Lou Ascatigno', ['MiscTeacher', 'Teacher', 'Teacher']]\n",
        "6688"
       ]
      },
      {
       "output_type": "stream",
       "stream": "stdout",
       "text": [
        " ['executive assistant', 'Gillian Mabrey', ['43-6011', 'Executive Secretaries and Executive Administrative Assistants', 'Executive Assistant']]\n",
        "6689 ['bartender', 'Jeremy Apsley', ['35-3011', 'Bartenders', 'Bartender']]\n",
        "6680 ['lawyer', 'Don Wynne', ['23-1011', 'Lawyers', 'Lawyer']]\n",
        "6681 ['accounting assistant', 'Valerie Takacs', False]\n",
        "6682 ['student', 'Avi Schwartz', False]\n",
        "6683"
       ]
      },
      {
       "output_type": "stream",
       "stream": "stdout",
       "text": [
        " ['stay-at-home mom', 'Suzan Hyssen', False]\n",
        "6684 ['appellate lawyer', 'Anne Noble', False]\n",
        "6685 ['systems analyst', 'Linda Garvin', False]\n",
        "6686"
       ]
      },
      {
       "output_type": "stream",
       "stream": "stdout",
       "text": [
        " ['customer service representative', 'Becky Galipeau', False]\n",
        "6687 ['research assistant', 'Yevgeny Shrago', False]\n",
        "2428 ['homemaker', 'Michelle Power', False]\n",
        "2429 ['voice actor', 'Jesse Moises', False]\n",
        "2420"
       ]
      },
      {
       "output_type": "stream",
       "stream": "stdout",
       "text": [
        " ['librarian', 'Grace Veach', False]\n",
        "2421 ['administrative support person', 'Becky Hudson', False]\n",
        "2422 ['medical student', 'Wes Ulm', False]\n",
        "2423 ['lawyer', 'Tom Lucero', ['23-1011', 'Lawyers', 'Lawyer']]\n",
        "2424"
       ]
      },
      {
       "output_type": "stream",
       "stream": "stdout",
       "text": [
        " ['pre-med student', 'Ashley Mason', False]\n",
        "2425 ['baker', 'Bill Harris', False]\n",
        "2426 ['editor', 'Holly Hughes', False]\n",
        "2427 ['law student', 'J.J. Todor', False]\n",
        "7849 ['graphic designer', 'Ed Hanlon', ['27-1024', 'Graphic Designers', 'Graphic Designer']]\n",
        "7848 ['real estate attorney', 'Terry Kent', ['23-1011', 'Lawyers', 'Real Estate Attorney']]\n",
        "7845"
       ]
      },
      {
       "output_type": "stream",
       "stream": "stdout",
       "text": [
        " ['burrito architect', 'D.J. Perry', False]\n",
        "7844 ['systems administrator', 'Scotti Whitmire', False]\n",
        "7847 ['graduate student in English literature', 'Rachel Donegan', ['GradStu', 'Graduate student', 'Graduate student']]\n",
        "7846 ['substitute teacher', 'Claudia Gray', ['MiscTeacher', 'Teacher', 'Teacher']]\n",
        "7841 ['business process analyst', 'Rene Cardenas', False]\n",
        "7840 ['editor and writer', 'Richard Block', False]\n",
        "7843"
       ]
      },
      {
       "output_type": "stream",
       "stream": "stdout",
       "text": [
        " ['home inspector', 'John Baker', ['47-4011', 'Construction and Building Inspectors', 'Home Inspector']]\n",
        "7842 ['consultant', 'Susan Bowyer', False]\n",
        "6356 ['neurologist', 'David Seminer', ['29-1069', 'Physicians and Surgeons, All Other', 'Neurologist']]\n",
        "6357 ['high school English teacher', 'Joann Mariani', ['MiscTeacher', 'Teacher', 'Teacher']]\n",
        "6354 ['film festival programmer', 'Jon Korn', False]\n",
        "6355 ['academic outreach librarian', 'Sandi Hood', False]\n",
        "6352"
       ]
      },
      {
       "output_type": "stream",
       "stream": "stdout",
       "text": [
        " ['consultant and retired Navy officer', 'Diane Armstrong', False]\n",
        "6353 ['assistant professor of English', 'Marlene Allen', False]\n",
        "6350 ['nurse and \"Mr. Mom\"', 'Steve Hall', False]\n",
        "6351 ['graduate student of ornithology', 'Austin Mercadante', ['GradStu', 'Graduate student', 'Graduate student']]\n",
        "6358 ['geology and anthropology student', 'Kelsey Peterson', False]\n",
        "6359 ['substitute teacher', 'William Nicks, Jr.', ['MiscTeacher', 'Teacher', 'Teacher']]\n",
        "5466 ['pastry chef', 'Amy Ballentine', ['35-1011', 'Chefs and Head Cooks', 'Pastry Chef']]\n",
        "1814"
       ]
      },
      {
       "output_type": "stream",
       "stream": "stdout",
       "text": [
        " ['flight attendant', 'Anne Robinson', False]\n",
        "1815 ['bookseller', 'Melanie Madden', False]\n",
        "1816 ['software engineer', 'William Lee', False]\n",
        "1817 ['teacher', 'Peggy Till', ['MiscTeacher', 'Teacher', 'Teacher']]\n",
        "1810 ['writer-producer', 'Stan Wu', False]\n",
        "1811 ['graduate student', 'Chris Sedlack', ['GradStu', 'Graduate student', 'Graduate student']]\n",
        "1812 ['office manager', 'Adriana Bate', False]\n",
        "1813"
       ]
      },
      {
       "output_type": "stream",
       "stream": "stdout",
       "text": [
        " ['from Cherry Hill, New Jersey...', 'Ross Lambersky', False]\n",
        "1818 ['nanny', 'Stacy McKnight', ['39-9011', 'Childcare Workers', 'Nanny']]\n",
        "1819 ['registrar', 'Coral Sullivan', False]\n",
        "2165 ['program assistant', 'Happy Aston', False]\n",
        "2164 ['pre-med student', 'Lara Kierlin', False]\n",
        "8109"
       ]
      },
      {
       "output_type": "stream",
       "stream": "stdout",
       "text": [
        " ['social worker', 'Judy Strong', False]\n",
        "2167 ['software developer', 'Mark Edelson', False]\n",
        "1609 ['consultant', 'Pinki Mishra', False]\n",
        "1608 ['software developer', 'Paul Callaway', False]\n",
        "2166"
       ]
      },
      {
       "output_type": "stream",
       "stream": "stdout",
       "text": [
        " ['market researcher', 'Zach Biggs', False]\n",
        "3229 ['computer security engineer', 'Al Arsenault', False]\n",
        "3228 ['orchid specialist', 'Ethan Culbreth', False]\n",
        "1979 ['teacher', 'Peggy Sheehan', ['MiscTeacher', 'Teacher', 'Teacher']]\n",
        "1978"
       ]
      },
      {
       "output_type": "stream",
       "stream": "stdout",
       "text": [
        " ['part-time licensing assistant', 'Felicia Vondrak', False]\n",
        "1601 ['sophomore', 'Eric Biber', False]\n",
        "1600 ['sophomore', 'John van DeWeert', False]\n",
        "1603 ['customer service representative', 'Lisa Newell', False]\n",
        "3226 ['musician', 'Gary Laing', ['27-2042', 'Musicians and Singers', 'Musician']]\n",
        "1973 ['teacher', 'Michael Kelly', ['MiscTeacher', 'Teacher', 'Teacher']]\n",
        "1604 ['writer', 'Michael Berman', False]\n",
        "1607"
       ]
      },
      {
       "output_type": "stream",
       "stream": "stdout",
       "text": [
        " ['chief financial officer', 'Blaine Faulkner', False]\n",
        "1606 ['environmental engineer', 'Kristine McCaffrey', ['17-2081', 'Environmental Engineers', 'Environmental Engineer']]\n",
        "2163 ['attorney', 'Charan Brahma', ['23-1011', 'Lawyers', 'Attorney']]\n",
        "8108 ['training specialist', 'John McGee', ['13-1151', 'Training and Development Specialists', 'Training Specialist']]\n",
        "2162 ['data analyst', 'Frank Stasio', False]\n",
        "2848 ['medical secretary', 'Michael Steele', False]\n",
        "2849"
       ]
      },
      {
       "output_type": "stream",
       "stream": "stdout",
       "text": [
        " ['research analyst', 'Christopher Barger', False]\n",
        "2846 ['non-profit administrator', 'Joe Archer', False]\n",
        "2847 ['writer', 'Roy Jenkins', False]\n",
        "2844 ['teacher and conductor', 'Bruce Lamott', ['MiscTeacher', 'Teacher', 'Teacher']]\n",
        "2845 ['high school teacher', 'Linda Fabrizio', ['MiscTeacher', 'Teacher', 'Teacher']]\n",
        "2842 ['social studies teacher', 'Jeff Park', ['MiscTeacher', 'Teacher', 'Teacher']]\n",
        "2843 ['medical librarian', 'Carol Feingold', ['25-4021', 'Librarians', 'Medical Librarian']]\n",
        "2840 ['policy analyst', 'Teresa Cahalan', False]\n",
        "2841 ['Jewish studies teacher', 'Jacob Cytryn', ['MiscTeacher', 'Teacher', 'Teacher']]\n",
        "5476"
       ]
      },
      {
       "output_type": "stream",
       "stream": "stdout",
       "text": [
        " ['homemaker, writer, and editor', 'Christina Dudley', False]\n",
        "5477 ['casino worker', 'Tim Crockett', False]\n",
        "5474 ['bookkeeper', 'Todd Covert', ['43-3031', 'Bookkeeping, Accounting, and Auditing Clerks', 'Bookkeeper']]\n",
        "3323 ['teacher', 'Freddy Bee', ['MiscTeacher', 'Teacher', 'Teacher']]\n",
        "3324 ['exercise physiologist', 'Chip Matejowsky', False]\n",
        "3325 ['technical service manager', 'Paula Morrison', False]\n",
        "3326"
       ]
      },
      {
       "output_type": "stream",
       "stream": "stdout",
       "text": [
        " ['writer', 'Jeremy Bate', False]\n",
        "3327 ['middle school teacher', 'Blair Fisher', ['MiscTeacher', 'Teacher', 'Teacher']]\n",
        "3328 ['attorney', 'Pam Simmons', ['23-1011', 'Lawyers', 'Attorney']]\n",
        "3329 ['grocery clerk', 'Tim Hughes', False]\n",
        "5478 ['freelance editor, writer and reporter', 'Beverly Herter', False]\n",
        "5479 ['community activist', 'Susan Keller', False]\n",
        "5519"
       ]
      },
      {
       "output_type": "stream",
       "stream": "stdout",
       "text": [
        " ['telecommunications consultant', 'Kathy Lague', False]\n",
        "5518 ['high school math teacher', 'Tom Stetina', ['MiscTeacher', 'Teacher', 'Teacher']]\n",
        "5511 ['stay-at-home dad', 'Jim Cairl', False]\n",
        "1555 ['analyst', 'Katie De Pitts', False]\n",
        "5513 ['project manager', 'A.V. Greene', False]\n",
        "5512 ['paralegal & stay-at-home mom', 'Sara Austin', False]\n",
        "5515 ['high school teacher', 'Mike Maheu', ['MiscTeacher', 'Teacher', 'Teacher']]\n",
        "5514"
       ]
      },
      {
       "output_type": "stream",
       "stream": "stdout",
       "text": [
        " ['law student', 'Eli Edwards', False]\n",
        "5517 ['security officer', 'Alex Harriger', ['33-9032', 'Security Guards', 'Security Officer']]\n",
        "5516 ['freelance copy editor and movie theater manager', 'Margaret Seiler', False]\n",
        "537 ['airline employee', 'Tom Stewart', False]\n",
        "536 ['housewife', 'Gina Ruttle', False]\n",
        "535 ['lawyer', 'Dane Garrett', ['23-1011', 'Lawyers', 'Lawyer']]\n",
        "534"
       ]
      },
      {
       "output_type": "stream",
       "stream": "stdout",
       "text": [
        " ['student', 'Chuck Forrest', False]\n",
        "533 ['homemaker', 'Hilary Hill', False]\n",
        "532 ['part-time teacher', 'Amy Fine', ['MiscTeacher', 'Teacher', 'Teacher']]\n",
        "531 ['Advanced Placement history teacher', 'Craig Barker', ['MiscTeacher', 'Teacher', 'Teacher']]\n",
        "3035 ['anesthesiologist', 'Frank Liu', ['29-1061', 'Anesthesiologists', 'Anesthesiologist']]\n",
        "539 ['senior at Stanford University', 'Graham Gilmer', False]\n",
        "538 ['lawyer', 'Tom Halpern', ['23-1011', 'Lawyers', 'Lawyer']]\n",
        "1908 ['forensic accountant', 'Don Minyard', False]\n",
        "1909"
       ]
      },
      {
       "output_type": "stream",
       "stream": "stdout",
       "text": [
        " ['administrative assistant', 'Jaime Thomson', False]\n",
        "3294 ['professor', \"Jennifer O'Brien\", False]\n",
        "1907 ['aerospace engineer', 'Joe Weber', ['17-2011', 'Aerospace Engineers', 'Aerospace Engineer']]\n",
        "3296 ['office manager', 'Melanie Smith', False]\n",
        "6518 ['retired communications executive', 'Marianne Henderson', False]\n",
        "6519"
       ]
      },
      {
       "output_type": "stream",
       "stream": "stdout",
       "text": [
        " ['singer and actor', 'Ron Banks', False]\n",
        "1905 ['systems analyst', 'Faith Love', False]\n",
        "6510 ['middle school science teacher', 'Robert Bethune', ['MiscTeacher', 'Teacher', 'Teacher']]\n",
        "1902 [\"surveyor's assistant\", 'Margaret Holz', False]\n",
        "6512 ['online producer', 'Cristy Stone', False]\n",
        "6513 ['veterinarian', 'Mike Marmesh', False]\n",
        "6514"
       ]
      },
      {
       "output_type": "stream",
       "stream": "stdout",
       "text": [
        " ['bookstore manager and actor', 'Jody Allen', False]\n",
        "6515 ['puppeteer', 'Nancy Riggs', ['27-2099', 'Entertainers and Performers, Sports and Related Workers, All Other', 'Puppeteer']]\n",
        "6516 ['training specialist', 'Kelly Garza', ['13-1151', 'Training and Development Specialists', 'Training Specialist']]\n",
        "3291 ['electronic commerce consultant', 'Mike Garrido', False]\n",
        "5131 ['writer and actor', 'Jonathan Groff', False]\n",
        "1901 ['exhibition designer', 'Michael Lapthorn', False]\n",
        "1974 ['graduate student', 'Raj Dhuwalia', ['GradStu', 'Graduate student', 'Graduate student']]\n",
        "3812 ['actress', 'Suzanne Hayes', ['27-2011', 'Actors', 'Actress']]\n",
        "3813"
       ]
      },
      {
       "output_type": "stream",
       "stream": "stdout",
       "text": [
        " ['supply officer', 'Derek Mohr', False]\n",
        "3810 ['substitute teacher', 'Tim McMullen', ['MiscTeacher', 'Teacher', 'Teacher']]\n",
        "3811 ['computer systems analyst', 'Kevin Forsyth', ['15-1121', 'Computer Systems Analysts', 'Computer Systems Analyst']]\n",
        "3816 ['graduate student', 'Susan Mitchell', ['GradStu', 'Graduate student', 'Graduate student']]\n",
        "3817 ['secretary', 'Marilyn Carnahan', False]\n",
        "3814 ['web animator', 'Michael Condouris', False]\n",
        "3815 ['sales assistant', 'Marta Bowman', False]\n",
        "3818 ['writer', 'Tom Lakeman', False]\n",
        "3819"
       ]
      },
      {
       "output_type": "stream",
       "stream": "stdout",
       "text": [
        " ['counselor and librarian', 'Ginny Weeks', False]\n",
        "8457 ['flavor chemist', 'Don Juergens', False]\n",
        "8456 ['customer service technician', 'Vanessa Whittemore', False]\n",
        "8455 ['homemaker and mom', 'Liz Belthoff', False]\n",
        "8454 ['electrical engineer', 'Jason Rau', ['17-2071', 'Electrical Engineers', 'Electrical Engineer']]\n",
        "8453 ['Catholic priest', 'Bill Matheny', False]\n",
        "8452"
       ]
      },
      {
       "output_type": "stream",
       "stream": "stdout",
       "text": [
        " ['assistant professor of engineering', 'Judy Wang', False]\n",
        "8451 ['church sexton', 'Steve Hafner', False]\n",
        "8450 ['high school teacher', 'Brock Putnam', ['MiscTeacher', 'Teacher', 'Teacher']]\n",
        "8459 ['data analyst', 'Andre Green', False]\n",
        "8458 ['hospice nurse', 'Erin Murphy', False]\n",
        "7548"
       ]
      },
      {
       "output_type": "stream",
       "stream": "stdout",
       "text": [
        " ['film preservationist', 'Brian Meacham', False]\n",
        "7549 ['computer scientist', 'Roger Craig', ['15-1111', 'Computer and Information Research Scientists', 'Computer Scientist']]\n",
        "7540 ['hotel front desk manager', 'Evan Sandman', False]\n",
        "7541 ['document specialist', 'Gina Harris', False]\n",
        "7542"
       ]
      },
      {
       "output_type": "stream",
       "stream": "stdout",
       "text": [
        " ['historical researcher and writer', 'Emily Gifford', False]\n",
        "7543 ['attorney', 'Dave Burnstein', ['23-1011', 'Lawyers', 'Attorney']]\n",
        "7544 ['high school English teacher', 'Charles Temple', ['MiscTeacher', 'Teacher', 'Teacher']]\n",
        "7545 ['oncologist', 'Jay Rhee', False]\n",
        "7546 ['writer', 'Tom Nissley', False]\n",
        "7547 ['newspaper reporter', 'Kara Spak', False]\n",
        "6169 ['twelve-year-old', 'Allyson McDonough', False]\n",
        "6168"
       ]
      },
      {
       "output_type": "stream",
       "stream": "stdout",
       "text": [
        " ['twelve-year-old', 'Francis Musella', False]\n",
        "6161 ['data processor and an actor', 'Nathan Walpow', False]\n",
        "6160 ['attorney', 'Ron Black', ['23-1011', 'Lawyers', 'Attorney']]\n",
        "6163 ['school psychologist', 'Mark Winslett', ['19-3031', 'Clinical, Counseling, and School Psychologists', 'School Psychologist']]\n",
        "6162 ['financial analyst', 'Michael Day', False]\n",
        "6165"
       ]
      },
      {
       "output_type": "stream",
       "stream": "stdout",
       "text": [
        " ['eleven-year-old', 'Max Wagner', False]\n",
        "6164 ['judicial assistant', 'Ingrid Nelson', False]\n",
        "6167 ['eleven-year-old', 'Ben Gammage', False]\n",
        "6166 ['eleven-year-old', 'Ina Jazic', False]\n",
        "8856 ['phlebotomist', 'Matthew Linnabary', ['31-9097', 'Phlebotomists', 'Phlebotomist']]\n",
        "2213"
       ]
      },
      {
       "output_type": "stream",
       "stream": "stdout",
       "text": [
        " ['publications consultant', 'Bara Blender', False]\n",
        "2212 ['civil engineer', 'Karim Moore', ['17-2051', 'Civil Engineers', 'Civil Engineer']]\n",
        "2211 ['administrative assistant', 'Sarah Cooper', False]\n",
        "2210 ['equal opportunity manager', 'Denese Edsall', False]\n",
        "2217"
       ]
      },
      {
       "output_type": "stream",
       "stream": "stdout",
       "text": [
        " ['teaching assistant', 'Jenn Reilly', False]\n",
        "2216 ['director of a public policy think tank', 'Robert Heiler', False]\n",
        "2215 ['project assistant', 'Carly Minner', False]\n",
        "2214 ['graduate student', 'Loyd Gattis', ['GradStu', 'Graduate student', 'Graduate student']]\n",
        "2219"
       ]
      },
      {
       "output_type": "stream",
       "stream": "stdout",
       "text": [
        " ['publications coordinator', 'David Burgess', False]\n",
        "2218 ['operations research analyst', 'David Tate', ['15-2031', 'Operations Research Analysts', 'Operations Research Analyst']]\n",
        "6137 ['TV personality', 'Martha Stewart', False]\n",
        "4518 ['graduate student', 'Adam Taxin', ['GradStu', 'Graduate student', 'Graduate student']]\n",
        "4519 ['college student', 'Jill Le Brasseur', False]\n",
        "4512 ['stay-at-home mom', 'Sherry Huiner', False]\n",
        "4513"
       ]
      },
      {
       "output_type": "stream",
       "stream": "stdout",
       "text": [
        " ['Air Force officer', 'Mike Currie', False]\n",
        "4510 ['purchasing agent', 'Annie Joseph', False]\n",
        "4511 ['systems specialist', 'Patricia Crane', False]\n",
        "4516 ['landscape painter', 'Josh Adam', False]\n",
        "4517"
       ]
      },
      {
       "output_type": "stream",
       "stream": "stdout",
       "text": [
        " ['college student', 'Sara Buckhold', False]\n",
        "4514 ['engineering consultant & flight instructor', 'Dhaval Dave', False]\n",
        "4515 ['bookstore manager', 'Jennifer LeBow', False]\n",
        "5289 ['financial consultant', 'Paul Nethercut', False]\n",
        "5288 ['high school math teacher', 'Robert Furtney', ['MiscTeacher', 'Teacher', 'Teacher']]\n",
        "5281"
       ]
      },
      {
       "output_type": "stream",
       "stream": "stdout",
       "text": [
        " ['law student', 'Kirsten Hoffstedt Keefe', False]\n",
        "5280 ['web assistant', 'Brad Bean', False]\n",
        "5283 ['graduate student', 'Jessica Rasper', ['GradStu', 'Graduate student', 'Graduate student']]\n",
        "5282 ['attorney', 'Andy Morris', ['23-1011', 'Lawyers', 'Attorney']]\n",
        "5285 ['attorney', 'Matt Cookson', ['23-1011', 'Lawyers', 'Attorney']]\n",
        "5284 ['graduate student', 'Suzanne LaVere', ['GradStu', 'Graduate student', 'Graduate student']]\n",
        "5287 ['pastor', 'Tim MacGowan', ['21-2011', 'Clergy', 'Pastor']]\n",
        "5286 ['writer and editor', 'Kristina Alexander', False]\n",
        "9025 ['copy editor', 'Jennie Crabbe', ['27-3041', 'Editors', 'Copy Editor']]\n",
        "9024"
       ]
      },
      {
       "output_type": "stream",
       "stream": "stdout",
       "text": [
        " ['digital marketer', 'J.D. Lape', False]\n",
        "9027 ['postal clerk', 'Alex Szabo', ['43-5051', 'Postal Service Clerks', 'Postal Clerk']]\n",
        "7302 ['typesetter', 'Jean Grewe', False]\n",
        "7303 ['State Department attorney', 'Mary Mitchell', False]\n",
        "7300"
       ]
      },
      {
       "output_type": "stream",
       "stream": "stdout",
       "text": [
        " ['college administrator', 'Philip Glotzbach', False]\n",
        "7301 ['Ph.D. candidate', 'Dave Dixon', False]\n",
        "7306 ['veterinary assistant', 'Kirsten Ruemenapp', False]\n",
        "7307 ['insurance filings analyst', 'Beth Miller', False]\n",
        "7304 ['graduate student of philosophy', 'Jason Rhode', ['GradStu', 'Graduate student', 'Graduate student']]\n",
        "7305 ['high school English teacher', 'Robin Woolsey', ['MiscTeacher', 'Teacher', 'Teacher']]\n",
        "9021 ['college history teacher', 'Rebecca Baird', ['MiscTeacher', 'Teacher', 'Teacher']]\n",
        "7308"
       ]
      },
      {
       "output_type": "stream",
       "stream": "stdout",
       "text": [
        " ['film preservationist', 'Brian Meacham', False]\n",
        "7309 ['equity trader', 'Nick Cohen', ['41-3031', 'Securities, Commodities, and Financial Services Sales Agents', 'Equity Trader']]\n",
        "9020 ['nanny', 'Monique Aldred', ['39-9011', 'Childcare Workers', 'Nanny']]\n",
        "9023 ['librarian', 'Chrissy Swisher', False]\n",
        "9022 ['government secretary', 'Devin Baker', False]\n",
        "7045 ['student of philosophy', 'Ricky Kreitner', False]\n",
        "7044"
       ]
      },
      {
       "output_type": "stream",
       "stream": "stdout",
       "text": [
        " ['customer service representative', 'Marie Braden', False]\n",
        "7047 ['radio host and producer', 'Molly Adams', False]\n",
        "7046 ['psychologist and university counseling center director', 'Silvio Menzano', False]\n",
        "7041 ['chemistry professor', 'Bert Rubini', ['25-1052', 'Chemistry Teachers, Postsecondary', 'Chemistry Professor']]\n",
        "7040"
       ]
      },
      {
       "output_type": "stream",
       "stream": "stdout",
       "text": [
        " [\"dean's assistant\", 'Sarah Whitaker', False]\n",
        "7043 ['retired housewife', 'Barbara Brown', False]\n",
        "7042 ['college swim coach and aquatics consultant', 'George Villarreal', False]\n",
        "7049 ['singer-songwriter', 'Dave Ellis', False]\n",
        "7048"
       ]
      },
      {
       "output_type": "stream",
       "stream": "stdout",
       "text": [
        " ['stay-at-home mom', 'Jocelyn Casser', False]\n",
        "9108 ['junior', 'Neil Gronowetter', False]\n",
        "8608 ['graduate student in global policy studies', 'Jared Hall', ['GradStu', 'Graduate student', 'Graduate student']]\n",
        "8609 ['expediter', 'Lin Mueller', False]\n",
        "6989 ['police officer', 'Matt Martin', False]\n",
        "6988 ['sportswriter', 'Jelisa Castrodale', False]\n",
        "6987 ['lawyer', 'Mary Keating', ['23-1011', 'Lawyers', 'Lawyer']]\n",
        "6986"
       ]
      },
      {
       "output_type": "stream",
       "stream": "stdout",
       "text": [
        " ['archives assistant', 'Marisa Tam', False]\n",
        "6985 ['economic consultant', 'Shaama Pandya', False]\n",
        "6984 ['civil engineer', 'Ryan Hedlund', ['17-2051', 'Civil Engineers', 'Civil Engineer']]\n",
        "6983 ['training and sportsmanship  consultant', 'Les Taub', False]\n",
        "6982"
       ]
      },
      {
       "output_type": "stream",
       "stream": "stdout",
       "text": [
        " ['foreign service officer', 'Ruth Anne Stevens-Klitz', False]\n",
        "6981 ['mathematics college professor', 'Kevin Knudson', False]\n",
        "6980 ['mom', 'Katie Ganfield', False]\n",
        "9109"
       ]
      },
      {
       "output_type": "stream",
       "stream": "stdout",
       "text": [
        " ['law student', 'FeiFei Jiang', False]\n",
        "7693 ['high school ACT prep teacher', 'Nate Rice', ['MiscTeacher', 'Teacher', 'Teacher']]\n",
        "4722 ['homemaker', 'Mary Rider', False]\n",
        "2989 ['junior', 'Joel Vaughan', False]\n",
        "2988 ['freshman', 'Brian Chan', False]\n",
        "2983"
       ]
      },
      {
       "output_type": "stream",
       "stream": "stdout",
       "text": [
        " ['freshman', 'Eric Slack', False]\n",
        "2982 ['judicial law clerk', 'Christian Ruud', False]\n",
        "2981 ['homemaker', 'Mariann Buonadonna', False]\n",
        "2980 ['agricultural researcher', 'Marisa Griffin', False]\n",
        "2987"
       ]
      },
      {
       "output_type": "stream",
       "stream": "stdout",
       "text": [
        " ['senior', 'Lisa Talley', False]\n",
        "2986 ['sophomore', 'Mark Urciuolo', False]\n",
        "2985 ['senior', 'Steven Bevier', False]\n",
        "2984 ['junior', 'Andrea Riquier', False]\n",
        "1018 ['artist', 'Jerry Fried', False]\n",
        "1019"
       ]
      },
      {
       "output_type": "stream",
       "stream": "stdout",
       "text": [
        " ['information officer', 'Gunther Freehill', False]\n",
        "1014 ['librarian', 'Lyn Payne', False]\n",
        "1015 ['high school French teacher', 'David Wyatt', ['MiscTeacher', 'Teacher', 'Teacher']]\n",
        "1016 ['test systems analyst', 'Doug Antoniazzi', False]\n",
        "1017"
       ]
      },
      {
       "output_type": "stream",
       "stream": "stdout",
       "text": [
        " ['computer specialist', 'Kathy Rice', False]\n",
        "1010 ['human resources management consultant', 'Mac Jones', False]\n",
        "1011 ['librarian', 'Barbara Lieberman', False]\n",
        "1012"
       ]
      },
      {
       "output_type": "stream",
       "stream": "stdout",
       "text": [
        " ['writer & consultant', 'Jim Hennessy', False]\n",
        "1013 ['proofreader', 'Deborah Hummel', ['43-9081', 'Proofreaders and Copy Markers', 'Proofreader']]\n",
        "4358 ['letter carrier', 'Gary Lucy', ['43-5052', 'Postal Service Mail Carriers', 'Letter Carrier']]\n",
        "4359 ['state and local planning coordinator', 'Karen Marlowe', False]\n",
        "4354"
       ]
      },
      {
       "output_type": "stream",
       "stream": "stdout",
       "text": [
        " ['veterinary technician', 'Sara Terrell', False]\n",
        "4355 ['college student', 'Christian Haines', False]\n",
        "4356 ['administrator', 'Delori Hawkins', False]\n",
        "4357 ['high school English teacher', 'Eric Wagner', ['MiscTeacher', 'Teacher', 'Teacher']]\n",
        "4350 ['paramedic', 'Craig Westphal', ['29-2041', 'Emergency Medical Technicians and Paramedics', 'Paramedic']]\n",
        "4351 ['publisher', 'Nick Swezey', False]\n",
        "4352 ['recent graduate student', 'Celeste DiNucci', ['GradStu', 'Graduate student', 'Graduate student']]\n",
        "4353"
       ]
      },
      {
       "output_type": "stream",
       "stream": "stdout",
       "text": [
        " ['writer', 'Steve Unite', False]\n",
        "438 ['law student', 'Becky Benjamin', False]\n",
        "439 ['sportswriter', 'Eddie Timanus', False]\n",
        "436 ['computer engineer', 'Jeff Chrzanowski', False]\n",
        "437"
       ]
      },
      {
       "output_type": "stream",
       "stream": "stdout",
       "text": [
        " ['trade compliance specialist', 'Kathy Currid', False]\n",
        "434 ['perfusionist', 'Cori Collins', ['29-2099', 'Health Technologists and Technicians, All Other', 'Perfusionist']]\n",
        "435 ['Air Force contracting officer', 'Glen Savory', False]\n",
        "432 ['consultant', 'Amy Solomon', False]\n",
        "433"
       ]
      },
      {
       "output_type": "stream",
       "stream": "stdout",
       "text": [
        " ['product development manager', 'Doug Lach', False]\n",
        "430 ['paralegal', 'David Siegel', ['23-2011', 'Paralegals and Legal Assistants', 'Paralegal']]\n",
        "431 ['lawyer', 'Norm Nadel', ['23-1011', 'Lawyers', 'Lawyer']]\n",
        "1436 ['computer trainer', 'Pam Mifflin', False]\n",
        "5708 ['history teacher and graduate student', 'Nikki Lindsey', ['GradStu', 'Graduate student', 'Graduate student']]\n",
        "5709 ['nonprofit professional', 'Victor Fernandez', False]\n",
        "5704"
       ]
      },
      {
       "output_type": "stream",
       "stream": "stdout",
       "text": [
        " ['temporary executive assistant', 'Eileen Hand', False]\n",
        "5705 ['marine biologist', 'Patrick Krug', ['19-1023', 'Zoologists and Wildlife Biologists', 'Marine Biologist']]\n",
        "5706 ['library assistant', 'Kevin Mallory', ['43-4121', 'Library Assistants, Clerical', 'Library Assistant']]\n",
        "5707 ['attorney', 'Brian Hayes', ['23-1011', 'Lawyers', 'Attorney']]\n",
        "5700 ['editor', 'Laura Ellis', False]\n",
        "5701 ['laboratory technologist', 'Andrew Rogers', False]\n",
        "5702"
       ]
      },
      {
       "output_type": "stream",
       "stream": "stdout",
       "text": [
        " ['surgeon', 'Jackie Harrison', False]\n",
        "5703 ['web developer', 'Evan Stoner', ['15-1134', 'Web Developers', 'Web Developer']]\n",
        "1437 ['correction officer', 'Carl Bryant', ['33-3012', 'Correctional Officers and Jailers', 'Correction Officer']]\n",
        "8025 ['mom and tutor', 'Hilary Hultman-Lee', False]\n",
        "1434 ['actor and musician', 'Vartan Merjanian', False]\n",
        "2465"
       ]
      },
      {
       "output_type": "stream",
       "stream": "stdout",
       "text": [
        " ['freelance writer', 'Mel Banashek', False]\n",
        "1432 ['attorney', 'Joseph Willis', ['23-1011', 'Lawyers', 'Attorney']]\n",
        "2463 ['social studies teacher', 'Mark Johnson', ['MiscTeacher', 'Teacher', 'Teacher']]\n",
        "716 ['family counselor', 'Leslie Stucke', ['21-1013', 'Marriage and Family Therapists', 'Family Counselor']]\n",
        "1433 ['stay-at-home mom', 'Eve Bjork', False]\n",
        "5357 ['freelance journalist', 'Greg Lindsay', False]\n",
        "5356 ['waiter', 'Kurt Davies', False]\n",
        "1052"
       ]
      },
      {
       "output_type": "stream",
       "stream": "stdout",
       "text": [
        " ['homemaker', 'Janet Kaufman', False]\n",
        "2469 ['teacher', 'Roger Storm', ['MiscTeacher', 'Teacher', 'Teacher']]\n",
        "1430 ['attorney', 'Jim Selth', ['23-1011', 'Lawyers', 'Attorney']]\n",
        "7829 ['journalist', 'Clarence Page', False]\n",
        "5354 ['substitute teacher', 'Scott Ingram', ['MiscTeacher', 'Teacher', 'Teacher']]\n",
        "7823 ['news anchor and correspondent', 'Anderson Cooper', False]\n",
        "1054"
       ]
      },
      {
       "output_type": "stream",
       "stream": "stdout",
       "text": [
        " ['real estate consultant', 'Andy Gedo', False]\n",
        "7821 ['author and foreign affairs columnist', 'Thomas L. Friedman', False]\n",
        "7820 ['cardiac surgeon and TV host', 'Dr. Mehmet Oz', False]\n",
        "7827"
       ]
      },
      {
       "output_type": "stream",
       "stream": "stdout",
       "text": [
        " ['food safety inspector', 'Mike Lally', False]\n",
        "7826 ['attorney', 'Marnie Cox', ['23-1011', 'Lawyers', 'Attorney']]\n",
        "7825 ['real estate developer', 'Joel Pool', False]\n",
        "1055 ['senior account executive', 'Dan Ritey', False]\n",
        "1056 ['teacher', 'David Vanden Heuvel', ['MiscTeacher', 'Teacher', 'Teacher']]\n",
        "1057"
       ]
      },
      {
       "output_type": "stream",
       "stream": "stdout",
       "text": [
        " ['recent law school graduate', 'Mark Hinckley', False]\n",
        "1431 ['homemaker', 'Linda Slyer', False]\n",
        "8985 ['retired middle-school teacher', 'Deborah Ellis', ['MiscTeacher', 'Teacher', 'Teacher']]\n",
        "8984 ['tutor and musician', 'Brendan Getzell', False]\n",
        "8987 ['attorney', 'Julia Levine', ['23-1011', 'Lawyers', 'Attorney']]\n",
        "8986"
       ]
      },
      {
       "output_type": "stream",
       "stream": "stdout",
       "text": [
        " ['university honors program manager', 'Clay Walls', False]\n",
        "8981 ['science policy fellow', 'Nancy Akerman', False]\n",
        "8980 ['system developer', 'Derek Arnold', False]\n",
        "8983 ['attorney', 'Matt Prasse', ['23-1011', 'Lawyers', 'Attorney']]\n",
        "8982"
       ]
      },
      {
       "output_type": "stream",
       "stream": "stdout",
       "text": [
        " ['public librarian', 'Nathan Chadwick', False]\n",
        "8989 ['aspiring student', 'Amy Nienaber', False]\n",
        "8988 ['fertilizer market manager', 'Douglas Beeler', False]\n",
        "1832 ['copy editor', 'Peter Warn', ['27-3041', 'Editors', 'Copy Editor']]\n",
        "1833"
       ]
      },
      {
       "output_type": "stream",
       "stream": "stdout",
       "text": [
        " ['musician and a composer', 'Jerry Frankel', False]\n",
        "1830 ['seminary student', 'Van Tarpley', False]\n",
        "1831 ['social worker', 'Julie Spencer', False]\n",
        "1836 ['training officer', 'Dan Lee', False]\n",
        "3798 ['middle school teacher', 'Tom Castelazo', ['MiscTeacher', 'Teacher', 'Teacher']]\n",
        "1834"
       ]
      },
      {
       "output_type": "stream",
       "stream": "stdout",
       "text": [
        " ['university administrator and professor', 'Bruce Fauman', False]\n",
        "1835 ['letter carrier', 'Steve Rogitz', ['43-5052', 'Postal Service Mail Carriers', 'Letter Carrier']]\n",
        "3795 ['writer', 'John Walsh', False]\n",
        "3794 ['college library director', 'Heidi Sanchez', False]\n",
        "1838 ['environmental engineer', 'Andrew Maly', ['17-2081', 'Environmental Engineers', 'Environmental Engineer']]\n",
        "1839"
       ]
      },
      {
       "output_type": "stream",
       "stream": "stdout",
       "text": [
        " ['social worker', 'Dana Ezell', False]\n",
        "3791 ['orthopedic surgeon', 'Toni McLaurin', ['29-1067', 'Surgeons', 'Orthopedic Surgeon']]\n",
        "3790 ['lawyer', 'Steven Jupiter', ['23-1011', 'Lawyers', 'Lawyer']]\n",
        "3793 ['software engineer', 'Ssezi Mukasa', False]\n",
        "3792 ['attorney', 'Rod McCarvel', ['23-1011', 'Lawyers', 'Attorney']]\n",
        "4981 ['researcher', 'Alison Becker', False]\n",
        "4980"
       ]
      },
      {
       "output_type": "stream",
       "stream": "stdout",
       "text": [
        " ['11-year-old', 'Melanie Bruchet', False]\n",
        "4983 ['12-year-old', 'Max Johansen', False]\n",
        "4982 ['high school college counselor', 'Steve Frappier', False]\n",
        "4985"
       ]
      },
      {
       "output_type": "stream",
       "stream": "stdout",
       "text": [
        " ['11-year-old', 'Joel Serna', False]\n",
        "4984 ['11-year-old', 'Anjali Tripathi', False]\n",
        "4987 ['high school drama teacher', 'Winter Mead', ['MiscTeacher', 'Teacher', 'Teacher']]\n",
        "4986 ['English teacher', 'Susan Keller', ['MiscTeacher', 'Teacher', 'Teacher']]\n",
        "4989 ['12-year-old', 'Curtis Joseph', False]\n",
        "4988"
       ]
      },
      {
       "output_type": "stream",
       "stream": "stdout",
       "text": [
        " ['12-year-old', 'Lisa Makar', False]\n",
        "2158 ['environmental scientist', 'Rebekah Lacey', ['19-2041', 'Environmental Scientists and Specialists, Including Health', 'Environmental Scientist']]\n",
        "2159 ['administrative assistant', 'Trish Miller', False]\n",
        "2408 ['web consultant for an advertising agency', 'Anna Pasquale', False]\n",
        "2409 ['graduate student', 'John Compton', ['GradStu', 'Graduate student', 'Graduate student']]\n",
        "1955 ['lawyer', 'David Rozenson', ['23-1011', 'Lawyers', 'Lawyer']]\n",
        "1954"
       ]
      },
      {
       "output_type": "stream",
       "stream": "stdout",
       "text": [
        " ['special assistant', 'Aaron Thompson', False]\n",
        "1957 ['registered nurse', 'Linda St. Clair-James', ['29-1141', 'Registered Nurses', 'Registered Nurse']]\n",
        "1956 ['student', 'Kevin Marshall', False]\n",
        "1951 ['writer and professor', 'Doug Dorst', False]\n",
        "1950"
       ]
      },
      {
       "output_type": "stream",
       "stream": "stdout",
       "text": [
        " ['student', 'Kermin Fleming', False]\n",
        "1953 ['homemaker', 'Nina Mulligan', False]\n",
        "1952 ['television editor', 'Tony Reece', False]\n",
        "1959 ['medical student', 'Vik Vaz', False]\n",
        "1958"
       ]
      },
      {
       "output_type": "stream",
       "stream": "stdout",
       "text": [
        " ['casino supervisor', 'Ron Mahla', ['39-1011', 'Gaming Supervisors', 'Casino Supervisor']]\n",
        "3249 ['management consultant', 'Jim Oddie', ['13-1111', 'Management Analysts', 'Management Consultant']]\n",
        "3248 ['chief financial officer', 'Bryan Southard', False]\n",
        "3243 ['pediatrician', 'Correne Boucher', False]\n",
        "3242 ['waiter', 'Dave Stewart', False]\n",
        "3241"
       ]
      },
      {
       "output_type": "stream",
       "stream": "stdout",
       "text": [
        " ['assistant functions coordinator', 'Sheri Young', False]\n",
        "3240 ['marketing manager', 'Stephen Mitchell', False]\n",
        "3247 ['stay-at-home mom', 'Lynne Langhammer Conover', False]\n",
        "3246 ['aspiring screenwriter', 'Michael Souveroff', False]\n",
        "3245"
       ]
      },
      {
       "output_type": "stream",
       "stream": "stdout",
       "text": [
        " ['foreign exchange trader', 'Paul Park', ['13-2099', 'Financial Specialists, All Other', 'Foreign Exchange Trader']]\n",
        "1990 ['computer consultant', 'Dennis Thibodeaux', False]\n",
        "1993 ['graduate student', 'Jill Rupert-Bennett', ['GradStu', 'Graduate student', 'Graduate student']]\n",
        "1483 ['state filings analyst', 'John Nauss', False]\n",
        "1482 ['support center analyst', 'Brian Poole', False]\n",
        "1481"
       ]
      },
      {
       "output_type": "stream",
       "stream": "stdout",
       "text": [
        " ['travel agent', 'Emily Short', ['41-3041', 'Travel Agents', 'Travel Agent']]\n",
        "1480 ['retailer & importer', 'Jennifer Tobias-Turner', False]\n",
        "5498 ['software designer', 'Ethan Lowry', False]\n",
        "5499 ['teacher', 'Heather Mock', ['MiscTeacher', 'Teacher', 'Teacher']]\n",
        "1485"
       ]
      },
      {
       "output_type": "stream",
       "stream": "stdout",
       "text": [
        " [\"high school senior and winner of last year's Teen Tournament\", 'Jamie Weiss', False]\n",
        "1484 ['graduate student', 'Lisa McLendon', ['GradStu', 'Graduate student', 'Graduate student']]\n",
        "3306 ['elementary school teacher', 'Mollie Fucilla', ['MiscTeacher', 'Teacher', 'Teacher']]\n",
        "3307 ['administrative assistant', 'Steve Tanner', False]\n",
        "5496 ['graduate student', 'Rob Latimer', ['GradStu', 'Graduate student', 'Graduate student']]\n",
        "5497 ['retired educator', 'Carol DeLockroy', False]\n",
        "3302 ['lecturer', 'Greg Williams', False]\n",
        "3303"
       ]
      },
      {
       "output_type": "stream",
       "stream": "stdout",
       "text": [
        " ['marketing communications firm owner', 'Paula Ashley', False]\n",
        "3300 ['fraud investigator and singer-songwriter', 'JC Honeycutt', False]\n",
        "3301 ['corporate trainer', 'Brian Armbrust', ['13-1151', 'Training and Development Specialists', 'Corporate Trainer']]\n",
        "1992 ['firefighter', 'Matt Sojot', False]\n",
        "612"
       ]
      },
      {
       "output_type": "stream",
       "stream": "stdout",
       "text": [
        " ['Teen Tournament winner', 'Josh Den Hartog', False]\n",
        "613 ['pop music critic', 'Claudia Perry', False]\n",
        "610 ['librarian', 'Lyn Payne', False]\n",
        "611 ['graduate student', 'Sean Ryan', ['GradStu', 'Graduate student', 'Graduate student']]\n",
        "1995 ['librarian', 'Julie Backer', False]\n",
        "617 ['advertising manager', 'Peter Scott', ['11-2011', 'Advertising and Promotions Managers', 'Advertising Manager']]\n",
        "2060 ['homemaker', 'Karen Ronsivalle', False]\n",
        "614"
       ]
      },
      {
       "output_type": "stream",
       "stream": "stdout",
       "text": [
        " ['counselor', 'Paul Gutowski', False]\n",
        "2061 ['editor', 'Catherine Young', False]\n",
        "615 ['optometrist and 1992 Seniors Tournament champion', 'Leonard Schmidt', False]\n",
        "2062"
       ]
      },
      {
       "output_type": "stream",
       "stream": "stdout",
       "text": [
        " ['communications specialist', 'Meredith Finnin', False]\n",
        "2063 ['attorney', 'Tad Carithers', ['23-1011', 'Lawyers', 'Attorney']]\n",
        "2064 ['VP of sales', 'Bill Duncliffe', False]\n",
        "2065 ['attorney', 'Audrey Ng', ['23-1011', 'Lawyers', 'Attorney']]\n",
        "519 ['transcriptionist', 'Cathi Pedersen', False]\n",
        "518 ['assistant editor', 'Fred Ramen', False]\n",
        "2066"
       ]
      },
      {
       "output_type": "stream",
       "stream": "stdout",
       "text": [
        " ['stagehand and receptionist', 'Marcia Jensen', False]\n",
        "511 ['professor', 'Tom Nichols', False]\n",
        "510 ['writer', 'Eugene Finerman', False]\n",
        "513 ['investment analyst', 'John Cuthbertson', False]\n",
        "512"
       ]
      },
      {
       "output_type": "stream",
       "stream": "stdout",
       "text": [
        " ['actuary', 'Bob Blake', False]\n",
        "515 ['waitress', 'Pamela Friedl', False]\n",
        "514 ['college professor', 'Bruce Ikawa', False]\n",
        "517 ['librarian', 'Lynne Wexler', False]\n",
        "516"
       ]
      },
      {
       "output_type": "stream",
       "stream": "stdout",
       "text": [
        " ['executive assistant', 'Dave Grove', ['43-6011', 'Executive Secretaries and Executive Administrative Assistants', 'Executive Assistant']]\n",
        "1227 ['creative marketing consultant', \"Leslie Burns-Dell'Acqua\", False]\n",
        "1226 ['office manager', 'Cynthia Edmunds', False]\n",
        "1225"
       ]
      },
      {
       "output_type": "stream",
       "stream": "stdout",
       "text": [
        " ['newspaper reporter', 'Brad Smith', False]\n",
        "1224 ['tech advisor', 'Jeremy Evans', False]\n",
        "1223 ['attorney', 'Philip Huang', ['23-1011', 'Lawyers', 'Attorney']]\n",
        "1222 ['Army captain', 'Wade Markel', False]\n",
        "1221"
       ]
      },
      {
       "output_type": "stream",
       "stream": "stdout",
       "text": [
        " ['research scientist', 'Rosemary Foster', False]\n",
        "1220 ['teacher', 'Maria Wenglinsky', ['MiscTeacher', 'Teacher', 'Teacher']]\n",
        "629 ['network administrator', 'Brad Rutter', False]\n",
        "628 ['law student', 'MaryLou Byrne', False]\n",
        "1229 ['physician', 'Jeff Punim', False]\n",
        "1228"
       ]
      },
      {
       "output_type": "stream",
       "stream": "stdout",
       "text": [
        " ['television producer', 'David Braxton', ['27-2012', 'Producers and Directors', 'Television Producer']]\n",
        "6536 ['independent contractor', 'Denise Feder', False]\n",
        "6537 ['law student', 'S. R. Sidarth', False]\n",
        "6534 ['writer', 'Lorraine Stalberg', False]\n",
        "6535"
       ]
      },
      {
       "output_type": "stream",
       "stream": "stdout",
       "text": [
        " ['commercial real estate executive', 'Arthur Gandolfi', False]\n",
        "6532 ['patent attorney', 'Sheryl Silverstein', False]\n",
        "6533 ['assistant director of admissions', \"Chris D'Orso\", False]\n",
        "6530 ['legal assistant', 'John Maloy', ['23-2011', 'Paralegals and Legal Assistants', 'Legal Assistant']]\n",
        "6531 ['facilities manager', 'Cynthia Dvorak', ['11-3011', 'Administrative Services Managers', 'Facilities Manager']]\n",
        "8299"
       ]
      },
      {
       "output_type": "stream",
       "stream": "stdout",
       "text": [
        " ['student', 'Alex Stoy', False]\n",
        "8298 ['pre-K teacher', 'Joan Kossack', ['MiscTeacher', 'Teacher', 'Teacher']]\n",
        "8792 ['marketing consultant and author', 'Tracy Carlson', False]\n",
        "6538 ['playwright', 'Paul Lavrakas', ['27-3043', 'Writers and Authors', 'Playwright']]\n",
        "6539 ['scholarship program coordinator', 'Angie Harrison', False]\n",
        "8793"
       ]
      },
      {
       "output_type": "stream",
       "stream": "stdout",
       "text": [
        " ['wine-cellar rat', 'Bryce Johnson', False]\n",
        "8794 ['client-relations director', 'Maura DeGrande', False]\n",
        "8795 ['tax attorney', 'Scott Claremon', ['23-1011', 'Lawyers', 'Tax Attorney']]\n",
        "8796 ['food media writer', 'Tina Nguyen', False]\n",
        "8797"
       ]
      },
      {
       "output_type": "stream",
       "stream": "stdout",
       "text": [
        " ['customer service representative', 'Carlos Ross', False]\n",
        "3878 ['psychotherapist', 'P.D. Wadler', ['19-3039', 'Psychologists, All Other', 'Psychotherapist']]\n",
        "3879 ['sales coordinator', 'Joe Sosnoff', False]\n",
        "3870 ['administrative assistant', 'Mary Ann Hilterhaus', False]\n",
        "3871 ['teacher', 'Don Stewart', ['MiscTeacher', 'Teacher', 'Teacher']]\n",
        "3872 ['stay-at-home mom', 'Katy Clarke', False]\n",
        "3873"
       ]
      },
      {
       "output_type": "stream",
       "stream": "stdout",
       "text": [
        " ['mail carrier', 'Tony Suffoletta', False]\n",
        "3874 ['law professor', 'Cathy Lanctot', False]\n",
        "3875 ['teacher', 'Brian Lamb', ['MiscTeacher', 'Teacher', 'Teacher']]\n",
        "3876 ['systems analyst', 'Dan Kennedy', False]\n",
        "3877"
       ]
      },
      {
       "output_type": "stream",
       "stream": "stdout",
       "text": [
        " ['housewife and freelance seamstress', 'Tricia Schroyer', False]\n",
        "8479 ['auto body and paint shop owner', 'Maxine Paley', False]\n",
        "8478 ['computer consultant', 'Eric Oberhand', False]\n",
        "8475"
       ]
      },
      {
       "output_type": "stream",
       "stream": "stdout",
       "text": [
        " ['actor and comedian', 'Henry Watkins', False]\n",
        "8474 ['computer programmer', 'Ravi Saxena', ['15-1131', 'Computer Programmers', 'Computer Programmer']]\n",
        "8477 ['fundraising consultant', 'Brent Minor', False]\n",
        "8476 ['flight attendant', 'Maggie Baker', False]\n",
        "8471"
       ]
      },
      {
       "output_type": "stream",
       "stream": "stdout",
       "text": [
        " ['picture researcher', 'Robin Raffer', False]\n",
        "8470 ['structural engineer', 'Eugene Chuang', ['17-2051', 'Civil Engineers', 'Structural Engineer']]\n",
        "8473 ['playwright', 'Sara Fox', ['27-3043', 'Writers and Authors', 'Playwright']]\n",
        "8472 ['program manager', 'Jackson Wheeler', False]\n",
        "7566 ['military analyst', 'Francis Lansangan', False]\n",
        "7567 ['anthropologist', 'Abby Drwecki', ['19-3091', 'Anthropologists and Archeologists', 'Anthropologist']]\n",
        "7564"
       ]
      },
      {
       "output_type": "stream",
       "stream": "stdout",
       "text": [
        " ['professor of education policy', 'Morgan Polikoff', False]\n",
        "7565 ['arts writing university teacher', 'Caroline Wilkins', ['MiscTeacher', 'Teacher', 'Teacher']]\n",
        "7562 ['family law attorney', 'Matt Andelman', False]\n",
        "7563 ['legal editor', 'Mellissa Ahmed', False]\n",
        "7560 ['retired high school math teacher', 'Ellen Lewis', ['MiscTeacher', 'Teacher', 'Teacher']]\n",
        "7561 ['psychology professor', 'Glenn Sullivan', ['25-1066', 'Psychology Teachers, Postsecondary', 'Psychology Professor']]\n",
        "7568"
       ]
      },
      {
       "output_type": "stream",
       "stream": "stdout",
       "text": [
        " ['clothier', 'Peter Jury', False]\n",
        "7569 ['homemaker', 'Katherine Philbin', False]\n",
        "6865 ['trauma center registration secretary', 'Jill Kaiser', False]\n",
        "4167 ['composer and musician', 'Adam Blau', False]\n",
        "4166"
       ]
      },
      {
       "output_type": "stream",
       "stream": "stdout",
       "text": [
        " ['congressional staffer', 'Ann Gavaghan', False]\n",
        "4165 ['part-time video editor', 'Robin Osborn', False]\n",
        "4164 ['energy analyst', 'Keith Myers', False]\n",
        "4163"
       ]
      },
      {
       "output_type": "stream",
       "stream": "stdout",
       "text": [
        " ['network administrator', 'Mike Blumenfeld', False]\n",
        "4162 ['history and biology major', 'Elizabeth Borja', False]\n",
        "4161 ['customer service representative', 'JT Nuckolls', False]\n",
        "4160 ['student', 'Shweta Kumar', False]\n",
        "4169"
       ]
      },
      {
       "output_type": "stream",
       "stream": "stdout",
       "text": [
        " ['computer security consultant', 'Derek Schatz', False]\n",
        "4168 ['travel agent', 'Terri Ross', ['41-3041', 'Travel Agents', 'Travel Agent']]\n",
        "2239 ['computer specialist', 'Andrew Marshall', False]\n",
        "2238 ['librarian', 'Melanie Evans', False]\n",
        "2231"
       ]
      },
      {
       "output_type": "stream",
       "stream": "stdout",
       "text": [
        " ['physician', 'Judy Rudnick', False]\n",
        "2230 ['social studies teacher', 'Cheryl Weiss', ['MiscTeacher', 'Teacher', 'Teacher']]\n",
        "2233 ['homemaker', \"Ronnie O'Rourke\", False]\n",
        "2232 ['reporter', 'Mike Pesca', False]\n",
        "2235 ['investment banker', 'Ben Sternberg', ['41-3031', 'Securities, Commodities, and Financial Services Sales Agents', 'Investment Banker']]\n",
        "2234"
       ]
      },
      {
       "output_type": "stream",
       "stream": "stdout",
       "text": [
        " ['professor of musicology', 'Mitchell Morris', False]\n",
        "2237 ['medical student', 'Trey Morris', False]\n",
        "2236 ['teacher', 'Allison Owens', ['MiscTeacher', 'Teacher', 'Teacher']]\n",
        "5937 ['grad student', 'Aaron Schroeder', False]\n",
        "5936 ['high school math teacher', 'Jim Stevens', ['MiscTeacher', 'Teacher', 'Teacher']]\n",
        "5935"
       ]
      },
      {
       "output_type": "stream",
       "stream": "stdout",
       "text": [
        " ['scientist', 'Donna Vogel', False]\n",
        "5934 ['college student', 'Ben Bishop', False]\n",
        "5933 ['TV writer', 'Lisa Klink', False]\n",
        "5932 ['pastor', 'Dave Simpson', ['21-2011', 'Clergy', 'Pastor']]\n",
        "5931 ['grad student', 'Larissa Kelly', False]\n",
        "5930"
       ]
      },
      {
       "output_type": "stream",
       "stream": "stdout",
       "text": [
        " ['grad student', 'Matt Kohlstedt', False]\n",
        "5939 ['grad student', 'Erik Nelson', False]\n",
        "5938 ['substitute teacher', 'Mark Wales', ['MiscTeacher', 'Teacher', 'Teacher']]\n",
        "4608 ['freshman at Rice University', 'Mitali Banerjee', False]\n",
        "3498"
       ]
      },
      {
       "output_type": "stream",
       "stream": "stdout",
       "text": [
        " ['student', 'Anagha Apte', False]\n",
        "3499 ['country singer', 'Sean Keller', False]\n",
        "3496 ['account manager', 'Mariam Miller', False]\n",
        "3497 ['engineer', 'Mary Llewellyn', False]\n",
        "3494 ['high school teacher', 'Scott Schneider', ['MiscTeacher', 'Teacher', 'Teacher']]\n",
        "3495"
       ]
      },
      {
       "output_type": "stream",
       "stream": "stdout",
       "text": [
        " ['training consultant', 'Linda Eaton', False]\n",
        "3492 ['freelance translator', 'Ella Rich', False]\n",
        "3493 ['systems analyst', 'Noel Steere', False]\n",
        "3490 ['grocer', 'Peter Zuppardo', False]\n",
        "3491"
       ]
      },
      {
       "output_type": "stream",
       "stream": "stdout",
       "text": [
        " ['social worker', 'Gabrielle Donnald', False]\n",
        "2095 ['sophomore at Bradley University', 'Sam Weaver', False]\n",
        "2094 ['senior at UCLA', 'Jayce Newton', False]\n",
        "4572 ['risk manager', 'Courtney Tullar', False]\n",
        "4573"
       ]
      },
      {
       "output_type": "stream",
       "stream": "stdout",
       "text": [
        " ['marketing coordinator', 'Jenny Fielding', False]\n",
        "2091 ['sophomore at Brown University', 'Jaime Green', False]\n",
        "2090"
       ]
      },
      {
       "output_type": "stream",
       "stream": "stdout",
       "text": [
        " ['sophomore at Stanford University', 'Vinita Kailasanath', False]\n",
        "4576 ['criminal justice student', 'Rachael Cianfrani', False]\n",
        "2092 ['sophomore at Harvard University', 'Marques Redd', False]\n",
        "4578"
       ]
      },
      {
       "output_type": "stream",
       "stream": "stdout",
       "text": [
        " ['agricultural researcher', 'Jim Britton', False]\n",
        "4579 ['urban planner', 'Jeremy Ochsenbein', ['19-3051', 'Urban and Regional Planners', 'Urban Planner']]\n",
        "7699 ['high school chemistry and physical science teacher', 'Mary Ann Stanley', ['MiscTeacher', 'Teacher', 'Teacher']]\n",
        "2099 ['sophomore at Saddleback College', 'Brittany Rogers', False]\n",
        "2098 ['sophomore at Florida State University', 'Matt Schnippert', False]\n",
        "8423"
       ]
      },
      {
       "output_type": "stream",
       "stream": "stdout",
       "text": [
        " ['systems engineer', 'Mike Lewis', False]\n",
        "4605 ['junior at the University of Washington', 'Jim Giesen', False]\n",
        "7368 ['stay-at-home mom and substitute teacher', 'Crystal Leonard', ['MiscTeacher', 'Teacher', 'Teacher']]\n",
        "7369 ['economist', 'Lindsey Peterson', ['19-3011', 'Economists', 'Economist']]\n",
        "7360 ['symphony orchestra publicist', 'Maggie Berndt', False]\n",
        "7361"
       ]
      },
      {
       "output_type": "stream",
       "stream": "stdout",
       "text": [
        " ['policy analyst', 'Michael Philpy', False]\n",
        "7362 ['freelance video producer', 'Jericho Saria', False]\n",
        "7363 ['singer and actor', 'Steve Tipton', False]\n",
        "7364 ['textbook editor', 'Nancy Hale', False]\n",
        "7365"
       ]
      },
      {
       "output_type": "stream",
       "stream": "stdout",
       "text": [
        " ['writer', 'Patrick Stubbins', False]\n",
        "7366 ['graduate student of Middle Eastern studies', 'Sam Meyer', ['GradStu', 'Graduate student', 'Graduate student']]\n",
        "7367 ['electronic publishing specialist', 'Joanna Liff', ['43-9031', 'Desktop Publishers', 'Electronic Publishing Specialist']]\n",
        "3 ['appeal and grievance analyst', 'Betsey Casman', False]\n",
        "3332 ['graphic designer', 'Jeff Gregory', ['27-1024', 'Graphic Designers', 'Graphic Designer']]\n",
        "7023 ['graduate student', 'Theo McLauchlin', ['GradStu', 'Graduate student', 'Graduate student']]\n",
        "7022 ['pediatric cardiologist', 'Anjali Chelliah Sawe', False]\n",
        "7021"
       ]
      },
      {
       "output_type": "stream",
       "stream": "stdout",
       "text": [
        " ['country club concierge', 'Sara Wilkinson', False]\n",
        "7020 ['systems analyst', 'Terry Andrews', False]\n",
        "7027 ['recent law school graduate', 'Matt DeTura', False]\n",
        "7026 ['stay-at-home mom', 'Paula Currall', False]\n",
        "7025"
       ]
      },
      {
       "output_type": "stream",
       "stream": "stdout",
       "text": [
        " ['instructor of political science', 'Robert Yowell', False]\n",
        "7024 ['insurance analyst', 'Liz Tracey', ['13-2053', 'Insurance Underwriters', 'Insurance Analyst']]\n",
        "7029 ['actor and TV writer', 'Jon Golbe', False]\n",
        "7028 ['public information officer', 'Stephanie Bethel', False]\n",
        "9009 ['attorney', 'Vinita Kailasanath', ['23-1011', 'Lawyers', 'Attorney']]\n",
        "9008"
       ]
      },
      {
       "output_type": "stream",
       "stream": "stdout",
       "text": [
        " ['global health consultant', 'Dan Pawson', False]\n",
        "3331 ['accounting manager', 'Janet Byrne', False]\n",
        "9012 ['environmental compliance manager', 'Derrick Shivar', False]\n",
        "3330"
       ]
      },
      {
       "output_type": "stream",
       "stream": "stdout",
       "text": [
        " ['financial analyst', 'Chris Stokes', False]\n",
        "7594 ['human resources professional', 'William Casta\\xf1eda', False]\n",
        "9013 ['benefits analyst', 'Annalisa Srivatsan', ['13-1141', 'Compensation, Benefits, and Job Analysis Specialists', 'Benefits Analyst']]\n",
        "7799 ['junior', 'Ben Greenho', False]\n",
        "7798 ['senior', 'Sam Leanza', False]\n",
        "7791"
       ]
      },
      {
       "output_type": "stream",
       "stream": "stdout",
       "text": [
        " ['therapist and academic coach', 'Erika Myers', False]\n",
        "7790 ['newspaper editor', \"Kyrie O'Connor\", False]\n",
        "7793 ['performance artist', 'Lydia Brawner', False]\n",
        "7792 ['arts and culture journalist', 'Jacob Silverman', False]\n",
        "7795"
       ]
      },
      {
       "output_type": "stream",
       "stream": "stdout",
       "text": [
        " ['firefighter', 'Kevin Rowe', False]\n",
        "7794 ['recent law school graduate', 'Ben Pirie', False]\n",
        "7797 ['sophomore', 'Anshika Niraj', False]\n",
        "7796"
       ]
      },
      {
       "output_type": "stream",
       "stream": "stdout",
       "text": [
        " ['retired advertising executive', 'Marla Goldstein', False]\n",
        "1655 ['public relations professional', 'Jack Deschauer', False]\n",
        "1038 ['attorney', 'Willy Jay', ['23-1011', 'Lawyers', 'Attorney']]\n",
        "1039 ['student', 'Catie Camille', False]\n",
        "1032 ['color separator', 'Ken Sarajian', False]\n",
        "1033"
       ]
      },
      {
       "output_type": "stream",
       "stream": "stdout",
       "text": [
        " ['curatorial assistant', 'Mary Beth Smalley', False]\n",
        "1030 ['teacher', 'Sharon Schwartz', ['MiscTeacher', 'Teacher', 'Teacher']]\n",
        "1031 ['accountant', 'Michael Abracham', ['13-2011', 'Accountants and Auditors', 'Accountant']]\n",
        "1036 ['hot dog vendor', 'John Cunningham', False]\n",
        "1037 ['marketer', 'Valerie Williams', False]\n",
        "1034 ['political humorist', 'Bob Harris', False]\n",
        "1035 ['teacher', 'Gabriella Anderson', ['MiscTeacher', 'Teacher', 'Teacher']]\n",
        "4378"
       ]
      },
      {
       "output_type": "stream",
       "stream": "stdout",
       "text": [
        " ['venture capitalist', 'Tate Garrett', False]\n",
        "4379 ['translator', 'Kathleen Victor Wyatt', ['27-3091', 'Interpreters and Translators', 'Translator']]\n",
        "4372 ['paralegal', 'Amanda Folk', ['23-2011', 'Paralegals and Legal Assistants', 'Paralegal']]\n",
        "4373 ['peace officer and firefighter', 'Clif Bailey', False]\n",
        "4370 ['writer and script reader', 'Andrew Rostan', False]\n",
        "4371 ['elementary school teacher', 'Jeff Kirby', ['MiscTeacher', 'Teacher', 'Teacher']]\n",
        "3335"
       ]
      },
      {
       "output_type": "stream",
       "stream": "stdout",
       "text": [
        " ['commercial interior designer', 'Gregory Cameron', False]\n",
        "4377 ['screenwriter', 'Brian Padian', False]\n",
        "4374 ['director of prospect development', 'Catherine Smythe Zajc', False]\n",
        "4375 ['television executive', 'Darlene Lieblich', False]\n",
        "8660"
       ]
      },
      {
       "output_type": "stream",
       "stream": "stdout",
       "text": [
        " ['from California...', 'Tyler Ochoa', False]\n",
        "8661 ['claims authorizer', 'Bettie Nielsen', False]\n",
        "8662 ['engineer', 'Chris Byrne', False]\n",
        "8663 ['advertising writer', 'Joe Myers', False]\n",
        "8664 ['baseball umpire', 'Perry Barber', ['27-2023', 'Umpires, Referees, and Other Sports Officials', 'Baseball Umpire']]\n",
        "8665 ['city planner', 'Jeff Richmond', ['19-3051', 'Urban and Regional Planners', 'City Planner']]\n",
        "8666 ['lawyer', 'Bill Puskas', ['23-1011', 'Lawyers', 'Lawyer']]\n",
        "8667"
       ]
      },
      {
       "output_type": "stream",
       "stream": "stdout",
       "text": [
        " ['data management specialist', 'Archie Parker', False]\n",
        "8668 ['marketing analyst', 'Mike Heberling', ['13-1161', 'Market Research Analysts and Marketing Specialists', 'Marketing Analyst']]\n",
        "8669 ['senior programmer analyst', 'Howard Robinson', False]\n",
        "4080 ['attorney', 'Lynne Larkin', ['23-1011', 'Lawyers', 'Attorney']]\n",
        "4081 ['high school librarian', 'Cheryl Larson', ['25-4021', 'Librarians', 'High School Librarian']]\n",
        "4082 ['track & field coach', 'Mike Becker', False]\n",
        "4083"
       ]
      },
      {
       "output_type": "stream",
       "stream": "stdout",
       "text": [
        " ['real estate & business lawyer', 'Arnie Perlstein', False]\n",
        "4084 ['graduate student', 'Jose Siri', ['GradStu', 'Graduate student', 'Graduate student']]\n",
        "4085 ['computer programmer', 'Sean Lamont', ['15-1131', 'Computer Programmers', 'Computer Programmer']]\n",
        "4086 ['federal employee', 'Amanda Yuzzi', False]\n",
        "4087 ['math consultant', 'Heidi Meyer', False]\n",
        "4088 ['graduate student', 'Ed Friesema', ['GradStu', 'Graduate student', 'Graduate student']]\n",
        "4089 ['schoolteacher', 'Angela Toussaint', ['MiscTeacher', 'Teacher', 'Teacher']]\n",
        "5728 ['sports writer', 'Ben Reiter', False]\n",
        "5729 ['operations manager', 'Andrew Kasson', ['11-1021', 'General and Operations Managers', 'Operations Manager']]\n",
        "5722 ['features editor', 'Scott Shive', False]\n",
        "5723"
       ]
      },
      {
       "output_type": "stream",
       "stream": "stdout",
       "text": [
        " ['legal secretary', 'Shyra Latiolais', False]\n",
        "5720 ['high school assistant principal', 'Ed Rozmiarek', False]\n",
        "5721 ['library assistant', 'Emily Branson', ['43-4121', 'Library Assistants, Clerical', 'Library Assistant']]\n",
        "5726 ['teacher', 'Michael Portnoy', ['MiscTeacher', 'Teacher', 'Teacher']]\n",
        "5727 ['English teacher', 'Rebecca Drinnon', ['MiscTeacher', 'Teacher', 'Teacher']]\n",
        "5724 ['graduate student', 'Brian Gohacki', ['GradStu', 'Graduate student', 'Graduate student']]\n",
        "5725"
       ]
      },
      {
       "output_type": "stream",
       "stream": "stdout",
       "text": [
        " ['attorney and part-time traffic court judge', 'Edith Roberts', False]\n",
        "8084 ['assistant district attorney', 'Tim Norris', False]\n",
        "8085 ['graduate student of paleontology', 'Karen Poole', ['GradStu', 'Graduate student', 'Graduate student']]\n",
        "8086 ['development manager', 'Basia Pioro', False]\n",
        "8087 ['writer', \"Chris O'Toole\", False]\n",
        "8080"
       ]
      },
      {
       "output_type": "stream",
       "stream": "stdout",
       "text": [
        " ['professor and education consultant', 'Todd Federman', False]\n",
        "8081 ['medical student', 'Jason Shore', False]\n",
        "8082 ['information technology consultant', 'Scott Vinick', False]\n",
        "8083 ['medical writer', 'Cara Harley', ['27-3042', 'Technical Writers', 'Medical Writer']]\n",
        "8088 ['graduate student of neuroscience', 'Bryan Shilowich', ['GradStu', 'Graduate student', 'Graduate student']]\n",
        "8089 ['attorney', 'Jennifer North', ['23-1011', 'Lawyers', 'Attorney']]\n",
        "6648 ['teacher', 'Kathy Mansbery', ['MiscTeacher', 'Teacher', 'Teacher']]\n",
        "6649"
       ]
      },
      {
       "output_type": "stream",
       "stream": "stdout",
       "text": [
        " ['grad student and writer', 'James Poulos', False]\n",
        "6644 ['director of human resources', 'Ann Dickie', False]\n",
        "6645 ['legal assistant', 'Anna Tschetter', ['23-2011', 'Paralegals and Legal Assistants', 'Legal Assistant']]\n",
        "6646 ['chemical engineer', 'Rajeev Gorowara', False]\n",
        "6647"
       ]
      },
      {
       "output_type": "stream",
       "stream": "stdout",
       "text": [
        " ['government attorney', 'Todd Kim', False]\n",
        "6640 ['molecular epidemiologist', 'Gila Stadler', False]\n",
        "6641 ['software engineer', 'Diane Haltigan', False]\n",
        "6642 ['television programmer', 'Andrew Fechner', False]\n",
        "6643"
       ]
      },
      {
       "output_type": "stream",
       "stream": "stdout",
       "text": [
        " ['construction worker', 'Michael Berthold', False]\n",
        "7801 ['junior', 'Rose Schaefer', False]\n",
        "7800 ['junior', 'Eliza Scruton', False]\n",
        "7803 ['junior', 'Elyse Mancuso', False]\n",
        "7802 ['sophomore', 'Jeff Haylon', False]\n",
        "7805"
       ]
      },
      {
       "output_type": "stream",
       "stream": "stdout",
       "text": [
        " ['sophomore', 'Krishna Bharathala', False]\n",
        "7804 ['senior', 'Catherine Briley', False]\n",
        "7807 ['senior', 'Caleb Olson', False]\n",
        "7806 ['junior', 'Kevin Yang', False]\n",
        "7809 ['junior', 'Rob Schrader', False]\n",
        "7808"
       ]
      },
      {
       "output_type": "stream",
       "stream": "stdout",
       "text": [
        " ['junior', 'Morgan Flood', False]\n",
        "6398 ['private equity professional', 'Genevieve Sheehan', False]\n",
        "6399 ['high school English teacher', 'Tammy Queen', ['MiscTeacher', 'Teacher', 'Teacher']]\n",
        "6392 ['surf school manager', 'Nicole Labruto', False]\n",
        "6393 ['high school history teacher', 'Stan Brown', ['MiscTeacher', 'Teacher', 'Teacher']]\n",
        "6390"
       ]
      },
      {
       "output_type": "stream",
       "stream": "stdout",
       "text": [
        " ['Ph.D. student in anthropology', 'Noam Osband', False]\n",
        "6391 ['attorney', 'Nirav Shah', ['23-1011', 'Lawyers', 'Attorney']]\n",
        "6396 ['attorney', 'Kevin Shortell', ['23-1011', 'Lawyers', 'Attorney']]\n",
        "6397 ['bookseller', 'Terry Linwood', False]\n",
        "6394 ['education researcher', 'Jennifer Borman', False]\n",
        "6395 ['archivist', 'Mary Margaret Bell', ['25-4011', 'Archivists', 'Archivist']]\n",
        "2396 ['writer', 'Bob Harris', False]\n",
        "2397 ['operations manager', 'Matt Mann', ['11-1021', 'General and Operations Managers', 'Operations Manager']]\n",
        "2394 ['substitute teacher', 'Reda Chambers', ['MiscTeacher', 'Teacher', 'Teacher']]\n",
        "2395"
       ]
      },
      {
       "output_type": "stream",
       "stream": "stdout",
       "text": [
        " ['radiological controls technician', 'Mark Dickerson', False]\n",
        "2392 ['U.S. Army specialist', 'Eugene Manning', False]\n",
        "2393 ['student', 'Brad Jeffcoat', False]\n",
        "2390 ['literacy tutor', 'Matthew Mitchell', False]\n",
        "2391 ['postal clerk', 'Danelle Johnson', ['43-5051', 'Postal Service Clerks', 'Postal Clerk']]\n",
        "2398"
       ]
      },
      {
       "output_type": "stream",
       "stream": "stdout",
       "text": [
        " ['law student', 'Monica Holland', False]\n",
        "2399 ['librarian', 'Bruce Gilbert', False]\n",
        "1858 ['student', 'Holly Owens', False]\n",
        "1859 ['arts administrator', 'Bob Mesko', False]\n",
        "3840 ['bookseller', 'Paula Hyden', False]\n",
        "1850"
       ]
      },
      {
       "output_type": "stream",
       "stream": "stdout",
       "text": [
        " ['box office clerk', 'Rebecca Reis', False]\n",
        "1851 ['high school English teacher', 'Alan Bone', ['MiscTeacher', 'Teacher', 'Teacher']]\n",
        "1852 ['insurance executive', 'Liana Garcia', False]\n",
        "1853 ['consultant', 'Nissan Cohen', False]\n",
        "1854 ['editor', 'Mike Fazioli', False]\n",
        "1855 ['library technician', 'Jeeks Rajagopal', False]\n",
        "1856"
       ]
      },
      {
       "output_type": "stream",
       "stream": "stdout",
       "text": [
        " ['school-to-work coordinator', 'Jayne Stallons', False]\n",
        "1857 ['self-employed businessman', 'Marc Danziger', False]\n",
        "2172 ['telecommunications engineer', 'Rob Mitchell', False]\n",
        "2173 ['physician', 'Priya Bhatia Yerasi', False]\n",
        "2170"
       ]
      },
      {
       "output_type": "stream",
       "stream": "stdout",
       "text": [
        " ['radio traffic manager', 'Tonya Duus', False]\n",
        "2171 ['composer and music professor', 'Don Sloan', False]\n",
        "2176 ['closed captioner', 'Kathy Cassity', False]\n",
        "2177"
       ]
      },
      {
       "output_type": "stream",
       "stream": "stdout",
       "text": [
        " ['certified legal assistant', 'Sharon Wilson', False]\n",
        "2174 ['English professor', 'Ryan McMillen', False]\n",
        "2175 ['trade consultant', 'Marek Karwowski', False]\n",
        "4967 ['mastering technician', 'Heather Vance', False]\n",
        "4966"
       ]
      },
      {
       "output_type": "stream",
       "stream": "stdout",
       "text": [
        " ['ER physician', 'John Owens', False]\n",
        "2178 ['bookstore department manager', 'James Martin', False]\n",
        "2179 ['teaching fellow', 'Christian Carr', ['25-1191', 'Graduate Teaching Assistants', 'Teaching Fellow']]\n",
        "4963 ['professor of art history', 'Sara Orel', False]\n",
        "4962"
       ]
      },
      {
       "output_type": "stream",
       "stream": "stdout",
       "text": [
        " ['student', 'Will Blashka', False]\n",
        "4961 ['protocol systems coordinator', 'Ruth Doucette', False]\n",
        "4960 ['pharmacy student', 'Brandon LaMarr', False]\n",
        "1421"
       ]
      },
      {
       "output_type": "stream",
       "stream": "stdout",
       "text": [
        " ['financial consultant', 'Andy Gefen', False]\n",
        "5694 ['administrator', 'Cathy Flanagan', False]\n",
        "1420 ['writer & consultant', 'Jenna Jackson', False]\n",
        "3846 ['pediatrician', 'Kai-Ning Jan', False]\n",
        "1423 ['physics student', 'Michael Thayer', False]\n",
        "1933 ['attorney', 'Dave Argentar', ['23-1011', 'Lawyers', 'Attorney']]\n",
        "1932"
       ]
      },
      {
       "output_type": "stream",
       "stream": "stdout",
       "text": [
        " ['oncologist', 'Luke Walker', False]\n",
        "1931 ['respiratory therapist', 'Robbi Rogers', ['29-1126', 'Respiratory Therapists', 'Respiratory Therapist']]\n",
        "1930 ['advertising account executive', 'Gail Fouts Bernstein', False]\n",
        "5128 ['personnel manager', 'Paul Thompson', ['11-3121', 'Human Resources Managers', 'Personnel Manager']]\n",
        "5129 ['Senior Tournament winner', 'Aaron Klein', False]\n",
        "1935"
       ]
      },
      {
       "output_type": "stream",
       "stream": "stdout",
       "text": [
        " ['student', 'Eric Newhouse', False]\n",
        "1934 ['librarian', 'Devon Thomas', False]\n",
        "5124 ['environmental consultant', 'Caitlin Dudek', False]\n",
        "3268 ['English teacher', 'Chris Ratto', ['MiscTeacher', 'Teacher', 'Teacher']]\n",
        "1939 ['restaurant manager', 'Bob Collins', False]\n",
        "1938"
       ]
      },
      {
       "output_type": "stream",
       "stream": "stdout",
       "text": [
        " ['retired quality engineer and manager', 'Stephanie Smith', False]\n",
        "5120 ['composer', 'Randall Eng', ['27-2041', 'Music Directors and Composers', 'Composer']]\n",
        "5121 ['administrative assistant', 'Gail Sneyers', False]\n",
        "5122 ['graduate student and actor', 'Holden Toplin', ['GradStu', 'Graduate student', 'Graduate student']]\n",
        "5123 ['religion teacher', 'Tim Mueting', ['MiscTeacher', 'Teacher', 'Teacher']]\n",
        "7944 ['homicide detective', 'Mike McStravick', ['33-3021', 'Detectives and Criminal Investigators', 'Homicide Detective']]\n",
        "1427 ['graduate student', 'Jude Theriot', ['GradStu', 'Graduate student', 'Graduate student']]\n",
        "7945 ['accountant', 'Liz Frost', ['13-2011', 'Accountants and Auditors', 'Accountant']]\n",
        "1426 ['school board member', 'Jeff Horton', False]\n",
        "7946 ['attorney', 'Kate Mosesso', ['23-1011', 'Lawyers', 'Attorney']]\n",
        "1429 ['musician', 'Craig Smith', ['27-2042', 'Musicians and Singers', 'Musician']]\n",
        "7947"
       ]
      },
      {
       "output_type": "stream",
       "stream": "stdout",
       "text": [
        " ['journalist and author', 'Andy Baggarly', False]\n",
        "1428 ['translation coordinator', 'Stephanie Lutz', False]\n",
        "7940 ['winner of 5 Golden Globes and 7 Emmy Awards for acting', 'Ed Asner', False]\n",
        "3366 ['former teacher', 'Peter Sze', ['MiscTeacher', 'Teacher', 'Teacher']]\n",
        "7941 ['graduate student', 'Elijah Siegler', ['GradStu', 'Graduate student', 'Graduate student']]\n",
        "3367"
       ]
      },
      {
       "output_type": "stream",
       "stream": "stdout",
       "text": [
        " ['public relations director', 'Gail Polzin', ['11-2031', 'Public Relations and Fundraising Managers', 'Public Relations Director']]\n",
        "7230 ['lawyer for a nonprofit', 'Cecilia Boudreau', False]\n",
        "7943 ['medical malpractice attorney', 'Shelly Green', False]\n",
        "6886 ['graduate student of physics', 'Chris Vermilion', ['GradStu', 'Graduate student', 'Graduate student']]\n",
        "6887 ['biochemist', 'Joey Genereux', ['19-1021', 'Biochemists and Biophysicists', 'Biochemist']]\n",
        "6884"
       ]
      },
      {
       "output_type": "stream",
       "stream": "stdout",
       "text": [
        " ['assistant federal public defender', 'Eric Rau', False]\n",
        "6885 ['archivist', 'Autumn Haag', ['25-4011', 'Archivists', 'Archivist']]\n",
        "6882 ['nonprofit policy researcher', 'Jon Zerolnick', False]\n",
        "6883 ['high school history teacher', 'Terrill Wilkins', ['MiscTeacher', 'Teacher', 'Teacher']]\n",
        "6880 ['realtor', 'Peggy Enright', False]\n",
        "6881 ['graduate student of psychology', 'Katherine Thompson', ['GradStu', 'Graduate student', 'Graduate student']]\n",
        "6888 ['Canadian program executive', 'Sharyle Doherty', False]\n",
        "6889"
       ]
      },
      {
       "output_type": "stream",
       "stream": "stdout",
       "text": [
        " ['bookseller and trivia host', 'Grant Colvin', False]\n",
        "8269 ['resort manager', 'Julie Bobick', False]\n",
        "605 ['copy editor', 'Jesse Lewis', ['27-3041', 'Editors', 'Copy Editor']]\n",
        "604 ['language teacher', 'Louis Cohen', ['MiscTeacher', 'Teacher', 'Teacher']]\n",
        "607 ['foreign service officer', 'Andy Miller', False]\n",
        "606"
       ]
      },
      {
       "output_type": "stream",
       "stream": "stdout",
       "text": [
        " ['vice president of network management', 'Elena McFann', False]\n",
        "1209 ['actor and improviser', 'Joey Bland', False]\n",
        "1208 ['account manager', 'Jennifer Furlong', False]\n",
        "603 ['homemaker and Ph.D. candidate', 'Margaret Shufeldt', False]\n",
        "602"
       ]
      },
      {
       "output_type": "stream",
       "stream": "stdout",
       "text": [
        " ['stay-at-home mom', 'Abby Knight', False]\n",
        "1205 ['history teacher', 'Jeff Pandin', ['MiscTeacher', 'Teacher', 'Teacher']]\n",
        "1204 ['teacher', 'Susan Klak', ['MiscTeacher', 'Teacher', 'Teacher']]\n",
        "1207 ['scientist', 'David Bowen', False]\n",
        "1206 ['library aide', 'Leigh Tomaszewski', ['43-4121', 'Library Assistants, Clerical', 'Library Aide']]\n",
        "1201 ['loan consultant', 'Chris Jones', False]\n",
        "1200 ['pastor', 'Diane Mettam', ['21-2011', 'Clergy', 'Pastor']]\n",
        "1203 ['art student', 'Robert Galvin', False]\n",
        "1202 ['graduate student', 'Michael Marion', ['GradStu', 'Graduate student', 'Graduate student']]\n",
        "8106 ['chief technology officer', 'Joe Emison', ['11-3021', 'Computer and Information Systems Managers', 'Chief Technology Officer']]\n",
        "8279"
       ]
      },
      {
       "output_type": "stream",
       "stream": "stdout",
       "text": [
        " ['travel writer', 'Ana Wagner-Hoffman', False]\n",
        "8278 ['teacher', 'Diana Ashbrook', ['MiscTeacher', 'Teacher', 'Teacher']]\n",
        "8277 ['substitute teacher', 'Rachel Liptak', ['MiscTeacher', 'Teacher', 'Teacher']]\n",
        "8101 ['computer chip designer', 'Alistair Bell', False]\n",
        "8275 ['professional volunteer', 'Abby Fisher', False]\n",
        "8274 ['lawyer', 'Steve Rininger', ['23-1011', 'Lawyers', 'Lawyer']]\n",
        "8273 ['word processing teacher', 'Ray Ivey', ['MiscTeacher', 'Teacher', 'Teacher']]\n",
        "8272 ['librarian', 'Elaine Hyla', False]\n",
        "8271 ['substitute English and speech teacher', 'David Rice', ['MiscTeacher', 'Teacher', 'Teacher']]\n",
        "8100"
       ]
      },
      {
       "output_type": "stream",
       "stream": "stdout",
       "text": [
        " ['attorney for a legal nonprofit', 'Saidi Chen', False]\n",
        "1353 ['junior', 'Alex Rubalcava', False]\n",
        "1352 ['English professor', 'Chris Borglum', False]\n",
        "1351 ['mom and assistant editor', 'Beth Klein', False]\n",
        "1350"
       ]
      },
      {
       "output_type": "stream",
       "stream": "stdout",
       "text": [
        " [\"children's encyclopedia editor\", 'Elaine Henderson', False]\n",
        "1357 ['manager', 'Rich Way', False]\n",
        "1356 ['college professor', 'Bryn Upton', False]\n",
        "8419 ['account manager', 'Cecily Squier', False]\n",
        "8418 ['attorney', 'Scott Singer', ['23-1011', 'Lawyers', 'Attorney']]\n",
        "1355 ['junior', 'Josh Den Hartog', False]\n",
        "8413"
       ]
      },
      {
       "output_type": "stream",
       "stream": "stdout",
       "text": [
        " ['junior', 'David Javerbaum', False]\n",
        "8412 ['bookseller and writer', 'Robyn Nelson', False]\n",
        "8411 ['web designer', 'Paul Curcio', ['15-1134', 'Web Developers', 'Web Designer']]\n",
        "1354 ['senior', \"Tanis O'Connor\", False]\n",
        "8417 ['graduate student of political science', 'Nate Mull', ['GradStu', 'Graduate student', 'Graduate student']]\n",
        "8416 ['veterinary technician student', 'Rachel Eastwood', False]\n",
        "8265"
       ]
      },
      {
       "output_type": "stream",
       "stream": "stdout",
       "text": [
        " ['non-profit program coordinator', 'Lars Medley', False]\n",
        "8414 ['senior', 'David Graham', False]\n",
        "7588 ['writer and actor', 'Rich Beimer', False]\n",
        "7589 ['waitress', 'Patty Meagher', False]\n",
        "7584 ['bank examiner', 'Logan Schultz', ['13-2061', 'Financial Examiners', 'Bank Examiner']]\n",
        "7585"
       ]
      },
      {
       "output_type": "stream",
       "stream": "stdout",
       "text": [
        " ['grad student and tutor', 'Brendan Barnwell', False]\n",
        "7586 ['university chaplain', 'Scott Russell', False]\n",
        "7587 ['attorney', 'Julia Kozicki', ['23-1011', 'Lawyers', 'Attorney']]\n",
        "7580 ['stock trader', 'Jan Zasowski', ['41-3031', 'Securities, Commodities, and Financial Services Sales Agents', 'Stock Trader']]\n",
        "7581 ['education program director', 'Suzanne Judson-Whitehouse', False]\n",
        "7582"
       ]
      },
      {
       "output_type": "stream",
       "stream": "stdout",
       "text": [
        " ['postdoctoral research associate', 'Bhibha Das', False]\n",
        "7583 ['law student', 'Gillian DiPietro', False]\n",
        "6950 ['history student', 'James Richardson', False]\n",
        "6951 ['copyright attorney', 'J.D. Lowry', False]\n",
        "6952"
       ]
      },
      {
       "output_type": "stream",
       "stream": "stdout",
       "text": [
        " ['museum collections manager', 'Alyssa Morgan', False]\n",
        "6953 ['public defender', 'Brian Aronson', ['23-1011', 'Lawyers', 'Public Defender']]\n",
        "4149 ['window cleaner', 'Dave Henek', ['37-2011', 'Janitors and Cleaners, Except Maids and Housekeeping Cleaners', 'Window Cleaner']]\n",
        "4148 ['minister and police chaplain', 'Kim Murphy', False]\n",
        "4145 ['technical writer and aerobics instructor', 'Lucy Prentiss', False]\n",
        "4144 ['graduate student of history', 'Wilson York', ['GradStu', 'Graduate student', 'Graduate student']]\n",
        "4147"
       ]
      },
      {
       "output_type": "stream",
       "stream": "stdout",
       "text": [
        " ['network administrator', 'Brian Goss', False]\n",
        "4146 ['franchise owner', 'Bob Lahr', False]\n",
        "4141 ['account manager', 'Greg Lau', False]\n",
        "4140 ['project manager', 'Lori Callan', False]\n",
        "4143 ['cost accountant', \"Rob O'Carroll\", ['13-2011', 'Accountants and Auditors', 'Cost Accountant']]\n",
        "4142"
       ]
      },
      {
       "output_type": "stream",
       "stream": "stdout",
       "text": [
        " ['student', 'Alissa Morel', False]\n",
        "3856 ['executive assistant', 'Sam Thompson', ['43-6011', 'Executive Secretaries and Executive Administrative Assistants', 'Executive Assistant']]\n",
        "3857 ['attorney', 'Bonnie Humphrey', ['23-1011', 'Lawyers', 'Attorney']]\n",
        "3854 ['law school student', 'Margaret Garnett', False]\n",
        "3855 ['shipping supervisor and college student', 'Kevin Perry', False]\n",
        "3852"
       ]
      },
      {
       "output_type": "stream",
       "stream": "stdout",
       "text": [
        " ['customer service representative', 'Alice Dutton', False]\n",
        "3853 ['retail consultant', 'Jack Gray', False]\n",
        "3850 ['teacher', 'Susan Otto', ['MiscTeacher', 'Teacher', 'Teacher']]\n",
        "3851 ['musician and songwriter', 'Drew Reid', False]\n",
        "992 ['law school graduate', 'Gretchen Radtke', False]\n",
        "6957"
       ]
      },
      {
       "output_type": "stream",
       "stream": "stdout",
       "text": [
        " ['laboratory manager', 'John Tranquill', False]\n",
        "3858 ['import specialist', 'Dave Dye', False]\n",
        "3859 ['statistician', 'Kate Ricci', ['15-2041', 'Statisticians', 'Statistician']]\n",
        "5919 ['retired computer programmer', 'Inta Antler', False]\n",
        "5918 ['Presbyterian pastor', 'Clay Brown', False]\n",
        "5915 ['lawyer', 'Tim McMahon', ['23-1011', 'Lawyers', 'Lawyer']]\n",
        "5914"
       ]
      },
      {
       "output_type": "stream",
       "stream": "stdout",
       "text": [
        " ['senior at Texas A&M University', 'Kyle Hale', False]\n",
        "5917 ['mother and homemaker', 'Sara Harold', False]\n",
        "5916 ['graduate student', 'Noah Sheola', ['GradStu', 'Graduate student', 'Graduate student']]\n",
        "5911 ['junior at Washington University at St. Louis', 'Arianna Haut', False]\n",
        "5910"
       ]
      },
      {
       "output_type": "stream",
       "stream": "stdout",
       "text": [
        " ['freshman at the Ohio State University', 'Mark Kehres', False]\n",
        "5913 ['senior at the University of Arizona', 'Jenny Hauser', False]\n",
        "5912 ['sophomore at Temple University', 'Tony Sina', False]\n",
        "4558"
       ]
      },
      {
       "output_type": "stream",
       "stream": "stdout",
       "text": [
        " ['news assistant', 'Heather Chapman', False]\n",
        "4559 ['college instructor', 'Jason Thweatt', False]\n",
        "4556 ['stay-at-home mom', 'Katy Halpern', False]\n",
        "4557 ['printing consultant', 'Martin Truong', False]\n",
        "4554 ['electrical engineer', 'Keith Morris', ['17-2071', 'Electrical Engineers', 'Electrical Engineer']]\n",
        "4555"
       ]
      },
      {
       "output_type": "stream",
       "stream": "stdout",
       "text": [
        " ['owner of a tutoring and test-prep business', 'Chris Falcinelli', False]\n",
        "4552 ['writer and a journalist', 'Steve Lawson', False]\n",
        "4553 ['teacher', 'Lauren Frieman', ['MiscTeacher', 'Teacher', 'Teacher']]\n",
        "4550 ['registered nurse', 'Jean Reynolds', ['29-1141', 'Registered Nurses', 'Registered Nurse']]\n",
        "4551 ['video technician', 'Susan Fox-Davis', False]\n",
        "8865"
       ]
      },
      {
       "output_type": "stream",
       "stream": "stdout",
       "text": [
        " ['web and social media editor', 'Emily Gadek', False]\n",
        "8582 ['freelance writer', 'Bill Blum', False]\n",
        "6077 ['actress', 'Alyssa Milano', ['27-2011', 'Actors', 'Actress']]\n",
        "6076 ['English teacher and stay-at-home mom', 'Anna Bingley', ['MiscTeacher', 'Teacher', 'Teacher']]\n",
        "6075 ['writer/editor', 'Theresa Conlon', False]\n",
        "6074 ['foreign service officer', 'John Mariz', False]\n",
        "6073"
       ]
      },
      {
       "output_type": "stream",
       "stream": "stdout",
       "text": [
        " ['affordable housing analyst', 'Robert Kennedy', False]\n",
        "6072 ['minister and defensive end', 'Reggie White', False]\n",
        "6071 ['model and actress', \"Donna D'Errico\", False]\n",
        "6070 ['catcher', 'Mike Piazza', False]\n",
        "6079 ['actress', 'Kari Wuhrer', ['27-2011', 'Actors', 'Actress']]\n",
        "6078"
       ]
      },
      {
       "output_type": "stream",
       "stream": "stdout",
       "text": [
        " ['actor', 'Gil Bellows', False]\n",
        "2617 ['line cook', 'Jay Pierce', ['35-2014', 'Cooks, Restaurant', 'Line Cook']]\n",
        "2616 ['graduate student', 'Scott Wetzel', ['GradStu', 'Graduate student', 'Graduate student']]\n",
        "2615 ['software engineer', 'Mark Eckard', False]\n",
        "2614 ['legal assistant', 'Wendy Zarganis', ['23-2011', 'Paralegals and Legal Assistants', 'Legal Assistant']]\n",
        "2613 ['attorney', 'Jack Gilbert', ['23-1011', 'Lawyers', 'Attorney']]\n",
        "2612 ['nurse practicioner', 'Jean Robertson', False]\n",
        "2611"
       ]
      },
      {
       "output_type": "stream",
       "stream": "stdout",
       "text": [
        " ['toy engineer', 'Tom Duff', False]\n",
        "2610 ['freelance editor', 'Kathy Bubbeo', False]\n",
        "2619 ['aerospace engineer', 'David Dietz', ['17-2011', 'Aerospace Engineers', 'Aerospace Engineer']]\n",
        "2618 ['computer software salesperson', 'Nancy Fisher', False]\n",
        "7346 ['business administration teacher', 'Joseph Tambornino', ['MiscTeacher', 'Teacher', 'Teacher']]\n",
        "7347 ['mom', 'Cindy Clark', False]\n",
        "7344"
       ]
      },
      {
       "output_type": "stream",
       "stream": "stdout",
       "text": [
        " ['middle school secretary', 'Tracey Davidson', False]\n",
        "7345 ['webmaster', 'Adam Kapp', False]\n",
        "7342 ['attorney for a nonprofit', 'Beverly Jones', False]\n",
        "7343 ['deli clerk', 'Matt Neville', ['35-2021', 'Food Preparation Workers', 'Deli Clerk']]\n",
        "7340 ['newspaper editor', 'Flora Peir', False]\n",
        "7341"
       ]
      },
      {
       "output_type": "stream",
       "stream": "stdout",
       "text": [
        " ['county tax clerk', 'Gary Rosche', False]\n",
        "7348 ['fund raiser for a non-profit', 'Gay Haubner', False]\n",
        "7349 ['program analyst', 'Tom Brown', False]\n",
        "1186 ['part-time lawyer', 'Debby Herzberg Loomis', False]\n",
        "1187"
       ]
      },
      {
       "output_type": "stream",
       "stream": "stdout",
       "text": [
        " ['waiter', 'Bob Johnson', False]\n",
        "7009 ['audiologist', 'Kristen Schroeder', ['29-1181', 'Audiologists', 'Audiologist']]\n",
        "7008 ['university administrator', 'James Brown', ['11-9033', 'Education Administrators, Postsecondary', 'University Administrator']]\n",
        "9029 ['newspaper publisher & editor', 'Jane Gilman', False]\n",
        "9028 ['college professor', 'Norton Moses', False]\n",
        "7001 ['legal assistant', 'Claire Bea', ['23-2011', 'Paralegals and Legal Assistants', 'Legal Assistant']]\n",
        "7000 ['mom and graduate student', 'Molly Zeigler', ['GradStu', 'Graduate student', 'Graduate student']]\n",
        "7003"
       ]
      },
      {
       "output_type": "stream",
       "stream": "stdout",
       "text": [
        " ['MBA student', 'Tegan Brown', False]\n",
        "7002 ['triathlon coach  and entrepreneur', 'Mark McDonnell', False]\n",
        "7005 ['Ph.D. candidate in Greek literature', 'Emily Jusino', False]\n",
        "7004"
       ]
      },
      {
       "output_type": "stream",
       "stream": "stdout",
       "text": [
        " ['assistant pool league operator', 'Adam Podber', False]\n",
        "7007 ['ombudsman', 'Lois Petzold', ['23-1022', 'Arbitrators, Mediators, and Conciliators', 'Ombudsman']]\n",
        "7006 ['environmental scientist', 'Don Meals', ['19-2041', 'Environmental Scientists and Specialists, Including Health', 'Environmental Scientist']]\n",
        "1184 ['communications consultant', \"Steve O'Connor\", False]\n",
        "740 ['newswriter and editor', 'Alba Caraceni', False]\n",
        "741 ['school cafeteria worker', 'Rande Jandel', False]\n",
        "742"
       ]
      },
      {
       "output_type": "stream",
       "stream": "stdout",
       "text": [
        " ['mom', 'Julie Meister', False]\n",
        "743 ['budget director', 'Sherri Newhouse', False]\n",
        "744 ['law student', 'Jake Maeroff', False]\n",
        "745 ['teacher', 'Ted Brown', ['MiscTeacher', 'Teacher', 'Teacher']]\n",
        "746 ['college professor', 'Pat Gaynor', False]\n",
        "747"
       ]
      },
      {
       "output_type": "stream",
       "stream": "stdout",
       "text": [
        " ['data processor', 'Tony Hess', False]\n",
        "748 ['translator and auditor', 'Linda Nalitz', False]\n",
        "749 ['freelance journalist', 'Drew Blakeman', False]\n",
        "1185 ['sixth grade teacher', 'Donna Christie', ['MiscTeacher', 'Teacher', 'Teacher']]\n",
        "2949 ['programmer', 'R.J. Lesch', False]\n",
        "2948"
       ]
      },
      {
       "output_type": "stream",
       "stream": "stdout",
       "text": [
        " ['pediatrics resident', 'Dave Simon', False]\n",
        "2947 ['computer network engineer', 'Patricia Leeb-Hart', ['15-1143', 'Computer Network Architects', 'Computer Network Engineer']]\n",
        "2946 ['graduate student', 'Kristen Olson', ['GradStu', 'Graduate student', 'Graduate student']]\n",
        "2945 ['senior programmer and professor', 'Mitch Murov', False]\n",
        "2944 ['community newspaper editor', 'Anne Scott', False]\n",
        "2943"
       ]
      },
      {
       "output_type": "stream",
       "stream": "stdout",
       "text": [
        " ['engineer', 'Sam Mink', False]\n",
        "2942 ['high school teacher', 'Doug Rodgers', ['MiscTeacher', 'Teacher', 'Teacher']]\n",
        "2941 ['actor', 'Jason McCune', False]\n",
        "2940 ['project manager', 'Susan McCormick', False]\n",
        "1050 ['legal text editor', 'Myles Rossi', False]\n",
        "1051 ['writer', 'Ardwight Chamberlain', False]\n",
        "5355"
       ]
      },
      {
       "output_type": "stream",
       "stream": "stdout",
       "text": [
        " ['ammunitions instructor', 'Kerry Kelly', False]\n",
        "1053 ['production assistant', 'Eric Rosen', False]\n",
        "5353 ['freelance writer', 'Leigh Barrett', False]\n",
        "5352 ['brand strategist', 'Jay Porter', False]\n",
        "5351"
       ]
      },
      {
       "output_type": "stream",
       "stream": "stdout",
       "text": [
        " ['material scientist', 'Kevin Rugg', False]\n",
        "5350 ['high school English teacher', 'Jenn Hilley', ['MiscTeacher', 'Teacher', 'Teacher']]\n",
        "1058 ['CPA and financial officer', 'Joel Goldberg', False]\n",
        "1059 ['musician', 'Victoria Groce', ['27-2042', 'Musicians and Singers', 'Musician']]\n",
        "5359 ['teacher', 'Joe Nardella', ['MiscTeacher', 'Teacher', 'Teacher']]\n",
        "5358 ['IT director', 'Carlo Uchello', False]\n",
        "4310 ['11-year-old', 'Zach Safford', False]\n",
        "4311"
       ]
      },
      {
       "output_type": "stream",
       "stream": "stdout",
       "text": [
        " ['12-year-old', 'Cassie Hill', False]\n",
        "4312 ['12-year-old', 'Nate Austin', False]\n",
        "4313 ['graduate student', 'Spencer Willis', ['GradStu', 'Graduate student', 'Graduate student']]\n",
        "4314 ['career counselor', 'Arline West', ['21-1012', 'Educational, Guidance, School, and Vocational Counselors', 'Career Counselor']]\n",
        "4315 ['housewife, mother, and substitute teacher', 'Pat Kennedy', ['MiscTeacher', 'Teacher', 'Teacher']]\n",
        "4316 ['benefits coordinator', 'Kathleen Lohmann', False]\n",
        "4317 ['Air Force officer', 'Kevin Hullihan', False]\n",
        "4318"
       ]
      },
      {
       "output_type": "stream",
       "stream": "stdout",
       "text": [
        " ['stay-at-home mom', 'Linda Ulery', False]\n",
        "4319 ['truck driver', 'Bill Tomber', False]\n",
        "1180 ['office clerk', 'Dominic Owen-Williams', ['43-9061', 'Office Clerks, General', 'Office Clerk']]\n",
        "3119 ['attorney', 'John West', ['23-1011', 'Lawyers', 'Attorney']]\n",
        "3118 ['actor and musician', 'Erin McGrew Herndon', False]\n",
        "3117"
       ]
      },
      {
       "output_type": "stream",
       "stream": "stdout",
       "text": [
        " ['planning analyst', 'Shelley Hagan', False]\n",
        "3116 ['project coordinator', 'Jim Baer', False]\n",
        "3115 ['attorney', 'Neil Thom', ['23-1011', 'Lawyers', 'Attorney']]\n",
        "3114 ['public relations and marketing manager', 'Dane Petersen', False]\n",
        "3113 ['senior', 'Graham Gilmer', False]\n",
        "3112"
       ]
      },
      {
       "output_type": "stream",
       "stream": "stdout",
       "text": [
        " ['senior', 'Andy Siegler', False]\n",
        "3111 ['junior', 'Amanda Trujillo', False]\n",
        "3110 ['junior', 'Tom Hartmann', False]\n",
        "8648 ['originally', 'George Roche', False]\n",
        "8649 ['diet book author', 'Midge Elias', False]\n",
        "8646"
       ]
      },
      {
       "output_type": "stream",
       "stream": "stdout",
       "text": [
        " ['public defender', 'Garrett Simpson', ['23-1011', 'Lawyers', 'Public Defender']]\n",
        "8647 ['writer and actor', 'Frank Dwyer', False]\n",
        "8644 ['computer systems administrator', 'Gloria Sarver', False]\n",
        "8645 ['metaphysical bookstore clerk', 'Sherry Schwabacher', False]\n",
        "8642"
       ]
      },
      {
       "output_type": "stream",
       "stream": "stdout",
       "text": [
        " ['telecommunications policy analyst', 'Cathy Boggs', False]\n",
        "8643 ['graduate student', 'Melinda Finberg', ['GradStu', 'Graduate student', 'Graduate student']]\n",
        "8640 ['university professor', 'Alina Lopo', False]\n",
        "8641 ['attorney', 'Steve Schneider', ['23-1011', 'Lawyers', 'Attorney']]\n",
        "1181 ['underwriter', 'Dan Iacobazzi', False]\n",
        "5740 ['registered nurse', 'Kathleen Ellis', ['29-1141', 'Registered Nurses', 'Registered Nurse']]\n",
        "5741"
       ]
      },
      {
       "output_type": "stream",
       "stream": "stdout",
       "text": [
        " ['video game user testing manager', 'Boyd Morrison', False]\n",
        "5742 ['instructional designer', 'Diane Eads', False]\n",
        "5743 ['librarian', 'Sarah Mauldin', False]\n",
        "5744 ['actor', 'Jonathan Moore', False]\n",
        "5745"
       ]
      },
      {
       "output_type": "stream",
       "stream": "stdout",
       "text": [
        " ['law student and former Navy SEAL', 'Phil Chapman', False]\n",
        "5746 ['postal clerk', 'Maggie Linzer', ['43-5051', 'Postal Service Clerks', 'Postal Clerk']]\n",
        "5747 ['attorney', 'Mark Epstein', ['23-1011', 'Lawyers', 'Attorney']]\n",
        "5748 ['access services and systems librarian', 'Karen Wood', False]\n",
        "5749 ['manager for an executive search firm', 'Charles Rosenthal', False]\n",
        "5267"
       ]
      },
      {
       "output_type": "stream",
       "stream": "stdout",
       "text": [
        " ['marketing and design associate', 'Todd Powers', False]\n",
        "5266 ['editor and writer', 'Bob Vavra', False]\n",
        "1702 ['writer', 'Gerald McClanahan', False]\n",
        "5264 ['freelance writer and editor', 'Kim Crawford', False]\n",
        "5263 ['security officer', 'Phillip Steele', ['33-9032', 'Security Guards', 'Security Officer']]\n",
        "5262"
       ]
      },
      {
       "output_type": "stream",
       "stream": "stdout",
       "text": [
        " ['university admissions officer', 'Cody Hartley', False]\n",
        "5261 ['art librarian', 'Sarah Legins', False]\n",
        "5260 ['business consultant', 'Brad Vogelbach', ['13-1111', 'Management Analysts', 'Business Consultant']]\n",
        "2136 ['attorney', 'Sandy Andina', ['23-1011', 'Lawyers', 'Attorney']]\n",
        "2137 ['computer specialist', 'Pete Brunner', False]\n",
        "6668 ['freshman', 'James Hill III', False]\n",
        "6669"
       ]
      },
      {
       "output_type": "stream",
       "stream": "stdout",
       "text": [
        " ['freshman', 'Robbie Berg', False]\n",
        "6662 ['senior', 'Will Warren', False]\n",
        "6663 ['senior', 'Ashley Walker', False]\n",
        "6660 ['sophomore', 'Ryan Stoffers', False]\n",
        "6661 ['sophomore', 'Lyndsey Romick', False]\n",
        "6666 ['homemaker', 'Debra Dondrea Galant', False]\n",
        "6667"
       ]
      },
      {
       "output_type": "stream",
       "stream": "stdout",
       "text": [
        " ['freshman', 'Rebecca Maxfield', False]\n",
        "6664 ['junior', 'Samira Missaghi', False]\n",
        "6665 ['government attorney', 'Jack Rosenzweig', False]\n",
        "7 ['college professor', 'Adam Meyer', False]\n",
        "2134 ['healthcare consultant', 'Tony Mahler', False]\n",
        "2135"
       ]
      },
      {
       "output_type": "stream",
       "stream": "stdout",
       "text": [
        " ['librarian', 'Amanda Ross-White', False]\n",
        "2378 ['engineer', 'Jeff Beckel', False]\n",
        "2379 ['television producer', 'Jeremy Cohen', ['27-2012', 'Producers and Directors', 'Television Producer']]\n",
        "2374 ['human resources consultant', 'Dawn Jameson', False]\n",
        "2375 ['institutional researcher', 'Rebecca Mathews', False]\n",
        "2376"
       ]
      },
      {
       "output_type": "stream",
       "stream": "stdout",
       "text": [
        " ['analyst for the federal government', 'Christopher Glenn', False]\n",
        "2377 ['history teacher', 'Caroline Lampert', ['MiscTeacher', 'Teacher', 'Teacher']]\n",
        "2370 ['writer', 'Mala Bhattacharjee', False]\n",
        "2371 ['grad student', 'Celeste DiNucci', False]\n",
        "2372 ['customer service representative', 'Jim Mainguy', False]\n",
        "2373 ['advertising executive', 'David Bell', ['11-2011', 'Advertising and Promotions Managers', 'Advertising Executive']]\n",
        "1876"
       ]
      },
      {
       "output_type": "stream",
       "stream": "stdout",
       "text": [
        " ['Ph.D. candidate', 'Don Wright', False]\n",
        "1877 ['graduate student', 'Phil Ray', ['GradStu', 'Graduate student', 'Graduate student']]\n",
        "1874 ['dealer service representative', 'Sarah Mulloy', False]\n",
        "1875 ['journalist', 'Julie Rovner', False]\n",
        "1872 ['environmental geologist', 'Megan Wood', ['19-2042', 'Geoscientists, Except Hydrologists and Geographers', 'Environmental Geologist']]\n",
        "1873 ['former probation officer and mom', \"Kristine O'Connell-McCoy\", False]\n",
        "1870"
       ]
      },
      {
       "output_type": "stream",
       "stream": "stdout",
       "text": [
        " ['writer and professor', 'Doug Dorst', False]\n",
        "1871 ['teacher', 'John Zorn', ['MiscTeacher', 'Teacher', 'Teacher']]\n",
        "2133 ['English professor', 'Sioux Stoeckle', False]\n",
        "1878 ['appliance technician', 'Gary Tish', False]\n",
        "1879 ['writer', 'Georgia Routsis Savas', False]\n",
        "4945 ['sophomore', 'Miguel Dickson', False]\n",
        "4944"
       ]
      },
      {
       "output_type": "stream",
       "stream": "stdout",
       "text": [
        " ['junior', 'Kristi Jones', False]\n",
        "4947 ['senior', 'Jack Challis', False]\n",
        "4946 ['senior', 'Brittan Heller', False]\n",
        "4941 ['junior', 'Chacko George', False]\n",
        "4940 ['senior', 'Brian Polk', False]\n",
        "4943 ['sophomore', 'Adam Trabka', False]\n",
        "4942"
       ]
      },
      {
       "output_type": "stream",
       "stream": "stdout",
       "text": [
        " ['sophomore', 'Chrissy Ijams', False]\n",
        "4949 ['senior', 'Brian Golden', False]\n",
        "4948 ['junior', 'Elizabeth Norton', False]\n",
        "2118 ['environmental compliance specialist', 'Pete Heinricher', False]\n",
        "2119"
       ]
      },
      {
       "output_type": "stream",
       "stream": "stdout",
       "text": [
        " ['managing editor', 'Karl Coryat', False]\n",
        "6041 ['science and French teacher', 'Cynthia Reedy', ['MiscTeacher', 'Teacher', 'Teacher']]\n",
        "2130 ['graduate student', 'Prabal Chakrabarti', ['GradStu', 'Graduate student', 'Graduate student']]\n",
        "2110 ['family literacy program manager', 'Danielle Kolker', False]\n",
        "2111 ['student', 'Maggie Parcells', False]\n",
        "2112 ['public health official', \"Doug O'Brien\", False]\n",
        "2113 ['web developer', 'Darren Davis', ['15-1134', 'Web Developers', 'Web Developer']]\n",
        "2114 ['teacher', 'Laura Rhodes', ['MiscTeacher', 'Teacher', 'Teacher']]\n",
        "2115 ['bartender', 'Josh Kennedy', ['35-3011', 'Bartenders', 'Bartender']]\n",
        "2116"
       ]
      },
      {
       "output_type": "stream",
       "stream": "stdout",
       "text": [
        " ['construction worker', 'Gerald Bergen', False]\n",
        "2117 ['communications specialist', 'Stacy Lammers', False]\n",
        "1919 ['law student', 'Erik Andersen', False]\n",
        "1918 ['communications center director', 'Martha Thomas', False]\n",
        "5108"
       ]
      },
      {
       "output_type": "stream",
       "stream": "stdout",
       "text": [
        " ['English department chairperson', 'Joan Gardiner', False]\n",
        "5109 ['teacher', 'Tom Pusateri', ['MiscTeacher', 'Teacher', 'Teacher']]\n",
        "3289 ['medical clerk', 'Harold Brown', False]\n",
        "3288 ['criminal records supervisor', 'Beth Carroll', False]\n",
        "5102 ['columnist and author', 'Arianna Huffington', False]\n",
        "5103"
       ]
      },
      {
       "output_type": "stream",
       "stream": "stdout",
       "text": [
        " ['reporter', 'Wolf Blitzer', False]\n",
        "1913 ['database programmer', 'Fred Schultz', False]\n",
        "5101 ['screenwriter and director', 'Oliver Stone', False]\n",
        "5106 ['radio talk show host', 'Oliver North', False]\n",
        "3282"
       ]
      },
      {
       "output_type": "stream",
       "stream": "stdout",
       "text": [
        " ['stay-at-home mom', 'Becky De Jesus', False]\n",
        "3281 ['foreign services officer', 'Val Adamcyk', False]\n",
        "5105 ['foreign affairs correspondent', 'Andrea Mitchell', False]\n",
        "883 ['college student', 'Sam Keen', False]\n",
        "882 ['graduate student', 'Suzanne Fatta', ['GradStu', 'Graduate student', 'Graduate student']]\n",
        "881 ['high school English teacher', 'Juliet Chase', ['MiscTeacher', 'Teacher', 'Teacher']]\n",
        "880"
       ]
      },
      {
       "output_type": "stream",
       "stream": "stdout",
       "text": [
        " ['performer', 'Leigh Cordner', False]\n",
        "887 ['attorney', 'Ellen Mandell', ['23-1011', 'Lawyers', 'Attorney']]\n",
        "886 ['geologist', 'Jim Mehl', ['19-2042', 'Geoscientists, Except Hydrologists and Geographers', 'Geologist']]\n",
        "885 ['composer', 'Todd Tarantino', ['27-2041', 'Music Directors and Composers', 'Composer']]\n",
        "884 ['educator and mother', 'Becky Molina', False]\n",
        "889 ['office manager', 'Jessica Schreader', False]\n",
        "888 ['real estate broker', 'Bill Sloan', ['41-9021', 'Real Estate Brokers', 'Real Estate Broker']]\n",
        "5245"
       ]
      },
      {
       "output_type": "stream",
       "stream": "stdout",
       "text": [
        " ['arts administrator', 'Ian Buckwalter', False]\n",
        "7504 ['educational media specialist', 'Linda Kissling', False]\n",
        "7505 ['law clerk', 'Paul Voiron', False]\n",
        "7506 ['health researcher', 'Ellen Kurek', False]\n",
        "7507"
       ]
      },
      {
       "output_type": "stream",
       "stream": "stdout",
       "text": [
        " ['executive', 'Lucia Fitzgerald', False]\n",
        "7500 ['writer', 'Adam Perrotta', False]\n",
        "5244 ['director of international business development', 'Matthew Temple', False]\n",
        "8766"
       ]
      },
      {
       "output_type": "stream",
       "stream": "stdout",
       "text": [
        " ['project manager', 'Adam Johnston', False]\n",
        "7501 ['financial consultant', 'Bret Jacobs', False]\n",
        "7502 ['police dispatcher', 'George Holloway', ['43-5031', 'Police, Fire, and Ambulance Dispatchers', 'Police Dispatcher']]\n",
        "7503"
       ]
      },
      {
       "output_type": "stream",
       "stream": "stdout",
       "text": [
        " ['program analyst', 'Sheryl Stein', False]\n",
        "6868 ['school of pharmacy librarian', 'Kyle Hutchinson', False]\n",
        "6869 ['grad student in molecular and cell biology', 'Ilana Cohen', False]\n",
        "6864"
       ]
      },
      {
       "output_type": "stream",
       "stream": "stdout",
       "text": [
        " ['teaching artist at a museum', 'Peter Hall', False]\n",
        "5247 ['secretarial school teacher', 'Elin Gaynor', ['MiscTeacher', 'Teacher', 'Teacher']]\n",
        "6866 ['senior systems analyst', 'Bernie McGorrey', False]\n",
        "6867 ['assistant professor of mathematics', 'Dan Katz', False]\n",
        "6860"
       ]
      },
      {
       "output_type": "stream",
       "stream": "stdout",
       "text": [
        " ['stay-at-home mom', 'Felicia Ko', False]\n",
        "6861 ['Ph.D. candidate in English literature', 'Joshua Weiss', False]\n",
        "6862 ['library media specialist', 'Becky Henderson', ['25-9011', 'Audio-Visual and Multimedia Collections Specialists', 'Library Media Specialist']]\n",
        "6863"
       ]
      },
      {
       "output_type": "stream",
       "stream": "stdout",
       "text": [
        " ['insurance claims examiner', 'Jessica Freeman', False]\n",
        "8255 ['anesthesiologist', 'Marc Goldberg', ['29-1061', 'Anesthesiologists', 'Anesthesiologist']]\n",
        "8254 ['teacher', 'David Kaiser', ['MiscTeacher', 'Teacher', 'Teacher']]\n",
        "1269 ['grad student and substitute teacher', 'Dee Weber', ['MiscTeacher', 'Teacher', 'Teacher']]\n",
        "1268 ['attorney', 'Jon Woodman', ['23-1011', 'Lawyers', 'Attorney']]\n",
        "8251 ['background investigator', 'David Czapka', False]\n",
        "8250 ['teacher', 'Kathy Hall', ['MiscTeacher', 'Teacher', 'Teacher']]\n",
        "669 ['doctoral student', 'Kirk Ditzler', False]\n",
        "668"
       ]
      },
      {
       "output_type": "stream",
       "stream": "stdout",
       "text": [
        " ['actor and copy editor', 'India Cooper', False]\n",
        "1263 ['attorney', 'Marina Matuzek', ['23-1011', 'Lawyers', 'Attorney']]\n",
        "1262 ['computer consultant', 'Tom Meenan', False]\n",
        "1261 ['physician', 'Irv Kaplan', False]\n",
        "1260 ['writer', 'Lucy Shigemitsu', False]\n",
        "1267"
       ]
      },
      {
       "output_type": "stream",
       "stream": "stdout",
       "text": [
        " ['veterinarian', \"Amy O'Brien\", False]\n",
        "1266 ['college student', 'Chris Sroka', False]\n",
        "1265 ['journalist', 'Charlie Patton', False]\n",
        "1264 ['attorney', 'Barbara Jackson', ['23-1011', 'Lawyers', 'Attorney']]\n",
        "1911"
       ]
      },
      {
       "output_type": "stream",
       "stream": "stdout",
       "text": [
        " ['computer support technician', 'Gina Diamante', False]\n",
        "8789 ['law student', 'Shanna Lafferty', False]\n",
        "8788 ['substitute teacher', 'John Kyle Grady', ['MiscTeacher', 'Teacher', 'Teacher']]\n",
        "1910 ['attorney', 'Alan Cates', ['23-1011', 'Lawyers', 'Attorney']]\n",
        "8783 ['chemistry and forsenics teacher', 'Cathy Bloedorn', ['MiscTeacher', 'Teacher', 'Teacher']]\n",
        "8782 ['teacher', 'Timothy Shuker-Haines', ['MiscTeacher', 'Teacher', 'Teacher']]\n",
        "8781 ['English and Language Arts teacher', 'Michael Townes', ['MiscTeacher', 'Teacher', 'Teacher']]\n",
        "8780 ['social studies teacher', 'Becky Giardina', ['MiscTeacher', 'Teacher', 'Teacher']]\n",
        "8787 ['social worker', 'Mike Nickel', False]\n",
        "3285 ['corrections officer', 'Pat Tortorello', False]\n",
        "8785"
       ]
      },
      {
       "output_type": "stream",
       "stream": "stdout",
       "text": [
        " ['medical student', 'Johnna Mahoney', False]\n",
        "8784 ['theater manager', 'James Kosmatka', False]\n",
        "3284 ['student', 'Cathy Nieng', False]\n",
        "7618 ['travel specialist', 'Sara Plant', False]\n",
        "7619 ['graduate student of aerospace engineering', 'Jack McClintock', ['GradStu', 'Graduate student', 'Graduate student']]\n",
        "7614"
       ]
      },
      {
       "output_type": "stream",
       "stream": "stdout",
       "text": [
        " ['legal software consultant', 'Drew Tompkins', False]\n",
        "3283 ['mortgage banker', 'Judy Anderson', False]\n",
        "7616 ['medical student', 'Niall Prendergast', False]\n",
        "7617"
       ]
      },
      {
       "output_type": "stream",
       "stream": "stdout",
       "text": [
        " ['stay-at-home mom', 'Erin Arlow', False]\n",
        "7610 ['nursing tutor', 'Karen Hedlund', False]\n",
        "7611 ['chef', 'Derek Schuld', False]\n",
        "7612 ['assistant to the principal', 'Kathleen Schultz', False]\n",
        "5107 ['graduate student', \"Carolyn D'Aquila\", ['GradStu', 'Graduate student', 'Graduate student']]\n",
        "421 ['undergraduate student', 'Jake Martin', ['GradStu', 'Graduate student', 'Graduate student']]\n",
        "1917"
       ]
      },
      {
       "output_type": "stream",
       "stream": "stdout",
       "text": [
        " ['foreign policy analyst', 'Mark Lowenthal', False]\n",
        "3280 ['Air Force officer', 'Dom Ochotorena', False]\n",
        "8431 ['M.B.A. student', 'Sam Hopkins', False]\n",
        "8430 ['college English teacher', 'Chris O. Cook', ['MiscTeacher', 'Teacher', 'Teacher']]\n",
        "8433 ['strategic analyst', 'Katrina Whitehead', False]\n",
        "8432"
       ]
      },
      {
       "output_type": "stream",
       "stream": "stdout",
       "text": [
        " ['recruiter', 'Meena Puffer', False]\n",
        "8435 ['structural engineer', 'Kirk Nelson', ['17-2051', 'Civil Engineers', 'Structural Engineer']]\n",
        "8434 ['property manager', 'Les Chun', ['11-9141', 'Property, Real Estate, and Community Association Managers', 'Property Manager']]\n",
        "8437 ['customer-service representative', 'J Tarter-Fox', False]\n",
        "8436 ['science writer', 'Benjamin Recchie', False]\n",
        "8439 ['operations manager', 'David Moore', ['11-1021', 'General and Operations Managers', 'Operations Manager']]\n",
        "8438 ['high school librarian', 'Patti Duplaga', ['25-4021', 'Librarians', 'High School Librarian']]\n",
        "8737"
       ]
      },
      {
       "output_type": "stream",
       "stream": "stdout",
       "text": [
        " ['construction foreman', 'Nolan Martch', False]\n",
        "6124 ['environmental chemist', 'Bob Sutton', False]\n",
        "8516 ['project assistant', 'Sonrisa Cooper', False]\n",
        "8517 ['economist', 'Nishant Menon', ['19-3011', 'Economists', 'Economist']]\n",
        "8514 ['attorney', 'Susan Blum', ['23-1011', 'Lawyers', 'Attorney']]\n",
        "8515 ['engineer', 'Steve Bowie', False]\n",
        "8512"
       ]
      },
      {
       "output_type": "stream",
       "stream": "stdout",
       "text": [
        " ['former criminal defense attorney', 'Laura Amundson', False]\n",
        "8513 ['advertising consultant', 'Alan Lefkowitz', False]\n",
        "4129 ['software consultant', 'Cecelia Raxter', False]\n",
        "4128"
       ]
      },
      {
       "output_type": "stream",
       "stream": "stdout",
       "text": [
        " ['sales clerk', 'Bryan Marcus', False]\n",
        "8510 ['graduate student', 'Michael Daunt', ['GradStu', 'Graduate student', 'Graduate student']]\n",
        "4123 ['technical writer', 'Andrew Burke', ['27-3042', 'Technical Writers', 'Technical Writer']]\n",
        "4122 ['contracting manager', 'Haley Thomas', ['11-3061', 'Purchasing Managers', 'Contracting Manager']]\n",
        "4121 ['quality manager', 'Melissa Gaul', False]\n",
        "4120 ['attorney', 'Tony Burrell', ['23-1011', 'Lawyers', 'Attorney']]\n",
        "4127 ['attorney', 'Donna Malcomb', ['23-1011', 'Lawyers', 'Attorney']]\n",
        "4126 ['customer service supervisor', 'Scott Hanson', False]\n",
        "4125 ['actress', 'Sara Winterer', ['27-2011', 'Actors', 'Actress']]\n",
        "4124"
       ]
      },
      {
       "output_type": "stream",
       "stream": "stdout",
       "text": [
        " ['environmental engineer', 'Ron Josephson', ['17-2081', 'Environmental Engineers', 'Environmental Engineer']]\n",
        "5689 ['attorney', 'Helene Glass', ['23-1011', 'Lawyers', 'Attorney']]\n",
        "5688 ['Ph.D. student', 'Sam Johnston', False]\n",
        "5685 ['graduate student', 'Kristin Schleicher', ['GradStu', 'Graduate student', 'Graduate student']]\n",
        "5684 ['ESL teacher', 'Diane Hyra', ['MiscTeacher', 'Teacher', 'Teacher']]\n",
        "5687 ['bar owner', 'Chet Perry', False]\n",
        "5686 ['math teacher', 'Jim Stevens', ['MiscTeacher', 'Teacher', 'Teacher']]\n",
        "5681 ['administrative assistant', 'Tom Inskeep', False]\n",
        "5680"
       ]
      },
      {
       "output_type": "stream",
       "stream": "stdout",
       "text": [
        " ['director of assessment & accountability', 'Barb Juengling', False]\n",
        "5683 ['personal assistant', 'Daniel Ogorzalek', False]\n",
        "5682 ['musician', 'Gay Chun', ['27-2042', 'Musicians and Singers', 'Musician']]\n",
        "8760 ['enrollment consultant', 'Ramsin Toma', False]\n",
        "5979 ['French professor', 'Colette Windish', ['25-1124', 'Foreign Language and Literature Teachers, Postsecondary', 'French Professor']]\n",
        "5978"
       ]
      },
      {
       "output_type": "stream",
       "stream": "stdout",
       "text": [
        " ['research engineer', 'Joe Pieper', False]\n",
        "5973 ['international development manager', 'Marc Sacks', False]\n",
        "5972 ['editor', 'Regan Hofmann', False]\n",
        "5971 ['IT evaluator', 'Nancy Gow', False]\n",
        "5970 ['prosecutor', \"Michael O'Malley\", ['23-1011', 'Lawyers', 'Prosecutor']]\n",
        "5977"
       ]
      },
      {
       "output_type": "stream",
       "stream": "stdout",
       "text": [
        " ['costumer and mom', 'Monica Butler', False]\n",
        "5976 ['newspaper editor', 'John Blanton', False]\n",
        "5975 ['customer service representative', 'Kevin Joyce', False]\n",
        "5974"
       ]
      },
      {
       "output_type": "stream",
       "stream": "stdout",
       "text": [
        " ['law student', 'Anjali Bonner', False]\n",
        "2587 ['from Clifton Heights, Pennsylvania...', 'Bobby Millison', False]\n",
        "2586 ['from Parsippany, New Jersey...', 'Emily Sturtz', False]\n",
        "2585"
       ]
      },
      {
       "output_type": "stream",
       "stream": "stdout",
       "text": [
        " ['from Brooklyn, New York...', 'Dianisbeth Acquie', False]\n",
        "2584 ['from Winnetka, Illinois...', 'Tommy Hoyt', False]\n",
        "2583 ['from Overland Park, Kansas...', 'Emily Love', False]\n",
        "2582"
       ]
      },
      {
       "output_type": "stream",
       "stream": "stdout",
       "text": [
        " ['retired geologist', 'Lynn Schuetter', False]\n",
        "2581 ['teacher and brewer', 'Jason Scull', ['MiscTeacher', 'Teacher', 'Teacher']]\n",
        "2580 ['senior', 'Meghan Arnold', False]\n",
        "2589 ['from Poway, California...', 'Michela Rodriguez', False]\n",
        "2588"
       ]
      },
      {
       "output_type": "stream",
       "stream": "stdout",
       "text": [
        " ['from Summerville, South Carolina...', 'Mallory Banks', False]\n",
        "6059 ['actor', 'Patrick Duffy', False]\n",
        "6058 ['homemaker', 'Stacie Carvill Webb', False]\n",
        "6055 ['radio personality', 'Robin Quivers', False]\n",
        "6054 ['weatherman', 'Mark McEwen', ['19-2021', 'Atmospheric and Space Scientists', 'Weatherman']]\n",
        "6057"
       ]
      },
      {
       "output_type": "stream",
       "stream": "stdout",
       "text": [
        " ['law student', 'Chris Couvelier', False]\n",
        "286 ['consultant', 'Michael Galvin', False]\n",
        "6051 ['grad student', 'Sarah Howison', False]\n",
        "6050 ['retired airline agent', 'Deborah Charles', False]\n",
        "6053 ['graduate student', 'Katy Karlin', ['GradStu', 'Graduate student', 'Graduate student']]\n",
        "6052 ['substitute teacher', 'Charles Swanson', ['MiscTeacher', 'Teacher', 'Teacher']]\n",
        "2639"
       ]
      },
      {
       "output_type": "stream",
       "stream": "stdout",
       "text": [
        " ['technical support specialist', 'Steve Fried', False]\n",
        "2638 ['medical student', 'Helen Petroff', False]\n",
        "2635 ['library assistant', 'Danny Loss', ['43-4121', 'Library Assistants, Clerical', 'Library Assistant']]\n",
        "2634 ['writer', 'Jeremy Bate', False]\n",
        "2637 ['high school student', 'Chacko George', False]\n",
        "2636 ['marketing director', 'Joe Leibrandt', ['11-2021', 'Marketing Managers', 'Marketing Director']]\n",
        "2631"
       ]
      },
      {
       "output_type": "stream",
       "stream": "stdout",
       "text": [
        " ['information security manager', 'Bret Rosson', False]\n",
        "2630 ['writer', 'Sharon Wing', False]\n",
        "2633 ['network administrator', 'Mike Blumenfeld', False]\n",
        "2632 ['college junior', 'Melissa Sexstone', False]\n",
        "9049 ['retired teacher', 'Mary Twellman', ['MiscTeacher', 'Teacher', 'Teacher']]\n",
        "9048"
       ]
      },
      {
       "output_type": "stream",
       "stream": "stdout",
       "text": [
        " ['firefighter', 'Nick Lemek', False]\n",
        "9043 ['recruiter', 'Aimee Seligstein', False]\n",
        "9042 ['veterinary technician', 'Hilary Gaughen', False]\n",
        "9041"
       ]
      },
      {
       "output_type": "stream",
       "stream": "stdout",
       "text": [
        " ['I.T. consultant', 'Zia Jones', False]\n",
        "9040 ['distribution associate', 'Brad Wright', False]\n",
        "9047 ['journalism professor', 'Bob Kochersberger', ['25-1122', 'Communications Teachers, Postsecondary', 'Journalism Professor']]\n",
        "9046 ['lawyer', 'Sarah Shody', ['23-1011', 'Lawyers', 'Lawyer']]\n",
        "9045 ['geophysicist', 'James Behrens', ['19-2042', 'Geoscientists, Except Hydrologists and Geographers', 'Geophysicist']]\n",
        "9044 ['writer', 'Grace Riley', False]\n",
        "3544"
       ]
      },
      {
       "output_type": "stream",
       "stream": "stdout",
       "text": [
        " ['MBA student', 'Brad Haag', False]\n",
        "3545 ['freelance editor', 'Sarah Bruce', False]\n",
        "3546 ['elections and voter registration clerk', 'Amanda Froning', False]\n",
        "3547"
       ]
      },
      {
       "output_type": "stream",
       "stream": "stdout",
       "text": [
        " ['professor', 'Rob Faunce', False]\n",
        "3540 ['pastor', 'Scott Hatton', ['21-2011', 'Clergy', 'Pastor']]\n",
        "3541 ['junior at Eleanor McMain Magnet High School', 'Curt King', False]\n",
        "3542"
       ]
      },
      {
       "output_type": "stream",
       "stream": "stdout",
       "text": [
        " ['senior at Fletcher Senior High School', 'Dawn Marie Nolan', False]\n",
        "3543 ['senior at Tustin High School', 'Paul Egendorf', False]\n",
        "3548 ['airline pilot', 'Ted Dudley', ['53-2011', 'Airline Pilots, Copilots, and Flight Engineers', 'Airline Pilot']]\n",
        "3549 ['oncology dietitian', 'Sue Saunders', False]\n",
        "2965"
       ]
      },
      {
       "output_type": "stream",
       "stream": "stdout",
       "text": [
        " ['sophomore', 'Brigid Laurie', False]\n",
        "2964 ['junior', 'James Tong', False]\n",
        "2967 ['sophomore', 'Leslie Campisi', False]\n",
        "2966 ['sophomore', 'Bill McKinley', False]\n",
        "2961 ['English professor', 'Jennifer Fremlin', False]\n",
        "2960"
       ]
      },
      {
       "output_type": "stream",
       "stream": "stdout",
       "text": [
        " ['photographer', 'Karen Evans', False]\n",
        "2963 ['junior', 'Aaron Wenger', False]\n",
        "2962 ['actor', 'Dileep Rao', False]\n",
        "762 ['locomotive engineer', 'Frank Stanonik', False]\n",
        "763 ['attorney', 'Kerry Tymchuk', ['23-1011', 'Lawyers', 'Attorney']]\n",
        "760 ['attorney', 'Cherie Christopher', ['23-1011', 'Lawyers', 'Attorney']]\n",
        "761 ['teacher', 'Martin Euritt', ['MiscTeacher', 'Teacher', 'Teacher']]\n",
        "2969"
       ]
      },
      {
       "output_type": "stream",
       "stream": "stdout",
       "text": [
        " ['journalist', 'Jody Callahan', False]\n",
        "2968 ['senior', 'Oliver Baptiste', False]\n",
        "764 ['Teen Tournament winner', 'Amanda Goad', False]\n",
        "765 ['college instructor', 'Bill Dickenson', False]\n",
        "5379 ['photographer', 'Sarah Jane Woodall', False]\n",
        "5378"
       ]
      },
      {
       "output_type": "stream",
       "stream": "stdout",
       "text": [
        " ['sophomore', 'Curtis Joseph', False]\n",
        "1078 ['radio host', 'Melissa Ingells', ['27-3011', 'Radio and Television Announcers', 'Radio Host']]\n",
        "1079 ['graduate student', 'Monica Vidrio', ['GradStu', 'Graduate student', 'Graduate student']]\n",
        "5375 ['sophomore', 'Allex Fambles', False]\n",
        "5374 ['Ph.D. student', 'Yoni Freund', False]\n",
        "5377 ['junior', 'Kendra Pettis', False]\n",
        "1075 ['student', 'Andrew Segal', False]\n",
        "5371"
       ]
      },
      {
       "output_type": "stream",
       "stream": "stdout",
       "text": [
        " ['senior', 'Melanie Bruchet', False]\n",
        "5370 ['senior', 'Max Johansen', False]\n",
        "5373 ['originally', 'Joel Serna', False]\n",
        "1071 ['history teacher', 'Jim George', ['MiscTeacher', 'Teacher', 'Teacher']]\n",
        "5583 ['certified dog trainer', 'Barbara Long', False]\n",
        "4338 ['comptroller', 'Sharon Glickman', ['11-3031', 'Financial Managers', 'Comptroller']]\n",
        "4339 ['psychiatrist', 'Serge Botsaris', ['29-1066', 'Psychiatrists', 'Psychiatrist']]\n",
        "4336"
       ]
      },
      {
       "output_type": "stream",
       "stream": "stdout",
       "text": [
        " ['technical supervisor', 'Ryan Gravilla', False]\n",
        "4337 ['information systems manager', 'Maureen Yeager', ['11-3021', 'Computer and Information Systems Managers', 'Information Systems Manager']]\n",
        "4334 ['computer help desk manager', 'Tracy Burrell', False]\n",
        "4335 ['sign language interpreter', 'Karen Golojuch', False]\n",
        "4332"
       ]
      },
      {
       "output_type": "stream",
       "stream": "stdout",
       "text": [
        " ['software engineer', 'Laura Sternberg', False]\n",
        "4333 ['astronomer', 'Dave Adler', ['19-2011', 'Astronomers', 'Astronomer']]\n",
        "4330 ['microbiologist', 'Dan McNamee', False]\n",
        "4331 ['teaching assistant', 'Robert Guzzo', False]\n",
        "3135 ['attorney', 'Tony Burrell', ['23-1011', 'Lawyers', 'Attorney']]\n",
        "1623 ['communications coordinator', 'Faith Dawson', False]\n",
        "3137"
       ]
      },
      {
       "output_type": "stream",
       "stream": "stdout",
       "text": [
        " ['stay-at-home mom', 'Jean Maguire', False]\n",
        "3136 ['computer security consultant', 'Jeremy Rasmussen', False]\n",
        "3131 ['college counselor', 'Ann Kruger', False]\n",
        "3130 ['librarian', 'John Overholt', False]\n",
        "3133"
       ]
      },
      {
       "output_type": "stream",
       "stream": "stdout",
       "text": [
        " ['health insurance supervisor', 'Missy Montemayor', False]\n",
        "3132 ['lawyer', 'Jeremy Horowitz', ['23-1011', 'Lawyers', 'Lawyer']]\n",
        "3139 ['product manager', 'Josh Hornik', False]\n",
        "3138 ['college student', 'Clinton Wieden', False]\n",
        "5183 ['puzzle editor', 'Lisa Flehinger', False]\n",
        "5180"
       ]
      },
      {
       "output_type": "stream",
       "stream": "stdout",
       "text": [
        " ['from Olney, Illinois...', 'Leatrice Potter', False]\n",
        "5768 ['graduate student', 'Matt Kohlstedt', ['GradStu', 'Graduate student', 'Graduate student']]\n",
        "5769 ['marketing consultant', 'Lori Karman', ['13-1161', 'Market Research Analysts and Marketing Specialists', 'Marketing Consultant']]\n",
        "5766 ['federal contractor', 'Priscilla Ball', False]\n",
        "5767 ['grad student', 'Fayaz Kabani', False]\n",
        "5764"
       ]
      },
      {
       "output_type": "stream",
       "stream": "stdout",
       "text": [
        " ['non-profit director', 'Bill Menezes', False]\n",
        "5765 ['bookseller', 'Meagan Grote', False]\n",
        "5762 ['pediatrician', 'Judy Rowen', False]\n",
        "5763 ['college instructor', 'Greg Jones', False]\n",
        "5760 ['actor', 'John Mahoney', False]\n",
        "5761"
       ]
      },
      {
       "output_type": "stream",
       "stream": "stdout",
       "text": [
        " ['coloratura soprano', 'Beverly Sills', False]\n",
        "5181 ['from Egg Harbor Township, New Jersey...', 'Okey Chikezie', False]\n",
        "8192 ['retail horticulturalist', 'David Gard', False]\n",
        "8193"
       ]
      },
      {
       "output_type": "stream",
       "stream": "stdout",
       "text": [
        " ['psychology student', 'Monica Thieu', False]\n",
        "5186 ['from Newtown, Pennsylvania...', 'Robin Kutner', False]\n",
        "8190 ['teacher', 'Florence Cohen', ['MiscTeacher', 'Teacher', 'Teacher']]\n",
        "8191 ['writer', 'Susan Sackett', False]\n",
        "2256 ['systems analyst', 'Brett McGlasson', False]\n",
        "8196"
       ]
      },
      {
       "output_type": "stream",
       "stream": "stdout",
       "text": [
        " ['strategic analyst for NASA', 'Kristin Morgan', False]\n",
        "8197 ['research chemist', 'Keith Whitener', False]\n",
        "8194 ['tutor', 'Jason Keller', ['25-3099', 'Teachers and Instructors, All Other', 'Tutor']]\n",
        "1626 ['tax accountant', 'Mike Jordan', ['13-2011', 'Accountants and Auditors', 'Tax Accountant']]\n",
        "8195 ['bartender', 'Dan McShane', ['35-3011', 'Bartenders', 'Bartender']]\n",
        "75 ['managing copy editor', 'Jeff Matthews', False]\n",
        "7427"
       ]
      },
      {
       "output_type": "stream",
       "stream": "stdout",
       "text": [
        " ['twelve-year-old', 'Emma Couture', False]\n",
        "7426 ['eleven-year-old', 'Brooke Martin', False]\n",
        "7425 ['twelve-year-old', 'Neil Patel', False]\n",
        "74 ['engineer', 'Mary Carpenter', False]\n",
        "7423"
       ]
      },
      {
       "output_type": "stream",
       "stream": "stdout",
       "text": [
        " ['twelve-year-old', 'B.D. Schwarz', False]\n",
        "7422 ['twelve-year-old', 'Andrew Zazzera', False]\n",
        "7421 ['twelve-year-old', 'Rahul Francis', False]\n",
        "7420 ['twelve-year-old', 'Dillon McCormick', False]\n",
        "2250"
       ]
      },
      {
       "output_type": "stream",
       "stream": "stdout",
       "text": [
        " ['from <i>7th Heaven</i>...', 'Stephen Collins', False]\n",
        "7429 ['twelve-year-old', 'Maddie Harrington', False]\n",
        "7428 ['twelve-year-old', 'Dominic Olivera', False]\n",
        "6600 ['dog rescuer', 'Lysette Tidwell', False]\n",
        "6601"
       ]
      },
      {
       "output_type": "stream",
       "stream": "stdout",
       "text": [
        " ['architect', 'Carter Edman', False]\n",
        "6602 ['real estate developer', 'Mike Weaver', False]\n",
        "6603 ['homemaker', 'Laura Simandl', False]\n",
        "6604 ['pathologist', 'Brian Chang', ['29-1069', 'Physicians and Surgeons, All Other', 'Pathologist']]\n",
        "6605"
       ]
      },
      {
       "output_type": "stream",
       "stream": "stdout",
       "text": [
        " ['immigration attorney', 'Andrea Saenz', False]\n",
        "6606 ['educational music director', 'Susan Poliniak', False]\n",
        "6607 ['professional poker player', 'Vaughn Sandman', ['27-2099', 'Entertainers and Performers, Sports and Related Workers, All Other', 'Professional Poker Player']]\n",
        "6608 ['film critic', 'Alonso Duralde', ['27-3022', 'Reporters and Correspondents', 'Film Critic']]\n",
        "6609 ['outreach specialist', 'Mariann Cook Andrews', False]\n",
        "5185"
       ]
      },
      {
       "output_type": "stream",
       "stream": "stdout",
       "text": [
        " ['from New York, New York...', 'Guy Tabachnick', False]\n",
        "79 ['homemaker', 'Lori Ann Tennant', False]\n",
        "78 ['businessman and attorney', 'Bob Joseph', False]\n",
        "1043"
       ]
      },
      {
       "output_type": "stream",
       "stream": "stdout",
       "text": [
        " ['construction manager', 'Jennifer Buermann', False]\n",
        "4570 ['college instructor', 'Angela Ruediger', False]\n",
        "1042 ['graduate student', 'Matthew Luter', ['GradStu', 'Graduate student', 'Graduate student']]\n",
        "5360 ['graduate student', 'Karen Thomas', ['GradStu', 'Graduate student', 'Graduate student']]\n",
        "5361 ['family doctor', 'Laura Novak', False]\n",
        "5366 [\"children's librarian\", 'Cindy Schilling', ['25-4021', 'Librarians', \"Children's Librarian\"]]\n",
        "5367 ['high school math teacher', 'Tom Witek', ['MiscTeacher', 'Teacher', 'Teacher']]\n",
        "4571 ['sports radio salesman', 'Ryan Kelley', False]\n",
        "5364"
       ]
      },
      {
       "output_type": "stream",
       "stream": "stdout",
       "text": [
        " ['college English professor', 'Daniel Scott', False]\n",
        "5365 ['magazine editor', 'Daphne Matalene', False]\n",
        "2358 ['medical research assistant', 'Ann Rupel', False]\n",
        "2359 ['physicist', 'Matt Mullins', False]\n",
        "2352 ['biology graduate student', 'Bernie Cullen', ['GradStu', 'Graduate student', 'Graduate student']]\n",
        "2353"
       ]
      },
      {
       "output_type": "stream",
       "stream": "stdout",
       "text": [
        " ['police officer', \"Jim O'Leary\", False]\n",
        "2350 ['legal secretary', 'Susan Gianetto', False]\n",
        "2351 ['development director', 'Marv McIntyre', False]\n",
        "2356 ['teacher', 'Jennifer Laam', ['MiscTeacher', 'Teacher', 'Teacher']]\n",
        "1049 ['research scientist', 'Michael Shirts', False]\n",
        "2354"
       ]
      },
      {
       "output_type": "stream",
       "stream": "stdout",
       "text": [
        " ['freelance writer', 'Kirstin Olsen', False]\n",
        "2355 ['actor', 'Scott Ahearn', False]\n",
        "5369 ['law student', 'Rick Faulkner', False]\n",
        "1898 ['minister', 'Ellen Di Giosia', ['21-2011', 'Clergy', 'Minister']]\n",
        "1899 ['lab technician', 'Matt Bozulich', False]\n",
        "3739"
       ]
      },
      {
       "output_type": "stream",
       "stream": "stdout",
       "text": [
        " ['electronic publishing associate', 'Justin Cober-Lake', False]\n",
        "3738 ['teacher', 'Sue Heitzman', ['MiscTeacher', 'Teacher', 'Teacher']]\n",
        "3737 ['third grade teacher', 'Donna Oltman', ['MiscTeacher', 'Teacher', 'Teacher']]\n",
        "3736 ['trial lawyer', 'Adam Michaels', ['23-1011', 'Lawyers', 'Trial Lawyer']]\n",
        "3735 ['web designer', 'Matt Blum', ['15-1134', 'Web Developers', 'Web Designer']]\n",
        "3734 ['college student', 'Kirsten Edwards', False]\n",
        "3733 ['actor and homemaker', 'Marjorie Goldman', False]\n",
        "3732 ['middle school teacher', 'Ron Moss', ['MiscTeacher', 'Teacher', 'Teacher']]\n",
        "3731 ['medical student', 'Amy Sobota', False]\n",
        "3730"
       ]
      },
      {
       "output_type": "stream",
       "stream": "stdout",
       "text": [
        " ['licensed acupuncturist', 'Mark Olivier', False]\n",
        "4691 ['economist', 'Chris Hartwell', ['19-3011', 'Economists', 'Economist']]\n",
        "4690 ['lecturer', 'Kevin Knight', False]\n",
        "4693 ['doctor', 'Bill Jacobs', False]\n",
        "4692 ['teacher', 'Nancy Ellis', ['MiscTeacher', 'Teacher', 'Teacher']]\n",
        "4695 ['financial analyst', 'Elisabeth Zeller', False]\n",
        "4694 ['program buyer', 'Lynn McAleece', False]\n",
        "4925"
       ]
      },
      {
       "output_type": "stream",
       "stream": "stdout",
       "text": [
        " ['junior', 'Katie Halliday', False]\n",
        "4696 ['naval architect', 'Jimmy MacStravic', False]\n",
        "4699 ['research assistant', 'Helen Petroff', False]\n",
        "4698 ['writer', 'Cheri Campbell', False]\n",
        "4929 ['senior', 'Lindsay Enbysk', False]\n",
        "4928"
       ]
      },
      {
       "output_type": "stream",
       "stream": "stdout",
       "text": [
        " ['senior', 'Brian Dunlap', False]\n",
        "2138 ['dance teacher', 'Debra Bricker', ['MiscTeacher', 'Teacher', 'Teacher']]\n",
        "2139 ['music director', 'Will Salvini', ['27-2041', 'Music Directors and Composers', 'Music Director']]\n",
        "5160 ['chamber-of-commerce executive', 'Julie Agnew Thomas', False]\n",
        "5161 ['credit analyst', 'Tom Kelso', ['13-2041', 'Credit Analysts', 'Credit Analyst']]\n",
        "5162 ['administrative assistant', 'Emily Thorsley', False]\n",
        "5163 ['magazine editor', 'Matt Heimer', False]\n",
        "5164 ['certified public accountant', 'Richard Hannasch', ['13-2011', 'Accountants and Auditors', 'Certified Public Accountant']]\n",
        "5165"
       ]
      },
      {
       "output_type": "stream",
       "stream": "stdout",
       "text": [
        " ['attorney', 'Kandice Kerwin', ['23-1011', 'Lawyers', 'Attorney']]\n",
        "5166 ['rock singer', 'David Nagy', False]\n",
        "4801 ['financial analyst', 'Frank Stokes', False]\n",
        "5168 ['attorney', 'Robin Maisel', ['23-1011', 'Lawyers', 'Attorney']]\n",
        "5169 ['teacher', 'Kathy White', ['MiscTeacher', 'Teacher', 'Teacher']]\n",
        "2787 ['software tester', 'Tom Utterback', False]\n",
        "2786"
       ]
      },
      {
       "output_type": "stream",
       "stream": "stdout",
       "text": [
        " ['radio broadcaster and writer', 'George Miller', False]\n",
        "2781 ['actress', 'Kathryn Erbe', ['27-2011', 'Actors', 'Actress']]\n",
        "2780 ['Emmy-nominated actor', 'Christopher Meloni', False]\n",
        "2783 ['clinical social worker', 'Kathi Weiss', False]\n",
        "2782 ['actor', 'Sam Waterston', False]\n",
        "8257 ['accountant', 'Anne Olson', ['13-2011', 'Accountants and Auditors', 'Accountant']]\n",
        "8256"
       ]
      },
      {
       "output_type": "stream",
       "stream": "stdout",
       "text": [
        " ['radio promotions director', 'Tom Canterbury', False]\n",
        "8253 ['executive recruiter', 'Deborah Bedell', False]\n",
        "8252 ['attorney', 'Jillian Mueller', ['23-1011', 'Lawyers', 'Attorney']]\n",
        "667 ['medical lab manager', 'Dave Willis', False]\n",
        "666 ['homemaker', 'Stacie Macias', False]\n",
        "665"
       ]
      },
      {
       "output_type": "stream",
       "stream": "stdout",
       "text": [
        " ['word processor', 'Mary Owenby', ['43-9022', 'Word Processors and Typists', 'Word Processor']]\n",
        "1799 ['Ph.D. candidate', 'Dana Venator', False]\n",
        "1798 ['actor and bookstore manager', 'Creswell Formey', False]\n",
        "1793 ['marketing executive', 'Harry Silverstein', False]\n",
        "1792"
       ]
      },
      {
       "output_type": "stream",
       "stream": "stdout",
       "text": [
        " ['administrative assistant', 'Julie Raines', False]\n",
        "1791 ['nonprofit director', 'Chrissy Hoffman', False]\n",
        "1790 ['switchboard manager', 'Craig Mobley', False]\n",
        "1797 ['shipping manager', 'Wendy Brown', False]\n",
        "1796"
       ]
      },
      {
       "output_type": "stream",
       "stream": "stdout",
       "text": [
        " ['university instructor', 'Rena Miller', False]\n",
        "1795 ['account manager', 'Tracy Ross', False]\n",
        "1794 ['law student', 'Chip Hicks', False]\n",
        "6848 ['wine shop manager', 'Bill Benison', False]\n",
        "6849 ['high school English and drama teacher', 'Elizabeth Schmitt', ['MiscTeacher', 'Teacher', 'Teacher']]\n",
        "661"
       ]
      },
      {
       "output_type": "stream",
       "stream": "stdout",
       "text": [
        " ['software engineer', 'Ken Jennings', False]\n",
        "6842 ['stay-at-home mom', 'Jenna Strickland', False]\n",
        "6843 ['web designer', 'Tom LaPorta', ['15-1134', 'Web Developers', 'Web Designer']]\n",
        "6840 ['chemical engineer', 'Vijay Balse', False]\n",
        "660 ['attorney', 'Tad Carithers', ['23-1011', 'Lawyers', 'Attorney']]\n",
        "655"
       ]
      },
      {
       "output_type": "stream",
       "stream": "stdout",
       "text": [
        " ['junior at George Washington University', 'John Williams', False]\n",
        "6847 ['administrative assistant', 'Nancy Williams', False]\n",
        "6844 ['college reference librarian', 'Amy Watts', False]\n",
        "6845"
       ]
      },
      {
       "output_type": "stream",
       "stream": "stdout",
       "text": [
        " ['college professor of film and literature', 'Colleen Kennedy', False]\n",
        "6590 ['graduate student', 'Megan Langhoff', ['GradStu', 'Graduate student', 'Graduate student']]\n",
        "6591 ['food scientist', 'Neel Varde', ['19-1012', 'Food Scientists and Technologists', 'Food Scientist']]\n",
        "6592 ['travel agent', 'Jennifer Wilder', ['41-3041', 'Travel Agents', 'Travel Agent']]\n",
        "6593 ['attorney', 'Matt Fisher', ['23-1011', 'Lawyers', 'Attorney']]\n",
        "6594 ['attorney', 'Charles Soule', ['23-1011', 'Lawyers', 'Attorney']]\n",
        "6595 ['junior high school social studies teacher', 'Jennifer Broders', ['MiscTeacher', 'Teacher', 'Teacher']]\n",
        "6596 ['college freshman', 'Kelly Loughead', False]\n",
        "6597 ['bond trader', 'Dave Artusi', False]\n",
        "6598"
       ]
      },
      {
       "output_type": "stream",
       "stream": "stdout",
       "text": [
        " ['library public relations manager', 'Beth Graham', False]\n",
        "6599 ['bus driver', 'Phil York', False]\n",
        "8239 ['archivist for the Sisters of Charity', 'Jennifer Head', False]\n",
        "8238"
       ]
      },
      {
       "output_type": "stream",
       "stream": "stdout",
       "text": [
        " ['computer consultant', 'Dan Seiden', False]\n",
        "7638 ['baseball game logger', 'Dan McShane', False]\n",
        "7639 ['tutor and opera singer', 'Molly Dahlberg', False]\n",
        "7632 ['steel mill systems repairman', 'Art Hilliker', False]\n",
        "7633 ['graduate student in geography', 'Nicholas Campiz', ['GradStu', 'Graduate student', 'Graduate student']]\n",
        "7630"
       ]
      },
      {
       "output_type": "stream",
       "stream": "stdout",
       "text": [
        " ['university librarian', 'Jennifer Green', ['25-4021', 'Librarians', 'University Librarian']]\n",
        "7631 ['museum collection specialist', 'Elizabeth Weichel', False]\n",
        "7636 ['copywriter', 'Amy Ludwig', ['27-3043', 'Writers and Authors', 'Copywriter']]\n",
        "7637 ['stay-at-home dad', 'Mark Rupp', False]\n",
        "7634"
       ]
      },
      {
       "output_type": "stream",
       "stream": "stdout",
       "text": [
        " ['biology professor', 'Sally Sommers Smith', False]\n",
        "7635 ['software developer and Hindu priest', 'Jaldhar Vyas', False]\n",
        "1537 ['talk radio show host', 'John Moore', False]\n",
        "3093 ['training coordinator', 'Martha Reilly', ['13-1151', 'Training and Development Specialists', 'Training Coordinator']]\n",
        "3090 ['anesthesiologist', 'Janet Torpy', ['29-1061', 'Anesthesiologists', 'Anesthesiologist']]\n",
        "3091 ['graduate student', 'Kathleen Hoffman', ['GradStu', 'Graduate student', 'Graduate student']]\n",
        "3096"
       ]
      },
      {
       "output_type": "stream",
       "stream": "stdout",
       "text": [
        " ['television producer', 'Sanjit Das', ['27-2012', 'Producers and Directors', 'Television Producer']]\n",
        "3097 ['waiter and actor', 'Travis Brazil', False]\n",
        "3094 ['freelance writer', \"Tim O'Brien\", False]\n",
        "3095 ['attorney', 'Steve Goodrich', ['23-1011', 'Lawyers', 'Attorney']]\n",
        "1249"
       ]
      },
      {
       "output_type": "stream",
       "stream": "stdout",
       "text": [
        " ['senior at North Carolina State University', 'Peter Ellis', False]\n",
        "1248 ['sophomore at New York University', 'Ben Goldman', False]\n",
        "3098 ['training specialist', 'Mollie Tobin', ['13-1151', 'Training and Development Specialists', 'Training Specialist']]\n",
        "3099 ['senior', 'Alexis Stephens', False]\n",
        "1539 ['library selection specialist', 'Natalia Mayer', False]\n",
        "1538"
       ]
      },
      {
       "output_type": "stream",
       "stream": "stdout",
       "text": [
        " ['electronics engineer', 'James Oldham', False]\n",
        "4101 ['graduate student', 'Sam Ott', ['GradStu', 'Graduate student', 'Graduate student']]\n",
        "4100 ['writer and teacher', 'Nick Thurkettle', ['MiscTeacher', 'Teacher', 'Teacher']]\n",
        "4103 ['paramedic and software engineer', 'Greg Lambert', False]\n",
        "4102 ['physician', 'Leni Sumich', False]\n",
        "4105"
       ]
      },
      {
       "output_type": "stream",
       "stream": "stdout",
       "text": [
        " ['legislative writer', 'Loren Duggan', False]\n",
        "4104 ['actress and comedienne', 'Jackie Wollner', False]\n",
        "4107 ['professor of speech communication', 'Larry Reynolds', False]\n",
        "4106"
       ]
      },
      {
       "output_type": "stream",
       "stream": "stdout",
       "text": [
        " ['G.I.S. technician', 'George Dudley', False]\n",
        "4109 ['electrical engineer', 'Victor Aguilar', ['17-2071', 'Electrical Engineers', 'Electrical Engineer']]\n",
        "4108 ['quality manager', 'Kathy Vanderford', False]\n",
        "7613 ['school librarian', 'Janemarie Cloutier', ['25-4021', 'Librarians', 'School Librarian']]\n",
        "3898 ['student', 'Jason Quick', False]\n",
        "3899"
       ]
      },
      {
       "output_type": "stream",
       "stream": "stdout",
       "text": [
        " ['foreign service officer', 'Pat Murphy', False]\n",
        "3892 ['legislation and outreach coordinator', 'Tom Wrosch', False]\n",
        "3893 ['writer', 'Ginny Morey', False]\n",
        "3890 ['building inspector', 'Roy Arias', ['47-4011', 'Construction and Building Inspectors', 'Building Inspector']]\n",
        "3891"
       ]
      },
      {
       "output_type": "stream",
       "stream": "stdout",
       "text": [
        " ['writer', 'Colleen Shaddox', False]\n",
        "3896 ['police officer', 'Frank Spangenberg', False]\n",
        "3897 ['technical writer', 'Colleen McMahon', ['27-3042', 'Technical Writers', 'Technical Writer']]\n",
        "3894 ['law professor', 'Kate Waits', False]\n",
        "3895"
       ]
      },
      {
       "output_type": "stream",
       "stream": "stdout",
       "text": [
        " ['senior marketing representative', 'Brian Wangsgard', False]\n",
        "5341 ['graduate student', 'Brian Schweiger', ['GradStu', 'Graduate student', 'Graduate student']]\n",
        "8741 ['associate professor of Scandinavian Studies', 'Arne Lunde', False]\n",
        "5951 ['stay-at-home mom', 'Anne Reilly', False]\n",
        "5950"
       ]
      },
      {
       "output_type": "stream",
       "stream": "stdout",
       "text": [
        " ['account manager', 'John Pitzel', False]\n",
        "5953 ['high school history teacher', 'Heather Menzel', ['MiscTeacher', 'Teacher', 'Teacher']]\n",
        "5952 ['graduate student', 'Adam Pan', ['GradStu', 'Graduate student', 'Graduate student']]\n",
        "5955 ['federal claims examiner', 'Daniel Stauss', False]\n",
        "5954 ['school social worker', 'Judy Shulman', ['21-1021', 'Child, Family, and School Social Workers', 'School Social Worker']]\n",
        "5957 ['actor and playwright', 'Diane Wilshere', False]\n",
        "5956"
       ]
      },
      {
       "output_type": "stream",
       "stream": "stdout",
       "text": [
        " ['writer/editor', 'Brian Boone', False]\n",
        "5959 ['assistant professor of English', 'Jennie-Rebecca Falcetta', False]\n",
        "5958 ['substance abuse counselor', 'Kevin Rainforth', ['21-1011', 'Substance Abuse and Behavioral Disorder Counselors', 'Substance Abuse Counselor']]\n",
        "6039 ['writer and actress', 'Renee Taylor', False]\n",
        "6038 ['actress', 'Alicia Witt', ['27-2011', 'Actors', 'Actress']]\n",
        "6033"
       ]
      },
      {
       "output_type": "stream",
       "stream": "stdout",
       "text": [
        " ['actress and singer', 'Eartha Kitt', False]\n",
        "6032 ['retired track and field athlete', 'Carl Lewis', False]\n",
        "6031 ['actor', 'Jon Lovitz', False]\n",
        "6030 ['actor', 'Matthew Fox', False]\n",
        "6037 ['high school history and government teacher', 'Elliott Rountree', ['MiscTeacher', 'Teacher', 'Teacher']]\n",
        "6036"
       ]
      },
      {
       "output_type": "stream",
       "stream": "stdout",
       "text": [
        " ['project accountant', 'Susan Hankins', False]\n",
        "6035 ['actress', 'Brett Butler', ['27-2011', 'Actors', 'Actress']]\n",
        "6034 ['retired astronaut and author', 'Buzz Aldrin', False]\n",
        "2659 ['from Toledo, Ohio...', 'Cynthia Grove', False]\n",
        "2658 ['vice principal', 'Andrew Espinoza', False]\n",
        "2653"
       ]
      },
      {
       "output_type": "stream",
       "stream": "stdout",
       "text": [
        " ['junior', 'Kitty Roberts', False]\n",
        "2652 ['senior', 'Nate Budde', False]\n",
        "2651 [\"children's author\", 'Linda Sue Park', False]\n",
        "2650 ['academic advisor', 'Dave Singleton', False]\n",
        "2657 ['title researcher', 'Rachael Dietrich', False]\n",
        "2656"
       ]
      },
      {
       "output_type": "stream",
       "stream": "stdout",
       "text": [
        " ['archivist', 'John Bowen', ['25-4011', 'Archivists', 'Archivist']]\n",
        "2655 ['attorney', 'Rick Walsh', ['23-1011', 'Lawyers', 'Attorney']]\n",
        "2654 ['senior', 'Jeff Cary', False]\n",
        "7388 ['opera singer', 'Gary Giardina', ['27-2042', 'Musicians and Singers', 'Opera Singer']]\n",
        "7389 ['physician', 'Gary Palmer', False]\n",
        "7382 ['research chemist', 'Nick Condon', False]\n",
        "7383"
       ]
      },
      {
       "output_type": "stream",
       "stream": "stdout",
       "text": [
        " ['communications associate', 'Daniel Trudeau', False]\n",
        "7380 ['journalist and author', 'Jeff Fleischer', False]\n",
        "7381 ['marketing communications specialist', 'LuEllen Buhrman', False]\n",
        "7386"
       ]
      },
      {
       "output_type": "stream",
       "stream": "stdout",
       "text": [
        " ['radio talk show host', 'Eric Schoeck', False]\n",
        "7387 ['writer', 'Harvey Becker', False]\n",
        "7384 ['high school technology teacher', 'Michael Vlach', ['MiscTeacher', 'Teacher', 'Teacher']]\n",
        "7385 ['physician', 'John Mingey', False]\n",
        "9061 ['artillery officer', 'Chas Wilson', False]\n",
        "9060 ['student', 'Jim Bell', False]\n",
        "9063"
       ]
      },
      {
       "output_type": "stream",
       "stream": "stdout",
       "text": [
        " ['international freight forwarder', 'Alec Iorio', False]\n",
        "9062 ['advertising executive', 'Steve Biddle', ['11-2011', 'Advertising and Promotions Managers', 'Advertising Executive']]\n",
        "9065 ['clinical social worker', 'Steve Alper', False]\n",
        "9064 ['teacher', 'Scott Astle', ['MiscTeacher', 'Teacher', 'Teacher']]\n",
        "9067 ['law student', 'Wilson Mudge', False]\n",
        "9066 ['editor', 'Len Krisak', False]\n",
        "9069"
       ]
      },
      {
       "output_type": "stream",
       "stream": "stdout",
       "text": [
        " ['administrative assistant', 'Albina Moran', False]\n",
        "9068 ['writer & publisher', 'Richard Scheffler', False]\n",
        "3562 ['firefighter', 'Doug Tibbs', False]\n",
        "3563 ['retired paralegal', 'Margaret Tennison', False]\n",
        "3560"
       ]
      },
      {
       "output_type": "stream",
       "stream": "stdout",
       "text": [
        " ['executive assistant', 'Jennifer Nield Cameron', ['43-6011', 'Executive Secretaries and Executive Administrative Assistants', 'Executive Assistant']]\n",
        "3561 ['account manager', 'Brian Morris', False]\n",
        "3566 ['project manager', 'Martin Budak', False]\n",
        "3567"
       ]
      },
      {
       "output_type": "stream",
       "stream": "stdout",
       "text": [
        " ['student', 'Courtney Smotherman', False]\n",
        "3564 ['operations manager', 'Eileen Loechel', ['11-1021', 'General and Operations Managers', 'Operations Manager']]\n",
        "3565 ['physician', 'David Wlody', False]\n",
        "3034 ['graduate student', 'Carol Pal', ['GradStu', 'Graduate student', 'Graduate student']]\n",
        "3568 ['online worker', 'Sunny Wyers', False]\n",
        "3569 ['college teacher and potter', 'Harry Stessel', ['MiscTeacher', 'Teacher', 'Teacher']]\n",
        "4484 ['linguistics student', 'Kevin Holbert', False]\n",
        "4485"
       ]
      },
      {
       "output_type": "stream",
       "stream": "stdout",
       "text": [
        " ['network administrator', 'Roland Hess', False]\n",
        "4486 ['bookstore manager', 'Elizabeth Elliott', False]\n",
        "4487 ['computer consultant', 'Ben Merritt', False]\n",
        "4480 ['high school social studies teacher', 'Rebecca Watt', ['MiscTeacher', 'Teacher', 'Teacher']]\n",
        "4481 ['fifth-grade teacher', 'Max Zarou', ['MiscTeacher', 'Teacher', 'Teacher']]\n",
        "4482 ['homemaker', 'Diana Klick', False]\n",
        "4483"
       ]
      },
      {
       "output_type": "stream",
       "stream": "stdout",
       "text": [
        " ['new learner experience coordinator', 'Erin Holm', False]\n",
        "4488 ['operations manager', 'Vicky Kaufman', ['11-1021', 'General and Operations Managers', 'Operations Manager']]\n",
        "4489 ['actor & writer', 'Michael Levin', False]\n",
        "2903 ['ESL professor', 'Evelyn Uyemura', False]\n",
        "2902 ['homemaker', 'Diane Siegel', False]\n",
        "2901"
       ]
      },
      {
       "output_type": "stream",
       "stream": "stdout",
       "text": [
        " ['law and public policy student', 'Al Lin', False]\n",
        "2900 ['actor', 'Jack Mahoney', False]\n",
        "2907 ['college teacher', 'Sean Gilsdorf', ['MiscTeacher', 'Teacher', 'Teacher']]\n",
        "2906 ['stay-at-home mom', 'Sue Bryant', False]\n",
        "2905 ['grad student', 'Bob Hutton', False]\n",
        "147"
       ]
      },
      {
       "output_type": "stream",
       "stream": "stdout",
       "text": [
        " ['college professor', 'Lyle Brenner', False]\n",
        "704 ['psychoanalyst', 'Linnda Durre', False]\n",
        "705 ['writer & teacher', 'Kevin Glynn', ['MiscTeacher', 'Teacher', 'Teacher']]\n",
        "2909 ['family law attorney', 'Kate Harvey', False]\n",
        "2908"
       ]
      },
      {
       "output_type": "stream",
       "stream": "stdout",
       "text": [
        " ['Congressional special assistant', 'Christian Haines', False]\n",
        "700 ['restaurant manager', 'Richard Landon', False]\n",
        "701 ['photojournalist', 'Mark Loundy', ['27-4021', 'Photographers', 'Photojournalist']]\n",
        "702 ['administrator', 'Elaine Baker', False]\n",
        "703 ['musician', 'Alan Fletcher', ['27-2042', 'Musicians and Singers', 'Musician']]\n",
        "2486"
       ]
      },
      {
       "output_type": "stream",
       "stream": "stdout",
       "text": [
        " ['law student', 'Allison Standish', False]\n",
        "5319 ['executive assistant', 'Mikki Deschaine', ['43-6011', 'Executive Secretaries and Executive Administrative Assistants', 'Executive Assistant']]\n",
        "5318 ['attorney', 'Armando Batastini', ['23-1011', 'Lawyers', 'Attorney']]\n",
        "5313 ['attorney', 'Kay Reimann', ['23-1011', 'Lawyers', 'Attorney']]\n",
        "5312 ['speech and language pathologist', 'Mary Boehm', False]\n",
        "5311 ['receiving clerk', 'Jonathan Auyoung', ['43-5071', 'Shipping, Receiving, and Traffic Clerks', 'Receiving Clerk']]\n",
        "5310"
       ]
      },
      {
       "output_type": "stream",
       "stream": "stdout",
       "text": [
        " ['writer', 'Tom McGuire', False]\n",
        "5317 ['graduate student', 'Andy Hejl', ['GradStu', 'Graduate student', 'Graduate student']]\n",
        "5316 ['research scientist', 'Maryann Correll', False]\n",
        "5315 ['high school English teacher', 'Doug Wager', ['MiscTeacher', 'Teacher', 'Teacher']]\n",
        "5314 ['veterinarian', 'Kathy Clark', False]\n",
        "2487 ['science teacher', 'Chris Stallings', ['MiscTeacher', 'Teacher', 'Teacher']]\n",
        "1630 ['disability analyst', 'Julie Nahmais', False]\n",
        "1631 ['rabbi', 'Daniel Swartz', ['21-2011', 'Clergy', 'Rabbi']]\n",
        "1632 ['graduate student', 'Anne Lanctot', ['GradStu', 'Graduate student', 'Graduate student']]\n",
        "3153"
       ]
      },
      {
       "output_type": "stream",
       "stream": "stdout",
       "text": [
        " ['consultant', 'Ken Beckrich', False]\n",
        "3152 ['homemaker', 'Laura Archer', False]\n",
        "3151 ['publicity and editorial assistant', 'David Martin', False]\n",
        "3150 ['registered nurse', 'Verena Besso', ['29-1141', 'Registered Nurses', 'Registered Nurse']]\n",
        "3157 ['high school English teacher', 'Bridget Derbyshire', ['MiscTeacher', 'Teacher', 'Teacher']]\n",
        "3156 ['high school teacher', 'Carl Brownell', ['MiscTeacher', 'Teacher', 'Teacher']]\n",
        "3155"
       ]
      },
      {
       "output_type": "stream",
       "stream": "stdout",
       "text": [
        " ['college student', 'Chris Dougherty', False]\n",
        "3154 ['systems developer', 'Rebecca Gold', False]\n",
        "1634 ['program manager', 'Dave Lombard', False]\n",
        "3159 ['investment advisor', 'Liz Bakulski', False]\n",
        "3158"
       ]
      },
      {
       "output_type": "stream",
       "stream": "stdout",
       "text": [
        " ['psychology professor', 'Steve Engel', ['25-1066', 'Psychology Teachers, Postsecondary', 'Psychology Professor']]\n",
        "1635 ['freelance writer', 'Trevor Pritchard', False]\n",
        "1636 ['event coordinator', 'Lance Johnson', False]\n",
        "1637 ['software developer', 'Jenny Park', False]\n",
        "2482"
       ]
      },
      {
       "output_type": "stream",
       "stream": "stdout",
       "text": [
        " ['information technology', 'Kristin Culkowski', False]\n",
        "2483 ['emergency medicine resident', 'Brooks Moore', False]\n",
        "2480 ['computer forensics instructor', 'Roger Werries', False]\n",
        "8574 ['management consultant', 'John Clarke', ['13-1111', 'Management Analysts', 'Management Consultant']]\n",
        "8575"
       ]
      },
      {
       "output_type": "stream",
       "stream": "stdout",
       "text": [
        " ['pediatric emergency-room nurse', 'Kerri McCoy', False]\n",
        "8576 ['video game quality assurance tester', 'Berek Marcus', False]\n",
        "8577 ['child support officer', 'Matthew Mahan', False]\n",
        "8570 ['writer', 'Pamela Norris', False]\n",
        "8571"
       ]
      },
      {
       "output_type": "stream",
       "stream": "stdout",
       "text": [
        " ['director of customer service', 'Alexis Colicchio', False]\n",
        "8572 ['from ...', 'Lynne Kopell', False]\n",
        "8573 ['writer', 'Harvey Becker', False]\n",
        "8578 ['news director', 'Jeff Ramsey', False]\n",
        "8579 ['accountant', 'Patty Young', ['13-2011', 'Accountants and Auditors', 'Accountant']]\n",
        "2481"
       ]
      },
      {
       "output_type": "stream",
       "stream": "stdout",
       "text": [
        " ['claim representative', 'Lisa Dixon', False]\n",
        "7409 ['agribusiness finance attorney', 'Chris Clayton', False]\n",
        "7408 ['zoo docent', 'Polly Ruf', False]\n",
        "7405 ['community organizer and writer', 'Andrew Dobbs', False]\n",
        "7404 ['management consultant', 'Pat Connor', ['13-1111', 'Management Analysts', 'Management Consultant']]\n",
        "7407"
       ]
      },
      {
       "output_type": "stream",
       "stream": "stdout",
       "text": [
        " ['student of government', 'Adam Marshall', False]\n",
        "7406 ['project manager', 'Dan Carroll', False]\n",
        "7401 ['investment analyst', 'Mark Born', False]\n",
        "7400"
       ]
      },
      {
       "output_type": "stream",
       "stream": "stdout",
       "text": [
        " ['general litigation attorney', 'Kartik Venguswamy', False]\n",
        "7403 ['writer for an online magazine', 'Marc Tracy', False]\n",
        "7402"
       ]
      },
      {
       "output_type": "stream",
       "stream": "stdout",
       "text": [
        " ['college assistant director of admissions', 'Elaine Garrett', False]\n",
        "2815 ['actor', 'Brian Stokes Mitchell', False]\n",
        "2814 ['singer and actor', 'Drew Lachey', False]\n",
        "6628 ['fiddler', 'Dan Campbell', False]\n",
        "6629"
       ]
      },
      {
       "output_type": "stream",
       "stream": "stdout",
       "text": [
        " ['parish administrator', 'Christine Havens', False]\n",
        "6626 ['teacher', 'Pat Harder', ['MiscTeacher', 'Teacher', 'Teacher']]\n",
        "6627 ['systems analyst', \"Ellie O'Donnell\", False]\n",
        "6624 ['Ph.D. student in history', 'Fideleon Damian', False]\n",
        "6625 ['accountant', 'Kathy Braue', ['13-2011', 'Accountants and Auditors', 'Accountant']]\n",
        "6622"
       ]
      },
      {
       "output_type": "stream",
       "stream": "stdout",
       "text": [
        " ['market researcher', 'Joan Radell', False]\n",
        "6623 ['attorney', 'Roddy Arz', ['23-1011', 'Lawyers', 'Attorney']]\n",
        "6620 ['editor', 'Doug Meyer', False]\n",
        "6621 ['entertainment writer', 'Donna Isbell Walker', False]\n",
        "2819 ['multitalented man', 'Martin Short', False]\n",
        "2818 ['actress', 'Joely Fisher', ['27-2011', 'Actors', 'Actress']]\n",
        "4714"
       ]
      },
      {
       "output_type": "stream",
       "stream": "stdout",
       "text": [
        " ['math instructor', 'Edgar Smith, Jr.', False]\n",
        "4715 ['administrative assistant', 'Maria Valgenti', False]\n",
        "4716 ['purchasing assistant', 'Tony Mangaser', ['43-3061', 'Procurement Clerks', 'Purchasing Assistant']]\n",
        "4717 ['freelance writer', 'Louise Cornish', False]\n",
        "4710"
       ]
      },
      {
       "output_type": "stream",
       "stream": "stdout",
       "text": [
        " ['webmaster', 'Tim Buntel', False]\n",
        "4711 ['director of wine education', 'Eric Hemer', False]\n",
        "4712 ['stay-at-home mom', 'Christina Held-Hulsing', False]\n",
        "4713"
       ]
      },
      {
       "output_type": "stream",
       "stream": "stdout",
       "text": [
        " ['communications director', 'Susan Hawks Wheeler', False]\n",
        "2338 ['lawyer', 'Doug Kornreich', ['23-1011', 'Lawyers', 'Lawyer']]\n",
        "2339 ['high school teacher', 'Darlyne Delaney', ['MiscTeacher', 'Teacher', 'Teacher']]\n",
        "4718 ['musician', 'Roberta Berg', ['27-2042', 'Musicians and Singers', 'Musician']]\n",
        "4719 ['customer support specialist', 'Shannon Poole', False]\n",
        "3715 ['English teacher', 'Jim Berrier', ['MiscTeacher', 'Teacher', 'Teacher']]\n",
        "3714 ['freshman', 'Elise Burton', False]\n",
        "3717"
       ]
      },
      {
       "output_type": "stream",
       "stream": "stdout",
       "text": [
        " ['college archivist', 'Eric Hillemann', False]\n",
        "3716 ['law clerk', 'Jeremy Levin', False]\n",
        "3711 ['schoolteacher', 'Chris Losoya', ['MiscTeacher', 'Teacher', 'Teacher']]\n",
        "3710 ['administrative assistant', 'Monica Gruber', False]\n",
        "3713 ['sophomore', 'Anna Han', False]\n",
        "3712 ['freshman', 'Christine Kennedy', False]\n",
        "3719"
       ]
      },
      {
       "output_type": "stream",
       "stream": "stdout",
       "text": [
        " ['patent agent', 'Jim Gromada', False]\n",
        "3718 ['graduate student', 'Julie deGraffenried', ['GradStu', 'Graduate student', 'Graduate student']]\n",
        "8189 ['singer', 'Sandra Cheltenham', False]\n",
        "4909 ['theater technician', 'Paul Thomas', False]\n",
        "4908 ['business analyst', 'Melanie Harrington', ['13-1111', 'Management Analysts', 'Business Analyst']]\n",
        "4679 ['senior', 'Rachel \"Steve\" Cooke', False]\n",
        "4678"
       ]
      },
      {
       "output_type": "stream",
       "stream": "stdout",
       "text": [
        " ['junior', 'Todd Faulkenberry', False]\n",
        "4901 ['law student', 'Diana Bush', False]\n",
        "4676 ['senior', 'Becky Kralle', False]\n",
        "4903 ['education specialist', 'Tania Clucas', False]\n",
        "4674"
       ]
      },
      {
       "output_type": "stream",
       "stream": "stdout",
       "text": [
        " ['engineering student', 'Eric Brown', False]\n",
        "4673 ['junior', 'Maria Bennici', False]\n",
        "4904 ['project manager', 'Gilah Pomeranz', False]\n",
        "4671 ['sophomore', 'Katie Gill', False]\n",
        "4670"
       ]
      },
      {
       "output_type": "stream",
       "stream": "stdout",
       "text": [
        " ['sophomore', 'Rachel Horn', False]\n",
        "7437 ['attorney and graduate student', 'Aric Wu', ['GradStu', 'Graduate student', 'Graduate student']]\n",
        "8188 ['real estate developer', 'Joel Pool', False]\n",
        "5148 ['Spanish teacher', 'Joanne Infantino', ['MiscTeacher', 'Teacher', 'Teacher']]\n",
        "5149 ['administrative assistant', 'Ann Turnock', False]\n",
        "5146 ['public defender', 'Amy Coffee', ['23-1011', 'Lawyers', 'Public Defender']]\n",
        "5147"
       ]
      },
      {
       "output_type": "stream",
       "stream": "stdout",
       "text": [
        " ['editor', 'Josh Fruhlinger', False]\n",
        "5144 ['physicist', 'Marty Brophy', False]\n",
        "5145 ['graduate student', 'Daniel Weissman', ['GradStu', 'Graduate student', 'Graduate student']]\n",
        "5142 ['customer service representative', 'Frances Moore', False]\n",
        "5143 ['librarian', 'Sharon Kirkes', False]\n",
        "5140"
       ]
      },
      {
       "output_type": "stream",
       "stream": "stdout",
       "text": [
        " ['opthamologist', 'Jim Roberts', False]\n",
        "5141 ['writer', 'Steve Saum', False]\n",
        "120 ['realtor', 'Nancy Zerg', False]\n",
        "121"
       ]
      },
      {
       "output_type": "stream",
       "stream": "stdout",
       "text": [
        " ['wealth management project analyst', 'Katie Fitzgerald', False]\n",
        "122 ['research assistant', 'Nathan Brownback', False]\n",
        "123 ['homeland security consultant', 'Josh Kolchins', False]\n",
        "124 ['planning clerk', 'Sherri Benoun', False]\n",
        "125"
       ]
      },
      {
       "output_type": "stream",
       "stream": "stdout",
       "text": [
        " ['truck driver', 'Kord Heinemann', False]\n",
        "126 ['anesthesiologist', 'Pete DeBalli', ['29-1061', 'Anesthesiologists', 'Anesthesiologist']]\n",
        "127 ['graduate student', 'Andy Zimdars', ['GradStu', 'Graduate student', 'Graduate student']]\n",
        "128 ['engineer', 'Dennis Grace', False]\n",
        "129 ['house painter', 'Shelley Singh', ['47-2141', 'Painters, Construction and Maintenance', 'House Painter']]\n",
        "7957 ['poet', 'Laurel Stevens', ['27-3043', 'Writers and Authors', 'Poet']]\n",
        "1188 ['classical radio announcer', 'Lori Skelton', False]\n",
        "7956 ['graduate student', 'Mike Simon', ['GradStu', 'Graduate student', 'Graduate student']]\n",
        "1189"
       ]
      },
      {
       "output_type": "stream",
       "stream": "stdout",
       "text": [
        " ['attorney', 'Jack Ronner', ['23-1011', 'Lawyers', 'Attorney']]\n",
        "7955 ['information technology manager', 'Doug Thornton', False]\n",
        "3377 ['teacher', 'Janet Williams', ['MiscTeacher', 'Teacher', 'Teacher']]\n",
        "7954 ['retired software engineer', 'Sue Meloy', False]\n",
        "3376 ['management consultant', 'Lauren Kostas', ['13-1111', 'Management Analysts', 'Management Consultant']]\n",
        "7953 ['secretary', 'Marsha Pomeroy-Huff', False]\n",
        "3375"
       ]
      },
      {
       "output_type": "stream",
       "stream": "stdout",
       "text": [
        " ['computer programmer and analyst', 'Kate Quillian', False]\n",
        "7224 ['writer', 'Phil Nauss', False]\n",
        "3374 ['graduate student', 'Ron Ellison', ['GradStu', 'Graduate student', 'Graduate student']]\n",
        "7951 ['lawyer', 'Ed Bryant', ['23-1011', 'Lawyers', 'Lawyer']]\n",
        "3373 ['pharmacologist', 'Amy Ellis', ['19-1042', 'Medical Scientists, Except Epidemiologists', 'Pharmacologist']]\n",
        "7950 ['secretary', 'Zack Knowles', False]\n",
        "3372 ['consultant', 'Jacque Keller', False]\n",
        "3371"
       ]
      },
      {
       "output_type": "stream",
       "stream": "stdout",
       "text": [
        " ['software engineer', 'Neal Thompson', False]\n",
        "3370 ['legal secretary', 'Beth Milnes', False]\n",
        "7247 ['graduate student and English teacher', 'Kristi Myers', ['GradStu', 'Graduate student', 'Graduate student']]\n",
        "7246 ['geotechnical engineer', 'Tom Kunzen', ['17-2051', 'Civil Engineers', 'Geotechnical Engineer']]\n",
        "7245 ['journalist', 'Ethan Dougherty', False]\n",
        "7244 ['insurance claims investigator', 'Lori Cain', False]\n",
        "7243"
       ]
      },
      {
       "output_type": "stream",
       "stream": "stdout",
       "text": [
        " ['English professor', 'Mary McGlynn', False]\n",
        "7242 ['freelance researcher', 'Katie Sowder', False]\n",
        "7241 ['homemaker', 'Maryann Price', False]\n",
        "7240 ['lobbyist', 'Cliff Leach', ['27-3031', 'Public Relations Specialists', 'Lobbyist']]\n",
        "7249 ['economic development attorney', 'Rebecca Rogers', False]\n",
        "7248"
       ]
      },
      {
       "output_type": "stream",
       "stream": "stdout",
       "text": [
        " ['photographic lighting technician', 'Peter Perigo', False]\n",
        "6820 ['stay-at-home mom', 'Robin Poch\\xe9', False]\n",
        "6821 ['high school English teacher', 'Linda Smith', ['MiscTeacher', 'Teacher', 'Teacher']]\n",
        "6822 ['law professor', 'Shubha Ghosh', False]\n",
        "6823 ['home-schooling mom', 'Antoinette Aubert', False]\n",
        "6824"
       ]
      },
      {
       "output_type": "stream",
       "stream": "stdout",
       "text": [
        " ['aerospace technician', 'Jim McKain', False]\n",
        "6825 ['editorial assistant', 'Susan Poorman', ['43-9081', 'Proofreaders and Copy Markers', 'Editorial Assistant']]\n",
        "6826 ['graduate student of public policy', 'Patrick Tucker', ['GradStu', 'Graduate student', 'Graduate student']]\n",
        "6827 ['foreign service officer', 'Liz Murphy', False]\n",
        "6828 ['tutor', 'Ryan Chaffee', ['25-3099', 'Teachers and Instructors, All Other', 'Tutor']]\n",
        "6829 ['recently retired base commander', 'Dave Belote', False]\n",
        "8817"
       ]
      },
      {
       "output_type": "stream",
       "stream": "stdout",
       "text": [
        " ['analytics engineer', 'Curtis Morales', False]\n",
        "8816 ['graduate student in engineering and law', 'Varun Shekhar', ['GradStu', 'Graduate student', 'Graduate student']]\n",
        "8815 ['English-as-a-second-language instructor', 'Betsy Foss', False]\n",
        "6676 ['junior', 'Leah Anthony Libresco', False]\n",
        "8813"
       ]
      },
      {
       "output_type": "stream",
       "stream": "stdout",
       "text": [
        " ['abstract painter', 'Tiffany Gholar', False]\n",
        "8812 ['librarian', 'Evan Struble', False]\n",
        "8811 ['high school history teacher', 'Rachel Hirsch', ['MiscTeacher', 'Teacher', 'Teacher']]\n",
        "8810 ['air force officer', 'Woody Bell', False]\n",
        "8819 ['homemaker', 'Sandy Howard', False]\n",
        "8818 ['attorney', 'Debbie Singer', ['23-1011', 'Lawyers', 'Attorney']]\n",
        "8219 ['bookkeeper', 'Melissa Leanza', ['43-3031', 'Bookkeeping, Accounting, and Auditing Clerks', 'Bookkeeper']]\n",
        "8170"
       ]
      },
      {
       "output_type": "stream",
       "stream": "stdout",
       "text": [
        " ['junior', 'Lila Anderson', False]\n",
        "8749 ['business-ownership coach', 'Gus Iurillo', False]\n",
        "8171 ['senior', 'Katie Stone', False]\n",
        "8211 ['freelance writer', 'Heidi Yorkshire', False]\n",
        "8210 ['lawyer', 'Don Tracy', ['23-1011', 'Lawyers', 'Lawyer']]\n",
        "8213 ['graduate student of zoology', 'Sara Garnett', ['GradStu', 'Graduate student', 'Graduate student']]\n",
        "8212 ['CPA', 'Hans Reodica', ['13-2011', 'Accountants and Auditors', 'CPA']]\n",
        "8215"
       ]
      },
      {
       "output_type": "stream",
       "stream": "stdout",
       "text": [
        " ['freelance journalist', 'Tom Rutledge', False]\n",
        "8172 ['freshman', 'Nilai Sarda', False]\n",
        "8217 ['domestic goddess', 'Twyla Dignan', False]\n",
        "8216 ['freelance writer', 'Zanete Barons', False]\n",
        "7650 ['graduate student of veterinary medicine', 'Betsy Schroeder', ['GradStu', 'Graduate student', 'Graduate student']]\n",
        "7651 ['museum archivist', 'Stephanie Walker', ['25-4011', 'Archivists', 'Museum Archivist']]\n",
        "7652"
       ]
      },
      {
       "output_type": "stream",
       "stream": "stdout",
       "text": [
        " ['writer and editor', 'Amy Stephenson', False]\n",
        "7653 ['actuary', 'Daniel Hodge', False]\n",
        "7654 ['software engineer', 'Zach May', False]\n",
        "7655 ['homemaker and micro farmer', 'Debra McGuire', False]\n",
        "7656"
       ]
      },
      {
       "output_type": "stream",
       "stream": "stdout",
       "text": [
        " ['attorney', 'Naved Sheikh', ['23-1011', 'Lawyers', 'Attorney']]\n",
        "7657 ['college librarian', 'Lynn Hammerlund', ['25-4021', 'Librarians', 'College Librarian']]\n",
        "7658 ['network administrator', 'Bob Powell', False]\n",
        "7659 ['graduate student of mathematics', 'Russell Howes', ['GradStu', 'Graduate student', 'Graduate student']]\n",
        "8175 ['sophomore', 'William Crouch', False]\n",
        "1997 ['copywriter', 'Stella Daily', ['27-3043', 'Writers and Authors', 'Copywriter']]\n",
        "8176"
       ]
      },
      {
       "output_type": "stream",
       "stream": "stdout",
       "text": [
        " ['senior', 'Arjun Byju', False]\n",
        "8177 ['senior', 'Joe Vertnik', False]\n",
        "1519 ['Airborne infantry man', 'Roger Antaki', False]\n",
        "1518"
       ]
      },
      {
       "output_type": "stream",
       "stream": "stdout",
       "text": [
        " ['training consultant', 'Lynda Pinnington', False]\n",
        "3392 ['hazardous waste compliance inspector', 'Katie McArthur', False]\n",
        "1515"
       ]
      },
      {
       "output_type": "stream",
       "stream": "stdout",
       "text": [
        " ['stay-at-home mom and online college professor', 'Wendy Kautz', False]\n",
        "1514 ['grad student', 'Nick Klaiber', False]\n",
        "1517 ['medical assistant', 'Margaret Mitchell', False]\n",
        "1516 ['Army officer', 'Peter Booker', False]\n",
        "1511"
       ]
      },
      {
       "output_type": "stream",
       "stream": "stdout",
       "text": [
        " ['index editor', 'Joy Luckabaugh', ['27-3041', 'Editors', 'Index Editor']]\n",
        "1510 ['graduate student', 'Brian Nafziger', ['GradStu', 'Graduate student', 'Graduate student']]\n",
        "1513 ['curatorial assistant', 'Cynthia Pearson', False]\n",
        "1512 ['arts administrator', 'Bob Mesko', False]\n",
        "8899 ['middle school special-education teacher', 'Don Gwinn', ['MiscTeacher', 'Teacher', 'Teacher']]\n",
        "3397 ['senior', 'Katie Polk', False]\n",
        "3396"
       ]
      },
      {
       "output_type": "stream",
       "stream": "stdout",
       "text": [
        " ['junior', 'Brad Williams', False]\n",
        "263 ['senior', 'Anne Shivers', False]\n",
        "262 ['police officer', 'Frank Spangenberg', False]\n",
        "261 ['teacher', 'Barbara Prideaux', ['MiscTeacher', 'Teacher', 'Teacher']]\n",
        "260 ['graduate student', 'Murdock Martin', ['GradStu', 'Graduate student', 'Graduate student']]\n",
        "267 ['regional sales manager', 'Jim McLeod', ['11-2022', 'Sales Managers', 'Regional Sales Manager']]\n",
        "266 ['legal word processor', 'Scott Holliday', False]\n",
        "265"
       ]
      },
      {
       "output_type": "stream",
       "stream": "stdout",
       "text": [
        " ['junior', 'Amy Fletcher', False]\n",
        "264 ['senior', 'Wes Kovarik', False]\n",
        "269 ['student', 'Andy Westney', False]\n",
        "268 ['Spanish teacher', 'Leslie Frates', ['MiscTeacher', 'Teacher', 'Teacher']]\n",
        "6011 ['Army assistant to the Fifth Corps Commanding General', 'Myles Caggins', False]\n",
        "6010"
       ]
      },
      {
       "output_type": "stream",
       "stream": "stdout",
       "text": [
        " ['Air Force computer operator', 'Stacie Jacobson', False]\n",
        "6013 ['senior', 'Laura Myers', False]\n",
        "6012 ['senior', 'Mark Petterson', False]\n",
        "6015 ['senior', 'Courtney Trezise', False]\n",
        "6014"
       ]
      },
      {
       "output_type": "stream",
       "stream": "stdout",
       "text": [
        " ['senior', 'Jennifer Duann', False]\n",
        "6017 ['junior', 'Kadeem Cooper', False]\n",
        "6016 ['senior', 'Scott Menke', False]\n",
        "6019 ['junior', 'Elyssa Browning', False]\n",
        "6018 ['freshman', 'Greg Lichtenstein', False]\n",
        "988 ['teacher', 'Nancy Austin', ['MiscTeacher', 'Teacher', 'Teacher']]\n",
        "989"
       ]
      },
      {
       "output_type": "stream",
       "stream": "stdout",
       "text": [
        " ['law student', 'Bill Forman', False]\n",
        "982 ['lawyer', 'Ray Baxter', ['23-1011', 'Lawyers', 'Lawyer']]\n",
        "983 ['homemaker', 'Terry Ragazzini', False]\n",
        "980 ['education administrator', 'Debbie Howe', False]\n",
        "981"
       ]
      },
      {
       "output_type": "stream",
       "stream": "stdout",
       "text": [
        " ['humanities student', 'Rob Lasker', False]\n",
        "986 ['budget analyst', 'Mark Shrager', ['13-2031', 'Budget Analysts', 'Budget Analyst']]\n",
        "987 ['typographer', 'Phil Leib', False]\n",
        "984 ['librarian', 'David Harris', False]\n",
        "985 ['musician', 'Keith Harrett', ['27-2042', 'Musicians and Singers', 'Musician']]\n",
        "828 ['director of development', \"Brian O'Rourke\", False]\n",
        "9089"
       ]
      },
      {
       "output_type": "stream",
       "stream": "stdout",
       "text": [
        " ['junior', 'David Javerbaum', False]\n",
        "9088 ['senior', 'Mark Wong', False]\n",
        "9087 ['senior', 'Mia Diamond', False]\n",
        "9086 ['attorney', 'Steve Buechner', ['23-1011', 'Lawyers', 'Attorney']]\n",
        "9085 ['student of sociology', 'Brandon Barnes', False]\n",
        "9084"
       ]
      },
      {
       "output_type": "stream",
       "stream": "stdout",
       "text": [
        " ['auto repair shop service manager', 'Alex Tran', False]\n",
        "9083 ['sports information director', 'Ryan Real', False]\n",
        "9082 ['business lawyer and consultant', 'Sirena Terr', False]\n",
        "9081"
       ]
      },
      {
       "output_type": "stream",
       "stream": "stdout",
       "text": [
        " ['strategic communications lead', 'Lara Brenckle Malmont', False]\n",
        "9080 ['corporate librarian', 'Kate Hoffman', False]\n",
        "3508 ['newspaper copy editor', 'Carol Schlau', False]\n",
        "3509 ['attorney', 'Manoj Mate', ['23-1011', 'Lawyers', 'Attorney']]\n",
        "5089"
       ]
      },
      {
       "output_type": "stream",
       "stream": "stdout",
       "text": [
        " ['foreign language consultant', 'Beverly Adams', False]\n",
        "5088 ['district manager', 'Robert Press', False]\n",
        "5083 ['project manager', 'Larry Schneider', False]\n",
        "5082 ['vintage store owner', 'Marianne Eismann', False]\n",
        "5081 ['aerospace engineer', 'Georgia Hiesterman', ['17-2011', 'Aerospace Engineers', 'Aerospace Engineer']]\n",
        "5080 ['Spanish teacher', 'Joe Parodi', ['MiscTeacher', 'Teacher', 'Teacher']]\n",
        "5087"
       ]
      },
      {
       "output_type": "stream",
       "stream": "stdout",
       "text": [
        " ['forensic scientist', 'Dave Ruddell', False]\n",
        "5086 ['physics teacher', 'Kathy Maurer', ['MiscTeacher', 'Teacher', 'Teacher']]\n",
        "5085 ['graduate student', 'Aaron Schroeder', ['GradStu', 'Graduate student', 'Graduate student']]\n",
        "5084 ['veterinarian', 'Heather Colby', False]\n",
        "2671 ['high school English teacher', 'Carly Sporer', ['MiscTeacher', 'Teacher', 'Teacher']]\n",
        "2670 ['engineer', 'Jason Wejnert', False]\n",
        "2673 ['first-year law student', 'Steve Throneberry', False]\n",
        "2672 ['psychiatrist', 'Larry Bigman', ['29-1066', 'Psychiatrists', 'Psychiatrist']]\n",
        "2675"
       ]
      },
      {
       "output_type": "stream",
       "stream": "stdout",
       "text": [
        " ['Lutheran pastor', 'Joseph Crippen', False]\n",
        "2674 ['pharmaceutical representative', 'Peggy Nomland', False]\n",
        "2677 ['writer and production coordinator', 'Ginny Reynolds', False]\n",
        "2676 ['speech pathologist', 'Susan Wozny', ['29-1127', 'Speech-Language Pathologists', 'Speech Pathologist']]\n",
        "2679"
       ]
      },
      {
       "output_type": "stream",
       "stream": "stdout",
       "text": [
        " ['law clerk', 'Cynthia Grove', False]\n",
        "2678 ['commercial property manager', 'Michael Malone', False]\n",
        "2929 ['business development manager', 'James Zirlott', False]\n",
        "2928 ['graduate student', 'Kevin Scott', ['GradStu', 'Graduate student', 'Graduate student']]\n",
        "2921"
       ]
      },
      {
       "output_type": "stream",
       "stream": "stdout",
       "text": [
        " ['software developer', 'Dan Cherkis', False]\n",
        "2920 ['graphic artist', 'Karin Heckl', ['27-1024', 'Graphic Designers', 'Graphic Artist']]\n",
        "2923 ['construction worker', 'Anthony Trifilio', False]\n",
        "2922 ['sales assistant', 'Tana Lee', False]\n",
        "2925"
       ]
      },
      {
       "output_type": "stream",
       "stream": "stdout",
       "text": [
        " ['mammography technologist', 'Patty Crowell', False]\n",
        "2924 ['registered nurse', 'Jen Bobolia', ['29-1141', 'Registered Nurses', 'Registered Nurse']]\n",
        "2927 ['computer consultant and software trainer', 'Rita Hedgespeth', False]\n",
        "2926 ['attorney', 'Richard Finch', ['23-1011', 'Lawyers', 'Attorney']]\n",
        "5331"
       ]
      },
      {
       "output_type": "stream",
       "stream": "stdout",
       "text": [
        " ['college student', 'Joe Nathan', False]\n",
        "5330 ['marriage and family therapist', 'Elizabeth Oppenheim', False]\n",
        "5333 ['computer programmer', 'Warren Usui', ['15-1131', 'Computer Programmers', 'Computer Programmer']]\n",
        "5332 ['lawyer', 'Katie Hamill', ['23-1011', 'Lawyers', 'Lawyer']]\n",
        "5335"
       ]
      },
      {
       "output_type": "stream",
       "stream": "stdout",
       "text": [
        " ['from Denver, Colorado...', 'Jeannette Jargon', False]\n",
        "5334 ['public relations specialist', 'Mat Wahlstrom', False]\n",
        "5337 ['publications coordinator', 'Eleanor McGourty', False]\n",
        "5336 ['graduate student and policy analyst', 'Jonathan Kulick', ['GradStu', 'Graduate student', 'Graduate student']]\n",
        "5339 ['substitute teacher', 'Nancy McIsaac', ['MiscTeacher', 'Teacher', 'Teacher']]\n",
        "5338"
       ]
      },
      {
       "output_type": "stream",
       "stream": "stdout",
       "text": [
        " ['clinical technician', 'Tim Paetzold', False]\n",
        "3179 ['freelance foot model', 'Richard Connell', False]\n",
        "3178 ['librarian', 'Eleanor Bukowsky', False]\n",
        "2037"
       ]
      },
      {
       "output_type": "stream",
       "stream": "stdout",
       "text": [
        " ['independent contractor', 'Jason Logan', False]\n",
        "3171 ['video editor', 'Sam Meyer', False]\n",
        "3170 ['graduate student', 'Kara Miller', ['GradStu', 'Graduate student', 'Graduate student']]\n",
        "3173 ['executive', 'Stuart Leeman', False]\n",
        "3172 ['attorney', 'Liam Healy', ['23-1011', 'Lawyers', 'Attorney']]\n",
        "3175"
       ]
      },
      {
       "output_type": "stream",
       "stream": "stdout",
       "text": [
        " ['administrative assistant', 'Jay Robison', False]\n",
        "3174 ['editor', 'Chip Rossetti', False]\n",
        "3177 ['business analyst', 'Lan Djang', ['13-1111', 'Management Analysts', 'Business Analyst']]\n",
        "3176 ['graduate student', 'Marian Chen', ['GradStu', 'Graduate student', 'Graduate student']]\n",
        "726 ['tax and business consultant', 'Eva Rosenberg', False]\n",
        "727 ['printing broker', 'Ric Moser', False]\n",
        "724"
       ]
      },
      {
       "output_type": "stream",
       "stream": "stdout",
       "text": [
        " ['computer analyst', 'Larry McKnight', False]\n",
        "725 ['animal control dispacher', 'Jay Mann', False]\n",
        "722 ['researcher and writer', 'Arthur Steiner', False]\n",
        "723"
       ]
      },
      {
       "output_type": "stream",
       "stream": "stdout",
       "text": [
        " ['college instructor', 'Stephen Lee', False]\n",
        "720 ['musician', 'Jaya Lakshminarayanan', ['27-2042', 'Musicians and Singers', 'Musician']]\n",
        "721 ['law student', 'Greg Pokusa', False]\n",
        "728 ['research student', 'Amy Phillips', False]\n",
        "729"
       ]
      },
      {
       "output_type": "stream",
       "stream": "stdout",
       "text": [
        " ['assistant hospital administrator', 'Linda Rogers', False]\n",
        "1164 ['from Avon, Connecticut...', 'Joseph Henares', False]\n",
        "1165 ['bank teller', 'John Fitzgibbon', ['43-3071', 'Tellers', 'Bank Teller']]\n",
        "1166 ['high school teacher', 'Vince Mohan', ['MiscTeacher', 'Teacher', 'Teacher']]\n",
        "1167 ['law librarian', 'Carol Reed', ['25-4021', 'Librarians', 'Law Librarian']]\n",
        "1160 ['law librarian', 'Amy Comeau', ['25-4021', 'Librarians', 'Law Librarian']]\n",
        "1161"
       ]
      },
      {
       "output_type": "stream",
       "stream": "stdout",
       "text": [
        " ['professor of management', 'Chip Hunter', False]\n",
        "1162 ['from Madison, Wisconsin...', 'Mitchell Vogel', False]\n",
        "1163 ['from Tualatin, Oregon...', 'Hope Landsem', False]\n",
        "1168 ['attorney', 'Rob Kalisch', ['23-1011', 'Lawyers', 'Attorney']]\n",
        "1169"
       ]
      },
      {
       "output_type": "stream",
       "stream": "stdout",
       "text": [
        " ['from Indianapolis, Indiana...', 'Emily Zhang', False]\n",
        "2035 ['professional healthcare representative', 'Jim Krakar', False]\n",
        "3197 ['attorney', \"Dan O'Rourke\", ['23-1011', 'Lawyers', 'Attorney']]\n",
        "3196 ['advertising copywriter', 'Allen Gallehugh', ['27-3043', 'Writers and Authors', 'Advertising Copywriter']]\n",
        "2034"
       ]
      },
      {
       "output_type": "stream",
       "stream": "stdout",
       "text": [
        " ['homemaker and part-time student', 'Suzel MacCallum', False]\n",
        "3194 ['TV host', 'Chris Matthews', False]\n",
        "3193 ['actress', 'Lauren Graham', ['27-2011', 'Actors', 'Actress']]\n",
        "2785 ['attorney', 'Michael Cahill', ['23-1011', 'Lawyers', 'Attorney']]\n",
        "477 ['assistant dean of students', 'Per Gunnar Hillesoy', False]\n",
        "5252"
       ]
      },
      {
       "output_type": "stream",
       "stream": "stdout",
       "text": [
        " ['surveyor and musician', 'Ben Whitlock', False]\n",
        "3191 ['writer and poet', 'Kevin Stanley', False]\n",
        "5253 ['technology consultant', 'Matt Moline', False]\n",
        "2033 ['systems analyst', 'John Lee', False]\n",
        "5250"
       ]
      },
      {
       "output_type": "stream",
       "stream": "stdout",
       "text": [
        " ['administrative manager', 'Lisa Caucci', False]\n",
        "8552 ['train dispatcher', 'Jeremy Husen', ['43-5032', 'Dispatchers, Except Police, Fire, and Ambulance', 'Train Dispatcher']]\n",
        "8553 ['tax attorney', 'Liz Kelly', ['23-1011', 'Lawyers', 'Tax Attorney']]\n",
        "8550 ['design engineer', 'Stan Siegel', False]\n",
        "5251 ['economic analyst', 'Chad Thompson', False]\n",
        "8008"
       ]
      },
      {
       "output_type": "stream",
       "stream": "stdout",
       "text": [
        " ['Internet security engineer', \"Brendan O'Connor\", False]\n",
        "8009 ['recent law-school graduate', 'Jeff Huong', False]\n",
        "8554 ['legislative researcher', 'Mark Japinga', False]\n",
        "8555"
       ]
      },
      {
       "output_type": "stream",
       "stream": "stdout",
       "text": [
        " ['data and statistics consultant', 'Dawn Owens-Nicholson', False]\n",
        "8004 ['non-profit project coordinator', 'Daniel Pasquini-Salazar', False]\n",
        "2784 ['recent college graduate', 'Spencer Parker', False]\n",
        "8006"
       ]
      },
      {
       "output_type": "stream",
       "stream": "stdout",
       "text": [
        " ['government analyst', 'Michelle Princi', False]\n",
        "8007 ['healthcare worker', 'Margaret Minett-Longdon', False]\n",
        "8000 ['controller', 'Stephanie Kelleher', False]\n",
        "8001 ['university librarian', 'Rochelle Smith', ['25-4021', 'Librarians', 'University Librarian']]\n",
        "8002 ['nanny', 'Joanna Mang', ['39-9011', 'Childcare Workers', 'Nanny']]\n",
        "5257"
       ]
      },
      {
       "output_type": "stream",
       "stream": "stdout",
       "text": [
        " ['Air Force lieutenant colonel', 'Darryl Scott', False]\n",
        "5254 ['training manager', 'Gary Sullivan', False]\n",
        "2032 ['public relations executive', 'George Evanko', False]\n",
        "5255"
       ]
      },
      {
       "output_type": "stream",
       "stream": "stdout",
       "text": [
        " ['homemaker', 'Gayle Gonzalez', False]\n",
        "7469 ['reference librarian', 'Jane Stimpson', ['25-4021', 'Librarians', 'Reference Librarian']]\n",
        "7468 ['director of operations of USC baseball', 'Marty Butterick', False]\n",
        "1368 ['sophomore', 'Rita Hamad', False]\n",
        "7463"
       ]
      },
      {
       "output_type": "stream",
       "stream": "stdout",
       "text": [
        " ['from ...', 'Donna Levin', False]\n",
        "3728 ['legislative consultant', 'Chris Dawson', False]\n",
        "7461 ['actor', 'Allen Galli', False]\n",
        "1369 ['junior', 'Akiva Fox', False]\n",
        "7467"
       ]
      },
      {
       "output_type": "stream",
       "stream": "stdout",
       "text": [
        " ['arts administrator', 'Lisa McDermott', False]\n",
        "1719 ['graduate student', 'Debra Winterton', ['GradStu', 'Graduate student', 'Graduate student']]\n",
        "7465 ['librarian', 'Cathy Markwiese', False]\n",
        "1864 ['chemistry professor', 'Mike Adams', ['25-1052', 'Chemistry Teachers, Postsecondary', 'Chemistry Professor']]\n",
        "1718 ['software tester', 'Lara Beaton', False]\n",
        "2031 ['high school biology teacher', 'Andrea Yanes', ['MiscTeacher', 'Teacher', 'Teacher']]\n",
        "1869 ['university professor', 'Erika Engstrom', False]\n",
        "1868 ['ESL teacher and program coordinator', 'Kathleen Larkey', ['MiscTeacher', 'Teacher', 'Teacher']]\n",
        "2030"
       ]
      },
      {
       "output_type": "stream",
       "stream": "stdout",
       "text": [
        " ['systems project manager', 'Kathy Widmayer', False]\n",
        "4686 ['law student', 'John Oleske', False]\n",
        "4687 ['high school English and math teacher', 'Dan Inloes', ['MiscTeacher', 'Teacher', 'Teacher']]\n",
        "4684 ['attorney', 'Amy McEntee', ['23-1011', 'Lawyers', 'Attorney']]\n",
        "4685 ['writer', 'Michelle Roufa', False]\n",
        "4682 ['research assistant', 'Mihee Kim', False]\n",
        "4683"
       ]
      },
      {
       "output_type": "stream",
       "stream": "stdout",
       "text": [
        " ['cargo handler', 'Mike Lenahan', ['53-7062', 'Laborers and Freight, Stock, and Material Movers, Hand', 'Cargo Handler']]\n",
        "4732 ['stay-at-home mom', 'Cristina Martin', False]\n",
        "4733 ['school librarian', 'Clara Bolton', ['25-4021', 'Librarians', 'School Librarian']]\n",
        "4730 ['public relations consultant', 'Jeanne-Marie Baron', False]\n",
        "4731"
       ]
      },
      {
       "output_type": "stream",
       "stream": "stdout",
       "text": [
        " ['college professor', 'Joe Lane', False]\n",
        "4736 ['public defender', 'Jeff Harmon', ['23-1011', 'Lawyers', 'Public Defender']]\n",
        "4737 ['graduate student', 'Sara Morrison', ['GradStu', 'Graduate student', 'Graduate student']]\n",
        "2318 ['pet writer', 'Deborah Wood', False]\n",
        "2319 ['promotions associate', 'Kim Tavares', False]\n",
        "2316 ['business manager', 'Christine Walker', False]\n",
        "2317"
       ]
      },
      {
       "output_type": "stream",
       "stream": "stdout",
       "text": [
        " ['college sports consultant', 'Joel Zuercher', False]\n",
        "2314 ['college student', 'Amanda Brown', False]\n",
        "2315 ['stockbroker', 'Kevin Au', False]\n",
        "2312"
       ]
      },
      {
       "output_type": "stream",
       "stream": "stdout",
       "text": [
        " ['human resources director', 'Tom Unsworth', False]\n",
        "2313 ['sales manager', 'Mark Lee', False]\n",
        "2310 ['Air Force officer', 'Bob Boyd', False]\n",
        "2311 ['secretary and student', 'Marcy Rosewall', False]\n",
        "5854"
       ]
      },
      {
       "output_type": "stream",
       "stream": "stdout",
       "text": [
        " ['scene designer', 'Mark Halpin', False]\n",
        "5855 ['physician', 'Kelley Halstead', False]\n",
        "5856 ['file clerk', 'Brian Stack', ['43-4071', 'File Clerks', 'File Clerk']]\n",
        "5857 ['librarian and graphics specialist', 'Diane Trap', False]\n",
        "5850"
       ]
      },
      {
       "output_type": "stream",
       "stream": "stdout",
       "text": [
        " ['consultant', 'Lee Weber', False]\n",
        "5851 ['homemaker', 'Dianne Scorese', False]\n",
        "5852 ['singer and voice teacher', 'Jennifer Seiger', ['MiscTeacher', 'Teacher', 'Teacher']]\n",
        "5853 ['attorney', 'Deepak Tamasker', ['23-1011', 'Lawyers', 'Attorney']]\n",
        "5858 ['senior', 'John Matthews', False]\n",
        "5859 ['senior', 'Stephanie Ehresman', False]\n",
        "3773"
       ]
      },
      {
       "output_type": "stream",
       "stream": "stdout",
       "text": [
        " ['ad agency account executive', 'Heather Derby', False]\n",
        "3772 ['film critic and writer', 'James Rocchi', False]\n",
        "3771 ['corporate market analyst', 'Keith VanDen Heuvel', False]\n",
        "3770"
       ]
      },
      {
       "output_type": "stream",
       "stream": "stdout",
       "text": [
        " ['homemaker', 'Lisa Cope', False]\n",
        "3777 ['event coordinator', 'Katy Hardy', False]\n",
        "3776 ['newspaper columnist', 'Carlos Alcala', ['27-3022', 'Reporters and Correspondents', 'Newspaper Columnist']]\n",
        "3775 ['project manager', 'David Turley', False]\n",
        "3774"
       ]
      },
      {
       "output_type": "stream",
       "stream": "stdout",
       "text": [
        " ['air traffic controller', 'Grace Tighe', ['53-2021', 'Air Traffic Controllers', 'Air Traffic Controller']]\n",
        "3779 ['film student', 'Michelle Bowen-Ziecheck', False]\n",
        "3778 ['internet consultant', 'Sabin Speiser', False]\n",
        "4655 ['sample specialist', 'Babatope Ogunmola', False]\n",
        "4654 ['facilities manager', 'Dane Bevan', ['11-3011', 'Administrative Services Managers', 'Facilities Manager']]\n",
        "4657"
       ]
      },
      {
       "output_type": "stream",
       "stream": "stdout",
       "text": [
        " ['librarian', 'Lauren Gilbert', False]\n",
        "4656 ['librarian', 'Adrienne Horrigan', False]\n",
        "4651 ['paratrooper', 'Brian Keenan', False]\n",
        "4650 ['graduate student', 'Robin LeMaster', ['GradStu', 'Graduate student', 'Graduate student']]\n",
        "4653 ['college admissions officer', 'Beth Slattery', False]\n",
        "4652"
       ]
      },
      {
       "output_type": "stream",
       "stream": "stdout",
       "text": [
        " ['English professor', 'Ajuan Mance', False]\n",
        "4659 ['educational consultant', 'Joanne Aswell', False]\n",
        "4658 ['theatrical technical director', 'Delano Lopez', False]\n",
        "7889"
       ]
      },
      {
       "output_type": "stream",
       "stream": "stdout",
       "text": [
        " ['librarian', 'Ellen Jacobs', False]\n",
        "7888 ['wine merchant', 'Rick Geyer', False]\n",
        "7881 ['landscape designer', 'Tim Wong', ['17-1012', 'Landscape Architects', 'Landscape Designer']]\n",
        "7880 ['graduate student of political science', 'Jon Shoup', ['GradStu', 'Graduate student', 'Graduate student']]\n",
        "7883 ['graduate student and member of The Order of the Sisters of Notre Dame', 'Eileen Quinlan', ['GradStu', 'Graduate student', 'Graduate student']]\n",
        "7882 ['editor and musicologist', 'Anna-Lise Santella', False]\n",
        "7885"
       ]
      },
      {
       "output_type": "stream",
       "stream": "stdout",
       "text": [
        " ['stay-at-home mom', 'Amy Paull', False]\n",
        "7884 ['grants and contracts coordinator', 'Lindsay Shields', False]\n",
        "7887 ['media relations specialist and science writer', 'Jia-Rui Cook', False]\n",
        "7886 ['attorney', 'Matt Samberg', ['23-1011', 'Lawyers', 'Attorney']]\n",
        "108"
       ]
      },
      {
       "output_type": "stream",
       "stream": "stdout",
       "text": [
        " ['senior at the University of Wisconsin - Green Bay', 'Christina Maes', False]\n",
        "109 ['sophomore at Florida State', 'Brad Selvig', False]\n",
        "102 ['junior at Georgetown University', 'Matt Bushell', False]\n",
        "103"
       ]
      },
      {
       "output_type": "stream",
       "stream": "stdout",
       "text": [
        " ['junior at West Virginia University', 'Kelley Burd', False]\n",
        "100 ['sophomore at Stanford University', 'Jeff Love', False]\n",
        "101 ['sophomore at the University of Pittsburgh', 'Amanda Nowotny', False]\n",
        "106"
       ]
      },
      {
       "output_type": "stream",
       "stream": "stdout",
       "text": [
        " ['senior at Williams College', 'Ari Schoenholtz', False]\n",
        "107 ['junior at Columbia University', 'Lily Wang', False]\n",
        "104 ['junior at the University of Missouri', 'Larry Marshall', False]\n",
        "105"
       ]
      },
      {
       "output_type": "stream",
       "stream": "stdout",
       "text": [
        " ['senior at the University of Texas', 'Lindsey Hargrove', False]\n",
        "6056 ['actor', 'Rob Schneider', False]\n",
        "7517 ['freelance editor', 'Liz Good', False]\n",
        "7269 ['aspiring novelist', 'Trey McCraw', False]\n",
        "7268"
       ]
      },
      {
       "output_type": "stream",
       "stream": "stdout",
       "text": [
        " ['health care attorney', \"Denise O'Connor\", False]\n",
        "7516 ['stay-at-home mom', 'Katie Proctor', False]\n",
        "7265 ['graduate student', 'Michael Brown', ['GradStu', 'Graduate student', 'Graduate student']]\n",
        "7264 ['human resources and finance manager', 'Connie McClung', False]\n",
        "7267"
       ]
      },
      {
       "output_type": "stream",
       "stream": "stdout",
       "text": [
        " ['pig and chicken farmer', 'Eric Sebert', False]\n",
        "7266 ['online managing editor', 'Julie Ross Godar', False]\n",
        "7261 ['higher education management consultant', 'Barry Cohen', False]\n",
        "7260"
       ]
      },
      {
       "output_type": "stream",
       "stream": "stdout",
       "text": [
        " ['stay-at-home mother', 'Megan Barnes', False]\n",
        "7263 ['freelance editor', 'Jamie Santo', False]\n",
        "7262 ['family physician', 'Janet Russell', ['29-1062', 'Family and General Practitioners', 'Family Physician']]\n",
        "6204 ['biology student', 'Chris Hernandez', False]\n",
        "6205 ['publications editor', 'Meg Wall-Wild', ['27-3041', 'Editors', 'Publications Editor']]\n",
        "6206 ['high school teacher', 'Dave Fuller', ['MiscTeacher', 'Teacher', 'Teacher']]\n",
        "6207 ['writer', 'Tom Walsh', False]\n",
        "6200"
       ]
      },
      {
       "output_type": "stream",
       "stream": "stdout",
       "text": [
        " ['twelve-year-old', 'Josh Charnin-Aker', False]\n",
        "6201 ['electrical engineer', 'Nelson Jesudas', ['17-2071', 'Electrical Engineers', 'Electrical Engineer']]\n",
        "6202 ['copyright attorney', 'Shima Majidi', False]\n",
        "6203 ['college student', 'Najah Ali', False]\n",
        "7513 ['graduate student in rhetoric and writing', 'Franny Howes', ['GradStu', 'Graduate student', 'Graduate student']]\n",
        "6208"
       ]
      },
      {
       "output_type": "stream",
       "stream": "stdout",
       "text": [
        " ['American lit doctoral student', 'Joe Webb', False]\n",
        "6209 ['attorney', 'Jessica Harry', ['23-1011', 'Lawyers', 'Attorney']]\n",
        "7512 ['Renaissance player and trivia host', 'Michael Stewart', False]\n",
        "7511 ['English professor', 'Ashley Shannon', False]\n",
        "6808"
       ]
      },
      {
       "output_type": "stream",
       "stream": "stdout",
       "text": [
        " ['franchise business manager', 'Doug Ralls', False]\n",
        "6809 ['construction inspector', 'Arthur Stephenson', ['47-4011', 'Construction and Building Inspectors', 'Construction Inspector']]\n",
        "6806 ['elementary schoolteacher', 'Barbara Craig-Nichols', ['MiscTeacher', 'Teacher', 'Teacher']]\n",
        "6807 ['casino dealer', 'David Juliano', ['39-3011', 'Gaming Dealers', 'Casino Dealer']]\n",
        "6804 ['quality engineer', 'Carl Saras', False]\n",
        "6805 ['high school math teacher', 'Kathy Kenny', ['MiscTeacher', 'Teacher', 'Teacher']]\n",
        "6802"
       ]
      },
      {
       "output_type": "stream",
       "stream": "stdout",
       "text": [
        " ['history professor', 'Chris Staaf', False]\n",
        "6803 ['librarian', 'Hilary Caws-Elwitt', False]\n",
        "6800 ['computer programmer', 'Patsy Chrysson', ['15-1131', 'Computer Programmers', 'Computer Programmer']]\n",
        "6801 ['high school history teacher', 'Phil Bucska', ['MiscTeacher', 'Teacher', 'Teacher']]\n",
        "8839 ['law-enforcement specialist', \"Bridget O'Donnell\", False]\n",
        "8838 ['creative director', 'John Coulter', False]\n",
        "8835"
       ]
      },
      {
       "output_type": "stream",
       "stream": "stdout",
       "text": [
        " ['web content producer', 'Armen Terjimanian', False]\n",
        "8834 ['teacher and tutor', 'Alexis Browsh', ['MiscTeacher', 'Teacher', 'Teacher']]\n",
        "8837 ['server', 'Alyson Murray', False]\n",
        "8836 ['actor', 'Reggie Austin', False]\n",
        "8831 ['customer service analyst', 'Avram Polinsky', False]\n",
        "8830"
       ]
      },
      {
       "output_type": "stream",
       "stream": "stdout",
       "text": [
        " ['online editor', 'Kathy Cacace', False]\n",
        "8833 ['graduate student and sales manager', 'Genevieve LeClerc', ['GradStu', 'Graduate student', 'Graduate student']]\n",
        "8832 ['writer', 'Jerry Slowik', False]\n",
        "7678 ['junior at Eastern Illinois University', 'Anne Rozek', False]\n",
        "7679"
       ]
      },
      {
       "output_type": "stream",
       "stream": "stdout",
       "text": [
        " ['sophomore at the George Washington University', 'Jaime Alayon', False]\n",
        "7676 ['freshman at Cal Poly San Luis Obispo', 'Weston Mangin', False]\n",
        "7677 ['junior at the University of Michigan', 'Connie Shi', False]\n",
        "7674"
       ]
      },
      {
       "output_type": "stream",
       "stream": "stdout",
       "text": [
        " ['freshman at Harvard', 'Carrie Tian', False]\n",
        "7675 ['sophomore at Loyola University Chicago', 'Charlie Rooney', False]\n",
        "7672 ['sportscaster', 'Danny Parra', False]\n",
        "7673"
       ]
      },
      {
       "output_type": "stream",
       "stream": "stdout",
       "text": [
        " ['newspaper staff writer', 'Kate Jeracki', False]\n",
        "7670 ['surgical nurse', 'Ellen Ciompi', False]\n",
        "7671 ['student of Slavic Studies', 'Patrick Morrison', False]\n",
        "1759 ['lawyer', 'Kevin Welber', ['23-1011', 'Lawyers', 'Lawyer']]\n",
        "1758 ['journalism student', 'Vinnie Iyer', False]\n",
        "1757"
       ]
      },
      {
       "output_type": "stream",
       "stream": "stdout",
       "text": [
        " ['paralegal', 'Diane Graft', ['23-2011', 'Paralegals and Legal Assistants', 'Paralegal']]\n",
        "1756 ['stage carpenter', 'Corey Burke', False]\n",
        "1755 ['library science student', 'Jenne Bergstrom', False]\n",
        "1754"
       ]
      },
      {
       "output_type": "stream",
       "stream": "stdout",
       "text": [
        " ['software engineer', 'Anthony Alford', False]\n",
        "1753 ['retired attorney', 'Bruce Janger', False]\n",
        "1752 ['college English professor', 'Mark Hughes', False]\n",
        "1751 ['project manager', 'Brian Weikle', False]\n",
        "1750"
       ]
      },
      {
       "output_type": "stream",
       "stream": "stdout",
       "text": [
        " ['freelance graphic designer', 'Marianne Matte', False]\n",
        "1285 ['attorney', 'Bill MacDonald', ['23-1011', 'Lawyers', 'Attorney']]\n",
        "1284 ['pop music critic', 'Claudia Perry', False]\n",
        "1287 ['industrial designer', 'Kurt Bodden', False]\n",
        "1286"
       ]
      },
      {
       "output_type": "stream",
       "stream": "stdout",
       "text": [
        " ['communications consultant', 'Jeanne McDougall', False]\n",
        "1281 ['writer', 'Mario Zaragoza', False]\n",
        "1280 ['graduate student', 'Michael Cramer', ['GradStu', 'Graduate student', 'Graduate student']]\n",
        "1283 ['engineer', 'Jody Hart', False]\n",
        "1282 ['community college professor', 'Cindy Giddle', False]\n",
        "1289"
       ]
      },
      {
       "output_type": "stream",
       "stream": "stdout",
       "text": [
        " ['high school director', 'Scott Zimmerman', False]\n",
        "1288 ['medical administrator', 'Nancy Senter', False]\n",
        "8765 ['travel planner', 'Sarah Orman', False]\n",
        "8764 ['Ph.D. student and teaching assistant', 'Kellie Herson', False]\n",
        "1579"
       ]
      },
      {
       "output_type": "stream",
       "stream": "stdout",
       "text": [
        " ['junior', 'Allison Pe\\xf1a', False]\n",
        "1578 ['junior', 'Kenny Schlax', False]\n",
        "689 ['law professor at the University of Tulsa', 'Kate Waits', False]\n",
        "688 ['taxi driver', 'Randy Haplan', False]\n",
        "8763 ['student teacher', 'Evan Voorn', ['MiscTeacher', 'Teacher', 'Teacher']]\n",
        "8762"
       ]
      },
      {
       "output_type": "stream",
       "stream": "stdout",
       "text": [
        " ['corporate finance manager', 'Rani Peffer', False]\n",
        "1573 ['student', 'Patrick Brannon', False]\n",
        "1572 ['senior', 'Camille Bullock', False]\n",
        "1571 ['junior', 'Joseph Graumann', False]\n",
        "1570 ['junior', 'Iddoshe Hirpa', False]\n",
        "1577 ['paralegal', 'Kim Simkins', ['23-2011', 'Paralegals and Legal Assistants', 'Paralegal']]\n",
        "1576"
       ]
      },
      {
       "output_type": "stream",
       "stream": "stdout",
       "text": [
        " ['writer', 'Richard Dargan', False]\n",
        "1575 ['law student', 'Al Lin', False]\n",
        "1574 ['reporter', 'Deborah Yaffe', False]\n",
        "8501 ['advertising creative director', 'John Simpson', False]\n",
        "8500"
       ]
      },
      {
       "output_type": "stream",
       "stream": "stdout",
       "text": [
        " ['magazine and website editor', 'Britta Waller', False]\n",
        "1240 ['junior at Boston University', 'Beth Cimini', False]\n",
        "8503 ['vice president of legislative relations', 'Mike Petrina', False]\n",
        "8502"
       ]
      },
      {
       "output_type": "stream",
       "stream": "stdout",
       "text": [
        " ['Ph.D. student in history', 'Padraic Scanlan', False]\n",
        "8505 ['teacher', 'Donald Burgo', ['MiscTeacher', 'Teacher', 'Teacher']]\n",
        "8504 ['attorney', 'Kathy Collins', ['23-1011', 'Lawyers', 'Attorney']]\n",
        "8507 ['research analyst', 'Gabe Gales', False]\n",
        "5629 ['estate and trust attorney', 'Randy Harris', False]\n",
        "5628 ['library assistant', 'Sherry Harley', ['43-4121', 'Library Assistants, Clerical', 'Library Assistant']]\n",
        "5627"
       ]
      },
      {
       "output_type": "stream",
       "stream": "stdout",
       "text": [
        " ['software project manager', 'Jimmy Ogden', False]\n",
        "5626 ['public defender', 'Joanne Daley', ['23-1011', 'Lawyers', 'Public Defender']]\n",
        "5625 ['credit specialist', 'Ben Dufour', False]\n",
        "5624 ['research scientist', 'Jason Affourtit', False]\n",
        "5623 ['computer programmer', 'Laurie Zorn', ['15-1131', 'Computer Programmers', 'Computer Programmer']]\n",
        "5622"
       ]
      },
      {
       "output_type": "stream",
       "stream": "stdout",
       "text": [
        " ['personal success coach', 'Max Levaren', False]\n",
        "5621 ['educational development specialist', \"Rob O'Leary\", False]\n",
        "5620 ['construction worker', 'Anthony Trifilio', False]\n",
        "8493 ['TV star', 'Sinbad', False]\n",
        "8492"
       ]
      },
      {
       "output_type": "stream",
       "stream": "stdout",
       "text": [
        " ['Man of Steel', 'Dean Cain', False]\n",
        "8491 ['one of the brightest stars', 'Elayne Boosler', False]\n",
        "8490 ['star', 'Leslie Nielsen', False]\n",
        "8497 ['teacher', 'Judy Pinder', ['MiscTeacher', 'Teacher', 'Teacher']]\n",
        "8496 ['computer consultant', 'Peter Blatman', False]\n",
        "8495"
       ]
      },
      {
       "output_type": "stream",
       "stream": "stdout",
       "text": [
        " ['TV actor', 'Harry Anderson', False]\n",
        "8494 ['Tony award nominee and TV star', 'Tim Daly', False]\n",
        "8499 ['college admissions officer', 'Joel Hart', False]\n",
        "8498 ['probation officer', 'Richard Rasmussen', ['21-1092', 'Probation Officers and Correctional Treatment Specialists', 'Probation Officer']]\n",
        "1242"
       ]
      },
      {
       "output_type": "stream",
       "stream": "stdout",
       "text": [
        " ['junior at the University of Maryland', 'Alison Jenik', False]\n",
        "5995 ['sixth-grade teacher', 'Julio Alvarez', ['MiscTeacher', 'Teacher', 'Teacher']]\n",
        "5994 ['accounts payable clerk', 'Pat Miller', False]\n",
        "5997 ['high school assistant principal', 'Larry Sullivan', False]\n",
        "5996"
       ]
      },
      {
       "output_type": "stream",
       "stream": "stdout",
       "text": [
        " ['student', 'Jean Cui', False]\n",
        "5991 ['entertainment executive', 'Helen Springut', False]\n",
        "5990 ['legislative staffer', 'Justin Klos', False]\n",
        "5993 ['courier', 'Benny Meyers', ['43-5021', 'Couriers and Messengers', 'Courier']]\n",
        "5992 ['health scientist', 'Megan Lindley', False]\n",
        "5999 ['eighth grade English teacher', 'Andrew Swan', ['MiscTeacher', 'Teacher', 'Teacher']]\n",
        "5998"
       ]
      },
      {
       "output_type": "stream",
       "stream": "stdout",
       "text": [
        " ['flight attendant', 'Toni Vitanza', False]\n",
        "1245 ['substitute teacher & carpenter', 'Andy Jackson', ['MiscTeacher', 'Teacher', 'Teacher']]\n",
        "7499 ['medical techologist', 'Judy Senecal', False]\n",
        "1244 ['senior at North Carolina Central University', 'Malisha Butts', False]\n",
        "6781"
       ]
      },
      {
       "output_type": "stream",
       "stream": "stdout",
       "text": [
        " ['video game lawyer', 'Marv Pe\\xf1a', False]\n",
        "1247 ['junior at Gonzaga University', 'Amanda Walker', False]\n",
        "6783 ['director of volunteers at a community center', 'Sarah Sumadi', False]\n",
        "6782"
       ]
      },
      {
       "output_type": "stream",
       "stream": "stdout",
       "text": [
        " ['non-profit technology consultant', 'Jack Aponte', False]\n",
        "6785 ['retired high school teacher', 'Debbie Russell', ['MiscTeacher', 'Teacher', 'Teacher']]\n",
        "6784 ['account manager', 'Amanda Lahan', False]\n",
        "6787 ['forensic scientist', 'Arthur Christy', False]\n",
        "6786 ['bartender', 'Andrew Sidden', ['35-3011', 'Bartenders', 'Bartender']]\n",
        "6789 ['high school social studies teacher', 'Ian Silverman', ['MiscTeacher', 'Teacher', 'Teacher']]\n",
        "6788 ['laboratory animal veterinarian', 'Charlotte Hotchkiss', False]\n",
        "1246"
       ]
      },
      {
       "output_type": "stream",
       "stream": "stdout",
       "text": [
        " ['railroad conductor', 'Gene Ballesty', False]\n",
        "7498 ['law student', 'Stuart Wald', False]\n",
        "245 ['senior', 'Kerri Regan', False]\n",
        "244 ['Ph.D. candidate', 'Brian Moore', False]\n",
        "247 ['junior', 'Ruvani Fonseka', False]\n",
        "246"
       ]
      },
      {
       "output_type": "stream",
       "stream": "stdout",
       "text": [
        " ['junior', 'Steve Golden', False]\n",
        "241 ['junior', 'Michael Braun', False]\n",
        "240 ['junior', 'Vanamali Compton', False]\n",
        "243 ['attorney', 'Rachael Schwartz', ['23-1011', 'Lawyers', 'Attorney']]\n",
        "242 ['scientist', 'Kurt Bray', False]\n",
        "249 ['freshman', 'Allan Long', False]\n",
        "248"
       ]
      },
      {
       "output_type": "stream",
       "stream": "stdout",
       "text": [
        " ['sophomore', 'Whitney Prince', False]\n",
        "7493 ['medical student', 'Daniel Okobi, Jr.', False]\n",
        "7490 ['college physics teacher', 'Joon Pahk', ['MiscTeacher', 'Teacher', 'Teacher']]\n",
        "7491 ['attorney', 'Megan Johnson', ['23-1011', 'Lawyers', 'Attorney']]\n",
        "3698 ['freshman', 'Ashley Grand', False]\n",
        "3699 ['sophomore', 'Cliff Galiher', False]\n",
        "1366 ['writer', 'James Reeves', False]\n",
        "3690"
       ]
      },
      {
       "output_type": "stream",
       "stream": "stdout",
       "text": [
        " ['junior', 'Hayley Clatterbuck', False]\n",
        "3691 ['junior', 'Brady Cassis', False]\n",
        "3692 ['senior', 'Craig Boge', False]\n",
        "3693 ['attorney', 'Rick Schweitzer', ['23-1011', 'Lawyers', 'Attorney']]\n",
        "3694 ['quality assurance manager', 'Melissa Gaul', False]\n",
        "3695 ['graduate student', 'Daniel Ellis', ['GradStu', 'Graduate student', 'Graduate student']]\n",
        "3696"
       ]
      },
      {
       "output_type": "stream",
       "stream": "stdout",
       "text": [
        " ['online journalist', 'Stephanie Overby', False]\n",
        "3697 ['senior', 'Pete Troyan', False]\n",
        "1367 ['business writer', 'Amy Johnson', False]\n",
        "3526 ['attorney', 'Amy Choyke', ['23-1011', 'Lawyers', 'Attorney']]\n",
        "3527 ['stockbroker', 'Kevin Friloux', False]\n",
        "3524 ['graduate student', 'Becky Powell', ['GradStu', 'Graduate student', 'Graduate student']]\n",
        "3525 ['film student', 'Rich Clarey', False]\n",
        "3522"
       ]
      },
      {
       "output_type": "stream",
       "stream": "stdout",
       "text": [
        " ['journalist', 'Summer Douglass', False]\n",
        "3523 ['hockey referee supervisor and computer network specialist', 'Joe Miazgowicz', False]\n",
        "3520 ['homemaker', 'Mary Mindel', False]\n",
        "3521 ['attorney', 'Ben Bass', ['23-1011', 'Lawyers', 'Attorney']]\n",
        "3528"
       ]
      },
      {
       "output_type": "stream",
       "stream": "stdout",
       "text": [
        " ['office manager', 'Julie Moncrieff', False]\n",
        "3529 ['senior manager', 'Patrick Brannan', False]\n",
        "1364 ['English teacher', 'Erin McGurgan', ['MiscTeacher', 'Teacher', 'Teacher']]\n",
        "2699 ['attorney', 'Mick Malicki', ['23-1011', 'Lawyers', 'Attorney']]\n",
        "2698 ['high school teacher', 'Eric Grunden', ['MiscTeacher', 'Teacher', 'Teacher']]\n",
        "2697 ['graduate student', 'Seth McElvaney', ['GradStu', 'Graduate student', 'Graduate student']]\n",
        "2696 ['registered nurse', 'Liz Klausky', ['29-1141', 'Registered Nurses', 'Registered Nurse']]\n",
        "2695 ['marketing director', 'John Hammond', ['11-2021', 'Marketing Managers', 'Marketing Director']]\n",
        "2694 ['management consultant', 'Charlotte Travieso', ['13-1111', 'Management Analysts', 'Management Consultant']]\n",
        "2693 ['TV producer', 'Mike Davison', False]\n",
        "2692"
       ]
      },
      {
       "output_type": "stream",
       "stream": "stdout",
       "text": [
        " ['chemical engineer', 'Brian Hamill', False]\n",
        "2691 ['graduate student', 'Eileen Davenport', ['GradStu', 'Graduate student', 'Graduate student']]\n",
        "2690 ['copy editor', 'Liz Channon', ['27-3041', 'Editors', 'Copy Editor']]\n",
        "1362 ['junior', 'Audrey Droesch', False]\n",
        "1363 ['freshman', 'Matthew Burgess', False]\n",
        "1360 ['senior', 'Chad Bell', False]\n",
        "1361 ['junior', 'Faith Hillis', False]\n",
        "1142"
       ]
      },
      {
       "output_type": "stream",
       "stream": "stdout",
       "text": [
        " ['sports reporter', 'Eddie Timanus', False]\n",
        "1143 ['manager of a research lab', 'Leslie Shannon', False]\n",
        "1140 ['lawyer and CEO', 'Chuck Forrest', False]\n",
        "1141 ['film journalist and test prep teacher', 'Bob Verini', ['MiscTeacher', 'Teacher', 'Teacher']]\n",
        "1146 ['from Centreville, Virginia...', 'Pranita Ramakrishnan', False]\n",
        "1147"
       ]
      },
      {
       "output_type": "stream",
       "stream": "stdout",
       "text": [
        " ['audiologist', 'Maria Canavan', ['29-1181', 'Audiologists', 'Audiologist']]\n",
        "1144 ['from Yonkers, New York...', 'Andrew Vogl', False]\n",
        "1145 ['from Placentia, California...', 'Madeline Suchard', False]\n",
        "1148"
       ]
      },
      {
       "output_type": "stream",
       "stream": "stdout",
       "text": [
        " [\"pathologist's assistant\", 'Tisa Lawless', False]\n",
        "1149 ['from the Bronx, New York...', 'Dylan Smith', False]\n",
        "768 ['systems project manager', 'Tricia McRae', False]\n",
        "769"
       ]
      },
      {
       "output_type": "stream",
       "stream": "stdout",
       "text": [
        " ['service consultant', 'Kevin Blackley', False]\n",
        "1745 ['food pantry supervisor', 'Louise Hauser', False]\n",
        "7199 ['assistant professor', 'Milind Kulkarni', False]\n",
        "7198 ['actor', 'Daniel Cohen', False]\n",
        "7193 ['graduate student of English', 'Erin Beach', ['GradStu', 'Graduate student', 'Graduate student']]\n",
        "7192"
       ]
      },
      {
       "output_type": "stream",
       "stream": "stdout",
       "text": [
        " ['homemaker', 'Phyllis McDonald', False]\n",
        "7191 ['account executive', 'Frank Hughes', False]\n",
        "7190 ['attorney', 'Judy Kilbane Koch', ['23-1011', 'Lawyers', 'Attorney']]\n",
        "7197 ['high school vice principal', 'Sean Priest', False]\n",
        "7196"
       ]
      },
      {
       "output_type": "stream",
       "stream": "stdout",
       "text": [
        " ['customer service representative', 'Rachel LeCroy', False]\n",
        "7195 ['bank teller and substitute teacher', 'Keagan Baker', ['MiscTeacher', 'Teacher', 'Teacher']]\n",
        "7194 ['web programmer', 'Paul Wampler', False]\n",
        "6402 ['electronics broker', 'Geoff Strain', False]\n",
        "6403 ['freelance sportswriter', 'Emma Span', False]\n",
        "766 ['teacher and athletic director', 'Brice Sunderland', ['MiscTeacher', 'Teacher', 'Teacher']]\n",
        "6400"
       ]
      },
      {
       "output_type": "stream",
       "stream": "stdout",
       "text": [
        " ['flight controls engineer', 'Nathan Murphy', False]\n",
        "767 ['research administrator', 'Rosemarie Keenan', False]\n",
        "8538 ['homemaker', 'Mary Frances Smith', False]\n",
        "8539 ['letter carrier', 'Jim Crawford', ['43-5052', 'Postal Service Mail Carriers', 'Letter Carrier']]\n",
        "8028"
       ]
      },
      {
       "output_type": "stream",
       "stream": "stdout",
       "text": [
        " ['technology journalist', 'Glenn Fleishman', False]\n",
        "6401 ['attorney', 'Ed Kim', ['23-1011', 'Lawyers', 'Attorney']]\n",
        "8022 ['stay-at-home dad', 'Carlo Abulencia', False]\n",
        "6406 ['computer programmer', 'Wilson Lee', ['15-1131', 'Computer Programmers', 'Computer Programmer']]\n",
        "8020 ['resident physician in internal medicine', 'Ricky Leiter', False]\n",
        "8021"
       ]
      },
      {
       "output_type": "stream",
       "stream": "stdout",
       "text": [
        " ['climate change specialist', 'Shaanti Kapila', False]\n",
        "8026 ['claims processor and sports broadcaster', 'Tom Conn', False]\n",
        "8027 ['teaching artist', 'Erin McCready', False]\n",
        "8024"
       ]
      },
      {
       "output_type": "stream",
       "stream": "stdout",
       "text": [
        " ['university athletic department tutor', 'Jan Walkenhorst', False]\n",
        "6407 ['legislative aide', 'Abra Belke', False]\n",
        "7441 ['freelance orchestra conductor', 'Jerry Hou', False]\n",
        "7440"
       ]
      },
      {
       "output_type": "stream",
       "stream": "stdout",
       "text": [
        " ['communications professional', 'Janet Vigen Levy', False]\n",
        "7443 ['plastic surgeon', 'Tom Vaughan', ['29-1067', 'Surgeons', 'Plastic Surgeon']]\n",
        "7442 ['mom and tutor', 'Karawan Meade', False]\n",
        "7445 ['truck driver', 'Zac Youngblood', False]\n",
        "6404 ['math and science teacher', 'Jeff Kirby', ['MiscTeacher', 'Teacher', 'Teacher']]\n",
        "7447"
       ]
      },
      {
       "output_type": "stream",
       "stream": "stdout",
       "text": [
        " ['word processing supervisor', 'Al Cotton', False]\n",
        "7446 ['social studies and English teacher', 'Maria Boyland', ['MiscTeacher', 'Teacher', 'Teacher']]\n",
        "7449 ['content manager', 'Samer Ismail', False]\n",
        "7448 ['academic advisor', 'Brian McEntee', False]\n",
        "6405 ['writer', 'David Abolafia', False]\n",
        "8185 ['history professor', 'Stephanie Jass', False]\n",
        "8184"
       ]
      },
      {
       "output_type": "stream",
       "stream": "stdout",
       "text": [
        " ['Senate staff aide', 'Paul Nelson', False]\n",
        "8187 ['law student', 'David Menchaca', False]\n",
        "8186 ['high school world history teacher', 'Colby Burnett', ['MiscTeacher', 'Teacher', 'Teacher']]\n",
        "4282 ['artist', 'Michael Boisson', False]\n",
        "4283 ['housewife and mother', 'Barbara Frascelli', False]\n",
        "4280 ['office assistant', 'Shad Small', ['43-9061', 'Office Clerks, General', 'Office Assistant']]\n",
        "4281 ['attorney', 'Linda Zell Randall', ['23-1011', 'Lawyers', 'Attorney']]\n",
        "4286"
       ]
      },
      {
       "output_type": "stream",
       "stream": "stdout",
       "text": [
        " ['senior at UC San Diego', 'Darren Bates', False]\n",
        "4287 ['sophomore at Hollins University', 'Marcail Moran', False]\n",
        "4284 ['law student', 'Clare Willis', False]\n",
        "4285"
       ]
      },
      {
       "output_type": "stream",
       "stream": "stdout",
       "text": [
        " ['senior at Drew University', 'Janet Wong', False]\n",
        "4288 ['publisher', 'Nick Swezey', False]\n",
        "4289 ['executive assistant', 'Lee Ann Farmer', ['43-6011', 'Executive Secretaries and Executive Administrative Assistants', 'Executive Assistant']]\n",
        "380 ['elementary school teacher', 'Lorrie Farrely', ['MiscTeacher', 'Teacher', 'Teacher']]\n",
        "381 ['civil rights attorney', 'Paul Boymel', False]\n",
        "382"
       ]
      },
      {
       "output_type": "stream",
       "stream": "stdout",
       "text": [
        " ['associate director of consumer marketing', 'Andrew Garen', False]\n",
        "383 ['attorney', 'Ed Schiffer', ['23-1011', 'Lawyers', 'Attorney']]\n",
        "384 ['museum educator', 'Brian Keliher', False]\n",
        "385 ['professor', 'Dan Melia', False]\n",
        "386 ['teaching assistant', 'Patrick Friel', False]\n",
        "387"
       ]
      },
      {
       "output_type": "stream",
       "stream": "stdout",
       "text": [
        " ['librarian', 'Grace Veach', False]\n",
        "388 ['sophomore at Middlebury College', 'Keith Williams', False]\n",
        "389 ['bookstore manager', 'John LeDonne', False]\n",
        "4758"
       ]
      },
      {
       "output_type": "stream",
       "stream": "stdout",
       "text": [
        " ['prospect research coordinator', 'Sara Boretz', False]\n",
        "4759 ['student affairs director', 'John Byrne', False]\n",
        "4750 ['librarian', \"Janet O'Keefe\", False]\n",
        "4751 ['operations manager', 'Kyung Ro', ['11-1021', 'General and Operations Managers', 'Operations Manager']]\n",
        "4752"
       ]
      },
      {
       "output_type": "stream",
       "stream": "stdout",
       "text": [
        " ['beer merchandiser', 'Jeff Sadler', False]\n",
        "4753 ['project manager', 'Alison York', False]\n",
        "4754 ['medical research assistant', 'Lisa Schumaker', False]\n",
        "4755"
       ]
      },
      {
       "output_type": "stream",
       "stream": "stdout",
       "text": [
        " ['public relations and marketing consultant', 'John Martellaro', False]\n",
        "4756 ['adjunct professor and graduate student', 'Becky Vartabedian', ['GradStu', 'Graduate student', 'Graduate student']]\n",
        "4757 ['educational programs coordinator', 'Ben Hunt', False]\n",
        "5872 ['sophomore', 'Kendra Chapman', False]\n",
        "1076 ['travel agency owner', 'Bette Greenfield', False]\n",
        "5870"
       ]
      },
      {
       "output_type": "stream",
       "stream": "stdout",
       "text": [
        " ['senior', 'Anthony Valente', False]\n",
        "5871 ['senior', 'Lizz Mullowney', False]\n",
        "5876 ['high school science teacher', 'Annette Meier', ['MiscTeacher', 'Teacher', 'Teacher']]\n",
        "5877 ['auction house manager', 'Tanya Hayes', False]\n",
        "5874 ['tax lawyer', 'Bing Luke', False]\n",
        "1077 ['lawyer', 'Dave McCarthy', ['23-1011', 'Lawyers', 'Lawyer']]\n",
        "5878 ['business technology teacher', 'Kathy Gillespie Hennelly', ['MiscTeacher', 'Teacher', 'Teacher']]\n",
        "5879 ['paintings conservator', 'Matt Cushman', ['25-4013', 'Museum Technicians and Conservators', 'Paintings Conservator']]\n",
        "1074"
       ]
      },
      {
       "output_type": "stream",
       "stream": "stdout",
       "text": [
        " ['writer', 'Heather Pharo', False]\n",
        "3759 ['certified public accountant', 'Bob Ryan', ['13-2011', 'Accountants and Auditors', 'Certified Public Accountant']]\n",
        "3758 ['assistant manager', 'John Lisiewicz', False]\n",
        "5376 ['senior', 'Anjali Tripathi', False]\n",
        "3751"
       ]
      },
      {
       "output_type": "stream",
       "stream": "stdout",
       "text": [
        " ['freelance writer', 'Nicole Burnham Onsi', False]\n",
        "3750 ['marketing coordinator', 'Cathleen Warren', False]\n",
        "3753 ['college teacher', 'Jonathan Earle', ['MiscTeacher', 'Teacher', 'Teacher']]\n",
        "3752 ['graphic designer', 'Chris Coad', ['27-1024', 'Graphic Designers', 'Graphic Designer']]\n",
        "3755 ['strategic information officer', 'Sara Westrick Schomig', False]\n",
        "3754"
       ]
      },
      {
       "output_type": "stream",
       "stream": "stdout",
       "text": [
        " ['tour operator', 'Diana Hechler', False]\n",
        "3757 ['sociology professor', 'Martin Hughes', False]\n",
        "3756 ['faculty administrative assistant', 'Tigger Jourard', False]\n",
        "4633"
       ]
      },
      {
       "output_type": "stream",
       "stream": "stdout",
       "text": [
        " ['research analyst', 'Ellen Kellogg', False]\n",
        "2191 ['high school drama teacher', 'Jennifer Casey', ['MiscTeacher', 'Teacher', 'Teacher']]\n",
        "4631 ['Ph.D. student', 'Catherine Arnold', False]\n",
        "2193 ['advertising executive', 'Caroline Walsh', ['11-2011', 'Advertising and Promotions Managers', 'Advertising Executive']]\n",
        "2194 ['physician', 'Paul Reisser', False]\n",
        "2195 ['communications assistant', 'Susannah Jacobson', False]\n",
        "2196 ['teacher', 'Jeff Knorr', ['MiscTeacher', 'Teacher', 'Teacher']]\n",
        "2197"
       ]
      },
      {
       "output_type": "stream",
       "stream": "stdout",
       "text": [
        " ['horse trainer', 'Lani Hyde', False]\n",
        "2198 ['publishing sales representative', 'Todd Jones', False]\n",
        "2199 ['attorney', 'Mike Rohan', ['23-1011', 'Lawyers', 'Attorney']]\n",
        "4639 ['claims representative', 'Robin McCreery', False]\n",
        "4638 ['graduate student', 'Michael Skeldon', ['GradStu', 'Graduate student', 'Graduate student']]\n",
        "4813"
       ]
      },
      {
       "output_type": "stream",
       "stream": "stdout",
       "text": [
        " ['full-time mom', 'Sherry Rhodes', False]\n",
        "4812 ['undergraduate student', 'Will Austin', ['GradStu', 'Graduate student', 'Graduate student']]\n",
        "4811 ['furniture salesman', 'Kit Salisbury', False]\n",
        "4810 ['insurance examiner', 'Paul Salcido', False]\n",
        "168 ['legislative assistant', 'Jonathan Fellows', False]\n",
        "169"
       ]
      },
      {
       "output_type": "stream",
       "stream": "stdout",
       "text": [
        " ['playwright/actor', 'Bob Verini', False]\n",
        "164 ['account executive', 'Frank Hughes', False]\n",
        "165 ['student', 'Michael Galvin', False]\n",
        "166 ['writer', 'Eugene Finerman', False]\n",
        "167 ['personnel specialist', 'Keith Bell', ['13-1071', 'Human Resources Specialists', 'Personnel Specialist']]\n",
        "160 ['writer', 'John Podhoretz', False]\n",
        "161 ['teacher', 'Dave Traini', ['MiscTeacher', 'Teacher', 'Teacher']]\n",
        "162 ['executive assistant', 'Aaron Thompson', ['43-6011', 'Executive Secretaries and Executive Administrative Assistants', 'Executive Assistant']]\n",
        "163"
       ]
      },
      {
       "output_type": "stream",
       "stream": "stdout",
       "text": [
        " ['judicial clerk', 'Richard Cordray', ['23-1012', 'Judicial Law Clerks', 'Judicial Clerk']]\n",
        "4815 ['sign language interpreter', 'Ryan Thiel', False]\n",
        "4814 ['recent law school graduate', 'Kama Siegel', False]\n",
        "6194"
       ]
      },
      {
       "output_type": "stream",
       "stream": "stdout",
       "text": [
        " ['school librarian', 'Nina Ginocchio', ['25-4021', 'Librarians', 'School Librarian']]\n",
        "6195 ['bank teller', 'Tyrone Rogers', ['43-3071', 'Tellers', 'Bank Teller']]\n",
        "6196 ['waiter', 'Michael Huntington', False]\n",
        "6197 ['data analyst', 'Tiffiny Fisher', False]\n",
        "6190"
       ]
      },
      {
       "output_type": "stream",
       "stream": "stdout",
       "text": [
        " ['freelance costume designer', 'Emily Heaney', False]\n",
        "6191 ['test prep instructor', 'Srikanth Sivashankaran', False]\n",
        "6192 ['investment relations associate', 'Kelani Chan', False]\n",
        "6193 ['elementary school principal', 'David Starr', ['11-9032', 'Education Administrators, Elementary and Secondary School', 'Elementary School Principal']]\n",
        "6198"
       ]
      },
      {
       "output_type": "stream",
       "stream": "stdout",
       "text": [
        " ['eleven-year-old', 'Mike Scott', False]\n",
        "6199 ['twelve-year-old', 'David McIntyre', False]\n",
        "2734 ['history teacher', 'Sarah Workman', ['MiscTeacher', 'Teacher', 'Teacher']]\n",
        "2735 ['homemaker', 'Mary Ann Meyers', False]\n",
        "2736 ['chemist', 'Pete Peterson', False]\n",
        "2737"
       ]
      },
      {
       "output_type": "stream",
       "stream": "stdout",
       "text": [
        " ['student', 'Todd Leopold', False]\n",
        "2730 ['eleven-year-old', 'Jessie Robertson', False]\n",
        "2731 ['eleven-year-old', 'Chris Palmquist', False]\n",
        "2732"
       ]
      },
      {
       "output_type": "stream",
       "stream": "stdout",
       "text": [
        " ['magazine promotion manager', 'Robin Hoffmann', False]\n",
        "2733 ['architect', 'Leah Greenwald', False]\n",
        "2738 ['musician', 'Jim Stevenson', ['27-2042', 'Musicians and Singers', 'Musician']]\n",
        "2739 ['assistant film editor', 'Eytan Mirsky', False]\n",
        "1106"
       ]
      },
      {
       "output_type": "stream",
       "stream": "stdout",
       "text": [
        " ['office account manager', 'Michelle Collier', False]\n",
        "8224 ['freelance writer and editor', 'Erin Schmidt', False]\n",
        "8225 ['neurologist and psychiatrist', 'Dylan Wint', False]\n",
        "7209"
       ]
      },
      {
       "output_type": "stream",
       "stream": "stdout",
       "text": [
        " ['senior', 'Brandon Welch', False]\n",
        "7208 ['deep question answering system', 'Watson', False]\n",
        "7203 ['psychologist', 'Cigus Vanni', False]\n",
        "7202 ['immunologist', 'Annette Meyer', ['29-1069', 'Physicians and Surgeons, All Other', 'Immunologist']]\n",
        "7201"
       ]
      },
      {
       "output_type": "stream",
       "stream": "stdout",
       "text": [
        " ['assistant film editor', 'John Lafferty', False]\n",
        "7200 ['retired  employment program specialist', 'Betsy Stephenson', False]\n",
        "7207 ['$3.2-million winner', 'Brad Rutter', False]\n",
        "7206"
       ]
      },
      {
       "output_type": "stream",
       "stream": "stdout",
       "text": [
        " ['74-game champion', 'Ken Jennings', False]\n",
        "7205 ['television development assistant', 'Sarah Monteith', False]\n",
        "1107 ['homemaker', 'Brenda Bright', False]\n",
        "6222"
       ]
      },
      {
       "output_type": "stream",
       "stream": "stdout",
       "text": [
        " ['country music singer', 'Brad Paisley', False]\n",
        "6223 ['actress', 'Linda Park', ['27-2011', 'Actors', 'Actress']]\n",
        "6220 ['high school English teacher', 'Daphna Atias', ['MiscTeacher', 'Teacher', 'Teacher']]\n",
        "6221 ['barista and bookseller', 'Tyler Crosby', False]\n",
        "6226 ['actress', 'CCH Pounder', ['27-2011', 'Actors', 'Actress']]\n",
        "6227 ['television personality', 'Jeff Probst', False]\n",
        "6224"
       ]
      },
      {
       "output_type": "stream",
       "stream": "stdout",
       "text": [
        " ['actor', 'Will Estes', False]\n",
        "6225 ['actor', 'Joshua Malina', False]\n",
        "6228 ['home decor product manager', \"Kathleen O'Day\", False]\n",
        "6229"
       ]
      },
      {
       "output_type": "stream",
       "stream": "stdout",
       "text": [
        " ['computer engineer', 'Peter Wiscombe', False]\n",
        "3134 ['homemaker', 'Cathy Whitehead', False]\n",
        "809 ['registered nurse', 'Jeff Magee', ['29-1141', 'Registered Nurses', 'Registered Nurse']]\n",
        "808 ['options trader', 'Steve Sosnick', False]\n",
        "803"
       ]
      },
      {
       "output_type": "stream",
       "stream": "stdout",
       "text": [
        " ['coordinator of experiential education and student employment', 'Kammy McCleery', False]\n",
        "802 ['equity analyst', 'Yeechang Lee', False]\n",
        "801 ['writer', 'Ramsey Campbell', False]\n",
        "800 ['medical student', 'Joe Zito', False]\n",
        "807 ['optometrist', 'Robert Levy', ['29-1041', 'Optometrists', 'Optometrist']]\n",
        "806"
       ]
      },
      {
       "output_type": "stream",
       "stream": "stdout",
       "text": [
        " ['former editor', 'Marion Arkin', False]\n",
        "805 ['psychologist', 'Cigus Vanni', False]\n",
        "804 ['teacher and Seniors Tournament winner', 'Ouida Rellstab', ['MiscTeacher', 'Teacher', 'Teacher']]\n",
        "8604 ['screenwriter', 'Richard Heft', False]\n",
        "5274 ['law student', 'George Hicks', False]\n",
        "5275"
       ]
      },
      {
       "output_type": "stream",
       "stream": "stdout",
       "text": [
        " ['translator', 'Sandra Alboum', ['27-3091', 'Interpreters and Translators', 'Translator']]\n",
        "5276 ['history teacher', 'Eric Huff', ['MiscTeacher', 'Teacher', 'Teacher']]\n",
        "1776 ['former tennis pro and novelist', 'Martina Navratilova', False]\n",
        "1771 ['graduate student', 'Debbie Thomas', ['GradStu', 'Graduate student', 'Graduate student']]\n",
        "5271 ['computer programmer', 'Ian Foutz', ['15-1131', 'Computer Programmers', 'Computer Programmer']]\n",
        "5272 ['retired engineer', 'Mark Jurecki', False]\n",
        "1772 ['lawyer', 'Tom Schellhammer', ['23-1011', 'Lawyers', 'Lawyer']]\n",
        "1779 ['attorney', 'Ed Lewis', ['23-1011', 'Lawyers', 'Attorney']]\n",
        "1778 ['graduate student', 'Dustin Burke', ['GradStu', 'Graduate student', 'Graduate student']]\n",
        "1100 ['attorney', 'Robin Meyer', ['23-1011', 'Lawyers', 'Attorney']]\n",
        "1551 ['American studies teacher', 'Barb Fuson', ['MiscTeacher', 'Teacher', 'Teacher']]\n",
        "1550"
       ]
      },
      {
       "output_type": "stream",
       "stream": "stdout",
       "text": [
        " ['college instructor', 'Jennifer Kelly', False]\n",
        "1553 ['lawyer', 'Debbie Beers', ['23-1011', 'Lawyers', 'Lawyer']]\n",
        "1552 ['math teacher', 'Peter Braxton', ['MiscTeacher', 'Teacher', 'Teacher']]\n",
        "3038 ['marketing manager', 'Philip Hain', False]\n",
        "3039 ['academic specialist', 'Nancy Goldstone', False]\n",
        "1557 ['advertising executive', 'Don Westrich', ['11-2011', 'Advertising and Promotions Managers', 'Advertising Executive']]\n",
        "1556"
       ]
      },
      {
       "output_type": "stream",
       "stream": "stdout",
       "text": [
        " ['writer', 'Jerome Vered', False]\n",
        "1559 ['engineer', 'Dennis DiNucci', False]\n",
        "1558 ['civil engineering technician', 'Susan Kornblum', ['17-3022', 'Civil Engineering Technicians', 'Civil Engineering Technician']]\n",
        "3036 ['stay-at-home mom', 'Laura Piantes', False]\n",
        "3037 ['opera singer', 'Sally Mouzon', ['27-2042', 'Musicians and Singers', 'Opera Singer']]\n",
        "3030 ['middle school math teacher', 'Robert Alden', ['MiscTeacher', 'Teacher', 'Teacher']]\n",
        "3031"
       ]
      },
      {
       "output_type": "stream",
       "stream": "stdout",
       "text": [
        " ['history professor and Director of Gender Studies', 'Lisa McClain', False]\n",
        "3032 ['sales consultant', 'Jeff Rozen', False]\n",
        "3033 ['actuarial analyst', 'Jared Thompson', False]\n",
        "8703"
       ]
      },
      {
       "output_type": "stream",
       "stream": "stdout",
       "text": [
        " ['roofing contractor', 'Eric Winschel', False]\n",
        "8702 ['writer', 'Neal Pollack', False]\n",
        "8701 ['editor', 'Loni Geerlings', False]\n",
        "8700 ['Presbyterian minister', 'Collin Adams', False]\n",
        "8707"
       ]
      },
      {
       "output_type": "stream",
       "stream": "stdout",
       "text": [
        " ['options trader', 'Andrew Mugica', False]\n",
        "8706 ['tutor and adjunct professor', 'Fran Altomare', False]\n",
        "8705 ['painter and parodist', 'Heidi McEchron', False]\n",
        "8704 ['attorney', 'Kamal Foreman', ['23-1011', 'Lawyers', 'Attorney']]\n",
        "8709"
       ]
      },
      {
       "output_type": "stream",
       "stream": "stdout",
       "text": [
        " ['retired Naval officer', 'Meredith Robinson', False]\n",
        "8708 ['Internet entrepreneur and screenwriter', 'Sarah Zucker', False]\n",
        "5605 ['online researcher', 'Jean MacKay Jackson', False]\n",
        "5604"
       ]
      },
      {
       "output_type": "stream",
       "stream": "stdout",
       "text": [
        " ['senior', 'Haley Batz', False]\n",
        "5607 ['licensed professional counselor', 'Guil Prickette', False]\n",
        "5606 ['composer and bartender', 'Nathaniel Barnes', False]\n",
        "5601 ['mom and part-time graduate student', 'Carla Bradford', ['GradStu', 'Graduate student', 'Graduate student']]\n",
        "5600 ['high school Spanish teacher', 'Doris Click', ['MiscTeacher', 'Teacher', 'Teacher']]\n",
        "5603"
       ]
      },
      {
       "output_type": "stream",
       "stream": "stdout",
       "text": [
        " ['junior', 'Sarah Marx', False]\n",
        "5602 ['junior', 'Jay Schrader', False]\n",
        "5609 ['attorney', 'Sharon Miyasato', ['23-1011', 'Lawyers', 'Attorney']]\n",
        "5608 ['librarian', 'Jillian Rebmann', False]\n",
        "6424 ['caterer', 'Valerie Vicroy', False]\n",
        "6425 ['middle school math teacher', 'Matt Blackwood', ['MiscTeacher', 'Teacher', 'Teacher']]\n",
        "6426"
       ]
      },
      {
       "output_type": "stream",
       "stream": "stdout",
       "text": [
        " ['actor and writer', 'Richard Sautter', False]\n",
        "6427 ['mathematics professor', 'Doug Grenier', ['25-1022', 'Mathematical Science Teachers, Postsecondary', 'Mathematics Professor']]\n",
        "6420 ['stay-at-home mom', 'Evelyn Beddow', False]\n",
        "6421 ['communications specialist', 'Kevin Wilson', False]\n",
        "6422"
       ]
      },
      {
       "output_type": "stream",
       "stream": "stdout",
       "text": [
        " ['Internet editor', 'Marc Anderson', False]\n",
        "6423 ['part-time art history teacher', 'Liz Lynch', ['MiscTeacher', 'Teacher', 'Teacher']]\n",
        "6428 ['editor', 'Sarah Wagner', False]\n",
        "6429 ['government attorney', 'Frank Dempsey', False]\n",
        "6769 ['inventor', 'Pat Garahan', False]\n",
        "6768"
       ]
      },
      {
       "output_type": "stream",
       "stream": "stdout",
       "text": [
        " ['government analyst', 'Matt Drury', False]\n",
        "6767 ['public interest lawyer', 'Stacy Braverman', False]\n",
        "6766 ['climate scientist', 'Emily Cloyd', False]\n",
        "6765 ['high school chemistry teacher', 'Manny Maldonado III', ['MiscTeacher', 'Teacher', 'Teacher']]\n",
        "6764 ['graduate student of English', 'Melissa Kowalski', ['GradStu', 'Graduate student', 'Graduate student']]\n",
        "6763"
       ]
      },
      {
       "output_type": "stream",
       "stream": "stdout",
       "text": [
        " ['baking and pastry art student', 'Kerry Smith', False]\n",
        "6762 ['premedical student', 'Huat Lim', False]\n",
        "6761 ['English professor', 'Susan Malmo', False]\n",
        "6760"
       ]
      },
      {
       "output_type": "stream",
       "stream": "stdout",
       "text": [
        " ['assistant chorale director and test prep instructor', 'Sean Burns', False]\n",
        "4697 ['filmmaker', 'Victor Fanucci', False]\n",
        "229 ['marketing consultant', 'Gardner Stern', ['13-1161', 'Market Research Analysts and Marketing Specialists', 'Marketing Consultant']]\n",
        "228 ['reporter', 'Ted Stratton', False]\n",
        "227 ['graduate student', 'Matt Weedman', ['GradStu', 'Graduate student', 'Graduate student']]\n",
        "226 ['software trainer', 'Jonathan Smillie', False]\n",
        "225"
       ]
      },
      {
       "output_type": "stream",
       "stream": "stdout",
       "text": [
        " ['editor', 'Jen Noon', False]\n",
        "224 ['college student', 'Ali Moss', False]\n",
        "223 ['law student', 'Steve Kaplan', False]\n",
        "222 ['elementary school teacher', \"Rosann O'Reilly\", ['MiscTeacher', 'Teacher', 'Teacher']]\n",
        "221 ['radio announcer', 'Scott Johnson', False]\n",
        "220"
       ]
      },
      {
       "output_type": "stream",
       "stream": "stdout",
       "text": [
        " ['law student', 'Tom Stenson', False]\n",
        "2509 ['housewife', 'Nathalie Henderson', False]\n",
        "2508 ['market research analyst', 'Lauren Hirs', ['13-1161', 'Market Research Analysts and Marketing Specialists', 'Market Research Analyst']]\n",
        "2507 ['sales representative', 'Dan Cordova', False]\n",
        "2506 ['librarian', 'Tom Geoffino', False]\n",
        "2505"
       ]
      },
      {
       "output_type": "stream",
       "stream": "stdout",
       "text": [
        " ['commercial banking relationship manager', 'Judy Hutchison', False]\n",
        "2504 ['voiceover artist', 'Hugh Palmer', False]\n",
        "2503 ['high school English teacher', 'Fritz Torp', ['MiscTeacher', 'Teacher', 'Teacher']]\n",
        "2502 ['college student', 'Nancy Hungerford-Levine', False]\n",
        "2501 ['Spanish teacher', 'Joyce Gray', ['MiscTeacher', 'Teacher', 'Teacher']]\n",
        "2500 ['homemaker', 'Cathy Friedman', False]\n",
        "5049"
       ]
      },
      {
       "output_type": "stream",
       "stream": "stdout",
       "text": [
        " ['from <i>CBS This Morning</i>...', 'Mark McEwen', False]\n",
        "5048 ['from <i>Law & Order</i>...', 'Jerry Orbach', False]\n",
        "5047 ['from <i>Nash Bridges</i>...', 'Cheech Marin', False]\n",
        "5046"
       ]
      },
      {
       "output_type": "stream",
       "stream": "stdout",
       "text": [
        " ['from <i>Live with Regis and Kathie Lee</i>...', 'Regis Philbin', False]\n",
        "5045 ['from <i>The Howard Stern Show</i>...', 'Robin Quivers', False]\n",
        "5044"
       ]
      },
      {
       "output_type": "stream",
       "stream": "stdout",
       "text": [
        " ['from <i>The Night Flyer</i>...', 'Stephen King', False]\n",
        "5043 ['economist and actuary', 'Sven Sinclair', False]\n",
        "5042 ['waitress', 'Alyssa Hesse', False]\n",
        "5041"
       ]
      },
      {
       "output_type": "stream",
       "stream": "stdout",
       "text": [
        " ['from <i>Sabrina, the Teenage Witch</i>...', 'Melissa Joan Hart', False]\n",
        "5040 ['from <i>Working</i>...', 'Fred Savage', False]\n",
        "2160 ['residential caregiver', 'Susan Rathke', False]\n",
        "8696 ['graduate student of biology', 'Kellie Chan', ['GradStu', 'Graduate student', 'Graduate student']]\n",
        "1524"
       ]
      },
      {
       "output_type": "stream",
       "stream": "stdout",
       "text": [
        " ['\"Mr. Mom\"', 'Paul Slota', False]\n",
        "1525 ['finance manager', 'Cris Molles', False]\n",
        "1526 ['homemaker', 'Paul Canty', False]\n",
        "1527"
       ]
      },
      {
       "output_type": "stream",
       "stream": "stdout",
       "text": [
        " ['federal IT specialist', 'Candy Murphy', False]\n",
        "1520 ['college teacher', 'Jonathan Brosin', ['MiscTeacher', 'Teacher', 'Teacher']]\n",
        "1521 ['actor', 'Alex Oleksij', False]\n",
        "3207 ['client services consultant', 'Kelly Suber', False]\n",
        "1522 ['nonprofit development director', 'Glenn Barnes', False]\n",
        "3206"
       ]
      },
      {
       "output_type": "stream",
       "stream": "stdout",
       "text": [
        " ['administrative assistant', 'Pat Phillips', False]\n",
        "1523 ['copy editor', 'Miranda Schwartz', ['27-3041', 'Editors', 'Copy Editor']]\n",
        "3205 ['computer programmer', 'Emily Voytek', ['15-1131', 'Computer Programmers', 'Computer Programmer']]\n",
        "3204 ['college professor', 'Peyton Paxson', False]\n",
        "3203 ['solutions support engineer', 'Sharon Rozines', False]\n",
        "3202"
       ]
      },
      {
       "output_type": "stream",
       "stream": "stdout",
       "text": [
        " ['attorney & physician', 'Ellen Carson', False]\n",
        "5184 ['from Gaithersburg, Maryland...', 'Marshall Tan', False]\n",
        "1996 ['pediatrician', 'Robb Muhm', False]\n",
        "5188 ['educator', 'Cindy Kratzer', False]\n",
        "1128 ['teacher', 'Melissa Prepster', ['MiscTeacher', 'Teacher', 'Teacher']]\n",
        "1129"
       ]
      },
      {
       "output_type": "stream",
       "stream": "stdout",
       "text": [
        " ['physician', 'Ted Barnett', False]\n",
        "5189 ['writer and editor', 'Janice Eisen', False]\n",
        "1120 ['graduate student', 'Caren Chancey', ['GradStu', 'Graduate student', 'Graduate student']]\n",
        "1121 ['editor and writer', 'Kent Rasmussen', False]\n",
        "1122 ['chief operations officer', 'Barbara Murray', False]\n",
        "1123 ['graduate student', 'Brendan Beier', ['GradStu', 'Graduate student', 'Graduate student']]\n",
        "1124"
       ]
      },
      {
       "output_type": "stream",
       "stream": "stdout",
       "text": [
        " ['freelance broadcast journalist', 'Helen Kaluzny', False]\n",
        "1125 ['writer', 'Mark Saltzman', False]\n",
        "1126 ['attorney', 'Tom Stimson', ['23-1011', 'Lawyers', 'Attorney']]\n",
        "1127 ['writer', 'Mike Clark', False]\n",
        "8040 ['student of art history', 'Tori Lewis', False]\n",
        "8041 ['attorney', 'Anne Fierro', ['23-1011', 'Lawyers', 'Attorney']]\n",
        "8042"
       ]
      },
      {
       "output_type": "stream",
       "stream": "stdout",
       "text": [
        " ['writer', 'John-Clark Levin', False]\n",
        "8043 ['circuit judge', 'Robert Herzfeld', False]\n",
        "8044 ['customer service representative', 'Dana Sellke', False]\n",
        "8045"
       ]
      },
      {
       "output_type": "stream",
       "stream": "stdout",
       "text": [
        " ['stay-at-home mom and blogger', 'Hillary Meyer', False]\n",
        "8046 ['financial risk analyst', 'Barry Peterson', False]\n",
        "8047 ['executive assistant', 'Elizabeth Pfeifer', ['43-6011', 'Executive Secretaries and Executive Administrative Assistants', 'Executive Assistant']]\n",
        "8048 ['SAT teacher', 'John Mahone', ['MiscTeacher', 'Teacher', 'Teacher']]\n",
        "8049 ['Senate staff aide', 'Paul Nelson', False]\n",
        "8518"
       ]
      },
      {
       "output_type": "stream",
       "stream": "stdout",
       "text": [
        " ['underwriter', 'Sue Gouldley', False]\n",
        "8519 ['attorney', 'Meg Shreve', ['23-1011', 'Lawyers', 'Attorney']]\n",
        "559 ['math teacher', 'Barbara Findley', ['MiscTeacher', 'Teacher', 'Teacher']]\n",
        "558 ['theater critic', 'Hap Erstein', False]\n",
        "555 ['human resources manager', 'Paul Thompson', False]\n",
        "554 ['homemaker', 'April McManus', False]\n",
        "4776 ['teacher and doctoral student', 'Bryan Johnson', ['MiscTeacher', 'Teacher', 'Teacher']]\n",
        "4777"
       ]
      },
      {
       "output_type": "stream",
       "stream": "stdout",
       "text": [
        " ['junior at the University of Oregon', 'Veronica Lee', False]\n",
        "4774 ['junior at Wofford College', 'Meg Audette', False]\n",
        "4775 ['attorney and risk consultant', 'Kathleen Meriwether', False]\n",
        "4772"
       ]
      },
      {
       "output_type": "stream",
       "stream": "stdout",
       "text": [
        " ['sophomore at the University of Michigan', 'Julie Ann Cohen', False]\n",
        "4773 ['senior at the University of North Texas', 'Stephen James', False]\n",
        "4770"
       ]
      },
      {
       "output_type": "stream",
       "stream": "stdout",
       "text": [
        " ['junior at the University of Kentucky', 'Katie King', False]\n",
        "4771 ['senior at Northwestern University', 'Paul Marchegiani', False]\n",
        "4778 ['freshman at Texas A&M', 'Jason McClellan', False]\n",
        "4779"
       ]
      },
      {
       "output_type": "stream",
       "stream": "stdout",
       "text": [
        " ['junior at the University of Illinois-Chicago', 'Nicole Thibodeau', False]\n",
        "5818 ['attorney', 'Brooke Anthony', ['23-1011', 'Lawyers', 'Attorney']]\n",
        "5819 ['compliance coordinator', 'Chris Norlin', False]\n",
        "5810 ['import and export manager', 'John Fennell', False]\n",
        "5811"
       ]
      },
      {
       "output_type": "stream",
       "stream": "stdout",
       "text": [
        " ['Ph.D. student and professor', 'Chris Shar', False]\n",
        "5812 ['writer', 'Scott Quick', False]\n",
        "5813 ['sales representative', 'Margaret Eves', False]\n",
        "5814 ['attorney', 'Alan Kluegel', ['23-1011', 'Lawyers', 'Attorney']]\n",
        "5815 ['graphic designer', 'Noelle McHugh', ['27-1024', 'Graphic Designers', 'Graphic Designer']]\n",
        "5816 ['homemaker', 'Carolyn Young', False]\n",
        "5817"
       ]
      },
      {
       "output_type": "stream",
       "stream": "stdout",
       "text": [
        " ['software engineer', 'Garrett Laws Weinberg', False]\n",
        "4619 ['marketing writer', 'Melissa Prusi', False]\n",
        "4618 ['computer consultant', 'Steven Melendez', False]\n",
        "4611 ['sophomore at Vanderbilt University', 'Matt Keller', False]\n",
        "4610"
       ]
      },
      {
       "output_type": "stream",
       "stream": "stdout",
       "text": [
        " ['sophomore at the University of Washington', 'Iyesatu Kamara', False]\n",
        "4613 ['labor services representative', 'Amanda Freisem', False]\n",
        "4612 ['compliance manager', 'Joe McGuinness', False]\n",
        "4615 ['attorney', 'Murtaza Sutarwalla', ['23-1011', 'Lawyers', 'Attorney']]\n",
        "4614"
       ]
      },
      {
       "output_type": "stream",
       "stream": "stdout",
       "text": [
        " ['medical student', 'Kate Pedersen', False]\n",
        "4617 ['actor', 'Ethan Brosowsky', False]\n",
        "4616 ['elementary school teacher', 'Joanna Ramsey', ['MiscTeacher', 'Teacher', 'Teacher']]\n",
        "2705 ['teacher of religion', 'Scott Knecht', ['MiscTeacher', 'Teacher', 'Teacher']]\n",
        "7424 ['eleven-year-old', 'Emma Johnson', False]\n",
        "7152 ['playwright', 'Elisabeth Karlin', ['27-3043', 'Writers and Authors', 'Playwright']]\n",
        "2704 ['reading teacher', 'Linda Johnson', ['MiscTeacher', 'Teacher', 'Teacher']]\n",
        "4882 ['retired educator', 'Suzanne Cappozzo', False]\n",
        "146"
       ]
      },
      {
       "output_type": "stream",
       "stream": "stdout",
       "text": [
        " ['library technician and stage manager', 'Jennifer West', False]\n",
        "5458 ['college music and humanities instructor', 'Jim Davis', False]\n",
        "144 ['legal assistant', 'Grayson Holmes', ['23-2011', 'Paralegals and Legal Assistants', 'Legal Assistant']]\n",
        "145 ['retail manager', 'Harry Sering', False]\n",
        "142 ['graduate student', 'Ethan de Seife', ['GradStu', 'Graduate student', 'Graduate student']]\n",
        "143"
       ]
      },
      {
       "output_type": "stream",
       "stream": "stdout",
       "text": [
        " ['trucking subcontractor', 'Cliff Kowalczyk', False]\n",
        "140 ['physician', 'Joel Kahn', False]\n",
        "141 ['systems engineer', 'Maureen McKay', False]\n",
        "2701 ['high school math teacher', 'Steve Douches', ['MiscTeacher', 'Teacher', 'Teacher']]\n",
        "148"
       ]
      },
      {
       "output_type": "stream",
       "stream": "stdout",
       "text": [
        " ['retired programmer', 'Michael Kalk', False]\n",
        "149 ['attorney', 'Emily Lawrence', ['23-1011', 'Lawyers', 'Attorney']]\n",
        "4886 ['sales representative', 'Steve Burns', False]\n",
        "754 ['economics professor', 'Mary Hirschfeld', False]\n",
        "2702 ['regulations writer', 'Carole Smith', False]\n",
        "3092 ['high school history teacher', 'Tom Flemma', ['MiscTeacher', 'Teacher', 'Teacher']]\n",
        "3342"
       ]
      },
      {
       "output_type": "stream",
       "stream": "stdout",
       "text": [
        " ['police officer', 'Rocco Sinisi', False]\n",
        "3343 ['graduate student', 'Drew Karpyshyn', ['GradStu', 'Graduate student', 'Graduate student']]\n",
        "5452 ['human resources manager', 'Carol Curtis', False]\n",
        "2712 ['high school teacher', 'Scott Masters', ['MiscTeacher', 'Teacher', 'Teacher']]\n",
        "2713 ['Army captain', 'Joel Rayburn', False]\n",
        "2710"
       ]
      },
      {
       "output_type": "stream",
       "stream": "stdout",
       "text": [
        " ['programs manager', 'Barbara Blake', False]\n",
        "2711 ['industrial repair representative', 'Matt Radulski', False]\n",
        "2716 ['police officer', 'Larry Dundas', False]\n",
        "2717"
       ]
      },
      {
       "output_type": "stream",
       "stream": "stdout",
       "text": [
        " ['video production manager', 'Susan Wilcox', False]\n",
        "2714 ['alternative print coordinator', 'Dave Meddish', False]\n",
        "2715 ['graduate student', 'Caroline Waddell Zarzar', ['GradStu', 'Graduate student', 'Graduate student']]\n",
        "3346 ['archivist', 'Ellen Alers', ['25-4011', 'Archivists', 'Archivist']]\n",
        "2718 ['judicial clerk', 'Richard Cordray', ['23-1012', 'Judicial Law Clerks', 'Judicial Clerk']]\n",
        "2719 ['teacher', 'Scott Myers', ['MiscTeacher', 'Teacher', 'Teacher']]\n",
        "3347 ['program coordinator', 'Maggie Harris', False]\n",
        "7221"
       ]
      },
      {
       "output_type": "stream",
       "stream": "stdout",
       "text": [
        " ['senior', 'Carlee Jensen', False]\n",
        "7220 ['junior', 'Cosi Audi', False]\n",
        "7223 ['senior', 'Raynell Cooper', False]\n",
        "7222 ['junior', 'Erin Hart', False]\n",
        "7225"
       ]
      },
      {
       "output_type": "stream",
       "stream": "stdout",
       "text": [
        " ['registered nurse and childbirth educator', 'Eileen Anderson', False]\n",
        "3344 ['behavior specialist', 'Lynne Bruchet', False]\n",
        "7227 [\"teachers' union spokesman\", 'Mark Pudlow', ['MiscTeacher', 'Teacher', 'Teacher']]\n",
        "7226 ['attorney', 'Alison Roberts', ['23-1011', 'Lawyers', 'Attorney']]\n",
        "7229 ['financial manager', 'Carl Bradshaw', False]\n",
        "7228 ['web editor', 'Sara Lichterman', False]\n",
        "3345"
       ]
      },
      {
       "output_type": "stream",
       "stream": "stdout",
       "text": [
        " ['opera stage manager', 'David Grindle', False]\n",
        "7959 ['personal trainer', 'Alison Parakh', ['39-9031', 'Fitness Trainers and Aerobics Instructors', 'Personal Trainer']]\n",
        "7958 ['labor attorney', 'Bill Pitassy', False]\n",
        "6248 ['12-year-old', 'Parker Norton', False]\n",
        "6249"
       ]
      },
      {
       "output_type": "stream",
       "stream": "stdout",
       "text": [
        " ['12-year-old', 'Tayonna Jones', False]\n",
        "6240 ['12-year-old', 'John Fabros', False]\n",
        "6241 ['12-year-old', 'Amy Mandel', False]\n",
        "6242 ['11-year-old', 'Michelle Schrier', False]\n",
        "6243"
       ]
      },
      {
       "output_type": "stream",
       "stream": "stdout",
       "text": [
        " ['11-year-old', 'Ethan Russo', False]\n",
        "6244 ['12-year-old', 'Gabby Dannunzio', False]\n",
        "6245 ['11-year-old', 'Derek Schaible', False]\n",
        "6246 ['12-year-old', 'Katie Fulton', False]\n",
        "6247 ['11-year-old', 'Nikhil Bumb', False]\n",
        "8871"
       ]
      },
      {
       "output_type": "stream",
       "stream": "stdout",
       "text": [
        " ['college student', 'Jim Scott', False]\n",
        "8870 ['realtor', 'Mark Thompson', False]\n",
        "8873 ['civil rights attorney', 'Karen Ruckert', False]\n",
        "8872 ['online organizer', 'Zachary Tomanelli', False]\n",
        "8875"
       ]
      },
      {
       "output_type": "stream",
       "stream": "stdout",
       "text": [
        " ['small job contractor', 'Richard Marvin', False]\n",
        "8874 ['teacher', 'Sean Walsh', ['MiscTeacher', 'Teacher', 'Teacher']]\n",
        "8877 ['computer programmer and analyst', 'Kate Haire', False]\n",
        "8876 ['electronics technician', 'Kyle Reynolds', False]\n",
        "8879"
       ]
      },
      {
       "output_type": "stream",
       "stream": "stdout",
       "text": [
        " ['communications manager', 'Jennifer Cross Miller', False]\n",
        "8878 ['telecom engineer', 'Chip Bell', False]\n",
        "829 ['financial analyst', 'Tony Morgan', False]\n",
        "7615 ['grocer', 'Isaac Patterson', False]\n",
        "825"
       ]
      },
      {
       "output_type": "stream",
       "stream": "stdout",
       "text": [
        " ['law student', 'Nancy Casbeer', False]\n",
        "824 ['telecommunications consultant', 'Kevin Laude', False]\n",
        "827 ['writer and consultant', 'Elaine Thacker', False]\n",
        "826"
       ]
      },
      {
       "output_type": "stream",
       "stream": "stdout",
       "text": [
        " ['political fundraiser', 'Mike Bober', False]\n",
        "821 ['student', 'Andrew Gonzalez', False]\n",
        "820 ['high school humanities teacher', 'Stephanie Monaghan', ['MiscTeacher', 'Teacher', 'Teacher']]\n",
        "823 ['transportation analyst', 'Derek Ziegler', False]\n",
        "822 ['museum administrator', 'Evelyn Pan Bavier', False]\n",
        "8163"
       ]
      },
      {
       "output_type": "stream",
       "stream": "stdout",
       "text": [
        " ['server', 'Lauren Thomas', False]\n",
        "8162 ['non-profit communications co-ordinator', 'Sean Link', False]\n",
        "8161 ['retired attorney', 'Zora Shinn', False]\n",
        "8160"
       ]
      },
      {
       "output_type": "stream",
       "stream": "stdout",
       "text": [
        " ['quotation specialist', 'Waymond Mitchell', False]\n",
        "8167 ['pet store operations manager', 'Allison Swanberg', False]\n",
        "8166 ['graduate student of education', 'Robert Chodola', ['GradStu', 'Graduate student', 'Graduate student']]\n",
        "1713 ['product manager', 'Dave Pedersen', False]\n",
        "1712"
       ]
      },
      {
       "output_type": "stream",
       "stream": "stdout",
       "text": [
        " ['engineering secretary', 'Tammy Talpas', False]\n",
        "1711 ['multimedia engineer', 'Tim DeLamatre', False]\n",
        "1710 ['administrative assistant', 'Christine Black', False]\n",
        "1717 ['professor', 'James Washick', False]\n",
        "1716"
       ]
      },
      {
       "output_type": "stream",
       "stream": "stdout",
       "text": [
        " ['software developer', 'Mike Hagesfeld', False]\n",
        "1715 ['Army lawyer', 'Scott Gardiner', False]\n",
        "1714 ['administrative assistant', 'Judie Cole', False]\n",
        "5258 ['therapist', 'Nancy Melucci', False]\n",
        "5259 ['business analyst', 'Connie Barila', ['13-1111', 'Management Analysts', 'Business Analyst']]\n",
        "5942"
       ]
      },
      {
       "output_type": "stream",
       "stream": "stdout",
       "text": [
        " ['insurance and investments agent', 'Sid Liberman', False]\n",
        "3018 ['publications editor', 'John Becker', ['27-3041', 'Editors', 'Publications Editor']]\n",
        "3019 ['history teacher', 'Lesley Cordell', ['MiscTeacher', 'Teacher', 'Teacher']]\n",
        "3012 ['stand-up comedian', 'Steve Gelder', False]\n",
        "3013 ['graduate student', 'Jessica Raine', ['GradStu', 'Graduate student', 'Graduate student']]\n",
        "3010 ['attorney', 'Michael Rodriguez', ['23-1011', 'Lawyers', 'Attorney']]\n",
        "3011 ['accounting systems consultant', 'Anne Andrea', False]\n",
        "3016"
       ]
      },
      {
       "output_type": "stream",
       "stream": "stdout",
       "text": [
        " ['law clerk', 'Ross Hooper', False]\n",
        "3017 ['law student', 'Brad Savage', False]\n",
        "3014 ['advertising creative director', 'Kirk Crumbley', False]\n",
        "3015"
       ]
      },
      {
       "output_type": "stream",
       "stream": "stdout",
       "text": [
        " ['marine scientist', 'Susan Buda', False]\n",
        "8729 ['JAG', 'Stuart Anderson', False]\n",
        "8728 ['clinical psychology research fellow', 'Loren Gianini', False]\n",
        "8721"
       ]
      },
      {
       "output_type": "stream",
       "stream": "stdout",
       "text": [
        " ['financial analyst', 'Rohit Dewan', False]\n",
        "8720 ['attorney', 'Kristan McMahon', ['23-1011', 'Lawyers', 'Attorney']]\n",
        "8723 ['judicial research lawyer', 'Julie Huffman', False]\n",
        "8722 ['organizing fellow', 'Greg Buzzard', False]\n",
        "8725 ['writer', 'Amanda Graves', False]\n",
        "8724 ['novelist', 'William Bernhardt', ['27-3043', 'Writers and Authors', 'Novelist']]\n",
        "8727"
       ]
      },
      {
       "output_type": "stream",
       "stream": "stdout",
       "text": [
        " ['post-production coordinator', 'Chris Gaiman', False]\n",
        "8726 ['graduate student of Spanish', 'Theresa Warner', ['GradStu', 'Graduate student', 'Graduate student']]\n",
        "4189 ['lawyer', 'Susan Christman', ['23-1011', 'Lawyers', 'Lawyer']]\n",
        "4188 ['physician', 'Paul Cheng', False]\n",
        "4181 ['lawyer', 'Chris Meding', ['23-1011', 'Lawyers', 'Lawyer']]\n",
        "4180 ['U.S. Marine corporal', 'Zach Martin', False]\n",
        "4183"
       ]
      },
      {
       "output_type": "stream",
       "stream": "stdout",
       "text": [
        " ['software engineer', 'Albert Chu', False]\n",
        "4182 ['entrepreneur', 'Erich Steinbergs', False]\n",
        "4185 ['college professor', 'Meri-Jane Rochelson', False]\n",
        "4184 ['graduate student and cancer researcher', 'Elizabeth McKenna', ['GradStu', 'Graduate student', 'Graduate student']]\n",
        "4187 ['teacher', 'Lynda Aue', ['MiscTeacher', 'Teacher', 'Teacher']]\n",
        "4186 ['first year law student', 'Rishi Bhandari', False]\n",
        "5663 ['teacher educator', 'Christine Carrino Gorowara', ['MiscTeacher', 'Teacher', 'Teacher']]\n",
        "5662"
       ]
      },
      {
       "output_type": "stream",
       "stream": "stdout",
       "text": [
        " ['professor', 'Sean Kottke', False]\n",
        "5661 ['science teacher', 'Matt Jacobs', ['MiscTeacher', 'Teacher', 'Teacher']]\n",
        "5660 ['veterinary technician', 'Barb Schwartz', False]\n",
        "5667 ['retired adult basic educator', 'Cyndy Hawley', False]\n",
        "5666"
       ]
      },
      {
       "output_type": "stream",
       "stream": "stdout",
       "text": [
        " ['resident physician', 'Justin Waters', False]\n",
        "5665 ['Air Force officer', 'Anthony Stinton', False]\n",
        "5664 ['project administrator', 'Tim Rask', False]\n",
        "5669"
       ]
      },
      {
       "output_type": "stream",
       "stream": "stdout",
       "text": [
        " ['postdoctoral fellow', 'Jeannie Leoutsakos', False]\n",
        "5668 ['simulator instructor', 'George Yates', False]\n",
        "11 ['attorney', 'Kollin Min', ['23-1011', 'Lawyers', 'Attorney']]\n",
        "10 ['writer', 'Bill Scheller', False]\n",
        "13 ['writer and editor', 'Dana Dolan', False]\n",
        "12 ['biochemist', 'Bruce England', ['19-1021', 'Biochemists and Biophysicists', 'Biochemist']]\n",
        "15"
       ]
      },
      {
       "output_type": "stream",
       "stream": "stdout",
       "text": [
        " ['reporter', 'Kate Duffy', False]\n",
        "14 ['real estate manager and actor', 'Robert Quinn', False]\n",
        "17 ['stay-at-home mom', 'Cara Butler', False]\n",
        "16"
       ]
      },
      {
       "output_type": "stream",
       "stream": "stdout",
       "text": [
        " ['consulting program manager', 'David Fishbach', False]\n",
        "19 ['urban planner', 'John Cook', ['19-3051', 'Urban and Regional Planners', 'Urban Planner']]\n",
        "18 ['medical librarian', 'Elaine Skopelja', ['25-4021', 'Librarians', 'Medical Librarian']]\n",
        "6408 ['waiter', 'David Garcia', False]\n",
        "6409 ['aerospace engineer', 'Dan Rowley', ['17-2011', 'Aerospace Engineers', 'Aerospace Engineer']]\n",
        "8181 ['senior', 'Leonard Cooper', False]\n",
        "8180 ['senior', 'Jordan Villanueva', False]\n",
        "8183"
       ]
      },
      {
       "output_type": "stream",
       "stream": "stdout",
       "text": [
        " ['medical student', 'Jason Shore', False]\n",
        "8182 ['sophomore', 'Tori Amos', False]\n",
        "7764 ['assistant professor of management information systems', 'Sean Hansen', False]\n",
        "7765"
       ]
      },
      {
       "output_type": "stream",
       "stream": "stdout",
       "text": [
        " ['postdoctoral researcher', 'Lindsay Reese', False]\n",
        "7766 ['administrative coordinator and graduate student', 'Megan Davenport', ['GradStu', 'Graduate student', 'Graduate student']]\n",
        "7767 ['mystery writer', 'Judy Nichols', False]\n",
        "7760 [\"teacher's assistant and school bus driver\", 'Anne Raybon', ['MiscTeacher', 'Teacher', 'Teacher']]\n",
        "7761 ['law student', 'Doug Lloyd', False]\n",
        "7762 ['graduate student of engineering', 'Maurice Ayache', ['GradStu', 'Graduate student', 'Graduate student']]\n",
        "7763 ['administrative assistant', 'Amy Ketterling', False]\n",
        "7768"
       ]
      },
      {
       "output_type": "stream",
       "stream": "stdout",
       "text": [
        " ['educational consultant', 'Cat Still', False]\n",
        "7769 ['high school chemistry teacher', 'Peter Allen', ['MiscTeacher', 'Teacher', 'Teacher']]\n",
        "3904 ['Air Force information manager', 'Michael Greer', False]\n",
        "3905 ['Army family practice physician', 'Jennifer Junnila', False]\n",
        "3906"
       ]
      },
      {
       "output_type": "stream",
       "stream": "stdout",
       "text": [
        " ['Navy aviator', 'Jeff Krause', False]\n",
        "3907 ['interior decorator', 'Jessica Eyde', ['27-1025', 'Interior Designers', 'Interior Decorator']]\n",
        "3900 ['prosecuting attorney', 'Gary Vey', False]\n",
        "3901 ['realtor', 'Burns Cameron', False]\n",
        "3902"
       ]
      },
      {
       "output_type": "stream",
       "stream": "stdout",
       "text": [
        " ['librarian', 'Liz Caccese', False]\n",
        "3903 ['lawyer', 'Rich Lerner', ['23-1011', 'Lawyers', 'Lawyer']]\n",
        "3908 ['renewable energy consultant', 'Wilson Rickerson', False]\n",
        "3909 ['physician', 'Holly Owens', False]\n",
        "6745 ['project assistant', 'Amanda Baber', False]\n",
        "6744"
       ]
      },
      {
       "output_type": "stream",
       "stream": "stdout",
       "text": [
        " ['software developer', 'Rachel Pildis', False]\n",
        "6747 ['stockbroker and branch manager', 'Jim Banks', False]\n",
        "6746 ['systems analyst', 'Jayson Johnson', False]\n",
        "6741"
       ]
      },
      {
       "output_type": "stream",
       "stream": "stdout",
       "text": [
        " ['twelve-year-old seventh-grader', 'Becca Portman', False]\n",
        "6740 ['eleven-year-old seventh-grader', 'Josh Woo', False]\n",
        "6743 ['journalist', 'Nick Gorski', False]\n",
        "6742"
       ]
      },
      {
       "output_type": "stream",
       "stream": "stdout",
       "text": [
        " ['twelve-year-old seventh-grader', 'Matt Bischoff', False]\n",
        "6749 ['actor, comedian, director, writer and musician', 'Cheech Marin', False]\n",
        "6748 ['graduate student of English literature', 'Jessica Shafer', ['GradStu', 'Graduate student', 'Graduate student']]\n",
        "201 ['attorney', 'Inez Friedman-Boyce', ['23-1011', 'Lawyers', 'Attorney']]\n",
        "200 ['doctor', 'David Jackman', False]\n",
        "203"
       ]
      },
      {
       "output_type": "stream",
       "stream": "stdout",
       "text": [
        " ['college professor and writer', 'Val Nieman', False]\n",
        "202 ['computer programmer', 'Chris Mullins', ['15-1131', 'Computer Programmers', 'Computer Programmer']]\n",
        "205 ['graduate student', 'Nick Hoffmann', ['GradStu', 'Graduate student', 'Graduate student']]\n",
        "204 ['systems manager', 'Harry Hall', False]\n",
        "207 ['student', 'Joshua Allen', False]\n",
        "206"
       ]
      },
      {
       "output_type": "stream",
       "stream": "stdout",
       "text": [
        " ['college instructor', 'Alli Hammond', False]\n",
        "209 ['surgical technology student', 'Jennie Gerres', False]\n",
        "208 ['accountant', 'Ruchi Aggarwal', ['13-2011', 'Accountants and Auditors', 'Accountant']]\n",
        "830 ['graduate student', 'Bethany Paye', ['GradStu', 'Graduate student', 'Graduate student']]\n",
        "831 ['high school teacher', 'Jeff Combe', ['MiscTeacher', 'Teacher', 'Teacher']]\n",
        "836 ['medical student', 'Brandy Shattuck', False]\n",
        "837"
       ]
      },
      {
       "output_type": "stream",
       "stream": "stdout",
       "text": [
        " ['strategic planning manager', 'David Tambling', False]\n",
        "834 ['consulting attorney', 'Kim Taylor', False]\n",
        "835 ['towboat captain', 'Bernard Pena', False]\n",
        "3190 ['executive director', 'Anne Fritz', False]\n",
        "8886 ['French professor', 'Julie Singer', ['25-1124', 'Foreign Language and Literature Teachers, Postsecondary', 'French Professor']]\n",
        "8887"
       ]
      },
      {
       "output_type": "stream",
       "stream": "stdout",
       "text": [
        " ['video editor and freelance writer', 'Bill Hammon', False]\n",
        "8880 ['foreign service officer', 'Dana Murray', False]\n",
        "8881 ['recent math graduate & pizza delivery person', 'Joe Thomas', False]\n",
        "3658"
       ]
      },
      {
       "output_type": "stream",
       "stream": "stdout",
       "text": [
        " ['member services coordinator', 'Pam Spitzner', False]\n",
        "3659 ['student', 'Andrew Rostan', False]\n",
        "3654 ['elementary school principal', 'Steven King', ['11-9032', 'Education Administrators, Elementary and Secondary School', 'Elementary School Principal']]\n",
        "3655 ['homemaker', 'Lisa Manley', False]\n",
        "3656"
       ]
      },
      {
       "output_type": "stream",
       "stream": "stdout",
       "text": [
        " ['civil engineering business owner', 'Zelda Nash', False]\n",
        "3657 ['grocery clerk', 'Misha Dashevsky', False]\n",
        "3650 ['recent college graduate', 'Victor Lee', False]\n",
        "3651"
       ]
      },
      {
       "output_type": "stream",
       "stream": "stdout",
       "text": [
        " ['sales support specialist', 'Mary Beth Kinnon', False]\n",
        "3652 ['business analyst', 'Maggi McKenzie', ['13-1111', 'Management Analysts', 'Business Analyst']]\n",
        "3653 ['director of customer service', \"Michael O'Hara\", False]\n",
        "2525 ['graduate student', 'Maribeth Swiatek', ['GradStu', 'Graduate student', 'Graduate student']]\n",
        "2524 ['biologist', 'Dave Hyndman', ['19-1029', 'Biological Scientists, All Other', 'Biologist']]\n",
        "2527 ['financial analyst', 'Joel Zuckerman', False]\n",
        "2526"
       ]
      },
      {
       "output_type": "stream",
       "stream": "stdout",
       "text": [
        " ['law student', 'Greg Ellis', False]\n",
        "2521 ['attorney', 'Trish Thompson', ['23-1011', 'Lawyers', 'Attorney']]\n",
        "2520 ['college assistant', 'Valerie Porter', False]\n",
        "2523 ['import specialist', 'Maryanne Noonan', False]\n",
        "2522 ['lawyer & teacher', 'Ted Kreps', ['MiscTeacher', 'Teacher', 'Teacher']]\n",
        "2529"
       ]
      },
      {
       "output_type": "stream",
       "stream": "stdout",
       "text": [
        " ['university student', 'Heather Harvey', False]\n",
        "2528 ['English professor', 'Betty Altruda', False]\n",
        "5065 ['junior at DePauw University', 'Katy Sprinkel', False]\n",
        "5064"
       ]
      },
      {
       "output_type": "stream",
       "stream": "stdout",
       "text": [
        " ['sophomore at Yale University', 'Claire Ogilvie', False]\n",
        "5067 ['junior at the University of Virginia', 'Chanel Lee', False]\n",
        "5066 ['senior at Harvey Mudd College', 'Andrew Hutchings', False]\n",
        "5061"
       ]
      },
      {
       "output_type": "stream",
       "stream": "stdout",
       "text": [
        " ['sophomore at the University of Southern California', 'Leslie Cooper', False]\n",
        "5060 ['freshman at the University of Pennsylvania', 'Sub Stockman', False]\n",
        "5063"
       ]
      },
      {
       "output_type": "stream",
       "stream": "stdout",
       "text": [
        " ['senior at Santa Clara University', 'Bryan Stofferahn', False]\n",
        "5062 ['junior at Brown University', 'Adia Benton', False]\n",
        "5069 ['sophomore at Stanford University', 'Mari Webel', False]\n",
        "5068"
       ]
      },
      {
       "output_type": "stream",
       "stream": "stdout",
       "text": [
        " ['junior at the University of Illinois-Chicago', 'Lucas Bergman', False]\n",
        "4408 ['law student', 'Kate Swenson', False]\n",
        "4409 ['social work supervisor', 'Carol Camper', False]\n",
        "4404 ['college professor', 'Diane Sager', False]\n",
        "4405"
       ]
      },
      {
       "output_type": "stream",
       "stream": "stdout",
       "text": [
        " ['bookstore manager', 'Court Hayes', False]\n",
        "4406 ['designer', 'Scott Chase', False]\n",
        "4407 ['history teacher', 'Bob Black', ['MiscTeacher', 'Teacher', 'Teacher']]\n",
        "4400 ['actor', 'Malcolm Callan', False]\n",
        "4401 ['social studies teacher', 'Bill Cute', ['MiscTeacher', 'Teacher', 'Teacher']]\n",
        "4402 ['charter school teacher', 'Rachel Barg', ['MiscTeacher', 'Teacher', 'Teacher']]\n",
        "4403 ['math and science tutor', 'Juli\\xe1n Altschul', False]\n",
        "928 ['author and physics teacher', 'Jenny Scharf', ['MiscTeacher', 'Teacher', 'Teacher']]\n",
        "929"
       ]
      },
      {
       "output_type": "stream",
       "stream": "stdout",
       "text": [
        " ['stay-at-home dad', 'Andrew Greenbaum', False]\n",
        "920 ['Naval officer', 'Brian Pearson', False]\n",
        "921 ['horseback riding instructor', 'Margaret Rhodes', ['25-3021', 'Self-Enrichment Education Teachers', 'Horseback Riding Instructor']]\n",
        "922 ['advertising copywriter', 'Richard Bernstein', ['27-3043', 'Writers and Authors', 'Advertising Copywriter']]\n",
        "923 ['newspaper copy editor', 'Mark Stacy', False]\n",
        "924"
       ]
      },
      {
       "output_type": "stream",
       "stream": "stdout",
       "text": [
        " ['health care systems specialist', 'Rob Vernon', False]\n",
        "925 ['billing analyst', 'Cara Colbert', False]\n",
        "926 ['prepress technician and ethics instructor', 'Ellyn Ritterskamp', False]\n",
        "927 ['writer', 'Oscar Avila', False]\n",
        "5393"
       ]
      },
      {
       "output_type": "stream",
       "stream": "stdout",
       "text": [
        " ['legal analyst', 'Carol Lee', False]\n",
        "5392 ['government analyst', 'Michael Magdalena', False]\n",
        "5391 ['homemaker and substitute teacher', 'Lori Fountain', ['MiscTeacher', 'Teacher', 'Teacher']]\n",
        "5390 ['senior', 'Lisa Makar', False]\n",
        "5397 ['bank teller', 'Elza Reeves', ['43-3071', 'Tellers', 'Bank Teller']]\n",
        "5396"
       ]
      },
      {
       "output_type": "stream",
       "stream": "stdout",
       "text": [
        " ['writer', 'Brian Levinson', False]\n",
        "5395 ['attorney', 'Rebecca Molloy', ['23-1011', 'Lawyers', 'Attorney']]\n",
        "5394 ['bartender', 'Chris Frankel', ['35-3011', 'Bartenders', 'Bartender']]\n",
        "5399 ['director of strategy', 'Tami Deeb', False]\n",
        "5398 ['graduate student', 'Mike Bindis', ['GradStu', 'Graduate student', 'Graduate student']]\n",
        "7451 ['physician', 'Dick Dobrow', False]\n",
        "8991"
       ]
      },
      {
       "output_type": "stream",
       "stream": "stdout",
       "text": [
        " ['technical data manager', 'John Gardner', False]\n",
        "784 ['graduate student', 'Michael Hall', ['GradStu', 'Graduate student', 'Graduate student']]\n",
        "785 ['Seniors Tournament winner', 'David Cuneo', False]\n",
        "786 ['graduate student', 'Bernie Cullen', ['GradStu', 'Graduate student', 'Graduate student']]\n",
        "787 ['pathologist', 'Omar Shokeir', ['29-1069', 'Physicians and Surgeons, All Other', 'Pathologist']]\n",
        "780 ['lawyer', 'Lucien Schmit', ['23-1011', 'Lawyers', 'Lawyer']]\n",
        "781 ['writer and consultant', 'David Sampugnaro', False]\n",
        "782"
       ]
      },
      {
       "output_type": "stream",
       "stream": "stdout",
       "text": [
        " ['playwright and director', 'Alan Bailey', False]\n",
        "783 ['attorney and stay-at-home mom', 'Susan Insoft', False]\n",
        "788 ['administrative assistant', 'Willie Costley', False]\n",
        "789"
       ]
      },
      {
       "output_type": "stream",
       "stream": "stdout",
       "text": [
        " ['journalist', 'Ben Nuckols', False]\n",
        "2357 ['administrative coordinator', 'Justin Budinoff', False]\n",
        "407 ['business manager', 'Mark Dawson', False]\n",
        "7159"
       ]
      },
      {
       "output_type": "stream",
       "stream": "stdout",
       "text": [
        " ['college professor', 'Deb Taub', False]\n",
        "406 ['geologist', 'Mike Hill', ['19-2042', 'Geoscientists, Except Hydrologists and Geographers', 'Geologist']]\n",
        "7157 ['chemist', 'Sarah Olson', False]\n",
        "7156 ['account executive', 'Anthony Fox', False]\n",
        "7155"
       ]
      },
      {
       "output_type": "stream",
       "stream": "stdout",
       "text": [
        " ['software consultant', 'John McLean', False]\n",
        "7154 ['governmental auditor', 'Matt McQueary', False]\n",
        "7153 ['orthopedic surgeon', 'Tom Toal', ['29-1067', 'Surgeons', 'Orthopedic Surgeon']]\n",
        "405 ['marketing vice president', 'Susan Fritsch-Cohen', False]\n",
        "7151"
       ]
      },
      {
       "output_type": "stream",
       "stream": "stdout",
       "text": [
        " ['labor relations journalist', 'Michael Rose', False]\n",
        "7150 ['assistant housing manager', 'Margaret Murphy', False]\n",
        "404 ['Navy wife', 'Michelle Covert', False]\n",
        "403 ['travel agent', 'Jane Jessell', ['41-3041', 'Travel Agents', 'Travel Agent']]\n",
        "8602"
       ]
      },
      {
       "output_type": "stream",
       "stream": "stdout",
       "text": [
        " ['stay-at-home mom', 'Katie Annis', False]\n",
        "402 ['foreign service officer', 'Chris Ward', False]\n",
        "8546 ['real estate salesman', 'Chris Hamilton', False]\n",
        "401"
       ]
      },
      {
       "output_type": "stream",
       "stream": "stdout",
       "text": [
        " ['attorney', 'Bob Scarpone', ['23-1011', 'Lawyers', 'Attorney']]\n",
        "8068 ['high school French teacher', 'Marcia Edmundson', ['MiscTeacher', 'Teacher', 'Teacher']]\n",
        "8069 ['AP world history teacher', 'Tina Baybay-Bykov', ['MiscTeacher', 'Teacher', 'Teacher']]\n",
        "8066 ['third grade teacher', 'Whitney Collins', ['MiscTeacher', 'Teacher', 'Teacher']]\n",
        "8067 ['sixth grade social studies teacher', 'Brenton Montie', ['MiscTeacher', 'Teacher', 'Teacher']]\n",
        "8064 ['high school AP English teacher', 'Kate Wilson', ['MiscTeacher', 'Teacher', 'Teacher']]\n",
        "400 ['accountant', 'Michael Daunt', ['13-2011', 'Accountants and Auditors', 'Accountant']]\n",
        "8062 ['fifth grade English teacher', 'Francesca Leibowitz', ['MiscTeacher', 'Teacher', 'Teacher']]\n",
        "8063 ['high school social studies teacher', 'John Hines', ['MiscTeacher', 'Teacher', 'Teacher']]\n",
        "8060 ['middle school teacher', 'Robin Cheney', ['MiscTeacher', 'Teacher', 'Teacher']]\n",
        "8061 ['high school history teacher', 'Terry Parker', ['MiscTeacher', 'Teacher', 'Teacher']]\n",
        "7485 ['high school college prep counselor', 'Chris Fleitas', False]\n",
        "7484 ['attorney', 'Sergio Llorian', ['23-1011', 'Lawyers', 'Attorney']]\n",
        "7487 ['marketing director', 'Donna Laux', ['11-2021', 'Marketing Managers', 'Marketing Director']]\n",
        "7486 ['homemaker and fitness instructor', 'Lindsy Lassere', False]\n",
        "7481"
       ]
      },
      {
       "output_type": "stream",
       "stream": "stdout",
       "text": [
        " ['college student', 'Susan Miller', False]\n",
        "7480 ['standardized test scorer', 'Matt Douma', False]\n",
        "7483 ['journalist', 'Libby Nelson', False]\n",
        "7482 ['exterminator', 'Joe Iriana', ['37-2021', 'Pest Control Workers', 'Exterminator']]\n",
        "8603"
       ]
      },
      {
       "output_type": "stream",
       "stream": "stdout",
       "text": [
        " ['housewife', 'Linda Shewey', False]\n",
        "7489 ['mother and cook', 'Aleisa Farrington', False]\n",
        "7488 ['environmental protection specialist', 'Rob Landolfi', False]\n",
        "20 ['lawyer', 'Greg Taylor', ['23-1011', 'Lawyers', 'Lawyer']]\n",
        "2899 ['aerospace engineer', 'Tom Nosek', ['17-2011', 'Aerospace Engineers', 'Aerospace Engineer']]\n",
        "2898"
       ]
      },
      {
       "output_type": "stream",
       "stream": "stdout",
       "text": [
        " ['registered nurse', 'Debby Arnold', ['29-1141', 'Registered Nurses', 'Registered Nurse']]\n",
        "2895 ['junior', 'Margaret Monroe', False]\n",
        "2894 ['senior', 'Dan Royles', False]\n",
        "2897 ['Teen Tournament winner', 'Fraser Woodford', False]\n",
        "2896"
       ]
      },
      {
       "output_type": "stream",
       "stream": "stdout",
       "text": [
        " ['junior', 'Lindsey Bartlett', False]\n",
        "2891 ['junior', 'Emily Karrs', False]\n",
        "2890 ['junior', 'Bernard Holloway', False]\n",
        "2893 ['senior', 'Anna Gohmann', False]\n",
        "2892 ['senior', 'Blake Hernandez', False]\n",
        "1454"
       ]
      },
      {
       "output_type": "stream",
       "stream": "stdout",
       "text": [
        " ['foreign service officer', 'Eric Terzuolo', False]\n",
        "1455 ['computer programming student', 'Bob Willoughby', False]\n",
        "1456 ['film editor', 'Ann Jackman', ['27-4032', 'Film and Video Editors', 'Film Editor']]\n",
        "1457 ['grad student', 'Jesse Liu', False]\n",
        "1450 ['law student', 'Jon Bourgault', False]\n",
        "1451 ['teacher', 'Wendy Middleton', ['MiscTeacher', 'Teacher', 'Teacher']]\n",
        "1452 ['teacher', 'George Soule', ['MiscTeacher', 'Teacher', 'Teacher']]\n",
        "1453"
       ]
      },
      {
       "output_type": "stream",
       "stream": "stdout",
       "text": [
        " ['physician', 'Elaine Zollner', False]\n",
        "1458 ['editor', 'Kerri Griffith', False]\n",
        "1459 ['homemaker', 'Lisa Guay', False]\n",
        "1108 ['pharmacy technician', 'Jason Richards', ['29-2052', 'Pharmacy Technicians', 'Pharmacy Technician']]\n",
        "1109 ['marine biologist', 'Zeb Schobernd', ['19-1023', 'Zoologists and Wildlife Biologists', 'Marine Biologist']]\n",
        "5246 ['architectural drafter', 'Celeste Cooper', ['17-3011', 'Architectural and Civil Drafters', 'Architectural Drafter']]\n",
        "1722 ['actor', 'Eric Mercaldo', False]\n",
        "5240"
       ]
      },
      {
       "output_type": "stream",
       "stream": "stdout",
       "text": [
        " ['home builder', 'Bill Kinnaird', False]\n",
        "1894 ['hotel concierge', 'James Arey', ['39-6012', 'Concierges', 'Hotel Concierge']]\n",
        "8601 ['theater scholar', 'Timothy Youker', False]\n",
        "5243 ['preschool teacher', 'Todd Nacey', ['MiscTeacher', 'Teacher', 'Teacher']]\n",
        "1895 ['homemaker and attorney', 'Gigi Gilman', False]\n",
        "5242"
       ]
      },
      {
       "output_type": "stream",
       "stream": "stdout",
       "text": [
        " ['software test engineer', 'Al Davis', False]\n",
        "1896 ['investment adviser', 'Theo Caldwell', False]\n",
        "1897 ['pharmacist', 'Ted Hsu', False]\n",
        "1890 ['stay-at-home dad', 'Peter Schmidt', False]\n",
        "1837"
       ]
      },
      {
       "output_type": "stream",
       "stream": "stdout",
       "text": [
        " ['project coordinator', 'Kathy Lisiewicz', False]\n",
        "1891 ['government relations manager', 'Matt Doyle', False]\n",
        "1892 ['recent law school graduate', 'Jeff Goldfarb', False]\n",
        "1893 ['high school teacher', 'Kathy Lester', ['MiscTeacher', 'Teacher', 'Teacher']]\n",
        "4923 ['sophomore', 'Elizabeth Nyman', False]\n",
        "4922"
       ]
      },
      {
       "output_type": "stream",
       "stream": "stdout",
       "text": [
        " ['senior', 'Trish Ranney', False]\n",
        "4921 ['senior', 'Milo Dochow', False]\n",
        "4920 ['senior', 'Melissa Sexstone', False]\n",
        "4798 ['writer', 'Jacob Gold', False]\n",
        "4799 ['college advisor', 'Mary McGhee', False]\n",
        "4794 ['teacher', 'Amy Iman', ['MiscTeacher', 'Teacher', 'Teacher']]\n",
        "4795 ['policeman', 'Alan Walters', ['33-3051', \"Police and Sheriff's Patrol Officers\", 'Policeman']]\n",
        "4796"
       ]
      },
      {
       "output_type": "stream",
       "stream": "stdout",
       "text": [
        " ['project coordinator', 'Ji Hee Seuk', False]\n",
        "4797 ['library media specialist', 'Melissa Koester', ['25-9011', 'Audio-Visual and Multimedia Collections Specialists', 'Library Media Specialist']]\n",
        "4790 ['graduate student and radio deejay', 'Ellen Lucast', ['GradStu', 'Graduate student', 'Graduate student']]\n",
        "4791 ['Navy physician', 'Elton Bowen', False]\n",
        "4792 ['water treatment operator', 'Pat Smith', False]\n",
        "4926 ['junior', 'Oliver Longwell', False]\n",
        "5836"
       ]
      },
      {
       "output_type": "stream",
       "stream": "stdout",
       "text": [
        " ['assistant to the principal', 'Jennifer Quinn', False]\n",
        "5837 ['attorney', 'Jeff Kuhn', ['23-1011', 'Lawyers', 'Attorney']]\n",
        "5834 ['homemaker', 'Julia Dominick', False]\n",
        "5835 ['high school history teacher', 'Rice Whaley', ['MiscTeacher', 'Teacher', 'Teacher']]\n",
        "5832 ['quality control analyst', 'Herbie Tinsley', False]\n",
        "5833 ['copy editor', 'Laura Groch', ['27-3041', 'Editors', 'Copy Editor']]\n",
        "5830 ['sales rep', 'Louis Irizarry', False]\n",
        "5831 ['teacher', 'Nick Leggatt', ['MiscTeacher', 'Teacher', 'Teacher']]\n",
        "2131"
       ]
      },
      {
       "output_type": "stream",
       "stream": "stdout",
       "text": [
        " ['assistant', 'Meaghan Parker', False]\n",
        "5838 ['researcher', 'Devin Flanigan', False]\n",
        "5839 ['web site coordinator', 'Ken Nail', False]\n",
        "8128 ['law student', 'Andrew Schwerin', False]\n",
        "2668"
       ]
      },
      {
       "output_type": "stream",
       "stream": "stdout",
       "text": [
        " ['writer', 'Mike Andrews', False]\n",
        "4 ['food bank agency coordinator', 'Rich Hartz', False]\n",
        "2669 ['consumer new products developer', 'Lauren Cercone', False]\n",
        "6901 ['school librarian', 'Kim Platnick', ['25-4021', 'Librarians', 'School Librarian']]\n",
        "8891"
       ]
      },
      {
       "output_type": "stream",
       "stream": "stdout",
       "text": [
        " ['education-program manager', 'Carolyn Collins', False]\n",
        "8890 ['senior', 'Tom Cubbage', False]\n",
        "2778 ['Emmy-nominated actress', 'Jane Kaczmarek', False]\n",
        "2779 ['actor', 'Doug Savant', False]\n",
        "4899 ['hydrogeologist', 'Paul Graff', ['19-2043', 'Hydrologists', 'Hydrogeologist']]\n",
        "4898"
       ]
      },
      {
       "output_type": "stream",
       "stream": "stdout",
       "text": [
        " ['farmer', 'Shane Richman', False]\n",
        "2770 ['speech and language pathologist', 'Jill Bunzendahl Chimka', False]\n",
        "2771 ['TV host', 'Regis Philbin', False]\n",
        "2772 ['actress', 'Donna Mills', ['27-2011', 'Actors', 'Actress']]\n",
        "3002 ['sales executive', 'Sal DeLuca', False]\n",
        "2774"
       ]
      },
      {
       "output_type": "stream",
       "stream": "stdout",
       "text": [
        " ['fashion maven', 'Carson Kressley', False]\n",
        "2775 ['TV legal expert', 'Nancy Grace', False]\n",
        "2776 ['TV host', 'Regis Philbin', False]\n",
        "2777 ['pitcher', 'Curt Schilling', False]\n",
        "3286 ['sous chef', 'Leslie Quickley', ['35-1011', 'Chefs and Head Cooks', 'Sous Chef']]\n",
        "7979"
       ]
      },
      {
       "output_type": "stream",
       "stream": "stdout",
       "text": [
        " ['professor', 'Claude Welch', False]\n",
        "7978 ['radio newscaster', 'Mike Stafford', False]\n",
        "7975 ['11-year-old', \"Katie O'Meara\", False]\n",
        "7974"
       ]
      },
      {
       "output_type": "stream",
       "stream": "stdout",
       "text": [
        " ['executive director for a nonprofit', 'Lori Hohenleitner', False]\n",
        "7977 ['11-year-old', 'Larkin Breitner', False]\n",
        "7976 ['11-year-old', 'Alex Johnson', False]\n",
        "7971 ['12-year-old', 'Hallie Fox', False]\n",
        "7970 ['12-year-old', 'Andrew Grace', False]\n",
        "7973"
       ]
      },
      {
       "output_type": "stream",
       "stream": "stdout",
       "text": [
        " ['12-year-old', 'Greg Boscaiu', False]\n",
        "7972 ['12-year-old', 'Neha Embar', False]\n",
        "6266 ['wood finisher', 'Brent Philyaw', False]\n",
        "6267 ['12-year-old', 'Sandra Thomas', False]\n",
        "6264"
       ]
      },
      {
       "output_type": "stream",
       "stream": "stdout",
       "text": [
        " ['11-year-old', 'Tarun Chitra', False]\n",
        "6265 ['journalist', 'Sarah Linn', False]\n",
        "6262 ['12-year-old', 'Benjamin Schwartz', False]\n",
        "6263 ['12-year-old', 'Anastasia Knasiak', False]\n",
        "6260 ['middle school English teacher', 'Ellyn Feerick', ['MiscTeacher', 'Teacher', 'Teacher']]\n",
        "6261"
       ]
      },
      {
       "output_type": "stream",
       "stream": "stdout",
       "text": [
        " ['video game tester and camp counselor', 'Stefan Goodreau', False]\n",
        "5167 ['teacher', 'Jody Hess', ['MiscTeacher', 'Teacher', 'Teacher']]\n",
        "6268 ['13-year-old', 'Billy King', False]\n",
        "3008 ['orthopedic surgeon', 'Jeff Granger', ['29-1067', 'Surgeons', 'Orthopedic Surgeon']]\n",
        "1589 ['editor', 'Penny Willis', False]\n",
        "7528 ['attorney', 'Balaji Narain', ['23-1011', 'Lawyers', 'Attorney']]\n",
        "3467 ['budget analyst', 'Jonathan Seamans', ['13-2031', 'Budget Analysts', 'Budget Analyst']]\n",
        "3466 ['attorney', 'Lisa Meier', ['23-1011', 'Lawyers', 'Attorney']]\n",
        "3465 ['stay-at-home mom', 'Heather Snap', False]\n",
        "3464"
       ]
      },
      {
       "output_type": "stream",
       "stream": "stdout",
       "text": [
        " ['law student', 'Rob Deichert', False]\n",
        "3463 ['small business manager', 'Liz Andres', False]\n",
        "3462 ['administrative assistant', \"Sean O'Donnell\", False]\n",
        "3461 ['graduate student', 'Laura Jansen', ['GradStu', 'Graduate student', 'Graduate student']]\n",
        "3460 ['judicial assistant', 'Gerardo Gutierrez', False]\n",
        "8897"
       ]
      },
      {
       "output_type": "stream",
       "stream": "stdout",
       "text": [
        " ['musician and actor', 'Vincent Soatikee', False]\n",
        "8896 ['legal technology consultant', 'Maura McKenna', False]\n",
        "8895 ['State Department employee', 'Mark Lowenthal', False]\n",
        "7158 ['teacher', 'Ted Curtis', ['MiscTeacher', 'Teacher', 'Teacher']]\n",
        "8893 ['stage manager', 'Paul Hjelmervik', ['27-2012', 'Producers and Directors', 'Stage Manager']]\n",
        "8892"
       ]
      },
      {
       "output_type": "stream",
       "stream": "stdout",
       "text": [
        " ['fraud investigator', 'Erik Post', False]\n",
        "3469 ['air traffic controller', 'Marty Daly', ['53-2021', 'Air Traffic Controllers', 'Air Traffic Controller']]\n",
        "3468 ['writer', 'June Murphy', False]\n",
        "664 ['attorney', 'Larry Kole', ['23-1011', 'Lawyers', 'Attorney']]\n",
        "4902 ['book editor', 'Hilary Teeman', ['27-3041', 'Editors', 'Book Editor']]\n",
        "1583 ['junior', 'Andrew Watkins', False]\n",
        "663"
       ]
      },
      {
       "output_type": "stream",
       "stream": "stdout",
       "text": [
        " ['software designer', 'Mark Eckard', False]\n",
        "4905 ['retailer and student', 'Tom Morris', False]\n",
        "2407 ['defense policy analyst', 'Jason Zaborski', False]\n",
        "1585 ['senior', 'Laura Ansley', False]\n",
        "5238"
       ]
      },
      {
       "output_type": "stream",
       "stream": "stdout",
       "text": [
        " ['administrator', 'Joel Sacks', False]\n",
        "1738 ['talent manager', 'Peter Iselin', ['13-1011', 'Agents and Business Managers of Artists, Performers, and Athletes', 'Talent Manager']]\n",
        "1731 ['catering assistant', 'Margaret Kickliter', False]\n",
        "1730 ['pilot', 'Ben Huston', False]\n",
        "1733 ['medical student', 'Cres Heasley', False]\n",
        "5233 ['teacher', 'Henry Quillen', ['MiscTeacher', 'Teacher', 'Teacher']]\n",
        "1735 ['bartender', 'Dave Binnig', ['35-3011', 'Bartenders', 'Bartender']]\n",
        "5235 ['graduate student', 'Michan Connor', ['GradStu', 'Graduate student', 'Graduate student']]\n",
        "1737 ['graduate student', 'Mia McIver', ['GradStu', 'Graduate student', 'Graduate student']]\n",
        "1736"
       ]
      },
      {
       "output_type": "stream",
       "stream": "stdout",
       "text": [
        " ['retired executive, now web site designer', 'Mary LoSardo', False]\n",
        "2404 ['food buyer', 'Jay Giller', False]\n",
        "3070 ['safety & human resources assistant', 'Diane Woodson', False]\n",
        "3071 ['writer', 'Brian McCullough', False]\n",
        "1597 ['attorney', 'Pete Kearns', ['23-1011', 'Lawyers', 'Attorney']]\n",
        "1596 ['biochemist', 'Rick Rodgers', ['19-1021', 'Biochemists and Biophysicists', 'Biochemist']]\n",
        "3074"
       ]
      },
      {
       "output_type": "stream",
       "stream": "stdout",
       "text": [
        " ['administrative assistant', 'Carrie Youngblood', False]\n",
        "3075 ['construction inspector', 'Chad Kaihe', ['47-4011', 'Construction and Building Inspectors', 'Construction Inspector']]\n",
        "1593 ['attorney', 'Jeff Barlow', ['23-1011', 'Lawyers', 'Attorney']]\n",
        "1592 ['designer', 'Phil Duffy', False]\n",
        "3078 ['minister', 'Rev. Ricky Hoyt', ['21-2011', 'Clergy', 'Minister']]\n",
        "3079 ['judicial law clerk', 'David Bitkower', False]\n",
        "1599"
       ]
      },
      {
       "output_type": "stream",
       "stream": "stdout",
       "text": [
        " ['claims representative', 'Brad Miliauskas', False]\n",
        "1598 ['lobbyist', 'Jim Melberg', ['27-3031', 'Public Relations Specialists', 'Lobbyist']]\n",
        "2402 ['management consultant', 'Chris Taddei', ['13-1111', 'Management Analysts', 'Management Consultant']]\n",
        "2403 ['vice president of marketing', 'Wade Lee', False]\n",
        "5649 ['real estate broker', 'Marcie Berson', ['41-9021', 'Real Estate Brokers', 'Real Estate Broker']]\n",
        "5648 ['student', 'Ben Bishop', False]\n",
        "5641"
       ]
      },
      {
       "output_type": "stream",
       "stream": "stdout",
       "text": [
        " ['medical student', 'Erica Weinberg', False]\n",
        "5640 ['intellectual property attorney', 'David Frazee', False]\n",
        "5643 ['high school librarian', 'Rose Pate', ['25-4021', 'Librarians', 'High School Librarian']]\n",
        "5642 ['online editor', 'Kyle Holtan', False]\n",
        "5645 ['law student', 'Danielle Sexton', False]\n",
        "5644 ['high school English teacher', 'Peter Pinnow', ['MiscTeacher', 'Teacher', 'Teacher']]\n",
        "5647"
       ]
      },
      {
       "output_type": "stream",
       "stream": "stdout",
       "text": [
        " ['Census field representative', 'Judy Mermelstein', False]\n",
        "5646 ['attorney', 'Michael Gerardi', ['23-1011', 'Lawyers', 'Attorney']]\n",
        "2400 ['jury consultant', 'Dave Zehner', False]\n",
        "8065 ['high school history teacher', 'Drew Joanides', ['MiscTeacher', 'Teacher', 'Teacher']]\n",
        "2401 ['graduate teaching assistant', 'Jill Jones-Renger', False]\n",
        "4826"
       ]
      },
      {
       "output_type": "stream",
       "stream": "stdout",
       "text": [
        " ['stay-at-home mom and volunteer', 'Kathleen Gallagher', False]\n",
        "489 ['librarian', 'Lynne Wexler', False]\n",
        "488 ['corporate controller', 'John Ryan', False]\n",
        "487"
       ]
      },
      {
       "output_type": "stream",
       "stream": "stdout",
       "text": [
        " ['resident physician', 'Shane Whitlock', False]\n",
        "486 ['systems engineer', 'Paul Roder', False]\n",
        "485 ['high school teacher', 'Lori Drummond', ['MiscTeacher', 'Teacher', 'Teacher']]\n",
        "484 ['naval engineer', 'Christian Stallsmith', ['17-2121', 'Marine Engineers and Naval Architects', 'Naval Engineer']]\n",
        "483 ['technical products specialist', 'Robert Slaven', False]\n",
        "482 ['lawyer', 'Bill Pitassy', ['23-1011', 'Lawyers', 'Lawyer']]\n",
        "481 ['graduate student and newlywed', 'Russ Schumacher', ['GradStu', 'Graduate student', 'Graduate student']]\n",
        "480"
       ]
      },
      {
       "output_type": "stream",
       "stream": "stdout",
       "text": [
        " ['freelance educator', 'Jerry Harvey', False]\n",
        "6468 ['senior', 'Lindsay Oxx', False]\n",
        "6469 ['senior', 'Gabriel Johnson', False]\n",
        "6460 ['senior', 'Bonny Jain', False]\n",
        "6461 ['senior', 'Will Dantzler', False]\n",
        "6462 ['attorney', 'Frank Amanat', ['23-1011', 'Lawyers', 'Attorney']]\n",
        "6463 ['high school teacher', 'Liz Slaby', ['MiscTeacher', 'Teacher', 'Teacher']]\n",
        "6464"
       ]
      },
      {
       "output_type": "stream",
       "stream": "stdout",
       "text": [
        " ['junior', 'Kennedy Stomps', False]\n",
        "4827 ['manufacturer', 'Jon Folkestad', False]\n",
        "6466 ['junior', 'Zach Blumenfeld', False]\n",
        "6467 ['senior', 'Forrest Sturgill', False]\n",
        "7742 ['plastic surgeon', 'Chuck Ettelson', ['29-1067', 'Surgeons', 'Plastic Surgeon']]\n",
        "7743 ['test prep teacher and actor', 'Beau Henson', ['MiscTeacher', 'Teacher', 'Teacher']]\n",
        "7740 ['litigator', 'Margie Cohen', False]\n",
        "7741"
       ]
      },
      {
       "output_type": "stream",
       "stream": "stdout",
       "text": [
        " ['law student', 'Mithun Kamath', False]\n",
        "7746 ['mechanical engineer', 'Richie Rodriguez', ['17-2141', 'Mechanical Engineers', 'Mechanical Engineer']]\n",
        "7747 ['actor', 'Jay Ben Markson', False]\n",
        "7744 ['registered nurse', 'Jeanie Kenkel', ['29-1141', 'Registered Nurses', 'Registered Nurse']]\n",
        "7745 ['municipal court clerk', 'Catie Fletcher', False]\n",
        "7748"
       ]
      },
      {
       "output_type": "stream",
       "stream": "stdout",
       "text": [
        " ['stay-at-home mom', 'Ruth Robbins', False]\n",
        "7749 ['mechanical and electrical drafter', 'Sarah Curtis', False]\n",
        "3922 ['tax attorney', 'Sheri Smith', ['23-1011', 'Lawyers', 'Tax Attorney']]\n",
        "3923 ['caddy', \"Declan O'Connell\", False]\n",
        "3920 ['polymer chemist', 'Philip Sasse', False]\n",
        "3921"
       ]
      },
      {
       "output_type": "stream",
       "stream": "stdout",
       "text": [
        " ['librarian', 'Susan Thaler', False]\n",
        "3926 ['economic consultant', 'Sandi Lin', False]\n",
        "3927 ['plastic surgeon', 'Tim Abou-Sayed', ['29-1067', 'Surgeons', 'Plastic Surgeon']]\n",
        "3924 ['editor', 'Liz Lesnick', False]\n",
        "3925 ['band director', 'Jennifer Gossett', False]\n",
        "3928"
       ]
      },
      {
       "output_type": "stream",
       "stream": "stdout",
       "text": [
        " ['administrative assistant', 'Judy Moss', False]\n",
        "3929 ['public relations coordinator', 'Edgar B. Herwick III', False]\n",
        "6723 ['housewife', 'Ann Rusthoven', False]\n",
        "6722 ['anesthesiologist', 'Jordan Brand', ['29-1061', 'Anesthesiologists', 'Anesthesiologist']]\n",
        "6721 ['lawyer', 'Suzanne Tetreault', ['23-1011', 'Lawyers', 'Lawyer']]\n",
        "6720"
       ]
      },
      {
       "output_type": "stream",
       "stream": "stdout",
       "text": [
        " ['documentary filmmaker', 'Jesse Achtenberg', False]\n",
        "6727 ['actor', 'Luke Perry', False]\n",
        "6726 ['actor and office worker', 'Todd Aiello', False]\n",
        "6725 ['teacher', 'Miriam Carson', ['MiscTeacher', 'Teacher', 'Teacher']]\n",
        "6724 ['chemical engineer', 'Vijay Balse', False]\n",
        "6729"
       ]
      },
      {
       "output_type": "stream",
       "stream": "stdout",
       "text": [
        " ['actor', 'Beau Bridges', False]\n",
        "6728 ['actress', 'Judith Ivey', ['27-2011', 'Actors', 'Actress']]\n",
        "8309 ['geographic information systems specialist', 'Emily Vandermeulen', False]\n",
        "8308 ['teacher and small business owner', 'Eric Nelson', ['MiscTeacher', 'Teacher', 'Teacher']]\n",
        "5655 ['actor', 'Ian Gould', False]\n",
        "6099"
       ]
      },
      {
       "output_type": "stream",
       "stream": "stdout",
       "text": [
        " ['attorney, correspondent and co-host', 'Star Jones', False]\n",
        "6098 ['journalist', 'Jeff Greenfield', False]\n",
        "6091 ['actress', 'Wendie Malick', ['27-2011', 'Actors', 'Actress']]\n",
        "6090 ['actor', 'Steve Harris', False]\n",
        "6093 ['singer-songwriter', 'Graham Nash', False]\n",
        "6092 ['actor', 'Mike Farrell', False]\n",
        "6095"
       ]
      },
      {
       "output_type": "stream",
       "stream": "stdout",
       "text": [
        " ['actor, TV producer and movie director', 'Garry Marshall', False]\n",
        "6094 ['actress', 'Jane Seymour', ['27-2011', 'Actors', 'Actress']]\n",
        "6097 ['math tutor', 'Bryan Cothorn', False]\n",
        "6096 ['clerical worker', 'Joanna Lees', False]\n",
        "3678 ['marketing research vice president', 'Ann Hannon', False]\n",
        "3679"
       ]
      },
      {
       "output_type": "stream",
       "stream": "stdout",
       "text": [
        " ['pharmaceutical territory manager', 'Kevin Larkin', False]\n",
        "3672 ['lawyer', 'David Orlin', ['23-1011', 'Lawyers', 'Lawyer']]\n",
        "3673 ['office manager', 'Rosemary Wiseman', False]\n",
        "3670 ['mechanical engineer', 'Alan Taber', ['17-2141', 'Mechanical Engineers', 'Mechanical Engineer']]\n",
        "3671 ['journalist', 'Mary Mogan Edwards', False]\n",
        "3676 ['online editor', 'Meg Sullivan', False]\n",
        "3677 ['teacher', 'Jean Kosits', ['MiscTeacher', 'Teacher', 'Teacher']]\n",
        "3674"
       ]
      },
      {
       "output_type": "stream",
       "stream": "stdout",
       "text": [
        " ['marketing manager', 'Dan Felsenheld', False]\n",
        "3675 ['graduate student', 'Franklin Oliver', ['GradStu', 'Graduate student', 'Graduate student']]\n",
        "2543 ['retired executive secretary', 'Lyn Jessup', False]\n",
        "2542 ['Ph.D entomologist', 'Joe Spencer', False]\n",
        "2541 ['attorney', 'Liza Marshall', ['23-1011', 'Lawyers', 'Attorney']]\n",
        "2540"
       ]
      },
      {
       "output_type": "stream",
       "stream": "stdout",
       "text": [
        " ['insurance administrator', \"Phil O' Donoghue\", False]\n",
        "2547 ['researcher', 'Sherman Lo', False]\n",
        "2546 ['chemistry teacher', 'Nicole Cook', ['MiscTeacher', 'Teacher', 'Teacher']]\n",
        "2545 ['veterinary technician', 'Sara Terrell', False]\n",
        "2544 ['teacher', 'Sean Carson', ['MiscTeacher', 'Teacher', 'Teacher']]\n",
        "2549 ['civil engineer', 'Jack Martin', ['17-2051', 'Civil Engineers', 'Civil Engineer']]\n",
        "2548 ['lawyer', 'Allison Otto', ['23-1011', 'Lawyers', 'Lawyer']]\n",
        "1104 ['attorney', 'John Baird', ['23-1011', 'Lawyers', 'Attorney']]\n",
        "1105"
       ]
      },
      {
       "output_type": "stream",
       "stream": "stdout",
       "text": [
        " ['human resources advisor', 'Doug Fisher', False]\n",
        "1102 ['attorney', 'Elizabeth Randisi', ['23-1011', 'Lawyers', 'Attorney']]\n",
        "1103 ['teacher', 'Will Hester', ['MiscTeacher', 'Teacher', 'Teacher']]\n",
        "5003 ['from the Broadway play <i>Wise Guys</i>...', 'Nathan Lane', False]\n",
        "3581 ['publications coordinator', 'Bobbie Hartman', False]\n",
        "3582"
       ]
      },
      {
       "output_type": "stream",
       "stream": "stdout",
       "text": [
        " ['quality assurance engineer', 'Anders Martinson', False]\n",
        "3583 ['humanities teacher', 'Jamey Kirby', ['MiscTeacher', 'Teacher', 'Teacher']]\n",
        "5007 ['from <i>Sports Night</i>...', 'Peter Krause', False]\n",
        "3585 ['actress', 'Emma Samms', ['27-2011', 'Actors', 'Actress']]\n",
        "3586 ['actor', 'Dean Stockwell', False]\n",
        "5004 ['civil engineer', 'Louis Burnoski', ['17-2051', 'Civil Engineers', 'Civil Engineer']]\n",
        "3588 ['professional soccer player', 'Brandi Chastain', ['27-2021', 'Athletes and Sports Competitors', 'Professional Soccer Player']]\n",
        "3589"
       ]
      },
      {
       "output_type": "stream",
       "stream": "stdout",
       "text": [
        " ['actor', 'Seth Green', False]\n",
        "5009 ['scientist', 'Donna Vogel', False]\n",
        "1101 ['Naval officer', 'Mark Crouter', False]\n",
        "8747 ['graduate student of computer science', 'James Cross', ['GradStu', 'Graduate student', 'Graduate student']]\n",
        "902 ['attorney', 'Gordon Frankel Light', ['23-1011', 'Lawyers', 'Attorney']]\n",
        "903 ['attorney', 'Iris Woon', ['23-1011', 'Lawyers', 'Attorney']]\n",
        "4428 ['high school theology teacher', 'Ralph Dellanno', ['MiscTeacher', 'Teacher', 'Teacher']]\n",
        "4429 ['graduate student of philosophy', 'Per Milam', ['GradStu', 'Graduate student', 'Graduate student']]\n",
        "906 ['homemaker and substitute teacher', 'Jennifer Burrus', ['MiscTeacher', 'Teacher', 'Teacher']]\n",
        "907 ['attorney', 'Kate Brogan', ['23-1011', 'Lawyers', 'Attorney']]\n",
        "904"
       ]
      },
      {
       "output_type": "stream",
       "stream": "stdout",
       "text": [
        " ['recent college graduate', 'Rohan Virginkar', False]\n",
        "905 ['laboratory supervisor', 'Jeremy Davis', False]\n",
        "4422 ['graduate student', 'Chris Kozey', ['GradStu', 'Graduate student', 'Graduate student']]\n",
        "4423 ['survey manager', 'Stephanie Lalonde', False]\n",
        "4420"
       ]
      },
      {
       "output_type": "stream",
       "stream": "stdout",
       "text": [
        " ['naval architect', 'Andy Anderson', False]\n",
        "4421 ['creative director', 'Heather Fach', False]\n",
        "4426 ['graduate student', 'Bob DeBellis', ['GradStu', 'Graduate student', 'Graduate student']]\n",
        "4427 ['substitute teacher', 'Linda Kampe Houtz', ['MiscTeacher', 'Teacher', 'Teacher']]\n",
        "4424 ['attorney', 'Adam Swensek', ['23-1011', 'Lawyers', 'Attorney']]\n",
        "4425 ['resident physician', 'Angela Janis', False]\n",
        "8746"
       ]
      },
      {
       "output_type": "stream",
       "stream": "stdout",
       "text": [
        " ['accounting manager', 'Rebecca Anderson', False]\n",
        "3293 ['public information officer', 'David Waters', False]\n",
        "8743 ['attorney', 'Emily Wood', ['23-1011', 'Lawyers', 'Attorney']]\n",
        "8934 ['writer and mom', 'Sofi Albizuri', False]\n",
        "8935"
       ]
      },
      {
       "output_type": "stream",
       "stream": "stdout",
       "text": [
        " ['retired china shop manager and volunteer', 'Myfanwy Davies', False]\n",
        "8936 ['actor', 'Padraic Connelly', False]\n",
        "8937 ['security officer', 'Stephen Mellis', ['33-9032', 'Security Guards', 'Security Officer']]\n",
        "8742 ['assistant professor of English', 'Marc Muneal', False]\n",
        "8931 ['teacher', 'Bob Schwartz', ['MiscTeacher', 'Teacher', 'Teacher']]\n",
        "7824"
       ]
      },
      {
       "output_type": "stream",
       "stream": "stdout",
       "text": [
        " ['mixed animal veterinarian', 'Cindy Hager', False]\n",
        "8933 ['home health aide', 'Josh McIlvain', ['31-1011', 'Home Health Aides', 'Home Health Aide']]\n",
        "8938 ['lab technician', 'Lindsey Stallings', False]\n",
        "1554 ['chemist', 'Chris Morse', False]\n",
        "7175 ['maintenance mechanic', 'Tom Jennings', ['49-9071', 'Maintenance and Repair Workers, General', 'Maintenance Mechanic']]\n",
        "7174"
       ]
      },
      {
       "output_type": "stream",
       "stream": "stdout",
       "text": [
        " ['law student', 'Ryan Nelson', False]\n",
        "7177 ['guitar instructor', 'Doug Payne', False]\n",
        "7176 ['paralegal', 'Eureka Nutt', ['23-2011', 'Paralegals and Legal Assistants', 'Paralegal']]\n",
        "7171 ['manufacturing consultant', 'Josh Magri', False]\n",
        "7170"
       ]
      },
      {
       "output_type": "stream",
       "stream": "stdout",
       "text": [
        " ['assistant professor of history', 'Elaine Thompson', False]\n",
        "7173 ['psychotherapist', 'Abie Hadjitarkhani', ['19-3039', 'Psychologists, All Other', 'Psychotherapist']]\n",
        "7172 ['Judaic teacher trainer', 'Gitta Neufeld', ['MiscTeacher', 'Teacher', 'Teacher']]\n",
        "7179 ['Ph.D. student in history', 'Kara French', False]\n",
        "7178 ['grocery store chain administrative assistant', 'Lisa Dvorak', False]\n",
        "719"
       ]
      },
      {
       "output_type": "stream",
       "stream": "stdout",
       "text": [
        " ['phone company line technician', 'Denice Fractious', False]\n",
        "718 ['student', 'Warren Pistell', False]\n",
        "1696 ['computer programmer', 'Diane Pietrzak', ['15-1131', 'Computer Programmers', 'Computer Programmer']]\n",
        "1697 ['investment consultant', 'Alex Gershanik', False]\n",
        "1694"
       ]
      },
      {
       "output_type": "stream",
       "stream": "stdout",
       "text": [
        " ['superior court judge', 'Jonathan Silbert', False]\n",
        "1695 ['insurance company clerk', 'Roger Clendening II', False]\n",
        "1692 ['stay-at-home mom', 'Melizza Zygmunt', False]\n",
        "1693"
       ]
      },
      {
       "output_type": "stream",
       "stream": "stdout",
       "text": [
        " ['computer consultant', 'Graham Powell', False]\n",
        "1690 ['advertising creative director', 'Chris Smith', False]\n",
        "1691 ['attorney', 'Brett Crawford', ['23-1011', 'Lawyers', 'Attorney']]\n",
        "1698 ['homemaker & student', 'Margaret Boben', False]\n",
        "1699 ['attorney', 'Miles Madorin', ['23-1011', 'Lawyers', 'Attorney']]\n",
        "1472"
       ]
      },
      {
       "output_type": "stream",
       "stream": "stdout",
       "text": [
        " ['personal trust officer', 'Mark Brennan', False]\n",
        "1473 ['marketing consultant', 'Ellen Simmons', ['13-1161', 'Market Research Analysts and Marketing Specialists', 'Marketing Consultant']]\n",
        "1470 ['management consultant', 'Mushtaq Kapasi', ['13-1111', 'Management Analysts', 'Management Consultant']]\n",
        "1471 ['home-sale account executive', 'Bill Hart', False]\n",
        "1476 ['history teacher', 'Rich Canedo', ['MiscTeacher', 'Teacher', 'Teacher']]\n",
        "1477 ['attorney', 'Chris Casper', ['23-1011', 'Lawyers', 'Attorney']]\n",
        "1474 ['editor and writer', 'Stephen Heuser', False]\n",
        "1475"
       ]
      },
      {
       "output_type": "stream",
       "stream": "stdout",
       "text": [
        " ['administrative assistant', 'Macee Damon', False]\n",
        "1478 ['HR consultant', 'Merle Capello', False]\n",
        "1479 ['graduate student', 'Peter Higgins', ['GradStu', 'Graduate student', 'Graduate student']]\n",
        "4228 ['pre-medical student', 'Doug Souleyrette', False]\n",
        "4229"
       ]
      },
      {
       "output_type": "stream",
       "stream": "stdout",
       "text": [
        " ['research technician', 'Cinnamon Stetler', False]\n",
        "8624 ['graduate student', 'Robin Gillen', ['GradStu', 'Graduate student', 'Graduate student']]\n",
        "4224 ['homemaker and professional volunteer', 'Janet Aitoro', False]\n",
        "4225 ['writer and copy editor', 'David Daniel', False]\n",
        "4226"
       ]
      },
      {
       "output_type": "stream",
       "stream": "stdout",
       "text": [
        " ['filmmaker and graphic designer', 'Sara Clarke', False]\n",
        "4227 ['pastor', 'Matt Pensinger', ['21-2011', 'Clergy', 'Pastor']]\n",
        "4220 ['part-time administrator', 'Robin Zorthian', False]\n",
        "4221 ['family physician', 'Gene Newmier', ['29-1062', 'Family and General Practitioners', 'Family Physician']]\n",
        "4222 ['lawyer', 'Rahul Ranadive', ['23-1011', 'Lawyers', 'Lawyer']]\n",
        "4223 ['graduate student', 'Jason Parker', ['GradStu', 'Graduate student', 'Graduate student']]\n",
        "5586 ['writer', 'Carolyn Goolsby', False]\n",
        "5587"
       ]
      },
      {
       "output_type": "stream",
       "stream": "stdout",
       "text": [
        " ['United States Marine', 'Jay Stang', False]\n",
        "5584 ['high school teacher', 'Jeff Thompson', ['MiscTeacher', 'Teacher', 'Teacher']]\n",
        "5585 ['writer', 'Neil Alsip', False]\n",
        "5582 ['graphics technician', 'Robyn Rogers', False]\n",
        "21 ['registered nurse', 'Marilyn Werner', ['29-1141', 'Registered Nurses', 'Registered Nurse']]\n",
        "5580 ['psychology professor', 'Luis Cordon', ['25-1066', 'Psychology Teachers, Postsecondary', 'Psychology Professor']]\n",
        "23 ['graduate student', 'Sam Ott', ['GradStu', 'Graduate student', 'Graduate student']]\n",
        "6846"
       ]
      },
      {
       "output_type": "stream",
       "stream": "stdout",
       "text": [
        " ['marketing entrepreneur', 'Arv Reddy', False]\n",
        "28 ['recent college graduate', 'Vinita Kailasanath', False]\n",
        "29 ['bartender and actor', 'Scott Renzoni', False]\n",
        "5588 ['prosecuting attorney', 'Brian Johnston', False]\n",
        "5589"
       ]
      },
      {
       "output_type": "stream",
       "stream": "stdout",
       "text": [
        " ['physician and medical ethicist', 'Mike Cantor', False]\n",
        "8625 ['graphic artist', 'Tim Casey', ['27-1024', 'Graphic Designers', 'Graphic Artist']]\n",
        "1069 ['adjunct professor and writer', 'Chris Hartley', False]\n",
        "1068 ['administrative assistant', 'Kerry Noonan', False]\n",
        "1061"
       ]
      },
      {
       "output_type": "stream",
       "stream": "stdout",
       "text": [
        " ['retired advertising executive', 'Ray Freson', False]\n",
        "1060 ['sailor', 'Steve Kaltenbaugh', ['53-5011', 'Sailors and Marine Oilers', 'Sailor']]\n",
        "1063 ['supercomputer programmer', 'Ed Borasky', False]\n",
        "1062 ['instructor and writer', 'Stacey Swann', False]\n",
        "1065 ['high school librarian', 'Carol Hager', ['25-4021', 'Librarians', 'High School Librarian']]\n",
        "1064 ['public relations director', 'Anne King', ['11-2031', 'Public Relations and Fundraising Managers', 'Public Relations Director']]\n",
        "1067"
       ]
      },
      {
       "output_type": "stream",
       "stream": "stdout",
       "text": [
        " [\"children's theater actor\", 'Joel Silverman', False]\n",
        "1066 ['air quality consultant', 'Mike Leger', False]\n",
        "2288 ['12-year-old', 'Meredith Dedopoulos', False]\n",
        "2289"
       ]
      },
      {
       "output_type": "stream",
       "stream": "stdout",
       "text": [
        " ['12-year-old', 'Thomas McIntyre', False]\n",
        "2280 ['11-year-old', 'Jared Rothenberg', False]\n",
        "2281 ['12-year-old', 'Suzie Lisky', False]\n",
        "2282 ['10-year-old', 'Josh Lacey', False]\n",
        "2283"
       ]
      },
      {
       "output_type": "stream",
       "stream": "stdout",
       "text": [
        " ['12-year-old', 'Tiffany Wen', False]\n",
        "2284 ['12-year-old', 'Michael Schulson', False]\n",
        "2285 ['12-year-old', 'Andrew Goldfein', False]\n",
        "2286 ['12-year-old', 'Emily Kamm', False]\n",
        "2287"
       ]
      },
      {
       "output_type": "stream",
       "stream": "stdout",
       "text": [
        " ['12-year-old', 'Michael Glick', False]\n",
        "4538 ['special education teacher', 'Dawn Frank', ['MiscTeacher', 'Teacher', 'Teacher']]\n",
        "4539 ['rentals coordinator', 'C.W. Van Baale', False]\n",
        "8314 ['tutor', 'Ellen Miele', ['25-3099', 'Teachers and Instructors, All Other', 'Tutor']]\n",
        "4828 ['college science instructor', 'Doug Friedman', False]\n",
        "8315 ['lawyer', 'Anne Hardiman', ['23-1011', 'Lawyers', 'Lawyer']]\n",
        "4829"
       ]
      },
      {
       "output_type": "stream",
       "stream": "stdout",
       "text": [
        " ['office manager and assistant', 'Kyron Rogers', False]\n",
        "8316 ['actor and Internet marketer', 'Mark Richardson', False]\n",
        "4534 ['artist', 'Jess Holloway', False]\n",
        "8317 ['environmental engineer', 'Adam Holquist', ['17-2081', 'Environmental Engineers', 'Environmental Engineer']]\n",
        "4535"
       ]
      },
      {
       "output_type": "stream",
       "stream": "stdout",
       "text": [
        " ['middle school assistant principal', 'Woody Kennedy', False]\n",
        "8310 ['university administrator', 'Salvo Candela', ['11-9033', 'Education Administrators, Postsecondary', 'University Administrator']]\n",
        "601 ['bartender', 'Don Kaufman', ['35-3011', 'Bartenders', 'Bartender']]\n",
        "4927 ['senior', 'Joan Williams', False]\n",
        "4536 ['computer programmer & analyst', 'Laurie Martin', False]\n",
        "8311 ['paralegal', 'Katie Newcomb', ['23-2011', 'Paralegals and Legal Assistants', 'Paralegal']]\n",
        "8233 ['lawyer', 'David Brent', ['23-1011', 'Lawyers', 'Lawyer']]\n",
        "4825"
       ]
      },
      {
       "output_type": "stream",
       "stream": "stdout",
       "text": [
        " ['retired government employee', 'Deborah Fitzgerald', False]\n",
        "8312 ['rabbi', 'Steve Weisman', ['21-2011', 'Clergy', 'Rabbi']]\n",
        "8232 ['security engineer', 'Jon Gucinski', False]\n",
        "4530 ['caterer', 'Jolynn Brooks', False]\n",
        "8313 ['stand-up comic', 'Susie Macksey', False]\n",
        "8231"
       ]
      },
      {
       "output_type": "stream",
       "stream": "stdout",
       "text": [
        " ['document services supervisor', 'Lorraine Donahue', False]\n",
        "4531 ['assistant attorney general', 'Nancy Olinger', ['23-1011', 'Lawyers', 'Assistant Attorney General']]\n",
        "7759 ['mechanical engineer', 'Bing Huo', ['17-2141', 'Mechanical Engineers', 'Mechanical Engineer']]\n",
        "7919 ['office administrator', 'Brian Mueller', False]\n",
        "7918 ['graduate student of American history', 'Laura Sikes Jambon', ['GradStu', 'Graduate student', 'Graduate student']]\n",
        "4820 ['bank teller', 'Sarah Gold', ['43-3071', 'Tellers', 'Bank Teller']]\n",
        "600 ['doctoral student', 'Lois Kurowski', False]\n",
        "7912"
       ]
      },
      {
       "output_type": "stream",
       "stream": "stdout",
       "text": [
        " ['law clerk and student', 'Maggie Moe', False]\n",
        "7911 ['product manager', 'Prabhu Balasubramanian', False]\n",
        "4533 ['seventh grade teacher', 'John Burke', ['MiscTeacher', 'Teacher', 'Teacher']]\n",
        "7917 ['technology trainer', 'Tracey Rhys', False]\n",
        "7916"
       ]
      },
      {
       "output_type": "stream",
       "stream": "stdout",
       "text": [
        " ['pharmacist', 'Lynn Welch', False]\n",
        "7915 ['student of diagnostic sonography', 'A.J. Motley', False]\n",
        "7914 ['dentist', 'Joel Nathanson', False]\n",
        "6288"
       ]
      },
      {
       "output_type": "stream",
       "stream": "stdout",
       "text": [
        " ['floral designer and stay-at-home mom', 'Martha Blakeslee', False]\n",
        "6289 ['bartender and actor', 'Scott Renzoni', False]\n",
        "6284 ['12-year-old', 'Danny Brylow', False]\n",
        "6285 ['basketball player', 'Rebecca Lobo', ['27-2021', 'Athletes and Sports Competitors', 'Basketball Player']]\n",
        "6286"
       ]
      },
      {
       "output_type": "stream",
       "stream": "stdout",
       "text": [
        " ['TV personality and former Olympic swimmer', 'Summer Sanders', False]\n",
        "6287 ['physician and Olympic softball player', 'Dot Richardson', False]\n",
        "6280 ['11-year-old', 'Jennifer Gilbert', False]\n",
        "6281 ['12-year-old', 'William Coats', False]\n",
        "6282"
       ]
      },
      {
       "output_type": "stream",
       "stream": "stdout",
       "text": [
        " ['12-year-old', 'Brooks Colleton', False]\n",
        "6283 ['12-year-old', 'Reilly Kiernan', False]\n",
        "182 ['sports agate clerk', 'Michelle Martinez', False]\n",
        "183 ['graphic artist', 'Adam Brower', ['27-1024', 'Graphic Designers', 'Graphic Artist']]\n",
        "180 ['editor and graduate student', 'David Gibbs', ['GradStu', 'Graduate student', 'Graduate student']]\n",
        "181 ['artist', 'Christian Mastrodonato', False]\n",
        "186"
       ]
      },
      {
       "output_type": "stream",
       "stream": "stdout",
       "text": [
        " ['futures trader', 'Tyler Hathaway', False]\n",
        "187 ['systems specialist', 'Marjorie MacDonald', False]\n",
        "184 ['college student', 'Dan Suzman', False]\n",
        "185"
       ]
      },
      {
       "output_type": "stream",
       "stream": "stdout",
       "text": [
        " ['adjunct professor and town council member', 'Laurie Genevro Cole', False]\n",
        "188 ['administrative assistant', 'Jesse Hergert', False]\n",
        "189 ['systems project manager', 'Kevin Bailey', False]\n",
        "4924"
       ]
      },
      {
       "output_type": "stream",
       "stream": "stdout",
       "text": [
        " ['sophomore', 'Sam Sanker', False]\n",
        "6362 ['museum night security guard', 'Rachel Landau', False]\n",
        "869 ['Earth science teacher', 'Francis Grant Jr.', ['MiscTeacher', 'Teacher', 'Teacher']]\n",
        "868 ['insurance adjuster', 'Jennifer Hartford', False]\n",
        "652"
       ]
      },
      {
       "output_type": "stream",
       "stream": "stdout",
       "text": [
        " ['senior', 'Billy Baxter', False]\n",
        "3449 ['actor', 'Dylan McKenna', False]\n",
        "3448 ['communications consultant', 'Susan Harrison', False]\n",
        "3445 ['tax consultant', 'Deanna Walton', ['13-2082', 'Tax Preparers', 'Tax Consultant']]\n",
        "3444 ['stay-at-home mom', 'Theresa Marketti', False]\n",
        "3447"
       ]
      },
      {
       "output_type": "stream",
       "stream": "stdout",
       "text": [
        " ['school food service manager', \"Mary Ellen O'Hagan\", False]\n",
        "3446 ['environmental protection specialist', 'Ken Sandler', False]\n",
        "3441 ['senior', 'Caroline Jones', False]\n",
        "3440"
       ]
      },
      {
       "output_type": "stream",
       "stream": "stdout",
       "text": [
        " ['senior', 'David Walter', False]\n",
        "3443 ['store manager', 'James Wu', False]\n",
        "3442 ['senior', 'Heidi Fogle', False]\n",
        "2024"
       ]
      },
      {
       "output_type": "stream",
       "stream": "stdout",
       "text": [
        " ['retired registrar and volunteer', 'Kathy Daum', False]\n",
        "2025 ['market researcher', 'Carey Ramos', False]\n",
        "2026 ['typesetter', 'Robert Hartle', False]\n",
        "2027 ['professional HVAC engineer', 'Richard Vehlow', False]\n",
        "2020"
       ]
      },
      {
       "output_type": "stream",
       "stream": "stdout",
       "text": [
        " ['event planner and full-time mom', 'Diane Rohan', False]\n",
        "2021 ['recent college graduate', 'David Mitchell', False]\n",
        "2022 ['computer scientist and mother of two', 'Cheryl Howard', False]\n",
        "2751"
       ]
      },
      {
       "output_type": "stream",
       "stream": "stdout",
       "text": [
        " ['law student', 'Tom Cubbage', False]\n",
        "6364 ['receptionist', \"Katie O'Reilly\", False]\n",
        "2028 ['trust officer', 'Dan Sander', False]\n",
        "2029 ['director of communications', 'Brandon Ferris', False]\n",
        "2758"
       ]
      },
      {
       "output_type": "stream",
       "stream": "stdout",
       "text": [
        " ['closed captioner', 'Kathy Cassity', False]\n",
        "2759 ['business manager', 'Mark Dawson', False]\n",
        "5216 ['former White House Press Secretary', 'Ari Fleischer', False]\n",
        "5217 ['editor', 'Jason Schneiderman', False]\n",
        "5214"
       ]
      },
      {
       "output_type": "stream",
       "stream": "stdout",
       "text": [
        " ['Emmy Award-winning newsman', 'Aaron Brown', False]\n",
        "5215 ['TV correspondent', 'Ashleigh Banfield', False]\n",
        "5212 ['business anchor', 'Maria Bartiromo', False]\n",
        "5213 ['host', 'Anderson Cooper', False]\n",
        "5210"
       ]
      },
      {
       "output_type": "stream",
       "stream": "stdout",
       "text": [
        " ['assistant managing editor', 'Bob Woodward', False]\n",
        "5211 ['president', 'Kweisi Mfume', False]\n",
        "5218 ['researcher and editor', 'Kate Martin', False]\n",
        "5219 ['real estate attorney', 'Bob Strybel', ['23-1011', 'Lawyers', 'Real Estate Attorney']]\n",
        "4596 ['tech trainer', 'Jean Doolittle', False]\n",
        "419"
       ]
      },
      {
       "output_type": "stream",
       "stream": "stdout",
       "text": [
        " ['librarian and a licensed amateur boxing official', 'Erik Larsen', False]\n",
        "3058 ['network administrator', 'Steve Deitsch', False]\n",
        "3059 ['actor', 'Dennis Scott', False]\n",
        "3056 ['court reporting instructor', 'Nick Ireland', False]\n",
        "3057 ['boarding school teacher', 'Anne Volk', ['MiscTeacher', 'Teacher', 'Teacher']]\n",
        "3054"
       ]
      },
      {
       "output_type": "stream",
       "stream": "stdout",
       "text": [
        " ['fundraiser', 'Beth Kopley', False]\n",
        "3055 ['physician', 'David Sales', False]\n",
        "3052 ['college student & tutor', 'Siobhan Burke', False]\n",
        "3053"
       ]
      },
      {
       "output_type": "stream",
       "stream": "stdout",
       "text": [
        " ['classical pianist & music instructor', 'Kyle Adams', False]\n",
        "3050 ['customer care manager', 'Raj Choudhary', False]\n",
        "3051 ['writer and stay-at-home dad', 'Sean Barry', False]\n",
        "4597"
       ]
      },
      {
       "output_type": "stream",
       "stream": "stdout",
       "text": [
        " ['management consultant and actor', 'Rob Skolits', False]\n",
        "8 ['private school administrator', 'Todd Perkins', False]\n",
        "1317 ['marketing communications consultant', 'Josh Danson', False]\n",
        "1316"
       ]
      },
      {
       "output_type": "stream",
       "stream": "stdout",
       "text": [
        " ['student', 'Liz Lackey', False]\n",
        "1315 ['college student', 'Doug Fitch', False]\n",
        "1314 ['assistant director', 'Julie Johnson', False]\n",
        "1313"
       ]
      },
      {
       "output_type": "stream",
       "stream": "stdout",
       "text": [
        " ['emergency medical technician', 'Kelly Croissant', False]\n",
        "1312 ['writer', 'Deena Banks', False]\n",
        "1311 ['used bookstore owner', 'Peter Dent', False]\n",
        "1310 ['history instructor', 'Mita Choudhury', False]\n",
        "1319"
       ]
      },
      {
       "output_type": "stream",
       "stream": "stdout",
       "text": [
        " ['librarian assistant', 'Heidi Shultz', False]\n",
        "1318 ['personal trainer', 'Chris Kahn', ['39-9031', 'Fitness Trainers and Aerobics Instructors', 'Personal Trainer']]\n",
        "6446 ['12-year-old', 'Crystal Durham', False]\n",
        "6447 ['11-year-old', 'Wil Curiel', False]\n",
        "6444 ['11-year-old', 'Holly Flynn', False]\n",
        "6445"
       ]
      },
      {
       "output_type": "stream",
       "stream": "stdout",
       "text": [
        " ['11-year-old', 'Alex Silady', False]\n",
        "6442 ['patent agent', 'Johnny Forrest', False]\n",
        "6443 ['11-year-old', 'Naomi Senbet', False]\n",
        "6440 ['music professor', 'Paul Christiansen', ['25-1121', 'Art, Drama, and Music Teachers, Postsecondary', 'Music Professor']]\n",
        "6441 ['magazine editor', 'Jaime Mahoney', False]\n",
        "6918"
       ]
      },
      {
       "output_type": "stream",
       "stream": "stdout",
       "text": [
        " ['twelve-year-old', 'Jack Weisman', False]\n",
        "6919 ['twelve-year-old', 'Vivian Lappenbusch', False]\n",
        "6448 ['11-year-old', 'Michelle Chang', False]\n",
        "6449 ['gelato maker', 'Justin Gilbert', False]\n",
        "3304 ['copy editor', 'Amy Wang', ['27-3041', 'Editors', 'Copy Editor']]\n",
        "7728"
       ]
      },
      {
       "output_type": "stream",
       "stream": "stdout",
       "text": [
        " ['stay-at-home mom', 'Hannah Spector', False]\n",
        "7729 ['editorial manager', 'Sharla Zwirek', False]\n",
        "7720 ['locomotive mechanic', 'Reid Rodgers', False]\n",
        "7721 ['pediatrician', 'Richard Elepano', False]\n",
        "7722"
       ]
      },
      {
       "output_type": "stream",
       "stream": "stdout",
       "text": [
        " ['writer and editor', 'Sonia Saraiya', False]\n",
        "7723 ['graduate student in chemistry', 'Patrick Antle', ['GradStu', 'Graduate student', 'Graduate student']]\n",
        "7724 ['thin films engineer', 'Michael Gurshtein', False]\n",
        "7725 ['academic consultant', 'Rebecca Blustein', False]\n",
        "7726"
       ]
      },
      {
       "output_type": "stream",
       "stream": "stdout",
       "text": [
        " ['movie mocker', 'John Erler', False]\n",
        "7727 ['speech language pathologist', 'Sue Anderson', False]\n",
        "3948 ['retired teacher', 'Sue Ann Allen', ['MiscTeacher', 'Teacher', 'Teacher']]\n",
        "3949 ['freelance writer', 'Jeff Stone', False]\n",
        "3940 ['graduate student', 'Susan Davis', ['GradStu', 'Graduate student', 'Graduate student']]\n",
        "3941"
       ]
      },
      {
       "output_type": "stream",
       "stream": "stdout",
       "text": [
        " ['bookseller', 'Jean Dwyer-Dallmann', False]\n",
        "3942 ['lawyer and real estate appraiser', 'John Skelton', False]\n",
        "3943 ['travel consultant', 'Lauren Slauson', ['41-3041', 'Travel Agents', 'Travel Consultant']]\n",
        "3944"
       ]
      },
      {
       "output_type": "stream",
       "stream": "stdout",
       "text": [
        " ['market researcher', 'Scot Peterson', False]\n",
        "3945 ['inventory specialist', 'David Evans', False]\n",
        "3946 ['landscape artist', 'Dan Girard', False]\n",
        "3947"
       ]
      },
      {
       "output_type": "stream",
       "stream": "stdout",
       "text": [
        " ['from Kentucky...', 'Jill Heintze', False]\n",
        "6709 ['actor and writer', 'Graham Norris', False]\n",
        "6708 ['preschool teacher', 'Leslie Hurd', ['MiscTeacher', 'Teacher', 'Teacher']]\n",
        "8329 ['lawyer and writer', 'Mona Miller', False]\n",
        "8328 ['orthopedic surgeon', 'Matt Eichenbaum', ['29-1067', 'Surgeons', 'Orthopedic Surgeon']]\n",
        "6701"
       ]
      },
      {
       "output_type": "stream",
       "stream": "stdout",
       "text": [
        " ['parish administrator', 'Ginny Bartlett', False]\n",
        "6700 ['poker room supervisor', 'Matt MacGregor', ['39-1011', 'Gaming Supervisors', 'Poker Room Supervisor']]\n",
        "6703 ['announcer and stay-at-home dad', 'Kierre Daniels', False]\n",
        "6702 ['product management director', 'Diane Wing', False]\n",
        "6705"
       ]
      },
      {
       "output_type": "stream",
       "stream": "stdout",
       "text": [
        " ['actuary', 'Tom Toce', False]\n",
        "6704 ['restaurant owner', 'Stewart Yeargin', False]\n",
        "6707 ['journalist', 'Alan Bjerga', False]\n",
        "6706 ['paraeducator', 'Aimee deLaricheliere', ['25-9041', 'Teacher Assistants', 'Paraeducator']]\n",
        "7535 ['pathologist', 'Ryan McCune', ['29-1069', 'Physicians and Surgeons, All Other', 'Pathologist']]\n",
        "7534"
       ]
      },
      {
       "output_type": "stream",
       "stream": "stdout",
       "text": [
        " ['library technician', 'Abigail Gardner', False]\n",
        "4057 ['attorney', 'Amy DeLisa', ['23-1011', 'Lawyers', 'Attorney']]\n",
        "4056 ['government consultant', 'Matt Ginsburg', False]\n",
        "4055 ['stay-at-home father', \"Kevin O'Neill\", False]\n",
        "4054"
       ]
      },
      {
       "output_type": "stream",
       "stream": "stdout",
       "text": [
        " ['business development manager', 'Frank Butterworth', False]\n",
        "4053 ['chief estimator', 'Terence Caulfield', False]\n",
        "4052 ['research psychologist', 'Cheryl Lopes', False]\n",
        "4051 ['law student', 'Jerry Crowley', False]\n",
        "4050"
       ]
      },
      {
       "output_type": "stream",
       "stream": "stdout",
       "text": [
        " ['director', 'Moira Byrnes', False]\n",
        "4059 ['resident physician', 'Lewis Targownik', False]\n",
        "4058 ['automotive bookkeeper', 'Terry Coombs', False]\n",
        "3610"
       ]
      },
      {
       "output_type": "stream",
       "stream": "stdout",
       "text": [
        " ['publisher', 'George Schaeffer', False]\n",
        "3611 ['stay-at-home mom', 'Tracy Guarini', False]\n",
        "3612 ['director of business development', 'Craig Nemiroff', False]\n",
        "3613 ['graduate student', 'Lenzy Krehbiel-Burton', ['GradStu', 'Graduate student', 'Graduate student']]\n",
        "3614 ['copy editor', 'Catherine Allen', ['27-3041', 'Editors', 'Copy Editor']]\n",
        "3615"
       ]
      },
      {
       "output_type": "stream",
       "stream": "stdout",
       "text": [
        " ['public relations executive', 'Brian Robin', False]\n",
        "3616 ['mechanical engineer', 'Chris Possinger', ['17-2141', 'Mechanical Engineers', 'Mechanical Engineer']]\n",
        "3617 ['clinical information support specialist', 'Rita Schwab-Parcel', False]\n",
        "3618 ['mystery novelist', 'Kelly Knight', False]\n",
        "3619"
       ]
      },
      {
       "output_type": "stream",
       "stream": "stdout",
       "text": [
        " ['consulting company president', 'Ron Grant', False]\n",
        "3842 ['undergraduate student', 'Omar Mahmood', ['GradStu', 'Graduate student', 'Graduate student']]\n",
        "7536 ['actor and theater intern', 'Alex Johnson', False]\n",
        "2569 ['senior', 'Deon Lackey', False]\n",
        "2568 ['senior', 'Evan Johnson', False]\n",
        "2561"
       ]
      },
      {
       "output_type": "stream",
       "stream": "stdout",
       "text": [
        " ['11-year-old', 'Neville Fogarty', False]\n",
        "2560 ['11-year-old', 'Ariel Edwards-Levy', False]\n",
        "2563 ['senior', 'Justin Watkins', False]\n",
        "2562 ['senior', 'Kira Whelan', False]\n",
        "2565"
       ]
      },
      {
       "output_type": "stream",
       "stream": "stdout",
       "text": [
        " ['sophomore', 'Rachel Johnson', False]\n",
        "2564 ['senior', 'Kristen Stuckey', False]\n",
        "2567 ['senior', 'Julie Anastasi', False]\n",
        "2566 ['senior', 'Jonathan Lowe', False]\n",
        "5029 ['realtor', 'Ginger Beireis', False]\n",
        "5028 ['history teacher', 'Brian MacKenzie', ['MiscTeacher', 'Teacher', 'Teacher']]\n",
        "5021 ['teacher', 'Ilana Rembelinsky', ['MiscTeacher', 'Teacher', 'Teacher']]\n",
        "5020"
       ]
      },
      {
       "output_type": "stream",
       "stream": "stdout",
       "text": [
        " ['economics professor', 'Allen Goodman', False]\n",
        "5023 ['bestselling author', 'Tom Clancy', False]\n",
        "5022 ['doctoral student', 'Jay Chaffin', False]\n",
        "5025 ['journalist', 'Tim Russert', False]\n",
        "5024"
       ]
      },
      {
       "output_type": "stream",
       "stream": "stdout",
       "text": [
        " ['journalist', 'Catherine Crier', False]\n",
        "5027 ['pastor', 'Dave Simpson', ['21-2011', 'Clergy', 'Pastor']]\n",
        "3844 ['chiropractor', 'Tom Barrett', ['29-1011', 'Chiropractors', 'Chiropractor']]\n",
        "4440 ['actor', 'Carolyn Saxon', False]\n",
        "4441 ['military analyst', 'Tim Morton', False]\n",
        "4442"
       ]
      },
      {
       "output_type": "stream",
       "stream": "stdout",
       "text": [
        " ['network analyst', 'Deb Fleisig', False]\n",
        "4443 ['sign language scheduler', 'Seana Rasco', False]\n",
        "4444 ['computer analyst', 'Pat Grady', False]\n",
        "4445 ['bartender', 'Doug Parker', ['35-3011', 'Bartenders', 'Bartender']]\n",
        "4446"
       ]
      },
      {
       "output_type": "stream",
       "stream": "stdout",
       "text": [
        " ['full-time mom', 'Britt Galipault', False]\n",
        "4447 ['investment services specialist', 'Holly Klatt', False]\n",
        "4448 ['second-year medical student', 'Josh Small', False]\n",
        "4449"
       ]
      },
      {
       "output_type": "stream",
       "stream": "stdout",
       "text": [
        " ['from Dunwoody, Georgia...', 'Mary Jane Harris', False]\n",
        "964 ['advertising manager', 'Wayne Perra', ['11-2011', 'Advertising and Promotions Managers', 'Advertising Manager']]\n",
        "965 ['homemaker', 'Florence Livingston', False]\n",
        "966 ['distributor', 'Joe Haggerty', False]\n",
        "967 ['attorney', 'John Mackall', ['23-1011', 'Lawyers', 'Attorney']]\n",
        "960"
       ]
      },
      {
       "output_type": "stream",
       "stream": "stdout",
       "text": [
        " ['maintenance planner', 'Barbara Skolaut', False]\n",
        "961 ['stockbroker', 'Andy Gould', False]\n",
        "962 ['dog walker', 'Holly Tooker', False]\n",
        "963 ['attorney', 'Mike Carter', ['23-1011', 'Lawyers', 'Attorney']]\n",
        "968 ['hospitality specialist', 'Florence Shimano', False]\n",
        "969"
       ]
      },
      {
       "output_type": "stream",
       "stream": "stdout",
       "text": [
        " ['columnist', 'Steven Kurtz', ['27-3022', 'Reporters and Correspondents', 'Columnist']]\n",
        "662 ['computer consultant', 'Larry Cloud', False]\n",
        "7532 ['legislative aide', 'Francisco Maldonado-Ramirez', False]\n",
        "1241"
       ]
      },
      {
       "output_type": "stream",
       "stream": "stdout",
       "text": [
        " ['sophomore at the University of North Carolina at Chapel Hill', 'Christopher Chilton', False]\n",
        "1536 ['medical student', 'Eleanor Ainslie', False]\n",
        "1535 ['brick manufacturer', 'William Love', False]\n",
        "1534 ['teacher', 'Sarah Altier', ['MiscTeacher', 'Teacher', 'Teacher']]\n",
        "1533 ['housewife', 'Lisa Newman', False]\n",
        "1532"
       ]
      },
      {
       "output_type": "stream",
       "stream": "stdout",
       "text": [
        " ['waiter and writer', 'Kim Worth', False]\n",
        "1531 ['businessman', 'Kevin McDermott', False]\n",
        "1530 ['deputy attorney general', 'Jim Cordi', ['23-1011', 'Lawyers', 'Deputy Attorney General']]\n",
        "649 ['junior', 'Jill Young', False]\n",
        "648 ['College Tournament winner', 'Jeff Stewart', False]\n",
        "3236 ['graduate student', 'Jeff Bowersox', ['GradStu', 'Graduate student', 'Graduate student']]\n",
        "5198 ['high school teacher', 'Christine Schmidt', ['MiscTeacher', 'Teacher', 'Teacher']]\n",
        "3234"
       ]
      },
      {
       "output_type": "stream",
       "stream": "stdout",
       "text": [
        " ['law student', 'Matthew Laflin', False]\n",
        "3235 ['housewife', 'Jane Barnes', False]\n",
        "641 ['attorney', 'David Venderbush', ['23-1011', 'Lawyers', 'Attorney']]\n",
        "8912 ['attorney', 'Phoebe Juel', ['23-1011', 'Lawyers', 'Attorney']]\n",
        "5195 ['from Metairie, Louisiana...', 'Dominic Clust', False]\n",
        "8910"
       ]
      },
      {
       "output_type": "stream",
       "stream": "stdout",
       "text": [
        " ['police officer', 'Frank Spangenberg', False]\n",
        "8911 ['intelligence educator', 'Mark Lowenthal', False]\n",
        "8916 ['junior at the University of Oklahoma', 'Whitney Thompson', False]\n",
        "8917 ['sophomore', 'Sarah Stevens', False]\n",
        "8914"
       ]
      },
      {
       "output_type": "stream",
       "stream": "stdout",
       "text": [
        " ['writer', 'Jerome Vered', False]\n",
        "5194 ['from Woodbridge, Virginia...', 'Taylor Gailliot', False]\n",
        "8918 ['junior', 'James Fulwiler', False]\n",
        "8919 ['senior at Duke University', 'Cameron Kim', False]\n",
        "1614"
       ]
      },
      {
       "output_type": "stream",
       "stream": "stdout",
       "text": [
        " ['freelance writer', 'Dom Nguyen', False]\n",
        "5182 ['software engineer', 'Richard Bonny', False]\n",
        "1615 ['publicist', 'Marah Eakin', ['27-3031', 'Public Relations Specialists', 'Publicist']]\n",
        "5191 ['neuroscientist', 'Tim Mhyre', ['19-1042', 'Medical Scientists, Except Epidemiologists', 'Neuroscientist']]\n",
        "640 ['physicist', 'John Cuthbertson', False]\n",
        "5190 ['writer', 'Brandon Sawyer', False]\n",
        "7113 ['attorney', 'Alexis Hawley', ['23-1011', 'Lawyers', 'Attorney']]\n",
        "7112"
       ]
      },
      {
       "output_type": "stream",
       "stream": "stdout",
       "text": [
        " ['campaign consultant', 'Anthony Flores', False]\n",
        "7111 ['technical writer', 'Judy Arnold', ['27-3042', 'Technical Writers', 'Technical Writer']]\n",
        "7110 ['online books editor', 'Tom Nissley', False]\n",
        "7117 ['family medicine physician', 'Nina Kiekhaefer', ['29-1062', 'Family and General Practitioners', 'Family Medicine Physician']]\n",
        "5193 ['from Farmington, Maine...', 'Amanda Hall', False]\n",
        "7115"
       ]
      },
      {
       "output_type": "stream",
       "stream": "stdout",
       "text": [
        " ['public school technology specialist', 'Tim Klein', False]\n",
        "7114 ['technical support representative', 'Jen Huff', False]\n",
        "7119 ['librarian', 'Julia Carlis', False]\n",
        "1963 ['student', 'David Madden', False]\n",
        "707"
       ]
      },
      {
       "output_type": "stream",
       "stream": "stdout",
       "text": [
        " ['counseling support specialist', 'Neill Kovrig', False]\n",
        "643 ['lawyer', 'Chuck Forrest', ['23-1011', 'Lawyers', 'Lawyer']]\n",
        "3964 ['media specialist', 'Robyn Shepherd', False]\n",
        "1678 ['high school teacher', 'Tim Appling', ['MiscTeacher', 'Teacher', 'Teacher']]\n",
        "1679 ['retail distributor', 'Liz Holmlund', False]\n",
        "1674"
       ]
      },
      {
       "output_type": "stream",
       "stream": "stdout",
       "text": [
        " ['construction worker', 'Bob Phillips', False]\n",
        "1675 ['writer', 'Lorraine Berry', False]\n",
        "1676 ['actor', 'Michael Smith', False]\n",
        "1677 ['bookseller', 'Alicia Aho', False]\n",
        "1670"
       ]
      },
      {
       "output_type": "stream",
       "stream": "stdout",
       "text": [
        " ['software engineer', 'Ben Holland', False]\n",
        "1671 ['retired management consultant', 'Carolyn White', False]\n",
        "1672 ['fundraiser', 'Matt Bregman', False]\n",
        "1673 ['substitute teacher', 'Bruce Brown', ['MiscTeacher', 'Teacher', 'Teacher']]\n",
        "642 ['technical writer', 'Steve Chernicoff', ['27-3042', 'Technical Writers', 'Technical Writer']]\n",
        "645"
       ]
      },
      {
       "output_type": "stream",
       "stream": "stdout",
       "text": [
        " [\"stellar name in bookstores and at the box office, the world's best-selling author\", 'Stephen King', False]\n",
        "3962 ['administrative assistant', 'Susan Fisher', False]\n",
        "1418 ['association coordinator', 'Steven Lane', False]\n",
        "1419"
       ]
      },
      {
       "output_type": "stream",
       "stream": "stdout",
       "text": [
        " ['physician', 'Timothy Hsieh', False]\n",
        "1410 ['part-time consultant', 'Laurent Ruseckas', False]\n",
        "1411 ['bookseller', 'Kathie Hoagland', False]\n",
        "1412 ['university professor', 'Greg Mayer', False]\n",
        "1413"
       ]
      },
      {
       "output_type": "stream",
       "stream": "stdout",
       "text": [
        " ['law student', 'Jamie Hodari', False]\n",
        "1414 ['manager', 'Joan Tosh', False]\n",
        "1415 ['writer', 'Leslie Birdwell', False]\n",
        "1416 ['substitute teacher', 'James Calhoun', ['MiscTeacher', 'Teacher', 'Teacher']]\n",
        "1417 ['legal editor', 'Jim Diggins', False]\n",
        "644"
       ]
      },
      {
       "output_type": "stream",
       "stream": "stdout",
       "text": [
        " ['bookstore clerk and 1992 Teen Tournament champion', 'April McManus', False]\n",
        "3963 ['student', 'Nancy Kimmel', False]\n",
        "4208 ['systems administrator', 'Jamie Meyers', False]\n",
        "4209"
       ]
      },
      {
       "output_type": "stream",
       "stream": "stdout",
       "text": [
        " ['college professor', 'Kim Zarkin', False]\n",
        "4202 ['home schooling mom', 'Gigi Lehman', False]\n",
        "4203 ['student and retail sales manager', 'Jen Tomas', False]\n",
        "4200 ['former English teacher', 'Suzanne Kling', ['MiscTeacher', 'Teacher', 'Teacher']]\n",
        "4201"
       ]
      },
      {
       "output_type": "stream",
       "stream": "stdout",
       "text": [
        " ['investment broker', 'Chris Sanders', False]\n",
        "4206 ['research scientist', 'Sharon Lin', False]\n",
        "4207 ['stay-at-home mom', 'Kate Walton', False]\n",
        "4204 ['small business analyst', 'David Smith', False]\n",
        "4205"
       ]
      },
      {
       "output_type": "stream",
       "stream": "stdout",
       "text": [
        " ['assistant professor', 'Joseph Thompson', False]\n",
        "647 ['brilliant FBI paranormal investigator in Fox Mulder', 'David Duchovny', False]\n",
        "5568 ['sophomore', 'Brandon Saunders', False]\n",
        "5569 ['junior', 'Casey Clough', False]\n",
        "5564"
       ]
      },
      {
       "output_type": "stream",
       "stream": "stdout",
       "text": [
        " ['sophomore', 'Christopher Weis', False]\n",
        "5565 ['senior', 'Anurag Kashyap', False]\n",
        "5566 ['senior', 'Katie Houghton', False]\n",
        "5567 ['junior', 'Bradley Silverman', False]\n",
        "5560"
       ]
      },
      {
       "output_type": "stream",
       "stream": "stdout",
       "text": [
        " ['homemaker & mother of two', 'Barbara Fayeulle', False]\n",
        "5561 ['law student', 'Mikalen Howe', False]\n",
        "5562 ['writer & television extra', 'Chris Espe', False]\n",
        "5563 ['entrepreneur', 'Alex Kouba', False]\n",
        "646"
       ]
      },
      {
       "output_type": "stream",
       "stream": "stdout",
       "text": [
        " ['international star who sparkles on stage, screen, and television', 'Lynn Redgrave', False]\n",
        "308 ['writer', 'Doug Molitor', False]\n",
        "309 ['attorney', 'Tom Cubbage', ['23-1011', 'Lawyers', 'Attorney']]\n",
        "300 ['history professor', 'Jim Holton', False]\n",
        "301 ['trucking company manager', 'Steve Rogitz', False]\n",
        "302"
       ]
      },
      {
       "output_type": "stream",
       "stream": "stdout",
       "text": [
        " ['radiologist', 'Roy Holliday', ['29-1069', 'Physicians and Surgeons, All Other', 'Radiologist']]\n",
        "303 ['development officer for a museum', 'Janet Wong', False]\n",
        "304 ['playwright and director', 'Alan Bailey', False]\n",
        "305"
       ]
      },
      {
       "output_type": "stream",
       "stream": "stdout",
       "text": [
        " ['high school administrator', 'David Traini', False]\n",
        "306 ['desktop publisher', 'Mark McDermott', ['43-9031', 'Desktop Publishers', 'Desktop Publisher']]\n",
        "307 ['engineer', 'Tom Nosek', False]\n",
        "4893 ['Defense Dept. analyst', 'Linda Lahnan', False]\n",
        "4892 ['political analyst', 'Katie Portnoy', False]\n",
        "4891 ['graduate student', 'Tom Crawford', ['GradStu', 'Graduate student', 'Graduate student']]\n",
        "2773"
       ]
      },
      {
       "output_type": "stream",
       "stream": "stdout",
       "text": [
        " ['actress, comedienne, and star', 'Carol Burnett', False]\n",
        "4897 ['lawyer', 'Mary Campbell', ['23-1011', 'Lawyers', 'Lawyer']]\n",
        "4896 ['attorney', 'Mike Choyke', ['23-1011', 'Lawyers', 'Attorney']]\n",
        "4895 ['regulatory association spokeswoman', 'Ellen Lamb', False]\n",
        "4894 ['mediator', 'Vic Chandhok', False]\n",
        "6118 ['anchorwoman', 'Robin Roberts', False]\n",
        "6119"
       ]
      },
      {
       "output_type": "stream",
       "stream": "stdout",
       "text": [
        " ['commentator and anchorman', 'Bob Costas', False]\n",
        "6114 ['TV weather anchor', 'Kate Bilo', False]\n",
        "6115 ['middle school history teacher', 'Jason Pratt', ['MiscTeacher', 'Teacher', 'Teacher']]\n",
        "6116 ['physiatrist', 'Jennifer Yang', ['29-1069', 'Physicians and Surgeons, All Other', 'Physiatrist']]\n",
        "6117 ['anchorman', 'Keith Olbermann', False]\n",
        "6110 ['actor', 'Dave Foley', False]\n",
        "6111 ['actress', 'Kathy Kinney', ['27-2011', 'Actors', 'Actress']]\n",
        "6112"
       ]
      },
      {
       "output_type": "stream",
       "stream": "stdout",
       "text": [
        " ['actor', 'Wallace Langham', False]\n",
        "6113 ['IT professional', 'Tony Terry', False]\n",
        "7283 ['speech language pathologist', 'Connie Loren', False]\n",
        "7282 ['freelance writer', 'Beth Ford Roth', False]\n",
        "7281 ['graduate student of public service', 'Cory Biggs', ['GradStu', 'Graduate student', 'Graduate student']]\n",
        "7280 ['crossing guard', 'Cindy Peterson', ['33-9091', 'Crossing Guards', 'Crossing Guard']]\n",
        "7287 ['legal assistant', 'Kimberly Sheppard', ['23-2011', 'Paralegals and Legal Assistants', 'Legal Assistant']]\n",
        "7286"
       ]
      },
      {
       "output_type": "stream",
       "stream": "stdout",
       "text": [
        " ['educational consultant', 'Anselm Chen', False]\n",
        "7285 ['research and grants administrator', 'Mickey McLaurin', False]\n",
        "7284 ['homemaker', 'Helen Hostetter', False]\n",
        "7939 ['Academy Award nominee and star', 'Teri Garr', False]\n",
        "7938"
       ]
      },
      {
       "output_type": "stream",
       "stream": "stdout",
       "text": [
        " [\"star of the world's favorite game show,\", 'Pat Sajak', False]\n",
        "7289 ['new mom', 'Heather Timberlake', False]\n",
        "7288 ['urology resident', 'Tim Kresowik', False]\n",
        "9102 ['senior', 'Sarah Fanning', False]\n",
        "9103 ['senior', 'Jason Albert', False]\n",
        "9100 ['aerospace engineer', 'Tom Nosek', ['17-2011', 'Aerospace Engineers', 'Aerospace Engineer']]\n",
        "9101"
       ]
      },
      {
       "output_type": "stream",
       "stream": "stdout",
       "text": [
        " ['junior', 'Chris Capozzola', False]\n",
        "3429 ['journalist', 'George Kopp', False]\n",
        "3428 ['college lecturer', 'Ed Schiffer', False]\n",
        "3423 ['legal assistant', 'Dennis Hartin', ['23-2011', 'Paralegals and Legal Assistants', 'Legal Assistant']]\n",
        "3422 ['consultant', 'Tom Davidson', False]\n",
        "3421 ['PC consultant', 'Phil Somerset', False]\n",
        "3420"
       ]
      },
      {
       "output_type": "stream",
       "stream": "stdout",
       "text": [
        " ['video tape operator', 'Mike Boyd', False]\n",
        "3427 ['rabbi', 'Phil Bentley', ['21-2011', 'Clergy', 'Rabbi']]\n",
        "3426 ['communications consultant', 'Christine Quinones', False]\n",
        "3425 ['high school English teacher', 'Allen Collins', ['MiscTeacher', 'Teacher', 'Teacher']]\n",
        "3424 ['researcher and writer', 'Camille Calman', False]\n",
        "2002 ['law student', 'Leena Alam', False]\n",
        "2003"
       ]
      },
      {
       "output_type": "stream",
       "stream": "stdout",
       "text": [
        " ['Ph.D. student in marketing', 'Eric Dolansky', False]\n",
        "2000 ['travel agent', 'Wendy Salisbury', ['41-3041', 'Travel Agents', 'Travel Agent']]\n",
        "2001 ['laundromat night manager', 'Jeremy King', False]\n",
        "4589 ['high school teacher', 'Nafis Abdullah', ['MiscTeacher', 'Teacher', 'Teacher']]\n",
        "4588 ['psychobiologist', 'Rebecca Knickmeyer', False]\n",
        "2004"
       ]
      },
      {
       "output_type": "stream",
       "stream": "stdout",
       "text": [
        " ['geology student', 'Amy Cash', False]\n",
        "4858 ['screenwriter', 'Jim Hammond', False]\n",
        "4585 ['business analyst', 'Louis Mrachek', ['13-1111', 'Management Analysts', 'Business Analyst']]\n",
        "4856 ['entertainment coordinator', 'Dallas Dickinson', False]\n",
        "4587"
       ]
      },
      {
       "output_type": "stream",
       "stream": "stdout",
       "text": [
        " ['administrator', 'Robin Olson', False]\n",
        "4586 ['software entrepreneur', 'DJ Molny', False]\n",
        "4853 ['administrative coordinator', 'Patrick Preston', False]\n",
        "4580 ['journalist', 'Ron Shinkman', False]\n",
        "4851"
       ]
      },
      {
       "output_type": "stream",
       "stream": "stdout",
       "text": [
        " ['stay-at-home mom', 'Linda Poggensee', False]\n",
        "4850 ['freelance writer', 'John Quaintance', False]\n",
        "8628 ['from ...', 'Richard Perez-Pena', False]\n",
        "6269 ['12-year-old', 'Elizabeth Rogers', False]\n",
        "8629 ['farmer', 'Dorothy Williams', False]\n",
        "8158"
       ]
      },
      {
       "output_type": "stream",
       "stream": "stdout",
       "text": [
        " ['TV news producer', 'Joshua Brakhage', False]\n",
        "8159 ['professor of psychological sciences', 'Susie Swithers', False]\n",
        "8156 ['costume designer', 'Michelle Souza', ['27-1022', 'Fashion Designers', 'Costume Designer']]\n",
        "8157 ['customer service specialist', 'Buddy Hammett', False]\n",
        "8626"
       ]
      },
      {
       "output_type": "stream",
       "stream": "stdout",
       "text": [
        " ['from ...', 'Gregg Horn', False]\n",
        "8627 ['from ...', 'Mary', False]\n",
        "8620 ['12-year-old seventh grader', 'Aarin Martinez', False]\n",
        "8621"
       ]
      },
      {
       "output_type": "stream",
       "stream": "stdout",
       "text": [
        " ['from ...', 'Shirley', False]\n",
        "8622 ['from ...', 'Michael', False]\n",
        "8623 ['attorney', 'Clara Poplin', ['23-1011', 'Lawyers', 'Attorney']]\n",
        "1906 ['law student', 'Helen Harnett', False]\n",
        "1087 ['bankruptcy attorney', 'Eric Miller', False]\n",
        "1086"
       ]
      },
      {
       "output_type": "stream",
       "stream": "stdout",
       "text": [
        " ['photographer', 'Dan Avila', False]\n",
        "1085 ['apartment building manager', 'Bennett Crocker', False]\n",
        "1084 ['security inspector', 'Richard Dial', False]\n",
        "1083"
       ]
      },
      {
       "output_type": "stream",
       "stream": "stdout",
       "text": [
        " ['executive recruiter', 'Caleb Whitaker', False]\n",
        "1082 ['sales manager', 'Andy Rosenberg', False]\n",
        "1081 ['U.S. Coast Guard officer', 'Pete Brown', False]\n",
        "1080 ['management consultant', 'Beverly Davenport', ['13-1111', 'Management Analysts', 'Management Consultant']]\n",
        "1089"
       ]
      },
      {
       "output_type": "stream",
       "stream": "stdout",
       "text": [
        " ['financial consultant', 'Robin Corkery', False]\n",
        "1088 ['computer programmer', 'Ann Catlin', ['15-1131', 'Computer Programmers', 'Computer Programmer']]\n",
        "8859 ['journalist', 'Danny Jacobs', False]\n",
        "1904 ['medical secretary', 'Brian Ursrey', False]\n",
        "8761 ['accountant', 'Carole Furr', ['13-2011', 'Accountants and Auditors', 'Accountant']]\n",
        "5134 ['bookseller', 'Chris Tom', False]\n",
        "449 ['language arts teacher', 'Suzanne Parker', ['MiscTeacher', 'Teacher', 'Teacher']]\n",
        "448"
       ]
      },
      {
       "output_type": "stream",
       "stream": "stdout",
       "text": [
        " ['financial analyst', 'Matt Morris', False]\n",
        "1339 ['freelance editor and proofreader', 'Laura Glassman', False]\n",
        "1338 ['satellite news producer', 'Chad Curtis', False]\n",
        "443 ['retail specialist', 'Chris Miller', False]\n",
        "442 ['mathematics teacher', 'Mike Thayer', ['MiscTeacher', 'Teacher', 'Teacher']]\n",
        "441 ['general manager', 'Dennis Donohue', ['11-1021', 'General and Operations Managers', 'General Manager']]\n",
        "440"
       ]
      },
      {
       "output_type": "stream",
       "stream": "stdout",
       "text": [
        " ['music educator', 'Keith Lorasch', False]\n",
        "447 ['architect', 'Leah Greenwald', False]\n",
        "446 ['marketing manager', 'Doug Lach', False]\n",
        "445 ['writer', 'Boze Hadleigh', False]\n",
        "444"
       ]
      },
      {
       "output_type": "stream",
       "stream": "stdout",
       "text": [
        " ['program manager', 'Carol Tierney', False]\n",
        "6932 ['green community program coordinator', 'John Krizel', False]\n",
        "6933 ['actor and census clerk', 'Susan Neuffer', False]\n",
        "6930 ['professor of law', 'Neal Eggeson', False]\n",
        "6931"
       ]
      },
      {
       "output_type": "stream",
       "stream": "stdout",
       "text": [
        " ['computer systems administrator', 'Leslie Williams', False]\n",
        "6936 ['pediatrician and professional moderator', 'Gene Beed', False]\n",
        "6937 ['TV news writer', 'Tom Alexander', False]\n",
        "6934 ['seventh grade history teacher', 'Michael Muller', ['MiscTeacher', 'Teacher', 'Teacher']]\n",
        "6935"
       ]
      },
      {
       "output_type": "stream",
       "stream": "stdout",
       "text": [
        " ['homemaker and Army wife', 'Donna Gottlieb', False]\n",
        "8127 ['graphic designer', 'Laura Suzuki', ['27-1024', 'Graphic Designers', 'Graphic Designer']]\n",
        "8126 ['high school librarian', 'Ana Peso', ['25-4021', 'Librarians', 'High School Librarian']]\n",
        "6938 ['graduate student in seismology', 'Sarah Minson', ['GradStu', 'Graduate student', 'Graduate student']]\n",
        "6939 ['administrative assistant', 'Alison Stone Roberg', False]\n",
        "8123 ['high school social studies teacher', 'Paula Menasche', ['MiscTeacher', 'Teacher', 'Teacher']]\n",
        "8122 ['finance manager', 'Sandip Amin', False]\n",
        "8121"
       ]
      },
      {
       "output_type": "stream",
       "stream": "stdout",
       "text": [
        " ['financial advisor', 'Gonzalo Rufatt', False]\n",
        "8120 ['psychologist', 'Debra Newman', False]\n",
        "7706 ['marketing director', 'Annette Todd', ['11-2021', 'Marketing Managers', 'Marketing Director']]\n",
        "7707 ['retail horticulturist', 'David Gard', False]\n",
        "39 ['attorney and mediator', 'Jay Wolman', False]\n",
        "38"
       ]
      },
      {
       "output_type": "stream",
       "stream": "stdout",
       "text": [
        " ['toxicologist', 'Jeff Suchard', ['19-1042', 'Medical Scientists, Except Epidemiologists', 'Toxicologist']]\n",
        "7702 ['sixth and seventh grade language arts and social studies teacher', 'Justin Hofstetter', ['MiscTeacher', 'Teacher', 'Teacher']]\n",
        "7703 ['high school German and ESL teacher', 'Leslie Decker', ['MiscTeacher', 'Teacher', 'Teacher']]\n",
        "7700 ['theater teacher', 'Brad Brown', ['MiscTeacher', 'Teacher', 'Teacher']]\n",
        "7701 ['high school English teacher', 'Pian Wong', ['MiscTeacher', 'Teacher', 'Teacher']]\n",
        "33 ['retail specialist', 'Chris Miller', False]\n",
        "32 ['writer', 'Tom Baker', False]\n",
        "31 ['graduate student', 'Russ Schumacher', ['GradStu', 'Graduate student', 'Graduate student']]\n",
        "30 ['associate creative director', 'John Beck', False]\n",
        "5187 ['social studies teacher', 'Keith Parrish', ['MiscTeacher', 'Teacher', 'Teacher']]\n",
        "36"
       ]
      },
      {
       "output_type": "stream",
       "stream": "stdout",
       "text": [
        " ['cab driver', 'Sean Ryan', ['53-3041', 'Taxi Drivers and Chauffeurs', 'Cab Driver']]\n",
        "35 ['freelance writer and student', 'Anne Boyd', False]\n",
        "34 ['crime data specialist', 'Jim Stalley', False]\n",
        "1903 ['journalist', 'Katie Hobson', False]\n",
        "7514"
       ]
      },
      {
       "output_type": "stream",
       "stream": "stdout",
       "text": [
        " ['executive compensation consultant', 'Ted Simmons', False]\n",
        "1900 ['teacher', 'Kristan Strietzel-Duga', ['MiscTeacher', 'Teacher', 'Teacher']]\n",
        "8348 ['furniture manufacturer', 'Michael Kunes', False]\n",
        "8343 ['speech-language pathologist', 'Sharon Heiman', False]\n",
        "8342"
       ]
      },
      {
       "output_type": "stream",
       "stream": "stdout",
       "text": [
        " ['freelance writer and editor', 'Judy Arginteanu', False]\n",
        "8341 ['telecommunications attorney', 'Darren Abernethy', False]\n",
        "8340 ['adjunct history professor', 'Shawn Selby', False]\n",
        "8347"
       ]
      },
      {
       "output_type": "stream",
       "stream": "stdout",
       "text": [
        " ['online instructor', 'Mary Graves', False]\n",
        "8346 ['benefits consultant', 'Phil Goldstein', False]\n",
        "8345 ['attorney', 'Don Lemmer', ['23-1011', 'Lawyers', 'Attorney']]\n",
        "8344 ['mortgage banker', 'Steve Cunningham', False]\n",
        "847 ['student', 'Ben Kesling', False]\n",
        "846"
       ]
      },
      {
       "output_type": "stream",
       "stream": "stdout",
       "text": [
        " ['law clerk', 'Sarah Johnson', False]\n",
        "845 ['high school English teacher', 'Andy Sanderson', ['MiscTeacher', 'Teacher', 'Teacher']]\n",
        "844 ['freelance writer', 'Cathy Boggs', False]\n",
        "843 ['radio operator', 'Chris Shea', ['27-4013', 'Radio Operators', 'Radio Operator']]\n",
        "842 ['senior marketing representative', 'Brian Wangsgard', False]\n",
        "4079"
       ]
      },
      {
       "output_type": "stream",
       "stream": "stdout",
       "text": [
        " ['technical specialist', 'Rose Schuchman', False]\n",
        "4078 ['administrative assistant', 'Leslie McRae', False]\n",
        "4075 ['project coordinator', 'Glenn Sloat', False]\n",
        "4074"
       ]
      },
      {
       "output_type": "stream",
       "stream": "stdout",
       "text": [
        " ['dinosaur expert and writer', 'Don Lessem', False]\n",
        "4077 ['costume designer', 'Veronica Russell', ['27-1022', 'Fashion Designers', 'Costume Designer']]\n",
        "4076 ['computer programmer', 'Lee Lassiter', ['15-1131', 'Computer Programmers', 'Computer Programmer']]\n",
        "4071 ['history teacher', 'Lisa Karahalios', ['MiscTeacher', 'Teacher', 'Teacher']]\n",
        "4070 ['undergraduate student', 'Travis Schroeder', ['GradStu', 'Graduate student', 'Graduate student']]\n",
        "4073 ['Navy fighter pilot', 'Sam Paparo', False]\n",
        "4072 ['writer', 'David Benz', False]\n",
        "5797 ['investment banker', 'Andy Walvoord', ['41-3031', 'Securities, Commodities, and Financial Services Sales Agents', 'Investment Banker']]\n",
        "5796"
       ]
      },
      {
       "output_type": "stream",
       "stream": "stdout",
       "text": [
        " ['sales consultant', 'Allison Jones', False]\n",
        "5795 ['teacher', 'Keith Costigan', ['MiscTeacher', 'Teacher', 'Teacher']]\n",
        "5794 ['arts administrator', 'Melinda Hautala', False]\n",
        "5793 ['public defender', 'Luis Rom\\xe1n', ['23-1011', 'Lawyers', 'Public Defender']]\n",
        "5792 ['student', 'Chris Schleicher', False]\n",
        "3960 ['attorney', 'Rick Goldfarb', ['23-1011', 'Lawyers', 'Attorney']]\n",
        "3961 ['budget administrator', 'Jolyn Dunavant', False]\n",
        "7510 ['elementary school teacher', 'Hannah Wachs', ['MiscTeacher', 'Teacher', 'Teacher']]\n",
        "5799"
       ]
      },
      {
       "output_type": "stream",
       "stream": "stdout",
       "text": [
        " ['recent college graduate', 'Erin Butler', False]\n",
        "3969 ['medical student', 'Peggi Malys', False]\n",
        "8894 ['human resources consultant', 'Debra Malki', False]\n",
        "3638"
       ]
      },
      {
       "output_type": "stream",
       "stream": "stdout",
       "text": [
        " ['nurse and freelance writer', 'Andrea Ozment', False]\n",
        "3639 ['software engineer', 'William Lee', False]\n",
        "3636 ['retired medical technologist', 'Ann Cole', False]\n",
        "3637 ['grad student', 'Daniel Pollack-Pelzner', False]\n",
        "3634"
       ]
      },
      {
       "output_type": "stream",
       "stream": "stdout",
       "text": [
        " ['library information science instructor', 'Carol Tilley', False]\n",
        "3635 ['university professor', 'Michael Cholbi', False]\n",
        "3632 ['TV news writer', 'Tricia McKinney', False]\n",
        "3633 ['physics teacher', 'Ryan Hall', ['MiscTeacher', 'Teacher', 'Teacher']]\n",
        "3630"
       ]
      },
      {
       "output_type": "stream",
       "stream": "stdout",
       "text": [
        " ['computer consultant', 'Gin Peck', False]\n",
        "3631 ['firefighter', 'Matt Sojot', False]\n",
        "849 ['culinary student', 'Deanna Easter', False]\n",
        "848 ['mutual fund accountant', 'Pam Maine', False]\n",
        "8769 ['band teacher', 'Rico Vazquez', ['MiscTeacher', 'Teacher', 'Teacher']]\n",
        "5450"
       ]
      },
      {
       "output_type": "stream",
       "stream": "stdout",
       "text": [
        " ['writer', 'Rollin Jewett', False]\n",
        "8768 ['attorney', 'Amanda DeMeola', ['23-1011', 'Lawyers', 'Attorney']]\n",
        "8857 [\"children's museum education manager\", 'Miriam Musco', False]\n",
        "4468 ['deputy attorney general', 'Rob Carter', ['23-1011', 'Lawyers', 'Deputy Attorney General']]\n",
        "4469 ['graduate student', 'Claire Slavovsky', ['GradStu', 'Graduate student', 'Graduate student']]\n",
        "4466 ['middle school history teacher', \"John O'Leary\", ['MiscTeacher', 'Teacher', 'Teacher']]\n",
        "4467"
       ]
      },
      {
       "output_type": "stream",
       "stream": "stdout",
       "text": [
        " ['database specialist and artist', 'Cynthia Patterson', False]\n",
        "4464 ['homemaker', 'Leslie Sweeney', False]\n",
        "4465 ['attorney', 'Keith Thorell', ['23-1011', 'Lawyers', 'Attorney']]\n",
        "4462 ['culinary school instructor', 'John Draz', False]\n",
        "4463"
       ]
      },
      {
       "output_type": "stream",
       "stream": "stdout",
       "text": [
        " ['software specialist', 'Bret Jensen', False]\n",
        "4460 ['assistant marketing editor', 'Tanya Wade', False]\n",
        "4461 ['editorial researcher', 'Dan Evans', False]\n",
        "948"
       ]
      },
      {
       "output_type": "stream",
       "stream": "stdout",
       "text": [
        " ['real estate agent', 'Lea Hall', False]\n",
        "949 ['writer', 'Harris Peet', False]\n",
        "946 ['medical student', 'Richard Sowalsky', False]\n",
        "947 ['restaurant owner', 'Bill Warren', False]\n",
        "944"
       ]
      },
      {
       "output_type": "stream",
       "stream": "stdout",
       "text": [
        " ['12-year-old', 'Dan Amboy', False]\n",
        "945 ['assistant professor', 'Pam Richardson', False]\n",
        "942 ['12-year-old', 'Kristin Frankhouser', False]\n",
        "943 ['12-year-old', 'Kate Dzurilla', False]\n",
        "940"
       ]
      },
      {
       "output_type": "stream",
       "stream": "stdout",
       "text": [
        " ['10-year-old', 'Neha Gokhale', False]\n",
        "941 ['12-year-old', 'Michael Blake', False]\n",
        "6327 ['math advisor', 'Naomi Brokaw', False]\n",
        "6326"
       ]
      },
      {
       "output_type": "stream",
       "stream": "stdout",
       "text": [
        " ['college professor', 'David Kammerer', False]\n",
        "6325 ['homemaker', 'Bridget Kirk', False]\n",
        "6324 ['development officer', 'Emily Robin', False]\n",
        "6323 ['teacher', 'Marc Carcanague', ['MiscTeacher', 'Teacher', 'Teacher']]\n",
        "6322 ['writer', 'Steve Altes', False]\n",
        "6321"
       ]
      },
      {
       "output_type": "stream",
       "stream": "stdout",
       "text": [
        " ['clerk', 'Melanie Cruanes', False]\n",
        "6320 ['hotel food and beverage manager', 'Brian Brown', False]\n",
        "4376 ['social studies teacher', 'Mike Bartley', ['MiscTeacher', 'Teacher', 'Teacher']]\n",
        "6329 ['bird trainer', 'Lisa Cherry', False]\n",
        "6328"
       ]
      },
      {
       "output_type": "stream",
       "stream": "stdout",
       "text": [
        " ['vice president of IT communications and information', 'Joe Wolke', False]\n",
        "8978 ['computer instructor', 'Ken DeBusk', False]\n",
        "8979 ['teacher', 'Mickey Tennenbaum', ['MiscTeacher', 'Teacher', 'Teacher']]\n",
        "8970 ['music historian', 'Nora Morrison', False]\n",
        "8971"
       ]
      },
      {
       "output_type": "stream",
       "stream": "stdout",
       "text": [
        " ['compliance engineer', 'Nick Durazo', False]\n",
        "8972 ['school-media specialist', 'Susan Shikany', False]\n",
        "8973 ['aerospace engineer', 'Gabor Revy', ['17-2011', 'Aerospace Engineers', 'Aerospace Engineer']]\n",
        "8974 ['coast guard helicopter mechanic', 'Joe Morse', False]\n",
        "8975 ['graduate student of social work', 'Lindsay Wilson', ['GradStu', 'Graduate student', 'Graduate student']]\n",
        "8976"
       ]
      },
      {
       "output_type": "stream",
       "stream": "stdout",
       "text": [
        " ['book publicist', 'Diane Levinson', False]\n",
        "8977 ['teacher-in-training', 'Barbara Komansky', ['MiscTeacher', 'Teacher', 'Teacher']]\n",
        "6560 ['star', 'Christopher Meloni', False]\n",
        "7139 ['contract administrator', 'Genaro Lopez', ['11-3061', 'Purchasing Managers', 'Contract Administrator']]\n",
        "7138 ['pizza restaurant manager', 'Annemarie Brentrup', False]\n",
        "4793 ['marketing specialist', 'Eileen Tremblay', ['13-1161', 'Market Research Analysts and Marketing Specialists', 'Marketing Specialist']]\n",
        "7131"
       ]
      },
      {
       "output_type": "stream",
       "stream": "stdout",
       "text": [
        " ['adjunct instructor of art history', 'Alice Jackson', False]\n",
        "7130 ['pawnbroker', 'Anthony Curtis', False]\n",
        "7133 ['patient financial counselor', 'Allysen Meijer', False]\n",
        "7132 ['library assistant', 'Lyn Thomas', ['43-4121', 'Library Assistants, Clerical', 'Library Assistant']]\n",
        "7135"
       ]
      },
      {
       "output_type": "stream",
       "stream": "stdout",
       "text": [
        " ['IT analyst', 'Raghuveer Mukkamalla', False]\n",
        "7134 ['school nurse', 'Ellen Kimmel', False]\n",
        "7137 ['Ph.D. student in political science', 'Whitney Manzo', False]\n",
        "7136 ['editor', 'Matt Creamer', False]\n",
        "1658"
       ]
      },
      {
       "output_type": "stream",
       "stream": "stdout",
       "text": [
        " ['investment manager', 'Barry Berlin', False]\n",
        "1659 ['twelve-year-old seventh-grader', 'Ian Manka', False]\n",
        "1652 ['legislative assistant', 'Colin Sheldon', False]\n",
        "410"
       ]
      },
      {
       "output_type": "stream",
       "stream": "stdout",
       "text": [
        " ['college professor', 'Tami Whitney', False]\n",
        "1650 ['environmental engineer', 'Dave Lasher', ['17-2081', 'Environmental Engineers', 'Environmental Engineer']]\n",
        "1651 ['professor and lawyer', 'Mary Flaherty', False]\n",
        "1656 ['bookkeeper', 'Sharon Desser', ['43-3031', 'Bookkeeping, Accounting, and Auditing Clerks', 'Bookkeeper']]\n",
        "1657 ['fundraiser', 'Faith Brown', False]\n",
        "1654"
       ]
      },
      {
       "output_type": "stream",
       "stream": "stdout",
       "text": [
        " ['technical writer', 'Sharona Nelson', ['27-3042', 'Technical Writers', 'Technical Writer']]\n",
        "411 ['researcher', 'Dave Stone', False]\n",
        "586 ['technical writer', 'Steve Chernicoff', ['27-3042', 'Technical Writers', 'Technical Writer']]\n",
        "1739 ['homemaker', 'Pam Bybell', False]\n",
        "584 ['economist', 'Steven Popper', ['19-3011', 'Economists', 'Economist']]\n",
        "585 ['radiologist', 'Roy Holliday', ['29-1069', 'Physicians and Surgeons, All Other', 'Radiologist']]\n",
        "582 ['lawyer', 'David Venderbush', ['23-1011', 'Lawyers', 'Lawyer']]\n",
        "583"
       ]
      },
      {
       "output_type": "stream",
       "stream": "stdout",
       "text": [
        " ['project manager and expectant father', 'Scott Gillispie', False]\n",
        "580 ['law student', 'David Kahn', False]\n",
        "581 ['quality control inspector', 'Jan Ford', ['51-9061', 'Inspectors, Testers, Sorters, Samplers, and Weighers', 'Quality Control Inspector']]\n",
        "588 ['speechwriter', 'Arthur Phillips', False]\n",
        "589"
       ]
      },
      {
       "output_type": "stream",
       "stream": "stdout",
       "text": [
        " ['program analyst', 'Ellen Auerbach', False]\n",
        "2839 ['medical office assistant', 'Carl Swanson', False]\n",
        "2838 ['clinical research coordinator', 'Sarah Ramer', False]\n",
        "2837 ['U.S. history teacher', 'Maureen McCuen', ['MiscTeacher', 'Teacher', 'Teacher']]\n",
        "2836"
       ]
      },
      {
       "output_type": "stream",
       "stream": "stdout",
       "text": [
        " ['software engineer', 'Brad Waller', False]\n",
        "2835 ['consultant', 'Anne Takemoto', False]\n",
        "2834 ['high school social studies teacher', 'Andrew Sims', ['MiscTeacher', 'Teacher', 'Teacher']]\n",
        "2833 ['property manager', 'Greg Lim', ['11-9141', 'Property, Real Estate, and Community Association Managers', 'Property Manager']]\n",
        "2832 ['training and development professional', 'Susan Robbins', False]\n",
        "2831"
       ]
      },
      {
       "output_type": "stream",
       "stream": "stdout",
       "text": [
        " ['historian and Ph.D. candidate', 'Edward Ragan', False]\n",
        "2830 ['first grade teacher', 'Kristen Senall', ['MiscTeacher', 'Teacher', 'Teacher']]\n",
        "3391 ['photo editor', 'Jon Protas', False]\n",
        "3390 ['homemaker and student', 'Cindi Winstead', False]\n",
        "3393 ['actor and playwright', 'Nate Metcalf', False]\n",
        "5404 ['economist', 'Alan Paul', ['19-3011', 'Economists', 'Economist']]\n",
        "3395"
       ]
      },
      {
       "output_type": "stream",
       "stream": "stdout",
       "text": [
        " ['project manager', 'Derek Robinson', False]\n",
        "3394 ['graduate student', 'Wayne Cherry', ['GradStu', 'Graduate student', 'Graduate student']]\n",
        "5401 ['IT director', 'Mark Raabe', False]\n",
        "5400 ['college junior', 'Andrew Hoekzema', False]\n",
        "3399"
       ]
      },
      {
       "output_type": "stream",
       "stream": "stdout",
       "text": [
        " ['senior', 'Amy Zucker', False]\n",
        "418 ['assistant director for the Central Intelligence Agency', 'Mark Lowenthal', False]\n",
        "5409 ['geologist', 'Mary Ann Eitler', ['19-2042', 'Geoscientists, Except Hydrologists and Geographers', 'Geologist']]\n",
        "5408 ['high school technology teacher', 'Vicki Reynolds', ['MiscTeacher', 'Teacher', 'Teacher']]\n",
        "5230"
       ]
      },
      {
       "output_type": "stream",
       "stream": "stdout",
       "text": [
        " ['recent college graduate', 'Meredith Allen', False]\n",
        "5231 ['web programmer', 'Rafi Kam', False]\n",
        "7688 ['freshman at the College of William and Mary', 'Zach McDonnell', False]\n",
        "5232"
       ]
      },
      {
       "output_type": "stream",
       "stream": "stdout",
       "text": [
        " ['sound engineer', 'Matt Snow', False]\n",
        "4260 ['attorney and executive recruiter', 'Sandi Rosenfeld', False]\n",
        "4261 ['environmental consultant', 'Rick Robertson', False]\n",
        "4262"
       ]
      },
      {
       "output_type": "stream",
       "stream": "stdout",
       "text": [
        " ['policy analyst', 'Brad Koplinski', False]\n",
        "1732 ['school registrar', 'Patricia DiMaggio', False]\n",
        "4264 ['economic consultant', 'Ryan Grant', False]\n",
        "4265"
       ]
      },
      {
       "output_type": "stream",
       "stream": "stdout",
       "text": [
        " ['former stockbroker', 'Brady Bellis', False]\n",
        "4266 ['homemaker', 'Mary Cox', False]\n",
        "4267 ['attorney', 'Bill McCormick', ['23-1011', 'Lawyers', 'Attorney']]\n",
        "4268 ['administrative assistant', 'Dru Daigle', False]\n",
        "4269 ['teacher', 'Brian Lohmann', ['MiscTeacher', 'Teacher', 'Teacher']]\n",
        "1734"
       ]
      },
      {
       "output_type": "stream",
       "stream": "stdout",
       "text": [
        " ['stay-at-home mom', 'Juliet Wiley', False]\n",
        "3702 ['international business school executive', 'Frank Lloyd', False]\n",
        "5236 ['credit administration manager', 'Kristen Jacek', False]\n",
        "3703"
       ]
      },
      {
       "output_type": "stream",
       "stream": "stdout",
       "text": [
        " ['Army officer', 'Penny Bloedel', False]\n",
        "5237 ['municipal court magistrate', 'Tom McDermott', False]\n",
        "3700 ['senior art director', 'Jeff Scherer', False]\n",
        "5548 ['artist', 'John Sirk', False]\n",
        "5549"
       ]
      },
      {
       "output_type": "stream",
       "stream": "stdout",
       "text": [
        " ['bed-and-breakfast owner', 'Kathy Robbins', False]\n",
        "3263 ['writer and editor', 'Patricia Davis', False]\n",
        "5542 ['computer graphics specialist', 'Harry Barker', False]\n",
        "5543"
       ]
      },
      {
       "output_type": "stream",
       "stream": "stdout",
       "text": [
        " ['training administrator', 'Peggy Garvey-McMahon', False]\n",
        "5540 ['headmaster', 'Brian Muth', False]\n",
        "5541 ['preschool teacher and tutor', 'Kate McCoy', ['MiscTeacher', 'Teacher', 'Teacher']]\n",
        "5546 ['retiree and high school coach', 'Lanny Springs', False]\n",
        "5547 ['foreign language teacher', 'Sally White', ['MiscTeacher', 'Teacher', 'Teacher']]\n",
        "5544 ['executive chef', 'Tim McCoy', ['35-1011', 'Chefs and Head Cooks', 'Executive Chef']]\n",
        "5545"
       ]
      },
      {
       "output_type": "stream",
       "stream": "stdout",
       "text": [
        " ['librarian', 'Martin Garnar', False]\n",
        "1881 ['consultant', 'Sally Vaughn', False]\n",
        "8598 ['manufacturer', 'Allan Mason', False]\n",
        "8599 ['secretary', 'Kate Thornton-Hirsch', False]\n",
        "8596"
       ]
      },
      {
       "output_type": "stream",
       "stream": "stdout",
       "text": [
        " ['electronic upkeep consultant', 'Jody Lentz', False]\n",
        "8597 ['political consultant', 'Dave Jeffery', ['19-3094', 'Political Scientists', 'Political Consultant']]\n",
        "8594 ['from ...', 'Barbara Griffin', False]\n",
        "1880 ['police dispatcher and music student', 'Jimmie Bise Jr.', False]\n",
        "8592"
       ]
      },
      {
       "output_type": "stream",
       "stream": "stdout",
       "text": [
        " ['fundraising intern', 'David Brown', False]\n",
        "8593 ['from ...', 'Curtis Warren', False]\n",
        "8590 ['housewife', 'Phyllis Grinnell', False]\n",
        "8591 ['project coordinator', 'Sarah Orzalli', False]\n",
        "5890"
       ]
      },
      {
       "output_type": "stream",
       "stream": "stdout",
       "text": [
        " ['research specialist and project coordinator', 'Leland Graham III', False]\n",
        "5891 ['economist', 'Maria Borga', ['19-3011', 'Economists', 'Economist']]\n",
        "5892 ['stay-at-home mom', 'Dawn Bacak', False]\n",
        "5893 ['graphic artist and musician', 'Bruce Hanson', False]\n",
        "5894"
       ]
      },
      {
       "output_type": "stream",
       "stream": "stdout",
       "text": [
        " ['health care and financial services advisor', 'Charles Murphy', False]\n",
        "5895 ['engineer', 'Edie Chang', False]\n",
        "5896 ['publishing technology specialist', 'Sanders Kleinfeld', False]\n",
        "5897"
       ]
      },
      {
       "output_type": "stream",
       "stream": "stdout",
       "text": [
        " ['assistant professor of English', 'Rachel Anderson', False]\n",
        "5898 ['history teacher', 'Kara Mohler', ['MiscTeacher', 'Teacher', 'Teacher']]\n",
        "5899 ['college professor', 'Ted Skotnicki', False]\n",
        "4669 ['senior', 'Janelle Lambert', False]\n",
        "2127 ['executive assistant', 'Leigh Hall', ['43-6011', 'Executive Secretaries and Executive Administrative Assistants', 'Executive Assistant']]\n",
        "4862 ['high school Spanish teacher', 'Chris Sullivan', ['MiscTeacher', 'Teacher', 'Teacher']]\n",
        "4919"
       ]
      },
      {
       "output_type": "stream",
       "stream": "stdout",
       "text": [
        " ['senior', 'Joey Beachum', False]\n",
        "2129 ['cleaning company administrator', 'Rich Hendricks', False]\n",
        "8447 ['interior designer', 'Ann Gibney', ['27-1025', 'Interior Designers', 'Interior Designer']]\n",
        "2128 ['student', 'Michael Angel', False]\n",
        "4666 ['senior', 'Mollie Haycock', False]\n",
        "4915"
       ]
      },
      {
       "output_type": "stream",
       "stream": "stdout",
       "text": [
        " ['junior', 'Vera Swain', False]\n",
        "4863 ['technical writer', 'Shelby Hammer', ['27-3042', 'Technical Writers', 'Technical Writer']]\n",
        "4912 ['senior', 'Meredith Johnson', False]\n",
        "4913 ['sophomore', 'Brandon Hensley', False]\n",
        "4910"
       ]
      },
      {
       "output_type": "stream",
       "stream": "stdout",
       "text": [
        " ['health care improvement specialist', 'Wanda Bartschat', False]\n",
        "4911 ['junior', 'Gabrielle McMahan', False]\n",
        "4860 ['copywriter', 'Sean McGinty', ['27-3043', 'Writers and Authors', 'Copywriter']]\n",
        "322 ['technical consultant', 'Kathryn Perry', False]\n",
        "323"
       ]
      },
      {
       "output_type": "stream",
       "stream": "stdout",
       "text": [
        " ['Air Force attorney', 'Gary Fulcomer', False]\n",
        "320 ['adult literacy program coordinator', 'Bev Schwartzberg', False]\n",
        "321 ['writer and consultant', 'David Sampugnaro', False]\n",
        "326"
       ]
      },
      {
       "output_type": "stream",
       "stream": "stdout",
       "text": [
        " ['from Salt Lake City, Utah...', 'Brian Wangsgard', False]\n",
        "327 ['journalist', 'Richard Perez-Pena', False]\n",
        "324 ['college professor', 'Dan Melia', False]\n",
        "325"
       ]
      },
      {
       "output_type": "stream",
       "stream": "stdout",
       "text": [
        " ['emergency medical technician and writer', 'Jeremy Bate', False]\n",
        "328 ['law professor', 'Kate Waits', False]\n",
        "329 ['librarian', 'Bruce Naegeli', False]\n",
        "1595 ['scientist', 'Chris Moylan', False]\n",
        "6138"
       ]
      },
      {
       "output_type": "stream",
       "stream": "stdout",
       "text": [
        " ['TV personality', 'Jeff Probst', False]\n",
        "6139 ['accounting clerk', 'Larry Floyd', False]\n",
        "1594 ['independent graphic designer', 'Emily Scott', False]\n",
        "6132"
       ]
      },
      {
       "output_type": "stream",
       "stream": "stdout",
       "text": [
        " ['bartender and antiques dealer', 'Pat Allen', False]\n",
        "6133 ['printing broker', 'Ric Moser', False]\n",
        "6130 ['musician', 'Larry Shackley', ['27-2042', 'Musicians and Singers', 'Musician']]\n",
        "6131 ['substitute teacher', 'Gregg Gendiellee', ['MiscTeacher', 'Teacher', 'Teacher']]\n",
        "6136 ['former pro basketball player', 'Charles Barkley', False]\n",
        "3072"
       ]
      },
      {
       "output_type": "stream",
       "stream": "stdout",
       "text": [
        " ['senior vice president of hospital finance', 'Dan Schulte', False]\n",
        "6134 ['insurance underwriter', 'Elise Beraru', ['13-2053', 'Insurance Underwriters', 'Insurance Underwriter']]\n",
        "6135 ['student and a Catholic cantor', 'John Genova', False]\n",
        "3073 ['editor', 'Luann Reed-Siegel', False]\n",
        "1591 ['attorney', 'Diane Mirabito', ['23-1011', 'Lawyers', 'Attorney']]\n",
        "1590 ['technical writer', 'Kim Haase', ['27-3042', 'Technical Writers', 'Technical Writer']]\n",
        "3076"
       ]
      },
      {
       "output_type": "stream",
       "stream": "stdout",
       "text": [
        " ['law student', 'Chris Havener', False]\n",
        "3077 ['financial analyst', 'Michelle Dunstan', False]\n",
        "3252 ['realtor and substitute teacher', 'Chris Renz', ['MiscTeacher', 'Teacher', 'Teacher']]\n",
        "2248 ['hotel manager', 'Seth Supcoff', ['11-9081', 'Lodging Managers', 'Hotel Manager']]\n",
        "2249 ['from <i>JAG</i>...', 'David James Elliott', False]\n",
        "2244"
       ]
      },
      {
       "output_type": "stream",
       "stream": "stdout",
       "text": [
        " ['reporter', 'Nathan Childs', False]\n",
        "2245 ['high school history teacher', 'A.K. Subramanian', ['MiscTeacher', 'Teacher', 'Teacher']]\n",
        "2246 ['medical coordinator', 'Michelle Bondurant', False]\n",
        "2247 ['grad student', 'Vanessa Meikle', False]\n",
        "2240"
       ]
      },
      {
       "output_type": "stream",
       "stream": "stdout",
       "text": [
        " ['federal appellate attorney', 'Julie Marcus', False]\n",
        "2241 ['teacher', 'Josh Flosi', ['MiscTeacher', 'Teacher', 'Teacher']]\n",
        "2242 ['library technician', 'Pat Martin', False]\n",
        "2243 ['research scientist', 'Yen Bawagan', False]\n",
        "3401 ['senior', 'Joey Burgoon', False]\n",
        "3400"
       ]
      },
      {
       "output_type": "stream",
       "stream": "stdout",
       "text": [
        " ['sophomore', 'Penny Prior', False]\n",
        "3403 ['caregiver', 'Tana Sibilio', False]\n",
        "3402 ['social worker and grad student', 'Erica Eaton', False]\n",
        "3405 ['senior', 'Gavin Russell', False]\n",
        "3404"
       ]
      },
      {
       "output_type": "stream",
       "stream": "stdout",
       "text": [
        " ['junior', 'Michael Thayer', False]\n",
        "3407 ['freshman', 'Noah Smith', False]\n",
        "3406 ['senior', 'Elena Broder', False]\n",
        "3409 ['sophomore', 'Julie Gross', False]\n",
        "3408 ['junior', 'Matthew Miller', False]\n",
        "7537"
       ]
      },
      {
       "output_type": "stream",
       "stream": "stdout",
       "text": [
        " ['English professor', 'Sunny Stalter', False]\n",
        "4875 ['news anchor', 'Jack Ford', ['27-3021', 'Broadcast News Analysts', 'News Anchor']]\n",
        "4874 ['writer and editor', 'Katherine Duke', False]\n",
        "4877 ['actor and comedian', 'Sinbad', False]\n",
        "4876 ['actress', 'Jeri Ryan', ['27-2011', 'Actors', 'Actress']]\n",
        "4871"
       ]
      },
      {
       "output_type": "stream",
       "stream": "stdout",
       "text": [
        " ['software engineer', 'Doug Bennett', False]\n",
        "4870 ['homemaker', 'Suzy Fletcher', False]\n",
        "4873 ['epidemiologist', 'Bill Frank', False]\n",
        "4872 ['writer', 'Laura Miller', False]\n",
        "7531 ['psychiatrist', 'Gabor Vari', ['29-1066', 'Psychiatrists', 'Psychiatrist']]\n",
        "4879 ['actress', 'Melody Thomas Scott', ['27-2011', 'Actors', 'Actress']]\n",
        "4878"
       ]
      },
      {
       "output_type": "stream",
       "stream": "stdout",
       "text": [
        " ['world record holder and gold medal winner in speed skating', 'Dan Jansen', False]\n",
        "7530 ['stay-at-home mom', 'Jennifer Dockter', False]\n",
        "2068 ['tutor and actor', 'Matt Landig', False]\n",
        "2069 ['physician', 'Lisa Stevens', False]\n",
        "2798 ['math teacher', 'Doug Szafran', ['MiscTeacher', 'Teacher', 'Teacher']]\n",
        "2799"
       ]
      },
      {
       "output_type": "stream",
       "stream": "stdout",
       "text": [
        " ['computer software developer', 'Brad McNiff', False]\n",
        "7533 ['pianist and music teacher', 'Laura Bulkin', ['MiscTeacher', 'Teacher', 'Teacher']]\n",
        "2792 ['attorney', 'Niki Bates', ['23-1011', 'Lawyers', 'Attorney']]\n",
        "2793 ['graduate student', 'Joe Sill', ['GradStu', 'Graduate student', 'Graduate student']]\n",
        "2790 ['composer', 'Matt Wehling', ['27-2041', 'Music Directors and Composers', 'Composer']]\n",
        "2791 ['medical student', 'Steve Cook', False]\n",
        "2796 ['librarian', 'Beth Coughlin', False]\n",
        "2797 ['speech and language pathologist', 'Darren Depuydt', False]\n",
        "2794"
       ]
      },
      {
       "output_type": "stream",
       "stream": "stdout",
       "text": [
        " ['writer and editor', 'Linda Triegel', False]\n",
        "2795 ['high school history teacher', 'Rod Jackson', ['MiscTeacher', 'Teacher', 'Teacher']]\n",
        "5455 ['attorney', 'Debbie Lerner', ['23-1011', 'Lawyers', 'Attorney']]\n",
        "3256 ['11-year-old', 'Jimmy McKew', False]\n",
        "5692 ['landscaper', 'Lee Brooks', False]\n",
        "5690"
       ]
      },
      {
       "output_type": "stream",
       "stream": "stdout",
       "text": [
        " ['transplant data analyst', 'Marmi Maramot', False]\n",
        "6178 ['law clerk', 'Rae Sailor', False]\n",
        "8078 ['statistician', 'Mary Folley', ['15-2041', 'Statisticians', 'Statistician']]\n",
        "8786 ['homeschool mom', 'Janel Stogdill', False]\n",
        "7096 ['phone-based health coach', 'Josh Powell', False]\n",
        "7097"
       ]
      },
      {
       "output_type": "stream",
       "stream": "stdout",
       "text": [
        " ['biotech account manager', 'Andy Holt', False]\n",
        "7094 ['singer and editor', 'Francesca Huemer Kelly', False]\n",
        "7095 ['white-collar criminal defense attorney', 'Kate Reilly', False]\n",
        "7092"
       ]
      },
      {
       "output_type": "stream",
       "stream": "stdout",
       "text": [
        " ['online marketing consultant', 'Terence Scroope', False]\n",
        "7093 ['biology student', 'Ariel Schneider', False]\n",
        "7090 ['education policy consultant', 'Allie Hagan', False]\n",
        "7091"
       ]
      },
      {
       "output_type": "stream",
       "stream": "stdout",
       "text": [
        " ['digital marketing manager', 'Tom Zamojcin', False]\n",
        "7098 ['general litigation attorney', 'Will Durbin', False]\n",
        "7099 ['certified surgical technician', 'Christina Barley', False]\n",
        "5696 ['high school teacher', 'Jen Bradbury', ['MiscTeacher', 'Teacher', 'Teacher']]\n",
        "4883 ['transportation manager', 'Lance Durbin', ['11-3071', 'Transportation, Storage, and Distribution Managers', 'Transportation Manager']]\n",
        "8105"
       ]
      },
      {
       "output_type": "stream",
       "stream": "stdout",
       "text": [
        " ['clothing sales associate', 'Theresa Anderson', False]\n",
        "8104 ['operations coordinator', 'Susan Jann', False]\n",
        "1359 ['junior', 'Pooja Dhume', False]\n",
        "1358 ['junior', 'Brandon Frantz', False]\n",
        "469"
       ]
      },
      {
       "output_type": "stream",
       "stream": "stdout",
       "text": [
        " ['writer and producer for television', 'Jonathan Groff', False]\n",
        "468 ['sportswriter', 'Eddie Timanus', False]\n",
        "8103 ['associate editor of textbooks', 'Carly Gramer', False]\n",
        "8102 ['graduate student and research assistant', 'Matt Steinpreis', ['GradStu', 'Graduate student', 'Graduate student']]\n",
        "465"
       ]
      },
      {
       "output_type": "stream",
       "stream": "stdout",
       "text": [
        " ['criminal defense lawyer', 'Barbara Byrne', False]\n",
        "464 ['associate editor and online writer', 'Maryanne Ackershoek', False]\n",
        "467 ['graphic designer', 'Jean Grewe', ['27-1024', 'Graphic Designers', 'Graphic Designer']]\n",
        "466 ['piano salesman', 'Michael Collin', False]\n",
        "461"
       ]
      },
      {
       "output_type": "stream",
       "stream": "stdout",
       "text": [
        " ['cattle breeder', 'Bill Johnson', False]\n",
        "460 ['publishing project coordinator', 'Paul Marte', False]\n",
        "463"
       ]
      },
      {
       "output_type": "stream",
       "stream": "stdout",
       "text": [
        " ['arts council director', 'David Cruthers', False]\n",
        "462 ['engineer', 'Rob Carlisle', False]\n",
        "6958 ['U.S. Army captain', 'Kevin Frear', False]\n",
        "6959 ['environmental attorney', 'Debra Winthrop', ['23-1011', 'Lawyers', 'Environmental Attorney']]\n",
        "6488"
       ]
      },
      {
       "output_type": "stream",
       "stream": "stdout",
       "text": [
        " ['proposal writer', 'Melisa Paye-Mose', False]\n",
        "6489 ['medievalist', 'Scott Wells', False]\n",
        "6482 ['student', 'Clinton Reese', False]\n",
        "6483 ['writer', 'Joanne Casey', False]\n",
        "6480"
       ]
      },
      {
       "output_type": "stream",
       "stream": "stdout",
       "text": [
        " ['bookseller', 'Matt Lohr', False]\n",
        "6481 ['courier', 'Kate Charron', ['43-5021', 'Couriers and Messengers', 'Courier']]\n",
        "6486 ['database administrator', 'Dave Meehan', False]\n",
        "6487 ['mother of two', 'Joy Forrester', False]\n",
        "6484"
       ]
      },
      {
       "output_type": "stream",
       "stream": "stdout",
       "text": [
        " ['medical records supervisor', 'Margaret Meehan', False]\n",
        "6485 ['sportscaster', 'Barry McKnight', False]\n",
        "4885 ['training director', 'Ric Leach', False]\n",
        "8214"
       ]
      },
      {
       "output_type": "stream",
       "stream": "stdout",
       "text": [
        " ['professor of political science', 'Paul Raymond', False]\n",
        "8361 ['director of underwriting policy', 'Amanda Steadman', False]\n",
        "8360 ['political researcher', 'George McAleese', False]\n",
        "8363"
       ]
      },
      {
       "output_type": "stream",
       "stream": "stdout",
       "text": [
        " ['programmer', 'John Leavy', False]\n",
        "8362 ['paralegal', 'Jody Carlson', ['23-2011', 'Paralegals and Legal Assistants', 'Paralegal']]\n",
        "8365 ['freelance journalist', 'Cathy Glassman', False]\n",
        "8364 ['project manager', 'Mark Temares', False]\n",
        "8367 ['elementary school principal', 'Kathy DeLozier', ['11-9032', 'Education Administrators, Elementary and Secondary School', 'Elementary School Principal']]\n",
        "8366"
       ]
      },
      {
       "output_type": "stream",
       "stream": "stdout",
       "text": [
        " ['postal worker', 'Larry Krajewski', False]\n",
        "8369 ['administrative assistant', 'Shana Rosenfeld', False]\n",
        "8368 ['claims representative', 'Paul Agosti', False]\n",
        "3184"
       ]
      },
      {
       "output_type": "stream",
       "stream": "stdout",
       "text": [
        " ['graduate business student', 'David Lichtman', False]\n",
        "3185 ['heavy equipment sales representative', 'Chris Howard', False]\n",
        "3186 ['newswire editor', 'Elizabeth Heichler', False]\n",
        "3187 ['operations manager', 'Kevin Keach', ['11-1021', 'General and Operations Managers', 'Operations Manager']]\n",
        "3180 ['freelance writer', 'Michael Bertin', False]\n",
        "3181"
       ]
      },
      {
       "output_type": "stream",
       "stream": "stdout",
       "text": [
        " [\"children's librarian\", 'Kris Springer', ['25-4021', 'Librarians', \"Children's Librarian\"]]\n",
        "3182 ['geological exploration technician', 'Gary Rewerts', False]\n",
        "3183 ['internet sports columnist', 'Scott Candage', False]\n",
        "3188 ['teacher', 'Robyn Reilly', ['MiscTeacher', 'Teacher', 'Teacher']]\n",
        "3189"
       ]
      },
      {
       "output_type": "stream",
       "stream": "stdout",
       "text": [
        " ['consultant', 'Joann Mickens', False]\n",
        "4019 ['operations research analyst', 'Jonathan Jacobs', ['15-2031', 'Operations Research Analysts', 'Operations Research Analyst']]\n",
        "4018 ['doctoral fellow', 'Lois Kurowski', False]\n",
        "4013 ['librarian', 'Lynne Wexler', False]\n",
        "4012"
       ]
      },
      {
       "output_type": "stream",
       "stream": "stdout",
       "text": [
        " ['travel attorney', 'Mark Pestronk', False]\n",
        "4011 ['college freshman and Teen Tournament winner', 'Andy Westney', False]\n",
        "4010 ['legal secretary', 'Pam Wells', False]\n",
        "4017"
       ]
      },
      {
       "output_type": "stream",
       "stream": "stdout",
       "text": [
        " ['public relations writer', 'Lorrie Mowat', False]\n",
        "4016 ['associate professor and author', 'Ray Albrektson', False]\n",
        "4015 ['technical writer', 'Karen Donofrio Staros', ['27-3042', 'Technical Writers', 'Technical Writer']]\n",
        "4014 ['waiter', 'John Shannon', False]\n",
        "3988 ['lawyer', 'Michelle Ryan', ['23-1011', 'Lawyers', 'Lawyer']]\n",
        "3989"
       ]
      },
      {
       "output_type": "stream",
       "stream": "stdout",
       "text": [
        " ['editor', 'Doug Rumbaugh', False]\n",
        "3984 ['college teacher', 'Anne Finger', ['MiscTeacher', 'Teacher', 'Teacher']]\n",
        "3985 ['director of fraud detection', 'Jane Preston', False]\n",
        "3986 ['substitute teacher', 'Sam Harley', ['MiscTeacher', 'Teacher', 'Teacher']]\n",
        "3987 ['document control manager', 'Greg Sorenson', False]\n",
        "3980 "
       ]
      },
      {
       "output_type": "stream",
       "stream": "stdout",
       "text": [
        "['junior', 'Lindsey Nicolai', False]\n",
        "3981 ['senior', 'Kriti Gandhi', False]\n",
        "3982 ['lawyer', 'Michael Tow', ['23-1011', 'Lawyers', 'Lawyer']]\n",
        "3983 ['curator of anthropology', 'Elisa Phelps', False]\n",
        "1111 ['trial lawyer', 'Deborah Peters', ['23-1011', 'Lawyers', 'Trial Lawyer']]\n",
        "1110"
       ]
      },
      {
       "output_type": "stream",
       "stream": "stdout",
       "text": [
        " ['cathecetical center associate director', 'Joe Esparza', False]\n",
        "1445 ['student', 'Kevin Marshall', False]\n",
        "289 ['process engineer', 'Tom Nichols', False]\n",
        "288 ['biology teacher', 'Jerod Klein', ['MiscTeacher', 'Teacher', 'Teacher']]\n",
        "1444"
       ]
      },
      {
       "output_type": "stream",
       "stream": "stdout",
       "text": [
        " ['supervising deputy probation officer', 'Constance Swinger', False]\n",
        "281 ['first-year law student', 'Mike Dugan', False]\n",
        "280 ['filmmaker & professor', 'David Franklin', False]\n",
        "283"
       ]
      },
      {
       "output_type": "stream",
       "stream": "stdout",
       "text": [
        " ['chemist and writer', 'Eric Moore', False]\n",
        "282 ['stay-at-home mom', 'Annette Wilkinson', False]\n",
        "285 ['retired diplomat and university professor', 'Eric Terzuolo', False]\n",
        "284"
       ]
      },
      {
       "output_type": "stream",
       "stream": "stdout",
       "text": [
        " ['internet news producer', 'Ann Marchand', False]\n",
        "287 ['Spanish teacher', 'Leslie Frates', ['MiscTeacher', 'Teacher', 'Teacher']]\n",
        "1114 ['Harvard graduate whose musical was produced off-Broadway', 'David Javerbaum', False]\n",
        "1441 ['caregiver', 'Carolyn Proulx', False]\n",
        "1116"
       ]
      },
      {
       "output_type": "stream",
       "stream": "stdout",
       "text": [
        " ['software engineer', 'Susan Daniels', False]\n",
        "2477 ['undergraduate student', 'Tim Surdyk', ['GradStu', 'Graduate student', 'Graduate student']]\n",
        "2476 ['insurance company manager', 'Nancy Schwartz', False]\n",
        "2475 ['eighth grade teacher', 'Dan Brodeur', ['MiscTeacher', 'Teacher', 'Teacher']]\n",
        "2474 ['project marketing manager', 'Holly Highsmith Abrams', False]\n",
        "2473"
       ]
      },
      {
       "output_type": "stream",
       "stream": "stdout",
       "text": [
        " ['college student', 'Jennifer Hopens', False]\n",
        "2472 ['undergraduate student', 'Gardner Linn', ['GradStu', 'Graduate student', 'Graduate student']]\n",
        "2471 ['professor of Spanish', 'Linda Zee', False]\n",
        "2470 ['graduate student', 'Matt Jerram', ['GradStu', 'Graduate student', 'Graduate student']]\n",
        "2479 ['journalist', 'Zinie Chen', False]\n",
        "2478 ['substitute teacher', 'Chris Koehler', ['MiscTeacher', 'Teacher', 'Teacher']]\n",
        "7874 ['substitute teacher', 'Lukas Sherman', ['MiscTeacher', 'Teacher', 'Teacher']]\n",
        "7875"
       ]
      },
      {
       "output_type": "stream",
       "stream": "stdout",
       "text": [
        " ['geriatric nursing assistent and chef', 'Ayana Matthews', False]\n",
        "7876 ['fundraising consultant', 'Bridget Gallagher', False]\n",
        "7877 ['teen librarian', 'Melissa Rabey', False]\n",
        "7870"
       ]
      },
      {
       "output_type": "stream",
       "stream": "stdout",
       "text": [
        " ['naval officer', 'Curt Renshaw', False]\n",
        "7871 ['start-up counsel', 'Austin Baird', False]\n",
        "7872 ['stay-at-home mom and freelance designer', 'Marjorie Parker', False]\n",
        "7873 ['graduate student of architecture', 'Margaret Swanson', ['GradStu', 'Graduate student', 'Graduate student']]\n",
        "7878"
       ]
      },
      {
       "output_type": "stream",
       "stream": "stdout",
       "text": [
        " ['freelance writer and musical director', 'Deniz Cordell', False]\n",
        "7879 ['property appraiser', 'Jim Abbott', ['13-2021', 'Appraisers and Assessors of Real Estate', 'Property Appraiser']]\n",
        "5791 ['structured data analyst', 'Rachel Kain', False]\n",
        "6309 ['junior at Harvard University', 'Mary Naam', False]\n",
        "6308"
       ]
      },
      {
       "output_type": "stream",
       "stream": "stdout",
       "text": [
        " ['junior at Yale University', 'Robby Schrum', False]\n",
        "6305 ['real estate lawyer', 'Jack Turner', False]\n",
        "6304 ['graduate student', 'Mike Garabedian', ['GradStu', 'Graduate student', 'Graduate student']]\n",
        "6307 ['copy editor', 'Arlen Schweiger', ['27-3041', 'Editors', 'Copy Editor']]\n",
        "6306 ['graduate student', 'Katie Durham', ['GradStu', 'Graduate student', 'Graduate student']]\n",
        "6301 ['graduate student', 'Russ Schumacher', ['GradStu', 'Graduate student', 'Graduate student']]\n",
        "6300 ['geologist', 'Dick Fernberg', ['19-2042', 'Geoscientists, Except Hydrologists and Geographers', 'Geologist']]\n",
        "6303 ['attorney', 'Elana Rosen', ['23-1011', 'Lawyers', 'Attorney']]\n",
        "6302 ['attorney', 'Rocky Feemster', ['23-1011', 'Lawyers', 'Attorney']]\n",
        "7695 ['high school social studies teacher', 'Brooks Humphreys', ['MiscTeacher', 'Teacher', 'Teacher']]\n",
        "8956 ['post-graduate student', 'Mike Dup\\xe9e', ['GradStu', 'Graduate student', 'Graduate student']]\n",
        "8957"
       ]
      },
      {
       "output_type": "stream",
       "stream": "stdout",
       "text": [
        " ['director of therapy', 'Jill Bunzendahl Chimka', False]\n",
        "8954 ['musician and licensing executive', 'Dave Abbott', False]\n",
        "8955"
       ]
      },
      {
       "output_type": "stream",
       "stream": "stdout",
       "text": [
        " [\"<i>Jeopardy</i>'s all-time biggest money winner\", 'Brad Rutter', False]\n",
        "8952 ['worker for an e-learning company', 'Claudia Perry', False]\n",
        "8953"
       ]
      },
      {
       "output_type": "stream",
       "stream": "stdout",
       "text": [
        " ['writer and editor for the Honda Campus All-Star Challenge', 'Mark Dawson', False]\n",
        "8950 ['writer', 'Bob Harris', False]\n",
        "8951 ['instructional designer and curriculum developer', 'Robin Carroll', False]\n",
        "8958 ['database coordinator', 'Sean Sullivan', ['15-1141', 'Database Administrators', 'Database Coordinator']]\n",
        "8959"
       ]
      },
      {
       "output_type": "stream",
       "stream": "stdout",
       "text": [
        " ['writer & editor', 'Michelle Sheffer', False]\n",
        "8544 ['data processing manager', 'Bill Hand', ['11-3021', 'Computer and Information Systems Managers', 'Data Processing Manager']]\n",
        "708 ['homemaker', 'Nancy McGregor', False]\n",
        "709 ['physician', 'John Wallace', False]\n",
        "3214 ['marina operator', 'Susan Gress', False]\n",
        "3215"
       ]
      },
      {
       "output_type": "stream",
       "stream": "stdout",
       "text": [
        " ['journalist', 'Carsten Wiedemann', False]\n",
        "3216 ['graduate student', 'Sharon Eshel', ['GradStu', 'Graduate student', 'Graduate student']]\n",
        "3217 ['television producer', 'Yuri Bershidski', ['27-2012', 'Producers and Directors', 'Television Producer']]\n",
        "3210 ['high school social studies teacher', 'Lisa Carotenuto', ['MiscTeacher', 'Teacher', 'Teacher']]\n",
        "3211 ['attorney', 'Josh Meyer', ['23-1011', 'Lawyers', 'Attorney']]\n",
        "3212 ['undergraduate student', 'Genevieve Slunka', ['GradStu', 'Graduate student', 'Graduate student']]\n",
        "3213 ['pharmacist', 'Laura Adomunas', False]\n",
        "1638 ['stay-at-home mom', 'Melissa Varvil', False]\n",
        "1639 ['technical writer', 'Todd Schneider', ['27-3042', 'Technical Writers', 'Technical Writer']]\n",
        "2904"
       ]
      },
      {
       "output_type": "stream",
       "stream": "stdout",
       "text": [
        " ['healthcare consultant', 'Linda Flink', False]\n",
        "3218 ['municipal civil servant', 'Ott Sandrak', False]\n",
        "3219 ['university student', 'Firat Isbecer', False]\n",
        "1988 ['student', 'Devin Landin', False]\n",
        "1989"
       ]
      },
      {
       "output_type": "stream",
       "stream": "stdout",
       "text": [
        " ['voice actress', 'Lynn Crowell', False]\n",
        "706 ['lawyer', 'David Rozenson', ['23-1011', 'Lawyers', 'Lawyer']]\n",
        "568 ['policy analyst', 'Lara Robillard', False]\n",
        "569 ['substance abuse counselor', 'Paul Gutowski', ['21-1011', 'Substance Abuse and Behavioral Disorder Counselors', 'Substance Abuse Counselor']]\n",
        "2817 ['actor and comedian', 'Mario Cantone', False]\n",
        "2816 ['actress', 'Dana Delany', ['27-2011', 'Actors', 'Actress']]\n",
        "2811"
       ]
      },
      {
       "output_type": "stream",
       "stream": "stdout",
       "text": [
        " ['broadcast journalist', 'Harry Smith', False]\n",
        "2810 ['broadcast journalist', \"Soledad O'Brien\", False]\n",
        "2813 ['actor', 'Steve Schirripa', False]\n",
        "2812 ['actor', 'Miguel Ferrer', False]\n",
        "560"
       ]
      },
      {
       "output_type": "stream",
       "stream": "stdout",
       "text": [
        " ['business manager', 'Dave Willis', False]\n",
        "561 ['graduate student', 'Andrew Hutchings', ['GradStu', 'Graduate student', 'Graduate student']]\n",
        "562 ['health policy analyst', 'Lan Djang', False]\n",
        "563 ['alcohol and drug counselor', 'Paul Gutowski', ['21-1011', 'Substance Abuse and Behavioral Disorder Counselors', 'Alcohol and Drug Counselor']]\n",
        "564 ['musician, writer and teacher', 'Mark Born', ['MiscTeacher', 'Teacher', 'Teacher']]\n",
        "565 ['musician and licensing executive', 'Dave Abbott', False]\n",
        "566"
       ]
      },
      {
       "output_type": "stream",
       "stream": "stdout",
       "text": [
        " ['college instructor', 'Bill Dickenson', False]\n",
        "567 ['high school junior', 'Michael Braun', False]\n",
        "5429 ['Ph.D. student', 'Jenny Caplan', False]\n",
        "5428 ['administrative traffic judge', 'Rich Carroll', False]\n",
        "3379"
       ]
      },
      {
       "output_type": "stream",
       "stream": "stdout",
       "text": [
        " ['accounting clerk', 'Lisa Miller', False]\n",
        "3378 ['lawyer', 'Rich Lerner', ['23-1011', 'Lawyers', 'Lawyer']]\n",
        "5425 ['college professor', 'Darcy Vernier', False]\n",
        "5424 ['computer programmer', 'Oliver Mellet', ['15-1131', 'Computer Programmers', 'Computer Programmer']]\n",
        "5427 ['stay-at-home mom', 'Jennifer Lajewski', False]\n",
        "5426"
       ]
      },
      {
       "output_type": "stream",
       "stream": "stdout",
       "text": [
        " ['records officer', 'Kate Carlyle', False]\n",
        "5421 ['investment analyst', 'Stuart Davidson', False]\n",
        "5420 ['fundraiser', 'Matt Saxe', False]\n",
        "5423 ['entrepreneur', 'Leonard Koss', False]\n",
        "5422"
       ]
      },
      {
       "output_type": "stream",
       "stream": "stdout",
       "text": [
        " ['law student', 'Erin Worrell', False]\n",
        "4248 ['geologic editor', 'Meg Smath', False]\n",
        "4249 ['marketing director', 'Scott Myre', ['11-2021', 'Marketing Managers', 'Marketing Director']]\n",
        "4246 ['12-year-old', 'Justin Otor', False]\n",
        "4247 ['12-year-old', 'Braden Corkum', False]\n",
        "4244 ['teacher & vice principal', 'Mary Friedman', ['MiscTeacher', 'Teacher', 'Teacher']]\n",
        "4245 ['12-year-old', 'Nicole Yoon', False]\n",
        "4242"
       ]
      },
      {
       "output_type": "stream",
       "stream": "stdout",
       "text": [
        " ['11-year-old', 'Charlie Blatt', False]\n",
        "4243 ['public historian', 'Allen Tatman', False]\n",
        "4240 ['10-year-old', 'Rachel Millena', False]\n",
        "4241 ['10-year-old', 'Eddie Kwiatkowski', False]\n",
        "5520"
       ]
      },
      {
       "output_type": "stream",
       "stream": "stdout",
       "text": [
        " ['stay-at-home mom and musician', 'Mandy Walters Whitaker', False]\n",
        "5521 ['transportation planner', 'Mathew Safer', False]\n",
        "5522 ['writer and editor', 'Peg Hausman', False]\n",
        "5523"
       ]
      },
      {
       "output_type": "stream",
       "stream": "stdout",
       "text": [
        " ['administrative services director', 'Dotty Shekarian', False]\n",
        "5524 ['systems analyst and volunteer', 'Randy Gold', False]\n",
        "5525 ['voice teacher', 'Debra Johnson', ['MiscTeacher', 'Teacher', 'Teacher']]\n",
        "5526 ['investor', 'Carl Brandt', False]\n",
        "5527 ['clinic receptionist', 'Becka Feighner', False]\n",
        "5528"
       ]
      },
      {
       "output_type": "stream",
       "stream": "stdout",
       "text": [
        " ['patent litigator', 'Tristan Snell', False]\n",
        "5529 ['bookseller', 'Pat Thornton', False]\n",
        "48 ['events coordinator', 'Sunny Schomaker', False]\n",
        "49 ['registered nurse', 'Marcy Palino', ['29-1141', 'Registered Nurses', 'Registered Nurse']]\n",
        "46"
       ]
      },
      {
       "output_type": "stream",
       "stream": "stdout",
       "text": [
        " ['mother and erstwhile attorney', 'Aimee Watson', False]\n",
        "47 ['Ph.D. student', 'Tristan Mabry', False]\n",
        "44 ['courier', 'Steve Kornya', ['43-5021', 'Couriers and Messengers', 'Courier']]\n",
        "45 ['pastor', 'Al Lindke', ['21-2011', 'Clergy', 'Pastor']]\n",
        "42 ['evaluations analyst', 'Kathryn Dorminey', False]\n",
        "43 ['teacher', 'Jennifer Lord', ['MiscTeacher', 'Teacher', 'Teacher']]\n",
        "40 ['homemaker', 'Pat Greene', False]\n",
        "41"
       ]
      },
      {
       "output_type": "stream",
       "stream": "stdout",
       "text": [
        " ['personal fitness trainer', 'Bill Carter', ['39-9031', 'Fitness Trainers and Aerobics Instructors', 'Personal Fitness Trainer']]\n",
        "8542 ['public-health informationist', 'Donna Hesson', False]\n",
        "6547 ['stay-at-home mom', 'Leigh Rosenecker', False]\n",
        "6546"
       ]
      },
      {
       "output_type": "stream",
       "stream": "stdout",
       "text": [
        " ['environmental advocate', 'Seyi Fayanju', False]\n",
        "6545 ['college professor', 'Sean Morris', False]\n",
        "6544 ['homemaker', 'Janice Dooner Lynch', False]\n",
        "6543 ['biomedical engineer', 'Jove Graham', ['17-2031', 'Biomedical Engineers', 'Biomedical Engineer']]\n",
        "6542 ['middle school Latin teacher', 'Sarah Weinschenk', ['MiscTeacher', 'Teacher', 'Teacher']]\n",
        "6541 ['high school math teacher', 'Matt McDonell', ['MiscTeacher', 'Teacher', 'Teacher']]\n",
        "6540 ['travel agent', 'Deborah Walsh', ['41-3041', 'Travel Agents', 'Travel Agent']]\n",
        "6549 ['legal fellow', 'Jason James', False]\n",
        "6548"
       ]
      },
      {
       "output_type": "stream",
       "stream": "stdout",
       "text": [
        " ['carpenter', 'Damon DiPietro', False]\n",
        "344 ['economist', 'Steven Popper', ['19-3011', 'Economists', 'Economist']]\n",
        "345 [\"maitre d'\", 'Michael Reilly', ['35-9031', 'Hosts and Hostesses, Restaurant, Lounge, and Coffee Shop', \"Maitre D'\"]]\n",
        "346 ['salesperson and student', 'Steve Robinson', False]\n",
        "347 ['homemaker', 'Lisa Guay', False]\n",
        "340 ['attorney', 'Billy Baxter', ['23-1011', 'Lawyers', 'Attorney']]\n",
        "341"
       ]
      },
      {
       "output_type": "stream",
       "stream": "stdout",
       "text": [
        " ['sophomore at the University of North Carolina at Chapel Hill', 'Bernard Holloway', False]\n",
        "342 ['forensic toxicologist and winner of the 1988 Seniors Tournament', 'Peggy Kennedy', False]\n",
        "343 ['minister and writer', 'Michael Rankins', False]\n",
        "348"
       ]
      },
      {
       "output_type": "stream",
       "stream": "stdout",
       "text": [
        " ['grad student at the University of California-Berkeley', 'Carolyn Cracraft', False]\n",
        "349 ['aerospace engineer', 'Tom Nosek', ['17-2011', 'Aerospace Engineers', 'Aerospace Engineer']]\n",
        "7519 ['telephone technician', 'Joe Koster', False]\n",
        "7518 ['graduate student of American religious history', 'Drew Denton', ['GradStu', 'Graduate student', 'Graduate student']]\n",
        "6150 ['historical interpreter', 'Travis Shaw', ['39-7011', 'Tour Guides and Escorts', 'Historical Interpreter']]\n",
        "6151 ['catcher', 'Mike Piazza', False]\n",
        "6152 ['actress', 'Jane Krakowski', ['27-2011', 'Actors', 'Actress']]\n",
        "6153 ['actor', 'Kevin Sorbo', False]\n",
        "6154"
       ]
      },
      {
       "output_type": "stream",
       "stream": "stdout",
       "text": [
        " ['college admissions director', 'Anthony Ambrogi', False]\n",
        "2132 ['accountant', 'Clark Floyd', ['13-2011', 'Accountants and Auditors', 'Accountant']]\n",
        "6156 ['chemical lab technician', 'John Hnat', False]\n",
        "6157 ['attorney', 'Paul Boymel', ['23-1011', 'Lawyers', 'Attorney']]\n",
        "6158 ['United States Marine Staff Sergeant', 'Paul Croshier', False]\n",
        "6159"
       ]
      },
      {
       "output_type": "stream",
       "stream": "stdout",
       "text": [
        " ['law student', 'Paula Tupper', False]\n",
        "8307 ['records evaluator', 'Lynn Loper', False]\n",
        "8306 ['editor', 'John Harris', False]\n",
        "8305"
       ]
      },
      {
       "output_type": "stream",
       "stream": "stdout",
       "text": [
        " ['law student', 'Brett Geer', False]\n",
        "4831 ['freelance writer and permissions editor', 'Norah Piehl', False]\n",
        "8304"
       ]
      },
      {
       "output_type": "stream",
       "stream": "stdout",
       "text": [
        " ['technical project manager', 'Tara Curcio', False]\n",
        "4526 ['high school English teacher', 'Heather Doyle', ['MiscTeacher', 'Teacher', 'Teacher']]\n",
        "3237 ['substitute teacher', 'Christy Woodman', ['MiscTeacher', 'Teacher', 'Teacher']]\n",
        "4833 ['real estate advisor and investor', 'Leslie Feder', False]\n",
        "8302"
       ]
      },
      {
       "output_type": "stream",
       "stream": "stdout",
       "text": [
        " ['part-time docent', 'Shawn Townsend', False]\n",
        "4524 ['graduate student', 'Michael Arnone', ['GradStu', 'Graduate student', 'Graduate student']]\n",
        "8301 ['attorney', 'Lisa Sotir Ozkan', ['23-1011', 'Lawyers', 'Attorney']]\n",
        "4835"
       ]
      },
      {
       "output_type": "stream",
       "stream": "stdout",
       "text": [
        " ['wellness consultant and student', 'Jeanne Juneau', False]\n",
        "8300 ['website developer', 'Jim Craner', False]\n",
        "4834 ['computer programmer', 'Drew Beechum', ['15-1131', 'Computer Programmers', 'Computer Programmer']]\n",
        "4837"
       ]
      },
      {
       "output_type": "stream",
       "stream": "stdout",
       "text": [
        " ['rare books cataloguer', 'Bethany Grenald', False]\n",
        "8758 ['embroiderer and student', 'Norah McKissic', False]\n",
        "4836"
       ]
      },
      {
       "output_type": "stream",
       "stream": "stdout",
       "text": [
        " ['benefits administrator', 'Chris Zane', False]\n",
        "8759 ['medical assistant', 'Woody Houchin', False]\n",
        "8208"
       ]
      },
      {
       "output_type": "stream",
       "stream": "stdout",
       "text": [
        " ['registered nurse', 'Fern Cogar', ['29-1141', 'Registered Nurses', 'Registered Nurse']]\n",
        "8209 ['music contract administrator', 'Pat Van Hartesveldt', False]\n",
        "8754"
       ]
      },
      {
       "output_type": "stream",
       "stream": "stdout",
       "text": [
        " ['public librarian', 'Jennifer Spirko', False]\n",
        "2268 ['retired management consultant', 'Carolyn White', False]\n",
        "2269 ['environmental engineer', 'Andrew Maly', ['17-2081', 'Environmental Engineers', 'Environmental Engineer']]\n",
        "8755 ['program manager', 'Jermaine Jones', False]\n",
        "2262"
       ]
      },
      {
       "output_type": "stream",
       "stream": "stdout",
       "text": [
        " ['stay-at-home mom', 'Juliet Wiley', False]\n",
        "2263 ['attorney', 'David Bagley', ['23-1011', 'Lawyers', 'Attorney']]\n",
        "2260 ['health policy director', 'Lara Robillard', False]\n",
        "2261"
       ]
      },
      {
       "output_type": "stream",
       "stream": "stdout",
       "text": [
        " ['musician and contract manager', 'Dave Abbott', False]\n",
        "2266 ['fitness trainer and culinary historian', 'Hanna Miller', False]\n",
        "2267 ['attorney', 'J.J. Todor', ['23-1011', 'Lawyers', 'Attorney']]\n",
        "2264 ['index editor', 'Pat Healy', ['27-3041', 'Editors', 'Index Editor']]\n",
        "2265"
       ]
      },
      {
       "output_type": "stream",
       "stream": "stdout",
       "text": [
        " ['project manager', 'David Nikithser', False]\n",
        "8205 ['neighborhood association coordinator', 'Paula Wilhelm-Naughtin', False]\n",
        "8750"
       ]
      },
      {
       "output_type": "stream",
       "stream": "stdout",
       "text": [
        " ['beauty-industry magazine editor', 'Molly Kossoff', False]\n",
        "7994 ['Navy analyst', 'Sophie Hill', False]\n",
        "8751 ['lawyer', 'Marge Lindblom', ['23-1011', 'Lawyers', 'Lawyer']]\n",
        "8752 ['barista', 'Sean Kram', False]\n",
        "8753 ['attorney', 'Neal Shah', ['23-1011', 'Lawyers', 'Attorney']]\n",
        "8303"
       ]
      },
      {
       "output_type": "stream",
       "stream": "stdout",
       "text": [
        " ['public library assistant', 'Scott Brill', False]\n",
        "2046 ['IT manager', 'Jeanne Kirk', False]\n",
        "2047 ['fundraising consultant', 'Lesley Marshall', False]\n",
        "2044"
       ]
      },
      {
       "output_type": "stream",
       "stream": "stdout",
       "text": [
        " ['human resources specialist', 'Ulhas Rajurkar', False]\n",
        "2045 ['student', 'Jay Smith', False]\n",
        "2042 ['recent law school graduate', 'Kent Hofmann', False]\n",
        "2043"
       ]
      },
      {
       "output_type": "stream",
       "stream": "stdout",
       "text": [
        " ['legal association manager', 'Pamela Robinson', False]\n",
        "2040 ['high school social studies teacher', 'Ellen Rourke', ['MiscTeacher', 'Teacher', 'Teacher']]\n",
        "2041 ['character interpreter coach', 'Sharon Forsher', False]\n",
        "4819 ['customs house broker', 'Michelle Arthington', False]\n",
        "4818"
       ]
      },
      {
       "output_type": "stream",
       "stream": "stdout",
       "text": [
        " ['physician', 'Jerry Dynes', False]\n",
        "2048 ['newspaper reporter', 'Kevin F. Sherry', False]\n",
        "2049 ['English major', 'Cheryl Klein', False]\n",
        "8230 ['business analyst', 'Drew Horwood', ['13-1111', 'Management Analysts', 'Business Analyst']]\n",
        "8237"
       ]
      },
      {
       "output_type": "stream",
       "stream": "stdout",
       "text": [
        " ['software engineer', 'Rob Allen', False]\n",
        "8236 ['service representative', 'Dorothy Mallonee', False]\n",
        "8235 ['antique and collectibles dealer', 'Mike Creed', False]\n",
        "8682"
       ]
      },
      {
       "output_type": "stream",
       "stream": "stdout",
       "text": [
        " ['financial consultant', 'Tom Epstein', False]\n",
        "8234 ['student', 'Bill Atkinson', False]\n",
        "1365 ['hotel employee', 'Bill Crowley', False]\n",
        "7078"
       ]
      },
      {
       "output_type": "stream",
       "stream": "stdout",
       "text": [
        " ['college linguistics instructor', 'Bob Kennedy', False]\n",
        "7079 ['financial service representative', 'Yolanda Diaz', False]\n",
        "7074 ['computer applications specialist', 'Harry Barker', False]\n",
        "7075"
       ]
      },
      {
       "output_type": "stream",
       "stream": "stdout",
       "text": [
        " ['software  engineer', 'George Tsuji', False]\n",
        "7076 ['program manager', 'Aimee Slater', False]\n",
        "7077 ['stay-at-home mom', 'Megan Cornell', False]\n",
        "7070"
       ]
      },
      {
       "output_type": "stream",
       "stream": "stdout",
       "text": [
        " ['sophomore', 'Sam Spaulding', False]\n",
        "7071 ['sophomore', 'Katie Singh', False]\n",
        "7072"
       ]
      },
      {
       "output_type": "stream",
       "stream": "stdout",
       "text": [
        " ['sophomore at the University of Virginia', 'Amanda J. Ray', False]\n",
        "7073 ['antique games dealer', 'Helen Andrews', False]\n",
        "8683 ['technical writer', 'Steve Chernicoff', ['27-3042', 'Technical Writers', 'Technical Writer']]\n",
        "6976 ['graduate student of computer science', 'Roger Craig', ['GradStu', 'Graduate student', 'Graduate student']]\n",
        "6977 ['medievalist', 'Scott Wells', False]\n",
        "6974"
       ]
      },
      {
       "output_type": "stream",
       "stream": "stdout",
       "text": [
        " ['language coordinator', 'Arlene Goldberg', False]\n",
        "6975 ['postal worker', 'Pat Farrior', False]\n",
        "6972"
       ]
      },
      {
       "output_type": "stream",
       "stream": "stdout",
       "text": [
        " ['day care provider', 'Gwen LaTray', False]\n",
        "6973 ['attorney', 'Will Webster', ['23-1011', 'Lawyers', 'Attorney']]\n",
        "6970 ['production manager', 'Richard Prince', False]\n",
        "6971 ['teacher', 'Michael McGuinness', ['MiscTeacher', 'Teacher', 'Teacher']]\n",
        "8169"
       ]
      },
      {
       "output_type": "stream",
       "stream": "stdout",
       "text": [
        " ['junior', 'Kelton Ellis', False]\n",
        "8168 ['eighth grader', 'Irene Vazquez', False]\n",
        "6978"
       ]
      },
      {
       "output_type": "stream",
       "stream": "stdout",
       "text": [
        " ['DMV administrator for a used car retailer', 'Mandy Strine', False]\n",
        "6979 ['law student', 'Tony Fan', False]\n",
        "8680"
       ]
      },
      {
       "output_type": "stream",
       "stream": "stdout",
       "text": [
        " ['attorney and writer', 'Jeff Liebowitz', False]\n",
        "8681 ['music teacher', 'Rose Buetikofer', ['MiscTeacher', 'Teacher', 'Teacher']]\n",
        "8389 ['junior at Northwestern University', 'Daniel Donohue', False]\n",
        "8388"
       ]
      },
      {
       "output_type": "stream",
       "stream": "stdout",
       "text": [
        " ['senior at Georgia University of Technology', 'Kristen Jolley', False]\n",
        "8387 ['junior at Scripps College', 'Hannah Shoenhard', False]\n",
        "8386"
       ]
      },
      {
       "output_type": "stream",
       "stream": "stdout",
       "text": [
        " ['senior at Tufts University', 'Jed Silver', False]\n",
        "8385 ['junior at University of Wisconsin-Madison', 'Julia Sprangers', False]\n",
        "8384 ['graduate student of history', 'Mark Reeves', ['GradStu', 'Graduate student', 'Graduate student']]\n",
        "8383 ['attorney', 'Jerald Lentini', ['23-1011', 'Lawyers', 'Attorney']]\n",
        "8382"
       ]
      },
      {
       "output_type": "stream",
       "stream": "stdout",
       "text": [
        " ['museum educator', 'Amanda Potter', False]\n",
        "8381 ['lawyer', 'Arnold Dean', ['23-1011', 'Lawyers', 'Lawyer']]\n",
        "8380 ['project manager', 'Deborah Smith', False]\n",
        "8686 ['police officer', 'Frank Epstein', False]\n",
        "4389"
       ]
      },
      {
       "output_type": "stream",
       "stream": "stdout",
       "text": [
        " ['stock analyst', 'Mike Gardner', False]\n",
        "4388 ['high school teacher', 'Bridget Bue', ['MiscTeacher', 'Teacher', 'Teacher']]\n",
        "4383 ['Lutheran pastor', 'Ryan Rupe', False]\n",
        "4382 ['housewife', 'Lynda Tuennerman', False]\n",
        "4381"
       ]
      },
      {
       "output_type": "stream",
       "stream": "stdout",
       "text": [
        " ['photographer', 'Wellington Lee', False]\n",
        "4380 ['nonprofit fundraiser', 'Carter Paige', False]\n",
        "4387 ['fleet service clerk', 'John Trzaska', False]\n",
        "4386"
       ]
      },
      {
       "output_type": "stream",
       "stream": "stdout",
       "text": [
        " ['Ph.D. candidate', 'Maureen Madison', False]\n",
        "4385 ['public television producer', 'Roy Flynn', False]\n",
        "4384 ['graduate student', 'Leslie Glover', ['GradStu', 'Graduate student', 'Graduate student']]\n",
        "1371 ['junior', 'Justin Powell', False]\n",
        "1370 ['junior', 'Sharon Druck', False]\n",
        "1373"
       ]
      },
      {
       "output_type": "stream",
       "stream": "stdout",
       "text": [
        " ['junior', 'Fran Bigman', False]\n",
        "1372 ['senior', 'Brian Joseph', False]\n",
        "1375 ['homemaker', 'Kathy Reiff', False]\n",
        "1374 ['retired dentist', 'Mark Levin', False]\n",
        "1377"
       ]
      },
      {
       "output_type": "stream",
       "stream": "stdout",
       "text": [
        " ['nonprofit director', 'Tim Ifill', False]\n",
        "1376 ['law school graduate', 'Maria Kokiasmenos', False]\n",
        "1379 ['teacher', \"Brendan O'Connor\", ['MiscTeacher', 'Teacher', 'Teacher']]\n",
        "1378 ['librarian', 'Laura McElfresh', False]\n",
        "409"
       ]
      },
      {
       "output_type": "stream",
       "stream": "stdout",
       "text": [
        " ['foreign service officer', 'Chris Ward', False]\n",
        "408 ['physician', 'Elaine Zollner', False]\n",
        "8684 ['from California...', 'Vance Chan', False]\n",
        "4031"
       ]
      },
      {
       "output_type": "stream",
       "stream": "stdout",
       "text": [
        " ['C.P.A. and comedian', 'Jack Archey', False]\n",
        "4030 ['political consultant', 'Justin Oppmann', ['19-3094', 'Political Scientists', 'Political Consultant']]\n",
        "4033 ['attorney', 'Rosemarie Rinaldi', ['23-1011', 'Lawyers', 'Attorney']]\n",
        "4032 ['auditor', 'Terri Jones', ['13-2011', 'Accountants and Auditors', 'Auditor']]\n",
        "4035 ['physician', 'Patty Parr', False]\n",
        "4034 ['college sophomore', 'Matthew McCarthy', False]\n",
        "4037"
       ]
      },
      {
       "output_type": "stream",
       "stream": "stdout",
       "text": [
        " ['news editor', 'Shala Carlson', False]\n",
        "4036 ['tour guide', 'John Stevenson', False]\n",
        "4039 ['journalist', 'Allan Kreda', False]\n",
        "4038"
       ]
      },
      {
       "output_type": "stream",
       "stream": "stdout",
       "text": [
        " ['Naval aviator', 'Brian Reidy', False]\n",
        "8173 ['junior', 'Brittany Poppen', False]\n",
        "8685 ['attorney', 'Nancy Walker', ['23-1011', 'Lawyers', 'Attorney']]\n",
        "8174 ['senior', 'Olivia Hummer', False]\n",
        "994"
       ]
      },
      {
       "output_type": "stream",
       "stream": "stdout",
       "text": [
        " ['senior', 'Beth Mullins', False]\n",
        "2459 ['medical student', 'Ed Lee', False]\n",
        "2458"
       ]
      },
      {
       "output_type": "stream",
       "stream": "stdout",
       "text": [
        " ['veterinarian', 'Pamela Rohrich', False]\n",
        "2455 ['computer programmer', 'Brian McMahon', ['15-1131', 'Computer Programmers', 'Computer Programmer']]\n",
        "2454 ['construction worker', 'Steve Wright', False]\n",
        "2457"
       ]
      },
      {
       "output_type": "stream",
       "stream": "stdout",
       "text": [
        " ['waiter', 'Jim Riffle', False]\n",
        "2456 ['director of health policy', 'Lara Robillard', False]\n",
        "2451"
       ]
      },
      {
       "output_type": "stream",
       "stream": "stdout",
       "text": [
        " ['computer operator', 'Bob Cameron', False]\n",
        "2450 ['human resource specialist', 'Whitney Babash', False]\n",
        "2453 ['property manager', 'Denise Williamson', ['11-9141', 'Property, Real Estate, and Community Association Managers', 'Property Manager']]\n",
        "2452"
       ]
      },
      {
       "output_type": "stream",
       "stream": "stdout",
       "text": [
        " ['claims processing manager', 'Kathy Lester', False]\n",
        "7852 ['ecclesiastic glass artist and housing counselor', 'Regina MacDowell', False]\n",
        "7853"
       ]
      },
      {
       "output_type": "stream",
       "stream": "stdout",
       "text": [
        " ['writer', 'Aaron Cappocchi', False]\n",
        "7850 ['school counselor and member of the Air National Guard', 'Fran Frederick', False]\n",
        "7851 ['court interpreter', 'Ernest Ni\\xf1o-Murcia', ['27-3091', 'Interpreters and Translators', 'Court Interpreter']]\n",
        "7856"
       ]
      },
      {
       "output_type": "stream",
       "stream": "stdout",
       "text": [
        " ['billing director', 'Chris Dunn', False]\n",
        "7857 ['musician and tutor', 'Dylan Hume', False]\n",
        "7854 ['automotive quality engineer', 'Rosanne Lightstone', False]\n",
        "7855 ['attorney', 'Sarah Fowlkes', ['23-1011', 'Lawyers', 'Attorney']]\n",
        "7858"
       ]
      },
      {
       "output_type": "stream",
       "stream": "stdout",
       "text": [
        " ['business systems manager', 'Elaine Moise', False]\n",
        "7859 ['bookseller', 'Kathy Wright', False]\n",
        "656 ['junior at Loyola University, Chicago', 'Pam Mueller', False]\n",
        "657"
       ]
      },
      {
       "output_type": "stream",
       "stream": "stdout",
       "text": [
        " ['sophomore at Harvard University', 'Jonah Knobler', False]\n",
        "654 ['sophomore', 'Nick Jungman', False]\n",
        "6369 ['production manager', 'Bruce Williams', False]\n",
        "6368"
       ]
      },
      {
       "output_type": "stream",
       "stream": "stdout",
       "text": [
        " ['healthcare policy consultant', 'Gregg Bingham', False]\n",
        "6363 ['high school science teacher', 'Andy Srinivasan', ['MiscTeacher', 'Teacher', 'Teacher']]\n",
        "1506 ['economics professor', 'Jeff Holt', False]\n",
        "6361"
       ]
      },
      {
       "output_type": "stream",
       "stream": "stdout",
       "text": [
        " ['economics and film studies student', 'Christopher Nold', False]\n",
        "6360 ['communications director', 'Bobbie Lewis', False]\n",
        "6367 ['stay-at-home mom', 'Jessica Hawks', False]\n",
        "6366"
       ]
      },
      {
       "output_type": "stream",
       "stream": "stdout",
       "text": [
        " ['Ph.D. student and college instructor', 'Pat Spangler', False]\n",
        "6365 ['government accountability office analyst', 'Jeffrey Niblack', False]\n",
        "1507"
       ]
      },
      {
       "output_type": "stream",
       "stream": "stdout",
       "text": [
        " ['information developer', 'Laurie Kittle', False]\n",
        "650 ['senior', 'April McManus', False]\n",
        "651 ['sophomore', 'Cori Van Noy', False]\n",
        "1508 ['farmer', 'Chris Szymanski', False]\n",
        "1509"
       ]
      },
      {
       "output_type": "stream",
       "stream": "stdout",
       "text": [
        " ['advertising sales representative', 'Mark Le Menager', False]\n",
        "1977 ['actor', 'Brian Gillespie', False]\n",
        "658 ['computer consultant', 'Steve Newman', False]\n",
        "1976 ['U.S. Postal Service clerk', 'Ardys Eserhut', False]\n",
        "659 ['musician', 'Rick Knutsen', ['27-2042', 'Musicians and Singers', 'Musician']]\n",
        "1975"
       ]
      },
      {
       "output_type": "stream",
       "stream": "stdout",
       "text": [
        " ['bond salesman', 'Pete Fistanic', False]\n",
        "1602 ['junior', 'Phoebe Juel', False]\n",
        "1605 ['Spanish teacher', 'Leslie Frates', ['MiscTeacher', 'Teacher', 'Teacher']]\n",
        "1972 ['kickball team captain', 'Tom Kavanaugh', False]\n",
        "1971 ['attorney', 'Bill MacDonald', ['23-1011', 'Lawyers', 'Attorney']]\n",
        "1970 ['college junior', 'Nico Martinez', False]\n",
        "3232"
       ]
      },
      {
       "output_type": "stream",
       "stream": "stdout",
       "text": [
        " ['human rights investigator', 'Sid Moore Jr.', False]\n",
        "3233 ['financial analyst', 'Natasha Tyson', False]\n",
        "3230 ['high school teacher', 'John Drymiller', ['MiscTeacher', 'Teacher', 'Teacher']]\n",
        "3231 ['radio sales manager', 'Scott Pritchett', False]\n",
        "1968 ['teacher', 'Daniel Banando', ['MiscTeacher', 'Teacher', 'Teacher']]\n",
        "1969 ['microbiologist', 'Colleen McSwiggin', False]\n",
        "1618"
       ]
      },
      {
       "output_type": "stream",
       "stream": "stdout",
       "text": [
        " ['travel marketing executive', 'Steve Toffler', False]\n",
        "1619 ['supervisor', 'Samantha Kaji', False]\n",
        "1616 ['environmental compliance specialist', 'Megan Clouser', False]\n",
        "1617"
       ]
      },
      {
       "output_type": "stream",
       "stream": "stdout",
       "text": [
        " ['hospital comptroller', 'Ed Gasparovic', False]\n",
        "3238 ['customer service representative', 'Darren Millam', False]\n",
        "3239 ['English teacher', 'Jennifer Fall', ['MiscTeacher', 'Teacher', 'Teacher']]\n",
        "1960 ['pharmacy technician', 'Jason Richards', ['29-2052', 'Pharmacy Technicians', 'Pharmacy Technician']]\n",
        "1961 ['marketing analyst', 'Kerry Breitenbach', ['13-1161', 'Market Research Analysts and Marketing Specialists', 'Marketing Analyst']]\n",
        "1610"
       ]
      },
      {
       "output_type": "stream",
       "stream": "stdout",
       "text": [
        " ['defense analyst', 'Tom Gould', False]\n",
        "1611 ['editor', 'Barbara Bink', False]\n",
        "2873 ['teacher', 'Bev Schwartzberg', ['MiscTeacher', 'Teacher', 'Teacher']]\n",
        "2872 ['administrative services officer', 'Dennis Donohue', False]\n",
        "2871 ['retired teacher and Seniors Tournament winner', 'Marilyn Kneeland', ['MiscTeacher', 'Teacher', 'Teacher']]\n",
        "2870"
       ]
      },
      {
       "output_type": "stream",
       "stream": "stdout",
       "text": [
        " ['executive director', 'Ruth Comer', False]\n",
        "2877 ['housewife', 'Linda Sheppard', False]\n",
        "2876 ['College Tournament winner', 'Phoebe Juel', False]\n",
        "2875"
       ]
      },
      {
       "output_type": "stream",
       "stream": "stdout",
       "text": [
        " ['foreign service officer', 'Terry Pflaumer', False]\n",
        "2874 ['college instructor', 'Sean Dillon', False]\n",
        "2879 ['high school teacher', 'David Tiemann', ['MiscTeacher', 'Teacher', 'Teacher']]\n",
        "2878 ['college lecturer', 'Ed Schiffer', False]\n",
        "3355"
       ]
      },
      {
       "output_type": "stream",
       "stream": "stdout",
       "text": [
        " ['Ph.D. student and mother of twins', 'Allisson Seiler', False]\n",
        "3354 ['poet and college professor', 'Kazim Ali', False]\n",
        "3357 ['attorney', 'Nate Meyer', ['23-1011', 'Lawyers', 'Attorney']]\n",
        "3356 ['math teacher', 'Stephen Cooper', ['MiscTeacher', 'Teacher', 'Teacher']]\n",
        "3351 ['software developer', 'Tom Gould', False]\n",
        "3350 ['accountant', 'Su Kim', ['13-2011', 'Accountants and Auditors', 'Accountant']]\n",
        "3353 ['7th-grade science teacher', 'Shelley Forbess', ['MiscTeacher', 'Teacher', 'Teacher']]\n",
        "3352"
       ]
      },
      {
       "output_type": "stream",
       "stream": "stdout",
       "text": [
        " ['networking consultant', 'John Kupec', False]\n",
        "3359 ['aspiring writer', 'Jon Nuckles', False]\n",
        "3358 ['history teacher', 'Steve Atkinson', ['MiscTeacher', 'Teacher', 'Teacher']]\n",
        "5449 ['program manager', 'Nancy Jankowiak', False]\n",
        "5448"
       ]
      },
      {
       "output_type": "stream",
       "stream": "stdout",
       "text": [
        " ['usability consultant', 'Elaine Brofford', False]\n",
        "5443 ['airline employee', 'Matt Goldberg', False]\n",
        "5442 ['lawyer and teacher', 'Bonnie Schwab', ['MiscTeacher', 'Teacher', 'Teacher']]\n",
        "5441 ['banker', 'Carmen Ostrander', False]\n",
        "5440 ['restaurant manager', 'Bruce Adair', False]\n",
        "5447"
       ]
      },
      {
       "output_type": "stream",
       "stream": "stdout",
       "text": [
        " ['bookseller', 'Seth Alcorn', False]\n",
        "5446 ['substitute teacher', 'Rene Bender', ['MiscTeacher', 'Teacher', 'Teacher']]\n",
        "5445 ['speech pathologist', 'Lisa Bradford', ['29-1127', 'Speech-Language Pathologists', 'Speech Pathologist']]\n",
        "5444 ['emergency physician', 'Jay Marks', False]\n",
        "5508"
       ]
      },
      {
       "output_type": "stream",
       "stream": "stdout",
       "text": [
        " ['waitress', 'Charlene Lyons', False]\n",
        "5509 ['customer service representative', 'Debra Doyle', False]\n",
        "5506"
       ]
      },
      {
       "output_type": "stream",
       "stream": "stdout",
       "text": [
        " ['truck driver', 'Leonard Stoehr', False]\n",
        "5507 ['attorney', 'Richard Finch', ['23-1011', 'Lawyers', 'Attorney']]\n",
        "5504 ['actress & singer', 'Erika Amato', False]\n",
        "5505 ['contract administrator', 'Sheryl Martin', ['11-3061', 'Purchasing Managers', 'Contract Administrator']]\n",
        "5502 ['financial printer', 'Nulty Lynch', False]\n",
        "5503"
       ]
      },
      {
       "output_type": "stream",
       "stream": "stdout",
       "text": [
        " ['college professor', 'Ed Glenn', False]\n",
        "5500 ['oceanographer & professor', 'Joe Warren', False]\n",
        "5501 ['elementary school teacher', 'Shirley Brewer', ['MiscTeacher', 'Teacher', 'Teacher']]\n",
        "542 ['librarian', 'Karen Douglas', False]\n",
        "543"
       ]
      },
      {
       "output_type": "stream",
       "stream": "stdout",
       "text": [
        " ['scientist', 'Kurt Bray', False]\n",
        "540 ['retired law librarian', 'Bruce Naegeli', False]\n",
        "541 ['electrical engineer', 'Scott Davidson', ['17-2071', 'Electrical Engineers', 'Electrical Engineer']]\n",
        "546 ['financial consultant', 'Mike McClain', False]\n",
        "547"
       ]
      },
      {
       "output_type": "stream",
       "stream": "stdout",
       "text": [
        " ['design engineer', 'Ayofemi Stowe', False]\n",
        "544 ['research analyst', 'Matt Zielenski', False]\n",
        "545 ['newspaper copy editor', 'Bob Fleenor', False]\n",
        "548 ['school librarian', 'Cindy Jacques', ['25-4021', 'Librarians', 'School Librarian']]\n",
        "549 ['graduate student', 'Brien Wholey', ['GradStu', 'Graduate student', 'Graduate student']]\n",
        "6155"
       ]
      },
      {
       "output_type": "stream",
       "stream": "stdout",
       "text": [
        " ['investor relations manager', 'Marianne Fichtel', False]\n",
        "3320 ['substitute teacher', 'Leah Buswell', ['MiscTeacher', 'Teacher', 'Teacher']]\n",
        "6569 ['fur broker', 'Tom Cohen', False]\n",
        "6568 ['student and waitress', 'Mallory Ortberg', False]\n",
        "3321 ['cost accountant', 'Dawn Alsvary', ['13-2011', 'Accountants and Auditors', 'Cost Accountant']]\n",
        "6565 ['software developer', 'Dave Mackie', False]\n",
        "6564 ['tutor', 'Ryan Chaffee', ['25-3099', 'Teachers and Instructors, All Other', 'Tutor']]\n",
        "6567"
       ]
      },
      {
       "output_type": "stream",
       "stream": "stdout",
       "text": [
        " ['M.D.-Ph.D. student', 'Saif Rathore', False]\n",
        "6566 ['librarian', 'Naomi Schwer Bricker', False]\n",
        "6561 ['foreign service officer', 'Vince Valle', False]\n",
        "3322 ['book editor', 'Jen Heddle', ['27-3041', 'Editors', 'Book Editor']]\n",
        "6563 ['high school French teacher', 'Bobbie Fulton', ['MiscTeacher', 'Teacher', 'Teacher']]\n",
        "6562 ['copy editor', 'Jennifer Godwin', ['27-3041', 'Editors', 'Copy Editor']]\n",
        "7687"
       ]
      },
      {
       "output_type": "stream",
       "stream": "stdout",
       "text": [
        " ['sophomore at Stanford University', 'Matt Olson', False]\n",
        "7686 ['sophomore at the University of North Texas', 'Monica Thieu', False]\n",
        "7685"
       ]
      },
      {
       "output_type": "stream",
       "stream": "stdout",
       "text": [
        " ['junior at Indiana University', 'Sarah Bauer', False]\n",
        "5475 ['sixth grade teacher', 'Nate Hudac', ['MiscTeacher', 'Teacher', 'Teacher']]\n",
        "7683 ['senior at MIT', 'Marie McGraw', False]\n",
        "7682 ['senior at Goucher College', 'Sarah Bart', False]\n",
        "7681"
       ]
      },
      {
       "output_type": "stream",
       "stream": "stdout",
       "text": [
        " ['junior at Columbia University', 'Tyler Benedict', False]\n",
        "7680 ['senior at Vanderbilt University', 'Zack Terrill', False]\n",
        "5472 ['copy editor', 'Keith Bush', ['27-3041', 'Editors', 'Copy Editor']]\n",
        "5136 ['writer', 'John McKeon', False]\n",
        "7689 ['high school German teacher', 'Patrick Quinn', ['MiscTeacher', 'Teacher', 'Teacher']]\n",
        "5473 ['retired teacher', 'Mary Tuohy', ['MiscTeacher', 'Teacher', 'Teacher']]\n",
        "3827"
       ]
      },
      {
       "output_type": "stream",
       "stream": "stdout",
       "text": [
        " ['editor', 'Melanie DeCarolis', False]\n",
        "3826 ['actor', 'Michael Forrest', False]\n",
        "3825 ['manufacturer', 'Susan Holoff', False]\n",
        "3824"
       ]
      },
      {
       "output_type": "stream",
       "stream": "stdout",
       "text": [
        " ['college administrator', 'Karen Meyers', False]\n",
        "3823 ['finance director', 'Mitch Luxenberg', False]\n",
        "3822 ['teacher', 'Karla Sortland', ['MiscTeacher', 'Teacher', 'Teacher']]\n",
        "3821 ['artist and designer', 'Matt Locke', False]\n",
        "3820 ['environmental scientist', 'Walter Kramer', ['19-2041', 'Environmental Scientists and Specialists, Including Health', 'Environmental Scientist']]\n",
        "5471 ['registered nurse', 'Linda Roberts', ['29-1141', 'Registered Nurses', 'Registered Nurse']]\n",
        "5001"
       ]
      },
      {
       "output_type": "stream",
       "stream": "stdout",
       "text": [
        " ['from <i>NYPD Blue</i>...', 'James McDaniel', False]\n",
        "3829 ['homemaker', 'Bonnie Gluhanich', False]\n",
        "3828 ['software engineer', 'Larry Blair', False]\n",
        "8444 ['MBA student', 'Greg Draves', False]\n",
        "8445"
       ]
      },
      {
       "output_type": "stream",
       "stream": "stdout",
       "text": [
        " ['retired bookseller', 'Susan Torsell-Damico', False]\n",
        "8446 ['Spanish professor', 'Tim Anderson', False]\n",
        "5000 ['from <i>The Daily Show with Jon Stewart</i>...', 'Jon Stewart', False]\n",
        "8440 ['attorney', 'Rachel Gordon', ['23-1011', 'Lawyers', 'Attorney']]\n",
        "8441"
       ]
      },
      {
       "output_type": "stream",
       "stream": "stdout",
       "text": [
        " ['customer-service representative', 'Kathy Nitschke', False]\n",
        "8442 ['international marketing specialist', 'Jonathan Van Balen', False]\n",
        "8443"
       ]
      },
      {
       "output_type": "stream",
       "stream": "stdout",
       "text": [
        " ['language test developer', 'Lauren Hopkins Karcz', False]\n",
        "3584 ['actor', 'Andrew Shue', False]\n",
        "8448 ['proofreader', 'Peter Hartikka', ['43-9081', 'Proofreaders and Copy Markers', 'Proofreader']]\n",
        "8449 ['tavern owner', 'Brian Flanagan', False]\n",
        "5006"
       ]
      },
      {
       "output_type": "stream",
       "stream": "stdout",
       "text": [
        " ['from the Broadway musical <i>Chicago</i>...', 'Sandy Duncan', False]\n",
        "5005 ['marketing communications manager', 'Nancy Kirwan', False]\n",
        "3587 ['singer-songwriter', 'Steven Page', False]\n",
        "7539"
       ]
      },
      {
       "output_type": "stream",
       "stream": "stdout",
       "text": [
        " ['government attorney', 'Helaine Greenfeld', False]\n",
        "7538 ['university English teacher', 'John Jordan', ['MiscTeacher', 'Teacher', 'Teacher']]\n",
        "368 ['project administrator', 'Kevin Keach', False]\n",
        "369 ['metrologist', 'Bruce Borchardt', False]\n",
        "366 ['registered nurse', 'Paul Schaffer', ['29-1141', 'Registered Nurses', 'Registered Nurse']]\n",
        "367 ['carpenter', 'Lynne Crawford', False]\n",
        "364"
       ]
      },
      {
       "output_type": "stream",
       "stream": "stdout",
       "text": [
        " ['freelance copywriter', 'Lois Feinstein', False]\n",
        "365 ['energy demonstrator', 'Greg Hopkins', False]\n",
        "362 ['attorney', 'Jim Scott', ['23-1011', 'Lawyers', 'Attorney']]\n",
        "363 ['advertising copywriter', 'Frank Selevan', ['27-3043', 'Writers and Authors', 'Advertising Copywriter']]\n",
        "360 ['executive assistant', 'Michelle Clum', ['43-6011', 'Executive Secretaries and Executive Administrative Assistants', 'Executive Assistant']]\n",
        "361"
       ]
      },
      {
       "output_type": "stream",
       "stream": "stdout",
       "text": [
        " ['writer', 'Jerome Vered', False]\n",
        "5008 ['from the Broadway musical <i>Beauty and the Beast</i>...', 'Andrea McArdle', False]\n",
        "1945 ['French professor', 'Will Thompson', ['25-1124', 'Foreign Language and Literature Teachers, Postsecondary', 'French Professor']]\n",
        "5133 ['librarian', 'Daria Labinsky', False]\n",
        "6179"
       ]
      },
      {
       "output_type": "stream",
       "stream": "stdout",
       "text": [
        " ['ten-year-old', 'Zane Li', False]\n",
        "6176 [\"agent's assistant\", 'Alex Fineman', False]\n",
        "6177 ['writer', 'James Erwin', False]\n",
        "6174 ['health policy lawyer', 'Naomi Seiler', False]\n",
        "6175 ['high school librarian', 'Cyn Mayo', ['25-4021', 'Librarians', 'High School Librarian']]\n",
        "6172"
       ]
      },
      {
       "output_type": "stream",
       "stream": "stdout",
       "text": [
        " ['business risk manager', 'Jennifer Klein', False]\n",
        "6173 ['bartender', 'Damon White', ['35-3011', 'Bartenders', 'Bartender']]\n",
        "6170 ['twelve-year-old', 'Patrick Derocher', False]\n",
        "6171 ['financial aid officer and student', 'Mike Bartlett', False]\n",
        "6511"
       ]
      },
      {
       "output_type": "stream",
       "stream": "stdout",
       "text": [
        " ['wellness coordinator', 'Jen Jacobsen', False]\n",
        "7902 ['arts administrator', 'Susan Cohen', False]\n",
        "2200 ['freelance writer and editor', 'M J Selle', False]\n",
        "2201"
       ]
      },
      {
       "output_type": "stream",
       "stream": "stdout",
       "text": [
        " ['television and commercial announcer', 'Tracy Bond Bird', False]\n",
        "2202 ['cinematographer', 'Christopher Seivard', ['27-4031', 'Camera Operators, Television, Video, and Motion Picture', 'Cinematographer']]\n",
        "2203 ['graduate student', 'Neil Majors', ['GradStu', 'Graduate student', 'Graduate student']]\n",
        "2204 ['graduate student and mom', 'Catherine Skeen', ['GradStu', 'Graduate student', 'Graduate student']]\n",
        "2205 ['automotive technician', 'Matt Andrade', False]\n",
        "2206 ['graduate student', 'Dana Greenblatt', ['GradStu', 'Graduate student', 'Graduate student']]\n",
        "2207 ['elementary school teacher', 'Christine Martin', ['MiscTeacher', 'Teacher', 'Teacher']]\n",
        "2208 ['doctor', 'John Nienow', False]\n",
        "2209 ['development officer', 'Timothy Mahoney', False]\n",
        "900"
       ]
      },
      {
       "output_type": "stream",
       "stream": "stdout",
       "text": [
        " ['educator', 'Audrey Golub', False]\n",
        "901 ['retiree', 'Kerry Towle', False]\n",
        "4839 ['university professor', 'Ann Mulkern', False]\n",
        "4838 ['minister', 'Jay Sprout', ['21-2011', 'Clergy', 'Minister']]\n",
        "4529 ['public relations expert', 'Brian Lynch', False]\n",
        "4528"
       ]
      },
      {
       "output_type": "stream",
       "stream": "stdout",
       "text": [
        " ['magazine editor', 'Bruce Upbin', False]\n",
        "4527 ['teacher', 'Theo Arnold', ['MiscTeacher', 'Teacher', 'Teacher']]\n",
        "4830 ['college dean', 'Sal Turchio', False]\n",
        "4525 ['human anatomy instructor', 'Vivian Moyle', False]\n",
        "4832 ['psychiatrist', 'Mike Corbin', ['29-1066', 'Psychiatrists', 'Psychiatrist']]\n",
        "4523"
       ]
      },
      {
       "output_type": "stream",
       "stream": "stdout",
       "text": [
        " ['public opinion researcher', 'Valerie Williamson', False]\n",
        "4522 ['account manager', 'Rich Jacobs', False]\n",
        "4521 ['marine engineering manager', 'Erin Gantt', False]\n",
        "4520 ['high school teacher', 'Mark Venezia', ['MiscTeacher', 'Teacher', 'Teacher']]\n",
        "7993"
       ]
      },
      {
       "output_type": "stream",
       "stream": "stdout",
       "text": [
        " ['communications and economics student', 'David Schuman', False]\n",
        "7992 ['violinist and dueling pianist', 'Matt Tobin', False]\n",
        "7991 ['educational consultant', 'Deb Teitelbaum', False]\n",
        "7990 ['project manager', 'Peter Hansen', False]\n",
        "7997"
       ]
      },
      {
       "output_type": "stream",
       "stream": "stdout",
       "text": [
        " ['international student coordinator', 'Katie Clair', False]\n",
        "7996 ['attorney', 'Mike Malaier', ['23-1011', 'Lawyers', 'Attorney']]\n",
        "7995 ['stay-at-home mom', 'Sheri Boysen', False]\n",
        "6278 ['13-year-old', 'Adam Bock', False]\n",
        "7999 ['mystery and suspense writer', 'Brendan DuBois', False]\n",
        "7998 ['high school English teacher', 'Erica Mines', ['MiscTeacher', 'Teacher', 'Teacher']]\n",
        "908"
       ]
      },
      {
       "output_type": "stream",
       "stream": "stdout",
       "text": [
        " ['sales manager', 'Karen Arciero', False]\n",
        "909 ['screenwriter', 'Mark Murray', False]\n",
        "5298 ['financial services compliance officer', 'Andy Yermack', False]\n",
        "5299"
       ]
      },
      {
       "output_type": "stream",
       "stream": "stdout",
       "text": [
        " ['portfolio manager', \"M'Liss Moore\", False]\n",
        "5296 ['student', 'Martha Fingleton', False]\n",
        "5297 ['copy editor', 'Larry Hamberlin', ['27-3041', 'Editors', 'Copy Editor']]\n",
        "5294 ['freelance writer', 'Anne Boyd', False]\n",
        "5295 ['administrative assistant', 'Glenn Fechner', False]\n",
        "5292"
       ]
      },
      {
       "output_type": "stream",
       "stream": "stdout",
       "text": [
        " ['consultant and customer service representative', 'Gina George', False]\n",
        "5293 ['attorney', 'Daniel Morgan', ['23-1011', 'Lawyers', 'Attorney']]\n",
        "5290 ['medical student', 'Juan Carlos Batlle', False]\n",
        "5291 ['business development coordinator', 'Jeremy Schanck', False]\n",
        "8141"
       ]
      },
      {
       "output_type": "stream",
       "stream": "stdout",
       "text": [
        " ['strategic analyst for NASA', 'Kristin Morgan', False]\n",
        "8140 ['graphic designer', 'Brett Swartz', ['27-1024', 'Graphic Designers', 'Graphic Designer']]\n",
        "8143 ['performance artist', 'Parker East', False]\n",
        "8142 ['math and drama teacher', 'Frances Way', ['MiscTeacher', 'Teacher', 'Teacher']]\n",
        "8145 ['fund administration manager', 'Tim Courchaine', False]\n",
        "8144"
       ]
      },
      {
       "output_type": "stream",
       "stream": "stdout",
       "text": [
        " ['attorney and taiko drummer', 'Natalie Hudson', False]\n",
        "8147 ['U.S. Army Reserve family support assistant', 'Katie Collins', False]\n",
        "8146 ['technical project manager', 'Scott Mitchell', False]\n",
        "7337"
       ]
      },
      {
       "output_type": "stream",
       "stream": "stdout",
       "text": [
        " ['litigation attorney', 'Denise Troy', False]\n",
        "7336 ['rabbi', 'Joyce Newmark', ['21-2011', 'Clergy', 'Rabbi']]\n",
        "7335 ['high school Spanish teacher', 'Grafton Brown', ['MiscTeacher', 'Teacher', 'Teacher']]\n",
        "7334 ['high school English teacher', 'Charles Temple', ['MiscTeacher', 'Teacher', 'Teacher']]\n",
        "7333 ['third grade special education teacher', 'Sally Umbach', ['MiscTeacher', 'Teacher', 'Teacher']]\n",
        "7332 ['fourth grade language arts, math, and social studies teacher', 'Catherine Carson', ['MiscTeacher', 'Teacher', 'Teacher']]\n",
        "7331 ['high school English teacher', 'Larry DeMoss', ['MiscTeacher', 'Teacher', 'Teacher']]\n",
        "7330 ['high school English teacher', 'Judd Hess', ['MiscTeacher', 'Teacher', 'Teacher']]\n",
        "7339 ['medical student', 'Lisa Bloomberg', False]\n",
        "7338 ['electrical engineer', 'Ramesh Mantha', ['17-2071', 'Electrical Engineers', 'Electrical Engineer']]\n",
        "5510 ['massage therapist', 'Billy Barnhart', ['31-9011', 'Massage Therapists', 'Massage Therapist']]\n",
        "7058 ['senior', 'Sid Chandrasekhar', False]\n",
        "7059 ['junior', 'Hans von Walter', False]\n",
        "7052 ['physician', 'Jeanne Breen', False]\n",
        "7053"
       ]
      },
      {
       "output_type": "stream",
       "stream": "stdout",
       "text": [
        " ['software engineer', 'John Wen', False]\n",
        "7050 ['software engineer and Italian translator', 'Vito Cortese', False]\n",
        "7051 ['antitrust attorney', 'Anne McFadden', False]\n",
        "7056 ['senior', 'Steve Greene', False]\n",
        "7057"
       ]
      },
      {
       "output_type": "stream",
       "stream": "stdout",
       "text": [
        " ['junior', 'Olivia Colangelo', False]\n",
        "7054 ['Korean studies program coordinator', 'Jennifer Hill', False]\n",
        "7055 [\"master's student of television\", 'Rony Josaphat', False]\n",
        "9026"
       ]
      },
      {
       "output_type": "stream",
       "stream": "stdout",
       "text": [
        " ['from Royal Oak, Michigan...', 'Paul Thompson', False]\n",
        "8149 ['retired proofreader and editor', 'Joan Blinn', False]\n",
        "8148 ['special education teacher', 'James Hawthorne Jr.', ['MiscTeacher', 'Teacher', 'Teacher']]\n",
        "6998 ['retired CPA', 'Phyllis Grayson', False]\n",
        "6999 ['web developer', 'David Zack', ['15-1134', 'Web Developers', 'Web Developer']]\n",
        "8639"
       ]
      },
      {
       "output_type": "stream",
       "stream": "stdout",
       "text": [
        " ['12-year-old seventh grader', 'Patrick Aimone', False]\n",
        "8638 ['12-year-old seventh grader', 'Holly Boivin', False]\n",
        "6994 ['newspaper reporter', 'Kara Spak', False]\n",
        "6995 ['Ph.D. student in business', 'DJ Schepker', False]\n",
        "6996 ['online music teacher', 'Robert Villarreal', ['MiscTeacher', 'Teacher', 'Teacher']]\n",
        "6997"
       ]
      },
      {
       "output_type": "stream",
       "stream": "stdout",
       "text": [
        " ['psychology professor', 'Beth Eckerd', ['25-1066', 'Psychology Teachers, Postsecondary', 'Psychology Professor']]\n",
        "6990 ['water systems engineer', 'Russ Porter', False]\n",
        "6991 ['casting director', 'Destiny Lilly', ['27-2012', 'Producers and Directors', 'Casting Director']]\n",
        "6992 ['stay-at-home mom', 'Lyssette Flinchbaugh', False]\n",
        "6993"
       ]
      },
      {
       "output_type": "stream",
       "stream": "stdout",
       "text": [
        " ['information technology project manager', 'Hillary Janikula', False]\n",
        "2998 ['systems manager', 'James Hyder', False]\n",
        "2999 ['special projects assistant', 'Lynda Burkett', False]\n",
        "59"
       ]
      },
      {
       "output_type": "stream",
       "stream": "stdout",
       "text": [
        " ['12-year-old seventh grader', 'Megan Fraedrich', False]\n",
        "58 ['12-year-old sixth grader', 'Tim Koch', False]\n",
        "2990 ['junior', 'Andrea Pinyan', False]\n",
        "2991 ['freshman', 'Craig Barker', False]\n",
        "2992"
       ]
      },
      {
       "output_type": "stream",
       "stream": "stdout",
       "text": [
        " ['editor', 'Sherri Schottlaender', False]\n",
        "2993 ['pediatrician', 'Jen Anders', False]\n",
        "2994 ['high school librarian', 'Jane Glass', ['25-4021', 'Librarians', 'High School Librarian']]\n",
        "50 ['medical student', 'Matt Kleinmaier', False]\n",
        "2996"
       ]
      },
      {
       "output_type": "stream",
       "stream": "stdout",
       "text": [
        " ['retired administrator and consultant', 'Jeannette Harrison', False]\n",
        "2997 ['teacher', 'Sarah Callanan', ['MiscTeacher', 'Teacher', 'Teacher']]\n",
        "55 ['high school teacher', 'Jos\\xe9 Ruiz Jr.', ['MiscTeacher', 'Teacher', 'Teacher']]\n",
        "54 ['musician', 'Graham House', ['27-2042', 'Musicians and Singers', 'Musician']]\n",
        "57 ['11-year-old seventh grader', 'Kelly Scurry', False]\n",
        "56 ['graduate student', 'Josh Rosenfeld', ['GradStu', 'Graduate student', 'Graduate student']]\n",
        "51 ['journalist', 'Larry Bellinger', False]\n",
        "2995 ['green builder', 'Max Joel', False]\n",
        "53 ['graduate student', 'K.C. Backer', ['GradStu', 'Graduate student', 'Graduate student']]\n",
        "52"
       ]
      },
      {
       "output_type": "stream",
       "stream": "stdout",
       "text": [
        " ['senior production controller', 'Marielle Poss', False]\n",
        "429 ['singer and actor', 'Andrew Westney', False]\n",
        "428 ['partner in a small computer company', 'Steve Newman', False]\n",
        "1399"
       ]
      },
      {
       "output_type": "stream",
       "stream": "stdout",
       "text": [
        " ['crash avoidance engineer', 'Mark Mironer', False]\n",
        "1398 ['learning consultant', 'Rex Babiera', False]\n",
        "1397 ['mail carrier', 'Sharon Dorsey', False]\n",
        "1396 ['customer service manager', 'Greg Carbone', False]\n",
        "1395"
       ]
      },
      {
       "output_type": "stream",
       "stream": "stdout",
       "text": [
        " ['pediatric oncologist', 'Jim Fahner', False]\n",
        "1394 ['professor of accounting', 'Joan Friedman', False]\n",
        "1393 ['writer', 'Julie Reynolds', False]\n",
        "1392 ['aerospace engineer', 'Bob McDonald', ['17-2011', 'Aerospace Engineers', 'Aerospace Engineer']]\n",
        "1391 ['retired letter carrier', 'Michael Grinde', False]\n",
        "1390"
       ]
      },
      {
       "output_type": "stream",
       "stream": "stdout",
       "text": [
        " ['humanities lecturer & artist', 'Claudia Traudt', False]\n",
        "854 ['attorney', 'Julie Baker', ['23-1011', 'Lawyers', 'Attorney']]\n",
        "855 ['attorney', 'Bruce Clark', ['23-1011', 'Lawyers', 'Attorney']]\n",
        "530 ['musician and stay-at-home dad', 'Rick Knutsen', False]\n",
        "856 ['Naval flight officer', 'Joe McNamara', False]\n",
        "857 ['underwriting manager', 'Jennifer Weiner', False]\n",
        "850"
       ]
      },
      {
       "output_type": "stream",
       "stream": "stdout",
       "text": [
        " ['publisher and house dad', 'Tony Jonick', False]\n",
        "851 ['contract attorney', 'Amy Oberst', False]\n",
        "852 ['engineer', 'Chad Morgan', False]\n",
        "853 ['attorney', 'Mark Eckenwiler', ['23-1011', 'Lawyers', 'Attorney']]\n",
        "1422 ['automotive engineer', 'Jim Burkhard', False]\n",
        "8259"
       ]
      },
      {
       "output_type": "stream",
       "stream": "stdout",
       "text": [
        " ['journalist and community volunteer', 'Kathleen Meyer', False]\n",
        "1425 ['actuary', 'Bob Blake', False]\n",
        "8258 ['classics lecturer', 'Rob Groves', False]\n",
        "8939 ['high-school language-arts teacher', 'Chris Sanchez', ['MiscTeacher', 'Teacher', 'Teacher']]\n",
        "2330 ['high school science teacher', 'Chad Pridgen', ['MiscTeacher', 'Teacher', 'Teacher']]\n",
        "1424 ['attorney', 'Dan Katz', ['23-1011', 'Lawyers', 'Attorney']]\n",
        "2331 ['veterinarian', 'Kate Rogers', False]\n",
        "2332 ['aerospace engineer', 'Alberto Cangahuala', ['17-2011', 'Aerospace Engineers', 'Aerospace Engineer']]\n",
        "2333 ['graduate student', 'Ron Gordon', ['GradStu', 'Graduate student', 'Graduate student']]\n",
        "2334"
       ]
      },
      {
       "output_type": "stream",
       "stream": "stdout",
       "text": [
        " ['senior journal production editor', 'James Fraleigh', False]\n",
        "2335 ['library assistant', 'Dylan Armstrong', ['43-4121', 'Library Assistants, Clerical', 'Library Assistant']]\n",
        "2336 ['high school English teacher', 'Amy Vandenberg', ['MiscTeacher', 'Teacher', 'Teacher']]\n",
        "2337 ['law student', 'Phil Ackerman', False]\n",
        "6699 ['chef', 'Lisa Dengate', False]\n",
        "6698"
       ]
      },
      {
       "output_type": "stream",
       "stream": "stdout",
       "text": [
        " ['professor of architecture', 'Pablo Garcia', False]\n",
        "6693 ['consultant', 'Matt McWha', False]\n",
        "6692 ['SAT teacher', 'Mayank Keshaviah', ['MiscTeacher', 'Teacher', 'Teacher']]\n",
        "6691 ['reference librarian', 'Elizabeth Galoozis', ['25-4021', 'Librarians', 'Reference Librarian']]\n",
        "6690 ['residence hall director', 'Christy Brown', False]\n",
        "6697 ['TV host', 'Chris Matthews', False]\n",
        "6696"
       ]
      },
      {
       "output_type": "stream",
       "stream": "stdout",
       "text": [
        " ['actor', 'David Duchovny', False]\n",
        "6695 ['actor', 'Charles Shaughnessy', False]\n",
        "6694 ['administrative assistant', 'Mary Laferriere', False]\n",
        "2439 ['software support engineer', 'Andria Frost', False]\n",
        "2438"
       ]
      },
      {
       "output_type": "stream",
       "stream": "stdout",
       "text": [
        " ['actor', 'Cliff Karp', False]\n",
        "2433 ['registered nurse', 'David Eisenberg', ['29-1141', 'Registered Nurses', 'Registered Nurse']]\n",
        "2432 ['graduate student', 'Hannah Dvorak-Carbone', ['GradStu', 'Graduate student', 'Graduate student']]\n",
        "2431 ['entrepreneur', 'Mona Hall', False]\n",
        "2430 ['writer and editor', 'Gary Frank', False]\n",
        "2437 ['registered nurse', 'Karen Sapp', ['29-1141', 'Registered Nurses', 'Registered Nurse']]\n",
        "2436 ['advertising executive', 'Ben Wiener', ['11-2011', 'Advertising and Promotions Managers', 'Advertising Executive']]\n",
        "2435 ['lawyer', 'Greg Denny', ['23-1011', 'Lawyers', 'Lawyer']]\n",
        "2434 ['C.P.A.', 'Sharon Neufeld', False]\n",
        "7838 ['periodicals librarian', 'Sara Shiver', ['25-4021', 'Librarians', 'Periodicals Librarian']]\n",
        "7839"
       ]
      },
      {
       "output_type": "stream",
       "stream": "stdout",
       "text": [
        " ['finance administrator', 'Daphne Moulton', False]\n",
        "7830 ['journalist and chief White House correspondent', 'Chuck Todd', False]\n",
        "7831 ['retail associate', 'Jody Clark', False]\n",
        "7832"
       ]
      },
      {
       "output_type": "stream",
       "stream": "stdout",
       "text": [
        " ['pharmacist', 'Barb Hougas', False]\n",
        "7833 ['public librarian', 'Julie Zukowski', False]\n",
        "7834 ['homemaker and visual artist', 'Ursula Rodgers', False]\n",
        "7835"
       ]
      },
      {
       "output_type": "stream",
       "stream": "stdout",
       "text": [
        " ['grant writer', 'Jennifer Arceneaux', False]\n",
        "7836 ['graduate student of philosophy', 'Jim Virtel', ['GradStu', 'Graduate student', 'Graduate student']]\n",
        "7837 ['JAG attorney', 'Captain Lawrence Indyk', False]\n",
        "6341 ['law student', 'A.J. Monaco', False]\n",
        "6340 ['garage door company owner', 'Gary Bechtold', False]\n",
        "6343"
       ]
      },
      {
       "output_type": "stream",
       "stream": "stdout",
       "text": [
        " ['actor/comedian', 'Andy Richter', False]\n",
        "6342 ['library clerk', 'Jennifer Rojo', ['43-4121', 'Library Assistants, Clerical', 'Library Clerk']]\n",
        "6345 ['journalist', 'Wolf Blitzer', False]\n",
        "6344 ['actress', 'Dana Delany', ['27-2011', 'Actors', 'Actress']]\n",
        "6347 ['window artist', 'Ron Blood', False]\n",
        "6346 ['film archivist', 'Snowden Becker', ['25-4011', 'Archivists', 'Film Archivist']]\n",
        "6349"
       ]
      },
      {
       "output_type": "stream",
       "stream": "stdout",
       "text": [
        " ['librarian and mechanical puzzles curator', 'Jillian Hinchliffe', False]\n",
        "6348 ['business analyst', 'Claxton Graham', ['13-1111', 'Management Analysts', 'Business Analyst']]\n",
        "5470 ['management analyst', 'Paul Skocz', ['13-1111', 'Management Analysts', 'Management Analyst']]\n",
        "1807 ['teacher', 'Rory Cowan', ['MiscTeacher', 'Teacher', 'Teacher']]\n",
        "1806 ['MBA candidate', 'Stefanie Wulfestieg', False]\n",
        "1805 ['web producer', 'Julie Robichaux', False]\n",
        "3781 ['writer', 'Mike Goldstein', False]\n",
        "1803 ['welder', 'Lizard Hogge', False]\n",
        "3787 ['retired teacher', 'Bobbie Cassell', ['MiscTeacher', 'Teacher', 'Teacher']]\n",
        "3784"
       ]
      },
      {
       "output_type": "stream",
       "stream": "stdout",
       "text": [
        " ['construction worker', 'Mike Donner', False]\n",
        "1800 ['graduate student', 'Peter Morris', ['GradStu', 'Graduate student', 'Graduate student']]\n",
        "8992 ['air traffic controller', 'Jerry Standlee', ['53-2021', 'Air Traffic Controllers', 'Air Traffic Controller']]\n",
        "8993 ['library volunteer coordinator', 'Emily Waltenbaugh', False]\n",
        "3788 ['program assistant', \"Heather O'Neill\", False]\n",
        "3789 ['management consultant', 'Claire Guthrie Gastanaga', ['13-1111', 'Management Analysts', 'Management Consultant']]\n",
        "8996"
       ]
      },
      {
       "output_type": "stream",
       "stream": "stdout",
       "text": [
        " ['librarian', 'Bruce Naegeli', False]\n",
        "8997 ['history professor', 'Stephanie Jass', False]\n",
        "1809 ['managed care underwriter', 'Samantha Moeschler', False]\n",
        "1808"
       ]
      },
      {
       "output_type": "stream",
       "stream": "stdout",
       "text": [
        " ['church office manager', 'Suzan Reiner', False]\n",
        "4996 ['multimedia producer', 'Lisa Boles', False]\n",
        "4997 ['teacher', 'Alonzo Alexander', ['MiscTeacher', 'Teacher', 'Teacher']]\n",
        "4994 ['test prep teacher', 'Chris Vestuto', ['MiscTeacher', 'Teacher', 'Teacher']]\n",
        "4995 ['market research consultant', 'Ann Middleman', False]\n",
        "4992"
       ]
      },
      {
       "output_type": "stream",
       "stream": "stdout",
       "text": [
        " ['from <i>Law & Order</i>...', 'S. Epatha Merkerson', False]\n",
        "4993 ['from the play <i>Death of a Salesman</i>...', 'Brian Dennehy', False]\n",
        "4990 ['12-year-old', 'Allex Fambles', False]\n",
        "4991"
       ]
      },
      {
       "output_type": "stream",
       "stream": "stdout",
       "text": [
        " [\"from NBC's <i>Late Night With Conan O'Brien</i>...\", 'Andy Richter', False]\n",
        "4998 ['from <i>Spin City</i>...', 'Michael Boatman', False]\n",
        "4999 ['Grammy-winning singer-songwriter', 'Shawn Colvin', False]\n",
        "6517"
       ]
      },
      {
       "output_type": "stream",
       "stream": "stdout",
       "text": [
        " ['assistant curator', 'Grant Quertermous', False]\n",
        "3258 ['bartender', 'Joe Riley', ['35-3011', 'Bartenders', 'Bartender']]\n",
        "3259 ['technical writer', 'Carla DenHartog', ['27-3042', 'Technical Writers', 'Technical Writer']]\n",
        "1948 ['banking vice president', 'Kathy Hennington', False]\n",
        "1949 ['teacher', 'Maria Wenglinsky', ['MiscTeacher', 'Teacher', 'Teacher']]\n",
        "1942"
       ]
      },
      {
       "output_type": "stream",
       "stream": "stdout",
       "text": [
        " ['non-profit management consultant', 'Karen Wallace-Meigs', False]\n",
        "1943 ['court officer', 'Frank Stevens', ['33-3011', 'Bailiffs', 'Court Officer']]\n",
        "1940 ['registered nurse', 'Karmie Johnson', ['29-1141', 'Registered Nurses', 'Registered Nurse']]\n",
        "1941 ['student', 'Dan McLeod', False]\n",
        "1946 ['loan officer', 'Scott Speer', ['13-2072', 'Loan Officers', 'Loan Officer']]\n",
        "1947 ['academic record keeper', 'Bill Barnett', False]\n",
        "1944"
       ]
      },
      {
       "output_type": "stream",
       "stream": "stdout",
       "text": [
        " ['musicologist', 'Theresa Muir', False]\n",
        "3257 ['12-year-old', 'Kunle DeMuren', False]\n",
        "2859 ['aviation manager', 'Murat Sen', False]\n",
        "2858"
       ]
      },
      {
       "output_type": "stream",
       "stream": "stdout",
       "text": [
        " ['business college student', 'Dana Pernille Hansen', False]\n",
        "2851 ['mathematics instructor', 'Jonathan Matte', False]\n",
        "2850 ['lawyer', 'Pam Storm', ['23-1011', 'Lawyers', 'Lawyer']]\n",
        "2853 ['financial analyst', 'Roger Bauman', False]\n",
        "2852 ['archivist', 'Bryan McKown', ['25-4011', 'Archivists', 'Archivist']]\n",
        "2855 ['paralegal', 'Ann Hall-Rogalinski', ['23-2011', 'Paralegals and Legal Assistants', 'Paralegal']]\n",
        "2854 ['marketing director', 'Keith Milsark', ['11-2021', 'Marketing Managers', 'Marketing Director']]\n",
        "2857"
       ]
      },
      {
       "output_type": "stream",
       "stream": "stdout",
       "text": [
        " ['chemistry student', 'Tobias Herzig', False]\n",
        "2856 ['business owner', 'Courtney Conrad', False]\n",
        "1490 ['decorating contractor', 'Bob Aumann', False]\n",
        "5460 ['attorney', 'Max Corrick', ['23-1011', 'Lawyers', 'Attorney']]\n",
        "5463 ['lawyer', 'Greg Narver', ['23-1011', 'Lawyers', 'Lawyer']]\n",
        "5462 ['copywriter', 'Darcy Smith', ['27-3043', 'Writers and Authors', 'Copywriter']]\n",
        "1494"
       ]
      },
      {
       "output_type": "stream",
       "stream": "stdout",
       "text": [
        " ['administrative assistant', 'Mindy Eakin', False]\n",
        "5464 ['law librarian', 'Tom Vanderloo', ['25-4021', 'Librarians', 'Law Librarian']]\n",
        "5467 ['mechanical engineering student', 'Vibin Kundukulam', False]\n",
        "1497 ['technical instructor', 'Rick Hoffman', False]\n",
        "1498 ['attorney', 'Jeff Bandman', ['23-1011', 'Lawyers', 'Attorney']]\n",
        "5468"
       ]
      },
      {
       "output_type": "stream",
       "stream": "stdout",
       "text": [
        " ['IT specialist', 'Hannah Lynch', False]\n",
        "3339 ['podiatrist', 'Bruce Brazinsky', False]\n",
        "3338 ['insurance broker', 'Traci Hawkins', ['41-3021', 'Insurance Sales Agents', 'Insurance Broker']]\n",
        "423 ['sales executive', 'John Hart', False]\n",
        "422 ['musician and songwriter', 'Christopher Ruth', False]\n",
        "425 ['attorney', 'Michael Day', ['23-1011', 'Lawyers', 'Attorney']]\n",
        "424"
       ]
      },
      {
       "output_type": "stream",
       "stream": "stdout",
       "text": [
        " [\"writer's assistant\", 'Rebecca Rhyne', False]\n",
        "427 ['college professor', 'Jay Rosenberg', False]\n",
        "426 ['entering law student', 'Pam Mueller', False]\n",
        "524 ['investment banker', 'Fraser Woodford', ['41-3031', 'Securities, Commodities, and Financial Services Sales Agents', 'Investment Banker']]\n",
        "525"
       ]
      },
      {
       "output_type": "stream",
       "stream": "stdout",
       "text": [
        " ['college senior', 'Kyle Hale', False]\n",
        "526 ['index supervisor', 'Pat Healy', False]\n",
        "527 ['biologist', 'Bernie Cullen', ['19-1029', 'Biological Scientists, All Other', 'Biologist']]\n",
        "520 ['Space Camp counselor & student', 'Shawn Askew', False]\n",
        "521"
       ]
      },
      {
       "output_type": "stream",
       "stream": "stdout",
       "text": [
        " ['historian & writer', 'Courtney Caudill', False]\n",
        "522 ['realtor', 'Bill Sloan', False]\n",
        "523 ['actor and copy editor', 'India Cooper', False]\n",
        "8930 ['senior', 'Maria Khrakovsky', False]\n",
        "528 ['graduate student', 'Betsy Schiltz', ['GradStu', 'Graduate student', 'Graduate student']]\n",
        "529"
       ]
      },
      {
       "output_type": "stream",
       "stream": "stdout",
       "text": [
        " ['stagehand', 'Brian Benson', False]\n",
        "1234 ['psychotherapist', 'Shelley Fellner-Rosenberg', ['19-3039', 'Psychologists, All Other', 'Psychotherapist']]\n",
        "1235 ['economist & software engineer', 'Stephen Gorin', False]\n",
        "1236 ['writer', 'Sandy Siegel', False]\n",
        "1237 ['homemaker', 'Jere Souza', False]\n",
        "1230 ['accountant', 'Sheila Austin', ['13-2011', 'Accountants and Auditors', 'Accountant']]\n",
        "1231"
       ]
      },
      {
       "output_type": "stream",
       "stream": "stdout",
       "text": [
        " ['student and freelance bartender', 'Kingslea Bueltel', False]\n",
        "1232 ['printing salesman', 'Jim Gilcreast', False]\n",
        "1233 ['editor', 'Kari Russ', False]\n",
        "1238 ['retail manager', 'Pat Gonzales', False]\n",
        "1239"
       ]
      },
      {
       "output_type": "stream",
       "stream": "stdout",
       "text": [
        " ['sophomore at Purdue University', 'Antonia Wang', False]\n",
        "8286 ['airline pilot', 'Tyson Schindler', ['53-2011', 'Airline Pilots, Copilots, and Flight Engineers', 'Airline Pilot']]\n",
        "8287 ['property manager', 'Tom Lynn', ['11-9141', 'Property, Real Estate, and Community Association Managers', 'Property Manager']]\n",
        "8284 ['sales representative', 'Mel Milner', False]\n",
        "1964 ['meteorologist', 'Michael Falk', ['19-2021', 'Atmospheric and Space Scientists', 'Meteorologist']]\n",
        "8282 ['legal secretary', 'Christine Muldoon', False]\n",
        "8283"
       ]
      },
      {
       "output_type": "stream",
       "stream": "stdout",
       "text": [
        " ['computer consultant', 'Megan Dempsey', False]\n",
        "8280 ['journalist', 'Patrick McGeehan', False]\n",
        "8281 ['civil engineer', 'Pat Clevenger', ['17-2051', 'Civil Engineers', 'Civil Engineer']]\n",
        "8288 ['human resources manager', 'Ellen Grinnell', False]\n",
        "8289"
       ]
      },
      {
       "output_type": "stream",
       "stream": "stdout",
       "text": [
        " ['elementary school librarian', 'Colleen Kemps', False]\n",
        "6509 ['archivist', 'Cathy Sorge', ['25-4011', 'Archivists', 'Archivist']]\n",
        "6508 ['journalist', 'Mike Janssen', False]\n",
        "2488 ['fundraiser', 'Cynthia Kocanovic', False]\n",
        "6503 ['TV and film actress', 'Julie Bowen', False]\n",
        "6502"
       ]
      },
      {
       "output_type": "stream",
       "stream": "stdout",
       "text": [
        " ['TV, film and Broadway actress', 'Jane Kaczmarek', False]\n",
        "6501 ['radio and television personality', 'Robin Quivers', False]\n",
        "2489 ['attorney', 'Sozi Sozinho', ['23-1011', 'Lawyers', 'Attorney']]\n",
        "6507 ['director of communications', 'Lisa Kaiser', False]\n",
        "6506"
       ]
      },
      {
       "output_type": "stream",
       "stream": "stdout",
       "text": [
        " ['GIS coordinator', 'Patrick Pence', False]\n",
        "6505 ['law student', 'Ben Davis', False]\n",
        "6504 ['writer', 'Barbara Pfouts', False]\n",
        "4677 ['senior', 'Hunter Brown', False]\n",
        "4900 ['health physicist', 'Ed Case', ['19-2012', 'Physicists', 'Health Physicist']]\n",
        "4675"
       ]
      },
      {
       "output_type": "stream",
       "stream": "stdout",
       "text": [
        " ['junior', 'Naren Tallapragada', False]\n",
        "2485 ['art teacher', 'Marie Corfield', ['MiscTeacher', 'Teacher', 'Teacher']]\n",
        "3809 ['speech writer', 'Glenda Kendrick', False]\n",
        "3808 ['homemaker', 'Marilyn Cuca', False]\n",
        "3805 ['general manager', 'Ron Seide', ['11-1021', 'General and Operations Managers', 'General Manager']]\n",
        "3804 ['deputy prosecuting attorney', 'Cathy Shaffer', False]\n",
        "3807"
       ]
      },
      {
       "output_type": "stream",
       "stream": "stdout",
       "text": [
        " ['finance manager', 'Michael Noonan', False]\n",
        "3806 ['administrative assistant', 'Carol Tierney', False]\n",
        "3801 ['resident physician', 'Kent Meckling', False]\n",
        "3800 ['public health analyst', 'Toho Soma', False]\n",
        "3803 ['high school teacher', 'Denise Mikrut', ['MiscTeacher', 'Teacher', 'Teacher']]\n",
        "3802"
       ]
      },
      {
       "output_type": "stream",
       "stream": "stdout",
       "text": [
        " ['antique dealer', 'Chris Potters', False]\n",
        "8462 ['telecommunications supply attendant', 'Eric Maitland', False]\n",
        "8463 ['software consultant', 'John Kimball', False]\n",
        "8460 ['public defender', 'Megan Hickey', ['23-1011', 'Lawyers', 'Public Defender']]\n",
        "8461 ['math professor', 'Matt Noble', False]\n",
        "8466"
       ]
      },
      {
       "output_type": "stream",
       "stream": "stdout",
       "text": [
        " ['student', 'John Ryan', False]\n",
        "4907 ['stay-at-home mom', 'Debbie Rothschild', False]\n",
        "8464 ['chiropractor', 'Fran La Bruto', ['29-1011', 'Chiropractors', 'Chiropractor']]\n",
        "8465 ['dental hygienist', 'Judith Kallen Dry', ['29-2021', 'Dental Hygienists', 'Dental Hygienist']]\n",
        "8468 ['test prep instructor', 'Andrew Moore', False]\n",
        "4906"
       ]
      },
      {
       "output_type": "stream",
       "stream": "stdout",
       "text": [
        " ['software test engineer', 'Mike Milligan', False]\n",
        "1967 ['astronomer', 'Marsha Allen', ['19-2011', 'Astronomers', 'Astronomer']]\n",
        "7559 ['fund-raising consultant', 'Will Valverde', False]\n",
        "7558 ['student and waiter', 'Mark Runsvold', False]\n",
        "7553"
       ]
      },
      {
       "output_type": "stream",
       "stream": "stdout",
       "text": [
        " ['junior at Boston University', 'Erin McLean', False]\n",
        "7552 ['writer', 'John Krizel', False]\n",
        "7551 ['geotechnical engineer', 'Tom Kunzen', ['17-2051', 'Civil Engineers', 'Geotechnical Engineer']]\n",
        "7550 ['college physics teacher', 'Joon Pahk', ['MiscTeacher', 'Teacher', 'Teacher']]\n",
        "7557 ['pub trivia editor', 'Christopher Short', False]\n",
        "7556 ['urologist', 'Justin Sausville', ['29-1069', 'Physicians and Surgeons, All Other', 'Urologist']]\n",
        "7555 ['operations engineer', 'Buddy Wright', False]\n",
        "7554"
       ]
      },
      {
       "output_type": "stream",
       "stream": "stdout",
       "text": [
        " ['online marketing producer', 'Paul Kursky', False]\n",
        "4174 ['motorized messenger', 'Dana Hernandez', False]\n",
        "4175 ['event producer', 'Matt Thompson', False]\n",
        "4176 ['high school teacher and administrator', 'Linda Lipkin', ['MiscTeacher', 'Teacher', 'Teacher']]\n",
        "4177 ['teaching assistant', 'Sara Price', False]\n",
        "4170"
       ]
      },
      {
       "output_type": "stream",
       "stream": "stdout",
       "text": [
        " ['graphic designer', 'Erica Endicott', ['27-1024', 'Graphic Designers', 'Graphic Designer']]\n",
        "4171 ['masonry restoration specialist', 'Donal Coomey', False]\n",
        "4172 ['computer programmer', 'Rob Storrs', ['15-1131', 'Computer Programmers', 'Computer Programmer']]\n",
        "4173 ['registered nurse', 'Jane Mesereau', ['29-1141', 'Registered Nurses', 'Registered Nurse']]\n",
        "4178 ['English major', 'Katy Beebe', False]\n",
        "4179 ['realtor', 'Jason Karpf', False]\n",
        "995"
       ]
      },
      {
       "output_type": "stream",
       "stream": "stdout",
       "text": [
        " ['senior', 'Mike Grant', False]\n",
        "1962 ['arts administrator', 'Bob Mesko', False]\n",
        "997 ['senior', 'Richard Morris', False]\n",
        "996 ['senior', 'Avi Stadler', False]\n",
        "991 ['English teacher', 'Chris Mullins', ['MiscTeacher', 'Teacher', 'Teacher']]\n",
        "990"
       ]
      },
      {
       "output_type": "stream",
       "stream": "stdout",
       "text": [
        " ['medical research technician', 'Terry Swart', False]\n",
        "993 ['senior', 'Wen Shen', False]\n",
        "2228 ['lawyer', 'Daniel Mendelsohn', ['23-1011', 'Lawyers', 'Lawyer']]\n",
        "2229 ['graphic designer', 'Matt Smith', ['27-1024', 'Graphic Designers', 'Graphic Designer']]\n",
        "2226 ['freelance writer', 'Patrick Kerr', False]\n",
        "2227 ['actor', 'Ron Ostrow', False]\n",
        "2224"
       ]
      },
      {
       "output_type": "stream",
       "stream": "stdout",
       "text": [
        " ['college student', 'Scott Olsen', False]\n",
        "2225 ['internal auditor', 'Robin Klenke', ['13-2011', 'Accountants and Auditors', 'Internal Auditor']]\n",
        "2222 ['director of network management', 'Robert Vinson', False]\n",
        "2223 ['actor and musician', 'Liz Zoller', False]\n",
        "2220 ['waitress', 'Gaby McNicoll', False]\n",
        "2221 ['apartment manager', 'Ben Tritle', ['11-9141', 'Property, Real Estate, and Community Association Managers', 'Apartment Manager']]\n",
        "1"
       ]
      },
      {
       "output_type": "stream",
       "stream": "stdout",
       "text": [
        " ['software engineer', 'Ken Jennings', False]\n",
        "5925 ['legislative aide', 'Dan Pawson', False]\n",
        "5926 ['actress', 'Elizabeth Perkins', ['27-2011', 'Actors', 'Actress']]\n",
        "5927 ['Emmy Award-winning host', 'Tom Bergeron', False]\n",
        "5920 ['administrative associate', 'Stephanie Herndon', False]\n",
        "5921"
       ]
      },
      {
       "output_type": "stream",
       "stream": "stdout",
       "text": [
        " ['journalist', 'Barry Petchesky', False]\n",
        "5922 ['logistics manager', 'Dana Sause', ['11-3071', 'Transportation, Storage, and Distribution Managers', 'Logistics Manager']]\n",
        "5923 ['investor', 'Carl Brandt', False]\n",
        "5928 ['comedienne, host and actress', 'Aisha Tyler', False]\n",
        "5929 ['substitute teacher and grad student', 'Tom Morris', ['MiscTeacher', 'Teacher', 'Teacher']]\n",
        "999 ['junior', 'Jamie Weiss', False]\n",
        "8113"
       ]
      },
      {
       "output_type": "stream",
       "stream": "stdout",
       "text": [
        " ['director of operations', 'Jen Ruth', False]\n",
        "998 ['senior', 'Sharon Kristal', False]\n",
        "4505 ['corporate librarian', 'Carolyn Weddell', False]\n",
        "4504 ['paralegal', 'Megan Maxwell', ['23-2011', 'Paralegals and Legal Assistants', 'Paralegal']]\n",
        "4507 ['homemaker', 'Deb Brady', False]\n",
        "4506"
       ]
      },
      {
       "output_type": "stream",
       "stream": "stdout",
       "text": [
        " ['pre-need funeral counselor', 'Stewart Myrent', False]\n",
        "4501 ['retired federal employee', 'Marvene Horwitz', False]\n",
        "4500 ['teacher and graduate student', 'Cora Peck', ['GradStu', 'Graduate student', 'Graduate student']]\n",
        "4503 ['freelance web designer', 'Jeffrey Coogan', False]\n",
        "4502 ['chef', 'Joseph Maher', False]\n",
        "4509"
       ]
      },
      {
       "output_type": "stream",
       "stream": "stdout",
       "text": [
        " ['legislative aide', 'Dan Pawson', False]\n",
        "4508 ['mailman', 'Wendell Watkins', False]\n",
        "2088 ['foreign service officer', 'Bong Miquiabas', False]\n",
        "2089 ['senior at the University of Notre Dame', 'Andrew Nerlinger', False]\n",
        "2082"
       ]
      },
      {
       "output_type": "stream",
       "stream": "stdout",
       "text": [
        " ['systems engineer', 'Matt Wauben', False]\n",
        "2083 ['superior court clerk', 'Maureen Holihan', False]\n",
        "2080 ['bookstore manager', 'Thomas Talbot', False]\n",
        "2081 ['market researcher', 'Bill Weylock', False]\n",
        "2086"
       ]
      },
      {
       "output_type": "stream",
       "stream": "stdout",
       "text": [
        " ['administrator', 'Mary-Beth Prokop', False]\n",
        "2087 ['alumni and development coordinator', 'Sherri Rowton', False]\n",
        "2084 ['project manager', 'Ann Sanders', False]\n",
        "2085 ['management analyst', 'Trevor Norris', ['13-1111', 'Management Analysts', 'Management Analyst']]\n",
        "9005"
       ]
      },
      {
       "output_type": "stream",
       "stream": "stdout",
       "text": [
        " ['personal trainer, filmmaker, and singer', 'Tom Kavanaugh', False]\n",
        "7319 ['percussionist', 'Joe McKee', ['27-2042', 'Musicians and Singers', 'Percussionist']]\n",
        "7318 ['office manager', 'Grant Wing', False]\n",
        "7315 ['professor emeritus', 'Virginia Ogozalek', False]\n",
        "7314 ['writing instructor', 'Sarah Canfield Fuller', False]\n",
        "7317"
       ]
      },
      {
       "output_type": "stream",
       "stream": "stdout",
       "text": [
        " ['public radio producer', 'Ian Pickus', False]\n",
        "7316 ['reporter and editor', 'Denis Theriault', False]\n",
        "7311 ['attorney', 'Chuck Narikiyo', ['23-1011', 'Lawyers', 'Attorney']]\n",
        "7310 ['freelance editor', 'KC Frodyma', False]\n",
        "7313 ['social worker', 'Andy Levin', False]\n",
        "7312 ['graduate student of cognitive neuroscience', 'Emily Barkley-Levenson', ['GradStu', 'Graduate student', 'Graduate student']]\n",
        "7030"
       ]
      },
      {
       "output_type": "stream",
       "stream": "stdout",
       "text": [
        " ['pastor', 'Tommy Jordan', ['21-2011', 'Clergy', 'Pastor']]\n",
        "7031 ['conservation technician', 'Megan Griffiths', ['25-4013', 'Museum Technicians and Conservators', 'Conservation Technician']]\n",
        "7032 ['stay-at-home mom', 'Kathleen Mikulis', False]\n",
        "7033 ['business student', 'Mike Wilson', False]\n",
        "7034 ['technical editor', 'Mary Van Tyne', ['27-3041', 'Editors', 'Technical Editor']]\n",
        "7035 ['mathematician', 'Ari Stern', ['15-2021', 'Mathematicians', 'Mathematician']]\n",
        "7036"
       ]
      },
      {
       "output_type": "stream",
       "stream": "stdout",
       "text": [
        " [\"farmers' market coordinator\", 'Pam Jones-Pigott', False]\n",
        "7037 ['business analyst', 'Reggie LaFond', ['13-1111', 'Management Analysts', 'Business Analyst']]\n",
        "7038 ['corporate lawyer', 'Jesse Cuevas', False]\n",
        "7039 ['trade magazine reporter and editor', 'Laura Spadanuta', False]\n",
        "9018 ['entertainment litigation attorney', 'Jessica Guard', False]\n",
        "9019 ['justice of the peace', 'Bruce Leaman', ['23-1021', 'Administrative Law Judges, Adjudicators, and Hearing Officers', 'Justice of The Peace']]\n",
        "7788"
       ]
      },
      {
       "output_type": "stream",
       "stream": "stdout",
       "text": [
        " ['baker and philosophy instructor', 'Matt Johnson', False]\n",
        "7789 ['human resources analyst', 'Derek Rolstone', False]\n",
        "7786 ['magazine editor', 'Mike Garrett', False]\n",
        "7787 ['editorial specialist', 'Andrea Korte', False]\n",
        "7784"
       ]
      },
      {
       "output_type": "stream",
       "stream": "stdout",
       "text": [
        " ['rural letter carrier', 'Nathan Fuller', False]\n",
        "7785 ['health insurance contract specialist', 'Cindy Vanderbur', False]\n",
        "7782 ['university public relations director', 'Amy Drittler', False]\n",
        "7783"
       ]
      },
      {
       "output_type": "stream",
       "stream": "stdout",
       "text": [
        " ['retired English professor', 'Carol Golliher', False]\n",
        "7780 ['librarian', 'Trish Little-Taylor', False]\n",
        "7781 ['professor of art history', 'Kerr Houston', False]\n",
        "1009 ['advertising copywriter', 'Kevin Gillogly', ['27-3043', 'Writers and Authors', 'Advertising Copywriter']]\n",
        "1008 ['temporary secretary', 'Erik Larsen', False]\n",
        "1007"
       ]
      },
      {
       "output_type": "stream",
       "stream": "stdout",
       "text": [
        " ['housewife', 'Isabel Leininger', False]\n",
        "1006 ['attorney', 'David Marcus', ['23-1011', 'Lawyers', 'Attorney']]\n",
        "1005 ['systems analyst', 'Freddye Silverman', False]\n",
        "1004 ['lumber salesman', 'Larry Minton', False]\n",
        "1003 ['shopping mall manager', 'Dennis Shirilla', False]\n",
        "1002 ['teacher', 'Susan Davis', ['MiscTeacher', 'Teacher', 'Teacher']]\n",
        "1001"
       ]
      },
      {
       "output_type": "stream",
       "stream": "stdout",
       "text": [
        " ['senior', 'Andrew McGeorge', False]\n",
        "1000 ['senior', 'Peji Ghanouni', False]\n",
        "4349 ['medical biller', 'Debbie Fawcett', False]\n",
        "4348 ['environmental scientist', 'Chris Schlekat', ['19-2041', 'Environmental Scientists and Specialists, Including Health', 'Environmental Scientist']]\n",
        "4347 ['research scientist', 'Paul Glaser', False]\n",
        "4346"
       ]
      },
      {
       "output_type": "stream",
       "stream": "stdout",
       "text": [
        " ['chemical engineer', 'Susan Mitchell', False]\n",
        "4345 ['university administrator', 'Jeff Spoeri', ['11-9033', 'Education Administrators, Postsecondary', 'University Administrator']]\n",
        "4344 ['graduate student of international relations', 'Mehrun Etebari', ['GradStu', 'Graduate student', 'Graduate student']]\n",
        "4343 ['law professor', 'Cathy Lanctot', False]\n",
        "4342 ['assistant professor', 'Chris Mazurek', False]\n",
        "4341 ['executive editor', 'Lucia Macro', False]\n",
        "4340 ['student', 'Kyle Brittain', False]\n",
        "8615"
       ]
      },
      {
       "output_type": "stream",
       "stream": "stdout",
       "text": [
        " ['from ...', 'Chub Feeney', False]\n",
        "8614 ['11-year-old fifth grader', 'Zo\\xeb Assasie', False]\n",
        "8617 ['from ...', 'Joe Pipp', False]\n",
        "8616 ['from ...', 'Leslie Johnson-Kelsey', False]\n",
        "8611"
       ]
      },
      {
       "output_type": "stream",
       "stream": "stdout",
       "text": [
        " ['creative director', 'Paul Hill', False]\n",
        "8610 ['product manager', 'Ellen Kaufman', False]\n",
        "8613 ['11-year-old sixth grader', 'Jonathan Shoemaker', False]\n",
        "8612"
       ]
      },
      {
       "output_type": "stream",
       "stream": "stdout",
       "text": [
        " ['12-year-old seventh grader', 'Erin Wenokur', False]\n",
        "8619 ['10-year-old fifth grader', 'Sallie Rawlston', False]\n",
        "8618 ['11-year-old sixth grader', 'John Wilkins', False]\n",
        "5719 ['technical editor', 'Laura Mitchell', ['27-3041', 'Editors', 'Technical Editor']]\n",
        "5718"
       ]
      },
      {
       "output_type": "stream",
       "stream": "stdout",
       "text": [
        " ['stay-at-home dad', 'Michael Vesely', False]\n",
        "5717 ['corporate trainer', 'Frank Lynch', ['13-1151', 'Training and Development Specialists', 'Corporate Trainer']]\n",
        "5716 ['administrative assistant', 'Katie Stillgebauer', False]\n",
        "5715 ['project coordinator', 'Robin Gardner', False]\n",
        "5714"
       ]
      },
      {
       "output_type": "stream",
       "stream": "stdout",
       "text": [
        " ['web development intern', 'Laura Chan', False]\n",
        "5713 ['economics student', 'David Vermillion', False]\n",
        "5712 ['eighth grade teacher', 'Danielle Lepore', ['MiscTeacher', 'Teacher', 'Teacher']]\n",
        "5711 ['design director', 'Jennifer Garman', False]\n",
        "5710 ['graduate student', 'Nathaniel Ellis', ['GradStu', 'Graduate student', 'Graduate student']]\n",
        "3305 ['strategic consultant', 'Mike Zarren', False]\n",
        "3575"
       ]
      },
      {
       "output_type": "stream",
       "stream": "stdout",
       "text": [
        " ['librarian', 'Will Porter', False]\n",
        "3574 ['homemaker', 'Jennifer Gotcher', False]\n",
        "3577 ['professor of education', 'Pat Cantor', False]\n",
        "7816 ['TV host', 'Dana Perino', False]\n",
        "7817"
       ]
      },
      {
       "output_type": "stream",
       "stream": "stdout",
       "text": [
        " ['Basketball Hall of Famer and all-time leading scorer', 'Kareem Abdul-Jabbar', False]\n",
        "7814 ['TV host', 'Chris Matthews', False]\n",
        "3576 ['prosecutor', 'Tom Gort', ['23-1011', 'Lawyers', 'Prosecutor']]\n",
        "7812 ['former press secretary', 'Robert Gibbs', False]\n",
        "7813"
       ]
      },
      {
       "output_type": "stream",
       "stream": "stdout",
       "text": [
        " ['aviation and regulation correspondent', \"Lizzie O'Leary\", False]\n",
        "7810 ['senior', 'Gabriela Gonzales', False]\n",
        "7811 ['sophomore', 'Evan Eschliman', False]\n",
        "3571 ['sociology professor', 'Carla Eastis', False]\n",
        "7818 ['TV host', 'Chris Wallace', False]\n",
        "3570 ['logistics manager', 'Ted Kenniston', ['11-3071', 'Transportation, Storage, and Distribution Managers', 'Logistics Manager']]\n",
        "3573"
       ]
      },
      {
       "output_type": "stream",
       "stream": "stdout",
       "text": [
        " ['Internet engineer', 'Albert Chi', False]\n",
        "3572 ['graduate student', 'Rachel Campbell', ['GradStu', 'Graduate student', 'Graduate student']]\n",
        "2666 ['office manager', 'Jeff Horn', False]\n",
        "2667 ['logistics management specialist', 'Jennifer Knierim', False]\n",
        "2664 ['graduate student', 'Wesley Eddings', ['GradStu', 'Graduate student', 'Graduate student']]\n",
        "2665"
       ]
      },
      {
       "output_type": "stream",
       "stream": "stdout",
       "text": [
        " ['jazz critic and author', 'Neil Tesser', False]\n",
        "2662 ['journalist', 'Benjamin Tomkins', False]\n",
        "2663 ['stay-at-home mom', 'Tracy Parrish Wolfe', False]\n",
        "2660 ['from Los Angeles, California...', 'Jack Campion', False]\n",
        "2661"
       ]
      },
      {
       "output_type": "stream",
       "stream": "stdout",
       "text": [
        " ['from Lomita, California...', 'Karen Muranaka', False]\n",
        "1829 ['congressional staffer', 'John Dickas', False]\n",
        "1828 ['reporter', 'Lisa Levenson', False]\n",
        "1825 ['Army captain', 'Kemp Chester', False]\n",
        "1824 ['civil engineer', 'Russell Redder', ['17-2051', 'Civil Engineers', 'Civil Engineer']]\n",
        "1827"
       ]
      },
      {
       "output_type": "stream",
       "stream": "stdout",
       "text": [
        " ['financial analyst', 'Mike Vethacke', False]\n",
        "1826 ['college professor', 'Deborah Danzis', False]\n",
        "1821 ['golf professional', 'Matt Anderson', False]\n",
        "1820 ['law student', 'Randy Juip', False]\n",
        "1823 ['high school teacher', 'Vicki Deniston Reed', ['MiscTeacher', 'Teacher', 'Teacher']]\n",
        "1822"
       ]
      },
      {
       "output_type": "stream",
       "stream": "stdout",
       "text": [
        " ['actor', 'Andy Lukich', False]\n",
        "2147 ['assistant attorney general', 'Kathy Damstra', ['23-1011', 'Lawyers', 'Assistant Attorney General']]\n",
        "2146 ['music director', 'Theresa Larson', ['27-2041', 'Music Directors and Composers', 'Music Director']]\n",
        "2413 ['elementary school teacher', 'Danielle Yermish', ['MiscTeacher', 'Teacher', 'Teacher']]\n",
        "2412 ['animal trainer', 'James Dew', ['39-2011', 'Animal Trainers', 'Animal Trainer']]\n",
        "4978 ['11-year-old', 'Kendra Pettis', False]\n",
        "4979"
       ]
      },
      {
       "output_type": "stream",
       "stream": "stdout",
       "text": [
        " ['11-year-old', 'Dmitry Spivak', False]\n",
        "2417 ['Teen Tournament winner', 'Sahir Islam', False]\n",
        "2140 ['police lieutenant', 'Eamon Blake', ['33-1012', 'First-Line Supervisors of Police and Detectives', 'Police Lieutenant']]\n",
        "4974 ['trainer', 'Pat Roche', False]\n",
        "4975"
       ]
      },
      {
       "output_type": "stream",
       "stream": "stdout",
       "text": [
        " ['12-year-old', 'Yoni Freund', False]\n",
        "4976 ['12-year-old', 'Davine Scarlett', False]\n",
        "4977 ['12-year-old', 'Robert Arshonsky', False]\n",
        "4970"
       ]
      },
      {
       "output_type": "stream",
       "stream": "stdout",
       "text": [
        " [\"from <i>The Rosie O'Donnell Show</i>...\", \"Rosie O'Donnell\", False]\n",
        "4971 ['construction manager', 'Dan Maggin', False]\n",
        "4972 ['journalist', 'Jennifer Goldberg', False]\n",
        "4973 ['attorney', 'Nan Reiner', ['23-1011', 'Lawyers', 'Attorney']]\n",
        "1920"
       ]
      },
      {
       "output_type": "stream",
       "stream": "stdout",
       "text": [
        " ['school counselor', 'Debra Keil', False]\n",
        "1921 ['state agency director', 'Roger Goodman', False]\n",
        "3274 ['real estate agent', 'Ted Hawks', False]\n",
        "3275"
       ]
      },
      {
       "output_type": "stream",
       "stream": "stdout",
       "text": [
        " ['sales administrator', 'Jane Giliberti', False]\n",
        "3272 ['retired investment banker', 'Ann Darby', False]\n",
        "1925 ['homemaker', 'Barbara Tarlau', False]\n",
        "3270 ['tour operator', 'Wendy Ball', False]\n",
        "3271"
       ]
      },
      {
       "output_type": "stream",
       "stream": "stdout",
       "text": [
        " ['computer network administrator', 'Tony Kollath', False]\n",
        "1928 ['psychologist', 'Laura Brown', False]\n",
        "1929 ['musician', 'John Hurst', ['27-2042', 'Musicians and Singers', 'Musician']]\n",
        "3278 ['project manager', 'Cindy Peters', False]\n",
        "3279 ['TV news producer', 'Kelly Isenor', False]\n",
        "1986"
       ]
      },
      {
       "output_type": "stream",
       "stream": "stdout",
       "text": [
        " ['recent law school graduate', 'Anne Cichocki', False]\n",
        "24 ['commercial real estate executive', 'Arthur Gandolfi', False]\n",
        "25"
       ]
      },
      {
       "output_type": "stream",
       "stream": "stdout",
       "text": [
        " ['loan accounting clerk', 'Steve Reynolds', False]\n",
        "26 ['bookstore supervisor', 'Seth Alcorn', False]\n",
        "3319 ['milk plant lab technician', 'Jason Aucker', False]\n",
        "3318 ['student', 'Jeremy Walker', False]\n",
        "27"
       ]
      },
      {
       "output_type": "stream",
       "stream": "stdout",
       "text": [
        " ['writer', 'Tom Walsh', False]\n",
        "5489 ['accountant', 'Tom Morrison', ['13-2011', 'Accountants and Auditors', 'Accountant']]\n",
        "5488 ['productivity engineer', 'Amanda Glaser', False]\n",
        "3311 ['Internet software developer', 'Alexandra Dixon', False]\n",
        "5486"
       ]
      },
      {
       "output_type": "stream",
       "stream": "stdout",
       "text": [
        " ['university lecturer', 'Kevin Finn', False]\n",
        "5485 ['library media specialist', 'Meredith Robbins', ['25-9011', 'Audio-Visual and Multimedia Collections Specialists', 'Library Media Specialist']]\n",
        "5484 ['freelance director', 'Michael Jaeger', False]\n",
        "5483 ['compensation analyst', 'Denele Hamada', ['13-1141', 'Compensation, Benefits, and Job Analysis Specialists', 'Compensation Analyst']]\n",
        "5482 ['international sales manager', 'Liese Tamburrino', False]\n",
        "3317"
       ]
      },
      {
       "output_type": "stream",
       "stream": "stdout",
       "text": [
        " ['retail manager', 'Evan Jones', False]\n",
        "5480 ['writer', 'Christopher Mensel', False]\n",
        "22 ['college student', 'Keith Williams', False]\n",
        "5581 ['pediatric resident', 'Cory Bean', False]\n",
        "1984"
       ]
      },
      {
       "output_type": "stream",
       "stream": "stdout",
       "text": [
        " ['professor', 'Harvey Cormier', False]\n",
        "7515 ['antique textile and costume specialist', 'Leigh Wishner', False]\n",
        "60 ['12-year-old seventh grader', 'Emily Riippa', False]\n",
        "61"
       ]
      },
      {
       "output_type": "stream",
       "stream": "stdout",
       "text": [
        " ['11-year-old seventh grader', 'Nithya Kubendran', False]\n",
        "62 ['12-year-old seventh grader', 'Jake Houser', False]\n",
        "63 ['11-year-old eighth grader', 'Tamika Turner', False]\n",
        "64"
       ]
      },
      {
       "output_type": "stream",
       "stream": "stdout",
       "text": [
        " ['11-year-old sixth grader', 'Grace Thomas', False]\n",
        "65 ['12-year-old seventh grader', 'Josh Klein', False]\n",
        "66 ['12-year-old seventh grader', 'Alex Nutman', False]\n",
        "67"
       ]
      },
      {
       "output_type": "stream",
       "stream": "stdout",
       "text": [
        " ['12-year-old seventh grader', 'Edward Lee', False]\n",
        "68 ['12-year-old seventh grader', 'Lorna Johnson', False]\n",
        "1985 ['realtor', 'Darrell Garrison', False]\n",
        "508 ['part-time teacher', 'Nathan Aldrich', ['MiscTeacher', 'Teacher', 'Teacher']]\n",
        "509"
       ]
      },
      {
       "output_type": "stream",
       "stream": "stdout",
       "text": [
        " ['senior at the University of Texas at Austin', 'Chacko George', False]\n",
        "506 ['attorney', 'Brad Plovan', ['23-1011', 'Lawyers', 'Attorney']]\n",
        "507 ['energy resources scientist', 'Diane Fisher', False]\n",
        "504 ['bookseller', 'Phoebe Juel', False]\n",
        "505 ['teacher', 'Steve Berman', ['MiscTeacher', 'Teacher', 'Teacher']]\n",
        "502 ['library director', 'Harry Bork', False]\n",
        "503"
       ]
      },
      {
       "output_type": "stream",
       "stream": "stdout",
       "text": [
        " ['college instructor', 'Mark Picus', False]\n",
        "500 ['executive', 'Jeff Stewart', False]\n",
        "501 ['accountant', 'Michael Daunt', ['13-2011', 'Accountants and Auditors', 'Accountant']]\n",
        "1212 ['procurement manager', 'Gay Mollette', ['11-3061', 'Purchasing Managers', 'Procurement Manager']]\n",
        "1213 ['environmental specialist', 'Laura Henne', False]\n",
        "1210 ['asset manager', 'Tim Lorch', False]\n",
        "1211"
       ]
      },
      {
       "output_type": "stream",
       "stream": "stdout",
       "text": [
        " ['editor', 'Curtis Scott', False]\n",
        "1216 ['attorney', 'Glenn Salzman', ['23-1011', 'Lawyers', 'Attorney']]\n",
        "1217 ['aspiring writer', 'Donna Craig', False]\n",
        "1214 ['songwriter, vocalist, and graduate student', 'Alaric Smith', ['GradStu', 'Graduate student', 'Graduate student']]\n",
        "1215 ['insurance executive', 'Sally Donovan', False]\n",
        "638 ['police lieutenant', 'Frank Spangenberg', ['33-1012', 'First-Line Supervisors of Police and Detectives', 'Police Lieutenant']]\n",
        "639 ['high school principal', 'David Hillinck', ['11-9032', 'Education Administrators, Elementary and Secondary School', 'High School Principal']]\n",
        "1218"
       ]
      },
      {
       "output_type": "stream",
       "stream": "stdout",
       "text": [
        " ['horse shoer', 'Clark Adams', False]\n",
        "1219 ['radio broadcast producer', 'Steve Ostini', False]\n",
        "6521 ['part-time English professor', 'Leigh-Anne Marcellin', False]\n",
        "6520 ['attorney', 'Kimberly Jantz', ['23-1011', 'Lawyers', 'Attorney']]\n",
        "6523"
       ]
      },
      {
       "output_type": "stream",
       "stream": "stdout",
       "text": [
        " ['Ph.D. candidate', 'Shawna Brandle', False]\n",
        "6522 ['vacation rental manager', 'Ryan Swaim', False]\n",
        "6525 ['radiological technician', 'David Johnston', False]\n",
        "1983 ['lawyer', 'John Rivers', ['23-1011', 'Lawyers', 'Lawyer']]\n",
        "6527 ['base commander', 'Dave Belote', False]\n",
        "6526"
       ]
      },
      {
       "output_type": "stream",
       "stream": "stdout",
       "text": [
        " ['intellectual property lawyer', 'Kathleen Bursley', False]\n",
        "6529 ['biology student', 'Todd Ryan', False]\n",
        "6528 ['fund-raiser', 'Emily Brown', False]\n",
        "8266 ['museum guest relations manager', 'Lauren Girard', False]\n",
        "8267"
       ]
      },
      {
       "output_type": "stream",
       "stream": "stdout",
       "text": [
        " ['online book sales director', 'Jeff Weber', False]\n",
        "8260 ['cook', 'Joshua Simmons', False]\n",
        "8261 ['reading tutor', 'Rayma Haas', False]\n",
        "8262 ['sophomore', 'Vandana Madhavan', False]\n",
        "8263"
       ]
      },
      {
       "output_type": "stream",
       "stream": "stdout",
       "text": [
        " ['junior', 'Bryan Fagan', False]\n",
        "8276 ['associate program manager', 'Mary Jo Shoop', False]\n",
        "1980 ['engineer', 'Robb Borland', False]\n",
        "3869"
       ]
      },
      {
       "output_type": "stream",
       "stream": "stdout",
       "text": [
        " ['administrative assistant', 'Matt Corcoran', False]\n",
        "3868 ['assistant professor', 'Deana Weibel-Swanson', False]\n",
        "3863 ['editor', 'Melissa Singer', False]\n",
        "3862"
       ]
      },
      {
       "output_type": "stream",
       "stream": "stdout",
       "text": [
        " ['optometrist and college professor', 'Elizabeth Hoppe', False]\n",
        "3861 ['high school teacher', 'Lynne Kenyon', ['MiscTeacher', 'Teacher', 'Teacher']]\n",
        "3860 ['operations research analyst', 'Ron Hankey', ['15-2031', 'Operations Research Analysts', 'Operations Research Analyst']]\n",
        "3867 ['travel agent', 'Margaret Cook', ['41-3041', 'Travel Agents', 'Travel Agent']]\n",
        "3866 ['pharmacy manager', 'Aron Lanza', False]\n",
        "3865 ['Catholic priest', 'Michael Kavanaugh', False]\n",
        "3864"
       ]
      },
      {
       "output_type": "stream",
       "stream": "stdout",
       "text": [
        " ['stay-at-home mom', 'Kathy Robertson', False]\n",
        "8408 ['senior', 'Jesse Roach', False]\n",
        "1981 ['administrative assistant', 'April Hahn', False]\n",
        "8400"
       ]
      },
      {
       "output_type": "stream",
       "stream": "stdout",
       "text": [
        " ['senior at Stanford University', 'Bill Driscoll', False]\n",
        "8401 ['junior at Bowdoin College', 'Cindy Cammarn', False]\n",
        "8402 ['sophomore', 'Nishanth Uli', False]\n",
        "8403"
       ]
      },
      {
       "output_type": "stream",
       "stream": "stdout",
       "text": [
        " ['junior at Wellesley College', 'Laura Rigge', False]\n",
        "8404 ['sophomore', 'Forrest Farjadian', False]\n",
        "8405 ['editor and writer', 'Noel Higgins', False]\n",
        "8406 ['toy and game marketer', 'Lee Gelber', False]\n",
        "8407"
       ]
      },
      {
       "output_type": "stream",
       "stream": "stdout",
       "text": [
        " ['college bookstore clerk', 'Sandi Engquist', False]\n",
        "7571 ['ethnomusicologist', 'James Ruchala', False]\n",
        "7570 ['family law attorney', 'Steven Maio', False]\n",
        "7573"
       ]
      },
      {
       "output_type": "stream",
       "stream": "stdout",
       "text": [
        " ['aspiring novelist and retired salesperson', 'Ann Thurlow', False]\n",
        "7572 ['community college instructor', 'Kendra Anspaugh', False]\n",
        "7575 ['attorney', 'Patti Clements', ['23-1011', 'Lawyers', 'Attorney']]\n",
        "7574 ['automotive service advisor', 'Sean McGuire', False]\n",
        "7577 ['operations manager', 'Mary Redling', ['11-1021', 'General and Operations Managers', 'Operations Manager']]\n",
        "7576"
       ]
      },
      {
       "output_type": "stream",
       "stream": "stdout",
       "text": [
        " ['park ranger', 'Clayton Hanson', False]\n",
        "7579 ['law student', 'Tim Gray', False]\n",
        "7578 ['math professor', 'Kiran Kedlaya', False]\n",
        "8814 ['medical student', 'Matthew Church', False]\n",
        "4152"
       ]
      },
      {
       "output_type": "stream",
       "stream": "stdout",
       "text": [
        " ['advertising account supervisor', 'Matt Caporaletti', False]\n",
        "4153 ['singer/songwriter', 'Cl\\xe9 Holly', False]\n",
        "4150 ['writer and story editor', 'Saran Fox', False]\n",
        "4151"
       ]
      },
      {
       "output_type": "stream",
       "stream": "stdout",
       "text": [
        " ['director of marketing', 'David Andignac', False]\n",
        "4156 ['marketing coordinator', 'Bill Frisch', False]\n",
        "4157 ['technical editor', 'Marianne Burnham', ['27-3041', 'Editors', 'Technical Editor']]\n",
        "4154 ['customer service representative', 'Russell Walks', False]\n",
        "4155"
       ]
      },
      {
       "output_type": "stream",
       "stream": "stdout",
       "text": [
        " ['print production manager', 'Bernadette Hanson', False]\n",
        "4158 ['opera singer', 'Jennifer Gaspar Schreiner', ['27-2042', 'Musicians and Singers', 'Opera Singer']]\n",
        "4159 ['waitress', 'Joanne Platt', False]\n",
        "5459 ['communications consultant', 'Kate Cell', False]\n",
        "8336 ['computer programmer', 'Mike Lease', ['15-1131', 'Computer Programmers', 'Computer Programmer']]\n",
        "8334 ['technical writer', 'Lisa Byatt', ['27-3042', 'Technical Writers', 'Technical Writer']]\n",
        "8218"
       ]
      },
      {
       "output_type": "stream",
       "stream": "stdout",
       "text": [
        " ['contracts assistant', 'Dean Flagg', False]\n",
        "8335 ['concierge', 'Mark Reed', ['39-6012', 'Concierges', 'Concierge']]\n",
        "8138 ['homemaker', 'Lee Ann Roberts', False]\n",
        "8338 ['DJ and bar trivia host', 'Jamey Wiglesworth', False]\n",
        "8339"
       ]
      },
      {
       "output_type": "stream",
       "stream": "stdout",
       "text": [
        " ['journalist', 'Michelle Martin', False]\n",
        "8748 ['technical editor', 'Melanie Hess', ['27-3041', 'Editors', 'Technical Editor']]\n",
        "5902 ['senior at Carnegie Mellon University', 'Jara Dorsey', False]\n",
        "5903"
       ]
      },
      {
       "output_type": "stream",
       "stream": "stdout",
       "text": [
        " ['senior at California State University-Bakersfield', 'Sarah Martin-Anderson', False]\n",
        "5900 ['freshman at Whitworth College', 'Katie Orphan', False]\n",
        "5901"
       ]
      },
      {
       "output_type": "stream",
       "stream": "stdout",
       "text": [
        " ['sophomore at Salt Lake Community College', 'Adam Kay', False]\n",
        "5906 ['sophomore at the University of Michigan', 'Pat Mobley', False]\n",
        "5907"
       ]
      },
      {
       "output_type": "stream",
       "stream": "stdout",
       "text": [
        " ['junior at the University of Cincinnati', 'Allison Hurley', False]\n",
        "5904 ['senior at Smith College', 'Stacy Lee', False]\n",
        "5905 ['junior at DePaul University', 'Brian Andrews', False]\n",
        "5908"
       ]
      },
      {
       "output_type": "stream",
       "stream": "stdout",
       "text": [
        " ['senior at Columbia University', 'Hikma Abdulghani', False]\n",
        "5909 ['junior at Azusa Pacific University', 'Corrie Loeffler', False]\n",
        "8745 ['actuary', 'Mike Shapiro', False]\n",
        "3489 ['student', 'Sage Andersen', False]\n",
        "3488 ['bartender', 'Russ Donnelly', ['35-3011', 'Bartenders', 'Bartender']]\n",
        "8744 ['tutor', 'Nina Emkin', ['25-3099', 'Teachers and Instructors, All Other', 'Tutor']]\n",
        "3481"
       ]
      },
      {
       "output_type": "stream",
       "stream": "stdout",
       "text": [
        " ['writer', 'Jason Lautenschleger', False]\n",
        "3480 ['librarian', 'Karen Lempert', False]\n",
        "3483 ['leisure travel consultant', 'Linda de Sosa', False]\n",
        "3482"
       ]
      },
      {
       "output_type": "stream",
       "stream": "stdout",
       "text": [
        " ['electrical engineer for the United States Air Force', 'Matt Scarpino', False]\n",
        "3485 ['analytical chemist', 'Bobby Padgett', ['19-2031', 'Chemists', 'Analytical Chemist']]\n",
        "3484 ['documentary filmmaker', \"Cindy D'Agostino\", False]\n",
        "3487 ['teacher', 'Maggie Bruen', ['MiscTeacher', 'Teacher', 'Teacher']]\n",
        "3486"
       ]
      },
      {
       "output_type": "stream",
       "stream": "stdout",
       "text": [
        " ['environmental consultant', 'Adam Brosius', False]\n",
        "4563 ['pediatric intensivist', 'Charlotte Glicksman', False]\n",
        "4562 ['tutor and tour guide', 'Nicole Steeves', False]\n",
        "4561 ['teacher', 'Allen Riedel', ['MiscTeacher', 'Teacher', 'Teacher']]\n",
        "4560"
       ]
      },
      {
       "output_type": "stream",
       "stream": "stdout",
       "text": [
        " ['data analyst', 'Kevin Bertsch', False]\n",
        "4567 ['computer programmer', 'Eddie White', ['15-1131', 'Computer Programmers', 'Computer Programmer']]\n",
        "4566 ['project manager', 'Howard Samson', False]\n",
        "4565 ['college professor', 'Kristen Welsh', False]\n",
        "4564"
       ]
      },
      {
       "output_type": "stream",
       "stream": "stdout",
       "text": [
        " ['professor of politics', 'Justin Crowe', False]\n",
        "4569 ['librarian', 'Shauna Redmond', False]\n",
        "4568 ['critical care nurse', 'Anna Rodriguez', False]\n",
        "6553 ['college instructor', 'Gay Hammond', False]\n",
        "6064"
       ]
      },
      {
       "output_type": "stream",
       "stream": "stdout",
       "text": [
        " ['actor', 'Joey Gordon-Levitt', False]\n",
        "6065 ['high school English teacher', 'Stephen Stiegel', ['MiscTeacher', 'Teacher', 'Teacher']]\n",
        "6066 ['attorney', 'Allison Lesh', ['23-1011', 'Lawyers', 'Attorney']]\n",
        "6067 ['actor', 'Benjamin Bratt', False]\n",
        "6060 ['actress', 'Sharon Lawrence', ['27-2011', 'Actors', 'Actress']]\n",
        "6061 ['television personality', 'Chris Hardwick', False]\n",
        "6062 ['actor', 'Benjamin Salisbury', False]\n",
        "6063 ['actress', 'Kirsten Dunst', ['27-2011', 'Actors', 'Actress']]\n",
        "6068"
       ]
      },
      {
       "output_type": "stream",
       "stream": "stdout",
       "text": [
        " ['actress', 'Carey Lowell', ['27-2011', 'Actors', 'Actress']]\n",
        "6069 ['actor', 'Sam Waterston', False]\n",
        "2604 ['graduate student', 'Michael Delgado', ['GradStu', 'Graduate student', 'Graduate student']]\n",
        "2605 ['restaurant and tour consultant', 'Isabelle Cullinen', False]\n",
        "2606 ['teacher of the visually impaired', 'Katie Sunseri', ['MiscTeacher', 'Teacher', 'Teacher']]\n",
        "2607 ['attorney', 'Susan Canavello', ['23-1011', 'Lawyers', 'Attorney']]\n",
        "2600"
       ]
      },
      {
       "output_type": "stream",
       "stream": "stdout",
       "text": [
        " ['from Florence, Kentucky...', 'Joe Kohake', False]\n",
        "2601 ['attorney', 'Paul Smith', ['23-1011', 'Lawyers', 'Attorney']]\n",
        "2602 ['attorney', 'David Tepper', ['23-1011', 'Lawyers', 'Attorney']]\n",
        "2603 ['mental health worker', 'Nancy Huettner', False]\n",
        "2608 ['Internet researcher', 'Jason Block', False]\n",
        "2609"
       ]
      },
      {
       "output_type": "stream",
       "stream": "stdout",
       "text": [
        " ['executive', 'Bob Kennelly', False]\n",
        "5451 ['college professor', 'Bob Demaree', False]\n",
        "7379 ['college teacher', 'Donald Burgo', ['MiscTeacher', 'Teacher', 'Teacher']]\n",
        "7378 ['television business affairs executive', 'Mark Leinwand', False]\n",
        "7373 ['graduate student in library science', 'Mary Anna Martell', ['GradStu', 'Graduate student', 'Graduate student']]\n",
        "7372"
       ]
      },
      {
       "output_type": "stream",
       "stream": "stdout",
       "text": [
        " ['lab assistant', 'Makeen Huda', False]\n",
        "7371 ['theatrical designer', 'Tim Kuehn', False]\n",
        "7370 ['communications director', 'Chris Hauck', False]\n",
        "7377"
       ]
      },
      {
       "output_type": "stream",
       "stream": "stdout",
       "text": [
        " ['professor of philosophy', 'Jay Rosenberg', False]\n",
        "7376 ['teacher', 'Danny Green', ['MiscTeacher', 'Teacher', 'Teacher']]\n",
        "7375 ['fish and wildlife technician', 'Amy Larimer', False]\n",
        "7374 ['Internet entrepreneur', 'Ben Sack', False]\n",
        "9032"
       ]
      },
      {
       "output_type": "stream",
       "stream": "stdout",
       "text": [
        " ['attorney and municipal judge', 'E.A. Srere', False]\n",
        "9033 ['programmer and analyst', 'Jake Bryant', False]\n",
        "9030 ['communications associate', 'Kathryn Schoenberger', False]\n",
        "9031"
       ]
      },
      {
       "output_type": "stream",
       "stream": "stdout",
       "text": [
        " ['associate director of annual giving', 'Matt Farr', False]\n",
        "9036 ['doctoral student', 'Kris Voss', False]\n",
        "9037 ['supply chain professional', 'Julia Collins', False]\n",
        "7018"
       ]
      },
      {
       "output_type": "stream",
       "stream": "stdout",
       "text": [
        " ['architect', 'Tim Campos', False]\n",
        "7019 ['stay-at-home mom', 'Suzanne Rorick', False]\n",
        "7016 ['writer for a non-profit environmental foundation', 'Carol Denny', False]\n",
        "7017"
       ]
      },
      {
       "output_type": "stream",
       "stream": "stdout",
       "text": [
        " ['psychiatrist', 'Dylan Payne', ['29-1066', 'Psychiatrists', 'Psychiatrist']]\n",
        "7014 ['assistant general manager of a minor league baseball team', 'Brad Rodriguez', False]\n",
        "7015"
       ]
      },
      {
       "output_type": "stream",
       "stream": "stdout",
       "text": [
        " ['Ph.D. candidate and teaching assistant', 'Alli Johnson', False]\n",
        "7012 ['preschool director', 'Sarah Rabin Spira', ['11-9031', 'Education Administrators, Preschool and Childcare Center/Program', 'Preschool Director']]\n",
        "5453 ['recent MBA graduate', 'Matt McPherson', False]\n",
        "7010 ['marketing director', 'Peter Landesman', ['11-2021', 'Marketing Managers', 'Marketing Director']]\n",
        "7011 ['attorney', 'Kelly Moore', ['23-1011', 'Lawyers', 'Attorney']]\n",
        "732 ['physician', 'Dale Barnes', False]\n",
        "5454"
       ]
      },
      {
       "output_type": "stream",
       "stream": "stdout",
       "text": [
        " ['business manager', 'Tom Guymon', False]\n",
        "8132 ['Latin teacher', 'Emily Gilmore', ['MiscTeacher', 'Teacher', 'Teacher']]\n",
        "753 ['elementary school principal', 'Barbara Walker', ['11-9032', 'Education Administrators, Elementary and Secondary School', 'Elementary School Principal']]\n",
        "3782 [\"publisher's representative\", 'Dianne Lindsay', False]\n",
        "751 ['child health advocate', 'Sara Mixter', False]\n",
        "750"
       ]
      },
      {
       "output_type": "stream",
       "stream": "stdout",
       "text": [
        " ['manufacturing operations specialist', 'Norm Burger', False]\n",
        "757 ['import-export agent', 'Yung-Chang Chi', False]\n",
        "756 ['software writer', 'Ryan Holznagel', False]\n",
        "755"
       ]
      },
      {
       "output_type": "stream",
       "stream": "stdout",
       "text": [
        " ['real estate broker', 'Bill Sloan', ['41-9021', 'Real Estate Brokers', 'Real Estate Broker']]\n",
        "3783 ['musician and teacher', 'Phil Cunneff', ['MiscTeacher', 'Teacher', 'Teacher']]\n",
        "759 ['biophysicist', 'Steve Buchthal', ['19-1021', 'Biochemists and Biophysicists', 'Biophysicist']]\n",
        "758 ['guidance counselor', 'Russ Woodford', False]\n",
        "3780 ['network engineer', 'Matt Myers', ['15-1143', 'Computer Network Architects', 'Network Engineer']]\n",
        "1804 ['meteorologist', 'Michael Falk', ['19-2021', 'Atmospheric and Space Scientists', 'Meteorologist']]\n",
        "2958 ['high school history teacher', 'Amy Kobrzynski', ['MiscTeacher', 'Teacher', 'Teacher']]\n",
        "2959 ['law student', 'Erik Best', False]\n",
        "738"
       ]
      },
      {
       "output_type": "stream",
       "stream": "stdout",
       "text": [
        " ['scheduling coordinator', 'Myron Meyer', False]\n",
        "2954 ['elementary school teacher', 'Shari Flynn', ['MiscTeacher', 'Teacher', 'Teacher']]\n",
        "2955 ['homemaker and artist', 'Julie Becker', False]\n",
        "2956 ['gardener', 'Rich Hastings', False]\n",
        "2957"
       ]
      },
      {
       "output_type": "stream",
       "stream": "stdout",
       "text": [
        " ['property custodian', 'Mary Beth Shetz', False]\n",
        "2950 ['technical writer', 'Ann Fletcher', ['27-3042', 'Technical Writers', 'Technical Writer']]\n",
        "2951 ['university researcher', 'Rob Donnelly', False]\n",
        "2952 ['lawyer', 'Paula Frome', ['23-1011', 'Lawyers', 'Lawyer']]\n",
        "1802 ['college writer', 'Amy Wilson', False]\n",
        "5344 ['teacher', 'Chris Pyle', ['MiscTeacher', 'Teacher', 'Teacher']]\n",
        "1024"
       ]
      },
      {
       "output_type": "stream",
       "stream": "stdout",
       "text": [
        " ['systems analyst', 'Kathy Donegan', False]\n",
        "5346 ['social worker', 'Marilyn Muller', False]\n",
        "1026 ['attorney', 'David Bagley', ['23-1011', 'Lawyers', 'Attorney']]\n",
        "5340 ['crime data specialist', 'Jim Stalley', False]\n",
        "1801 ['Ph.D. candidate', 'Sascha Dublin', False]\n",
        "5342 ['teacher', 'Liz Martin', ['MiscTeacher', 'Teacher', 'Teacher']]\n",
        "1022"
       ]
      },
      {
       "output_type": "stream",
       "stream": "stdout",
       "text": [
        " ['housewife & student', 'Gretchen Pruett', False]\n",
        "3785 ['civil rights lawyer', 'Renee Paradis', False]\n",
        "1029 ['attorney', 'Jamie Orenstein', ['23-1011', 'Lawyers', 'Attorney']]\n",
        "5349 ['custom motorcycle shop owner', 'Ray Burns', False]\n",
        "5456 ['teacher', 'Dennis McGraw', ['MiscTeacher', 'Teacher', 'Teacher']]\n",
        "8990"
       ]
      },
      {
       "output_type": "stream",
       "stream": "stdout",
       "text": [
        " ['dental hygenist', 'Lorraine Miller', False]\n",
        "4365 ['telecom consultant', 'Sam Raman', False]\n",
        "4364 ['secretary', 'Natalia Fuentes', False]\n",
        "4367 ['payroll accountant', 'Logan Beckwith', False]\n",
        "4366 ['middle school teacher', 'Suzanne Doran', ['MiscTeacher', 'Teacher', 'Teacher']]\n",
        "4361"
       ]
      },
      {
       "output_type": "stream",
       "stream": "stdout",
       "text": [
        " ['locomotive engineer', 'Steven Wyatt', False]\n",
        "4360 ['high school teacher', 'Barbara Krause', ['MiscTeacher', 'Teacher', 'Teacher']]\n",
        "4363 ['graduate student', \"Todd O'Bryan\", ['GradStu', 'Graduate student', 'Graduate student']]\n",
        "4362 ['middle school teacher', 'Liz Colker', ['MiscTeacher', 'Teacher', 'Teacher']]\n",
        "4369 ['composer', 'Doug Hicton', ['27-2041', 'Music Directors and Composers', 'Composer']]\n",
        "4368 ['student', 'Cliff Galiher', False]\n",
        "5457 ['writer and director of religious education', 'Valerie Schultz', False]\n",
        "8995 ['writer', 'Bryce Maritano', False]\n",
        "3108"
       ]
      },
      {
       "output_type": "stream",
       "stream": "stdout",
       "text": [
        " ['junior', 'Nicole Reimer', False]\n",
        "3109 ['sophomore', 'Colleen Mahoney', False]\n",
        "3104 ['senior', 'Ryan Ballangee', False]\n",
        "3105 ['senior', 'Jonathan Reinstein', False]\n",
        "3106 ['junior', 'Katherine Bushey', False]\n",
        "3107"
       ]
      },
      {
       "output_type": "stream",
       "stream": "stdout",
       "text": [
        " ['senior', 'Logan Bell', False]\n",
        "3100 ['sophomore', 'Paige Feldman', False]\n",
        "3101 ['junior', 'Caley Anderson', False]\n",
        "3102 ['sophomore', 'Farah Zolghadr', False]\n",
        "3103 ['senior', 'Misti Coronel', False]\n",
        "8673"
       ]
      },
      {
       "output_type": "stream",
       "stream": "stdout",
       "text": [
        " ['fundraiser', 'Larry Naftulin', False]\n",
        "8672 ['optometrist', 'Charlie Feldman', ['29-1041', 'Optometrists', 'Optometrist']]\n",
        "8671 ['freelance writer', \"Joseph D'Hippolito\", False]\n",
        "8670 ['waitress', 'Sue Betos', False]\n",
        "5 ['poet', 'Bob Watts', ['27-3043', 'Writers and Authors', 'Poet']]\n",
        "8676"
       ]
      },
      {
       "output_type": "stream",
       "stream": "stdout",
       "text": [
        " ['senior marketing representative', 'Brian Wangsgard', False]\n",
        "8675 ['writer and businessman', 'Mitch Dorfman', False]\n",
        "8674 ['medical technician', 'Darbi Henderson', False]\n",
        "8679"
       ]
      },
      {
       "output_type": "stream",
       "stream": "stdout",
       "text": [
        " ['administrative assistant', 'Lindi Bauman', False]\n",
        "8678 ['deputy district attorney', 'Bill Schwartz', False]\n",
        "4093 ['environmental attorney', 'Robert Oakley', ['23-1011', 'Lawyers', 'Environmental Attorney']]\n",
        "4092 ['director of Internet development', 'Brian Siegel', False]\n",
        "4091"
       ]
      },
      {
       "output_type": "stream",
       "stream": "stdout",
       "text": [
        " ['inventory control analyst', 'Tim Barley', False]\n",
        "4090 ['attorney', 'Kathy Holden', ['23-1011', 'Lawyers', 'Attorney']]\n",
        "4097 ['technical data analyst', 'Celiane Levy Reiner', False]\n",
        "4096 ['Ph.D. student in mechanical engineering', 'Laura Schaefer', False]\n",
        "4095"
       ]
      },
      {
       "output_type": "stream",
       "stream": "stdout",
       "text": [
        " ['operations consultant', 'John Boyle', False]\n",
        "4094 ['advertising producer', 'Emily Evans', False]\n",
        "4099 ['patent attorney', 'Sharon Fenick', False]\n",
        "4098 ['OB/GYN intern', 'Mark Sewell', False]\n",
        "5735"
       ]
      },
      {
       "output_type": "stream",
       "stream": "stdout",
       "text": [
        " ['college student', 'Erik Townsend', False]\n",
        "5734 ['high school teacher', 'Kori Tyler', ['MiscTeacher', 'Teacher', 'Teacher']]\n",
        "5737 ['bookseller', 'Jack McPherson', False]\n",
        "5736 ['early childhood educator', 'Ellen Gluckman', False]\n",
        "5731"
       ]
      },
      {
       "output_type": "stream",
       "stream": "stdout",
       "text": [
        " ['human resources specialist', 'Alison Miester', False]\n",
        "5730 ['AmeriCorps service member', 'Victoria Harkavy', False]\n",
        "5733 ['coal miner and outreach worker', 'Rick Meneskie', False]\n",
        "5732 ['management consultant', 'Ranjan Ramchandani', ['13-1111', 'Management Analysts', 'Management Consultant']]\n",
        "5739"
       ]
      },
      {
       "output_type": "stream",
       "stream": "stdout",
       "text": [
        " ['software process engineer', 'Rich Levine', False]\n",
        "5738 ['systems engineer', 'Penny Frisbie', False]\n",
        "1564 ['attorney', 'David Smith', ['23-1011', 'Lawyers', 'Attorney']]\n",
        "8097 ['public librarian', 'Mandy Tuthill', False]\n",
        "8096 ['pathologist', 'Joel Alderson', ['29-1069', 'Physicians and Surgeons, All Other', 'Pathologist']]\n",
        "8095"
       ]
      },
      {
       "output_type": "stream",
       "stream": "stdout",
       "text": [
        " ['school office clerk', 'Rebecca Neese', False]\n",
        "8094 ['non-profit assistant director of donor relations', 'Josh Frumkin', False]\n",
        "8093"
       ]
      },
      {
       "output_type": "stream",
       "stream": "stdout",
       "text": [
        " ['computer security researcher', 'Skylar Rampersaud', False]\n",
        "8092 ['university fundraiser', 'Noah Rachels', False]\n",
        "8091 ['logistics director', 'Mike McCormick', False]\n",
        "8090 ['lower schoolteacher', 'Melanie Yulman', ['MiscTeacher', 'Teacher', 'Teacher']]\n",
        "1565"
       ]
      },
      {
       "output_type": "stream",
       "stream": "stdout",
       "text": [
        " ['senior', 'Lauren Romero', False]\n",
        "8099 ['analytic software sales executive', 'Jan Rishoi', False]\n",
        "8098 ['curriculum coordinator', 'Rachel Shuman', ['25-9031', 'Instructional Coordinators', 'Curriculum Coordinator']]\n",
        "8898 ['architect', 'Nick Pyle', False]\n",
        "5239"
       ]
      },
      {
       "output_type": "stream",
       "stream": "stdout",
       "text": [
        " ['law student', 'Jeff Richmond', False]\n",
        "6659 ['sophomore', 'Danny Vopava', False]\n",
        "6658 ['director and actor', 'Brian G. Hartz', False]\n",
        "6657"
       ]
      },
      {
       "output_type": "stream",
       "stream": "stdout",
       "text": [
        " ['bellman', 'Daniel Black', False]\n",
        "6656 ['consumerologist and writer', 'Francie Futterman', False]\n",
        "6655"
       ]
      },
      {
       "output_type": "stream",
       "stream": "stdout",
       "text": [
        " ['speech language pathologist', 'Jordan Piel', False]\n",
        "6654 ['education consultant and musician', 'Sonja Srinivasan', False]\n",
        "6653 ['legal assistant', 'Mary Gabe', ['23-2011', 'Paralegals and Legal Assistants', 'Legal Assistant']]\n",
        "6652"
       ]
      },
      {
       "output_type": "stream",
       "stream": "stdout",
       "text": [
        " ['knowledge base coordinator', 'Matt Perez', False]\n",
        "6651 ['graduate student and musician', 'Rebecca Dixon', ['GradStu', 'Graduate student', 'Graduate student']]\n",
        "6650 ['art historian', 'Kelly Lathrop', False]\n",
        "6385 ['reporter and editor', 'Lynn Stanton', False]\n",
        "6384"
       ]
      },
      {
       "output_type": "stream",
       "stream": "stdout",
       "text": [
        " ['business school marketing director', 'Elizabeth Barrett', False]\n",
        "6387 ['financial analyst', 'Billy Buchsbaum', False]\n",
        "6386 ['data quality consultant', 'Lance Higgins', False]\n",
        "6381"
       ]
      },
      {
       "output_type": "stream",
       "stream": "stdout",
       "text": [
        " ['bankruptcy clerk at a law firm', 'Michael Memberg', False]\n",
        "6380 ['radio frequency engineer', 'Josh Forsythe', False]\n",
        "6383 ['political consultant', 'Ben Flaccus', ['19-3094', 'Political Scientists', 'Political Consultant']]\n",
        "6382 ['marketing manager', 'Deborah White', False]\n",
        "6389"
       ]
      },
      {
       "output_type": "stream",
       "stream": "stdout",
       "text": [
        " ['professor and scientist', 'Kim Taylor', False]\n",
        "6388 ['receptionist and editor', 'Kristine Beck', False]\n",
        "2381 ['pediatrician', 'Michael Cabana', False]\n",
        "2380 ['Spanish instructor', \"Valerie O'Brien\", False]\n",
        "2383"
       ]
      },
      {
       "output_type": "stream",
       "stream": "stdout",
       "text": [
        " ['library assistant', 'Steve Bingo', ['43-4121', 'Library Assistants, Clerical', 'Library Assistant']]\n",
        "2382 ['sales and marketing consultant', 'Andrea Irvin', False]\n",
        "2385 ['retired attorney', 'Margaret J. McCarthy', False]\n",
        "2384 ['computer programmer', 'Alex Hunnicutt', ['15-1131', 'Computer Programmers', 'Computer Programmer']]\n",
        "2387 ['student', 'Debra Mack', False]\n",
        "2386"
       ]
      },
      {
       "output_type": "stream",
       "stream": "stdout",
       "text": [
        " ['sociologist', 'Erika Austin', ['19-3041', 'Sociologists', 'Sociologist']]\n",
        "2389 ['musician', 'Theresa Kenny', ['27-2042', 'Musicians and Singers', 'Musician']]\n",
        "2388 ['federal prosecutor', 'Brent Tabacchi', False]\n",
        "1849 ['administrative assistant', 'Merlin DeTardo', False]\n",
        "1848 ['costume designer and historian', 'Connie Campbell', False]\n",
        "1843 ['graduate student', 'Doug Higbee', ['GradStu', 'Graduate student', 'Graduate student']]\n",
        "1842"
       ]
      },
      {
       "output_type": "stream",
       "stream": "stdout",
       "text": [
        " ['wife and mother', 'Danielle Cast', False]\n",
        "1841 ['librarian', 'Melissa Ahart', False]\n",
        "1840 ['chemical engineer', 'Tom Ricketts', False]\n",
        "1847 ['doctor', 'Adam Posner', False]\n",
        "1846"
       ]
      },
      {
       "output_type": "stream",
       "stream": "stdout",
       "text": [
        " ['clinical research coordinator', 'Amy Hummel', False]\n",
        "1845 ['middle school teacher', 'Brian Lamb', ['MiscTeacher', 'Teacher', 'Teacher']]\n",
        "1844 ['artist', 'Raena de Silvia', False]\n",
        "3250 ['law librarian', 'Dorene Smith', ['25-4021', 'Librarians', 'Law Librarian']]\n",
        "4958 ['facilities management specialist', 'Frank McNeil', False]\n",
        "4959 ['homemaker', 'Mary McCarthy', False]\n",
        "2169"
       ]
      },
      {
       "output_type": "stream",
       "stream": "stdout",
       "text": [
        " ['economics instructor', 'Alex Huemer', False]\n",
        "2168 ['homemaker', 'Joan Belen', False]\n",
        "3251 ['media consultant and indepedent producer', 'Willie Chriesman', False]\n",
        "4952 ['junior', 'Emily Deveau', False]\n",
        "4953 ['lawyer', 'Jared Eisenstat', ['23-1011', 'Lawyers', 'Lawyer']]\n",
        "4950"
       ]
      },
      {
       "output_type": "stream",
       "stream": "stdout",
       "text": [
        " ['senior', 'Erin Gell', False]\n",
        "4951 ['junior', 'Scott Duquette', False]\n",
        "2161 ['video professor and filmmaker', 'Adam Lipsius', False]\n",
        "4957 ['physician assistant', 'Ameet Shukla', False]\n",
        "4954"
       ]
      },
      {
       "output_type": "stream",
       "stream": "stdout",
       "text": [
        " ['housewife and volunteer', 'Mary Kay Schmidt', False]\n",
        "4955 ['human resources administrator', 'Michael Vanderbilt', False]\n",
        "3253 ['auditorium manager', 'Nathan Crane', False]\n",
        "3254 ['physician', 'Michael Driscoll', False]\n",
        "3255"
       ]
      },
      {
       "output_type": "stream",
       "stream": "stdout",
       "text": [
        " ['12-year-old', 'Gracie Studdard', False]\n",
        "3966 ['student', 'Ben Taylor', False]\n",
        "3298 ['e-business consultant', 'Paul Sharman', False]\n",
        "3299 ['human resources manager', 'Meaghan Scollins', False]\n",
        "5139"
       ]
      },
      {
       "output_type": "stream",
       "stream": "stdout",
       "text": [
        " ['grad student', 'Felice Bogus', False]\n",
        "5138 ['editor', 'Len Krisak', False]\n",
        "5137 ['personnel manager', 'Jim Morgan', ['11-3121', 'Human Resources Managers', 'Personnel Manager']]\n",
        "3295 ['comedian and actor', 'Jeff Hendrick', False]\n",
        "5135 ['substitute teacher', 'Mark Wales', ['MiscTeacher', 'Teacher', 'Teacher']]\n",
        "3297 ['screenwriter', 'Barry Levine', False]\n",
        "3290"
       ]
      },
      {
       "output_type": "stream",
       "stream": "stdout",
       "text": [
        " ['veterinary receptionist', 'Becky Bowles', False]\n",
        "5132 ['administrative assistant', 'Rory Gillingham', False]\n",
        "3292 ['teacher of global studies', 'Robin Jacobsen', ['MiscTeacher', 'Teacher', 'Teacher']]\n",
        "5130 ['registered nurse', 'Linda Roberts', ['29-1141', 'Registered Nurses', 'Registered Nurse']]\n",
        "6891 ['account executive', 'Matthew Levine', False]\n",
        "6890 ['insurance agent', 'Janet Bradlow', ['41-3021', 'Insurance Sales Agents', 'Insurance Agent']]\n",
        "6893"
       ]
      },
      {
       "output_type": "stream",
       "stream": "stdout",
       "text": [
        " ['geriatric social worker', 'Stefanie Small', False]\n",
        "6892 ['managing editor', 'Lisa Cerrato', False]\n",
        "6895 ['legal case assistant', 'Steven Milton', False]\n",
        "6894"
       ]
      },
      {
       "output_type": "stream",
       "stream": "stdout",
       "text": [
        " ['grad student and European History teaching assistant', 'Katie Bruton', False]\n",
        "6897 ['behavior interventionist', 'Cara Colville', False]\n",
        "6896 ['stage actor and product specialist', 'Christopher Scheeren', False]\n",
        "6899"
       ]
      },
      {
       "output_type": "stream",
       "stream": "stdout",
       "text": [
        " ['architect', 'Dave Edwards', False]\n",
        "6898 ['biotech consultant', 'Jeff Gordon', False]\n",
        "5234 ['librarian', 'Sarah White', False]\n",
        "1278"
       ]
      },
      {
       "output_type": "stream",
       "stream": "stdout",
       "text": [
        " ['college academic specialist', \"Sara d'Anjou\", False]\n",
        "1279 ['accelerator operator', 'Jeff Cuffee', False]\n",
        "618 ['professor', 'Dan Melia', False]\n",
        "619"
       ]
      },
      {
       "output_type": "stream",
       "stream": "stdout",
       "text": [
        " ['instructional designer', 'Robin Carroll', False]\n",
        "1270 ['production assistant', 'Harmony Jones', False]\n",
        "1271 ['attorney and educator', 'Pat Pauken', False]\n",
        "1272"
       ]
      },
      {
       "output_type": "stream",
       "stream": "stdout",
       "text": [
        " ['medical resident', 'Chris Weltz', False]\n",
        "1273 ['recording engineer', 'Leo Gillis', ['27-4014', 'Sound Engineering Technicians', 'Recording Engineer']]\n",
        "1274 ['multimedia consultant', 'Kecia Lynn', False]\n",
        "1275 ['college student', 'Mark Torma', False]\n",
        "1276 ['attorney', 'Ruth Thompson', ['23-1011', 'Lawyers', 'Attorney']]\n",
        "1277 ['computer scientist', 'Ted Senator', ['15-1111', 'Computer and Information Research Scientists', 'Computer Scientist']]\n",
        "8798"
       ]
      },
      {
       "output_type": "stream",
       "stream": "stdout",
       "text": [
        " ['librarian at the Library of Congress', 'Brock Thompson', False]\n",
        "8799 ['paraeducator', 'Kaya Blauvelt', ['25-9041', 'Teacher Assistants', 'Paraeducator']]\n",
        "8248 ['education finance consultant', 'Tish Koch', False]\n",
        "8249 ['financial analyst', 'Jim Dompkowski', False]\n",
        "8242"
       ]
      },
      {
       "output_type": "stream",
       "stream": "stdout",
       "text": [
        " ['digital analyst', 'Mike Munley', False]\n",
        "8243 ['business analyst', 'Lindsey Chismark', ['13-1111', 'Management Analysts', 'Business Analyst']]\n",
        "8240 ['insurance specialist', 'Lloyd Baum', False]\n",
        "8241"
       ]
      },
      {
       "output_type": "stream",
       "stream": "stdout",
       "text": [
        " ['associate professor of management communications', 'Yellowlees Douglas', False]\n",
        "8246 ['librarian', 'Ann Hutcheson', False]\n",
        "8247 ['web publisher', 'Barrett Evans', False]\n",
        "8244"
       ]
      },
      {
       "output_type": "stream",
       "stream": "stdout",
       "text": [
        " ['writer and library services assistant', 'Ben Dwertman', False]\n",
        "8245 ['meeting planner', 'Michael Keller', False]\n",
        "3333 ['from California...', 'Paula Rice', False]\n",
        "1491"
       ]
      },
      {
       "output_type": "stream",
       "stream": "stdout",
       "text": [
        " ['dentist', 'Jeff Frankel', False]\n",
        "1492 ['Ph.D. candidate', 'Mickie Grover', False]\n",
        "1493 ['computer analyst', 'Larry McKnight', False]\n",
        "3337"
       ]
      },
      {
       "output_type": "stream",
       "stream": "stdout",
       "text": [
        " ['computer systems administrator', 'Kristi Barksdale', False]\n",
        "1495 ['reservation sales representative', 'Fritz Gray', False]\n",
        "8426"
       ]
      },
      {
       "output_type": "stream",
       "stream": "stdout",
       "text": [
        " ['human resources director', 'Chris Long', False]\n",
        "8427 ['electrical engineer', 'Jason Parker', ['17-2071', 'Electrical Engineers', 'Electrical Engineer']]\n",
        "8424 ['government affairs director', 'Julia Lent', False]\n",
        "8425 ['property manager', 'Catherine Radford', ['11-9141', 'Property, Real Estate, and Community Association Managers', 'Property Manager']]\n",
        "8422 ['professor', 'Tom Nichols', False]\n",
        "1496 ['substitute teacher and library clerk', 'Jeanne Perrier', ['MiscTeacher', 'Teacher', 'Teacher']]\n",
        "8420 ['teacher', 'Lois Murray', ['MiscTeacher', 'Teacher', 'Teacher']]\n",
        "8421"
       ]
      },
      {
       "output_type": "stream",
       "stream": "stdout",
       "text": [
        " ['reporter', 'Jim Proulx', False]\n",
        "3334 ['account manager', 'Susan Caylor', False]\n",
        "8428 ['freelance researcher and administrative assistant', 'Elizabeth McCullough', False]\n",
        "8429 ['graduate student in political science', 'Tobias Harris', ['GradStu', 'Graduate student', 'Graduate student']]\n",
        "5469 ['social studies teacher', \"Luciano D'Orazio\", ['MiscTeacher', 'Teacher', 'Teacher']]\n",
        "1499"
       ]
      },
      {
       "output_type": "stream",
       "stream": "stdout",
       "text": [
        " ['psychotherapist & writer', 'Mark Hein', False]\n",
        "3595 ['composer', 'Doug Hicton', ['27-2041', 'Music Directors and Composers', 'Composer']]\n",
        "7599 ['writer for TV and stage', 'Boomie Aglietti', False]\n",
        "7598 ['psychiatrist', 'Ellen Tabor', ['29-1066', 'Psychiatrists', 'Psychiatrist']]\n",
        "7597 ['cattle ranch hand', 'Chuck Rezac', False]\n",
        "7596"
       ]
      },
      {
       "output_type": "stream",
       "stream": "stdout",
       "text": [
        " ['music supervisor', 'Drew Bayers', False]\n",
        "7595 ['web designer', 'Nicole Willson', ['15-1134', 'Web Developers', 'Web Designer']]\n",
        "5039 ['from <i>Cybill</i>...', 'Alicia Witt', False]\n",
        "7593 ['U.S. Army captain', 'Dan Kull', False]\n",
        "7592 ['event planner', 'Tony Hightower', ['13-1121', 'Meeting, Convention, and Event Planners', 'Event Planner']]\n",
        "7591"
       ]
      },
      {
       "output_type": "stream",
       "stream": "stdout",
       "text": [
        " ['social worker', 'Jennifer Bernstein', False]\n",
        "7590 ['engineer', 'Ed Toutant', False]\n",
        "3599 ['human resources specialist', 'Tony Fernandez-Vinas', False]\n",
        "3598"
       ]
      },
      {
       "output_type": "stream",
       "stream": "stdout",
       "text": [
        " ['historic preservation officer', 'Ashley Tongret', False]\n",
        "4138 ['executive assistant', 'Cris Christopher', ['43-6011', 'Executive Secretaries and Executive Administrative Assistants', 'Executive Assistant']]\n",
        "4139 ['marketing manager', 'Jeff Wohl', False]\n",
        "4130 ['social studies teacher', 'Mary Near', ['MiscTeacher', 'Teacher', 'Teacher']]\n",
        "4131 ['graduate student', 'Kelly Brumbelow', ['GradStu', 'Graduate student', 'Graduate student']]\n",
        "4132 ['teacher', 'Dorothy Gilmartin', ['MiscTeacher', 'Teacher', 'Teacher']]\n",
        "4133 ['software testing manager', 'Keli Jackson', False]\n",
        "4134"
       ]
      },
      {
       "output_type": "stream",
       "stream": "stdout",
       "text": [
        " ['cameraman', 'Andrew Millians', False]\n",
        "4135 ['web designer', 'Jennifer Yuan', ['15-1134', 'Web Developers', 'Web Designer']]\n",
        "4136 ['Ph.D. student and literature instructor', 'Megan Bygness', False]\n",
        "4137 ['paralegal', 'Rick Kent', ['23-2011', 'Paralegals and Legal Assistants', 'Paralegal']]\n",
        "3841 ['editorial assistant', 'Kathryn Bower', ['43-9081', 'Proofreaders and Copy Markers', 'Editorial Assistant']]\n",
        "5693 ['economist', 'Mikey Stewart', ['19-3011', 'Economists', 'Economist']]\n",
        "3843"
       ]
      },
      {
       "output_type": "stream",
       "stream": "stdout",
       "text": [
        " ['professor of English', 'Marcia Noe', False]\n",
        "5691 ['librarian', 'Deb DeGeorge', False]\n",
        "3845 ['probation officer', 'Shane Glynn', ['21-1092', 'Probation Officers and Correctional Treatment Specialists', 'Probation Officer']]\n",
        "5697 ['derivatives trader', 'Todd Simkin', False]\n",
        "3847"
       ]
      },
      {
       "output_type": "stream",
       "stream": "stdout",
       "text": [
        " ['collection representative', 'Helen Bracken', False]\n",
        "5695 ['respiratory therapist', 'Eric Tengler', ['29-1126', 'Respiratory Therapists', 'Respiratory Therapist']]\n",
        "3849 ['tax analyst', 'Jesse Berry', False]\n",
        "3848 ['art services provider', 'Bill Dougherty', False]\n",
        "5698"
       ]
      },
      {
       "output_type": "stream",
       "stream": "stdout",
       "text": [
        " ['writer and stay-at-home mom', 'Gabrielle DeBarros', False]\n",
        "5699 ['teleport maintenance engineer', 'Rob Hicks', False]\n",
        "7913 ['marketing consultant', 'Charlie Orlowek', ['13-1161', 'Market Research Analysts and Marketing Specialists', 'Marketing Consultant']]\n",
        "7910 ['stay-at-home mom', 'Jennifer Morgan', False]\n",
        "5968 ['researcher', 'James Holst', False]\n",
        "5969"
       ]
      },
      {
       "output_type": "stream",
       "stream": "stdout",
       "text": [
        " ['research assistant', 'Louisa Kreider', False]\n",
        "5960 ['tour planner', 'Kelly Dobbin', False]\n",
        "5961 ['high school history teacher', 'Eric LaForest', ['MiscTeacher', 'Teacher', 'Teacher']]\n",
        "5962 ['electrical engineer', 'Melissa Hunter', ['17-2071', 'Electrical Engineers', 'Electrical Engineer']]\n",
        "5963 ['rental car manager', 'Jeff Mangum', False]\n",
        "5964 ['non-profit fundraiser', 'Peter Murray', False]\n",
        "5965"
       ]
      },
      {
       "output_type": "stream",
       "stream": "stdout",
       "text": [
        " ['retired software specialist', 'Becky Anderson', False]\n",
        "5966 ['automotive restoration technician', 'Rick Robbins', False]\n",
        "5967 ['government contractor', 'Priscilla Ball', False]\n",
        "4549"
       ]
      },
      {
       "output_type": "stream",
       "stream": "stdout",
       "text": [
        " ['freelance typographer', 'Melody Keller', False]\n",
        "4548 ['writer and a former private investigator', 'George Strine', False]\n",
        "4541 ['biostatistician', 'Heather Young', ['15-2041', 'Statisticians', 'Biostatistician']]\n",
        "4540 ['musician & actor', 'Peter Brown', False]\n",
        "4543 ['high school librarian', 'Gina Morse', ['25-4021', 'Librarians', 'High School Librarian']]\n",
        "4542"
       ]
      },
      {
       "output_type": "stream",
       "stream": "stdout",
       "text": [
        " ['student dentist', 'Tom Hoover', False]\n",
        "4545 ['database representative', 'Judy Hedden', False]\n",
        "4544 ['senior word processing typist', 'Leslie \"Lefty\" Scott', False]\n",
        "4547 ['freelance photographer', 'Buff McKinley', False]\n",
        "4546"
       ]
      },
      {
       "output_type": "stream",
       "stream": "stdout",
       "text": [
        " ['programmer', 'Steve Wenrick', False]\n",
        "1073 ['agency manager', 'Steve Mueller', False]\n",
        "2594 ['dot-com start-up partner', 'Ryan Moore', False]\n",
        "2595"
       ]
      },
      {
       "output_type": "stream",
       "stream": "stdout",
       "text": [
        " ['from Milton, Massachusetts...', 'Cary Williams', False]\n",
        "2596 ['from Portland, Oregon...', 'Rowan Spake', False]\n",
        "2597 ['from Lincoln, Nebraska...', 'Regina Merrill', False]\n",
        "2590"
       ]
      },
      {
       "output_type": "stream",
       "stream": "stdout",
       "text": [
        " ['from Kings Park, New York...', 'Tom Cilla', False]\n",
        "2591 ['from Bainbridge Island, Washington...', 'William Carpenter', False]\n",
        "2592 ['stay-at-home dad', 'Pete Sekula', False]\n",
        "2593 ['college student', 'Doug Kollasch', False]\n",
        "2598"
       ]
      },
      {
       "output_type": "stream",
       "stream": "stdout",
       "text": [
        " ['from Fredericksburg, Virginia...', 'Claire Winkler', False]\n",
        "2599 ['from Belleville, Illinois...', 'Scottie Szewczyk', False]\n",
        "1070 ['homemaker', 'Deborah Slattery', False]\n",
        "6042"
       ]
      },
      {
       "output_type": "stream",
       "stream": "stdout",
       "text": [
        " ['Chyron operator', 'Andy Davis', False]\n",
        "6043 ['elementary school teacher', 'Chris Fite', ['MiscTeacher', 'Teacher', 'Teacher']]\n",
        "6040 ['actor', 'Robert Loggia', False]\n",
        "1343 ['flight attendant', 'Christi Beard', False]\n",
        "6046 ['retired Air Force officer and writer', 'Laura DiSilverio', False]\n",
        "6047"
       ]
      },
      {
       "output_type": "stream",
       "stream": "stdout",
       "text": [
        " ['educator', 'Erik Krauss', False]\n",
        "6044 ['pianist', 'Dana Maher', ['27-2042', 'Musicians and Singers', 'Pianist']]\n",
        "6045 ['taxi driver, bartender and student', 'Sean Ryan', False]\n",
        "5372 ['student', 'Nate Austin', False]\n",
        "6048 ['lobbyist', 'Justin Bernbach', ['27-3031', 'Public Relations Specialists', 'Lobbyist']]\n",
        "6049"
       ]
      },
      {
       "output_type": "stream",
       "stream": "stdout",
       "text": [
        " ['journalist', 'Lindsay Barnes', False]\n",
        "8600 ['law student', 'Jared Eisenstat', False]\n",
        "2622 ['video game tester', 'Steve Jenkins', False]\n",
        "2623"
       ]
      },
      {
       "output_type": "stream",
       "stream": "stdout",
       "text": [
        " ['customer service supervisor', 'Ruth Dammel', False]\n",
        "2620 ['freelance writer', 'Kathleen Fuller', False]\n",
        "2621 ['knowledge manager', 'Maria Capucciati', False]\n",
        "2626 ['letter carrier', 'Jim McMurtry', ['43-5052', 'Postal Service Mail Carriers', 'Letter Carrier']]\n",
        "2627"
       ]
      },
      {
       "output_type": "stream",
       "stream": "stdout",
       "text": [
        " ['Bible minister', 'Greg Powell', False]\n",
        "2624 ['law student', 'Oz Vazquez', False]\n",
        "2625 ['seminarian', 'Liddy Gerchman Barlow', False]\n",
        "8606 ['writer', 'Leigh Hoopes', False]\n",
        "2628"
       ]
      },
      {
       "output_type": "stream",
       "stream": "stdout",
       "text": [
        " ['retail sales associate', 'Lisa Andrus', False]\n",
        "2629 ['graduate student and history teacher', 'Babu Srinivasan', ['GradStu', 'Graduate student', 'Graduate student']]\n",
        "8607 ['urban planning consultant', 'Bruce Richards', False]\n",
        "7351 ['college and career consultant', 'Amy Ruberg', False]\n",
        "7350 ['securities analyst', 'James Ma', False]\n",
        "7353 ['high school English teacher', 'Renee Huff', ['MiscTeacher', 'Teacher', 'Teacher']]\n",
        "7352"
       ]
      },
      {
       "output_type": "stream",
       "stream": "stdout",
       "text": [
        " ['law clerk', 'Monica Iyer', False]\n",
        "7355 ['civil litigation attorney', 'Carl Aveni', False]\n",
        "7354 ['graduate student in library and information science', 'Chloe Horning', ['GradStu', 'Graduate student', 'Graduate student']]\n",
        "7357 ['homemaker', 'Roberta Candalino', False]\n",
        "7356"
       ]
      },
      {
       "output_type": "stream",
       "stream": "stdout",
       "text": [
        " ['technical support specialist', 'Matt Larson', False]\n",
        "7359 ['federal law clerk', 'Ty Cone', False]\n",
        "7358 ['bookseller', 'Jennifer Najarian', False]\n",
        "8605 ['research consultant', 'Bruce Adelstein', False]\n",
        "8204"
       ]
      },
      {
       "output_type": "stream",
       "stream": "stdout",
       "text": [
        " ['homemaker', 'Pat Howe', False]\n",
        "9058 ['shelter advocate and caregiver', 'Michelle Flaherty', False]\n",
        "9059 ['sales representative', 'Marlon Morris', False]\n",
        "9050"
       ]
      },
      {
       "output_type": "stream",
       "stream": "stdout",
       "text": [
        " ['communications executive', 'John Ogden', False]\n",
        "9051 ['eighth-grade history teacher', 'Mallory Howe', ['MiscTeacher', 'Teacher', 'Teacher']]\n",
        "9052 ['junior', 'Colin Rafferty', False]\n",
        "9053 ['sophomore', 'Becky Pawlowski', False]\n",
        "9054 ['senior', 'Patricia Larash', False]\n",
        "9055"
       ]
      },
      {
       "output_type": "stream",
       "stream": "stdout",
       "text": [
        " ['junior', 'Anne Black', False]\n",
        "9056 [\"children's book author\", 'Elissa Burr', False]\n",
        "9057 ['library assistant', 'LaWanda London', ['43-4121', 'Library Assistants, Clerical', 'Library Assistant']]\n",
        "775 ['high school English teacher', 'Corinth Mat\\xe9ra', ['MiscTeacher', 'Teacher', 'Teacher']]\n",
        "774 ['film executive', 'Steve Berman', False]\n",
        "777 ['geologist', 'Lisa Osterman', ['19-2042', 'Geoscientists, Except Hydrologists and Geographers', 'Geologist']]\n",
        "776"
       ]
      },
      {
       "output_type": "stream",
       "stream": "stdout",
       "text": [
        " ['editor', 'Doug Meyer', False]\n",
        "771 ['high school English teacher', 'Susie Sisson', ['MiscTeacher', 'Teacher', 'Teacher']]\n",
        "770 ['associate producer', 'Daniel Granof', False]\n",
        "773 ['financial consultant', 'Ed Brown', False]\n",
        "772"
       ]
      },
      {
       "output_type": "stream",
       "stream": "stdout",
       "text": [
        " ['student', 'Jim Drake', False]\n",
        "779 ['attorney', 'Brad Plovan', ['23-1011', 'Lawyers', 'Attorney']]\n",
        "778 ['doctoral student', 'Brian Algra', False]\n",
        "77 ['engineer', 'Adam Villani', False]\n",
        "76"
       ]
      },
      {
       "output_type": "stream",
       "stream": "stdout",
       "text": [
        " ['director of communications', 'Merritt Hamilton Allen', False]\n",
        "2978 ['defense contractor', 'Nicole Raymond', False]\n",
        "2979 ['audio/visual manager', \"Brian O'Riordan\", False]\n",
        "73"
       ]
      },
      {
       "output_type": "stream",
       "stream": "stdout",
       "text": [
        " ['community counselor', 'Jennifer Harriss', False]\n",
        "72 ['bar manager', 'Nathan Gordon', ['35-1012', 'First-Line Supervisors of Food Preparation and Serving Workers', 'Bar Manager']]\n",
        "71 ['11-year-old sixth grader', 'Ross Gardiner', False]\n",
        "70 ['11-year-old sixth grader', 'Theodora Messalas', False]\n",
        "2972 ['graduate student', 'Nancy Bishop', ['GradStu', 'Graduate student', 'Graduate student']]\n",
        "2973"
       ]
      },
      {
       "output_type": "stream",
       "stream": "stdout",
       "text": [
        " ['sales representative', 'Rich Rosenlof', False]\n",
        "2970 ['writer', 'Steve Unite', False]\n",
        "2971 ['lawyer and father', 'Jon Newlon', False]\n",
        "2976"
       ]
      },
      {
       "output_type": "stream",
       "stream": "stdout",
       "text": [
        " ['market planning manager', 'Doug Trazzare', False]\n",
        "2977 ['high school teacher', 'Matt Heller', ['MiscTeacher', 'Teacher', 'Teacher']]\n",
        "2974 ['baseball writer', 'Lisa Winston', False]\n",
        "2975 ['high school teacher', 'Julie Sandel', ['MiscTeacher', 'Teacher', 'Teacher']]\n",
        "5362 ['administrative assistant', 'Scheri Mullins', False]\n",
        "5363"
       ]
      },
      {
       "output_type": "stream",
       "stream": "stdout",
       "text": [
        " ['telecommunications coordinator', 'Matt Ottinger', False]\n",
        "1041 ['teacher', 'Don McQuarrie', ['MiscTeacher', 'Teacher', 'Teacher']]\n",
        "1040 ['lawyer', 'Andrew Bernknopf', ['23-1011', 'Lawyers', 'Lawyer']]\n",
        "1047 [\"children's museum designer\", 'Sharon Rupe', False]\n",
        "1046 ['marketing interviewer', 'John Shivers', False]\n",
        "1045"
       ]
      },
      {
       "output_type": "stream",
       "stream": "stdout",
       "text": [
        " ['housewife', 'Glenda Wells', False]\n",
        "1044 ['food service director', 'Paul Lenzi', ['11-9051', 'Food Service Managers', 'Food Service Director']]\n",
        "5368 ['interlibrary loan specialist', 'Kelly Parker', False]\n",
        "1048 ['pediatrician', 'Martha McKinney', False]\n",
        "4303"
       ]
      },
      {
       "output_type": "stream",
       "stream": "stdout",
       "text": [
        " ['senior at Amherst College', 'Gwyneth Connell', False]\n",
        "4302 ['senior at Emory University', 'Greg Hodgin', False]\n",
        "4301 ['senior at the University of Virginia', 'Molley Jesse', False]\n",
        "4300 ['graduate student', 'Tope Charlton', ['GradStu', 'Graduate student', 'Graduate student']]\n",
        "4307 ['graduate student', 'Aaron Shapiro', ['GradStu', 'Graduate student', 'Graduate student']]\n",
        "4306"
       ]
      },
      {
       "output_type": "stream",
       "stream": "stdout",
       "text": [
        " ['attorney', 'Tracy Martinell Henry', ['23-1011', 'Lawyers', 'Attorney']]\n",
        "4305 ['research scientist', 'Paul Glaser', False]\n",
        "4304 ['data specialist', 'Cathy Thomas', False]\n",
        "841"
       ]
      },
      {
       "output_type": "stream",
       "stream": "stdout",
       "text": [
        " ['programmer and analyst', 'Yael Sofaer', False]\n",
        "4309 ['stay-at-home dad and cartoonist', 'Kevin Antonio', False]\n",
        "4308 ['freelance journalist', 'Tim Lesle', False]\n",
        "3128 ['teacher', 'Douglas Okey', ['MiscTeacher', 'Teacher', 'Teacher']]\n",
        "3129"
       ]
      },
      {
       "output_type": "stream",
       "stream": "stdout",
       "text": [
        " ['freelance writer and legal transcriptionist', 'Jenifer Scott', False]\n",
        "3122 ['college student', 'Eric Floyd', False]\n",
        "3123 ['mom', 'Jen Kaufmann', False]\n",
        "3120 ['college student', 'Meagan Shelton', False]\n",
        "3121"
       ]
      },
      {
       "output_type": "stream",
       "stream": "stdout",
       "text": [
        " ['lead enrollment representative', 'Kirik Arata', False]\n",
        "3126 ['bartender', 'Peter Paniccia', ['35-3011', 'Bartenders', 'Bartender']]\n",
        "3127 ['attorney', 'Maria Harrigan', ['23-1011', 'Lawyers', 'Attorney']]\n",
        "3124 ['freelance graphic artist', 'Muzy Huq', False]\n",
        "3125 ['editor', 'Jodi Koehn', False]\n",
        "8659"
       ]
      },
      {
       "output_type": "stream",
       "stream": "stdout",
       "text": [
        " ['from ...', 'Michelle Stein-Evers', False]\n",
        "8658 ['substitute teacher', 'Franny Moore-Kyle', ['MiscTeacher', 'Teacher', 'Teacher']]\n",
        "8651 ['provider relations representative', 'Eden Rich', False]\n",
        "8650 ['graphic designer', 'Michael Logan', ['27-1024', 'Graphic Designers', 'Graphic Designer']]\n",
        "8653 ['attorney', 'Kim Carver', ['23-1011', 'Lawyers', 'Attorney']]\n",
        "8652 ['law clerk', 'Curt Surls', False]\n",
        "8655"
       ]
      },
      {
       "output_type": "stream",
       "stream": "stdout",
       "text": [
        " ['11-year-old sixth grader', 'Blythe McWhirter', False]\n",
        "8654 ['12-year-old seventh grader', 'Josiah Washington', False]\n",
        "8657 ['writer', 'Richard Beban', False]\n",
        "8656 ['12-year-old seventh grader', 'Clement Doucette', False]\n",
        "5753 ['teacher', 'Lennie Edwards', ['MiscTeacher', 'Teacher', 'Teacher']]\n",
        "5752"
       ]
      },
      {
       "output_type": "stream",
       "stream": "stdout",
       "text": [
        " ['office manager', 'Sue Kelly', False]\n",
        "5751 ['stagehand', 'Peter Thurrell', False]\n",
        "5750 ['law student', 'Kerry Halpern', False]\n",
        "5757 ['warehouse manager', 'Shawn St. Clair', ['11-3071', 'Transportation, Storage, and Distribution Managers', 'Warehouse Manager']]\n",
        "5756 ['artist, tutor and writer', 'Debbie Israel', False]\n",
        "5755"
       ]
      },
      {
       "output_type": "stream",
       "stream": "stdout",
       "text": [
        " ['structural engineer', 'Pat Arnett', ['17-2051', 'Civil Engineers', 'Structural Engineer']]\n",
        "5754 ['title officer assistant', 'Stephanie Scott', False]\n",
        "5759 ['actress', 'Laura Innes', ['27-2011', 'Actors', 'Actress']]\n",
        "5758 ['Spanish interpreter', 'Samantha Lubrani', False]\n",
        "861"
       ]
      },
      {
       "output_type": "stream",
       "stream": "stdout",
       "text": [
        " ['student', 'David Madden', False]\n",
        "4609 ['senior at Baylor University', 'Rob Schickler', False]\n",
        "860 ['secondary school teacher', 'Bea Kosla', ['MiscTeacher', 'Teacher', 'Teacher']]\n",
        "863 ['teacher', 'Lorna Valentine', ['MiscTeacher', 'Teacher', 'Teacher']]\n",
        "862 ['high school physics teacher', 'John Colterman', ['MiscTeacher', 'Teacher', 'Teacher']]\n",
        "865 ['math teacher', 'Marty Sade', ['MiscTeacher', 'Teacher', 'Teacher']]\n",
        "864 ['schoolteacher', 'Doug Carter', ['MiscTeacher', 'Teacher', 'Teacher']]\n",
        "867 ['aspiring teacher', 'Michael Segal', ['MiscTeacher', 'Teacher', 'Teacher']]\n",
        "866 ['accountant', 'Cheryl Bush', ['13-2011', 'Accountants and Auditors', 'Accountant']]\n",
        "840"
       ]
      },
      {
       "output_type": "stream",
       "stream": "stdout",
       "text": [
        " [\"law student and winner of last year's College Tournament\", 'Tom Cubbage', False]\n",
        "2756 ['project manager', 'Brian Weikle', False]\n",
        "2757 ['apartment manager', 'Ben Tritle', ['11-9141', 'Property, Real Estate, and Community Association Managers', 'Apartment Manager']]\n",
        "2754 ['librarian', 'Ozgun Tumer', False]\n",
        "7434 ['software trainer', 'Ian Leggin', False]\n",
        "7435"
       ]
      },
      {
       "output_type": "stream",
       "stream": "stdout",
       "text": [
        " ['aspiring producer', 'Paul Barbour', False]\n",
        "7436 ['project financial analyst', 'Sarah Powell', False]\n",
        "2755 ['cardiologist', 'Julie Kovach', ['29-1069', 'Physicians and Surgeons, All Other', 'Cardiologist']]\n",
        "7430 ['eleven-year-old', 'Tony Harkin', False]\n",
        "7431"
       ]
      },
      {
       "output_type": "stream",
       "stream": "stdout",
       "text": [
        " ['administrative law judge', 'Christopher Stephens', False]\n",
        "7432 ['executive compensation consultant', 'Damian Yu', False]\n",
        "7433 ['paralegal', 'Judy Neuwirth', ['23-2011', 'Paralegals and Legal Assistants', 'Paralegal']]\n",
        "2752 ['university administrator', 'Jeff Spoeri', ['11-9033', 'Education Administrators, Postsecondary', 'University Administrator']]\n",
        "7438 ['student and waiter', 'Mark Runsvold', False]\n",
        "7439"
       ]
      },
      {
       "output_type": "stream",
       "stream": "stdout",
       "text": [
        " ['pharmaceutical scientist', 'Kathleen Lee', False]\n",
        "2753 ['editor and journalist', 'Shane McCune', False]\n",
        "2323 ['financial consultant', 'Dave Moes', False]\n",
        "2750 ['architect', 'Leah Greenwald', False]\n",
        "2322 ['attorney', 'Pete Vodola', ['23-1011', 'Lawyers', 'Attorney']]\n",
        "2023"
       ]
      },
      {
       "output_type": "stream",
       "stream": "stdout",
       "text": [
        " ['box office manager', 'Jonathan Spencer', False]\n",
        "4604 ['junior at Ursinus College', 'Genevieve Romeo', False]\n",
        "2321 ['magazine editor', 'Lynn Kusnierz', False]\n",
        "6675 ['sophomore', 'Prashant Raghavendran', False]\n",
        "6674"
       ]
      },
      {
       "output_type": "stream",
       "stream": "stdout",
       "text": [
        " ['senior', \"Dan D'Addario\", False]\n",
        "6677 ['senior', 'Lindsay Eanet', False]\n",
        "2320 ['attorney', 'Doug Plazak', ['23-1011', 'Lawyers', 'Attorney']]\n",
        "6671 ['writer', 'Grace Suh', False]\n",
        "6670 ['writer and editor', 'Tom Ogorzalek', False]\n",
        "6673 ['senior', 'Surya Sabhapathy', False]\n",
        "6672"
       ]
      },
      {
       "output_type": "stream",
       "stream": "stdout",
       "text": [
        " ['junior', 'Nick Yozamp', False]\n",
        "2327 ['networking engineer', 'Brooks Vault', False]\n",
        "6679 ['environmental scientist', 'Monica Shafer', ['19-2041', 'Environmental Scientists and Specialists, Including Health', 'Environmental Scientist']]\n",
        "6678 ['litigation technology specialist', 'Mike Smith', False]\n",
        "2326"
       ]
      },
      {
       "output_type": "stream",
       "stream": "stdout",
       "text": [
        " ['aspiring dance caller', 'Shari Kenny', False]\n",
        "4701 ['special education teacher', 'Ed Clarke', ['MiscTeacher', 'Teacher', 'Teacher']]\n",
        "2324 ['marine mammal scientist', 'Naomi Rose', False]\n",
        "8285 ['publisher sales representative', 'Walter Mayes', False]\n",
        "5197"
       ]
      },
      {
       "output_type": "stream",
       "stream": "stdout",
       "text": [
        " ['geographic information systems specialist', 'Melissa Mayo', False]\n",
        "5196 ['actor', 'Duke Conde', False]\n",
        "2369 ['actor and director', 'Steven Carpenter', False]\n",
        "2368 ['lawyer', 'Robyn Aronson', ['23-1011', 'Lawyers', 'Lawyer']]\n",
        "2367 ['operations support manager', 'Thomas Chambless', False]\n",
        "2366"
       ]
      },
      {
       "output_type": "stream",
       "stream": "stdout",
       "text": [
        " ['attorney', 'Harrison Bell', ['23-1011', 'Lawyers', 'Attorney']]\n",
        "2365 ['registered nurse', 'Patti Rogers', ['29-1141', 'Registered Nurses', 'Registered Nurse']]\n",
        "2364 ['waiter', 'Michael Dominguez', False]\n",
        "2363 ['speech and language pathologist', 'Jill Bunzendahl Chimka', False]\n",
        "2362"
       ]
      },
      {
       "output_type": "stream",
       "stream": "stdout",
       "text": [
        " ['small business consultant', 'Wendy Gluckman', False]\n",
        "2361 ['cultural analyst', 'Peter Sprigg', False]\n",
        "2360 ['research associate', 'Inie Park', False]\n",
        "1612 ['minister', 'John Allen Bankson', ['21-2011', 'Clergy', 'Minister']]\n",
        "1861 ['high school Spanish teacher', 'Diane Wakefield', ['MiscTeacher', 'Teacher', 'Teacher']]\n",
        "1860"
       ]
      },
      {
       "output_type": "stream",
       "stream": "stdout",
       "text": [
        " ['communications director', 'Brendan McTaggart', False]\n",
        "1863 ['production scheduler', 'Luis Sandoval', ['43-5061', 'Production, Planning, and Expediting Clerks', 'Production Scheduler']]\n",
        "1862 ['copy editor', 'Melissa Garber', ['27-3041', 'Editors', 'Copy Editor']]\n",
        "1865 ['attorney', 'Chris Seybolt', ['23-1011', 'Lawyers', 'Attorney']]\n",
        "3729 ['attorney', 'Martha Temple', ['23-1011', 'Lawyers', 'Attorney']]\n",
        "1867"
       ]
      },
      {
       "output_type": "stream",
       "stream": "stdout",
       "text": [
        " ['law school administrator', 'Rodney Waites', False]\n",
        "1866 ['broadcast librarian', 'Giselle Foss', False]\n",
        "3724 ['computer analyst', 'Pat Burghardt', False]\n",
        "3725 ['music teacher', 'Linda Davis', ['MiscTeacher', 'Teacher', 'Teacher']]\n",
        "3726 ['assistant cameraman', 'Seth Kotok', False]\n",
        "3727 ['high school history teacher', 'Annie Bienvenue', ['MiscTeacher', 'Teacher', 'Teacher']]\n",
        "3720"
       ]
      },
      {
       "output_type": "stream",
       "stream": "stdout",
       "text": [
        " ['systems analyst', 'John Weiner', False]\n",
        "3721 ['computer consultant', 'Ginger Greenstein', False]\n",
        "3722 ['college writing instructor', 'Lacy Wootton-Don', False]\n",
        "3723"
       ]
      },
      {
       "output_type": "stream",
       "stream": "stdout",
       "text": [
        " ['actor and comedian', 'Brian Frates', False]\n",
        "4930 ['junior', 'Rubani Trimiew', False]\n",
        "4931 ['senior', 'Lina Ghosh', False]\n",
        "4932 ['senior', 'Katie Winter', False]\n",
        "4933 ['senior', 'Suchita Shah', False]\n",
        "4934"
       ]
      },
      {
       "output_type": "stream",
       "stream": "stdout",
       "text": [
        " ['junior', 'Danny Devries', False]\n",
        "4935 ['freshman', 'Than Hedman', False]\n",
        "4680 ['senior', 'Bonnie Cao', False]\n",
        "4681 ['actor', 'Paul Rubenstein', False]\n",
        "4938 ['senior', 'Gerrit Hall', False]\n",
        "1613 ['elementary school teacher', 'Val Leith', ['MiscTeacher', 'Teacher', 'Teacher']]\n",
        "4688"
       ]
      },
      {
       "output_type": "stream",
       "stream": "stdout",
       "text": [
        " ['project manager', 'Karen Baptiste', False]\n",
        "4689 ['lawyer', 'Mary Katz', ['23-1011', 'Lawyers', 'Lawyer']]\n",
        "2109 ['medical assistant', 'Bob Puett', False]\n",
        "2108 ['computer programmer', 'Greg Fry', ['15-1131', 'Computer Programmers', 'Computer Programmer']]\n",
        "2103 ['junior at the University of Southern California', 'Thomas Zamora', False]\n",
        "2102"
       ]
      },
      {
       "output_type": "stream",
       "stream": "stdout",
       "text": [
        " ['junior at Boston University', 'Mysti Kofford', False]\n",
        "2101 ['junior at Indiana University', 'Brett Dvorak', False]\n",
        "2100 ['junior at Ithaca College', 'Tony Nagatani', False]\n",
        "2107"
       ]
      },
      {
       "output_type": "stream",
       "stream": "stdout",
       "text": [
        " ['television news reporter and producer', 'Kevin Smith', False]\n",
        "2106 ['investor and writer', 'Mort Kamins', False]\n",
        "2105 ['attorney', 'Lisa Kushida', ['23-1011', 'Lawyers', 'Attorney']]\n",
        "2104 ['senior product specialist', 'Don Tenney', False]\n",
        "5115"
       ]
      },
      {
       "output_type": "stream",
       "stream": "stdout",
       "text": [
        " ['medical student', 'Fred Frank', False]\n",
        "5114 ['legal assistant', 'Beryl Arbit', ['23-2011', 'Paralegals and Legal Assistants', 'Legal Assistant']]\n",
        "5117 ['Senior Tournament winner', 'Bart Thomas', False]\n",
        "5116 ['attorney', 'Bill Pitassy', ['23-1011', 'Lawyers', 'Attorney']]\n",
        "5111"
       ]
      },
      {
       "output_type": "stream",
       "stream": "stdout",
       "text": [
        " ['political science professor', 'Tom Nichols', False]\n",
        "5110 ['Teen Tournament winner', 'Matt Morris', False]\n",
        "5113 ['retired schoolteacher', 'Lionel Goldbart', ['MiscTeacher', 'Teacher', 'Teacher']]\n",
        "5112 ['typesetter', 'Jean Grewe', False]\n",
        "5119"
       ]
      },
      {
       "output_type": "stream",
       "stream": "stdout",
       "text": [
        " ['editor', 'Peter Winkler', False]\n",
        "5118 ['wife and mother', 'Amy Fine', False]\n",
        "5256 ['storyteller', 'Kate Marciniak', False]\n",
        "5192 ['assistant district attorney', 'Ted Barry', False]\n",
        "9"
       ]
      },
      {
       "output_type": "stream",
       "stream": "stdout",
       "text": [
        " ['writer', 'Amy Helmes', False]\n",
        "890 ['customer service representative', 'Annemarie Gallagher', False]\n",
        "891 ['Army officer', 'David Lindauer', False]\n",
        "892"
       ]
      },
      {
       "output_type": "stream",
       "stream": "stdout",
       "text": [
        " ['computer programming consultant', 'Kevin Mulhern', False]\n",
        "893 ['nightclub and restaurant owner', 'Eugene Gamblin', False]\n",
        "894 ['stay-at-home mom', 'Marisa Prasifka', False]\n",
        "895 ['lawyer', 'Charles Martin', ['23-1011', 'Lawyers', 'Lawyer']]\n",
        "896"
       ]
      },
      {
       "output_type": "stream",
       "stream": "stdout",
       "text": [
        " ['homemaker and freelance editor', 'Kem Herding', False]\n",
        "897 ['lab technician', 'Michelle Roberts', False]\n",
        "898 ['Air Force officer', 'Mike McCarthy', False]\n",
        "899"
       ]
      },
      {
       "output_type": "stream",
       "stream": "stdout",
       "text": [
        " ['stay-at-home dad and mortgage broker', 'Evan Kleber', False]\n",
        "1788 ['zoo educator', 'Chris Todd', False]\n",
        "1789 ['law student', 'Emily Eagan', False]\n",
        "1780 ['actress', 'Amy Roeder', ['27-2011', 'Actors', 'Actress']]\n",
        "1781 ['business librarian', 'Roger Green', False]\n",
        "1782 ['contract administrator', 'Robin Shepherd', ['11-3061', 'Purchasing Managers', 'Contract Administrator']]\n",
        "1783"
       ]
      },
      {
       "output_type": "stream",
       "stream": "stdout",
       "text": [
        " ['law student', 'Jim Zanotti', False]\n",
        "1784 ['advanced customer care agent', 'Doc Hamilton', False]\n",
        "1785 ['stay-at-home mom and attorney', 'Barbara Watkins', False]\n",
        "1786"
       ]
      },
      {
       "output_type": "stream",
       "stream": "stdout",
       "text": [
        " ['judicial law clerk', 'Carla Gonzalez', False]\n",
        "1787 ['food & beverage director', 'Dave Troy', False]\n",
        "6879 ['law school professor and CPA', 'Matt Cavanaugh', False]\n",
        "6878 ['copywriter', 'Paul Kursky', ['27-3043', 'Writers and Authors', 'Copywriter']]\n",
        "6877"
       ]
      },
      {
       "output_type": "stream",
       "stream": "stdout",
       "text": [
        " ['English professor', 'Laura White', False]\n",
        "6876 ['environmental economist', 'Jonah Busch', ['19-3011', 'Economists', 'Environmental Economist']]\n",
        "6875 ['screenwriter and bookstore manager', 'Anne Triolo', False]\n",
        "6874 ['Latin and Greek teacher', 'Marianthe Colakis', ['MiscTeacher', 'Teacher', 'Teacher']]\n",
        "6873 ['librarian', 'Mark Passerrello', False]\n",
        "6872"
       ]
      },
      {
       "output_type": "stream",
       "stream": "stdout",
       "text": [
        " ['quality control technician', 'Ken Eberle', False]\n",
        "6871 ['U.S. Fire Administration program manager', 'Jennifer Roberson', False]\n",
        "6870 ['assistant district attorney', 'Marty Scott', False]\n",
        "8220"
       ]
      },
      {
       "output_type": "stream",
       "stream": "stdout",
       "text": [
        " ['government librarian', 'Craig Sallinger', False]\n",
        "8221 ['high school librarian', 'Margaret Wheeler', ['25-4021', 'Librarians', 'High School Librarian']]\n",
        "8222 ['store manager', 'Lindsay Franco-Ferreira', False]\n",
        "8223 ['trial lawyer', 'Rex Schultz', ['23-1011', 'Lawyers', 'Trial Lawyer']]\n",
        "678 ['ISO coordinator', 'Tim Schwab', False]\n",
        "679 ['middle-school math teacher', 'Charlie Kahn', ['MiscTeacher', 'Teacher', 'Teacher']]\n",
        "8226 ['teacher', 'Irene Grzywacz', ['MiscTeacher', 'Teacher', 'Teacher']]\n",
        "8227"
       ]
      },
      {
       "output_type": "stream",
       "stream": "stdout",
       "text": [
        " ['part-time textbook editor', 'Lee Saunders', False]\n",
        "674 ['grad student and 1992 College Tournament champion', 'Billy Baxter', False]\n",
        "675 ['college teacher', 'Renny Christopher', ['MiscTeacher', 'Teacher', 'Teacher']]\n",
        "676"
       ]
      },
      {
       "output_type": "stream",
       "stream": "stdout",
       "text": [
        " ['political science professor', 'Phil Klinkner', False]\n",
        "677 ['artist', 'Michael Schill', False]\n",
        "670 ['word processor', 'Phil Yellman', ['43-9022', 'Word Processors and Typists', 'Word Processor']]\n",
        "671 ['live-in caregiver', 'Damon Poore', False]\n",
        "672"
       ]
      },
      {
       "output_type": "stream",
       "stream": "stdout",
       "text": [
        " ['payroll manager', 'Kate Sendegeya', False]\n",
        "673 ['police officer', 'Frank Epstein', False]\n",
        "4649 ['liability analyst', 'Brad Nail', False]\n",
        "7609"
       ]
      },
      {
       "output_type": "stream",
       "stream": "stdout",
       "text": [
        " ['investment consultant', 'Doug Davies', False]\n",
        "7608 ['software support technician', 'Carroll Savage', False]\n",
        "7607 ['student affairs assistant', 'Harry Koga', False]\n",
        "7606 ['tutor', 'Jason Keller', ['25-3099', 'Teachers and Instructors, All Other', 'Tutor']]\n",
        "7605 ['teacher and swim coach', 'Leslie Hamilton', ['MiscTeacher', 'Teacher', 'Teacher']]\n",
        "7604 ['attorney', 'Silas Crawford', ['23-1011', 'Lawyers', 'Attorney']]\n",
        "7603 ['graduate student of medieval studies', 'Beth Watkins', ['GradStu', 'Graduate student', 'Graduate student']]\n",
        "7602"
       ]
      },
      {
       "output_type": "stream",
       "stream": "stdout",
       "text": [
        " ['librarian', 'Jennifer Hills', False]\n",
        "7601 ['tire and lube technician', 'Matt Harriss', False]\n",
        "7600 ['romance novel editor', 'Gina Bernal', False]\n",
        "2491 ['teacher', 'John Zappacosta', ['MiscTeacher', 'Teacher', 'Teacher']]\n",
        "4643 ['writer', 'Barry Hren', False]\n",
        "2493"
       ]
      },
      {
       "output_type": "stream",
       "stream": "stdout",
       "text": [
        " ['educational assistant', 'Monica Erichsen', False]\n",
        "8467 ['student', 'Elizabeth Souders', False]\n",
        "2492 ['labor lawyer', 'Rita Graf', False]\n",
        "2495 ['owner of a notary service', 'John Kilby', False]\n",
        "1965"
       ]
      },
      {
       "output_type": "stream",
       "stream": "stdout",
       "text": [
        " ['video archivist', 'David Case', False]\n",
        "2494 ['cartoon writer', 'Jim Peterson', False]\n",
        "2497 ['actor', 'Larry Thompson', False]\n",
        "2496 ['registered nurse', 'Joan Lankford', ['29-1141', 'Registered Nurses', 'Registered Nurse']]\n",
        "8469 ['energy efficiency analyst', 'Renee Hennessee', False]\n",
        "1256"
       ]
      },
      {
       "output_type": "stream",
       "stream": "stdout",
       "text": [
        " ['technology & operations manager', 'Myretta Robens', False]\n",
        "1257 ['junior at Stanford University', 'Nico Martinez', False]\n",
        "1254 ['sophomore at Princeton University', 'Chris Breen', False]\n",
        "1255 ['teacher and writer', 'Ronny Kaye', ['MiscTeacher', 'Teacher', 'Teacher']]\n",
        "1252"
       ]
      },
      {
       "output_type": "stream",
       "stream": "stdout",
       "text": [
        " ['senior at the University of Alabama at Birmingham', 'Adam Pinson', False]\n",
        "1253 ['sophomore at Duke University', 'Chelsea He', False]\n",
        "1250 ['textbook editor', 'Melissa Littman', False]\n",
        "1251 ['teacher', 'Peter Nielsen', ['MiscTeacher', 'Teacher', 'Teacher']]\n",
        "1528 ['attorney', 'Andrew Lueder', ['23-1011', 'Lawyers', 'Attorney']]\n",
        "1529 ['homemaker', 'Ellen Kolb', False]\n",
        "1258"
       ]
      },
      {
       "output_type": "stream",
       "stream": "stdout",
       "text": [
        " ['senior at the University of Rochester', 'Colin Brown', False]\n",
        "1259 ['junior at the University of Michigan at Dearborn', 'Anna Allie', False]\n",
        "4116 ['homemaker', 'Martha Raphelson', False]\n",
        "4117"
       ]
      },
      {
       "output_type": "stream",
       "stream": "stdout",
       "text": [
        " ['college theater professor', 'Peter Senkbeil', False]\n",
        "4114 ['attorney', 'Jason Scupine', ['23-1011', 'Lawyers', 'Attorney']]\n",
        "4115 ['book editor', 'Megan Lynch', ['27-3041', 'Editors', 'Book Editor']]\n",
        "4112 ['legal assistant', 'Robin Black', ['23-2011', 'Paralegals and Legal Assistants', 'Legal Assistant']]\n",
        "4113 ['undergraduate student', 'Rachel Schneider', ['GradStu', 'Graduate student', 'Graduate student']]\n",
        "4110 ['pension assistant', 'Crystal Reed', False]\n",
        "4111 ['farmer', 'John Hill', False]\n",
        "4118 ['attorney', 'Geoff Morley', ['23-1011', 'Lawyers', 'Attorney']]\n",
        "4119"
       ]
      },
      {
       "output_type": "stream",
       "stream": "stdout",
       "text": [
        " ['actor', 'Dave Fisher', False]\n",
        "7895 ['actor', 'Steve Cowie', False]\n",
        "7103 ['economist', 'Adam Bibler', ['19-3011', 'Economists', 'Economist']]\n",
        "3340 ['kennel manager', 'Megan Green', False]\n",
        "7109 ['chess teacher', 'Jonathan Corbblah', ['MiscTeacher', 'Teacher', 'Teacher']]\n",
        "3341"
       ]
      },
      {
       "output_type": "stream",
       "stream": "stdout",
       "text": [
        " ['circulation manager', 'Francisco Smith', False]\n",
        "5946 ['Congressional staffer', 'Meg Slachetka', False]\n",
        "5947 ['nonprofit administrator', 'Peter Bonilla', False]\n",
        "5944 ['structural engineer', 'Fred Beukema', ['17-2051', 'Civil Engineers', 'Structural Engineer']]\n",
        "5945"
       ]
      },
      {
       "output_type": "stream",
       "stream": "stdout",
       "text": [
        " ['caregiver', 'Beth Crosland', False]\n",
        "1966 ['international trade specialist', 'Naomi Freeman', False]\n",
        "5943 ['editor', 'Leslie Miller', False]\n",
        "5940"
       ]
      },
      {
       "output_type": "stream",
       "stream": "stdout",
       "text": [
        " ['retired government employee', 'Deborah Fitzgerald', False]\n",
        "5941 ['attorney', 'Michael Falk', ['23-1011', 'Lawyers', 'Attorney']]\n",
        "5948 ['attorney and privacy consultant', 'Mark Lock', False]\n",
        "5949 ['grad student', 'Sonia Chawla', False]\n",
        "6028 ['fashion designer', 'Isaac Mizrahi', ['27-1022', 'Fashion Designers', 'Fashion Designer']]\n",
        "6029 ['actress', 'Melissa Gilbert', ['27-2011', 'Actors', 'Actress']]\n",
        "6020"
       ]
      },
      {
       "output_type": "stream",
       "stream": "stdout",
       "text": [
        " ['senior', 'Eric Betts', False]\n",
        "6021 ['junior', 'Erica Greil', False]\n",
        "6022 ['sophomore', 'Anthony Dedousis', False]\n",
        "6023 ['senior', 'Larissa Charnsangavej', False]\n",
        "6024 ['senior', 'Patrick Tucker', False]\n",
        "6025"
       ]
      },
      {
       "output_type": "stream",
       "stream": "stdout",
       "text": [
        " ['junior', 'Ariella Goldstein', False]\n",
        "6026 ['senior', 'Andrew Ceppos', False]\n",
        "6027 ['comedienne', 'Sandra Bernhard', False]\n",
        "2648 ['records coordinator', 'Andy Reese', False]\n",
        "2649 ['graduate student', 'Elesha Coffman', ['GradStu', 'Graduate student', 'Graduate student']]\n",
        "2640 ['receptionist', 'Brooke Wilberg', False]\n",
        "2641 ['high school teacher', 'Larry Clow', ['MiscTeacher', 'Teacher', 'Teacher']]\n",
        "2642"
       ]
      },
      {
       "output_type": "stream",
       "stream": "stdout",
       "text": [
        " ['college senior', 'Janet Wong', False]\n",
        "2643 ['C.P.A. and comedian', 'Jack Archey', False]\n",
        "2644 ['sportswriter', 'Eddie Timanus', False]\n",
        "2645 ['college senior', 'Carolyn Cracraft', False]\n",
        "2646"
       ]
      },
      {
       "output_type": "stream",
       "stream": "stdout",
       "text": [
        " ['television executive', 'Darlene Lieblich', False]\n",
        "2647 ['systems analyst and pharmacist', 'Terry Currin', False]\n",
        "9076 ['transit policy analyst', 'Paul Carlson', False]\n",
        "9077"
       ]
      },
      {
       "output_type": "stream",
       "stream": "stdout",
       "text": [
        " ['research scientist', 'James Herman', False]\n",
        "9074 ['small business entrepreneur', 'Marilyn Newcomer', False]\n",
        "9075 ['teacher and cantor', 'Mike Kravitz', ['MiscTeacher', 'Teacher', 'Teacher']]\n",
        "9072 ['senior', 'Michael Musgrove', False]\n",
        "9073 ['junior', 'Steffanie Brown', False]\n",
        "9070"
       ]
      },
      {
       "output_type": "stream",
       "stream": "stdout",
       "text": [
        " ['American Red Cross manager', 'Kit Hope', False]\n",
        "9071 ['design engineer', 'Brian Clouse', False]\n",
        "9078 ['political science professor', 'Leah Blumenfeld', False]\n",
        "9079"
       ]
      },
      {
       "output_type": "stream",
       "stream": "stdout",
       "text": [
        " ['airline operations specialist', 'Clayton Walker', False]\n",
        "3557 ['consultant', 'Jim Waldo', False]\n",
        "3556 ['project manager', 'Claire Ward', False]\n",
        "3555 ['English teacher', 'Chuck Newell', ['MiscTeacher', 'Teacher', 'Teacher']]\n",
        "3554 ['graduate student', 'Marc Spraragen', ['GradStu', 'Graduate student', 'Graduate student']]\n",
        "3553 ['teacher', 'Dorothy Cassetta', ['MiscTeacher', 'Teacher', 'Teacher']]\n",
        "3552 ['librarian', 'Jim Sherman', False]\n",
        "3551 ['librarian', 'Ursula Ellis', False]\n",
        "3550"
       ]
      },
      {
       "output_type": "stream",
       "stream": "stdout",
       "text": [
        " ['pediatric resident', 'Sri Narayanan', False]\n",
        "3559 ['psychiatrist', 'Robert Ashley', ['29-1066', 'Psychiatrists', 'Psychiatrist']]\n",
        "3558 ['law professor', 'Rosanna Cavallaro', False]\n",
        "2910 ['law student', 'Dan McMurray', False]\n",
        "2911 ['archivist', 'Rebecca Bizonet', ['25-4011', 'Archivists', 'Archivist']]\n",
        "2912 ['facility director', 'Gilbert Mercado', False]\n",
        "2913"
       ]
      },
      {
       "output_type": "stream",
       "stream": "stdout",
       "text": [
        " ['law student', 'Erin Lang', False]\n",
        "2914 ['graduate student', 'Alex Boisvert', ['GradStu', 'Graduate student', 'Graduate student']]\n",
        "2915 ['Jesuit priest', 'Paul Holland', False]\n",
        "2916 ['auditor', 'Nancy Misener', ['13-2011', 'Accountants and Auditors', 'Auditor']]\n",
        "2917 ['attorney', 'Scott Humphrey', ['23-1011', 'Lawyers', 'Attorney']]\n",
        "2918 ['elementary school teacher', 'Lisa Korn', ['MiscTeacher', 'Teacher', 'Teacher']]\n",
        "2919 ['registered nurse and pre-med student', 'Roger Christensen', False]\n",
        "715"
       ]
      },
      {
       "output_type": "stream",
       "stream": "stdout",
       "text": [
        " ['advertising copywriter', 'Daniel Elias', ['27-3043', 'Writers and Authors', 'Advertising Copywriter']]\n",
        "714 ['waiter', 'Nicholas Vallas', False]\n",
        "713 ['administrative assistant', 'Tom McGinn', False]\n",
        "712 ['library assistant', 'Nancy Burns', ['43-4121', 'Library Assistants, Clerical', 'Library Assistant']]\n",
        "711"
       ]
      },
      {
       "output_type": "stream",
       "stream": "stdout",
       "text": [
        " ['chemical engineer', 'Alice Strauss', False]\n",
        "710 ['Spanish instructor', 'Don Clark', False]\n",
        "5308 ['director of administration', 'Nancy Robertson', False]\n",
        "5309"
       ]
      },
      {
       "output_type": "stream",
       "stream": "stdout",
       "text": [
        " ['public relations coordinator', 'James Greenberg', False]\n",
        "5300 ['handyman', 'Philip Blustein', False]\n",
        "5301 ['bookseller', 'Jen Jorczak', False]\n",
        "5302 ['college administrator', 'Patti Gregg', False]\n",
        "5303"
       ]
      },
      {
       "output_type": "stream",
       "stream": "stdout",
       "text": [
        " ['project manager', 'Sue McClung', False]\n",
        "5304 ['community college instructor', 'Toby Guebert', False]\n",
        "5305 ['airline agent', 'Steve Zych', False]\n",
        "5306 ['special effects animator', 'Tom Pope', False]\n",
        "5307"
       ]
      },
      {
       "output_type": "stream",
       "stream": "stdout",
       "text": [
        " ['theater producer and director', 'Dan Schay', False]\n",
        "6956 ['freelance writer', 'Andrea Michaels', False]\n",
        "4329 ['director of human resources', 'Tara Pearson', False]\n",
        "4328"
       ]
      },
      {
       "output_type": "stream",
       "stream": "stdout",
       "text": [
        " ['park ranger', 'Walter Evans', False]\n",
        "4321 ['media buyer', 'Kathy Trice', False]\n",
        "4320 ['production control specialist', 'Janet Leach', False]\n",
        "4323 ['collection agent', 'Patti Sturr', ['43-3011', 'Bill and Account Collectors', 'Collection Agent']]\n",
        "4322 ['lawyer', 'Jon Muir', ['23-1011', 'Lawyers', 'Lawyer']]\n",
        "4325"
       ]
      },
      {
       "output_type": "stream",
       "stream": "stdout",
       "text": [
        " ['writer', 'Brenda Shafer', False]\n",
        "4324 ['management consultant', 'Mike Sharkey', ['13-1111', 'Management Analysts', 'Management Consultant']]\n",
        "4327 ['student and bookseller', 'Sarah Kulihin', False]\n",
        "4326 ['restaurant owner', 'Whiton Paine', False]\n",
        "3140 ['system programmer', 'Paula Filson', False]\n",
        "3141"
       ]
      },
      {
       "output_type": "stream",
       "stream": "stdout",
       "text": [
        " ['supplier quality engineer', 'Corey Halgren', False]\n",
        "3142 ['chemist', 'Carl Podraza', False]\n",
        "3143 ['doctoral student', 'Lauren Pasquarella', False]\n",
        "3144"
       ]
      },
      {
       "output_type": "stream",
       "stream": "stdout",
       "text": [
        " ['law professor', 'Mike Madison', False]\n",
        "3145 ['stay-at-home mom', 'Erica Gaddy', False]\n",
        "3146 ['antiques and collectibles dealer', 'Hope Jasper', False]\n",
        "3147 ['history student', 'Kevin Comer', False]\n",
        "3148"
       ]
      },
      {
       "output_type": "stream",
       "stream": "stdout",
       "text": [
        " ['media analyst', 'Matt Fairley', False]\n",
        "3149 ['computer programmer', 'Yaron Koren', ['15-1131', 'Computer Programmers', 'Computer Programmer']]\n",
        "5779 ['newspaper columnist', 'Catherine Pritchard', ['27-3022', 'Reporters and Correspondents', 'Newspaper Columnist']]\n",
        "5778 ['computer network manager', 'Tom Lundregan', False]\n",
        "5771 ['high school teacher', 'Heather Ross-Arters', ['MiscTeacher', 'Teacher', 'Teacher']]\n",
        "5770 ['freelance editor and writer', 'Michele Lee Amundsen', False]\n",
        "5773"
       ]
      },
      {
       "output_type": "stream",
       "stream": "stdout",
       "text": [
        " ['truck loader and bartender', 'Willie Holmes', False]\n",
        "5772 ['university professor', 'Gadi Ben-Yehuda', False]\n",
        "5775 ['software entrepreneur', 'Kyle Pope', False]\n",
        "5774 ['student', 'Claudine Damm', False]\n",
        "5777"
       ]
      },
      {
       "output_type": "stream",
       "stream": "stdout",
       "text": [
        " ['insurance adjuster', 'Matt Davidson', False]\n",
        "5776 ['college student', 'Elizabeth Baxter', False]\n",
        "9010 ['writer', 'Ken Jennings', False]\n",
        "1633 ['attorney', 'Bill McLean', ['23-1011', 'Lawyers', 'Attorney']]\n",
        "3967"
       ]
      },
      {
       "output_type": "stream",
       "stream": "stdout",
       "text": [
        " ['medical missions coordinator', 'Amy Fuller', False]\n",
        "7412 ['graduate student in teaching', 'Rachel Winer', ['GradStu', 'Graduate student', 'Graduate student']]\n",
        "7413 ['professor of medieval literature', 'Meg Price', False]\n",
        "7410 ['arts education administrator', 'Dolores DeStefano', False]\n",
        "7411"
       ]
      },
      {
       "output_type": "stream",
       "stream": "stdout",
       "text": [
        " ['field education coordinator', 'Jeff Amoros', False]\n",
        "7416 ['twelve-year-old', 'Charlotte Scott', False]\n",
        "7417 ['eleven-year-old', 'Aria Gerson', False]\n",
        "7414 ['high school history teacher', 'Ben Wong', ['MiscTeacher', 'Teacher', 'Teacher']]\n",
        "7415 ['high school English teacher', 'Josh Cabat', ['MiscTeacher', 'Teacher', 'Teacher']]\n",
        "7418"
       ]
      },
      {
       "output_type": "stream",
       "stream": "stdout",
       "text": [
        " ['twelve-year-old', 'Graham Doskoch', False]\n",
        "7419 ['eleven-year-old', 'Meg Walker', False]\n",
        "6613 ['college librarian', 'Jennie Burroughs', ['25-4021', 'Librarians', 'College Librarian']]\n",
        "6612 ['engine assembler', 'Jason Zollinger', False]\n",
        "6611"
       ]
      },
      {
       "output_type": "stream",
       "stream": "stdout",
       "text": [
        " ['artist', 'Deepa Iyengar', False]\n",
        "6610 ['database administrator', 'Bobby Goldstein', False]\n",
        "6617 ['graduate student in human genetics', 'Janna Hutz', ['GradStu', 'Graduate student', 'Graduate student']]\n",
        "6616 ['high school language arts teacher', 'Thomas Meringolo', ['MiscTeacher', 'Teacher', 'Teacher']]\n",
        "6615 ['musician', 'Susie L\\xf3pez', ['27-2042', 'Musicians and Singers', 'Musician']]\n",
        "6614 ['teacher', 'George Lewis', ['MiscTeacher', 'Teacher', 'Teacher']]\n",
        "6619 ['editorial assistant', 'Adrianne Hiltz', ['43-9081', 'Proofreaders and Copy Markers', 'Editorial Assistant']]\n",
        "6618 ['high school history teacher', 'Andrew Chrzanowski', ['MiscTeacher', 'Teacher', 'Teacher']]\n",
        "3500"
       ]
      },
      {
       "output_type": "stream",
       "stream": "stdout",
       "text": [
        " ['trial judge', 'Ben Studdard', False]\n",
        "3501 ['account manager', 'Brendan Roche', False]\n",
        "3502 ['pre-law student', 'Adam Epstein', False]\n",
        "3503 ['attorney', 'Amy Borgstedte', ['23-1011', 'Lawyers', 'Attorney']]\n",
        "3504 ['accountant', 'Bill Alston', ['13-2011', 'Accountants and Auditors', 'Accountant']]\n",
        "9011 ['junior high school math teacher', 'Michael Falk', ['MiscTeacher', 'Teacher', 'Teacher']]\n",
        "3505 ['high school teacher', 'Wanda Berthelot', ['MiscTeacher', 'Teacher', 'Teacher']]\n",
        "3506"
       ]
      },
      {
       "output_type": "stream",
       "stream": "stdout",
       "text": [
        " ['emergency room physician', 'Steve Cirelli', False]\n",
        "3507 ['missionary', 'Cheryl Stauffer', ['21-2099', 'Religious Workers, All Other', 'Missionary']]\n",
        "2345 ['junior', 'Derek Bridges', False]\n",
        "2344 ['junior', 'Amanda Goad', False]\n",
        "2347 ['financial consultant', 'Andrew Burtle', False]\n",
        "2346"
       ]
      },
      {
       "output_type": "stream",
       "stream": "stdout",
       "text": [
        " ['foreign language student', 'Kevin Shultz', False]\n",
        "2341 ['student', 'Jonathan Dvorak', False]\n",
        "2340 ['writer', 'Barbara Reinertsen', False]\n",
        "2343 ['junior', 'Joe Gurski', False]\n",
        "2342"
       ]
      },
      {
       "output_type": "stream",
       "stream": "stdout",
       "text": [
        " ['office automation specialist', 'Robert Slaven', False]\n",
        "2349 ['policy analyst', 'Sasha Volokh', False]\n",
        "2348 ['foreign service officer', 'Carolyn Christian', False]\n",
        "2067 ['teacher', 'Stefanie Morales', ['MiscTeacher', 'Teacher', 'Teacher']]\n",
        "3708"
       ]
      },
      {
       "output_type": "stream",
       "stream": "stdout",
       "text": [
        " ['Lutheran pastor', 'Bill Shields', False]\n",
        "3709 ['licensed veterinary technician', 'Diane Harvey', False]\n",
        "1889 ['science analyst', 'Greg Little', False]\n",
        "1888 ['teacher', 'Jacqueline Lovell', ['MiscTeacher', 'Teacher', 'Teacher']]\n",
        "1887 ['bartender', 'Patrick McElroy', ['35-3011', 'Bartenders', 'Bartender']]\n",
        "1886"
       ]
      },
      {
       "output_type": "stream",
       "stream": "stdout",
       "text": [
        " ['artist & designer', 'Kristi Yacich', False]\n",
        "1885 ['medical researcher', 'Bruce Monroe', False]\n",
        "1884 ['graduate student', 'Lucia Flevares', ['GradStu', 'Graduate student', 'Graduate student']]\n",
        "1883 ['law student', 'Linda Bird', False]\n",
        "1882 ['sports reporter', 'Budd Bailey', False]\n",
        "3704"
       ]
      },
      {
       "output_type": "stream",
       "stream": "stdout",
       "text": [
        " ['sophomore', 'Kaitlin Welborn', False]\n",
        "3705 ['freshman', 'Will Schultz', False]\n",
        "2121 ['professor of economics', 'Mary Hirschfeld', False]\n",
        "2120 ['elementary school teacher', 'Michael Dominguez', ['MiscTeacher', 'Teacher', 'Teacher']]\n",
        "2123"
       ]
      },
      {
       "output_type": "stream",
       "stream": "stdout",
       "text": [
        " ['communications director', 'Mason Cole', False]\n",
        "2122 ['permit coordinator', 'Kristine Bachand', False]\n",
        "2125 ['fourth-year medical student', 'Kip Thompson', False]\n",
        "2124"
       ]
      },
      {
       "output_type": "stream",
       "stream": "stdout",
       "text": [
        " ['writer', 'Jennifer Hawthorne', False]\n",
        "4918 ['sophomore', 'Andrew Chung', False]\n",
        "2126 ['medical doctor', 'David Ono', False]\n",
        "4916"
       ]
      },
      {
       "output_type": "stream",
       "stream": "stdout",
       "text": [
        " ['junior', 'James Grant', False]\n",
        "4917 ['junior', 'Dara Lind', False]\n",
        "4914 ['senior', 'Danielle Zsenak', False]\n",
        "4667"
       ]
      },
      {
       "output_type": "stream",
       "stream": "stdout",
       "text": [
        " ['senior', 'Zia Choudhury', False]\n",
        "4660 ['law student', 'Srinivas Ayyagari', False]\n",
        "4661"
       ]
      },
      {
       "output_type": "stream",
       "stream": "stdout",
       "text": [
        " ['water service inspector', 'Ben Chaput', False]\n",
        "4662 ['copy editor', 'Alison Kolani', ['27-3041', 'Editors', 'Copy Editor']]\n",
        "4663 ['reference server', 'Katie Furlong', False]\n",
        "6917 ['eleven-year-old', 'Sita Yerramsetti', False]\n",
        "6910"
       ]
      },
      {
       "output_type": "stream",
       "stream": "stdout",
       "text": [
        " ['twelve-year-old', 'Andrea Salt', False]\n",
        "6911 ['twelve-year-old', 'Bryce Piotrowski', False]\n",
        "5173 ['Social Security quality assessor', 'Mary Webster', False]\n",
        "5172 ['attorney', 'Lou Pryor', ['23-1011', 'Lawyers', 'Attorney']]\n",
        "5171 ['marketing teacher', 'Bob Olsen', ['MiscTeacher', 'Teacher', 'Teacher']]\n",
        "5170"
       ]
      },
      {
       "output_type": "stream",
       "stream": "stdout",
       "text": [
        " ['direct marketing executive', 'Tom Grant', False]\n",
        "5177 ['underwriter', 'Matt Olsen', False]\n",
        "5176 ['winner of 2 Emmys', 'Robert Guillaume', False]\n",
        "5175"
       ]
      },
      {
       "output_type": "stream",
       "stream": "stdout",
       "text": [
        " ['6-time Emmy Award nominee', 'Ed Begley Jr.', False]\n",
        "5174 ['comedienne', \"Rosie O'Donnell\", False]\n",
        "5179 ['from Fredericksburg, Virginia...', 'Tucker Warner', False]\n",
        "5178 ['lawyer', 'Justine Lisser', ['23-1011', 'Lawyers', 'Lawyer']]\n",
        "133"
       ]
      },
      {
       "output_type": "stream",
       "stream": "stdout",
       "text": [
        " ['law student', 'Tom McCudden', False]\n",
        "132 ['law student', 'Alex Bready', False]\n",
        "131 ['environmental policy specialist', 'Megan Susman', False]\n",
        "130 ['library assistant', 'Jackie Cipa', ['43-4121', 'Library Assistants, Clerical', 'Library Assistant']]\n",
        "137 ['playwright', 'David Davalos', ['27-3043', 'Writers and Authors', 'Playwright']]\n",
        "136"
       ]
      },
      {
       "output_type": "stream",
       "stream": "stdout",
       "text": [
        " ['software engineer', 'Robert Bowsher', False]\n",
        "135 ['stay-at-home mom', 'Colette Moran', False]\n",
        "134 ['teacher', 'Karen Lafferty', ['MiscTeacher', 'Teacher', 'Teacher']]\n",
        "139 ['political science professor', 'Jerry Mayer', False]\n",
        "138 ['writer', 'Snow Tempest', False]\n",
        "5924 ['high school teacher and grad student', 'Cora Peck', ['MiscTeacher', 'Teacher', 'Teacher']]\n",
        "7254"
       ]
      },
      {
       "output_type": "stream",
       "stream": "stdout",
       "text": [
        " ['research director', 'Duncan Stewart', False]\n",
        "7255 ['graduate instructor and Ph.D. student', 'Christine Varnado', False]\n",
        "7256 ['attorney', 'Alan Wyle', ['23-1011', 'Lawyers', 'Attorney']]\n",
        "7257 ['homemaker', 'Marge Burgess', False]\n",
        "7250 ['floral designer', 'Mary Linnenbringer', False]\n",
        "7251"
       ]
      },
      {
       "output_type": "stream",
       "stream": "stdout",
       "text": [
        " ['bank branch manager', 'Zack Azzam', False]\n",
        "7252 ['attorney[?]', 'Bob Beers', False]\n",
        "7253 ['professor[?]', 'Rick Filloy', False]\n",
        "7258 ['high school English and drama teacher', 'Erin Maxwell', ['MiscTeacher', 'Teacher', 'Teacher']]\n",
        "7259 ['lawyer', 'Stephen Huey', ['23-1011', 'Lawyers', 'Lawyer']]\n",
        "6855 ['transcriber', 'Jeff Johnson', False]\n",
        "6854 ['marketing consultant', 'Shaun Desmond', ['13-1161', 'Market Research Analysts and Marketing Specialists', 'Marketing Consultant']]\n",
        "6857"
       ]
      },
      {
       "output_type": "stream",
       "stream": "stdout",
       "text": [
        " ['loss mitigation consultant', 'Susan Thatcher', False]\n",
        "6856 ['elections administrator', 'Gerry Cuddyer', False]\n",
        "6851 ['editor for a business school', 'Cathy Melocik', False]\n",
        "6850"
       ]
      },
      {
       "output_type": "stream",
       "stream": "stdout",
       "text": [
        " ['program analyst for the Department of Navy', 'Aaron Ammerman', False]\n",
        "6853 ['biomedical writer', 'Cheryl Parrott', False]\n",
        "6852 ['graduate student in Russian studies', 'Sally Ronald', ['GradStu', 'Graduate student', 'Graduate student']]\n",
        "6859 ['newspaper reporter', 'J.R. Lind', False]\n",
        "6858"
       ]
      },
      {
       "output_type": "stream",
       "stream": "stdout",
       "text": [
        " ['project manager', 'Greg Lyon', False]\n",
        "88 ['attorney and media sales rep', 'Elizabeth Costello', False]\n",
        "89 ['aspiring playwright', 'John Murray', False]\n",
        "82 ['high school teacher', 'Lisa Ellis', ['MiscTeacher', 'Teacher', 'Teacher']]\n",
        "83 ['minister', 'Ben Wiles', ['21-2011', 'Clergy', 'Minister']]\n",
        "80"
       ]
      },
      {
       "output_type": "stream",
       "stream": "stdout",
       "text": [
        " ['publisher', 'Sandy Grimwade', False]\n",
        "81 ['historian', 'Brian Shipley', False]\n",
        "86 ['documentation manager', 'Jennifer Knapp', False]\n",
        "87 ['billing administrator', 'Jerry Taggart', False]\n",
        "84"
       ]
      },
      {
       "output_type": "stream",
       "stream": "stdout",
       "text": [
        " ['graphic designer', 'Rob Perry', ['27-1024', 'Graphic Designers', 'Graphic Designer']]\n",
        "85 ['student and adjunct writing instructor', 'Denise Tanyol', False]\n",
        "8804 ['web editor', 'Reem Fattouh', False]\n",
        "8805 ['literary manager', 'Murray Weiss', False]\n",
        "8806"
       ]
      },
      {
       "output_type": "stream",
       "stream": "stdout",
       "text": [
        " ['attorney', 'Meredith Larson', ['23-1011', 'Lawyers', 'Attorney']]\n",
        "8807 ['process-automation engineer', 'Phil Lowe', False]\n",
        "8800 ['business intelligence consultant', 'Tahne Aarnes', False]\n",
        "8801"
       ]
      },
      {
       "output_type": "stream",
       "stream": "stdout",
       "text": [
        " ['high school dean of students', 'Cecilia Cuevas', False]\n",
        "8802 ['operations manager', 'Franke Santos', ['11-1021', 'General and Operations Managers', 'Operations Manager']]\n",
        "8803 ['graduate student of history', 'Craig Cornish, Jr.', ['GradStu', 'Graduate student', 'Graduate student']]\n",
        "8808 ['student', 'Sam Bernhard', False]\n",
        "8809 ['retired police officer', 'Donna Fairweather-Foley', False]\n",
        "6583 ['surgeon', 'Judy Weisman', False]\n",
        "6582 ['undergraduate student', 'Chris Parsons', ['GradStu', 'Graduate student', 'Graduate student']]\n",
        "6581"
       ]
      },
      {
       "output_type": "stream",
       "stream": "stdout",
       "text": [
        " ['food stylist', 'Vince Camillo', False]\n",
        "6580 ['public relations director', 'Kathy Shinkle', ['11-2031', 'Public Relations and Fundraising Managers', 'Public Relations Director']]\n",
        "6587 ['scientist', 'Sergiu Sanielevici', False]\n",
        "6586 ['administrative assistant', 'Jessica Stapp', False]\n",
        "6585 ['purchasing agent', 'Chris Gleason', False]\n",
        "6584"
       ]
      },
      {
       "output_type": "stream",
       "stream": "stdout",
       "text": [
        " ['writer', 'Breanne Reinhard Smith', False]\n",
        "8206 ['homemaker', 'Virginia Sielen', False]\n",
        "8207 ['attorney', 'Wade Ballard', ['23-1011', 'Lawyers', 'Attorney']]\n",
        "6589 ['television writer', 'Hayes Davenport', ['27-3043', 'Writers and Authors', 'Television Writer']]\n",
        "6588 ['attorney', 'Patty Jasper', ['23-1011', 'Lawyers', 'Attorney']]\n",
        "8202 ['game merchant', 'Dave Leach', False]\n",
        "8203 ['high school German teacher', 'Patrick Quinn', ['MiscTeacher', 'Teacher', 'Teacher']]\n",
        "8200 ['writer', 'John Podhoretz', False]\n",
        "8201"
       ]
      },
      {
       "output_type": "stream",
       "stream": "stdout",
       "text": [
        " ['underwriter', 'Ashok Poozhikunnel', False]\n",
        "7625 ['photographic representative', 'Charley Horan', False]\n",
        "7624 ['fulfillment manager', 'Patrick Rostock', False]\n",
        "7627 ['writer', 'Tom Vanderbilt', False]\n",
        "7626"
       ]
      },
      {
       "output_type": "stream",
       "stream": "stdout",
       "text": [
        " ['yogurt franchise operator', 'John Kirk', False]\n",
        "7621 ['graduate student of international science and technology policy', 'Andrew Robinson', ['GradStu', 'Graduate student', 'Graduate student']]\n",
        "7620 ['corporate controller', 'Andrea Bornschlegel', False]\n",
        "7623 ['comedy writer', 'Lesley Tsina', False]\n",
        "7622 ['elementary school teacher', 'Bill Moreau', ['MiscTeacher', 'Teacher', 'Teacher']]\n",
        "7629 ['software analyst', 'Dave Leach', False]\n",
        "7628"
       ]
      },
      {
       "output_type": "stream",
       "stream": "stdout",
       "text": [
        " ['educational marketer', 'Lisa Spardel-Krol', False]\n",
        "7828 ['stand-up comedian', 'Lewis Black', False]\n",
        "8994 ['attorney', 'Christine Dibble', ['23-1011', 'Lawyers', 'Attorney']]\n",
        "7822 ['political reporter', \"Kelly O'Donnell\", ['27-3022', 'Reporters and Correspondents', 'Political Reporter']]\n",
        "3368 ['writer', 'Bill Popper', False]\n",
        "1502"
       ]
      },
      {
       "output_type": "stream",
       "stream": "stdout",
       "text": [
        " ['coffee shop manager and trainer', 'Lisa Peabody', False]\n",
        "1503 ['computer programmer & writer', 'John Kiernan', False]\n",
        "1500 ['university lecturer', 'Evan Fletcher', False]\n",
        "1501"
       ]
      },
      {
       "output_type": "stream",
       "stream": "stdout",
       "text": [
        " ['software engineer', 'Marcus Jackson', False]\n",
        "3089 ['project manager', \"Robin O'Brien\", False]\n",
        "3088 ['human resources systems manager', 'Nancy Mitchell', False]\n",
        "1504 ['voice teacher & accountant', 'Lee Morgan', ['MiscTeacher', 'Teacher', 'Teacher']]\n",
        "1505"
       ]
      },
      {
       "output_type": "stream",
       "stream": "stdout",
       "text": [
        " ['congressional staff member', 'Scott Kearin', False]\n",
        "3085 ['actress', 'Ashley Ward', ['27-2011', 'Actors', 'Actress']]\n",
        "3084 ['immigration attorney', 'Shane Hockins', False]\n",
        "3087 ['stagehand', 'Joe Collins', False]\n",
        "3086"
       ]
      },
      {
       "output_type": "stream",
       "stream": "stdout",
       "text": [
        " ['graduate teaching assistant', 'Darrell Hagler', False]\n",
        "3081 ['psychology professor', 'John Haworth', ['25-1066', 'Psychology Teachers, Postsecondary', 'Psychology Professor']]\n",
        "3080 ['vice president of sales', 'Jay Myer', False]\n",
        "3083 ['graduate student', 'Jill Whitehead', ['GradStu', 'Graduate student', 'Graduate student']]\n",
        "3082 ['call center representative', 'Jesse Lamovsky', False]\n",
        "3369 ['information specialist', 'Molly McGowan', False]\n",
        "3885"
       ]
      },
      {
       "output_type": "stream",
       "stream": "stdout",
       "text": [
        " ['newspaper editor', 'Chris Carson', False]\n",
        "3884 ['musician and contract manager', 'Dave Abbott', False]\n",
        "3887 ['stay-at-home mom', 'Amy Ryan', False]\n",
        "3886 ['retired patient advocate', 'Rosemary Travis', False]\n",
        "3881"
       ]
      },
      {
       "output_type": "stream",
       "stream": "stdout",
       "text": [
        " ['musician and entertainer', 'Lew Taylor', False]\n",
        "3880 ['literary agent and writer', 'Judson Knight', False]\n",
        "3883 ['teacher and legal proofreader', 'Natalie Segal', ['MiscTeacher', 'Teacher', 'Teacher']]\n",
        "3882 ['lawyer', 'Ben Douglas', ['23-1011', 'Lawyers', 'Lawyer']]\n",
        "3889 ['attorney', 'Bruce Carmen', ['23-1011', 'Lawyers', 'Attorney']]\n",
        "3888 ['preacher and doctoral candidate', 'Faith Kirkham Hawkins', False]\n",
        "2484 ['network engineer', 'Ron White', ['15-1143', 'Computer Network Architects', 'Network Engineer']]\n",
        "8325"
       ]
      },
      {
       "output_type": "stream",
       "stream": "stdout",
       "text": [
        " ['business manager', 'Karla Stahl', False]\n",
        "8324 ['law clerk', 'Greg Haroutunian', False]\n",
        "8327 ['consultant', 'Rick Muenchow', False]\n",
        "8326 ['information technology consultant', 'Mary Ann McIntyre', False]\n",
        "8321 ['registered nurse', 'Barb Cornell', ['29-1141', 'Registered Nurses', 'Registered Nurse']]\n",
        "7123"
       ]
      },
      {
       "output_type": "stream",
       "stream": "stdout",
       "text": [
        " ['law student', 'Ester Murdukhayeva', False]\n",
        "8320 ['claims attorney', 'Bill Cash', False]\n",
        "8323 ['global health consultant', 'Brad Tytel', False]\n",
        "8322 ['analyst for the federal government', 'Diane Mezzanotte', False]\n",
        "1291"
       ]
      },
      {
       "output_type": "stream",
       "stream": "stdout",
       "text": [
        " ['stamp dealer', 'Marvin Shinkman', False]\n",
        "6006 ['Air Force logistician', 'Wayne Byron', False]\n",
        "6007 ['Navy lab technician', 'Beth Sanfilippo', False]\n",
        "6004"
       ]
      },
      {
       "output_type": "stream",
       "stream": "stdout",
       "text": [
        " ['Navy anesthesiology resident', 'Alex Meza', False]\n",
        "6005 ['Marine Corps infantry officer', 'Thomas Citrano', False]\n",
        "6002 ['Navy supply corps officer', 'Charles Hurst', False]\n",
        "6003"
       ]
      },
      {
       "output_type": "stream",
       "stream": "stdout",
       "text": [
        " ['Air Force action officer', 'Steve Dranchak', False]\n",
        "6000 ['Marine Corps intelligence chief', 'Bill Wellman', False]\n",
        "6001 ['Air Force air traffic controller', 'Karen Smith', False]\n",
        "6008"
       ]
      },
      {
       "output_type": "stream",
       "stream": "stdout",
       "text": [
        " ['Marine company commander', 'Ben Connable', False]\n",
        "6009 ['Air Force weapons systems officer', 'Michael Arnold', False]\n",
        "7395 ['oncologist', 'Jay Rhee', False]\n",
        "7394 ['software architect', 'Steve Sobelman', False]\n",
        "7397"
       ]
      },
      {
       "output_type": "stream",
       "stream": "stdout",
       "text": [
        " ['director and writer of a sketch comedy theater', 'Scott Goldstein', False]\n",
        "7396 ['retired high school science teacher', 'Sam Fleming', ['MiscTeacher', 'Teacher', 'Teacher']]\n",
        "7391 ['stay-at-home mother', 'Lisa Longo', False]\n",
        "7390 ['telecommunications manager', 'Guy Tonti', False]\n",
        "7393"
       ]
      },
      {
       "output_type": "stream",
       "stream": "stdout",
       "text": [
        " ['personal assistant', 'Danielle Harlow', False]\n",
        "7392 ['foreign service officer', 'Stewart Tuttle', False]\n",
        "7399 ['project manager', 'Kate Sparich', False]\n",
        "7398"
       ]
      },
      {
       "output_type": "stream",
       "stream": "stdout",
       "text": [
        " ['mom and volunteer', 'Julianna Suchard', False]\n",
        "9098 ['consultant', 'Ethan Rasiel', False]\n",
        "9099 ['attorney', 'Linda DeBrango', ['23-1011', 'Lawyers', 'Attorney']]\n",
        "9094 ['senior', 'Gene Hayes', False]\n",
        "9095 ['senior', 'Sascha Dublin', False]\n",
        "9096 ['dentist', 'Dylan Gaillard', False]\n",
        "9097"
       ]
      },
      {
       "output_type": "stream",
       "stream": "stdout",
       "text": [
        " ['law professor', 'Jeanne Kaiser', False]\n",
        "9090 ['senior', 'Stephanie Wulfesteig', False]\n",
        "9091 ['junior', 'Julie Robichaux', False]\n",
        "9092 ['U.S. Air Force logistics readiness officer', 'Steve Martinez', False]\n",
        "9093"
       ]
      },
      {
       "output_type": "stream",
       "stream": "stdout",
       "text": [
        " ['media consultant', 'Simone Chavoor', False]\n",
        "5098 ['author and comedian', 'Al Franken', False]\n",
        "5099 ['former congresswoman', 'Pat Schroeder', False]\n",
        "3579 ['sales representative', 'Sheryl Page', False]\n",
        "3578"
       ]
      },
      {
       "output_type": "stream",
       "stream": "stdout",
       "text": [
        " ['computer science professor', 'Scott Weiss', False]\n",
        "5090 ['advertising creative director', 'Isaac Segal', False]\n",
        "5091 ['law student', 'Arianna Kelly', False]\n",
        "5092 ['tech salesman', 'Fred Henn', False]\n",
        "5093"
       ]
      },
      {
       "output_type": "stream",
       "stream": "stdout",
       "text": [
        " ['attorney and professor', 'Robert F. Kennedy, Jr.', False]\n",
        "5094 ['journalist', 'Dee Dee Myers', False]\n",
        "5095 ['congressman', 'Jesse L. Jackson, Jr.', False]\n",
        "5096 ['client services manager', 'Liz Basile', False]\n",
        "5097"
       ]
      },
      {
       "output_type": "stream",
       "stream": "stdout",
       "text": [
        " ['infantryman', 'Greg Bell', ['55-3016', 'Infantry', 'Infantryman']]\n",
        "4497 ['journalist', 'Adrian Higgins', False]\n",
        "4496 ['attorney', 'Richard Kolostian', ['23-1011', 'Lawyers', 'Attorney']]\n",
        "4495 ['mechanical engineering student', 'Rahsaan Footman', False]\n",
        "4494"
       ]
      },
      {
       "output_type": "stream",
       "stream": "stdout",
       "text": [
        " ['investment portfolio manager', 'Greg Sondern', False]\n",
        "4493 ['software engineer', 'Joe Maravillas', False]\n",
        "4492 ['physician', 'Sameer Bakhda', False]\n",
        "4491 ['technical editor and writer', 'Robin Jones', False]\n",
        "4490"
       ]
      },
      {
       "output_type": "stream",
       "stream": "stdout",
       "text": [
        " ['stay-at-home mom', 'Melinda Croft', False]\n",
        "4499 ['Marine law student', 'Dave Roberts', False]\n",
        "4498 ['airline salesperson', 'Margot Wiegele', False]\n",
        "2938 ['editor', 'Tara Kolden', False]\n",
        "2939"
       ]
      },
      {
       "output_type": "stream",
       "stream": "stdout",
       "text": [
        " ['pre-med student and disc jockey', 'Omid Foladi', False]\n",
        "2936 ['coffeehouse owner', 'Lorraine Mariz', False]\n",
        "2937 ['pastor', 'Cory Hartman', ['21-2011', 'Clergy', 'Pastor']]\n",
        "2934 ['realtor', 'John Gershkoff', False]\n",
        "2935 ['high school religion teacher', 'Perry Gentry', ['MiscTeacher', 'Teacher', 'Teacher']]\n",
        "2932"
       ]
      },
      {
       "output_type": "stream",
       "stream": "stdout",
       "text": [
        " ['freelance writer and stand-up comedian', 'Steve Calechman', False]\n",
        "2933 ['law student', 'Robin Pelkey', False]\n",
        "2930 ['market research analyst', 'Amy Matoian', ['13-1161', 'Market Research Analysts and Marketing Specialists', 'Market Research Analyst']]\n",
        "2931 ['recent college graduate', 'Quyen Luu', False]\n",
        "5326"
       ]
      },
      {
       "output_type": "stream",
       "stream": "stdout",
       "text": [
        " ['student and editor', 'James See', False]\n",
        "5327 ['administrative assistant', 'Hope Weinman', False]\n",
        "5324 ['cable television system manager', 'Danny Jobe', False]\n",
        "5325 ['astrophysicist', 'Bronson Messer', ['19-2011', 'Astronomers', 'Astrophysicist']]\n",
        "5322"
       ]
      },
      {
       "output_type": "stream",
       "stream": "stdout",
       "text": [
        " ['actor and copy editor', 'India Cooper', False]\n",
        "5323 ['treasury associate', 'Elayna Kotsaftis', False]\n",
        "5320 ['financial consultant', 'Kurt Kroboth', False]\n",
        "5321 ['U.S. history teacher', 'Bruce Higginbotham', ['MiscTeacher', 'Teacher', 'Teacher']]\n",
        "3799"
       ]
      },
      {
       "output_type": "stream",
       "stream": "stdout",
       "text": [
        " ['humanitarian advocate', 'Sarah Martin', False]\n",
        "5328 ['freelance editor and writer', 'Joal Hetherington', False]\n",
        "5329 ['attorney', 'Charlie Rose', ['23-1011', 'Lawyers', 'Attorney']]\n",
        "1743"
       ]
      },
      {
       "output_type": "stream",
       "stream": "stdout",
       "text": [
        " ['law student', 'Liz Fasoldt', False]\n",
        "3797 ['instructional coordinator', 'Kathy Giddens', ['25-9031', 'Instructional Coordinators', 'Instructional Coordinator']]\n",
        "3796 ['brand strategist', 'Leigh Bachman', False]\n",
        "3168 ['data processing consultant', 'Tom Daily', False]\n",
        "3169"
       ]
      },
      {
       "output_type": "stream",
       "stream": "stdout",
       "text": [
        " ['emergency room physician', 'Jeremy Simon', False]\n",
        "3166 ['talent backer', 'Jessica Finkelberg', False]\n",
        "3167 ['public defender', 'Jason Blankenship', ['23-1011', 'Lawyers', 'Public Defender']]\n",
        "3164 ['attorney', 'Mike Zwick', ['23-1011', 'Lawyers', 'Attorney']]\n",
        "3165"
       ]
      },
      {
       "output_type": "stream",
       "stream": "stdout",
       "text": [
        " ['media affadavit specialist', 'Jeff DeVries', False]\n",
        "3162 ['judicial clerk', 'Jean Lucasey', ['23-1012', 'Judicial Law Clerks', 'Judicial Clerk']]\n",
        "3163 ['musician', 'David Thorne Scott', ['27-2042', 'Musicians and Singers', 'Musician']]\n",
        "3160 ['forensic engineer', 'Daniel Melcher', False]\n",
        "3161 ['environmental engineer', 'Bob Waterfall', ['17-2081', 'Environmental Engineers', 'Environmental Engineer']]\n",
        "2154 ['teacher and playwright', 'Harold Skinner', ['MiscTeacher', 'Teacher', 'Teacher']]\n",
        "2155 ['lawyer', 'Geoffrey Zimmerman', ['23-1011', 'Lawyers', 'Lawyer']]\n",
        "2156 ['multimedia artist', 'Kristin Lawhead', ['27-1014', 'Multimedia Artists and Animators', 'Multimedia Artist']]\n",
        "731"
       ]
      },
      {
       "output_type": "stream",
       "stream": "stdout",
       "text": [
        " ['freelance writer', 'Hal Akerman', False]\n",
        "730 ['boat captain', 'Brian Perachet', False]\n",
        "733 ['interior decorator', 'Ralph Moore', ['27-1025', 'Interior Designers', 'Interior Decorator']]\n",
        "2157 ['director of communication', 'Kris MacCubbin', False]\n",
        "735 ['teacher', 'Marty Wazowicz', ['MiscTeacher', 'Teacher', 'Teacher']]\n",
        "734 ['book editor', 'Pat Hansen', ['27-3041', 'Editors', 'Book Editor']]\n",
        "737"
       ]
      },
      {
       "output_type": "stream",
       "stream": "stdout",
       "text": [
        " ['Catholic priest', 'Tom Smolich', False]\n",
        "736 ['accountant', 'Larry Thompson', ['13-2011', 'Accountants and Auditors', 'Accountant']]\n",
        "739 ['marketing and strategy consultant', 'Mary Sue Hoban', False]\n",
        "2150 ['Air Force officer', 'John Perez', False]\n",
        "2151"
       ]
      },
      {
       "output_type": "stream",
       "stream": "stdout",
       "text": [
        " ['copywriter', 'Chris Knight', ['27-3043', 'Writers and Authors', 'Copywriter']]\n",
        "2152 ['environmental policy specialist', 'Amy Rosenfeld', False]\n",
        "2153 ['state fraud manager', 'Earl Smith', False]\n",
        "2006"
       ]
      },
      {
       "output_type": "stream",
       "stream": "stdout",
       "text": [
        " ['graphic designer', 'Kristen Meinhold', ['27-1024', 'Graphic Designers', 'Graphic Designer']]\n",
        "2007 ['teacher', 'Mary Albanese', ['MiscTeacher', 'Teacher', 'Teacher']]\n",
        "8567 ['law student', 'Duane Lyons', False]\n",
        "8566 ['theatrical production manager', 'Andrea Ladik', False]\n",
        "8565"
       ]
      },
      {
       "output_type": "stream",
       "stream": "stdout",
       "text": [
        " ['theater and opera lighting designer', 'Bradley King', False]\n",
        "8564 ['library shelver and pet sitter', 'Deborah Stowell', False]\n",
        "8563 ['seminary and law student', 'Tony De La Rosa', False]\n",
        "8562"
       ]
      },
      {
       "output_type": "stream",
       "stream": "stdout",
       "text": [
        " ['student', 'Greg Pieschala', False]\n",
        "8561 ['administrative assistant', 'Libby Webber', False]\n",
        "8560 ['commercial pilot', 'Toby Crew', False]\n",
        "8569"
       ]
      },
      {
       "output_type": "stream",
       "stream": "stdout",
       "text": [
        " ['attorney', 'Jeffrey Wachs', ['23-1011', 'Lawyers', 'Attorney']]\n",
        "8568 ['public relations associate', 'Amanda Farrish', False]\n",
        "7478 ['housing court judge', 'Anne Kenney Chaplin', False]\n",
        "7479"
       ]
      },
      {
       "output_type": "stream",
       "stream": "stdout",
       "text": [
        " ['forensics researcher', 'Ellen Mizio', False]\n",
        "7470 ['attorney', 'Glenn Edwards', ['23-1011', 'Lawyers', 'Attorney']]\n",
        "7471 ['MBA student', 'Ken Herrera', False]\n",
        "7472 ['educational publishing digital producer', 'Alex Liteplo', False]\n",
        "7473"
       ]
      },
      {
       "output_type": "stream",
       "stream": "stdout",
       "text": [
        " ['school receptionist', 'Beth Hermann', False]\n",
        "7474 ['dairy machine operator', 'Patrick Sweaney', False]\n",
        "7475 ['book editor', 'Jessica Burr', ['27-3041', 'Editors', 'Book Editor']]\n",
        "7476 ['attorney', 'Amit Kurlekar', ['23-1011', 'Lawyers', 'Attorney']]\n",
        "7477 ['communications manager', 'Brian Lehman', False]\n",
        "6639"
       ]
      },
      {
       "output_type": "stream",
       "stream": "stdout",
       "text": [
        " ['public relations executive', 'Darryl Konter', False]\n",
        "6638 ['attorney', 'Nick Gebelt', ['23-1011', 'Lawyers', 'Attorney']]\n",
        "6631 ['accountant', 'Steve Reynolds', ['13-2011', 'Accountants and Auditors', 'Accountant']]\n",
        "6630 ['cost accounting manager', 'Sue Shelly', False]\n",
        "6633 ['Ph.D. student in linguistics', 'Bern Samko', False]\n",
        "6632"
       ]
      },
      {
       "output_type": "stream",
       "stream": "stdout",
       "text": [
        " ['health care application consultant', 'Ted Ahern', False]\n",
        "6635 ['actress', 'Elizabeth Perkins', ['27-2011', 'Actors', 'Actress']]\n",
        "6634 ['game show host', 'Pat Sajak', ['27-3011', 'Radio and Television Announcers', 'Game Show Host']]\n",
        "6637 ['energy efficiency analyst', 'Jennifer Thorne', False]\n",
        "6636 ['actor', 'Doug Savant', False]\n",
        "4707 ['management consultant', 'Matt Padula', ['13-1111', 'Management Analysts', 'Management Consultant']]\n",
        "4706 ['legal writer', 'Beth Holliday', False]\n",
        "4705"
       ]
      },
      {
       "output_type": "stream",
       "stream": "stdout",
       "text": [
        " ['play-by-play announcer', 'Bill Needle', False]\n",
        "4704 ['law student', 'Richard Hill', False]\n",
        "4703 ['dermatologist', 'Robin Travers', ['29-1069', 'Physicians and Surgeons, All Other', 'Dermatologist']]\n",
        "4702 ['fundraiser', 'Beth Looney', False]\n",
        "2325 ['history student', 'Jason Russell', False]\n",
        "4700"
       ]
      },
      {
       "output_type": "stream",
       "stream": "stdout",
       "text": [
        " ['distribution manager', 'Steve Bennett', False]\n",
        "2329 ['customer service supervisor', 'Ronda Barker', False]\n",
        "2328 ['business owner', 'Helen Sporher', False]\n",
        "4709 ['portfolio manager', 'Karen Rosenberg', False]\n",
        "4708"
       ]
      },
      {
       "output_type": "stream",
       "stream": "stdout",
       "text": [
        " ['pricing manager', 'Maria Campbell', False]\n",
        "3760 ['nonprofit consultant', 'Bruce Leggat', False]\n",
        "3761 ['bookseller', 'Carol Coltz', False]\n",
        "3762 ['graduate assistant', 'James Clark', False]\n",
        "3763"
       ]
      },
      {
       "output_type": "stream",
       "stream": "stdout",
       "text": [
        " ['manager of marketing intelligence', 'Cindy Ladensack', False]\n",
        "3764 ['snowcoach driver and hotel manager', 'Vic Sawyer', False]\n",
        "3765 ['law student', 'Allison Frisbee', False]\n",
        "3766 ['lawyer', 'Joe Pozzuoli', ['23-1011', 'Lawyers', 'Lawyer']]\n",
        "3767"
       ]
      },
      {
       "output_type": "stream",
       "stream": "stdout",
       "text": [
        " ['writer', 'Susan Wessells', False]\n",
        "3768 [\"children's librarian\", 'Pauline Harris', ['25-4021', 'Librarians', \"Children's Librarian\"]]\n",
        "3769 ['grad student', 'Mehrun Etebari', False]\n",
        "1560 ['senior', 'Loren Loiacono', False]\n",
        "1561 ['senior', 'Andrew Kreitz', False]\n",
        "1562"
       ]
      },
      {
       "output_type": "stream",
       "stream": "stdout",
       "text": [
        " ['senior', 'Sebastian Johnson', False]\n",
        "2499 ['data conversion operator', 'Elizabeth Haines', False]\n",
        "2498 ['trial lawyer', 'Jeff Kinstler', ['23-1011', 'Lawyers', 'Trial Lawyer']]\n",
        "4648 ['housewife', 'Susanne Sutton', False]\n",
        "1563"
       ]
      },
      {
       "output_type": "stream",
       "stream": "stdout",
       "text": [
        " ['medical & law student', 'Fazal Khan', False]\n",
        "4642 ['research analyst', 'Rachel Stohl', False]\n",
        "2490 ['telephone operator', 'Nick Lamelza', False]\n",
        "4640"
       ]
      },
      {
       "output_type": "stream",
       "stream": "stdout",
       "text": [
        " ['geographic information systems analyst', 'Lee Diveley', False]\n",
        "4641 ['homemaker', 'Betsy Mills', False]\n",
        "4646 ['network administrator', 'Linda Ferrazzara', False]\n",
        "4647 ['writer', 'Scott Tarapczynski', False]\n",
        "4644 ['high school chemistry teacher', 'Cameron Soulis', ['MiscTeacher', 'Teacher', 'Teacher']]\n",
        "4645 ['history teacher', 'Jeff Grimes', ['MiscTeacher', 'Teacher', 'Teacher']]\n",
        "1566 ['senior', 'Matt Klein', False]\n",
        "7898"
       ]
      },
      {
       "output_type": "stream",
       "stream": "stdout",
       "text": [
        " ['police officer', 'Bruce Wiley', False]\n",
        "7899 ['junior high school teacher', 'Jeannine DuBois', ['MiscTeacher', 'Teacher', 'Teacher']]\n",
        "7896 ['executive assistant', 'Jennifer Emmett', ['43-6011', 'Executive Secretaries and Executive Administrative Assistants', 'Executive Assistant']]\n",
        "7897 ['web designer', 'Ron King', ['15-1134', 'Web Developers', 'Web Designer']]\n",
        "7894 ['bookkeeper', 'Rosalie Hill', ['43-3031', 'Bookkeeping, Accounting, and Auditing Clerks', 'Bookkeeper']]\n",
        "1567 ['sophomore', 'Katie James', False]\n",
        "7892 ['public library director', 'Leslie Page', False]\n",
        "7893"
       ]
      },
      {
       "output_type": "stream",
       "stream": "stdout",
       "text": [
        " ['theme park ride operator', 'Leo Velazquez', False]\n",
        "7890 ['high school speech and debate teacher', 'Taylor Norwood', ['MiscTeacher', 'Teacher', 'Teacher']]\n",
        "7891 ['culinary student and mom', 'Misha Bushyager', False]\n",
        "5159 ['network engineer', 'James Therry', ['15-1143', 'Computer Network Architects', 'Network Engineer']]\n",
        "5158 ['retired advertising agent', 'Kathy Krieger', False]\n",
        "5151 ['high school teacher', 'Tim House', ['MiscTeacher', 'Teacher', 'Teacher']]\n",
        "5150 ['materials scientist', 'Leszek Pawlowicz', ['19-2032', 'Materials Scientists', 'Materials Scientist']]\n",
        "5153 ['computer programmer', 'Cheryl Grothaus', ['15-1131', 'Computer Programmers', 'Computer Programmer']]\n",
        "5152"
       ]
      },
      {
       "output_type": "stream",
       "stream": "stdout",
       "text": [
        " ['technical services representative', 'Gabriel Lyon', False]\n",
        "5155 ['packaging consultant', 'George Schroeder', False]\n",
        "5154 ['food editor', 'Ann Burger', False]\n",
        "5157 ['lawyer', 'Larry Goldberg', ['23-1011', 'Lawyers', 'Lawyer']]\n",
        "5156 ['substitute teacher', 'Lorraine Cruz', ['MiscTeacher', 'Teacher', 'Teacher']]\n",
        "115"
       ]
      },
      {
       "output_type": "stream",
       "stream": "stdout",
       "text": [
        " ['price protection manager', 'Sanda Kurtz', False]\n",
        "114 ['IT consultant', 'Philip Graves', False]\n",
        "117 ['physician', 'Kathi Fry', False]\n",
        "116 ['online high school teacher', 'Andrew Smith', ['MiscTeacher', 'Teacher', 'Teacher']]\n",
        "111 ['editor', 'Dan Ford', False]\n",
        "110"
       ]
      },
      {
       "output_type": "stream",
       "stream": "stdout",
       "text": [
        " ['sophomore at Dickinson College', 'Rachel McCool', False]\n",
        "113 ['illustrations coordinator', 'Whitney Donaghy', False]\n",
        "112 ['research associate', 'Lisa Buckhout', False]\n",
        "3244"
       ]
      },
      {
       "output_type": "stream",
       "stream": "stdout",
       "text": [
        " ['ecologist', 'Sharon Morgan', False]\n",
        "119 ['college student', 'David Hankins', False]\n",
        "118 ['theater director and stay-at-home dad', 'Rob Kimbro', False]\n",
        "8932 ['public relations officer', 'Kathleen Shilkret', ['27-3031', 'Public Relations Specialists', 'Public Relations Officer']]\n",
        "7272 ['graduate student of English', 'Paul Cheng', ['GradStu', 'Graduate student', 'Graduate student']]\n",
        "7273"
       ]
      },
      {
       "output_type": "stream",
       "stream": "stdout",
       "text": [
        " ['adult education director', 'Ellen Dickens', False]\n",
        "7270 ['sculptor and writer', 'Ted Sitting Crow Garner', False]\n",
        "7271 ['assistant dean of student affairs', 'Jennifer Carlo', False]\n",
        "7276"
       ]
      },
      {
       "output_type": "stream",
       "stream": "stdout",
       "text": [
        " ['creative project manager', 'Amanda Wallwin', False]\n",
        "7277 ['British literature lecturer and lacrosse coach', 'J.D. Lopez', False]\n",
        "7274"
       ]
      },
      {
       "output_type": "stream",
       "stream": "stdout",
       "text": [
        " ['pub trivia editor', 'Christopher Short', False]\n",
        "7275 ['law clerk', 'Mark Samburg', False]\n",
        "7278 ['library worker', 'Tom Moosbrugger', False]\n",
        "7279 ['realtor', 'Ko Otaka', False]\n",
        "8551"
       ]
      },
      {
       "output_type": "stream",
       "stream": "stdout",
       "text": [
        " ['attorney and a businessman', 'Mark Leinwand', False]\n",
        "8556 ['housewife and part-time teacher', 'Norma Walch', ['MiscTeacher', 'Teacher', 'Teacher']]\n",
        "8557 ['sales manager', 'John Schroth', False]\n",
        "6833 ['stay-at-home dad', 'Stephen Weingarten', False]\n",
        "6832"
       ]
      },
      {
       "output_type": "stream",
       "stream": "stdout",
       "text": [
        " ['biology student', 'Nick Yozamp', False]\n",
        "6831 ['high school science teacher', 'Andy Srinivasan', ['MiscTeacher', 'Teacher', 'Teacher']]\n",
        "6830 ['arts teacher', 'Regina Robbins', ['MiscTeacher', 'Teacher', 'Teacher']]\n",
        "6837 ['Air Force intelligence officer', 'Joey Beachum', False]\n",
        "6836 ['lobbyist', 'Justin Bernbach', ['27-3031', 'Public Relations Specialists', 'Lobbyist']]\n",
        "6835 ['photographer and attorney', 'Christine Valada', False]\n",
        "6834"
       ]
      },
      {
       "output_type": "stream",
       "stream": "stdout",
       "text": [
        " ['bookseller', 'Terry Linwood', False]\n",
        "6839 ['video game tester', 'Stefan Goodreau', False]\n",
        "6838 ['engine assembler', 'Jason Zollinger', False]\n",
        "8005 ['Internet marketer', 'Erik Dresner', False]\n",
        "8558"
       ]
      },
      {
       "output_type": "stream",
       "stream": "stdout",
       "text": [
        " ['student', 'Ron Marriott', False]\n",
        "8559 ['archivist', 'Ken Dasher', ['25-4011', 'Archivists', 'Archivist']]\n",
        "8822 ['law student', 'Jon Choi', False]\n",
        "8823 ['computer technician', 'Greg Munda', False]\n",
        "8820"
       ]
      },
      {
       "output_type": "stream",
       "stream": "stdout",
       "text": [
        " ['law student', 'Jenna Johnson', False]\n",
        "8821 ['retired high-school English teacher', 'Mary Gildea', ['MiscTeacher', 'Teacher', 'Teacher']]\n",
        "8826 ['professional volunteer', 'Roxann Smith', False]\n",
        "8827 ['law professor', 'Anthony Niblett', False]\n",
        "8824 ['actuary', 'Larry White', False]\n",
        "8825"
       ]
      },
      {
       "output_type": "stream",
       "stream": "stdout",
       "text": [
        " ['youth minister', 'Kristina Lukach', False]\n",
        "8828 ['navy wife and stay-at-home mom', 'Missy Flood', False]\n",
        "8003 ['retail sales associate', 'Sara Lehmann', False]\n",
        "8778 ['math teacher', 'John Pearson', ['MiscTeacher', 'Teacher', 'Teacher']]\n",
        "8779 ['history teacher', 'Maryanne Lewell', ['MiscTeacher', 'Teacher', 'Teacher']]\n",
        "8772 ['reading teacher', 'Kati Sorenson', ['MiscTeacher', 'Teacher', 'Teacher']]\n",
        "8773 ['social studies teacher', 'Mary Beth Hammerstrom', ['MiscTeacher', 'Teacher', 'Teacher']]\n",
        "8770 ['fifth-grade teacher', 'Katie Moriarty', ['MiscTeacher', 'Teacher', 'Teacher']]\n",
        "8771 ['kindergarten teacher', 'Anne Baxter', ['MiscTeacher', 'Teacher', 'Teacher']]\n",
        "8776 ['physics teacher', 'James Brown', ['MiscTeacher', 'Teacher', 'Teacher']]\n",
        "8777 ['history teacher', 'Eli Barrieau', ['MiscTeacher', 'Teacher', 'Teacher']]\n",
        "8774 ['music teacher', 'Patrick Dillon', ['MiscTeacher', 'Teacher', 'Teacher']]\n",
        "8775 ['English literature and composition teacher', 'Karen Cafaro', ['MiscTeacher', 'Teacher', 'Teacher']]\n",
        "7643"
       ]
      },
      {
       "output_type": "stream",
       "stream": "stdout",
       "text": [
        " ['military charter flight attendant', 'Bryan Barnett', False]\n",
        "7642 ['librarian', 'Jennifer Osorio', False]\n",
        "7641 ['hockey arena announcer', 'Sean Norris', False]\n",
        "7640"
       ]
      },
      {
       "output_type": "stream",
       "stream": "stdout",
       "text": [
        " ['law clerk for a federal judge', 'Julie Podlesni', False]\n",
        "7647 ['professor of media studies', 'Cindy Conaway', False]\n",
        "7646 ['pre-law program director and attorney', 'Preston Nicholson', False]\n",
        "7645"
       ]
      },
      {
       "output_type": "stream",
       "stream": "stdout",
       "text": [
        " ['college soccer coach', 'Katy Stigers', False]\n",
        "7644 ['strategy consultant', 'Vinayak Thiagarajan', False]\n",
        "7649 [\"men's clothing sales associate\", 'Mike Hatch', False]\n",
        "7648"
       ]
      },
      {
       "output_type": "stream",
       "stream": "stdout",
       "text": [
        " ['actor and Phillie Phanstormer', 'Brandon Libby', False]\n",
        "9014 ['senior managing editor', 'Michelle Leppert', False]\n",
        "9015 ['director of compensation', 'Ed Hagar', False]\n",
        "9016"
       ]
      },
      {
       "output_type": "stream",
       "stream": "stdout",
       "text": [
        " ['translation coordinator', 'Sandie Baker', False]\n",
        "9017 ['high-school campus director', 'Jonathan Kuehnle', False]\n",
        "1748 ['law student', 'Michael Plank', False]\n",
        "1749 ['mechanical engineer', 'Ross Winnick', ['17-2141', 'Mechanical Engineers', 'Mechanical Engineer']]\n",
        "1744"
       ]
      },
      {
       "output_type": "stream",
       "stream": "stdout",
       "text": [
        " ['project manager', 'Rick Bunch', False]\n",
        "1487 ['professor', 'Sheri Gravett', False]\n",
        "1746 ['teacher', 'Lars Jacobsen', ['MiscTeacher', 'Teacher', 'Teacher']]\n",
        "1747 ['choir accompanist', 'Katie Clark', False]\n",
        "1740"
       ]
      },
      {
       "output_type": "stream",
       "stream": "stdout",
       "text": [
        " ['attorney & fundraiser', 'Gene Wurth', False]\n",
        "1741 ['biochemist', 'Ed Angleton', ['19-1021', 'Biochemists and Biophysicists', 'Biochemist']]\n",
        "1742 ['contract coordinator', 'Jessica Liese', False]\n",
        "1486 ['conservationist', 'Girish Bhat', False]\n",
        "7926 ['psychiatrist', 'Gary Sales', ['29-1066', 'Psychiatrists', 'Psychiatrist']]\n",
        "3308 ['special education teacher', 'Ruben Mancillas', ['MiscTeacher', 'Teacher', 'Teacher']]\n",
        "7927"
       ]
      },
      {
       "output_type": "stream",
       "stream": "stdout",
       "text": [
        " ['attorney', 'Michael Willoughby', ['23-1011', 'Lawyers', 'Attorney']]\n",
        "3309 ['pastry chef', 'Brigid Callinan', ['35-1011', 'Chefs and Head Cooks', 'Pastry Chef']]\n",
        "7924 ['graduate student in economic policy', 'Matt Collins', ['GradStu', 'Graduate student', 'Graduate student']]\n",
        "5494 ['musician', 'Ryan Thrasher', ['27-2042', 'Musicians and Singers', 'Musician']]\n",
        "7925 ['attorney', 'Blythe Rodgers', ['23-1011', 'Lawyers', 'Attorney']]\n",
        "5495 ['association vice president', 'Lynn Olson', False]\n",
        "7922 ['househusband and grad student', 'Jim Tucker', False]\n",
        "1489"
       ]
      },
      {
       "output_type": "stream",
       "stream": "stdout",
       "text": [
        " ['transcriber', 'Amanda Pompili', False]\n",
        "7923 ['word processor', 'Phil Yellman', ['43-9022', 'Word Processors and Typists', 'Word Processor']]\n",
        "1488 ['caterer', 'John Stratford', False]\n",
        "7920 ['retired software developer', 'Liza Veeneman', False]\n",
        "5490"
       ]
      },
      {
       "output_type": "stream",
       "stream": "stdout",
       "text": [
        " ['psychologist', 'Marcia Hochberg', False]\n",
        "7921 ['social worker', 'Ina Gail Goldberg', False]\n",
        "5491 ['telecommunications manager', 'David Blakely', False]\n",
        "1568 ['public affairs director', 'Dan Dean', ['11-2031', 'Public Relations and Fundraising Managers', 'Public Affairs Director']]\n",
        "1569"
       ]
      },
      {
       "output_type": "stream",
       "stream": "stdout",
       "text": [
        " ['communications manager', 'Diane Tabbott', False]\n",
        "1298 ['reference assistant', 'Pat Godwin', False]\n",
        "1299 ['attorney', 'Robert J. Lee', ['23-1011', 'Lawyers', 'Attorney']]\n",
        "5492 ['payroll administrator', 'Steffa Burke', False]\n",
        "1292"
       ]
      },
      {
       "output_type": "stream",
       "stream": "stdout",
       "text": [
        " ['law student', 'Chuck Forrest', False]\n",
        "1293 ['actor', 'Paul Rouffa', False]\n",
        "1290 ['Ph.D. student', 'Beth Chalecki', False]\n",
        "5493 ['professor', 'David Weiss', False]\n",
        "1296 ['technical writer', 'Aimee Serafini', ['27-3042', 'Technical Writers', 'Technical Writer']]\n",
        "1297"
       ]
      },
      {
       "output_type": "stream",
       "stream": "stdout",
       "text": [
        " ['physician', 'Damon Raskin', False]\n",
        "1294 ['database administrator', 'Wendy Stancer', False]\n",
        "1295 ['investment specialist', 'Ben Davis', False]\n",
        "7462"
       ]
      },
      {
       "output_type": "stream",
       "stream": "stdout",
       "text": [
        " ['psychologist', 'Steve Burns', False]\n",
        "5026 ['tour guide', 'Sujit Roy', False]\n",
        "7460 ['parole officer', 'Richard Lyle', ['21-1092', 'Probation Officers and Correctional Treatment Specialists', 'Parole Officer']]\n",
        "5638 ['sales manager', 'John Franklin', False]\n",
        "5639"
       ]
      },
      {
       "output_type": "stream",
       "stream": "stdout",
       "text": [
        " ['English professor', 'Barbara Liu', False]\n",
        "5634 ['administrative coordinator', 'Layla Anson', False]\n",
        "5635 ['senior clinical data coordinator', 'Amanda Potocky', False]\n",
        "5636"
       ]
      },
      {
       "output_type": "stream",
       "stream": "stdout",
       "text": [
        " ['campaign staffer', 'Rob Eingurt', False]\n",
        "5637 ['talent agent', 'Courtney Hanlon', ['13-1011', 'Agents and Business Managers of Artists, Performers, and Athletes', 'Talent Agent']]\n",
        "5630 ['director of employment services', 'Heather Hunter Smith', False]\n",
        "5631 ['environmental scientist', 'Karen Turay', ['19-2041', 'Environmental Scientists and Specialists, Including Health', 'Environmental Scientist']]\n",
        "5632 ['video editor', 'David Dayen', False]\n",
        "5633"
       ]
      },
      {
       "output_type": "stream",
       "stream": "stdout",
       "text": [
        " ['pre-med student', 'Amir Marouni', False]\n",
        "8480 ['law student', 'Caitlin Peruccio', False]\n",
        "8481 ['Ph.D. candidate in finance', 'Tom Hanson', False]\n",
        "8482"
       ]
      },
      {
       "output_type": "stream",
       "stream": "stdout",
       "text": [
        " ['data analyst', 'Judy Cole', False]\n",
        "8483 ['attorney', 'Ben Christenson', ['23-1011', 'Lawyers', 'Attorney']]\n",
        "8484 ['musician and singer of classic American showtunes and love songs', 'Michael Feinstein', False]\n",
        "8485"
       ]
      },
      {
       "output_type": "stream",
       "stream": "stdout",
       "text": [
        " ['winner of a CableACE award and star of her own TV show', 'Paula Poundstone', False]\n",
        "8486 [\"television's favorite pychiatrist, Dr. Frasier Crane\", 'Kelsey Grammer', False]\n",
        "8487"
       ]
      },
      {
       "output_type": "stream",
       "stream": "stdout",
       "text": [
        " ['Emmy award winner', 'Jay Thomas', False]\n",
        "8488 ['news reporter and anchor', 'Tabitha Soren', False]\n",
        "8489 ['Tony award winner and TV star', 'Jerry Orbach', False]\n",
        "7464"
       ]
      },
      {
       "output_type": "stream",
       "stream": "stdout",
       "text": [
        " ['freelance writer', 'Jack Lechner', False]\n",
        "falses seen 6553 out of 9112 yielding 71% failure\n"
       ]
      }
     ],
     "prompt_number": 10
    },
    {
     "cell_type": "code",
     "collapsed": false,
     "input": [
      "\n",
      "\n",
      "\n",
      "\n",
      "\n",
      "#fails =  listfailures(playerdict)\n",
      "\n",
      "from pprint import pprint\n",
      "#pprint(fails)\n",
      "\n",
      "# print printdict(fails)\n",
      "            "
     ],
     "language": "python",
     "metadata": {},
     "outputs": [
      {
       "output_type": "stream",
       "stream": "stdout",
       "text": [
        "falses seen 7195 out of 9112 yielding 78% failure\n"
       ]
      }
     ],
     "prompt_number": 8
    },
    {
     "cell_type": "code",
     "collapsed": false,
     "input": [
      "# Code to produce a list of tallied occupations\n",
      "\n",
      "#onlyoccs= filterdict(playerdict)\n",
      "# print finduniqueoccs(onlyoccs)\n",
      "\n",
      "# for key, value in findmorethan(finduniqueoccs(onlyoccs),3).iteritems():\n",
      "#     print key, value"
     ],
     "language": "python",
     "metadata": {},
     "outputs": [],
     "prompt_number": 9
    },
    {
     "cell_type": "code",
     "collapsed": false,
     "input": [
      "# Part 3: prepare the dictionary for output\n",
      "# Run playerdict through the output prep function\n",
      "\n",
      "headers = ['PlayerID','Occupation','Name','MatchedSocCode','MatchedSocCore','MatchedSocTitle']\n",
      "dictforprinting = prettyprintdict(playerdict,headers)\n",
      "#print dictforprinting"
     ],
     "language": "python",
     "metadata": {},
     "outputs": [],
     "prompt_number": 11
    },
    {
     "cell_type": "code",
     "collapsed": false,
     "input": [
      "# Part 4: Write the processed playerdict to a csv\n",
      "with open('playerout.csv','w') as f:\n",
      "    f_csv = csv.DictWriter(f,headers)\n",
      "    f_csv.writeheader()\n",
      "    f_csv.writerows(dictforprinting)"
     ],
     "language": "python",
     "metadata": {},
     "outputs": [],
     "prompt_number": 12
    },
    {
     "cell_type": "code",
     "collapsed": false,
     "input": [
      "print \"foo\""
     ],
     "language": "python",
     "metadata": {},
     "outputs": [
      {
       "output_type": "stream",
       "stream": "stdout",
       "text": [
        "foo\n"
       ]
      }
     ],
     "prompt_number": 13
    },
    {
     "cell_type": "code",
     "collapsed": false,
     "input": [],
     "language": "python",
     "metadata": {},
     "outputs": []
    }
   ],
   "metadata": {}
  }
 ]
}