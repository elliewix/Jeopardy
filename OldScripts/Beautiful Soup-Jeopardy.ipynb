{
 "metadata": {
  "name": ""
 },
 "nbformat": 3,
 "nbformat_minor": 0,
 "worksheets": [
  {
   "cells": [
    {
     "cell_type": "code",
     "collapsed": false,
     "input": [
      "\n",
      "import pandas as pd\n",
      "%pylab"
     ],
     "language": "python",
     "metadata": {},
     "outputs": [
      {
       "output_type": "stream",
       "stream": "stdout",
       "text": [
        "Using matplotlib backend: WXAgg\n",
        "Populating the interactive namespace from numpy and matplotlib\n"
       ]
      }
     ],
     "prompt_number": 15
    },
    {
     "cell_type": "code",
     "collapsed": false,
     "input": [],
     "language": "python",
     "metadata": {},
     "outputs": [],
     "prompt_number": 226
    },
    {
     "cell_type": "code",
     "collapsed": false,
     "input": [],
     "language": "python",
     "metadata": {},
     "outputs": [],
     "prompt_number": 227
    },
    {
     "cell_type": "code",
     "collapsed": false,
     "input": [],
     "language": "python",
     "metadata": {},
     "outputs": [],
     "prompt_number": 245
    },
    {
     "cell_type": "code",
     "collapsed": false,
     "input": [
      "from bs4 import BeautifulSoup\n",
      "import re\n",
      "####first construct the raw results\n",
      "\n",
      "#filename = 'player301.txt'\n",
      "\n",
      "#with open(filename) as player:\n",
      "#    soup = BeautifulSoup(player) #pass the text to beautiful soup\n",
      "    \n",
      "#results = [] #declare empty results list\n",
      "\n",
      "\n",
      "\n",
      "\n",
      "def pruneresults(results):\n",
      "    \"\"\"this function will clean the junk out of the results\"\"\"\n",
      "    prunedresults = []\n",
      "    for each in results:\n",
      "        if each.find('appear') >=0:\n",
      "            continue\n",
      "        else:  prunedresults.append(each)\n",
      "    prunedresults.pop(0)\n",
      "    return prunedresults\n",
      "\n",
      "def makearray(list,max):\n",
      "    \"\"\"turns a 1d list into a 3d list, with lengths of max\"\"\"\n",
      "    newlist = [] #declare empty main list\n",
      "    templist = [] #declare empty temp list to make groups\n",
      "    for each in list:\n",
      "        templist.append(each) #add item to templist\n",
      "        if len(templist) == max: # check to see if the templist is at the max\n",
      "            newlist.append(templist) #plug the templist into the main list if it is full RE: max\n",
      "            templist = [] # clear out the temp list after plugging it into the main list\n",
      "    if templist <> []: # check for leftovers\n",
      "        newlist.append(templist) #if the final templist is non empty it should be added\n",
      "    return newlist\n",
      "\n",
      "def cleanedresults(results,max):\n",
      "    clean = makearray(pruneresults(results),max)\n",
      "    cleanarray = []\n",
      "    for each in clean:\n",
      "        if each[0].find('aired') >= 0: #checks for junk groups from results\n",
      "            #these junk items are usually the summary info and not an actual game\n",
      "            cleanarray.append(each)\n",
      "        else: continue\n",
      "    return cleanarray\n",
      "\n",
      "def split_game_date(cleanlist):\n",
      "    \"\"\"this splits the first element out, finding the game and the date of the game\"\"\"\n",
      "    import re\n",
      "    for each in cleanlist:\n",
      "        topphrase = each[0].encode('utf-8')\n",
      "        gameanddate = re.compile(u'\\d+-\\d+-\\d+|\\d+')\n",
      "        gameid, date = re.findall(gameanddate,topphrase) #first result will be game id, and second the date\n",
      "        if not topphrase.startswith('#'):\n",
      "            #I CANNOT get the damn unicode characters stripped out\n",
      "            if topphrase.startswith('Super'):\n",
      "                gameid = \"sj\"+ gameid\n",
      "            elif tophrase.startswith('Trebek'):\n",
      "                gameid = \"pilot\" + gameid\n",
      "            else:\n",
      "                gameid = \"dunno\" + gameid\n",
      "        #because I can't freaking figure out to split a single element into two elegantly, I shall proceed to thwack it with a fish.\n",
      "        each[0]=gameid #just change the first element to be the game id\n",
      "        each.insert(1,date) #insert the date in as a new element in position 1\n",
      "    return cleanlist\n",
      "\n",
      "def create_dicts(listofgames):\n",
      "    player = {}\n",
      "    newdict = {}\n",
      "    \n",
      "    for each in listofgames:\n",
      "        newdict[each[0]] = each\n",
      "    player[filenumber] = newdict\n",
      "    return player\n",
      "\n",
      "#final = split_game_date(cleanedresults(results,14))\n",
      "\n"
     ],
     "language": "python",
     "metadata": {},
     "outputs": [],
     "prompt_number": 8
    },
    {
     "cell_type": "code",
     "collapsed": false,
     "input": [
      "finals = {}\n",
      "\n",
      "for i in range(8000,8010):\n",
      "    filename = 'player'+str(i)+'.txt'\n",
      "    filenumber = str(re.findall(r'\\d+',filename)[0])\n",
      "    results = [] #declare empty results list\n",
      "    with open(filename) as player:\n",
      "        soup = BeautifulSoup(player) #pass the text to beautiful soup\n",
      "        for result in soup.find_all('td'):\n",
      "            results.append(result.text) #this spits out all the text values within the table. in theory.\n",
      "    finals.update(create_dicts(split_game_date(cleanedresults(results,14))))"
     ],
     "language": "python",
     "metadata": {},
     "outputs": [],
     "prompt_number": 9
    },
    {
     "cell_type": "code",
     "collapsed": false,
     "input": [
      "for each in finals:\n",
      "    print each, finals[each]"
     ],
     "language": "python",
     "metadata": {},
     "outputs": [
      {
       "output_type": "stream",
       "stream": "stdout",
       "text": [
        "8008 {'6450': ['6450', '2012-10-05', u'$1,800', u'$5,800', u'$4,463', u'$5,800', u'9', u'1', u'1', u'0/0', u'$0', u'W', u'-$1,337', u'.155', u'.635'], '6449': ['6449', '2012-10-04', u'$5,600', u'$8,800', u'$11,201', u'$8,800', u'16', u'3', u'1', u'1/1', u'$1,600', u'R', u'$2,401', u'.288', u'.635']}\n",
        "8009 {'6450': ['6450', '2012-10-05', u'$2,400', u'$5,600', u'$600', u'$5,400', u'9', u'2', u'0', u'1/1', u'$1,000', u'W', u'-$5,000', u'.153', u'.635']}\n",
        "8004 {'6447': ['6447', '2012-10-02', u'$1,800', u'$2,200', u'$1', u'$2,200', u'11', u'5', u'1', u'0/0', u'$0', u'W', u'-$2,199', u'.190', u'.794']}\n",
        "8005 {'6448': ['6448', '2012-10-03', u'$4,600', u'$12,200', u'$22,401', u'$11,000', u'19', u'4', u'2', u'1/1', u'$3,200', u'R', u'$10,201', u'.339', u'.841'], '6449': ['6449', '2012-10-04', u'$1,600', u'$2,000', u'$4,000', u'$4,400', u'12', u'2', u'2', u'0/1', u'-$2,400', u'R', u'$2,000', u'.220', u'.635']}\n",
        "8006 {'6448': ['6448', '2012-10-03', u'$4,000', u'$11,200', u'$1,200', u'$8,400', u'15', u'1', u'2', u'1/1', u'$4,000', u'W', u'-$10,000', u'.254', u'.841']}\n",
        "8007 {'6449': ['6449', '2012-10-04', u'$0', u'$5,600', u'$8,800', u'$7,600', u'9', u'4', u'1', u'0/1', u'-$2,000', u'R', u'$3,200', u'.169', u'.635']}\n",
        "8000 {'6445': ['6445', '2012-09-28', u'$3,800', u'$11,400', u'$16,599', u'$11,400', u'15', u'0', u'1', u'0/0', u'$0', u'R', u'$5,199', u'.276', u'.841']}\n",
        "8001 {'6446': ['6446', '2012-10-01', u'$3,400', u'$13,800', u'$8,000', u'$11,400', u'16', u'2', u'0', u'2/2', u'$4,400', u'W', u'-$5,800', u'.267', u'.810']}\n",
        "8002 {'6446': ['6446', '2012-10-01', u'$2,600', u'$14,600', u'$24,600', u'$14,200', u'13', u'0', u'1', u'1/1', u'$2,000', u'R', u'$10,000', u'.237', u'.810'], '6447': ['6447', '2012-10-02', u'$2,800', u'$7,200', u'$14,400', u'$7,800', u'14', u'3', u'2', u'0/1', u'-$600', u'R', u'$7,200', u'.254', u'.794']}\n",
        "8003 {'6447': ['6447', '2012-10-02', u'$5,000', u'$29,800', u'$24,800', u'$23,800', u'24', u'1', u'1', u'2/2', u'$10,000', u'W', u'-$5,000', u'.400', u'.794'], '6448': ['6448', '2012-10-03', u'$12,000', u'$17,600', u'$12,000', u'$12,600', u'18', u'5', u'1', u'1/1', u'$6,000', u'W', u'-$5,600', u'.305', u'.841']}\n"
       ]
      }
     ],
     "prompt_number": 10
    },
    {
     "cell_type": "code",
     "collapsed": false,
     "input": [
      "%pylab"
     ],
     "language": "python",
     "metadata": {},
     "outputs": [
      {
       "output_type": "stream",
       "stream": "stdout",
       "text": [
        "Using matplotlib backend: WXAgg\n",
        "Populating the interactive namespace from numpy and matplotlib\n"
       ]
      }
     ],
     "prompt_number": 11
    },
    {
     "cell_type": "code",
     "collapsed": false,
     "input": [
      "import pandas as pd"
     ],
     "language": "python",
     "metadata": {},
     "outputs": [],
     "prompt_number": 12
    },
    {
     "cell_type": "code",
     "collapsed": false,
     "input": [
      "from pandas import Series, DataFrame"
     ],
     "language": "python",
     "metadata": {},
     "outputs": [],
     "prompt_number": 13
    },
    {
     "cell_type": "code",
     "collapsed": false,
     "input": [
      "playersframe = DataFrame(finals)"
     ],
     "language": "python",
     "metadata": {},
     "outputs": [],
     "prompt_number": 14
    },
    {
     "cell_type": "code",
     "collapsed": false,
     "input": [
      "playersframe"
     ],
     "language": "python",
     "metadata": {},
     "outputs": [
      {
       "html": [
        "<pre>\n",
        "&ltclass 'pandas.core.frame.DataFrame'&gt\n",
        "Index: 6 entries, 6445 to 6450\n",
        "Data columns (total 10 columns):\n",
        "8000    1  non-null values\n",
        "8001    1  non-null values\n",
        "8002    2  non-null values\n",
        "8003    2  non-null values\n",
        "8004    1  non-null values\n",
        "8005    2  non-null values\n",
        "8006    1  non-null values\n",
        "8007    1  non-null values\n",
        "8008    2  non-null values\n",
        "8009    1  non-null values\n",
        "dtypes: object(10)\n",
        "</pre>"
       ],
       "metadata": {},
       "output_type": "pyout",
       "prompt_number": 15,
       "text": [
        "                                                   8000  \\\n",
        "6445  [6445, 2012-09-28, $3,800, $11,400, $16,599, $...   \n",
        "6446                                                NaN   \n",
        "6447                                                NaN   \n",
        "6448                                                NaN   \n",
        "6449                                                NaN   \n",
        "6450                                                NaN   \n",
        "\n",
        "                                                   8001  \\\n",
        "6445                                                NaN   \n",
        "6446  [6446, 2012-10-01, $3,400, $13,800, $8,000, $1...   \n",
        "6447                                                NaN   \n",
        "6448                                                NaN   \n",
        "6449                                                NaN   \n",
        "6450                                                NaN   \n",
        "\n",
        "                                                   8002  \\\n",
        "6445                                                NaN   \n",
        "6446  [6446, 2012-10-01, $2,600, $14,600, $24,600, $...   \n",
        "6447  [6447, 2012-10-02, $2,800, $7,200, $14,400, $7...   \n",
        "6448                                                NaN   \n",
        "6449                                                NaN   \n",
        "6450                                                NaN   \n",
        "\n",
        "                                                   8003  \\\n",
        "6445                                                NaN   \n",
        "6446                                                NaN   \n",
        "6447  [6447, 2012-10-02, $5,000, $29,800, $24,800, $...   \n",
        "6448  [6448, 2012-10-03, $12,000, $17,600, $12,000, ...   \n",
        "6449                                                NaN   \n",
        "6450                                                NaN   \n",
        "\n",
        "                                                   8004  \\\n",
        "6445                                                NaN   \n",
        "6446                                                NaN   \n",
        "6447  [6447, 2012-10-02, $1,800, $2,200, $1, $2,200,...   \n",
        "6448                                                NaN   \n",
        "6449                                                NaN   \n",
        "6450                                                NaN   \n",
        "\n",
        "                                                   8005  \\\n",
        "6445                                                NaN   \n",
        "6446                                                NaN   \n",
        "6447                                                NaN   \n",
        "6448  [6448, 2012-10-03, $4,600, $12,200, $22,401, $...   \n",
        "6449  [6449, 2012-10-04, $1,600, $2,000, $4,000, $4,...   \n",
        "6450                                                NaN   \n",
        "\n",
        "                                                   8006  \\\n",
        "6445                                                NaN   \n",
        "6446                                                NaN   \n",
        "6447                                                NaN   \n",
        "6448  [6448, 2012-10-03, $4,000, $11,200, $1,200, $8...   \n",
        "6449                                                NaN   \n",
        "6450                                                NaN   \n",
        "\n",
        "                                                   8007  \\\n",
        "6445                                                NaN   \n",
        "6446                                                NaN   \n",
        "6447                                                NaN   \n",
        "6448                                                NaN   \n",
        "6449  [6449, 2012-10-04, $0, $5,600, $8,800, $7,600,...   \n",
        "6450                                                NaN   \n",
        "\n",
        "                                                   8008  \\\n",
        "6445                                                NaN   \n",
        "6446                                                NaN   \n",
        "6447                                                NaN   \n",
        "6448                                                NaN   \n",
        "6449  [6449, 2012-10-04, $5,600, $8,800, $11,201, $8...   \n",
        "6450  [6450, 2012-10-05, $1,800, $5,800, $4,463, $5,...   \n",
        "\n",
        "                                                   8009  \n",
        "6445                                                NaN  \n",
        "6446                                                NaN  \n",
        "6447                                                NaN  \n",
        "6448                                                NaN  \n",
        "6449                                                NaN  \n",
        "6450  [6450, 2012-10-05, $2,400, $5,600, $600, $5,40...  "
       ]
      }
     ],
     "prompt_number": 15
    },
    {
     "cell_type": "code",
     "collapsed": false,
     "input": [
      "playersframe.T"
     ],
     "language": "python",
     "metadata": {},
     "outputs": [
      {
       "html": [
        "<pre>\n",
        "&ltclass 'pandas.core.frame.DataFrame'&gt\n",
        "Index: 8687 entries, 1 to 999\n",
        "Columns: 2852 entries, 10 to sj9\n",
        "dtypes: object(2852)\n",
        "</pre>"
       ],
       "metadata": {},
       "output_type": "pyout",
       "prompt_number": 78,
       "text": [
        "<class 'pandas.core.frame.DataFrame'>\n",
        "Index: 8687 entries, 1 to 999\n",
        "Columns: 2852 entries, 10 to sj9\n",
        "dtypes: object(2852)"
       ]
      }
     ],
     "prompt_number": 78
    }
   ],
   "metadata": {}
  }
 ]
}