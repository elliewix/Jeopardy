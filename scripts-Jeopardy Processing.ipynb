{
 "metadata": {
  "name": "",
  "signature": "sha256:9d940c4d3e027beb1f0e5ce01acff693c7ddfc68f253bd954892e0b5b22f42c8"
 },
 "nbformat": 3,
 "nbformat_minor": 0,
 "worksheets": [
  {
   "cells": [
    {
     "cell_type": "code",
     "collapsed": false,
     "input": [
      "#various imports, etc.\n",
      "import re\n",
      "import csv\n",
      "from os import listdir\n",
      "from os.path import isfile, join"
     ],
     "language": "python",
     "metadata": {},
     "outputs": [],
     "prompt_number": 1
    },
    {
     "cell_type": "code",
     "collapsed": false,
     "input": [
      "#Opens the soccodes csv file and processes the rows into a list\n",
      "#Removes the last element of each row (not used for this project)\n",
      "soccodes = []\n",
      "with open('soccodes.csv','rU') as f:\n",
      "    f_csv = csv.reader(f)\n",
      "    headers = next(f_csv)\n",
      "    for row in f_csv:\n",
      "    \tsoccodes.append(row[:-1]) # killing off the last element in rows"
     ],
     "language": "python",
     "metadata": {},
     "outputs": [],
     "prompt_number": 2
    },
    {
     "cell_type": "code",
     "collapsed": false,
     "input": [
      "# Defining helper functions\n",
      "\n",
      "# pretty print a dictionary\n",
      "def printdict(dict):\n",
      "    for key, value in playerdict.iteritems():\n",
      "        print key, value"
     ],
     "language": "python",
     "metadata": {},
     "outputs": [],
     "prompt_number": 3
    },
    {
     "cell_type": "code",
     "collapsed": false,
     "input": [
      "# construct player dictionary\n",
      "\n",
      "#find all the file names\n",
      "mypath = 'players2/'\n",
      "players = [ f for f in listdir(mypath) if isfile(join(mypath,f)) and f[0] != '.' ]\n",
      "\n",
      "#compile name and occ regex patterns\n",
      "occupation = re.compile(r'<p class=\"player_occupation_and_origin\">(?:an? *)?(.+?)(?:originally\\s*)?from.+?</p>',re.IGNORECASE)\n",
      "occupationfailed = re.compile(r'<p class=\"player_occupation_and_origin\">(.+?)</p>',re.IGNORECASE)\n",
      "name = re.compile(r'<p class=\"player_full_name\">(.+?)</p>',re.IGNORECASE)\n",
      "\n",
      "#create empty dictionary\n",
      "playerdict = {}\n",
      "\n",
      "#loop through each of the files\n",
      "for each in players:\n",
      "    #find the player number in the file name\n",
      "    playernum = re.findall(r'[0-9]+',each)[0]\n",
      "    #read through the file\n",
      "    with open(\"players2/\" + each,'rb') as player:\n",
      "        player = player.readlines()\n",
      "        # read through the lines\n",
      "        for each in player:\n",
      "            if 'player_occupation_and_origin' in each:\n",
      "                # create empty player record in the dictionary\n",
      "                playerdict[playernum] = []\n",
      "                try:\n",
      "                    try:\n",
      "                        # if the elegant regex doesn't snag anything\n",
      "                        playerdict[playernum].append(re.findall(occupation,each)[0].strip())\n",
      "                    except:\n",
      "                        # just snag all the things\n",
      "                        playerdict[playernum].append(re.findall(occupationfailed,each)[0].strip())\n",
      "                    # name just snags all the things\n",
      "                    playerdict[playernum].append(re.findall(name,each)[0].strip())\n",
      "                except:\n",
      "                    # if either occupation occupationfailed fail, mark as failed\n",
      "                    playerdict[playernum].append('FAILED')\n",
      "                \n"
     ],
     "language": "python",
     "metadata": {},
     "outputs": [],
     "prompt_number": 60
    },
    {
     "cell_type": "code",
     "collapsed": false,
     "input": [
      "# changed from append to direct positional assignemnt\n",
      "\n",
      "#looping through dictionary\n",
      "for key, value in playerdict.iteritems():\n",
      "    found = False\n",
      "    for row in soccodes:\n",
      "        if value[0].lower() == row[2].lower():\n",
      "            playerdict[key].append(row)\n",
      "            found = True\n",
      "            continue\n",
      "    if found == False:\n",
      "        playerdict[key].append(False)"
     ],
     "language": "python",
     "metadata": {},
     "outputs": [],
     "prompt_number": 61
    },
    {
     "cell_type": "code",
     "collapsed": false,
     "input": [
      "#printdict(playerdict)"
     ],
     "language": "python",
     "metadata": {},
     "outputs": [],
     "prompt_number": 72
    },
    {
     "cell_type": "code",
     "collapsed": false,
     "input": [
      "def finduniqueoccs(dict):\n",
      "    uniques= {}\n",
      "    for key,value in dict.iteritems():\n",
      "        if value[0] in uniques:\n",
      "            uniques[value[0]] +=1\n",
      "        else:\n",
      "            uniques[value[0]] = 1\n",
      "    return uniques"
     ],
     "language": "python",
     "metadata": {},
     "outputs": [],
     "prompt_number": 63
    },
    {
     "cell_type": "code",
     "collapsed": false,
     "input": [
      "def filterdict(dict):\n",
      "    \"\"\"returns only players with occupation matches\"\"\"\n",
      "    clean = {}\n",
      "    for key, value in dict.iteritems():\n",
      "        if value[2] != False:\n",
      "            clean[key] = value\n",
      "    return clean"
     ],
     "language": "python",
     "metadata": {},
     "outputs": [],
     "prompt_number": 64
    },
    {
     "cell_type": "code",
     "collapsed": false,
     "input": [
      "print soccodes[:10]"
     ],
     "language": "python",
     "metadata": {},
     "outputs": [
      {
       "output_type": "stream",
       "stream": "stdout",
       "text": [
        "[['11-1011', 'Chief Executives', 'CEO'], ['11-1011', 'Chief Executives', 'Chief Executive Officer '], ['11-1011', 'Chief Executives', 'Chief Operating Officer '], ['11-1011', 'Chief Executives', 'Commissioner of Internal Revenue'], ['11-1011', 'Chief Executives', 'COO'], ['11-1011', 'Chief Executives', 'County Commissioner'], ['11-1011', 'Chief Executives', 'Government Service Executive'], ['11-1011', 'Chief Executives', 'Governor'], ['11-1011', 'Chief Executives', 'Mayor'], ['11-1021', 'General and Operations Managers', 'Department Store General Manager']]\n"
       ]
      }
     ],
     "prompt_number": 65
    },
    {
     "cell_type": "code",
     "collapsed": false,
     "input": [
      "onlyoccs= filterdict(playerdict)\n",
      "# print finduniqueoccs(onlyoccs)"
     ],
     "language": "python",
     "metadata": {},
     "outputs": [],
     "prompt_number": 66
    },
    {
     "cell_type": "code",
     "collapsed": false,
     "input": [
      "def findmorethan(dict,num):\n",
      "    newdict = {}\n",
      "    for key, value in dict.iteritems():\n",
      "        if value >= num:\n",
      "            newdict[key] = value\n",
      "        else:\n",
      "            continue\n",
      "    return newdict"
     ],
     "language": "python",
     "metadata": {},
     "outputs": [],
     "prompt_number": 67
    },
    {
     "cell_type": "code",
     "collapsed": false,
     "input": [
      "for key, value in findmorethan(finduniqueoccs(onlyoccs),3).iteritems():\n",
      "    pass #print key, value"
     ],
     "language": "python",
     "metadata": {},
     "outputs": [],
     "prompt_number": 68
    },
    {
     "cell_type": "code",
     "collapsed": false,
     "input": [
      "headers = ['PlayerID','Occupation','Name','MatchedSocCode','MatchedSocCore','MatchedSocTitle']\n",
      "def prettyprintdict(dict,headers):\n",
      "    # [{head:value, head:value}]\n",
      "    list = []\n",
      "    for key, value in dict.iteritems():\n",
      "        tempdict = {}\n",
      "        tempdict[headers[0]] = key\n",
      "        tempdict[headers[1]] = value[0]\n",
      "        tempdict[headers[2]] = value[1]\n",
      "        if value[2] == False:\n",
      "            tempdict[headers[3]] = False\n",
      "        else:\n",
      "            tempdict[headers[3]] = value[2][0]\n",
      "            tempdict[headers[4]] = value[2][1]\n",
      "            tempdict[headers[5]] = value[2][2]\n",
      "        list.append(tempdict)\n",
      "    return list"
     ],
     "language": "python",
     "metadata": {},
     "outputs": [],
     "prompt_number": 69
    },
    {
     "cell_type": "code",
     "collapsed": false,
     "input": [
      "dictforprinting = prettyprintdict(playerdict,headers)\n",
      "#print dictforprinting"
     ],
     "language": "python",
     "metadata": {},
     "outputs": [],
     "prompt_number": 73
    },
    {
     "cell_type": "code",
     "collapsed": false,
     "input": [
      "with open('playerout.csv','w') as f:\n",
      "    f_csv = csv.DictWriter(f,headers)\n",
      "    f_csv.writeheader()\n",
      "    f_csv.writerows(dictforprinting)"
     ],
     "language": "python",
     "metadata": {},
     "outputs": [],
     "prompt_number": 71
    },
    {
     "cell_type": "code",
     "collapsed": false,
     "input": [],
     "language": "python",
     "metadata": {},
     "outputs": []
    }
   ],
   "metadata": {}
  }
 ]
}